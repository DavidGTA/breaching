{
 "cells": [
  {
   "cell_type": "markdown",
   "id": "3ebef44a",
   "metadata": {},
   "source": [
    "# Breaching privacy"
   ]
  },
  {
   "cell_type": "markdown",
   "id": "a756fc5f",
   "metadata": {},
   "source": [
    "This notebook does the same job as the cmd-line tool `breach.py`, but also directly visualizes the user data and reconstruction"
   ]
  },
  {
   "cell_type": "code",
   "execution_count": 1,
   "id": "b850eabf",
   "metadata": {},
   "outputs": [],
   "source": [
    "import torch\n",
    "import hydra\n",
    "import copy\n",
    "import numpy as np\n",
    "from tqdm import tqdm\n",
    "import seaborn as sns\n",
    "import torch.nn as nn\n",
    "from omegaconf import OmegaConf, open_dict\n",
    "%load_ext autoreload\n",
    "%autoreload 2\n",
    "\n",
    "import breaching\n",
    "import logging, sys\n",
    "logging.basicConfig(level=logging.INFO, handlers=[logging.StreamHandler(sys.stdout)], format='%(message)s')\n",
    "logger = logging.getLogger()"
   ]
  },
  {
   "cell_type": "markdown",
   "id": "88d5e214",
   "metadata": {},
   "source": [
    "### Initialize cfg object and system setup:"
   ]
  },
  {
   "cell_type": "markdown",
   "id": "56bd663b",
   "metadata": {},
   "source": [
    "This will print out all configuration options. \n",
    "There are a lot of possible configurations, but there is usually no need to worry about most of these. Below, a few options are printed."
   ]
  },
  {
   "cell_type": "code",
   "execution_count": 2,
   "id": "a7dc3a48",
   "metadata": {},
   "outputs": [
    {
     "name": "stdout",
     "output_type": "stream",
     "text": [
      "Investigating use case single_imagenet with server type class_malicious_parameters.\n"
     ]
    },
    {
     "data": {
      "text/plain": [
       "{'device': device(type='cpu'), 'dtype': torch.float32}"
      ]
     },
     "execution_count": 2,
     "metadata": {},
     "output_type": "execute_result"
    }
   ],
   "source": [
    "with hydra.initialize(config_path=\"config\"):\n",
    "    cfg = hydra.compose(config_name='cfg', overrides=['attack=clsattack'])\n",
    "    cfg.case.server.name = 'class_malicious_parameters'\n",
    "    print(f'Investigating use case {cfg.case.name} with server type {cfg.case.server.name}.')\n",
    "          \n",
    "device = torch.device(f'cuda') if torch.cuda.is_available() else torch.device('cpu')\n",
    "torch.backends.cudnn.benchmark = cfg.case.impl.benchmark\n",
    "setup = dict(device=device, dtype=getattr(torch, cfg.case.impl.dtype))\n",
    "setup"
   ]
  },
  {
   "cell_type": "markdown",
   "id": "203c5fb1",
   "metadata": {},
   "source": [
    "### Modify config options here"
   ]
  },
  {
   "cell_type": "markdown",
   "id": "6e0764ef",
   "metadata": {},
   "source": [
    "You can use `.attribute` access to modify any of these configurations:"
   ]
  },
  {
   "cell_type": "code",
   "execution_count": 3,
   "id": "ac118ea0",
   "metadata": {},
   "outputs": [],
   "source": [
    "with open_dict(cfg):\n",
    "    cfg.case.data.partition = \"balanced\"\n",
    "    cfg.case.user.user_idx = 0\n",
    "    cfg.case.user.num_data_points = 1\n",
    "    cfg.case.model = 'resnet18'\n",
    "    cfg.case.server.model_state = 'trained'\n",
    "    cfg.case.user.provide_labels = True\n",
    "    cfg.case.user.provide_buffers = True\n",
    "    cfg.case.user.provide_num_data_points = True\n",
    "\n",
    "    cfg.attack.optim.max_iterations = 0"
   ]
  },
  {
   "cell_type": "markdown",
   "id": "76f64389",
   "metadata": {},
   "source": [
    "### Instantiate all parties"
   ]
  },
  {
   "cell_type": "code",
   "execution_count": 4,
   "id": "d3abd955",
   "metadata": {},
   "outputs": [
    {
     "name": "stdout",
     "output_type": "stream",
     "text": [
      "Model architecture resnet18 loaded with 11,380,173 parameters and 9,620 buffers.\n",
      "Overall this is a data ratio of      76:1 for target shape [1, 3, 224, 224] given that num_queries=1.\n",
      "User (of type UserSingleStep) with settings:\n",
      "    Number of data points: 1\n",
      "\n",
      "    Threat model:\n",
      "    User provides labels: True\n",
      "    User provides buffers: True\n",
      "    User provides number of data points: True\n",
      "\n",
      "    Data:\n",
      "    Dataset: ImageNetAnimals\n",
      "    user: 0\n",
      "    \n",
      "        \n",
      "Server (of type ClassParameterServer) with settings:\n",
      "    Threat model: Honest-but-curious\n",
      "    Number of planned queries: 1\n",
      "    Has external/public data: False\n",
      "\n",
      "    Model:\n",
      "        model specification: resnet18\n",
      "        model state: trained\n",
      "        public buffers: True\n",
      "\n",
      "    Secrets: {}\n",
      "    \n",
      "Attacker (of type OptimizationBasedAttacker) with settings:\n",
      "    Hyperparameter Template: invertinggradients\n",
      "\n",
      "    Objective: Cosine Similarity with scale=1.0 and task reg=0.0\n",
      "    Regularizers: Total Variation, scale=0.2. p=2 q=0.5. Color TV: double oppponents\n",
      "    Augmentations: \n",
      "\n",
      "    Optimization Setup:\n",
      "        optimizer: adam\n",
      "        signed: soft\n",
      "        step_size: 0.1\n",
      "        boxed: True\n",
      "        max_iterations: 0\n",
      "        step_size_decay: cosine-decay\n",
      "        langevin_noise: 0.0\n",
      "        warmup: 50\n",
      "        grad_clip: None\n",
      "        callback: 1000\n",
      "        \n"
     ]
    }
   ],
   "source": [
    "user, server, model, loss_fn = breaching.cases.construct_case(cfg.case, setup)\n",
    "attacker = breaching.attacks.prepare_attack(server.model, server.loss, cfg.attack, setup)\n",
    "breaching.utils.overview(server, user, attacker)"
   ]
  },
  {
   "cell_type": "code",
   "execution_count": 5,
   "id": "8c7273d4",
   "metadata": {},
   "outputs": [
    {
     "name": "stdout",
     "output_type": "stream",
     "text": [
      "User (of type UserSingleStep) with settings:\n",
      "    Number of data points: 1\n",
      "\n",
      "    Threat model:\n",
      "    User provides labels: True\n",
      "    User provides buffers: True\n",
      "    User provides number of data points: True\n",
      "\n",
      "    Data:\n",
      "    Dataset: ImageNetAnimals\n",
      "    user: 0\n",
      "    \n",
      "        \n",
      "Server (of type ClassParameterServer) with settings:\n",
      "    Threat model: Honest-but-curious\n",
      "    Number of planned queries: 1\n",
      "    Has external/public data: False\n",
      "\n",
      "    Model:\n",
      "        model specification: resnet18\n",
      "        model state: trained\n",
      "        public buffers: True\n",
      "\n",
      "    Secrets: {}\n",
      "    \n",
      "Attacker (of type OptimizationBasedAttacker) with settings:\n",
      "    Hyperparameter Template: invertinggradients\n",
      "\n",
      "    Objective: Cosine Similarity with scale=1.0 and task reg=0.0\n",
      "    Regularizers: Total Variation, scale=0.2. p=2 q=0.5. Color TV: double oppponents\n",
      "    Augmentations: \n",
      "\n",
      "    Optimization Setup:\n",
      "        optimizer: adam\n",
      "        signed: soft\n",
      "        step_size: 0.1\n",
      "        boxed: True\n",
      "        max_iterations: 0\n",
      "        step_size_decay: cosine-decay\n",
      "        langevin_noise: 0.0\n",
      "        warmup: 50\n",
      "        grad_clip: None\n",
      "        callback: 1000\n",
      "        \n"
     ]
    }
   ],
   "source": [
    "print(user)\n",
    "print(server)\n",
    "print(attacker)"
   ]
  },
  {
   "cell_type": "markdown",
   "id": "548c0ad6",
   "metadata": {},
   "source": [
    "### Simulate an attacked FL protocol"
   ]
  },
  {
   "cell_type": "markdown",
   "id": "2058bcc2",
   "metadata": {},
   "source": [
    "True user data is returned only for analysis"
   ]
  },
  {
   "cell_type": "code",
   "execution_count": 6,
   "id": "db5fd444",
   "metadata": {},
   "outputs": [],
   "source": [
    "# modify the model to catch the class we want\n",
    "which_to_recover = 0\n",
    "how_many = 1\n",
    "how_many_rec = 1\n",
    "\n",
    "server_payload = server.distribute_payload()\n",
    "shared_data, true_user_data = user.compute_local_updates(server_payload)\n",
    "t_labels = shared_data['metadata']['labels'].cpu().detach().numpy()\n",
    "\n",
    "cls_to_obtain = t_labels[which_to_recover:(which_to_recover + how_many)]\n",
    "extra_info = {'cls_to_obtain': cls_to_obtain}\n",
    "server.reconfigure_model('cls_attack', extra_info=extra_info)"
   ]
  },
  {
   "cell_type": "code",
   "execution_count": 13,
   "id": "c98ed82e-7558-42e4-b053-af8879af9a14",
   "metadata": {},
   "outputs": [
    {
     "name": "stderr",
     "output_type": "stream",
     "text": [
      "100%|███████████████████████████████████████████████| 50/50 [01:18<00:00,  1.56s/it]\n"
     ]
    }
   ],
   "source": [
    "# reconstruct gt features from users\n",
    "cfg.case.user.num_data_points = 1\n",
    "gt_features = []\n",
    "for i in tqdm(range(50 // cfg.case.user.num_data_points)):\n",
    "    with open_dict(cfg):\n",
    "        cfg.case.user.user_idx = i\n",
    "    user = breaching.cases.construct_user(model, loss_fn, cfg.case, setup)\n",
    "    attacker = breaching.attacks.prepare_attack(server.model, server.loss, cfg.attack, setup)\n",
    "    server_payload = server.distribute_payload()\n",
    "    shared_data, true_user_data = user.compute_local_updates(server_payload)  \n",
    "    gt_features.append(torch.flatten(server.reconstruct_feature(shared_data, cls_to_obtain)).cpu().detach().numpy())\n",
    "\n",
    "gt_features = np.array(gt_features)"
   ]
  },
  {
   "cell_type": "code",
   "execution_count": 140,
   "id": "860ad9ee-0338-44ee-9b1b-888aa95112fe",
   "metadata": {},
   "outputs": [
    {
     "name": "stderr",
     "output_type": "stream",
     "text": [
      "100%|█████████████████████████████████████| 25/25 [00:45<00:00,  1.82s/it]\n"
     ]
    }
   ],
   "source": [
    "# reconstruct sampling features from users\n",
    "cfg.case.user.num_data_points = 2\n",
    "all_features = []\n",
    "for i in tqdm(range(50 // cfg.case.user.num_data_points)):\n",
    "    with open_dict(cfg):\n",
    "        cfg.case.user.user_idx = i\n",
    "    user = breaching.cases.construct_user(model, loss_fn, cfg.case, setup)\n",
    "    attacker = breaching.attacks.prepare_attack(server.model, server.loss, cfg.attack, setup)\n",
    "    server_payload = server.distribute_payload()\n",
    "    shared_data, true_user_data = user.compute_local_updates(server_payload)  \n",
    "    all_features.append(torch.flatten(server.reconstruct_feature(shared_data, cls_to_obtain)).cpu().detach().numpy())\n",
    "\n",
    "all_features = np.array(all_features)"
   ]
  },
  {
   "cell_type": "code",
   "execution_count": 141,
   "id": "b0dbd868",
   "metadata": {},
   "outputs": [],
   "source": [
    "server_payload = server.distribute_payload()\n",
    "shared_data, true_user_data = user.compute_local_updates(server_payload)  \n",
    "# [(g.mean(), g.std()) for g in shared_data['gradients'][0]]"
   ]
  },
  {
   "cell_type": "markdown",
   "id": "17255c5a",
   "metadata": {},
   "source": [
    "### Reconstruct user data:"
   ]
  },
  {
   "cell_type": "code",
   "execution_count": 142,
   "id": "40be80f4",
   "metadata": {},
   "outputs": [],
   "source": [
    "tmp_share_data = copy.deepcopy(shared_data)\n",
    "tmp_share_data['metadata']['num_data_points'] = how_many_rec\n",
    "tmp_share_data['metadata']['labels'] = shared_data['metadata']['labels'][which_to_recover:(which_to_recover + how_many_rec)]\n",
    "tmp_true_user_data = {}\n",
    "tmp_true_user_data['data'] = true_user_data['data'][which_to_recover:(which_to_recover + how_many_rec)]\n",
    "tmp_true_user_data['labels'] = true_user_data['labels'][which_to_recover:(which_to_recover + how_many_rec)]"
   ]
  },
  {
   "cell_type": "code",
   "execution_count": 143,
   "id": "c9a32fd7",
   "metadata": {},
   "outputs": [
    {
     "name": "stderr",
     "output_type": "stream",
     "text": [
      "/Users/ywen/opt/anaconda3/lib/python3.8/site-packages/torch/autocast_mode.py:156: UserWarning: In CPU autocast, but the target dtype is not supported. Disabling autocast.\n",
      "CPU Autocast only supports dtype of torch.bfloat16 currently.\n",
      "  warnings.warn(error_message)\n"
     ]
    },
    {
     "name": "stdout",
     "output_type": "stream",
     "text": [
      "Optimal candidate solution with rec. loss 0.9176 selected.\n"
     ]
    }
   ],
   "source": [
    "reconstructed_user_data, stats = attacker.reconstruct([server_payload], [tmp_share_data], \n",
    "                                                      server.secrets, dryrun=cfg.dryrun)"
   ]
  },
  {
   "cell_type": "code",
   "execution_count": 11,
   "id": "31f2685a",
   "metadata": {},
   "outputs": [
    {
     "name": "stderr",
     "output_type": "stream",
     "text": [
      "D:\\anaconda\\lib\\site-packages\\torch\\functional.py:445: UserWarning: torch.meshgrid: in an upcoming release, it will be required to pass the indexing argument. (Triggered internally at  ..\\aten\\src\\ATen\\native\\TensorShape.cpp:2157.)\n",
      "  return _VF.meshgrid(tensors, **kwargs)  # type: ignore[attr-defined]\n"
     ]
    },
    {
     "name": "stdout",
     "output_type": "stream",
     "text": [
      "METRICS: | MSE: 0.0092 | PSNR: 20.38 | FMSE: 1.7127e+03 | LPIPS: 0.34|\n",
      " R-PSNR: 20.51 | IIP-pixel: 100.00% | SSIM: 0.4455 | Label Acc: 100.00%\n"
     ]
    }
   ],
   "source": [
    "#How good is the reconstruction?\n",
    "metrics = breaching.analysis.report(reconstructed_user_data, tmp_true_user_data, [server_payload], \n",
    "                                    server.model, order_batch=True, compute_full_iip=False, \n",
    "                                    cfg_case=cfg.case, setup=setup)"
   ]
  },
  {
   "cell_type": "code",
   "execution_count": 12,
   "id": "631f4a84",
   "metadata": {},
   "outputs": [
    {
     "data": {
      "image/png": "[encoded data removed]",
      "text/plain": [
       "<Figure size 432x288 with 1 Axes>"
      ]
     },
     "metadata": {
      "needs_background": "light"
     },
     "output_type": "display_data"
    }
   ],
   "source": [
    "user.plot(reconstructed_user_data)"
   ]
  },
  {
   "cell_type": "code",
   "execution_count": 117,
   "id": "f172f7ea-42d1-47c5-8c31-ba7edd6915a6",
   "metadata": {},
   "outputs": [
    {
     "name": "stdout",
     "output_type": "stream",
     "text": [
      "0.29775277 0.35939962\n"
     ]
    },
    {
     "data": {
      "image/png": "[encoded data removed]",
      "text/plain": [
       "<Figure size 360x360 with 1 Axes>"
      ]
     },
     "metadata": {
      "needs_background": "light"
     },
     "output_type": "display_data"
    }
   ],
   "source": [
    "f_ind = 9\n",
    "tmp_series = gt_features[:, f_ind]\n",
    "sns.displot(tmp_series)\n",
    "print(np.mean(tmp_series), np.std(tmp_series))"
   ]
  },
  {
   "cell_type": "code",
   "execution_count": 118,
   "id": "97c2bb59-bd6d-43d1-9bd3-840072c905ee",
   "metadata": {},
   "outputs": [
    {
     "name": "stdout",
     "output_type": "stream",
     "text": [
      "0.3370758 0.45846245\n"
     ]
    },
    {
     "data": {
      "image/png": "[encoded data removed]",
      "text/plain": [
       "<Figure size 360x360 with 1 Axes>"
      ]
     },
     "metadata": {
      "needs_background": "light"
     },
     "output_type": "display_data"
    }
   ],
   "source": [
    "tmp_series = all_features[:, f_ind]\n",
    "sns.displot(tmp_series)\n",
    "print(np.mean(tmp_series), np.std(tmp_series))"
   ]
  },
  {
   "cell_type": "code",
   "execution_count": 132,
   "id": "d6b76aa3-4680-4295-841d-55a2f084bf7d",
   "metadata": {},
   "outputs": [],
   "source": [
    "results = []\n",
    "for gt_feat in gt_features:\n",
    "    results.append(float(server.model.model.fc(torch.tensor(gt_feat))[0]))"
   ]
  },
  {
   "cell_type": "code",
   "execution_count": 136,
   "id": "0e4ff252-01e4-4a50-9596-34d6513582ab",
   "metadata": {},
   "outputs": [
    {
     "data": {
      "text/plain": [
       "237.74906311035156"
      ]
     },
     "execution_count": 136,
     "metadata": {},
     "output_type": "execute_result"
    }
   ],
   "source": [
    "np.percentile(results, 10, axis=0)"
   ]
  },
  {
   "cell_type": "code",
   "execution_count": null,
   "id": "d65e6ddb-29de-4ce2-8429-de4493c0e422",
   "metadata": {},
   "outputs": [],
   "source": [
    "server.reset_model()\n",
    "server.reconfigure_model('cls_attack', extra_info=extra_info)\n",
    "with torch.no_grad():\n",
    "    *_, l_w, l_b = server.model.parameters()\n",
    "    l_w.copy_(l_w * 1)"
   ]
  },
  {
   "cell_type": "code",
   "execution_count": 137,
   "id": "4ff575e8-0813-4720-a56c-544d6beda17e",
   "metadata": {},
   "outputs": [
    {
     "data": {
      "text/plain": [
       "tensor(78.4367, grad_fn=<SelectBackward0>)"
      ]
     },
     "execution_count": 137,
     "metadata": {},
     "output_type": "execute_result"
    }
   ],
   "source": [
    "server.model.model.fc(torch.tensor(np.percentile(gt_features, 10, axis=0).astype(gt_features.dtype)))[0]"
   ]
  },
  {
   "cell_type": "code",
   "execution_count": 156,
   "id": "387144c5-ff46-4d0a-9c61-ad65ab12df74",
   "metadata": {},
   "outputs": [
    {
     "data": {
      "text/plain": [
       "{'data': tensor([[[[0.3319, 0.5145, 0.9131,  ..., 0.5145, 0.9131, 0.7046],\n",
       "           [0.2715, 0.6704, 0.1125,  ..., 0.6704, 0.1125, 0.1656],\n",
       "           [0.1694, 0.6345, 0.7792,  ..., 0.6345, 0.7792, 0.2684],\n",
       "           ...,\n",
       "           [0.2715, 0.6704, 0.1125,  ..., 0.6704, 0.1125, 0.1656],\n",
       "           [0.1694, 0.6345, 0.7792,  ..., 0.6345, 0.7792, 0.2684],\n",
       "           [0.6608, 0.5216, 0.9534,  ..., 0.5216, 0.9534, 0.9128]],\n",
       " \n",
       "          [[0.2906, 0.9987, 0.2892,  ..., 0.9987, 0.2892, 0.9851],\n",
       "           [0.0942, 0.7262, 0.8576,  ..., 0.7262, 0.8576, 0.4660],\n",
       "           [0.6358, 0.9603, 0.5839,  ..., 0.9603, 0.5839, 0.8928],\n",
       "           ...,\n",
       "           [0.0942, 0.7262, 0.8576,  ..., 0.7262, 0.8576, 0.4660],\n",
       "           [0.6358, 0.9603, 0.5839,  ..., 0.9603, 0.5839, 0.8928],\n",
       "           [0.6224, 0.7328, 0.7220,  ..., 0.7328, 0.7220, 0.0988]],\n",
       " \n",
       "          [[0.3981, 0.3817, 0.9250,  ..., 0.3817, 0.9250, 0.0507],\n",
       "           [0.9777, 0.6519, 0.4781,  ..., 0.6519, 0.4781, 0.4702],\n",
       "           [0.9709, 0.8185, 0.0930,  ..., 0.8185, 0.0930, 0.5186],\n",
       "           ...,\n",
       "           [0.9777, 0.6519, 0.4781,  ..., 0.6519, 0.4781, 0.4702],\n",
       "           [0.9709, 0.8185, 0.0930,  ..., 0.8185, 0.0930, 0.5186],\n",
       "           [0.6678, 0.9191, 0.8448,  ..., 0.9191, 0.8448, 0.0571]]]]),\n",
       " 'labels': tensor([0])}"
      ]
     },
     "execution_count": 156,
     "metadata": {},
     "output_type": "execute_result"
    }
   ],
   "source": [
    "reconstructed_user_data"
   ]
  },
  {
   "cell_type": "code",
   "execution_count": 161,
   "id": "4f26080a-2116-458d-ab89-62aff4dd8d25",
   "metadata": {},
   "outputs": [],
   "source": [
    "target_indx = np.where(t_labels == 0)"
   ]
  },
  {
   "cell_type": "code",
   "execution_count": 162,
   "id": "7ac472ee-a77d-4eee-a200-d7d5be751fb1",
   "metadata": {},
   "outputs": [
    {
     "data": {
      "text/plain": [
       "array([0])"
      ]
     },
     "execution_count": 162,
     "metadata": {},
     "output_type": "execute_result"
    }
   ],
   "source": [
    "t_labels[target_indx]"
   ]
  },
  {
   "cell_type": "code",
   "execution_count": 165,
   "id": "0d8a3712-c0bf-4d4e-a32e-f30717fb3c7d",
   "metadata": {},
   "outputs": [
    {
     "data": {
      "text/plain": [
       "tensor([0, 1])"
      ]
     },
     "execution_count": 165,
     "metadata": {},
     "output_type": "execute_result"
    }
   ],
   "source": [
    "shared_data['metadata']['labels'][[0, 1]]"
   ]
  },
  {
   "cell_type": "code",
   "execution_count": 174,
   "id": "0dc5879a-1c43-4bb0-b143-47920c74da3f",
   "metadata": {},
   "outputs": [
    {
     "data": {
      "text/plain": [
       "<seaborn.axisgrid.FacetGrid at 0x7fdaea7c2820>"
      ]
     },
     "execution_count": 174,
     "metadata": {},
     "output_type": "execute_result"
    },
    {
     "data": {
      "image/png": "[encoded data removed]",
      "text/plain": [
       "<Figure size 360x360 with 1 Axes>"
      ]
     },
     "metadata": {
      "needs_background": "light"
     },
     "output_type": "display_data"
    }
   ],
   "source": [
    "tmp_series = np.mean(all_features, axis=0)\n",
    "sns.displot(tmp_series)"
   ]
  },
  {
   "cell_type": "code",
   "execution_count": 176,
   "id": "49d94e03-20da-4249-9f05-2e44e6d12440",
   "metadata": {},
   "outputs": [
    {
     "data": {
      "text/plain": [
       "dict_keys(['gradients', 'buffers', 'metadata'])"
      ]
     },
     "execution_count": 176,
     "metadata": {},
     "output_type": "execute_result"
    }
   ],
   "source": [
    "shared_data.keys()"
   ]
  },
  {
   "cell_type": "code",
   "execution_count": null,
   "id": "18813349-981f-4649-9f2f-a2b9ba301c8a",
   "metadata": {},
   "outputs": [],
   "source": []
  }
 ],
 "metadata": {
  "kernelspec": {
   "display_name": "Python 3 (ipykernel)",
   "language": "python",
   "name": "python3"
  },
  "language_info": {
   "codemirror_mode": {
    "name": "ipython",
    "version": 3
   },
   "file_extension": ".py",
   "mimetype": "text/x-python",
   "name": "python",
   "nbconvert_exporter": "python",
   "pygments_lexer": "ipython3",
   "version": "3.8.8"
  }
 },
 "nbformat": 4,
 "nbformat_minor": 5
}
