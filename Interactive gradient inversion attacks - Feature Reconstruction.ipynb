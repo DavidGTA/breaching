{
 "cells": [
  {
   "cell_type": "markdown",
   "id": "3ebef44a",
   "metadata": {},
   "source": [
    "# Breaching privacy"
   ]
  },
  {
   "cell_type": "markdown",
   "id": "a756fc5f",
   "metadata": {},
   "source": [
    "This notebook does the same job as the cmd-line tool `breach.py`, but also directly visualizes the user data and reconstruction"
   ]
  },
  {
   "cell_type": "code",
   "execution_count": 53,
   "id": "b850eabf",
   "metadata": {},
   "outputs": [
    {
     "name": "stdout",
     "output_type": "stream",
     "text": [
      "The autoreload extension is already loaded. To reload it, use:\n",
      "  %reload_ext autoreload\n"
     ]
    }
   ],
   "source": [
    "import torch\n",
    "import hydra\n",
    "import copy\n",
    "import numpy as np\n",
    "from tqdm import tqdm\n",
    "import seaborn as sns\n",
    "import torch.nn as nn\n",
    "from omegaconf import OmegaConf, open_dict\n",
    "from torch.nn.functional import normalize\n",
    "from scipy import stats\n",
    "%load_ext autoreload\n",
    "%autoreload 2\n",
    "\n",
    "import breaching\n",
    "import logging, sys\n",
    "logging.basicConfig(level=logging.INFO, handlers=[logging.StreamHandler(sys.stdout)], format='%(message)s')\n",
    "logger = logging.getLogger()"
   ]
  },
  {
   "cell_type": "markdown",
   "id": "88d5e214",
   "metadata": {},
   "source": [
    "### Initialize cfg object and system setup:"
   ]
  },
  {
   "cell_type": "markdown",
   "id": "56bd663b",
   "metadata": {},
   "source": [
    "This will print out all configuration options. \n",
    "There are a lot of possible configurations, but there is usually no need to worry about most of these. Below, a few options are printed."
   ]
  },
  {
   "cell_type": "code",
   "execution_count": 2,
   "id": "a7dc3a48",
   "metadata": {},
   "outputs": [
    {
     "name": "stdout",
     "output_type": "stream",
     "text": [
      "ANTLR runtime and generated code versions disagree: 4.9.3!=4.8\n",
      "ANTLR runtime and generated code versions disagree: 4.9.3!=4.8\n",
      "ANTLR runtime and generated code versions disagree: 4.9.3!=4.8\n",
      "ANTLR runtime and generated code versions disagree: 4.9.3!=4.8\n",
      "Investigating use case single_imagenet with server type class_malicious_parameters.\n"
     ]
    },
    {
     "data": {
      "text/plain": [
       "{'device': device(type='cuda'), 'dtype': torch.float32}"
      ]
     },
     "execution_count": 2,
     "metadata": {},
     "output_type": "execute_result"
    }
   ],
   "source": [
    "with hydra.initialize(config_path=\"config\"):\n",
    "    cfg = hydra.compose(config_name='cfg', overrides=['attack=clsattack'])\n",
    "    cfg.case.server.name = 'class_malicious_parameters'\n",
    "    print(f'Investigating use case {cfg.case.name} with server type {cfg.case.server.name}.')\n",
    "          \n",
    "device = torch.device(f'cuda') if torch.cuda.is_available() else torch.device('cpu')\n",
    "torch.backends.cudnn.benchmark = cfg.case.impl.benchmark\n",
    "setup = dict(device=device, dtype=getattr(torch, cfg.case.impl.dtype))\n",
    "setup"
   ]
  },
  {
   "cell_type": "markdown",
   "id": "203c5fb1",
   "metadata": {},
   "source": [
    "### Modify config options here"
   ]
  },
  {
   "cell_type": "markdown",
   "id": "6e0764ef",
   "metadata": {},
   "source": [
    "You can use `.attribute` access to modify any of these configurations:"
   ]
  },
  {
   "cell_type": "code",
   "execution_count": 3,
   "id": "ac118ea0",
   "metadata": {},
   "outputs": [],
   "source": [
    "with open_dict(cfg):\n",
    "    cfg.case.data.partition = \"balanced\"\n",
    "    cfg.case.user.user_idx = 0\n",
    "    cfg.case.user.num_data_points = 1\n",
    "    cfg.case.model = 'resnet18'\n",
    "    cfg.case.server.model_state = 'trained'\n",
    "    cfg.case.user.provide_labels = True\n",
    "    cfg.case.user.provide_buffers = True\n",
    "    cfg.case.user.provide_num_data_points = True\n",
    "\n",
    "    cfg.attack.optim.max_iterations = 0"
   ]
  },
  {
   "cell_type": "markdown",
   "id": "76f64389",
   "metadata": {},
   "source": [
    "### Instantiate all parties"
   ]
  },
  {
   "cell_type": "code",
   "execution_count": 4,
   "id": "d3abd955",
   "metadata": {},
   "outputs": [
    {
     "name": "stdout",
     "output_type": "stream",
     "text": [
      "Model architecture resnet18 loaded with 11,380,173 parameters and 9,620 buffers.\n",
      "Overall this is a data ratio of      76:1 for target shape [1, 3, 224, 224] given that num_queries=1.\n",
      "User (of type UserSingleStep) with settings:\n",
      "    Number of data points: 1\n",
      "\n",
      "    Threat model:\n",
      "    User provides labels: True\n",
      "    User provides buffers: True\n",
      "    User provides number of data points: True\n",
      "\n",
      "    Data:\n",
      "    Dataset: ImageNetAnimals\n",
      "    user: 0\n",
      "    \n",
      "        \n",
      "Server (of type ClassParameterServer) with settings:\n",
      "    Threat model: Honest-but-curious\n",
      "    Number of planned queries: 1\n",
      "    Has external/public data: False\n",
      "\n",
      "    Model:\n",
      "        model specification: resnet18\n",
      "        model state: trained\n",
      "        public buffers: True\n",
      "\n",
      "    Secrets: {}\n",
      "    \n",
      "Attacker (of type OptimizationBasedAttacker) with settings:\n",
      "    Hyperparameter Template: invertinggradients\n",
      "\n",
      "    Objective: Cosine Similarity with scale=1.0 and task reg=0.0\n",
      "    Regularizers: Total Variation, scale=0.2. p=2 q=0.5. Color TV: double oppponents\n",
      "    Augmentations: \n",
      "\n",
      "    Optimization Setup:\n",
      "        optimizer: adam\n",
      "        signed: soft\n",
      "        step_size: 0.1\n",
      "        boxed: True\n",
      "        max_iterations: 0\n",
      "        step_size_decay: cosine-decay\n",
      "        langevin_noise: 0.0\n",
      "        warmup: 50\n",
      "        grad_clip: None\n",
      "        callback: 1000\n",
      "        \n"
     ]
    }
   ],
   "source": [
    "user, server, model, loss_fn = breaching.cases.construct_case(cfg.case, setup)\n",
    "attacker = breaching.attacks.prepare_attack(server.model, server.loss, cfg.attack, setup)\n",
    "breaching.utils.overview(server, user, attacker)"
   ]
  },
  {
   "cell_type": "code",
   "execution_count": 5,
   "id": "8c7273d4",
   "metadata": {},
   "outputs": [
    {
     "name": "stdout",
     "output_type": "stream",
     "text": [
      "User (of type UserSingleStep) with settings:\n",
      "    Number of data points: 1\n",
      "\n",
      "    Threat model:\n",
      "    User provides labels: True\n",
      "    User provides buffers: True\n",
      "    User provides number of data points: True\n",
      "\n",
      "    Data:\n",
      "    Dataset: ImageNetAnimals\n",
      "    user: 0\n",
      "    \n",
      "        \n",
      "Server (of type ClassParameterServer) with settings:\n",
      "    Threat model: Honest-but-curious\n",
      "    Number of planned queries: 1\n",
      "    Has external/public data: False\n",
      "\n",
      "    Model:\n",
      "        model specification: resnet18\n",
      "        model state: trained\n",
      "        public buffers: True\n",
      "\n",
      "    Secrets: {}\n",
      "    \n",
      "Attacker (of type OptimizationBasedAttacker) with settings:\n",
      "    Hyperparameter Template: invertinggradients\n",
      "\n",
      "    Objective: Cosine Similarity with scale=1.0 and task reg=0.0\n",
      "    Regularizers: Total Variation, scale=0.2. p=2 q=0.5. Color TV: double oppponents\n",
      "    Augmentations: \n",
      "\n",
      "    Optimization Setup:\n",
      "        optimizer: adam\n",
      "        signed: soft\n",
      "        step_size: 0.1\n",
      "        boxed: True\n",
      "        max_iterations: 0\n",
      "        step_size_decay: cosine-decay\n",
      "        langevin_noise: 0.0\n",
      "        warmup: 50\n",
      "        grad_clip: None\n",
      "        callback: 1000\n",
      "        \n"
     ]
    }
   ],
   "source": [
    "print(user)\n",
    "print(server)\n",
    "print(attacker)"
   ]
  },
  {
   "cell_type": "markdown",
   "id": "548c0ad6",
   "metadata": {},
   "source": [
    "### Simulate an attacked FL protocol"
   ]
  },
  {
   "cell_type": "markdown",
   "id": "2058bcc2",
   "metadata": {},
   "source": [
    "True user data is returned only for analysis"
   ]
  },
  {
   "cell_type": "code",
   "execution_count": 6,
   "id": "db5fd444",
   "metadata": {},
   "outputs": [],
   "source": [
    "# modify the model to catch the class we want\n",
    "which_to_recover = 0\n",
    "how_many = 1\n",
    "how_many_rec = 1\n",
    "\n",
    "server_payload = server.distribute_payload()\n",
    "shared_data, true_user_data = user.compute_local_updates(server_payload)\n",
    "t_labels = shared_data['metadata']['labels'].cpu().detach().numpy()\n",
    "\n",
    "cls_to_obtain = t_labels[which_to_recover:(which_to_recover + how_many)]\n",
    "extra_info = {'cls_to_obtain': cls_to_obtain}\n",
    "server.reconfigure_model('cls_attack', extra_info=extra_info)"
   ]
  },
  {
   "cell_type": "code",
   "execution_count": 94,
   "id": "c98ed82e-7558-42e4-b053-af8879af9a14",
   "metadata": {},
   "outputs": [
    {
     "name": "stderr",
     "output_type": "stream",
     "text": [
      "100%|██████████████████████████████████████████████████████████████████████████████████| 40/40 [01:20<00:00,  2.01s/it]\n"
     ]
    }
   ],
   "source": [
    "# reconstruct gt features from users\n",
    "cfg.case.user.num_data_points = 1\n",
    "gt_features = []\n",
    "for i in tqdm(range(40 // cfg.case.user.num_data_points)):\n",
    "    with open_dict(cfg):\n",
    "        cfg.case.user.user_idx = i\n",
    "    user = breaching.cases.construct_user(model, loss_fn, cfg.case, setup)\n",
    "    server_payload = server.distribute_payload()\n",
    "    shared_data, true_user_data = user.compute_local_updates(server_payload)  \n",
    "    gt_features.append(torch.flatten(server.reconstruct_feature(shared_data, cls_to_obtain)).detach())\n",
    "    \n",
    "gt_features = torch.stack(gt_features, 0)"
   ]
  },
  {
   "cell_type": "code",
   "execution_count": 37,
   "id": "860ad9ee-0338-44ee-9b1b-888aa95112fe",
   "metadata": {},
   "outputs": [
    {
     "name": "stderr",
     "output_type": "stream",
     "text": [
      "100%|██████████████████████████████████████████████████████████████████████████████████| 20/20 [00:43<00:00,  2.16s/it]\n"
     ]
    }
   ],
   "source": [
    "# reconstruct sampling features from users\n",
    "cfg.case.user.num_data_points = 2\n",
    "est_features = []\n",
    "for i in tqdm(range(40 // cfg.case.user.num_data_points)):\n",
    "    with open_dict(cfg):\n",
    "        cfg.case.user.user_idx = i\n",
    "    user = breaching.cases.construct_user(model, loss_fn, cfg.case, setup)\n",
    "    server_payload = server.distribute_payload()\n",
    "    shared_data, true_user_data = user.compute_local_updates(server_payload)  \n",
    "    est_features.append(torch.flatten(server.reconstruct_feature(shared_data, cls_to_obtain)).detach())\n",
    "    \n",
    "est_features = torch.stack(est_features, 0)"
   ]
  },
  {
   "cell_type": "code",
   "execution_count": 9,
   "id": "b0dbd868",
   "metadata": {},
   "outputs": [],
   "source": [
    "server_payload = server.distribute_payload()\n",
    "shared_data, true_user_data = user.compute_local_updates(server_payload)  \n",
    "# [(g.mean(), g.std()) for g in shared_data['gradients'][0]]"
   ]
  },
  {
   "cell_type": "markdown",
   "id": "17255c5a",
   "metadata": {},
   "source": [
    "### Reconstruct user data:"
   ]
  },
  {
   "cell_type": "code",
   "execution_count": 10,
   "id": "40be80f4",
   "metadata": {},
   "outputs": [],
   "source": [
    "tmp_share_data = copy.deepcopy(shared_data)\n",
    "tmp_share_data['metadata']['num_data_points'] = how_many_rec\n",
    "tmp_share_data['metadata']['labels'] = shared_data['metadata']['labels'][which_to_recover:(which_to_recover + how_many_rec)]\n",
    "tmp_true_user_data = {}\n",
    "tmp_true_user_data['data'] = true_user_data['data'][which_to_recover:(which_to_recover + how_many_rec)]\n",
    "tmp_true_user_data['labels'] = true_user_data['labels'][which_to_recover:(which_to_recover + how_many_rec)]"
   ]
  },
  {
   "cell_type": "code",
   "execution_count": 11,
   "id": "c9a32fd7",
   "metadata": {},
   "outputs": [
    {
     "name": "stdout",
     "output_type": "stream",
     "text": [
      "Optimal candidate solution with rec. loss 1.0122 selected.\n"
     ]
    }
   ],
   "source": [
    "reconstructed_user_data, stats = attacker.reconstruct([server_payload], [tmp_share_data], \n",
    "                                                      server.secrets, dryrun=cfg.dryrun)"
   ]
  },
  {
   "cell_type": "code",
   "execution_count": 12,
   "id": "31f2685a",
   "metadata": {},
   "outputs": [
    {
     "name": "stdout",
     "output_type": "stream",
     "text": [
      "METRICS: | MSE: 0.0973 | PSNR: 10.12 | FMSE: 5.6183e+04 | LPIPS: 0.96|\n",
      " R-PSNR: 10.23 | IIP-pixel: 0.00% | SSIM: 0.1152 | max R-PSNR: 10.23 | max SSIM: 0.1152 | Label Acc: 100.00%\n"
     ]
    }
   ],
   "source": [
    "#How good is the reconstruction?\n",
    "metrics = breaching.analysis.report(reconstructed_user_data, tmp_true_user_data, [server_payload], \n",
    "                                    server.model, order_batch=True, compute_full_iip=False, \n",
    "                                    cfg_case=cfg.case, setup=setup)"
   ]
  },
  {
   "cell_type": "code",
   "execution_count": 13,
   "id": "631f4a84",
   "metadata": {},
   "outputs": [
    {
     "data": {
      "image/png": "[encoded data removed]",
      "text/plain": [
       "<Figure size 432x288 with 1 Axes>"
      ]
     },
     "metadata": {
      "needs_background": "light"
     },
     "output_type": "display_data"
    }
   ],
   "source": [
    "user.plot(reconstructed_user_data)"
   ]
  },
  {
   "cell_type": "code",
   "execution_count": 88,
   "id": "6a5aaab8-9433-4e24-9713-70435e986242",
   "metadata": {},
   "outputs": [],
   "source": [
    "p_values = []\n",
    "for i in range(gt_features.shape[1]):\n",
    "    tmp_series = gt_features[:, i].cpu().numpy()\n",
    "    tmp_series = (tmp_series - np.mean(tmp_series)) / np.std(tmp_series)\n",
    "    p_values.append((np.std(tmp_series), stats.kstest(tmp_series, 'norm').pvalue)[1])\n",
    "    \n",
    "p_values = np.array(p_values)"
   ]
  },
  {
   "cell_type": "code",
   "execution_count": 89,
   "id": "edfbb95a-0bf7-41d0-84cd-a8b46f2c2e99",
   "metadata": {},
   "outputs": [
    {
     "data": {
      "text/plain": [
       "array([ 33, 418, 439, 366, 315], dtype=int64)"
      ]
     },
     "execution_count": 89,
     "metadata": {},
     "output_type": "execute_result"
    }
   ],
   "source": [
    "np.argpartition(p_values, -5)[-5:]"
   ]
  },
  {
   "cell_type": "code",
   "execution_count": 93,
   "id": "f172f7ea-42d1-47c5-8c31-ba7edd6915a6",
   "metadata": {},
   "outputs": [
    {
     "name": "stdout",
     "output_type": "stream",
     "text": [
      "1.5900917 0.0 KstestResult(statistic=0.9440929323026147, pvalue=1.5837936379083882e-50)\n"
     ]
    },
    {
     "data": {
      "image/png": "[encoded data removed]",
      "text/plain": [
       "<Figure size 360x360 with 1 Axes>"
      ]
     },
     "metadata": {
      "needs_background": "light"
     },
     "output_type": "display_data"
    }
   ],
   "source": [
    "f_ind = 33\n",
    "tmp_series = gt_features[:, f_ind].cpu().numpy()\n",
    "sns.displot(tmp_series)\n",
    "print(np.mean(tmp_series), np.std(tmp_series), stats.kstest(tmp_series, 'norm'))"
   ]
  },
  {
   "cell_type": "code",
   "execution_count": 91,
   "id": "97c2bb59-bd6d-43d1-9bd3-840072c905ee",
   "metadata": {},
   "outputs": [
    {
     "name": "stdout",
     "output_type": "stream",
     "text": [
      "2.3396096 1.0542752\n"
     ]
    },
    {
     "data": {
      "image/png": "[encoded data removed]",
      "text/plain": [
       "<Figure size 360x360 with 1 Axes>"
      ]
     },
     "metadata": {
      "needs_background": "light"
     },
     "output_type": "display_data"
    }
   ],
   "source": [
    "tmp_series = est_features[:, f_ind].cpu().numpy()\n",
    "sns.displot(tmp_series)\n",
    "print(np.mean(tmp_series), np.std(tmp_series))"
   ]
  },
  {
   "cell_type": "code",
   "execution_count": null,
   "id": "d65e6ddb-29de-4ce2-8429-de4493c0e422",
   "metadata": {},
   "outputs": [],
   "source": [
    "server.reset_model()\n",
    "server.reconfigure_model('cls_attack', extra_info=extra_info)\n",
    "with torch.no_grad():\n",
    "    *_, l_w, l_b = server.model.parameters()\n",
    "    l_w.copy_(l_w * 1)"
   ]
  },
  {
   "cell_type": "code",
   "execution_count": null,
   "id": "4ff575e8-0813-4720-a56c-544d6beda17e",
   "metadata": {},
   "outputs": [],
   "source": [
    "server.model.model.fc(torch.tensor(np.percentile(gt_features, 10, axis=0).astype(gt_features.dtype)))[0]"
   ]
  },
  {
   "cell_type": "code",
   "execution_count": 28,
   "id": "18813349-981f-4649-9f2f-a2b9ba301c8a",
   "metadata": {},
   "outputs": [],
   "source": [
    "gt_features = torch.cat(gt_features)"
   ]
  },
  {
   "cell_type": "code",
   "execution_count": 33,
   "id": "c44d224f-6231-49b8-8de2-1f3f23017a6c",
   "metadata": {},
   "outputs": [
    {
     "data": {
      "text/plain": [
       "torch.Size([512, 20])"
      ]
     },
     "execution_count": 33,
     "metadata": {},
     "output_type": "execute_result"
    }
   ],
   "source": [
    "est_features.shape"
   ]
  },
  {
   "cell_type": "code",
   "execution_count": 79,
   "id": "febe85dc-d1d3-40ae-862a-05398d91b4cb",
   "metadata": {},
   "outputs": [
    {
     "data": {
      "text/plain": [
       "315"
      ]
     },
     "execution_count": 79,
     "metadata": {},
     "output_type": "execute_result"
    }
   ],
   "source": [
    "np.argmax(p_values)"
   ]
  },
  {
   "cell_type": "code",
   "execution_count": null,
   "id": "f2a06386-b9a7-44c4-95ae-ad8c23cb0b82",
   "metadata": {},
   "outputs": [],
   "source": []
  }
 ],
 "metadata": {
  "kernelspec": {
   "display_name": "Python 3 (ipykernel)",
   "language": "python",
   "name": "python3"
  },
  "language_info": {
   "codemirror_mode": {
    "name": "ipython",
    "version": 3
   },
   "file_extension": ".py",
   "mimetype": "text/x-python",
   "name": "python",
   "nbconvert_exporter": "python",
   "pygments_lexer": "ipython3",
   "version": "3.8.8"
  }
 },
 "nbformat": 4,
 "nbformat_minor": 5
}
