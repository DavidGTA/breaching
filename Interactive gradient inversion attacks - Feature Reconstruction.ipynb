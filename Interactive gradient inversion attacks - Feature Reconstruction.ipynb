{
 "cells": [
  {
   "cell_type": "markdown",
   "id": "3ebef44a",
   "metadata": {},
   "source": [
    "# Breaching privacy"
   ]
  },
  {
   "cell_type": "markdown",
   "id": "a756fc5f",
   "metadata": {},
   "source": [
    "This notebook does the same job as the cmd-line tool `breach.py`, but also directly visualizes the user data and reconstruction"
   ]
  },
  {
   "cell_type": "code",
   "execution_count": 113,
   "id": "b850eabf",
   "metadata": {},
   "outputs": [
    {
     "name": "stdout",
     "output_type": "stream",
     "text": [
      "The autoreload extension is already loaded. To reload it, use:\n",
      "  %reload_ext autoreload\n"
     ]
    }
   ],
   "source": [
    "import torch\n",
    "import hydra\n",
    "import copy\n",
    "import numpy as np\n",
    "from tqdm import tqdm\n",
    "import seaborn as sns\n",
    "import torch.nn as nn\n",
    "from omegaconf import OmegaConf, open_dict\n",
    "%load_ext autoreload\n",
    "%autoreload 2\n",
    "\n",
    "import breaching\n",
    "import logging, sys\n",
    "logging.basicConfig(level=logging.INFO, handlers=[logging.StreamHandler(sys.stdout)], format='%(message)s')\n",
    "logger = logging.getLogger()"
   ]
  },
  {
   "cell_type": "markdown",
   "id": "88d5e214",
   "metadata": {},
   "source": [
    "### Initialize cfg object and system setup:"
   ]
  },
  {
   "cell_type": "markdown",
   "id": "56bd663b",
   "metadata": {},
   "source": [
    "This will print out all configuration options. \n",
    "There are a lot of possible configurations, but there is usually no need to worry about most of these. Below, a few options are printed."
   ]
  },
  {
   "cell_type": "code",
   "execution_count": 2,
   "id": "a7dc3a48",
   "metadata": {},
   "outputs": [
    {
     "name": "stdout",
     "output_type": "stream",
     "text": [
      "Investigating use case single_imagenet with server type class_malicious_parameters.\n"
     ]
    },
    {
     "data": {
      "text/plain": [
       "{'device': device(type='cpu'), 'dtype': torch.float32}"
      ]
     },
     "execution_count": 2,
     "metadata": {},
     "output_type": "execute_result"
    }
   ],
   "source": [
    "with hydra.initialize(config_path=\"config\"):\n",
    "    cfg = hydra.compose(config_name='cfg', overrides=['attack=modern'])\n",
    "    cfg.case.server.name = 'class_malicious_parameters'\n",
    "    print(f'Investigating use case {cfg.case.name} with server type {cfg.case.server.name}.')\n",
    "          \n",
    "device = torch.device(f'cuda') if torch.cuda.is_available() else torch.device('cpu')\n",
    "torch.backends.cudnn.benchmark = cfg.case.impl.benchmark\n",
    "setup = dict(device=device, dtype=getattr(torch, cfg.case.impl.dtype))\n",
    "setup"
   ]
  },
  {
   "cell_type": "markdown",
   "id": "203c5fb1",
   "metadata": {},
   "source": [
    "### Modify config options here"
   ]
  },
  {
   "cell_type": "markdown",
   "id": "6e0764ef",
   "metadata": {},
   "source": [
    "You can use `.attribute` access to modify any of these configurations:"
   ]
  },
  {
   "cell_type": "code",
   "execution_count": 49,
   "id": "ac118ea0",
   "metadata": {},
   "outputs": [],
   "source": [
    "with open_dict(cfg):\n",
    "    cfg.case.data.partition = \"balanced\"\n",
    "    cfg.case.user.user_idx = 0\n",
    "    cfg.case.user.num_data_points = 1\n",
    "    cfg.case.model = 'resnet18'\n",
    "    cfg.case.server.model_state = 'trained'\n",
    "    cfg.case.user.provide_labels = True\n",
    "    cfg.case.user.provide_buffers = True\n",
    "    cfg.case.user.provide_num_data_points = True\n",
    "\n",
    "    cfg.attack.regularization.total_variation.scale = 0.2\n",
    "    cfg.attack.regularization.total_variation.inner_exp = 2\n",
    "    cfg.attack.regularization.total_variation.outer_exp = 0.5\n",
    "    # cfg.attack.optim.signed = 'hard'\n",
    "    cfg.attack.optim.step_size_decay = 'cosine-decay'\n",
    "    cfg.attack.optim.warmup = 50\n",
    "    # cfg.attack.optim.step_size = 1e-2\n",
    "    cfg.attack.init = 'patterned-4'  # 'patterned-4'\n",
    "    cfg.attack.objective.task_regularization = .0\n",
    "    cfg.attack.regularization.features = .0\n",
    "\n",
    "    cfg.attack.regularization.total_variation.double_opponents = True\n",
    "    cfg.attack.regularization.deep_inversion = dict(scale=.0)\n",
    "\n",
    "    cfg.attack.optim.max_iterations = 0"
   ]
  },
  {
   "cell_type": "markdown",
   "id": "76f64389",
   "metadata": {},
   "source": [
    "### Instantiate all parties"
   ]
  },
  {
   "cell_type": "code",
   "execution_count": 39,
   "id": "d3abd955",
   "metadata": {},
   "outputs": [
    {
     "name": "stdout",
     "output_type": "stream",
     "text": [
      "Model architecture resnet18 loaded with 11,689,512 parameters and 9,620 buffers.\n",
      "Overall this is a data ratio of      19:1 for target shape [4, 3, 224, 224] given that num_queries=1.\n",
      "User (of type UserSingleStep) with settings:\n",
      "    Number of data points: 4\n",
      "\n",
      "    Threat model:\n",
      "    User provides labels: True\n",
      "    User provides buffers: True\n",
      "    User provides number of data points: True\n",
      "\n",
      "    Data:\n",
      "    Dataset: ImageNetAnimals\n",
      "    user: 0\n",
      "    \n",
      "        \n",
      "Server (of type ClassParameterServer) with settings:\n",
      "    Threat model: Honest-but-curious\n",
      "    Number of planned queries: 1\n",
      "    Has external/public data: False\n",
      "\n",
      "    Model:\n",
      "        model specification: resnet18\n",
      "        model state: trained\n",
      "        public buffers: True\n",
      "\n",
      "    Secrets: {}\n",
      "    \n",
      "Attacker (of type OptimizationBasedAttacker) with settings:\n",
      "    Hyperparameter Template: invertinggradients\n",
      "\n",
      "    Objective: Cosine Similarity with scale=1.0 and task reg=0.0\n",
      "    Regularizers: Total Variation, scale=0.2. p=2 q=0.5. Color TV: double oppponents (double opp.)\n",
      "    Augmentations: \n",
      "\n",
      "    Optimization Setup:\n",
      "        optimizer: adam\n",
      "        signed: soft\n",
      "        step_size: 0.1\n",
      "        boxed: True\n",
      "        max_iterations: 0\n",
      "        step_size_decay: cosine-decay\n",
      "        langevin_noise: 0.0\n",
      "        warmup: 50\n",
      "        callback: 1000\n",
      "        \n"
     ]
    }
   ],
   "source": [
    "user, server, model, loss_fn = breaching.cases.construct_case(cfg.case, setup)\n",
    "attacker = breaching.attacks.prepare_attack(server.model, server.loss, cfg.attack, setup)\n",
    "breaching.utils.overview(server, user, attacker)"
   ]
  },
  {
   "cell_type": "code",
   "execution_count": 40,
   "id": "8c7273d4",
   "metadata": {},
   "outputs": [
    {
     "name": "stdout",
     "output_type": "stream",
     "text": [
      "User (of type UserSingleStep) with settings:\n",
      "    Number of data points: 4\n",
      "\n",
      "    Threat model:\n",
      "    User provides labels: True\n",
      "    User provides buffers: True\n",
      "    User provides number of data points: True\n",
      "\n",
      "    Data:\n",
      "    Dataset: ImageNetAnimals\n",
      "    user: 0\n",
      "    \n",
      "        \n",
      "Server (of type ClassParameterServer) with settings:\n",
      "    Threat model: Honest-but-curious\n",
      "    Number of planned queries: 1\n",
      "    Has external/public data: False\n",
      "\n",
      "    Model:\n",
      "        model specification: resnet18\n",
      "        model state: trained\n",
      "        public buffers: True\n",
      "\n",
      "    Secrets: {}\n",
      "    \n",
      "Attacker (of type OptimizationBasedAttacker) with settings:\n",
      "    Hyperparameter Template: invertinggradients\n",
      "\n",
      "    Objective: Cosine Similarity with scale=1.0 and task reg=0.0\n",
      "    Regularizers: Total Variation, scale=0.2. p=2 q=0.5. Color TV: double oppponents (double opp.)\n",
      "    Augmentations: \n",
      "\n",
      "    Optimization Setup:\n",
      "        optimizer: adam\n",
      "        signed: soft\n",
      "        step_size: 0.1\n",
      "        boxed: True\n",
      "        max_iterations: 0\n",
      "        step_size_decay: cosine-decay\n",
      "        langevin_noise: 0.0\n",
      "        warmup: 50\n",
      "        callback: 1000\n",
      "        \n"
     ]
    }
   ],
   "source": [
    "print(user)\n",
    "print(server)\n",
    "print(attacker)"
   ]
  },
  {
   "cell_type": "markdown",
   "id": "548c0ad6",
   "metadata": {},
   "source": [
    "### Simulate an attacked FL protocol"
   ]
  },
  {
   "cell_type": "markdown",
   "id": "2058bcc2",
   "metadata": {},
   "source": [
    "True user data is returned only for analysis"
   ]
  },
  {
   "cell_type": "code",
   "execution_count": 41,
   "id": "db5fd444",
   "metadata": {},
   "outputs": [],
   "source": [
    "# modify the model to catch the class we want\n",
    "which_to_recover = 0\n",
    "how_many = 1\n",
    "how_many_rec = 1\n",
    "\n",
    "server_payload = server.distribute_payload()\n",
    "shared_data, true_user_data = user.compute_local_updates(server_payload)\n",
    "t_labels = shared_data['metadata']['labels'].cpu().detach().numpy()\n",
    "\n",
    "cls_to_obtain = t_labels[which_to_recover:(which_to_recover + how_many)]\n",
    "extra_info = {'cls_to_obtain': cls_to_obtain}\n",
    "server.reconfigure_model('cls_attack', extra_info=extra_info)"
   ]
  },
  {
   "cell_type": "code",
   "execution_count": 158,
   "id": "c98ed82e-7558-42e4-b053-af8879af9a14",
   "metadata": {},
   "outputs": [],
   "source": [
    "cfg.case.user.num_data_points = 2"
   ]
  },
  {
   "cell_type": "code",
   "execution_count": 159,
   "id": "860ad9ee-0338-44ee-9b1b-888aa95112fe",
   "metadata": {},
   "outputs": [
    {
     "name": "stderr",
     "output_type": "stream",
     "text": [
      "100%|█████████████████████████████████████| 25/25 [00:50<00:00,  2.01s/it]\n"
     ]
    }
   ],
   "source": [
    "# reconstruct features from users\n",
    "all_features = []\n",
    "for i in tqdm(range(50 // cfg.case.user.num_data_points)):\n",
    "    with open_dict(cfg):\n",
    "        cfg.case.user.user_idx = i\n",
    "    user, server, model, loss_fn = breaching.cases.construct_case(cfg.case, setup)\n",
    "    attacker = breaching.attacks.prepare_attack(server.model, server.loss, cfg.attack, setup)\n",
    "    server_payload = server.distribute_payload()\n",
    "    shared_data, true_user_data = user.compute_local_updates(server_payload)  \n",
    "    all_features.append(torch.flatten(server.reconstruct_feature(shared_data, cls_to_obtain)).cpu().detach().numpy())\n",
    "\n",
    "all_features = np.array(all_features)"
   ]
  },
  {
   "cell_type": "code",
   "execution_count": 111,
   "id": "a6ee0ecd-a81e-478f-933f-09e5c9d9ccc1",
   "metadata": {},
   "outputs": [
    {
     "data": {
      "text/plain": [
       "<seaborn.axisgrid.FacetGrid at 0x7fa9611ec2e0>"
      ]
     },
     "execution_count": 111,
     "metadata": {},
     "output_type": "execute_result"
    },
    {
     "data": {
      "image/png": "[encoded data removed]",
      "text/plain": [
       "<Figure size 360x360 with 1 Axes>"
      ]
     },
     "metadata": {
      "needs_background": "light"
     },
     "output_type": "display_data"
    }
   ],
   "source": [
    "sns.displot(all_features[:, 141])"
   ]
  },
  {
   "cell_type": "code",
   "execution_count": 42,
   "id": "b0dbd868",
   "metadata": {},
   "outputs": [],
   "source": [
    "server_payload = server.distribute_payload()\n",
    "shared_data, true_user_data = user.compute_local_updates(server_payload)  \n",
    "# [(g.mean(), g.std()) for g in shared_data['gradients'][0]]"
   ]
  },
  {
   "cell_type": "markdown",
   "id": "17255c5a",
   "metadata": {},
   "source": [
    "### Reconstruct user data:"
   ]
  },
  {
   "cell_type": "code",
   "execution_count": 9,
   "id": "40be80f4",
   "metadata": {},
   "outputs": [],
   "source": [
    "tmp_share_data = copy.deepcopy(shared_data)\n",
    "tmp_share_data['metadata']['num_data_points'] = how_many_rec\n",
    "tmp_share_data['metadata']['labels'] = shared_data['metadata']['labels'][which_to_recover:(which_to_recover + how_many_rec)]\n",
    "tmp_true_user_data = {}\n",
    "tmp_true_user_data['data'] = true_user_data['data'][which_to_recover:(which_to_recover + how_many_rec)]\n",
    "tmp_true_user_data['labels'] = true_user_data['labels'][which_to_recover:(which_to_recover + how_many_rec)]"
   ]
  },
  {
   "cell_type": "code",
   "execution_count": 10,
   "id": "c9a32fd7",
   "metadata": {},
   "outputs": [
    {
     "name": "stdout",
     "output_type": "stream",
     "text": [
      "| It: 1 | Rec. loss: 1.0180 |  Task loss: 942.4099 | T: 0.62s\n",
      "| It: 1001 | Rec. loss: 0.2386 |  Task loss: 671.3671 | T: 71.51s\n",
      "| It: 2001 | Rec. loss: 0.2246 |  Task loss: 678.9722 | T: 64.92s\n",
      "| It: 3001 | Rec. loss: 0.2093 |  Task loss: 682.2296 | T: 64.79s\n",
      "| It: 4001 | Rec. loss: 0.2182 |  Task loss: 687.2621 | T: 64.76s\n",
      "| It: 5001 | Rec. loss: 0.2457 |  Task loss: 670.8041 | T: 65.05s\n",
      "| It: 6001 | Rec. loss: 0.2043 |  Task loss: 680.3107 | T: 65.09s\n",
      "| It: 7001 | Rec. loss: 0.2016 |  Task loss: 677.1419 | T: 64.89s\n",
      "| It: 8001 | Rec. loss: 0.1824 |  Task loss: 684.6504 | T: 65.20s\n",
      "| It: 9001 | Rec. loss: 0.1852 |  Task loss: 670.1359 | T: 65.08s\n",
      "| It: 10001 | Rec. loss: 0.1643 |  Task loss: 685.2788 | T: 65.63s\n",
      "| It: 11001 | Rec. loss: 0.1925 |  Task loss: 680.1074 | T: 64.42s\n",
      "| It: 12001 | Rec. loss: 0.1852 |  Task loss: 674.1434 | T: 65.01s\n",
      "| It: 13001 | Rec. loss: 0.1718 |  Task loss: 685.6941 | T: 64.90s\n",
      "| It: 14001 | Rec. loss: 0.1299 |  Task loss: 696.0327 | T: 64.77s\n",
      "| It: 15001 | Rec. loss: 0.1633 |  Task loss: 674.4178 | T: 64.80s\n",
      "| It: 16001 | Rec. loss: 0.1385 |  Task loss: 677.7729 | T: 64.83s\n",
      "| It: 17001 | Rec. loss: 0.1193 |  Task loss: 670.8782 | T: 62.13s\n",
      "| It: 18001 | Rec. loss: 0.1236 |  Task loss: 666.7712 | T: 61.98s\n",
      "| It: 19001 | Rec. loss: 0.1254 |  Task loss: 667.7629 | T: 41.22s\n",
      "| It: 20001 | Rec. loss: 0.1117 |  Task loss: 677.5428 | T: 39.64s\n",
      "| It: 21001 | Rec. loss: 0.1374 |  Task loss: 661.9098 | T: 39.67s\n",
      "| It: 22001 | Rec. loss: 0.1315 |  Task loss: 659.3094 | T: 39.69s\n",
      "| It: 23001 | Rec. loss: 0.1364 |  Task loss: 657.3925 | T: 40.48s\n",
      "| It: 24000 | Rec. loss: 0.1322 |  Task loss: 662.8376 | T: 39.87s\n",
      "Optimal condidate solution with rec. loss 0.1205 selected.\n"
     ]
    }
   ],
   "source": [
    "reconstructed_user_data, stats = attacker.reconstruct([server_payload], [tmp_share_data], \n",
    "                                                      server.secrets, dryrun=cfg.dryrun)"
   ]
  },
  {
   "cell_type": "code",
   "execution_count": 11,
   "id": "31f2685a",
   "metadata": {},
   "outputs": [
    {
     "name": "stderr",
     "output_type": "stream",
     "text": [
      "D:\\anaconda\\lib\\site-packages\\torch\\functional.py:445: UserWarning: torch.meshgrid: in an upcoming release, it will be required to pass the indexing argument. (Triggered internally at  ..\\aten\\src\\ATen\\native\\TensorShape.cpp:2157.)\n",
      "  return _VF.meshgrid(tensors, **kwargs)  # type: ignore[attr-defined]\n"
     ]
    },
    {
     "name": "stdout",
     "output_type": "stream",
     "text": [
      "METRICS: | MSE: 0.0092 | PSNR: 20.38 | FMSE: 1.7127e+03 | LPIPS: 0.34|\n",
      " R-PSNR: 20.51 | IIP-pixel: 100.00% | SSIM: 0.4455 | Label Acc: 100.00%\n"
     ]
    }
   ],
   "source": [
    "#How good is the reconstruction?\n",
    "metrics = breaching.analysis.report(reconstructed_user_data, tmp_true_user_data, [server_payload], \n",
    "                                    server.model, order_batch=True, compute_full_iip=False, \n",
    "                                    cfg_case=cfg.case, setup=setup)"
   ]
  },
  {
   "cell_type": "code",
   "execution_count": 12,
   "id": "631f4a84",
   "metadata": {},
   "outputs": [
    {
     "data": {
      "image/png": "[encoded data removed]",
      "text/plain": [
       "<Figure size 432x288 with 1 Axes>"
      ]
     },
     "metadata": {
      "needs_background": "light"
     },
     "output_type": "display_data"
    }
   ],
   "source": [
    "user.plot(reconstructed_user_data)"
   ]
  },
  {
   "cell_type": "code",
   "execution_count": 114,
   "id": "b6f1217e-79be-4c6e-907a-a8d07484d120",
   "metadata": {},
   "outputs": [],
   "source": [
    "*_, l_w, l_b = server.model.parameters()"
   ]
  },
  {
   "cell_type": "code",
   "execution_count": 135,
   "id": "64fe6b17-1592-4ab2-b21a-852dee8c0f79",
   "metadata": {},
   "outputs": [],
   "source": [
    "mean_feature = np.mean(all_features, axis=0)"
   ]
  },
  {
   "cell_type": "code",
   "execution_count": 138,
   "id": "718956e1-5f34-45fd-be99-e503a651c6ef",
   "metadata": {},
   "outputs": [
    {
     "data": {
      "text/plain": [
       "<seaborn.axisgrid.FacetGrid at 0x7fa8b1bd6b80>"
      ]
     },
     "execution_count": 138,
     "metadata": {},
     "output_type": "execute_result"
    },
    {
     "data": {
      "image/png": "[encoded data removed]",
      "text/plain": [
       "<Figure size 360x360 with 1 Axes>"
      ]
     },
     "metadata": {
      "needs_background": "light"
     },
     "output_type": "display_data"
    }
   ],
   "source": [
    "sns.displot(mean_feature)"
   ]
  },
  {
   "cell_type": "code",
   "execution_count": null,
   "id": "18f247cd-01f9-4990-8d8b-dd20f5d1b216",
   "metadata": {},
   "outputs": [],
   "source": [
    "server.model.model.fc(torch.tensor(all_features[0, :]))"
   ]
  },
  {
   "cell_type": "code",
   "execution_count": 163,
   "id": "f172f7ea-42d1-47c5-8c31-ba7edd6915a6",
   "metadata": {},
   "outputs": [
    {
     "name": "stdout",
     "output_type": "stream",
     "text": [
      "1.5085094 0.999905\n"
     ]
    },
    {
     "data": {
      "image/png": "[encoded data removed]",
      "text/plain": [
       "<Figure size 360x360 with 1 Axes>"
      ]
     },
     "metadata": {
      "needs_background": "light"
     },
     "output_type": "display_data"
    }
   ],
   "source": [
    "f_ind = 100\n",
    "tmp_series = gt_features[:, f_ind]\n",
    "sns.displot(tmp_series)\n",
    "print(np.mean(tmp_series), np.std(tmp_series))"
   ]
  },
  {
   "cell_type": "code",
   "execution_count": 164,
   "id": "97c2bb59-bd6d-43d1-9bd3-840072c905ee",
   "metadata": {},
   "outputs": [
    {
     "name": "stdout",
     "output_type": "stream",
     "text": [
      "1.4306531 0.9424484\n"
     ]
    },
    {
     "data": {
      "image/png": "[encoded data removed]",
      "text/plain": [
       "<Figure size 360x360 with 1 Axes>"
      ]
     },
     "metadata": {
      "needs_background": "light"
     },
     "output_type": "display_data"
    }
   ],
   "source": [
    "tmp_series = all_features[:, f_ind]\n",
    "sns.displot(tmp_series)\n",
    "print(np.mean(tmp_series), np.std(tmp_series))"
   ]
  },
  {
   "cell_type": "code",
   "execution_count": null,
   "id": "d9447e07-8863-4b4b-a9db-068b0b2db6d0",
   "metadata": {},
   "outputs": [],
   "source": []
  }
 ],
 "metadata": {
  "kernelspec": {
   "display_name": "Python 3 (ipykernel)",
   "language": "python",
   "name": "python3"
  },
  "language_info": {
   "codemirror_mode": {
    "name": "ipython",
    "version": 3
   },
   "file_extension": ".py",
   "mimetype": "text/x-python",
   "name": "python",
   "nbconvert_exporter": "python",
   "pygments_lexer": "ipython3",
   "version": "3.8.8"
  }
 },
 "nbformat": 4,
 "nbformat_minor": 5
}
