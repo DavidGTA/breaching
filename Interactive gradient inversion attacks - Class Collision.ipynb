{
 "cells": [
  {
   "cell_type": "markdown",
   "id": "3ebef44a",
   "metadata": {},
   "source": [
    "# Breaching privacy"
   ]
  },
  {
   "cell_type": "markdown",
   "id": "a756fc5f",
   "metadata": {},
   "source": [
    "This notebook does the same job as the cmd-line tool `breach.py`, but also directly visualizes the user data and reconstruction"
   ]
  },
  {
   "cell_type": "code",
   "execution_count": 1,
   "id": "b850eabf",
   "metadata": {},
   "outputs": [],
   "source": [
    "import torch\n",
    "import numpy as np\n",
    "import hydra\n",
    "import copy\n",
    "from omegaconf import OmegaConf, open_dict\n",
    "%load_ext autoreload\n",
    "%autoreload 2\n",
    "\n",
    "import breaching\n",
    "import logging, sys\n",
    "logging.basicConfig(level=logging.INFO, handlers=[logging.StreamHandler(sys.stdout)], format='%(message)s')\n",
    "logger = logging.getLogger()"
   ]
  },
  {
   "cell_type": "markdown",
   "id": "88d5e214",
   "metadata": {},
   "source": [
    "### Initialize cfg object and system setup:"
   ]
  },
  {
   "cell_type": "markdown",
   "id": "56bd663b",
   "metadata": {},
   "source": [
    "This will print out all configuration options. \n",
    "There are a lot of possible configurations, but there is usually no need to worry about most of these. Below, a few options are printed."
   ]
  },
  {
   "cell_type": "code",
   "execution_count": 2,
   "id": "a7dc3a48",
   "metadata": {},
   "outputs": [
    {
     "name": "stdout",
     "output_type": "stream",
     "text": [
      "ANTLR runtime and generated code versions disagree: 4.7.2!=4.8\n",
      "ANTLR runtime and generated code versions disagree: 4.7.2!=4.8\n",
      "ANTLR runtime and generated code versions disagree: 4.7.2!=4.8\n",
      "ANTLR runtime and generated code versions disagree: 4.7.2!=4.8\n",
      "Investigating use case single_imagenet with server type class_malicious_parameters.\n"
     ]
    },
    {
     "data": {
      "text/plain": [
       "{'device': device(type='cuda'), 'dtype': torch.float32}"
      ]
     },
     "execution_count": 2,
     "metadata": {},
     "output_type": "execute_result"
    }
   ],
   "source": [
    "with hydra.initialize(config_path=\"config\"):\n",
    "    cfg = hydra.compose(config_name='cfg', overrides=['attack=clsattack'])\n",
    "    cfg.case.server.name = 'class_malicious_parameters'\n",
    "    print(f'Investigating use case {cfg.case.name} with server type {cfg.case.server.name}.')\n",
    "          \n",
    "device = torch.device(f'cuda') if torch.cuda.is_available() else torch.device('cpu')\n",
    "torch.backends.cudnn.benchmark = cfg.case.impl.benchmark\n",
    "setup = dict(device=device, dtype=getattr(torch, cfg.case.impl.dtype))\n",
    "setup"
   ]
  },
  {
   "cell_type": "markdown",
   "id": "203c5fb1",
   "metadata": {},
   "source": [
    "### Modify config options here"
   ]
  },
  {
   "cell_type": "markdown",
   "id": "6e0764ef",
   "metadata": {},
   "source": [
    "You can use `.attribute` access to modify any of these configurations:"
   ]
  },
  {
   "cell_type": "code",
   "execution_count": 11,
   "id": "ac118ea0",
   "metadata": {},
   "outputs": [],
   "source": [
    "with open_dict(cfg):\n",
    "    cfg.case.data.partition = \"unique-class\"\n",
    "    cfg.case.user.user_idx = 0\n",
    "    cfg.case.user.num_data_points = 8\n",
    "    cfg.case.model = 'resnet18'\n",
    "    cfg.case.server.model_state = 'trained'\n",
    "    cfg.case.user.provide_labels = True\n",
    "    cfg.case.user.provide_buffers = True\n",
    "    cfg.case.user.provide_num_data_points = True\n",
    "\n",
    "    cfg.attack.optim.max_iterations = 0"
   ]
  },
  {
   "cell_type": "markdown",
   "id": "76f64389",
   "metadata": {},
   "source": [
    "### Instantiate all parties"
   ]
  },
  {
   "cell_type": "code",
   "execution_count": 12,
   "id": "d3abd955",
   "metadata": {},
   "outputs": [
    {
     "name": "stdout",
     "output_type": "stream",
     "text": [
      "Model architecture resnet18 loaded with 11,380,173 parameters and 9,620 buffers.\n",
      "Overall this is a data ratio of       9:1 for target shape [8, 3, 224, 224] given that num_queries=1.\n",
      "User (of type UserSingleStep) with settings:\n",
      "    Number of data points: 8\n",
      "\n",
      "    Threat model:\n",
      "    User provides labels: True\n",
      "    User provides buffers: True\n",
      "    User provides number of data points: True\n",
      "\n",
      "    Data:\n",
      "    Dataset: ImageNetAnimals\n",
      "    user: 0\n",
      "    \n",
      "        \n",
      "Server (of type ClassParameterServer) with settings:\n",
      "    Threat model: Honest-but-curious\n",
      "    Number of planned queries: 1\n",
      "    Has external/public data: False\n",
      "\n",
      "    Model:\n",
      "        model specification: resnet18\n",
      "        model state: trained\n",
      "        public buffers: True\n",
      "\n",
      "    Secrets: {}\n",
      "    \n",
      "Attacker (of type OptimizationBasedAttacker) with settings:\n",
      "    Hyperparameter Template: invertinggradients\n",
      "\n",
      "    Objective: Cosine Similarity with scale=1.0 and task reg=0.0\n",
      "    Regularizers: Total Variation, scale=0.2. p=2 q=0.5. Color TV: double oppponents\n",
      "    Augmentations: \n",
      "\n",
      "    Optimization Setup:\n",
      "        optimizer: adam\n",
      "        signed: soft\n",
      "        step_size: 0.1\n",
      "        boxed: True\n",
      "        max_iterations: 0\n",
      "        step_size_decay: cosine-decay\n",
      "        langevin_noise: 0.0\n",
      "        warmup: 50\n",
      "        grad_clip: None\n",
      "        callback: 1000\n",
      "        \n"
     ]
    }
   ],
   "source": [
    "user, server, model, loss_fn = breaching.cases.construct_case(cfg.case, setup)\n",
    "attacker = breaching.attacks.prepare_attack(server.model, server.loss, cfg.attack, setup)\n",
    "breaching.utils.overview(server, user, attacker)"
   ]
  },
  {
   "cell_type": "markdown",
   "id": "548c0ad6",
   "metadata": {},
   "source": [
    "### Simulate an attacked FL protocol"
   ]
  },
  {
   "cell_type": "markdown",
   "id": "2058bcc2",
   "metadata": {},
   "source": [
    "True user data is returned only for analysis"
   ]
  },
  {
   "cell_type": "code",
   "execution_count": 33,
   "id": "db5fd444",
   "metadata": {},
   "outputs": [
    {
     "name": "stdout",
     "output_type": "stream",
     "text": [
      "3.7050085067749023 2.0416505336761475 5.368366479873657\n",
      "2.0416505336761475 1.2761552333831787 2.807145833969116\n",
      "1.2761552333831787 0.5332276821136475 2.01908278465271\n",
      "0.5332276821136475 0.5332276821136475 0.5332276821136475\n",
      "2.01908278465271 1.2752189636230469 2.762946605682373\n",
      "1.6476190090179443 0.5332276821136475 2.762010335922241\n",
      "2.807145833969116 1.6155763864517212 3.9987152814865112\n",
      "1.6155763864517212 0.5332276821136475 2.697925090789795\n",
      "3.9987152814865112 2.425417423248291 5.5720131397247314\n",
      "2.425417423248291 1.6155763864517212 3.235258460044861\n",
      "5.5720131397247314 2.7234790325164795 8.420547246932983\n",
      "2.7234790325164795 1.6155763864517212 3.831381678581238\n",
      "8.420547246932983 3.7050085067749023 13.136085987091064\n",
      "6.996280193328857 3.7050085067749023 10.287551879882812\n",
      "4.785364210605621 2.7234790325164795 6.847249388694763\n",
      "3.4029305577278137 2.0416505336761475 4.76421058177948\n",
      "5.368366479873657 2.7234790325164795 8.013253927230835\n",
      "4.53668749332428 2.7234790325164795 6.34989595413208\n"
     ]
    },
    {
     "ename": "IndexError",
     "evalue": "list index out of range",
     "output_type": "error",
     "traceback": [
      "\u001b[1;31m---------------------------------------------------------------------------\u001b[0m",
      "\u001b[1;31mIndexError\u001b[0m                                Traceback (most recent call last)",
      "\u001b[1;32m<ipython-input-33-74f1164b9da8>\u001b[0m in \u001b[0;36m<module>\u001b[1;34m\u001b[0m\n\u001b[0;32m     39\u001b[0m \u001b[0mattacker\u001b[0m\u001b[1;33m.\u001b[0m\u001b[0mobjective\u001b[0m\u001b[1;33m.\u001b[0m\u001b[0mcfg_impl\u001b[0m \u001b[1;33m=\u001b[0m \u001b[0mcfg\u001b[0m\u001b[1;33m.\u001b[0m\u001b[0mattack\u001b[0m\u001b[1;33m.\u001b[0m\u001b[0mimpl\u001b[0m\u001b[1;33m\u001b[0m\u001b[1;33m\u001b[0m\u001b[0m\n\u001b[0;32m     40\u001b[0m \u001b[0msingle_gradients\u001b[0m\u001b[1;33m,\u001b[0m \u001b[0msingle_losses\u001b[0m \u001b[1;33m=\u001b[0m \u001b[0mserver\u001b[0m\u001b[1;33m.\u001b[0m\u001b[0mcal_single_gradients\u001b[0m\u001b[1;33m(\u001b[0m\u001b[0mattacker\u001b[0m\u001b[1;33m,\u001b[0m \u001b[0mtrue_user_data\u001b[0m\u001b[1;33m)\u001b[0m\u001b[1;33m\u001b[0m\u001b[1;33m\u001b[0m\u001b[0m\n\u001b[1;32m---> 41\u001b[1;33m \u001b[0mrecovered_single_gradients\u001b[0m \u001b[1;33m=\u001b[0m \u001b[0mserver\u001b[0m\u001b[1;33m.\u001b[0m\u001b[0morder_gradients\u001b[0m\u001b[1;33m(\u001b[0m\u001b[0mrecovered_single_gradients\u001b[0m\u001b[1;33m,\u001b[0m \u001b[0msingle_gradients\u001b[0m\u001b[1;33m)\u001b[0m\u001b[1;33m\u001b[0m\u001b[1;33m\u001b[0m\u001b[0m\n\u001b[0m",
      "\u001b[1;32mD:\\university\\research\\gradient-inversion\\breaching\\breaching\\cases\\servers.py\u001b[0m in \u001b[0;36morder_gradients\u001b[1;34m(self, recovered_single_gradients, gt_single_gradients)\u001b[0m\n\u001b[0;32m    672\u001b[0m             \u001b[0mrec_assignment\u001b[0m \u001b[1;33m=\u001b[0m \u001b[0mlist\u001b[0m\u001b[1;33m(\u001b[0m\u001b[0mrange\u001b[0m\u001b[1;33m(\u001b[0m\u001b[0mnum_data\u001b[0m\u001b[1;33m)\u001b[0m\u001b[1;33m)\u001b[0m\u001b[1;33m\u001b[0m\u001b[1;33m\u001b[0m\u001b[0m\n\u001b[0;32m    673\u001b[0m \u001b[1;33m\u001b[0m\u001b[0m\n\u001b[1;32m--> 674\u001b[1;33m         \u001b[1;32mreturn\u001b[0m \u001b[1;33m[\u001b[0m\u001b[0mrecovered_single_gradients\u001b[0m\u001b[1;33m[\u001b[0m\u001b[0mi\u001b[0m\u001b[1;33m]\u001b[0m \u001b[1;32mfor\u001b[0m \u001b[0mi\u001b[0m \u001b[1;32min\u001b[0m \u001b[0mrec_assignment\u001b[0m\u001b[1;33m]\u001b[0m\u001b[1;33m\u001b[0m\u001b[1;33m\u001b[0m\u001b[0m\n\u001b[0m\u001b[0;32m    675\u001b[0m \u001b[1;33m\u001b[0m\u001b[0m\n\u001b[0;32m    676\u001b[0m     \u001b[1;32mdef\u001b[0m \u001b[0mreconstruct_feature\u001b[0m\u001b[1;33m(\u001b[0m\u001b[0mself\u001b[0m\u001b[1;33m,\u001b[0m \u001b[0mshared_data\u001b[0m\u001b[1;33m,\u001b[0m \u001b[0mcls_to_obtain\u001b[0m\u001b[1;33m)\u001b[0m\u001b[1;33m:\u001b[0m\u001b[1;33m\u001b[0m\u001b[1;33m\u001b[0m\u001b[0m\n",
      "\u001b[1;32mD:\\university\\research\\gradient-inversion\\breaching\\breaching\\cases\\servers.py\u001b[0m in \u001b[0;36m<listcomp>\u001b[1;34m(.0)\u001b[0m\n\u001b[0;32m    672\u001b[0m             \u001b[0mrec_assignment\u001b[0m \u001b[1;33m=\u001b[0m \u001b[0mlist\u001b[0m\u001b[1;33m(\u001b[0m\u001b[0mrange\u001b[0m\u001b[1;33m(\u001b[0m\u001b[0mnum_data\u001b[0m\u001b[1;33m)\u001b[0m\u001b[1;33m)\u001b[0m\u001b[1;33m\u001b[0m\u001b[1;33m\u001b[0m\u001b[0m\n\u001b[0;32m    673\u001b[0m \u001b[1;33m\u001b[0m\u001b[0m\n\u001b[1;32m--> 674\u001b[1;33m         \u001b[1;32mreturn\u001b[0m \u001b[1;33m[\u001b[0m\u001b[0mrecovered_single_gradients\u001b[0m\u001b[1;33m[\u001b[0m\u001b[0mi\u001b[0m\u001b[1;33m]\u001b[0m \u001b[1;32mfor\u001b[0m \u001b[0mi\u001b[0m \u001b[1;32min\u001b[0m \u001b[0mrec_assignment\u001b[0m\u001b[1;33m]\u001b[0m\u001b[1;33m\u001b[0m\u001b[1;33m\u001b[0m\u001b[0m\n\u001b[0m\u001b[0;32m    675\u001b[0m \u001b[1;33m\u001b[0m\u001b[0m\n\u001b[0;32m    676\u001b[0m     \u001b[1;32mdef\u001b[0m \u001b[0mreconstruct_feature\u001b[0m\u001b[1;33m(\u001b[0m\u001b[0mself\u001b[0m\u001b[1;33m,\u001b[0m \u001b[0mshared_data\u001b[0m\u001b[1;33m,\u001b[0m \u001b[0mcls_to_obtain\u001b[0m\u001b[1;33m)\u001b[0m\u001b[1;33m:\u001b[0m\u001b[1;33m\u001b[0m\u001b[1;33m\u001b[0m\u001b[0m\n",
      "\u001b[1;31mIndexError\u001b[0m: list index out of range"
     ]
    }
   ],
   "source": [
    "# modify the model to catch the class we want\n",
    "which_to_recover = 0\n",
    "how_many = 1\n",
    "how_many_rec = 1\n",
    "\n",
    "# preparing for the attack\n",
    "server_payload = server.distribute_payload()\n",
    "shared_data, true_user_data = user.compute_local_updates(server_payload)\n",
    "t_labels = shared_data['metadata']['labels'].cpu().detach().numpy()\n",
    "cls_to_obtain = t_labels[which_to_recover:(which_to_recover + how_many)]\n",
    "extra_info = {'cls_to_obtain': cls_to_obtain}\n",
    "\n",
    "server.reset_model()\n",
    "server.reconfigure_model('cls_attack', extra_info=extra_info)\n",
    "server_payload = server.distribute_payload()\n",
    "shared_data, true_user_data = user.compute_local_updates(server_payload)\n",
    "avg_feature = torch.flatten(server.reconstruct_feature(shared_data, cls_to_obtain))\n",
    "feat_to_obtain = int(torch.argmax(avg_feature))\n",
    "feat_value = float(avg_feature[feat_to_obtain])\n",
    "\n",
    "extra_info['feat_to_obtain'] = feat_to_obtain\n",
    "extra_info['feat_value'] = feat_value\n",
    "extra_info['multiplier'] = 1\n",
    "extra_info['non_target_logit'] = 0\n",
    "extra_info['db_flip'] = 1\n",
    "\n",
    "# iteratively get gradients back\n",
    "recovered_single_gradients = server.binary_attack(user, extra_info)\n",
    "\n",
    "# reorder the gradients\n",
    "server.reset_model()\n",
    "extra_info['multiplier'] = 1\n",
    "extra_info['feat_value'] = feat_value\n",
    "server.reconfigure_model('cls_attack', extra_info=extra_info)\n",
    "server.reconfigure_model('feature_attack', extra_info=extra_info)\n",
    "server_payload = server.distribute_payload()\n",
    "shared_data, true_user_data = user.compute_local_updates(server_payload) \n",
    "\n",
    "attacker.objective.cfg_impl = cfg.attack.impl\n",
    "single_gradients, single_losses = server.cal_single_gradients(attacker, true_user_data)\n",
    "recovered_single_gradients = server.order_gradients(recovered_single_gradients, single_gradients)"
   ]
  },
  {
   "cell_type": "code",
   "execution_count": null,
   "id": "b0dbd868",
   "metadata": {},
   "outputs": [],
   "source": [
    "server.reset_model()\n",
    "extra_info['multiplier'] = 1\n",
    "extra_info['feat_value'] = feat_value\n",
    "server.reconfigure_model('cls_attack', extra_info=extra_info)\n",
    "server.reconfigure_model('feature_attack', extra_info=extra_info)\n",
    "\n",
    "server_payload = server.distribute_payload()\n",
    "shared_data, true_user_data = user.compute_local_updates(server_payload)  \n",
    "# [(g.mean(), g.std()) for g in shared_data['gradients'][0]]"
   ]
  },
  {
   "cell_type": "code",
   "execution_count": null,
   "id": "49c68628",
   "metadata": {},
   "outputs": [],
   "source": [
    "user.plot(true_user_data)"
   ]
  },
  {
   "cell_type": "markdown",
   "id": "17255c5a",
   "metadata": {},
   "source": [
    "### Reconstruct user data:"
   ]
  },
  {
   "cell_type": "code",
   "execution_count": null,
   "id": "40be80f4",
   "metadata": {},
   "outputs": [],
   "source": [
    "tmp_share_data = copy.deepcopy(shared_data)\n",
    "tmp_share_data['metadata']['num_data_points'] = how_many_rec\n",
    "tmp_share_data['metadata']['labels'] = shared_data['metadata']['labels'][which_to_recover:(which_to_recover + how_many_rec)]\n",
    "tmp_share_data['gradients'] = recovered_single_gradients[which_to_recover]\n",
    "tmp_true_user_data = {}\n",
    "tmp_true_user_data['data'] = true_user_data['data'][which_to_recover:(which_to_recover + how_many_rec)]\n",
    "tmp_true_user_data['labels'] = true_user_data['labels'][which_to_recover:(which_to_recover + how_many_rec)]"
   ]
  },
  {
   "cell_type": "code",
   "execution_count": null,
   "id": "c9a32fd7",
   "metadata": {},
   "outputs": [],
   "source": [
    "reconstructed_user_data, stats = attacker.reconstruct([server_payload], [tmp_share_data], \n",
    "                                                      server.secrets, dryrun=cfg.dryrun)"
   ]
  },
  {
   "cell_type": "code",
   "execution_count": null,
   "id": "31f2685a",
   "metadata": {},
   "outputs": [],
   "source": [
    "#How good is the reconstruction?\n",
    "metrics = breaching.analysis.report(reconstructed_user_data, tmp_true_user_data, [server_payload], \n",
    "                                    server.model, order_batch=True, compute_full_iip=False, \n",
    "                                    cfg_case=cfg.case, setup=setup)"
   ]
  },
  {
   "cell_type": "code",
   "execution_count": null,
   "id": "631f4a84",
   "metadata": {},
   "outputs": [],
   "source": [
    "user.plot(reconstructed_user_data)"
   ]
  },
  {
   "cell_type": "code",
   "execution_count": null,
   "id": "99568a44-aa3e-4cb5-b1e6-74bda7a2fa45",
   "metadata": {},
   "outputs": [],
   "source": [
    "for i in range(len(recovered_single_gradients)):\n",
    "    grad_0 = torch.cat([torch.flatten(i) for i in recovered_single_gradients[i]])\n",
    "    grad_0_0 = single_gradients[i]\n",
    "    \n",
    "    print(float(torch.nn.CosineSimilarity(dim=0)(grad_0, grad_0_0).detach()))"
   ]
  },
  {
   "cell_type": "code",
   "execution_count": 35,
   "id": "d2056538-5cb9-4615-8f96-1f9bd76540f1",
   "metadata": {},
   "outputs": [
    {
     "name": "stdout",
     "output_type": "stream",
     "text": [
      "grad norm         loss\n",
      "67619.1328125 138.51657104492188\n",
      "39547.1875 872.0106811523438\n",
      "19662.994140625 1900.1875\n",
      "27306.884765625 1454.4305419921875\n",
      "26.657997131347656 0.0003480305604171008\n",
      "42842.28515625 1064.194091796875\n",
      "33386.9453125 1371.830810546875\n",
      "46745.5390625 796.0202026367188\n"
     ]
    }
   ],
   "source": [
    "server.reset_model()\n",
    "extra_info['multiplier'] = 300\n",
    "extra_info['feat_value'] = 6.847249388694763\n",
    "server.reconfigure_model('cls_attack', extra_info=extra_info)\n",
    "server.reconfigure_model('feature_attack', extra_info=extra_info)\n",
    "server_payload = server.distribute_payload()\n",
    "shared_data, true_user_data = user.compute_local_updates(server_payload) \n",
    "\n",
    "# reorder the gradients\n",
    "attacker.objective.cfg_impl = cfg.attack.impl\n",
    "single_gradients, single_losses = server.cal_single_gradients(attacker, true_user_data)\n",
    "server.print_gradients_norm(single_gradients, single_losses)"
   ]
  },
  {
   "cell_type": "code",
   "execution_count": 34,
   "id": "d6531283-f6d7-4044-a1a8-47a7f384b5bb",
   "metadata": {},
   "outputs": [
    {
     "data": {
      "text/plain": [
       "[1.2761552333831787,\n",
       " 2.0416505336761475,\n",
       " 2.807145833969116,\n",
       " 3.7050085067749023,\n",
       " 3.9987152814865112,\n",
       " 5.5720131397247314]"
      ]
     },
     "execution_count": 34,
     "metadata": {},
     "output_type": "execute_result"
    }
   ],
   "source": [
    "server.all_feat_value"
   ]
  },
  {
   "cell_type": "code",
   "execution_count": null,
   "id": "393b1539-3d9b-48db-90c6-ae5b68325f32",
   "metadata": {},
   "outputs": [],
   "source": [
    "3.7050085067749023 * 2 - 3.9987152814865112"
   ]
  },
  {
   "cell_type": "code",
   "execution_count": 22,
   "id": "75fa8202-0ab3-4a4c-bc98-39b7c4835439",
   "metadata": {},
   "outputs": [],
   "source": [
    "a = server.all_feat_value"
   ]
  },
  {
   "cell_type": "code",
   "execution_count": 26,
   "id": "9c15eddb-7b6e-4c51-82ec-de7a42f537eb",
   "metadata": {},
   "outputs": [
    {
     "data": {
      "text/plain": [
       "3.233448088169098"
      ]
     },
     "execution_count": 26,
     "metadata": {},
     "output_type": "execute_result"
    }
   ],
   "source": [
    "np.mean(a)"
   ]
  },
  {
   "cell_type": "code",
   "execution_count": 27,
   "id": "44c114a1-08cc-4100-9780-f75244f93a0d",
   "metadata": {},
   "outputs": [
    {
     "data": {
      "text/plain": [
       "6.534371018409729"
      ]
     },
     "execution_count": 27,
     "metadata": {},
     "output_type": "execute_result"
    }
   ],
   "source": [
    "3.7050085067749023 * 7 - sum(a)"
   ]
  },
  {
   "cell_type": "code",
   "execution_count": 16,
   "id": "08f35296-1ca5-4b4f-927f-1fdeef53e180",
   "metadata": {},
   "outputs": [
    {
     "data": {
      "text/plain": [
       "5.249357640743256"
      ]
     },
     "execution_count": 16,
     "metadata": {},
     "output_type": "execute_result"
    }
   ],
   "source": [
    "(3.9987152814865112 + 6.5)/2"
   ]
  },
  {
   "cell_type": "code",
   "execution_count": null,
   "id": "cc68c6d0-f2f5-46ab-b78e-a58bf4da1fda",
   "metadata": {},
   "outputs": [],
   "source": []
  }
 ],
 "metadata": {
  "kernelspec": {
   "display_name": "Python 3",
   "language": "python",
   "name": "python3"
  },
  "language_info": {
   "codemirror_mode": {
    "name": "ipython",
    "version": 3
   },
   "file_extension": ".py",
   "mimetype": "text/x-python",
   "name": "python",
   "nbconvert_exporter": "python",
   "pygments_lexer": "ipython3",
   "version": "3.8.8"
  }
 },
 "nbformat": 4,
 "nbformat_minor": 5
}
