{
 "cells": [
  {
   "cell_type": "markdown",
   "id": "3ebef44a",
   "metadata": {},
   "source": [
    "# Breaching privacy"
   ]
  },
  {
   "cell_type": "markdown",
   "id": "a756fc5f",
   "metadata": {},
   "source": [
    "This notebook does the same job as the cmd-line tool `breach.py`, but also directly visualizes the user data and reconstruction"
   ]
  },
  {
   "cell_type": "code",
   "execution_count": null,
   "id": "b850eabf",
   "metadata": {},
   "outputs": [],
   "source": [
    "import torch\n",
    "import hydra\n",
    "from omegaconf import OmegaConf\n",
    "%load_ext autoreload\n",
    "%autoreload 2\n",
    "\n",
    "import breaching"
   ]
  },
  {
   "cell_type": "markdown",
   "id": "88d5e214",
   "metadata": {},
   "source": [
    "### Initialize cfg object and system setup:"
   ]
  },
  {
   "cell_type": "markdown",
   "id": "56bd663b",
   "metadata": {},
   "source": [
    "This will print out all configuration options. \n",
    "There are a lot of possible configurations, but there is usually no need to worry about most of these. Below, a few options are printed."
   ]
  },
  {
   "cell_type": "code",
   "execution_count": null,
   "id": "a7dc3a48",
   "metadata": {},
   "outputs": [],
   "source": [
    "with hydra.initialize(config_path=\"config\"):\n",
    "    cfg = hydra.compose(config_name='cfg', overrides=['attack=imprint', 'case/server=malicious-model',\n",
    "                                                      'case=6_small_batch_cifar'])\n",
    "    print(f'Investigating use case {cfg.case.name} with server type {cfg.case.server.name}.')\n",
    "    print('Attack settings are:')\n",
    "    print(OmegaConf.to_yaml(cfg.attack))\n",
    "          \n",
    "device = torch.device(f'cuda') if torch.cuda.is_available() else torch.device('cpu')\n",
    "torch.backends.cudnn.benchmark = cfg.case.impl.benchmark\n",
    "setup = dict(device=device, dtype=torch.double)\n",
    "setup"
   ]
  },
  {
   "cell_type": "markdown",
   "id": "203c5fb1",
   "metadata": {},
   "source": [
    "### Modify config options here"
   ]
  },
  {
   "cell_type": "markdown",
   "id": "6e0764ef",
   "metadata": {},
   "source": [
    "You can use `.attribute` access to modify any of these configurations:"
   ]
  },
  {
   "cell_type": "code",
   "execution_count": null,
   "id": "ac118ea0",
   "metadata": {},
   "outputs": [],
   "source": [
    "cfg.case.user.data_idx = 200\n",
    "cfg.case.model='linear'\n",
    "\n",
    "cfg.case.user.num_data_points = 5\n",
    "cfg.case.server.model_modification = {'DifferentialBlock' : dict(num_bins = 3)}"
   ]
  },
  {
   "cell_type": "markdown",
   "id": "76f64389",
   "metadata": {},
   "source": [
    "### Instantiate all parties"
   ]
  },
  {
   "cell_type": "code",
   "execution_count": null,
   "id": "d3abd955",
   "metadata": {},
   "outputs": [],
   "source": [
    "user, server = breaching.cases.construct_case(cfg.case, setup)\n",
    "attacker = breaching.attacks.prepare_attack(server.model, server.loss, cfg.attack, setup)"
   ]
  },
  {
   "cell_type": "code",
   "execution_count": null,
   "id": "8c7273d4",
   "metadata": {
    "scrolled": false
   },
   "outputs": [],
   "source": [
    "print(user)\n",
    "print(server)\n",
    "print(attacker)"
   ]
  },
  {
   "cell_type": "code",
   "execution_count": null,
   "id": "621b4542",
   "metadata": {},
   "outputs": [],
   "source": [
    "user.model"
   ]
  },
  {
   "cell_type": "markdown",
   "id": "548c0ad6",
   "metadata": {},
   "source": [
    "### Simulate an attacked FL protocol"
   ]
  },
  {
   "cell_type": "markdown",
   "id": "2058bcc2",
   "metadata": {},
   "source": [
    "True user data is returned only for analysis"
   ]
  },
  {
   "cell_type": "code",
   "execution_count": null,
   "id": "b0dbd868",
   "metadata": {},
   "outputs": [],
   "source": [
    "server_payload = server.distribute_payload()\n",
    "shared_data, true_user_data = user.compute_local_updates(server_payload)  \n",
    "[(g.mean().item(), g.std().item()) for g in shared_data['gradients'][0]]"
   ]
  },
  {
   "cell_type": "code",
   "execution_count": null,
   "id": "41dfcf2d",
   "metadata": {},
   "outputs": [],
   "source": [
    "torch.stack([g.pow(2).sum() for g in shared_data['gradients'][0][:-4]]).sum().sqrt()"
   ]
  },
  {
   "cell_type": "code",
   "execution_count": null,
   "id": "49c68628",
   "metadata": {},
   "outputs": [],
   "source": [
    "user.plot(true_user_data)"
   ]
  },
  {
   "cell_type": "markdown",
   "id": "9471a4c7",
   "metadata": {},
   "source": [
    "# Hand inspection"
   ]
  },
  {
   "cell_type": "code",
   "execution_count": null,
   "id": "c68852ed",
   "metadata": {},
   "outputs": [],
   "source": [
    "weight_grad = shared_data['gradients'][0][0]\n",
    "bias_grad = shared_data['gradients'][0][1]\n",
    "\n",
    "# bin_sizes = 1 / (server_payload['queries'][0]['parameters'][0].mean(dim=1) * 3072).detach().to(**setup)\n",
    "bin_sizes = server_payload['queries'][0]['parameters'][2].diag().detach()\n",
    "bins = server_payload['queries'][0]['parameters'][1].to(**setup)\n",
    "bins"
   ]
  },
  {
   "cell_type": "code",
   "execution_count": null,
   "id": "aa7d4a74",
   "metadata": {},
   "outputs": [],
   "source": [
    "true_images  = true_user_data['data']\n",
    "average_image = true_images.sum(dim=0)\n",
    "true_images.mean(dim=[1, 2, 3])"
   ]
  },
  {
   "cell_type": "code",
   "execution_count": null,
   "id": "9be93375",
   "metadata": {},
   "outputs": [],
   "source": [
    "bias_grad != 0"
   ]
  },
  {
   "cell_type": "code",
   "execution_count": null,
   "id": "3506bdc7",
   "metadata": {},
   "outputs": [],
   "source": [
    "(true_images.mean(dim=[1,2,3])[:, None] + bins[None, :]) > 0"
   ]
  },
  {
   "cell_type": "code",
   "execution_count": null,
   "id": "f1aca733",
   "metadata": {},
   "outputs": [],
   "source": [
    "bias_grad, bins, 1 / 3072"
   ]
  },
  {
   "cell_type": "code",
   "execution_count": null,
   "id": "765edad9",
   "metadata": {},
   "outputs": [],
   "source": [
    "weight_grad.norm(dim=-1)"
   ]
  },
  {
   "cell_type": "code",
   "execution_count": null,
   "id": "e80e845c",
   "metadata": {},
   "outputs": [],
   "source": [
    "bias_grad[None, :] / bias_grad[:, None]"
   ]
  },
  {
   "cell_type": "code",
   "execution_count": null,
   "id": "094f5d87",
   "metadata": {},
   "outputs": [],
   "source": [
    "bias_grad.sum(), bias_grad"
   ]
  },
  {
   "cell_type": "code",
   "execution_count": null,
   "id": "bca3beb8",
   "metadata": {},
   "outputs": [],
   "source": [
    "ship = weight_grad[2] / bias_grad[2]\n",
    "dog = (weight_grad[1] + weight_grad[2]) / (bias_grad[1] + bias_grad[2])\n",
    "\n",
    "\n",
    "\n",
    "# dog = ((1 - bias_grad[2]) * weight_grad[1] - (-1 - 0.476) * weight_grad[2]) / (bias_grad[1] + bias_grad[2]) * 1.1718521118164062\n",
    "\n",
    "\n",
    "\n",
    "\n",
    "print(f'Image 1 accurate to {(ship - true_images[0].view(-1)).norm()}')\n",
    "# print(f'Image 2 accurate to {(dog - true_images[1].view(-1)).norm()}')\n",
    "print(f'Image 2 accurate to {(dog / dog.norm() - true_images[1].view(-1) / true_images[1].norm()).norm()}')"
   ]
  },
  {
   "cell_type": "code",
   "execution_count": null,
   "id": "6096a6c6",
   "metadata": {},
   "outputs": [],
   "source": [
    "reconstructed = dict(data=ship.reshape(1, 3, 32, 32), labels=torch.tensor(5))\n",
    "user.plot(reconstructed, scale=True)"
   ]
  },
  {
   "cell_type": "code",
   "execution_count": null,
   "id": "85483f75",
   "metadata": {},
   "outputs": [],
   "source": [
    "reconstructed = dict(data=true_images.sum(dim=0).reshape(1, 3, 32, 32), labels=torch.randint(1, (1,)))\n",
    "user.plot(reconstructed, scale=True)"
   ]
  },
  {
   "cell_type": "code",
   "execution_count": null,
   "id": "b1af5720",
   "metadata": {},
   "outputs": [],
   "source": [
    "#reconstructed = dict(data=outputs, labels=torch.randint(1, (outputs.shape[0],)))\n",
    "#user.plot(reconstructed, scale=True)"
   ]
  },
  {
   "cell_type": "markdown",
   "id": "1c17265a",
   "metadata": {},
   "source": [
    "### Estimate ground truth coefficients"
   ]
  },
  {
   "cell_type": "code",
   "execution_count": null,
   "id": "6fc88125",
   "metadata": {},
   "outputs": [],
   "source": [
    "bins"
   ]
  },
  {
   "cell_type": "code",
   "execution_count": null,
   "id": "4fff562b",
   "metadata": {},
   "outputs": [],
   "source": [
    "true_images.mean(dim=[1, 2, 3])"
   ]
  },
  {
   "cell_type": "code",
   "execution_count": null,
   "id": "a5b98b5e",
   "metadata": {},
   "outputs": [],
   "source": [
    "gt = true_images[1].view(-1)\n",
    "gt.shape, weight_grad.T.shape"
   ]
  },
  {
   "cell_type": "code",
   "execution_count": null,
   "id": "7eb1abf3",
   "metadata": {},
   "outputs": [],
   "source": [
    "weight_grad.shape"
   ]
  },
  {
   "cell_type": "code",
   "execution_count": null,
   "id": "820863e6",
   "metadata": {},
   "outputs": [],
   "source": [
    "cutoff = (weight_grad.sum(dim=1) > 0).nonzero()\n",
    "cutoff = 2"
   ]
  },
  {
   "cell_type": "code",
   "execution_count": null,
   "id": "040b5ca5",
   "metadata": {},
   "outputs": [],
   "source": [
    "# Eq.: weight_grad * (a1, a2, a3) = gt2"
   ]
  },
  {
   "cell_type": "code",
   "execution_count": null,
   "id": "1e92cefc",
   "metadata": {
    "scrolled": false
   },
   "outputs": [],
   "source": [
    "for gt in true_images:\n",
    "    print(torch.linalg.lstsq(weight_grad[:cutoff].T, gt.view(-1)))\n",
    "    print()"
   ]
  },
  {
   "cell_type": "code",
   "execution_count": null,
   "id": "53c5b9e4",
   "metadata": {
    "scrolled": false
   },
   "outputs": [],
   "source": [
    "valid_classes = bias_grad != 0\n",
    "# intermediates = (weight_grad[valid_classes, :] / bias_grad[valid_classes, None])\n",
    "\n",
    "intermediates = weight_grad[valid_classes, :] / bias_grad[valid_classes, None]\n",
    "# intermediates = torch.cat([intermediates, torch.ones(1, 3072, **setup)], dim=0)\n",
    "\n",
    "for gt in true_images:\n",
    "    print(torch.linalg.lstsq(intermediates.T, gt.view(-1)))\n",
    "    print()"
   ]
  },
  {
   "cell_type": "code",
   "execution_count": null,
   "id": "c352a7bc",
   "metadata": {},
   "outputs": [],
   "source": [
    "intermediates.shape"
   ]
  },
  {
   "cell_type": "markdown",
   "id": "29edf992",
   "metadata": {},
   "source": [
    "# Old Stuff"
   ]
  },
  {
   "cell_type": "code",
   "execution_count": null,
   "id": "58706e07",
   "metadata": {},
   "outputs": [],
   "source": [
    "valid_classes = bias_grad != 0\n",
    "# intermediates = (weight_grad[valid_classes, :] / bias_grad[valid_classes, None])\n",
    "\n",
    "intermediates = torch.zeros_like(weight_grad)\n",
    "intermediates[valid_classes] = weight_grad[valid_classes, :] / bias_grad[valid_classes, None]\n",
    "\n",
    "direct_outputs = intermediates.unflatten(1, (3, 32, 32))\n",
    "\n",
    "# intermediates = torch.cat([intermediates[0:1], intermediates.diff(dim=0)])\n",
    "# intermediates = torch.stack([intermediates[0], intermediates[-1]])\n",
    "differentials = torch.zeros_like(intermediates)\n",
    "for i in range(differentials.shape[0]):\n",
    "    if i == differentials.shape[0] - 1:\n",
    "        differentials[i] = intermediates[i]\n",
    "    else:\n",
    "        differentials[i] = (intermediates[i+1] - intermediates[i]) # * bin_sizes[i]\n",
    "outputs = -differentials.unflatten(1, (3, 32, 32))"
   ]
  },
  {
   "cell_type": "code",
   "execution_count": null,
   "id": "8cac38de",
   "metadata": {},
   "outputs": [],
   "source": [
    "reconstructed = dict(data=weight_grad.unflatten(1, (3, 32, 32)), labels=torch.randint(1, (outputs.shape[0],)))\n",
    "user.plot(reconstructed, scale=True)"
   ]
  },
  {
   "cell_type": "code",
   "execution_count": null,
   "id": "f68c62d8",
   "metadata": {},
   "outputs": [],
   "source": [
    "reconstructed = dict(data=outputs, labels=torch.randint(1, (outputs.shape[0],)))\n",
    "user.plot(reconstructed, scale=False)"
   ]
  },
  {
   "cell_type": "code",
   "execution_count": null,
   "id": "04ec8539",
   "metadata": {},
   "outputs": [],
   "source": [
    "reconstructed = dict(data=outputs[0][None,:].reshape(1, 3, 32, 32), labels=torch.randint(1, (1,)))\n",
    "user.plot(reconstructed, scale=False)"
   ]
  },
  {
   "cell_type": "code",
   "execution_count": null,
   "id": "2f305bf5",
   "metadata": {},
   "outputs": [],
   "source": [
    "metrics = breaching.analysis.report(reconstructed, true_user_data, \n",
    "                                    server_payload, server.model, user.dataloader, setup=setup,\n",
    "                                    order_batch=True, compute_full_iip=False)"
   ]
  },
  {
   "cell_type": "code",
   "execution_count": null,
   "id": "cb078449",
   "metadata": {},
   "outputs": [],
   "source": []
  }
 ],
 "metadata": {
  "kernelspec": {
   "display_name": "Python 3 (ipykernel)",
   "language": "python",
   "name": "python3"
  },
  "language_info": {
   "codemirror_mode": {
    "name": "ipython",
    "version": 3
   },
   "file_extension": ".py",
   "mimetype": "text/x-python",
   "name": "python",
   "nbconvert_exporter": "python",
   "pygments_lexer": "ipython3",
   "version": "3.9.7"
  }
 },
 "nbformat": 4,
 "nbformat_minor": 5
}
