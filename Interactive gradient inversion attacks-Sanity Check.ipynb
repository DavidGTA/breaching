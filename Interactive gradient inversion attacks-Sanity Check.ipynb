{
 "cells": [
  {
   "cell_type": "markdown",
   "id": "3ebef44a",
   "metadata": {},
   "source": [
    "# Breaching privacy"
   ]
  },
  {
   "cell_type": "markdown",
   "id": "a756fc5f",
   "metadata": {},
   "source": [
    "This notebook does the same job as the cmd-line tool `breach.py`, but also directly visualizes the user data and reconstruction"
   ]
  },
  {
   "cell_type": "code",
   "execution_count": null,
   "id": "b850eabf",
   "metadata": {},
   "outputs": [],
   "source": [
    "import torch\n",
    "import hydra\n",
    "from omegaconf import OmegaConf\n",
    "%load_ext autoreload\n",
    "%autoreload 2\n",
    "\n",
    "import breaching\n",
    "import logging, sys\n",
    "logging.basicConfig(level=logging.INFO, handlers=[logging.StreamHandler(sys.stdout)], format='%(message)s')\n",
    "logger = logging.getLogger()"
   ]
  },
  {
   "cell_type": "markdown",
   "id": "88d5e214",
   "metadata": {},
   "source": [
    "### Initialize cfg object and system setup:"
   ]
  },
  {
   "cell_type": "markdown",
   "id": "56bd663b",
   "metadata": {},
   "source": [
    "This will print out all configuration options. \n",
    "There are a lot of possible configurations, but there is usually no need to worry about most of these. Below, a few options are printed."
   ]
  },
  {
   "cell_type": "code",
   "execution_count": null,
   "id": "a7dc3a48",
   "metadata": {},
   "outputs": [],
   "source": [
    "with hydra.initialize(config_path=\"config\"):\n",
    "    cfg = hydra.compose(config_name='cfg', overrides=['attack=analytic', \n",
    "                                                      'case=0_sanity_check', \n",
    "                                                      'case/data=ImageNet'])\n",
    "    print(f'Investigating use case {cfg.case.name} with server type {cfg.case.server.name}.')\n",
    "          \n",
    "device = torch.device(f'cuda') if torch.cuda.is_available() else torch.device('cpu')\n",
    "torch.backends.cudnn.benchmark = cfg.case.impl.benchmark\n",
    "setup = dict(device=device, dtype=getattr(torch, cfg.case.impl.dtype))\n",
    "setup"
   ]
  },
  {
   "cell_type": "markdown",
   "id": "93b9138a",
   "metadata": {},
   "source": [
    "These configurations run the sanity check which is a simple linear model. Recovering information from the linear model is trivial, especially if the user data has unique class labels."
   ]
  },
  {
   "cell_type": "markdown",
   "id": "203c5fb1",
   "metadata": {},
   "source": [
    "### Modify config options here"
   ]
  },
  {
   "cell_type": "markdown",
   "id": "6e0764ef",
   "metadata": {},
   "source": [
    "You can use `.attribute` access to modify any of these configurations:"
   ]
  },
  {
   "cell_type": "code",
   "execution_count": null,
   "id": "ac118ea0",
   "metadata": {},
   "outputs": [],
   "source": [
    "cfg.case.user.num_data_points = 49\n",
    "\n",
    "cfg.case.user.local_diff_privacy.gradient_noise = 0.0\n",
    "cfg.case.user.local_diff_privacy.per_example_clipping = 0.0\n",
    "\n",
    "cfg.case.server.has_external_data = False"
   ]
  },
  {
   "cell_type": "markdown",
   "id": "76f64389",
   "metadata": {},
   "source": [
    "### Instantiate all parties"
   ]
  },
  {
   "cell_type": "code",
   "execution_count": null,
   "id": "d3abd955",
   "metadata": {},
   "outputs": [],
   "source": [
    "user, server, model, loss_fn = breaching.cases.construct_case(cfg.case, setup)\n",
    "attacker = breaching.attacks.prepare_attack(server.model, server.loss, cfg.attack, setup)\n",
    "breaching.utils.overview(server, user, attacker)"
   ]
  },
  {
   "cell_type": "markdown",
   "id": "548c0ad6",
   "metadata": {},
   "source": [
    "### Simulate an attacked FL protocol"
   ]
  },
  {
   "cell_type": "code",
   "execution_count": null,
   "id": "b0dbd868",
   "metadata": {},
   "outputs": [],
   "source": [
    "server_payload = server.distribute_payload()\n",
    "shared_data, true_user_data = user.compute_local_updates(server_payload)  \n",
    "# True user data is returned only for analysis"
   ]
  },
  {
   "cell_type": "code",
   "execution_count": null,
   "id": "49c68628",
   "metadata": {},
   "outputs": [],
   "source": [
    "user.plot(true_user_data)"
   ]
  },
  {
   "cell_type": "markdown",
   "id": "17255c5a",
   "metadata": {},
   "source": [
    "### Reconstruct user data:"
   ]
  },
  {
   "cell_type": "code",
   "execution_count": null,
   "id": "5329c017",
   "metadata": {},
   "outputs": [],
   "source": [
    "reconstructed_user_data, stats = attacker.reconstruct([server_payload], [shared_data], \n",
    "                                                      server.secrets, dryrun=cfg.dryrun)"
   ]
  },
  {
   "cell_type": "code",
   "execution_count": null,
   "id": "8a2f0092",
   "metadata": {},
   "outputs": [],
   "source": [
    "#How good is the reconstruction?\n",
    "metrics = breaching.analysis.report(reconstructed_user_data, true_user_data, [server_payload], \n",
    "                                    server.model, order_batch=True, compute_full_iip=False, \n",
    "                                    cfg_case=cfg.case, setup=setup)"
   ]
  },
  {
   "cell_type": "code",
   "execution_count": null,
   "id": "631f4a84",
   "metadata": {},
   "outputs": [],
   "source": [
    "user.plot(reconstructed_user_data)"
   ]
  },
  {
   "cell_type": "markdown",
   "id": "cc96c566",
   "metadata": {},
   "source": [
    "# Visualize differences"
   ]
  },
  {
   "cell_type": "markdown",
   "id": "6a7f1471",
   "metadata": {},
   "source": [
    "The problem is not well-conditioned, and even in this setting, information is lost due to floating-point precision after the division of weight and bias gradients and the reconstruction is only near-perfect.#"
   ]
  },
  {
   "cell_type": "code",
   "execution_count": null,
   "id": "fd44866c",
   "metadata": {},
   "outputs": [],
   "source": [
    "diff_data = dict(data=(reconstructed_user_data['data'] - true_user_data['data']).pow(2).sqrt(),\n",
    "                 labels=shared_data['labels'])"
   ]
  },
  {
   "cell_type": "code",
   "execution_count": null,
   "id": "e6090489",
   "metadata": {},
   "outputs": [],
   "source": [
    "user.plot(diff_data, scale=True)"
   ]
  },
  {
   "cell_type": "markdown",
   "id": "4515fd57",
   "metadata": {},
   "source": [
    "### Sept 14: CIFAR? "
   ]
  },
  {
   "cell_type": "code",
   "execution_count": null,
   "id": "a3b4398e",
   "metadata": {},
   "outputs": [],
   "source": [
    "with hydra.initialize(config_path=\"config\"):\n",
    "    cfg = hydra.compose(config_name='cfg', overrides=['attack=analytic', \n",
    "                                                      'case=0_sanity_check', \n",
    "                                                      'case/data=CIFAR10'])\n",
    "    print(f'Investigating use case {cfg.case.name} with server type {cfg.case.server.name}.')\n",
    "    print('Attack settings are:')\n",
    "    print(OmegaConf.to_yaml(cfg.attack))\n",
    "          \n",
    "device = torch.device(f'cuda') if torch.cuda.is_available() else torch.device('cpu')\n",
    "torch.backends.cudnn.benchmark = cfg.case.impl.benchmark\n",
    "setup = dict(device=device, dtype=getattr(torch, cfg.case.impl.dtype))\n",
    "setup"
   ]
  },
  {
   "cell_type": "code",
   "execution_count": null,
   "id": "eb77b725",
   "metadata": {},
   "outputs": [],
   "source": [
    "# cfg.dryrun = False\n",
    "# cfg.attack.optim.step_size=1.0\n",
    "cfg.case.user.data_idx = 0\n",
    "# cfg.case.model = 'resnet50'\n",
    "#cfg.case.server.model_state='moco'\n",
    "cfg.case.user.num_data_points = 64"
   ]
  },
  {
   "cell_type": "code",
   "execution_count": null,
   "id": "2133eed6",
   "metadata": {},
   "outputs": [],
   "source": [
    "user, server = breaching.cases.construct_case(cfg.case, setup)\n",
    "attacker = breaching.attacks.prepare_attack(server.model, server.loss, cfg.attack, setup)"
   ]
  },
  {
   "cell_type": "code",
   "execution_count": null,
   "id": "706ba155",
   "metadata": {},
   "outputs": [],
   "source": [
    "print(user)\n",
    "print(server)\n",
    "print(attacker)"
   ]
  },
  {
   "cell_type": "code",
   "execution_count": null,
   "id": "99fe2c35",
   "metadata": {},
   "outputs": [],
   "source": [
    "server_payload = server.distribute_payload()\n",
    "shared_data, true_user_data = user.compute_local_updates(server_payload)  \n",
    "# True user data is returned only for analysis"
   ]
  },
  {
   "cell_type": "code",
   "execution_count": null,
   "id": "2b9c974f",
   "metadata": {},
   "outputs": [],
   "source": [
    "user.plot(true_user_data)"
   ]
  },
  {
   "cell_type": "code",
   "execution_count": null,
   "id": "c0c6d6f7",
   "metadata": {},
   "outputs": [],
   "source": [
    "reconstructed_user_data, stats = attacker.reconstruct(server_payload, shared_data, dryrun=cfg.dryrun)\n",
    "\n",
    "# How good is the reconstruction?\n",
    "#metrics = breaching.analysis.report(reconstructed_user_data, \n",
    "#                                    true_user_data, server_payload, server.model, setup)"
   ]
  },
  {
   "cell_type": "code",
   "execution_count": null,
   "id": "2b0e2658",
   "metadata": {},
   "outputs": [],
   "source": [
    "user.plot(reconstructed_user_data)"
   ]
  },
  {
   "cell_type": "markdown",
   "id": "2eed3ac4",
   "metadata": {},
   "source": [
    "### CIFAR but with Imprint module?"
   ]
  },
  {
   "cell_type": "code",
   "execution_count": null,
   "id": "64c8b10b",
   "metadata": {},
   "outputs": [],
   "source": [
    "with hydra.initialize(config_path=\"config\"):\n",
    "    cfg = hydra.compose(config_name='cfg', overrides=['attack=imprint', 'case/server=malicious-model',\n",
    "                                                      'case=0_sanity_check', \n",
    "                                                      'case/data=CIFAR10'])\n",
    "    print(f'Investigating use case {cfg.case.name} with server type {cfg.case.server.name}.')\n",
    "    print('Attack settings are:')\n",
    "    print(OmegaConf.to_yaml(cfg.attack))\n",
    "          \n",
    "device = torch.device(f'cuda') if torch.cuda.is_available() else torch.device('cpu')\n",
    "torch.backends.cudnn.benchmark = cfg.case.impl.benchmark\n",
    "setup = dict(device=device, dtype=getattr(torch, cfg.case.impl.dtype))\n",
    "setup"
   ]
  },
  {
   "cell_type": "code",
   "execution_count": null,
   "id": "69e49319",
   "metadata": {},
   "outputs": [],
   "source": [
    "# cfg.dryrun = False\n",
    "# cfg.attack.optim.step_size=1.0\n",
    "cfg.case.user.data_idx = 0\n",
    "cfg.case.user.num_data_points = 64"
   ]
  },
  {
   "cell_type": "code",
   "execution_count": null,
   "id": "7ec4abb7",
   "metadata": {},
   "outputs": [],
   "source": [
    "user, server = breaching.cases.construct_case(cfg.case, setup)\n",
    "attacker = breaching.attacks.prepare_attack(server.model, server.loss, cfg.attack, setup)"
   ]
  },
  {
   "cell_type": "code",
   "execution_count": null,
   "id": "8011e629",
   "metadata": {},
   "outputs": [],
   "source": [
    "print(user)\n",
    "print(server)\n",
    "print(attacker)"
   ]
  },
  {
   "cell_type": "code",
   "execution_count": null,
   "id": "832cf1ee",
   "metadata": {},
   "outputs": [],
   "source": [
    "server_payload = server.distribute_payload()\n",
    "shared_data, true_user_data = user.compute_local_updates(server_payload)  \n",
    "# True user data is returned only for analysis"
   ]
  },
  {
   "cell_type": "code",
   "execution_count": null,
   "id": "490e78fc",
   "metadata": {},
   "outputs": [],
   "source": [
    "user.plot(true_user_data)"
   ]
  },
  {
   "cell_type": "code",
   "execution_count": null,
   "id": "63e408ea",
   "metadata": {},
   "outputs": [],
   "source": [
    "reconstructed_user_data, stats = attacker.reconstruct(server_payload, shared_data, server.secrets, \n",
    "                                                      dryrun=cfg.dryrun)\n",
    "\n",
    "# How good is the reconstruction?\n",
    "#metrics = breaching.analysis.report(reconstructed_user_data, \n",
    "#                                    true_user_data, server_payload, server.model, setup)"
   ]
  },
  {
   "cell_type": "code",
   "execution_count": null,
   "id": "3a66ad0f",
   "metadata": {},
   "outputs": [],
   "source": [
    "user.plot(reconstructed_user_data)"
   ]
  },
  {
   "cell_type": "code",
   "execution_count": null,
   "id": "213c1e72",
   "metadata": {},
   "outputs": [],
   "source": [
    "metrics = breaching.analysis.report(reconstructed_user_data, \n",
    "                                   true_user_data, server_payload, server.model, setup, order_batch=True)"
   ]
  },
  {
   "cell_type": "code",
   "execution_count": null,
   "id": "3d940e9e",
   "metadata": {},
   "outputs": [],
   "source": [
    "ordered_user_data = dict(data=reconstructed_user_data['data'][metrics['order']], \n",
    "                         labels=reconstructed_user_data['labels'][metrics['order']])"
   ]
  },
  {
   "cell_type": "code",
   "execution_count": null,
   "id": "40271d9e",
   "metadata": {},
   "outputs": [],
   "source": [
    "user.plot(ordered_user_data)"
   ]
  },
  {
   "cell_type": "code",
   "execution_count": null,
   "id": "510b3f86",
   "metadata": {},
   "outputs": [],
   "source": []
  }
 ],
 "metadata": {
  "kernelspec": {
   "display_name": "Python 3 (ipykernel)",
   "language": "python",
   "name": "python3"
  },
  "language_info": {
   "codemirror_mode": {
    "name": "ipython",
    "version": 3
   },
   "file_extension": ".py",
   "mimetype": "text/x-python",
   "name": "python",
   "nbconvert_exporter": "python",
   "pygments_lexer": "ipython3",
   "version": "3.9.2"
  }
 },
 "nbformat": 4,
 "nbformat_minor": 5
}
