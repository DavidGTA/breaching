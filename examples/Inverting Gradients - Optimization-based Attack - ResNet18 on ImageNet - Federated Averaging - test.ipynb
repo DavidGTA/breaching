{
 "cells": [
  {
   "cell_type": "markdown",
   "id": "3ebef44a",
   "metadata": {},
   "source": [
    "# Inverting Gradients - How easy is it to break privacy in federated learning?"
   ]
  },
  {
   "cell_type": "markdown",
   "id": "a756fc5f",
   "metadata": {},
   "source": [
    "This notebook shows an example for a **small-batch image gradient inversion** as described in \"Inverting Gradients - How easy is it to break privacy in federated learning?\". The setting is a trained ResNet-18 and the federated learning algorithm is **fedAVG**.\n",
    "\n",
    "Paper URL: https://proceedings.neurips.cc/paper/2020/hash/c4ede56bbd98819ae6112b20ac6bf145-Abstract.html"
   ]
  },
  {
   "cell_type": "markdown",
   "id": "6366c2f3",
   "metadata": {},
   "source": [
    "This notebook can replicate the experiments in Fig.5 and Tab. 2 of this paper."
   ]
  },
  {
   "cell_type": "markdown",
   "id": "b31823a2",
   "metadata": {},
   "source": [
    "#### Abstract\n",
    "The idea of federated learning is to collaboratively train a neural network on a server. Each user receives the current weights of the network and in turns sends parameter updates (gradients) based on local data. This protocol has been designed not only to train neural networks data-efficiently, but also to provide privacy benefits for users, as their input data remains on device and only parameter gradients are shared. But how secure is sharing parameter gradients? Previous attacks have provided a false sense of security, by succeeding only in contrived settings - even for a single image. However, by exploiting a magnitude-invariant loss along with optimization strategies based on adversarial attacks, we show that is is actually possible to faithfully reconstruct images at high resolution from the knowledge of their parameter gradients, and demonstrate that such a break of privacy is possible even for trained deep networks. We analyze the effects of architecture as well as parameters on the difficulty of reconstructing an input image and prove that any input to a fully connected layer can be reconstructed analytically independent of the remaining architecture. Finally we discuss settings encountered in practice and show that even averaging gradients over several iterations or several images does not protect the user's privacy in federated learning applications."
   ]
  },
  {
   "cell_type": "markdown",
   "id": "28c7223c",
   "metadata": {},
   "source": [
    "### Startup"
   ]
  },
  {
   "cell_type": "code",
   "execution_count": 1,
   "id": "429e769d-270d-4a32-8e78-67bae3831079",
   "metadata": {},
   "outputs": [
    {
     "name": "stdout",
     "output_type": "stream",
     "text": [
      "Package                   Version\n",
      "------------------------- --------------\n",
      "antlr4-python3-runtime    4.9.3\n",
      "anyio                     4.8.0\n",
      "argon2-cffi               23.1.0\n",
      "argon2-cffi-bindings      21.2.0\n",
      "arrow                     1.3.0\n",
      "asttokens                 3.0.0\n",
      "async-lru                 2.0.4\n",
      "attrs                     25.1.0\n",
      "babel                     2.17.0\n",
      "beautifulsoup4            4.13.3\n",
      "bleach                    6.2.0\n",
      "certifi                   2025.1.31\n",
      "cffi                      1.17.1\n",
      "charset-normalizer        3.4.1\n",
      "comm                      0.2.2\n",
      "contourpy                 1.3.0\n",
      "cycler                    0.12.1\n",
      "debugpy                   1.8.12\n",
      "decorator                 5.2.1\n",
      "defusedxml                0.7.1\n",
      "exceptiongroup            1.2.2\n",
      "executing                 2.2.0\n",
      "fastjsonschema            2.21.1\n",
      "fonttools                 4.56.0\n",
      "fqdn                      1.5.1\n",
      "h11                       0.14.0\n",
      "httpcore                  1.0.7\n",
      "httpx                     0.28.1\n",
      "hydra-core                1.3.2\n",
      "idna                      3.10\n",
      "importlib_metadata        8.6.1\n",
      "importlib_resources       6.5.2\n",
      "ipykernel                 6.29.5\n",
      "ipython                   8.18.1\n",
      "ipywidgets                8.1.5\n",
      "isoduration               20.11.0\n",
      "jedi                      0.19.2\n",
      "Jinja2                    3.1.5\n",
      "json5                     0.10.0\n",
      "jsonpointer               3.0.0\n",
      "jsonschema                4.23.0\n",
      "jsonschema-specifications 2024.10.1\n",
      "jupyter                   1.1.1\n",
      "jupyter_client            8.6.3\n",
      "jupyter-console           6.6.3\n",
      "jupyter_core              5.7.2\n",
      "jupyter-events            0.12.0\n",
      "jupyter-lsp               2.2.5\n",
      "jupyter_server            2.15.0\n",
      "jupyter_server_terminals  0.5.3\n",
      "jupyterlab                4.3.5\n",
      "jupyterlab_pygments       0.3.0\n",
      "jupyterlab_server         2.27.3\n",
      "jupyterlab_widgets        3.0.13\n",
      "kiwisolver                1.4.7\n",
      "kornia                    0.8.0\n",
      "kornia_rs                 0.1.8\n",
      "lpips                     0.1.4\n",
      "MarkupSafe                3.0.2\n",
      "matplotlib                3.9.4\n",
      "matplotlib-inline         0.1.7\n",
      "mistune                   3.1.2\n",
      "mkl_fft                   1.3.11\n",
      "mkl_random                1.2.8\n",
      "mkl-service               2.4.0\n",
      "nbclient                  0.10.2\n",
      "nbconvert                 7.16.6\n",
      "nbformat                  5.10.4\n",
      "nest-asyncio              1.6.0\n",
      "notebook                  7.3.2\n",
      "notebook_shim             0.2.4\n",
      "numpy                     1.26.4\n",
      "omegaconf                 2.3.0\n",
      "overrides                 7.7.0\n",
      "packaging                 24.2\n",
      "pandocfilters             1.5.1\n",
      "parso                     0.8.4\n",
      "pexpect                   4.9.0\n",
      "pillow                    11.1.0\n",
      "pip                       25.0\n",
      "platformdirs              4.3.6\n",
      "prometheus_client         0.21.1\n",
      "prompt_toolkit            3.0.50\n",
      "psutil                    7.0.0\n",
      "ptyprocess                0.7.0\n",
      "pure_eval                 0.2.3\n",
      "pycparser                 2.22\n",
      "Pygments                  2.19.1\n",
      "pyparsing                 3.2.1\n",
      "python-dateutil           2.9.0.post0\n",
      "python-json-logger        3.2.1\n",
      "pytorch_wavelets          1.3.0\n",
      "PyYAML                    6.0.2\n",
      "pyzmq                     26.2.1\n",
      "referencing               0.36.2\n",
      "requests                  2.32.3\n",
      "rfc3339-validator         0.1.4\n",
      "rfc3986-validator         0.1.1\n",
      "rpds-py                   0.23.1\n",
      "scipy                     1.13.1\n",
      "Send2Trash                1.8.3\n",
      "setuptools                75.8.0\n",
      "six                       1.17.0\n",
      "sniffio                   1.3.1\n",
      "soupsieve                 2.6\n",
      "stack-data                0.6.3\n",
      "terminado                 0.18.1\n",
      "tinycss2                  1.4.0\n",
      "tomli                     2.2.1\n",
      "torch                     1.10.1\n",
      "torchaudio                0.10.1\n",
      "torchvision               0.11.2\n",
      "tornado                   6.4.2\n",
      "tqdm                      4.67.1\n",
      "traitlets                 5.14.3\n",
      "types-python-dateutil     2.9.0.20241206\n",
      "typing_extensions         4.12.2\n",
      "uri-template              1.3.0\n",
      "urllib3                   2.3.0\n",
      "wcwidth                   0.2.13\n",
      "webcolors                 24.11.1\n",
      "webencodings              0.5.1\n",
      "websocket-client          1.8.0\n",
      "wheel                     0.45.1\n",
      "widgetsnbextension        4.0.13\n",
      "zipp                      3.21.0\n"
     ]
    }
   ],
   "source": [
    "!pip list"
   ]
  },
  {
   "cell_type": "code",
   "execution_count": 2,
   "id": "b850eabf",
   "metadata": {},
   "outputs": [],
   "source": [
    "try:\n",
    "    import breaching\n",
    "except ModuleNotFoundError:\n",
    "    # You only really need this safety net if you want to run these notebooks directly in the examples directory\n",
    "    # Don't worry about this if you installed the package or moved the notebook to the main directory.\n",
    "    import os; os.chdir(\"..\")\n",
    "    import breaching\n",
    "    \n",
    "    \n",
    "import torch\n",
    "%load_ext autoreload\n",
    "%autoreload 2\n",
    "\n",
    "# Redirects logs directly into the jupyter notebook\n",
    "import logging, sys\n",
    "logging.basicConfig(level=logging.INFO, handlers=[logging.StreamHandler(sys.stdout)], format='%(message)s')\n",
    "logger = logging.getLogger()"
   ]
  },
  {
   "cell_type": "markdown",
   "id": "88d5e214",
   "metadata": {},
   "source": [
    "### Initialize cfg object and system setup:"
   ]
  },
  {
   "cell_type": "markdown",
   "id": "56bd663b",
   "metadata": {},
   "source": [
    "This will load the full configuration object. This includes the configuration for the use case and threat model as `cfg.case` and the hyperparameters and implementation of the attack as `cfg.attack`. All parameters can be modified below, or overriden with `overrides=` as if they were cmd-line arguments."
   ]
  },
  {
   "cell_type": "code",
   "execution_count": 5,
   "id": "a7dc3a48",
   "metadata": {},
   "outputs": [
    {
     "name": "stdout",
     "output_type": "stream",
     "text": [
      "Investigating use case fedavg_small_scale with server type honest_but_curious.\n"
     ]
    },
    {
     "data": {
      "text/plain": [
       "{'device': device(type='cuda', index=0), 'dtype': torch.float32}"
      ]
     },
     "execution_count": 5,
     "metadata": {},
     "output_type": "execute_result"
    }
   ],
   "source": [
    "cfg = breaching.get_config(overrides=[\"case=4_fedavg_small_scale\", \"case/data=CIFAR10\"])\n",
    "          \n",
    "device = torch.device(f'cuda:0') if torch.cuda.is_available() else torch.device('cpu')\n",
    "# device = torch.device(\"cuda\" if torch.cuda.is_available() else \"cpu\")\n",
    "torch.backends.cudnn.benchmark = cfg.case.impl.benchmark\n",
    "setup = dict(device=device, dtype=getattr(torch, cfg.case.impl.dtype))\n",
    "setup"
   ]
  },
  {
   "cell_type": "code",
   "execution_count": 7,
   "id": "10f15d31-ee07-41bd-b6a7-eeecc3da78a7",
   "metadata": {},
   "outputs": [
    {
     "name": "stdout",
     "output_type": "stream",
     "text": [
      "{\n",
      "    \"case\": {\n",
      "        \"data\": {\n",
      "            \"db\": {\n",
      "                \"name\": null\n",
      "            },\n",
      "            \"name\": \"CIFAR10\",\n",
      "            \"modality\": \"vision\",\n",
      "            \"task\": \"classification\",\n",
      "            \"path\": \"~/nas/ZhuZhu/data\",\n",
      "            \"size\": 50000,\n",
      "            \"classes\": 10,\n",
      "            \"shape\": [\n",
      "                3,\n",
      "                32,\n",
      "                32\n",
      "            ],\n",
      "            \"normalize\": true,\n",
      "            \"mean\": [\n",
      "                0.4914672374725342,\n",
      "                0.4822617471218109,\n",
      "                0.4467701315879822\n",
      "            ],\n",
      "            \"std\": [\n",
      "                0.24703224003314972,\n",
      "                0.24348513782024384,\n",
      "                0.26158785820007324\n",
      "            ],\n",
      "            \"augmentations_train\": {\n",
      "                \"RandomCrop\": [\n",
      "                    32,\n",
      "                    4\n",
      "                ],\n",
      "                \"RandomHorizontalFlip\": 0.5\n",
      "            },\n",
      "            \"augmentations_val\": null,\n",
      "            \"default_clients\": 10,\n",
      "            \"partition\": \"balanced\",\n",
      "            \"examples_from_split\": \"validation\",\n",
      "            \"batch_size\": 128,\n",
      "            \"caching\": false\n",
      "        },\n",
      "        \"impl\": {\n",
      "            \"shuffle\": false,\n",
      "            \"sample_with_replacement\": false,\n",
      "            \"dtype\": \"float\",\n",
      "            \"non_blocking\": true,\n",
      "            \"sharing_strategy\": \"file_system\",\n",
      "            \"enable_gpu_acc\": false,\n",
      "            \"benchmark\": true,\n",
      "            \"deterministic\": false,\n",
      "            \"pin_memory\": true,\n",
      "            \"threads\": 0,\n",
      "            \"persistent_workers\": false,\n",
      "            \"mixed_precision\": false,\n",
      "            \"grad_scaling\": true,\n",
      "            \"JIT\": null,\n",
      "            \"validate_every_nth_step\": 10,\n",
      "            \"checkpoint\": {\n",
      "                \"name\": null,\n",
      "                \"save_every_nth_step\": 10\n",
      "            },\n",
      "            \"enable_huggingface_offline_mode\": true\n",
      "        },\n",
      "        \"server\": {\n",
      "            \"name\": \"honest_but_curious\",\n",
      "            \"pretrained\": true,\n",
      "            \"model_state\": \"default\",\n",
      "            \"provide_public_buffers\": true,\n",
      "            \"has_external_data\": false,\n",
      "            \"num_queries\": 1\n",
      "        },\n",
      "        \"user\": {\n",
      "            \"user_type\": \"local_update\",\n",
      "            \"user_idx\": 0,\n",
      "            \"num_data_points\": 4,\n",
      "            \"provide_buffers\": false,\n",
      "            \"provide_labels\": false,\n",
      "            \"provide_num_data_points\": true,\n",
      "            \"local_diff_privacy\": {\n",
      "                \"gradient_noise\": 0.0,\n",
      "                \"input_noise\": 0.0,\n",
      "                \"distribution\": \"laplacian\",\n",
      "                \"per_example_clipping\": 0.0\n",
      "            },\n",
      "            \"num_local_updates\": 4,\n",
      "            \"num_data_per_local_update_step\": 1,\n",
      "            \"local_learning_rate\": 0.001,\n",
      "            \"provide_local_hyperparams\": true\n",
      "        },\n",
      "        \"name\": \"fedavg_small_scale\",\n",
      "        \"model\": \"ResNet18\",\n",
      "        \"num_queries\": 1\n",
      "    },\n",
      "    \"attack\": {\n",
      "        \"type\": \"invertinggradients\",\n",
      "        \"attack_type\": \"optimization\",\n",
      "        \"label_strategy\": \"bias-corrected\",\n",
      "        \"text_strategy\": \"run-embedding\",\n",
      "        \"token_recovery\": \"from-labels\",\n",
      "        \"objective\": {\n",
      "            \"type\": \"cosine-similarity\",\n",
      "            \"scale\": 1.0,\n",
      "            \"task_regularization\": 0.0\n",
      "        },\n",
      "        \"restarts\": {\n",
      "            \"num_trials\": 1,\n",
      "            \"scoring\": \"cosine-similarity\"\n",
      "        },\n",
      "        \"init\": \"randn\",\n",
      "        \"normalize_gradients\": false,\n",
      "        \"optim\": {\n",
      "            \"optimizer\": \"adam\",\n",
      "            \"signed\": \"hard\",\n",
      "            \"step_size\": 0.1,\n",
      "            \"boxed\": true,\n",
      "            \"max_iterations\": 24000,\n",
      "            \"step_size_decay\": \"step-lr\",\n",
      "            \"langevin_noise\": 0.0,\n",
      "            \"warmup\": 0,\n",
      "            \"grad_clip\": null,\n",
      "            \"callback\": 1000\n",
      "        },\n",
      "        \"augmentations\": null,\n",
      "        \"differentiable_augmentations\": false,\n",
      "        \"regularization\": {\n",
      "            \"total_variation\": {\n",
      "                \"scale\": 0.2,\n",
      "                \"inner_exp\": 1,\n",
      "                \"outer_exp\": 1\n",
      "            }\n",
      "        },\n",
      "        \"impl\": {\n",
      "            \"dtype\": \"float\",\n",
      "            \"mixed_precision\": false,\n",
      "            \"JIT\": null\n",
      "        }\n",
      "    },\n",
      "    \"base_dir\": \"outputs\",\n",
      "    \"seed\": null,\n",
      "    \"name\": \"default\",\n",
      "    \"dryrun\": false,\n",
      "    \"num_trials\": 100,\n",
      "    \"save_reconstruction\": false\n",
      "}\n"
     ]
    }
   ],
   "source": [
    "import json\n",
    "from omegaconf import OmegaConf\n",
    "\n",
    "# 假设你的 cfg 是一个 OmegaConf 的 DictConfig\n",
    "cfg_dict = OmegaConf.to_container(cfg, resolve=True)  # 转换为 dict，并解析占位符\n",
    "json_output = json.dumps(cfg_dict, indent=4, ensure_ascii=False)  # 格式化 JSON，使用 UTF-8 编码\n",
    "\n",
    "print(json_output)  # 以缩进格式输出"
   ]
  },
  {
   "cell_type": "markdown",
   "id": "203c5fb1",
   "metadata": {},
   "source": [
    "### Modify config options here"
   ]
  },
  {
   "cell_type": "markdown",
   "id": "6e0764ef",
   "metadata": {},
   "source": [
    "You can use `.attribute` access to modify any of these configurations for the attack, or the case:"
   ]
  },
  {
   "cell_type": "code",
   "execution_count": 8,
   "id": "ac118ea0",
   "metadata": {},
   "outputs": [],
   "source": [
    "cfg.case.data.partition=\"random\"\n",
    "cfg.case.user.user_idx = 1\n",
    "cfg.case.model='resnet18'\n",
    "\n",
    "cfg.case.user.provide_labels = True\n",
    "\n",
    "# These settings govern the total amount of user data and how it is used over multiple local update steps:\n",
    "cfg.case.user.num_data_points = 4\n",
    "cfg.case.user.num_local_updates = 4\n",
    "cfg.case.user.num_data_per_local_update_step = 2\n",
    "\n",
    "\n",
    "# Total variation regularization needs to be smaller on CIFAR-10:\n",
    "cfg.attack.regularization.total_variation.scale = 1e-3"
   ]
  },
  {
   "cell_type": "code",
   "execution_count": 9,
   "id": "bd277d6e-a1ef-4777-a646-46a4b11c124d",
   "metadata": {},
   "outputs": [
    {
     "name": "stdout",
     "output_type": "stream",
     "text": [
      "{\n",
      "    \"case\": {\n",
      "        \"data\": {\n",
      "            \"db\": {\n",
      "                \"name\": null\n",
      "            },\n",
      "            \"name\": \"CIFAR10\",\n",
      "            \"modality\": \"vision\",\n",
      "            \"task\": \"classification\",\n",
      "            \"path\": \"~/nas/ZhuZhu/data\",\n",
      "            \"size\": 50000,\n",
      "            \"classes\": 10,\n",
      "            \"shape\": [\n",
      "                3,\n",
      "                32,\n",
      "                32\n",
      "            ],\n",
      "            \"normalize\": true,\n",
      "            \"mean\": [\n",
      "                0.4914672374725342,\n",
      "                0.4822617471218109,\n",
      "                0.4467701315879822\n",
      "            ],\n",
      "            \"std\": [\n",
      "                0.24703224003314972,\n",
      "                0.24348513782024384,\n",
      "                0.26158785820007324\n",
      "            ],\n",
      "            \"augmentations_train\": {\n",
      "                \"RandomCrop\": [\n",
      "                    32,\n",
      "                    4\n",
      "                ],\n",
      "                \"RandomHorizontalFlip\": 0.5\n",
      "            },\n",
      "            \"augmentations_val\": null,\n",
      "            \"default_clients\": 10,\n",
      "            \"partition\": \"random\",\n",
      "            \"examples_from_split\": \"validation\",\n",
      "            \"batch_size\": 128,\n",
      "            \"caching\": false\n",
      "        },\n",
      "        \"impl\": {\n",
      "            \"shuffle\": false,\n",
      "            \"sample_with_replacement\": false,\n",
      "            \"dtype\": \"float\",\n",
      "            \"non_blocking\": true,\n",
      "            \"sharing_strategy\": \"file_system\",\n",
      "            \"enable_gpu_acc\": false,\n",
      "            \"benchmark\": true,\n",
      "            \"deterministic\": false,\n",
      "            \"pin_memory\": true,\n",
      "            \"threads\": 0,\n",
      "            \"persistent_workers\": false,\n",
      "            \"mixed_precision\": false,\n",
      "            \"grad_scaling\": true,\n",
      "            \"JIT\": null,\n",
      "            \"validate_every_nth_step\": 10,\n",
      "            \"checkpoint\": {\n",
      "                \"name\": null,\n",
      "                \"save_every_nth_step\": 10\n",
      "            },\n",
      "            \"enable_huggingface_offline_mode\": true\n",
      "        },\n",
      "        \"server\": {\n",
      "            \"name\": \"honest_but_curious\",\n",
      "            \"pretrained\": true,\n",
      "            \"model_state\": \"default\",\n",
      "            \"provide_public_buffers\": true,\n",
      "            \"has_external_data\": false,\n",
      "            \"num_queries\": 1\n",
      "        },\n",
      "        \"user\": {\n",
      "            \"user_type\": \"local_update\",\n",
      "            \"user_idx\": 1,\n",
      "            \"num_data_points\": 4,\n",
      "            \"provide_buffers\": false,\n",
      "            \"provide_labels\": true,\n",
      "            \"provide_num_data_points\": true,\n",
      "            \"local_diff_privacy\": {\n",
      "                \"gradient_noise\": 0.0,\n",
      "                \"input_noise\": 0.0,\n",
      "                \"distribution\": \"laplacian\",\n",
      "                \"per_example_clipping\": 0.0\n",
      "            },\n",
      "            \"num_local_updates\": 4,\n",
      "            \"num_data_per_local_update_step\": 2,\n",
      "            \"local_learning_rate\": 0.001,\n",
      "            \"provide_local_hyperparams\": true\n",
      "        },\n",
      "        \"name\": \"fedavg_small_scale\",\n",
      "        \"model\": \"resnet18\",\n",
      "        \"num_queries\": 1\n",
      "    },\n",
      "    \"attack\": {\n",
      "        \"type\": \"invertinggradients\",\n",
      "        \"attack_type\": \"optimization\",\n",
      "        \"label_strategy\": \"bias-corrected\",\n",
      "        \"text_strategy\": \"run-embedding\",\n",
      "        \"token_recovery\": \"from-labels\",\n",
      "        \"objective\": {\n",
      "            \"type\": \"cosine-similarity\",\n",
      "            \"scale\": 1.0,\n",
      "            \"task_regularization\": 0.0\n",
      "        },\n",
      "        \"restarts\": {\n",
      "            \"num_trials\": 1,\n",
      "            \"scoring\": \"cosine-similarity\"\n",
      "        },\n",
      "        \"init\": \"randn\",\n",
      "        \"normalize_gradients\": false,\n",
      "        \"optim\": {\n",
      "            \"optimizer\": \"adam\",\n",
      "            \"signed\": \"hard\",\n",
      "            \"step_size\": 0.1,\n",
      "            \"boxed\": true,\n",
      "            \"max_iterations\": 24000,\n",
      "            \"step_size_decay\": \"step-lr\",\n",
      "            \"langevin_noise\": 0.0,\n",
      "            \"warmup\": 0,\n",
      "            \"grad_clip\": null,\n",
      "            \"callback\": 1000\n",
      "        },\n",
      "        \"augmentations\": null,\n",
      "        \"differentiable_augmentations\": false,\n",
      "        \"regularization\": {\n",
      "            \"total_variation\": {\n",
      "                \"scale\": 0.001,\n",
      "                \"inner_exp\": 1,\n",
      "                \"outer_exp\": 1\n",
      "            }\n",
      "        },\n",
      "        \"impl\": {\n",
      "            \"dtype\": \"float\",\n",
      "            \"mixed_precision\": false,\n",
      "            \"JIT\": null\n",
      "        }\n",
      "    },\n",
      "    \"base_dir\": \"outputs\",\n",
      "    \"seed\": null,\n",
      "    \"name\": \"default\",\n",
      "    \"dryrun\": false,\n",
      "    \"num_trials\": 100,\n",
      "    \"save_reconstruction\": false\n",
      "}\n"
     ]
    }
   ],
   "source": [
    "# 假设你的 cfg 是一个 OmegaConf 的 DictConfig\n",
    "modified_cfg_dict = OmegaConf.to_container(cfg, resolve=True)  # 转换为 dict，并解析占位符\n",
    "modified_json_output = json.dumps(modified_cfg_dict, indent=4, ensure_ascii=False)  # 格式化 JSON，使用 UTF-8 编码\n",
    "\n",
    "print(modified_json_output)  # 以缩进格式输出"
   ]
  },
  {
   "cell_type": "markdown",
   "id": "76f64389",
   "metadata": {},
   "source": [
    "### Instantiate all parties"
   ]
  },
  {
   "cell_type": "markdown",
   "id": "ce37e668",
   "metadata": {},
   "source": [
    "The following lines generate \"server, \"user\" and \"attacker\" objects and print an overview of their configurations."
   ]
  },
  {
   "cell_type": "code",
   "execution_count": 10,
   "id": "d3abd955",
   "metadata": {},
   "outputs": [
    {
     "name": "stdout",
     "output_type": "stream",
     "text": [
      "Files already downloaded and verified\n",
      "Model architecture resnet18 loaded with 11,173,962 parameters and 9,620 buffers.\n",
      "Overall this is a data ratio of     909:1 for target shape [4, 3, 32, 32] given that num_queries=1.\n",
      "User (of type UserMultiStep) with settings:\n",
      "    Number of data points: 4\n",
      "\n",
      "    Threat model:\n",
      "    User provides labels: True\n",
      "    User provides buffers: False\n",
      "    User provides number of data points: True\n",
      "\n",
      "    Data:\n",
      "    Dataset: CIFAR10\n",
      "    user: 1\n",
      "    \n",
      "        \n",
      "    Local FL Setup:\n",
      "        Number of local update steps: 4\n",
      "        Data per local update step: 2\n",
      "        Local learning rate: 0.001\n",
      "\n",
      "        Threat model:\n",
      "        Share these hyperparams to server: True\n",
      "\n",
      "        \n",
      "Server (of type HonestServer) with settings:\n",
      "    Threat model: Honest-but-curious\n",
      "    Number of planned queries: 1\n",
      "    Has external/public data: False\n",
      "\n",
      "    Model:\n",
      "        model specification: resnet18\n",
      "        model state: default\n",
      "        public buffers: True\n",
      "\n",
      "    Secrets: {}\n",
      "    \n",
      "Attacker (of type OptimizationBasedAttacker) with settings:\n",
      "    Hyperparameter Template: invertinggradients\n",
      "\n",
      "    Objective: Cosine Similarity with scale=1.0 and task reg=0.0\n",
      "    Regularizers: Total Variation, scale=0.001. p=1 q=1. \n",
      "    Augmentations: \n",
      "\n",
      "    Optimization Setup:\n",
      "        optimizer: adam\n",
      "        signed: hard\n",
      "        step_size: 0.1\n",
      "        boxed: True\n",
      "        max_iterations: 24000\n",
      "        step_size_decay: step-lr\n",
      "        langevin_noise: 0.0\n",
      "        warmup: 0\n",
      "        grad_clip: None\n",
      "        callback: 1000\n",
      "        \n"
     ]
    }
   ],
   "source": [
    "user, server, model, loss_fn = breaching.cases.construct_case(cfg.case, setup)\n",
    "attacker = breaching.attacks.prepare_attack(server.model, server.loss, cfg.attack, setup)\n",
    "breaching.utils.overview(server, user, attacker)"
   ]
  },
  {
   "cell_type": "markdown",
   "id": "548c0ad6",
   "metadata": {},
   "source": [
    "### Simulate an attacked FL protocol"
   ]
  },
  {
   "cell_type": "markdown",
   "id": "2058bcc2",
   "metadata": {},
   "source": [
    "This exchange is a simulation of a single query in a federated learning protocol. The server sends out a `server_payload` and the user computes an update based on their private local data. This user update is `shared_data` and contains, for example, the parameter gradient of the model in the simplest case. `true_user_data` is also returned by `.compute_local_updates`, but of course not forwarded to the server or attacker and only used for (our) analysis."
   ]
  },
  {
   "cell_type": "code",
   "execution_count": 11,
   "id": "b0dbd868",
   "metadata": {},
   "outputs": [
    {
     "name": "stdout",
     "output_type": "stream",
     "text": [
      "Computing user update on user 1 in model mode: eval.\n"
     ]
    }
   ],
   "source": [
    "server_payload = server.distribute_payload()\n",
    "shared_data, true_user_data = user.compute_local_updates(server_payload)"
   ]
  },
  {
   "cell_type": "code",
   "execution_count": 12,
   "id": "49c68628",
   "metadata": {},
   "outputs": [
    {
     "name": "stdout",
     "output_type": "stream",
     "text": [
      "generated new fontManager\n"
     ]
    },
    {
     "data": {
      "image/png": "[encoded data removed]",
      "text/plain": [
       "<Figure size 600x600 with 4 Axes>"
      ]
     },
     "metadata": {},
     "output_type": "display_data"
    }
   ],
   "source": [
    "user.plot(true_user_data)"
   ]
  },
  {
   "cell_type": "markdown",
   "id": "17255c5a",
   "metadata": {},
   "source": [
    "### Reconstruct user data:"
   ]
  },
  {
   "cell_type": "markdown",
   "id": "798f4f44",
   "metadata": {},
   "source": [
    "Now we launch the attack, reconstructing user data based on only the `server_payload` and the `shared_data`. \n",
    "\n",
    "You can interrupt the computation early to see a partial solution."
   ]
  },
  {
   "cell_type": "markdown",
   "id": "a12985f7-e44a-4a79-ad75-9f3796ceda26",
   "metadata": {},
   "source": [
    "nvcc -V\n",
    "nvcc: NVIDIA (R) Cuda compiler driver\n",
    "Copyright (c) 2005-2022 NVIDIA Corporation\n",
    "Built on Wed_Sep_21_10:33:58_PDT_2022\n",
    "Cuda compilation tools, release 11.8, V11.8.89\n",
    "Build cuda_11.8.r11.8/compiler.31833905_0"
   ]
  },
  {
   "cell_type": "code",
   "execution_count": 13,
   "id": "044d1ab8-e9d1-420f-8b0b-9136ef1cb172",
   "metadata": {},
   "outputs": [
    {
     "name": "stdout",
     "output_type": "stream",
     "text": [
      "1.10.1\n",
      "11.3\n",
      "8200\n"
     ]
    }
   ],
   "source": [
    "import torch\n",
    "print(torch.__version__)  # 检查 PyTorch 版本\n",
    "print(torch.version.cuda) # 检查 PyTorch 编译时使用的 CUDA 版本\n",
    "print(torch.backends.cudnn.version())  # 检查 cuDNN 版本"
   ]
  },
  {
   "cell_type": "code",
   "execution_count": 14,
   "id": "2060c211-3eb3-4f28-8778-0aa2361f6912",
   "metadata": {},
   "outputs": [
    {
     "name": "stdout",
     "output_type": "stream",
     "text": [
      "True\n",
      "4\n",
      "NVIDIA GeForce RTX 3090\n",
      "(8, 6)\n"
     ]
    }
   ],
   "source": [
    "import torch\n",
    "print(torch.cuda.is_available())  # 是否检测到 GPU\n",
    "print(torch.cuda.device_count())  # GPU 数量\n",
    "print(torch.cuda.get_device_name(1))  # GPU 设备名称\n",
    "print(torch.cuda.get_device_capability(1))"
   ]
  },
  {
   "cell_type": "code",
   "execution_count": null,
   "id": "c9a32fd7",
   "metadata": {},
   "outputs": [
    {
     "name": "stdout",
     "output_type": "stream",
     "text": [
      "| It: 1 | Rec. loss: 0.2286 |  Task loss: 1.9464 | T: 0.35s\n"
     ]
    }
   ],
   "source": [
    "reconstructed_user_data, stats = attacker.reconstruct([server_payload], [shared_data], {}, dryrun=cfg.dryrun)"
   ]
  },
  {
   "cell_type": "markdown",
   "id": "d746e854",
   "metadata": {},
   "source": [
    "Next we'll evaluate metrics, comparing the `reconstructed_user_data` to the `true_user_data`."
   ]
  },
  {
   "cell_type": "code",
   "execution_count": 8,
   "id": "31f2685a",
   "metadata": {},
   "outputs": [
    {
     "name": "stdout",
     "output_type": "stream",
     "text": [
      "Files already downloaded and verified\n",
      "METRICS: | MSE: 0.0096 | PSNR: 20.78 | FMSE: 7.6290e-03 | LPIPS: 0.03|\n",
      " R-PSNR: 20.78 | IIP-pixel: 100.00% | SSIM: 0.7516 | max R-PSNR: 25.05 | max SSIM: 0.8115 | Label Acc: 100.00%\n"
     ]
    }
   ],
   "source": [
    "metrics = breaching.analysis.report(reconstructed_user_data, true_user_data, [server_payload], \n",
    "                                    server.model, order_batch=True, compute_full_iip=False, \n",
    "                                    cfg_case=cfg.case, setup=setup)"
   ]
  },
  {
   "cell_type": "markdown",
   "id": "9caa5d02",
   "metadata": {},
   "source": [
    "And finally, we also plot the reconstructed data:"
   ]
  },
  {
   "cell_type": "code",
   "execution_count": 9,
   "id": "631f4a84",
   "metadata": {},
   "outputs": [
    {
     "data": {
      "image/png": "[encoded data removed]",
      "text/plain": [
       "<Figure size 432x432 with 4 Axes>"
      ]
     },
     "metadata": {
      "needs_background": "light"
     },
     "output_type": "display_data"
    }
   ],
   "source": [
    "user.plot(reconstructed_user_data)"
   ]
  },
  {
   "cell_type": "markdown",
   "id": "50889063",
   "metadata": {},
   "source": [
    "### Notes:\n",
    "* If labels are unknown, then a robust label recovery algorithm has to be used that does not count label repetitions due to shifts after local updates."
   ]
  }
 ],
 "metadata": {
  "kernelspec": {
   "display_name": "Python (breaching)",
   "language": "python",
   "name": "breaching"
  },
  "language_info": {
   "codemirror_mode": {
    "name": "ipython",
    "version": 3
   },
   "file_extension": ".py",
   "mimetype": "text/x-python",
   "name": "python",
   "nbconvert_exporter": "python",
   "pygments_lexer": "ipython3",
   "version": "3.9.21"
  }
 },
 "nbformat": 4,
 "nbformat_minor": 5
}
