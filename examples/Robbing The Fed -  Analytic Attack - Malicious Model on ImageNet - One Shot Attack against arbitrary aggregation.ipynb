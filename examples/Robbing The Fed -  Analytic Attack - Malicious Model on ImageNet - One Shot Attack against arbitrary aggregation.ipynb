{
 "cells": [
  {
   "cell_type": "markdown",
   "id": "3ebef44a",
   "metadata": {},
   "source": [
    "# Robbing the Fed: Directly Obtaining Private Data in Federated Learning with Modified Models"
   ]
  },
  {
   "cell_type": "markdown",
   "id": "a756fc5f",
   "metadata": {},
   "source": [
    "This notebook shows an example for the threat model and attack described in \"Robbing the Fed: Directly Obtaining Private Data in Federated Learning with Modified Models\". This example deviates from the other \"honest-but-curious\" server models and investigates an actively malicious model. As such, the attack applies to any model architecture, but its impact is more or less obvious (or not at all) depending on the already present architecture onto which the malicious \"Imprint\" block is grafted.\n",
    "\n",
    "In this notebook, we place the block in front of a ResNet18, as an example. The attack can also be conceptualized as merely a \"malicious parameters\" attack against a model which contains, for example, only fully connected layers or only convolutions without strides and fully connected layers.\n",
    "\n",
    "\n",
    "Paper URL: https://openreview.net/forum?id=fwzUgo0FM9v"
   ]
  },
  {
   "cell_type": "markdown",
   "id": "f1e0dd60",
   "metadata": {},
   "source": [
    "This variation implements the one shot attack shown in Fig. 3 of the paper. We aggregate 16,384 data points here, but this number is only limited by the amount of time you are willing to wait for the aggregated gradients to be computed (Aside from numerical issues which are likeyl to appear at astronomical batch sizes). \n",
    "\n",
    "The expected number of cases in which this attacks recovers a unique data point *is always 1/e ≈ 37%*. As such please also do not be surprised when repeating the steps in this notebook does not work the first time."
   ]
  },
  {
   "cell_type": "markdown",
   "id": "ce7676c5",
   "metadata": {},
   "source": [
    "### Startup"
   ]
  },
  {
   "cell_type": "code",
   "execution_count": null,
   "id": "b850eabf",
   "metadata": {},
   "outputs": [],
   "source": [
    "try:\n",
    "    import breaching\n",
    "except ModuleNotFoundError:\n",
    "    # You only really need this safety net if you want to run these notebooks directly in the examples directory\n",
    "    # Don't worry about this if you installed the package or moved the notebook to the main directory.\n",
    "    import os; os.chdir(\"..\")\n",
    "    import breaching\n",
    "    \n",
    "import torch\n",
    "%load_ext autoreload\n",
    "%autoreload 2\n",
    "\n",
    "# Redirects logs directly into the jupyter notebook\n",
    "import logging, sys\n",
    "logging.basicConfig(level=logging.INFO, handlers=[logging.StreamHandler(sys.stdout)], format='%(message)s')\n",
    "logger = logging.getLogger()"
   ]
  },
  {
   "cell_type": "markdown",
   "id": "88d5e214",
   "metadata": {},
   "source": [
    "### Initialize cfg object and system setup:"
   ]
  },
  {
   "cell_type": "markdown",
   "id": "56bd663b",
   "metadata": {},
   "source": [
    "This will load the full configuration object. This includes the configuration for the use case and threat model as `cfg.case` and the hyperparameters and implementation of the attack as `cfg.attack`. All parameters can be modified below, or overriden with `overrides=` as if they were cmd-line arguments."
   ]
  },
  {
   "cell_type": "code",
   "execution_count": null,
   "id": "a7dc3a48",
   "metadata": {},
   "outputs": [],
   "source": [
    "cfg = breaching.get_config(overrides=[\"attack=imprint\", \"case=8_industry_scale_fl\", \n",
    "                                      \"case/server=malicious-model-rtf\"])\n",
    "          \n",
    "device = torch.device(f'cuda') if torch.cuda.is_available() else torch.device('cpu')\n",
    "torch.backends.cudnn.benchmark = cfg.case.impl.benchmark\n",
    "setup = dict(device=device, dtype=getattr(torch, cfg.case.impl.dtype))\n",
    "setup"
   ]
  },
  {
   "cell_type": "markdown",
   "id": "203c5fb1",
   "metadata": {},
   "source": [
    "### Modify config options here"
   ]
  },
  {
   "cell_type": "markdown",
   "id": "6e0764ef",
   "metadata": {},
   "source": [
    "You can use `.attribute` access to modify any of these configurations for the attack, or the case:"
   ]
  },
  {
   "cell_type": "code",
   "execution_count": null,
   "id": "c9c0775d",
   "metadata": {},
   "outputs": [],
   "source": [
    "users = 256\n",
    "cfg.case.user.num_data_points = 64 # How many data points per use \n",
    "cfg.case.data.examples_from_split = 'training' # We have to draw images from the ImageNet training set\n",
    "\n",
    "cfg.case.server.model_modification.type = 'OneShotBlock'\n",
    "cfg.case.server.model_modification.num_bins = cfg.case.user.num_data_points * users"
   ]
  },
  {
   "cell_type": "code",
   "execution_count": null,
   "id": "ac118ea0",
   "metadata": {},
   "outputs": [],
   "source": [
    "cfg.case.server.model_modification.num_bins = 128 # How many bins are in the block\n",
    "\n",
    "\n",
    "# How does the block interact with the model?\n",
    "# The block can be placed later in the model given a position such as  '4.0.conv':\n",
    "cfg.case.server.model_modification.position = None  # None defaults to the first layer\n",
    "# The block can also be connected in various ways to the other layers:\n",
    "cfg.case.server.model_modification.connection = 'addition'\n",
    "\n",
    "cfg.case.server.model_modification.linfunc = 'fourier' \n",
    "cfg.case.server.model_modification.mode = 32"
   ]
  },
  {
   "cell_type": "markdown",
   "id": "76f64389",
   "metadata": {},
   "source": [
    "### Instantiate all parties"
   ]
  },
  {
   "cell_type": "markdown",
   "id": "71983edf",
   "metadata": {},
   "source": [
    "The following lines generate \"server, \"user\" and \"attacker\" objects and print an overview of their configurations."
   ]
  },
  {
   "cell_type": "code",
   "execution_count": null,
   "id": "d3abd955",
   "metadata": {},
   "outputs": [],
   "source": [
    "user, server, model, loss_fn = breaching.cases.construct_case(cfg.case, setup)\n",
    "attacker = breaching.attacks.prepare_attack(server.model, server.loss, cfg.attack, setup)\n",
    "breaching.utils.overview(server, user, attacker)"
   ]
  },
  {
   "cell_type": "markdown",
   "id": "548c0ad6",
   "metadata": {},
   "source": [
    "### Simulate an attacked FL protocol"
   ]
  },
  {
   "cell_type": "markdown",
   "id": "2058bcc2",
   "metadata": {},
   "source": [
    "This exchange is a simulation of a single query in a federated learning protocol. The server sends out a `server_payload` and the user computes an update based on their private local data. This user update is `shared_data` and contains, for example, the parameter gradient of the model in the simplest case. `true_user_data` is also returned by `.compute_local_updates`, but of course not forwarded to the server or attacker and only used for (our) analysis."
   ]
  },
  {
   "cell_type": "code",
   "execution_count": null,
   "id": "b0dbd868",
   "metadata": {},
   "outputs": [],
   "source": [
    "server_payload = server.distribute_payload()\n",
    "shared_data, _ = user.compute_local_updates(server_payload)  "
   ]
  },
  {
   "cell_type": "code",
   "execution_count": null,
   "id": "49c68628",
   "metadata": {},
   "outputs": [],
   "source": [
    "# user.plot(true_user_data) # Not a great idea for this batch size"
   ]
  },
  {
   "cell_type": "markdown",
   "id": "17255c5a",
   "metadata": {},
   "source": [
    "### Reconstruct user data:"
   ]
  },
  {
   "cell_type": "markdown",
   "id": "d93e8cd6",
   "metadata": {},
   "source": [
    "Now we launch the attack, reconstructing user data based on only the `server_payload` and the `shared_data`. \n",
    "\n",
    "For this attack, we also share secret information from the malicious server with the attack (`server.secrets`), which here is the location and structure of the imprint block."
   ]
  },
  {
   "cell_type": "code",
   "execution_count": null,
   "id": "c9a32fd7",
   "metadata": {},
   "outputs": [],
   "source": [
    "reconstructed_user_data, stats = attacker.reconstruct([server_payload], [shared_data], server.secrets, \n",
    "                                                      dryrun=cfg.dryrun)"
   ]
  },
  {
   "cell_type": "code",
   "execution_count": null,
   "id": "8a680e89",
   "metadata": {},
   "outputs": [],
   "source": [
    "found_data = dict(data = reconstructed_user_data['data'][1:2], labels=None)\n",
    "user.plot(found_data)"
   ]
  },
  {
   "cell_type": "markdown",
   "id": "a6163507",
   "metadata": {},
   "source": [
    "#### Identify which user image this is "
   ]
  },
  {
   "cell_type": "code",
   "execution_count": null,
   "id": "89f4c4d6",
   "metadata": {},
   "outputs": [],
   "source": [
    "matches = dict()\n",
    "for idx, (data, label) in enumerate(user.dataloader.dataset):\n",
    "    matches[idx] = torch.dist(found_data['data'], data.to(**setup))\n",
    "    if matches[idx] < 1:\n",
    "        break\n",
    "    if idx % 1000 == 0:\n",
    "        print(f'Currently at index {idx}')\n",
    "idx = min(matches, key=matches.get)\n",
    "print(idx)\n",
    "true_data = user.dataloader.dataset[idx]\n",
    "matching_user_data = dict(data = true_data[0][None,...], labels=true_data[1])\n",
    "user.plot(matching_user_data)"
   ]
  },
  {
   "cell_type": "markdown",
   "id": "28c35e12",
   "metadata": {},
   "source": [
    "This saves a lot of compute as we can now compute metrics for the matching data point only:"
   ]
  },
  {
   "cell_type": "code",
   "execution_count": null,
   "id": "31f2685a",
   "metadata": {},
   "outputs": [],
   "source": [
    "metrics = breaching.analysis.report(found_data, matching_user_data, [server_payload], \n",
    "                                    server.model, order_batch=True, compute_full_iip=False, \n",
    "                                    cfg_case=cfg.case, setup=setup)"
   ]
  },
  {
   "cell_type": "markdown",
   "id": "04adeafc",
   "metadata": {},
   "source": [
    "### Notes:\n",
    "*  `OneShotBlockSparse` is also an option, which has only half as many parameters, but requires a HardTanh to be constructed over two layers."
   ]
  }
 ],
 "metadata": {
  "kernelspec": {
   "display_name": "Python 3 (ipykernel)",
   "language": "python",
   "name": "python3"
  },
  "language_info": {
   "codemirror_mode": {
    "name": "ipython",
    "version": 3
   },
   "file_extension": ".py",
   "mimetype": "text/x-python",
   "name": "python",
   "nbconvert_exporter": "python",
   "pygments_lexer": "ipython3",
   "version": "3.9.7"
  }
 },
 "nbformat": 4,
 "nbformat_minor": 5
}
