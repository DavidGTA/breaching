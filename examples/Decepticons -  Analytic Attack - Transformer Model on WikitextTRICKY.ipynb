{
 "cells": [
  {
   "cell_type": "markdown",
   "id": "3ebef44a",
   "metadata": {},
   "source": [
    "# Decepticons: Corrupted Transformers Breach Privacy in Federated Learning for Language Models"
   ]
  },
  {
   "cell_type": "markdown",
   "id": "a756fc5f",
   "metadata": {},
   "source": [
    "This notebook shows an example for the threat model and attack described in \"Decepticons: Corrupted Transformers Breach Privacy in Federated Learning for Language Models\n",
    "\". This example deviates from the other \"honest-but-curious\" server models and investigates a malicious server that may send malicious server updates. The attack succeeds for a range of common transformer architectures and works merely by sending a single malicious query to the user model.\n",
    "\n",
    "In this notebook, we attack the tiny transformer model discussed in \"Advances and Open Problems in Federated Learning\" (https://arxiv.org/abs/1912.04977). The model architecture is unchanged.\n",
    "\n",
    "\n",
    "\n",
    "Paper URL: https://arxiv.org/abs/2201.12675"
   ]
  },
  {
   "cell_type": "markdown",
   "id": "1efd1107",
   "metadata": {},
   "source": [
    "### Abstract:\n",
    "A central tenet of Federated learning (FL), which trains models without centralizing user data, is privacy. However, previous work has shown that the gradient updates used in FL can leak user information. While the most industrial uses of FL are for text applications (e.g. keystroke prediction), nearly all attacks on FL privacy have focused on simple image classifiers. We propose a novel attack that reveals private user text by deploying malicious parameter vectors, and which succeeds even with mini-batches, multiple users, and long sequences. Unlike previous attacks on FL, the attack exploits characteristics of both the Transformer architecture and the token embedding, separately extracting tokens and positional embeddings to retrieve high-fidelity text. This work suggests that FL on text, which has historically been resistant to privacy attacks, is far more vulnerable than previously thought."
   ]
  },
  {
   "cell_type": "markdown",
   "id": "ce7676c5",
   "metadata": {},
   "source": [
    "### Startup"
   ]
  },
  {
   "cell_type": "code",
   "execution_count": 1,
   "id": "b850eabf",
   "metadata": {},
   "outputs": [],
   "source": [
    "try:\n",
    "    import breaching\n",
    "except ModuleNotFoundError:\n",
    "    # You only really need this safety net if you want to run these notebooks directly in the examples directory\n",
    "    # Don't worry about this if you installed the package or moved the notebook to the main directory.\n",
    "    import os; os.chdir(\"..\")\n",
    "    import breaching\n",
    "    \n",
    "import torch\n",
    "%load_ext autoreload\n",
    "%autoreload 2\n",
    "\n",
    "# Redirects logs directly into the jupyter notebook\n",
    "import logging, sys\n",
    "logging.basicConfig(level=logging.INFO, handlers=[logging.StreamHandler(sys.stdout)], format='%(message)s')\n",
    "logger = logging.getLogger()"
   ]
  },
  {
   "cell_type": "markdown",
   "id": "88d5e214",
   "metadata": {},
   "source": [
    "### Initialize cfg object and system setup:"
   ]
  },
  {
   "cell_type": "markdown",
   "id": "56bd663b",
   "metadata": {},
   "source": [
    "This will load the full configuration object. This includes the configuration for the use case and threat model as `cfg.case` and the hyperparameters and implementation of the attack as `cfg.attack`. All parameters can be modified below, or overriden with `overrides=` as if they were cmd-line arguments."
   ]
  },
  {
   "cell_type": "code",
   "execution_count": 2,
   "id": "a7dc3a48",
   "metadata": {},
   "outputs": [
    {
     "name": "stdout",
     "output_type": "stream",
     "text": [
      "Investigating use case causal_lang_training with server type malicious_transformer_parameters.\n"
     ]
    },
    {
     "data": {
      "text/plain": [
       "{'device': device(type='cpu'), 'dtype': torch.float32}"
      ]
     },
     "execution_count": 2,
     "metadata": {},
     "output_type": "execute_result"
    }
   ],
   "source": [
    "cfg = breaching.get_config(overrides=[\"attack=decepticon\", \"case=10_causal_lang_training\", \n",
    "                                     \"case/server=malicious-transformer\"])\n",
    "          \n",
    "device = torch.device('cpu')\n",
    "torch.backends.cudnn.benchmark = cfg.case.impl.benchmark\n",
    "setup = dict(device=device, dtype=getattr(torch, cfg.case.impl.dtype))\n",
    "setup"
   ]
  },
  {
   "cell_type": "markdown",
   "id": "203c5fb1",
   "metadata": {},
   "source": [
    "### Modify config options here"
   ]
  },
  {
   "cell_type": "markdown",
   "id": "6e0764ef",
   "metadata": {},
   "source": [
    "You can use `.attribute` access to modify any of these configurations for the attack, or the case:"
   ]
  },
  {
   "cell_type": "code",
   "execution_count": 10,
   "id": "ac118ea0",
   "metadata": {},
   "outputs": [],
   "source": [
    "cfg.case.user.num_data_points = 1 # How many sentences?\n",
    "cfg.case.user.user_idx = 1 # From which user?\n",
    "cfg.case.data.shape = [32] # This is the sequence length\n",
    "\n",
    "cfg.case.server.has_external_data = True  # Not strictly necessary, could also use random text (see Appendix)\n",
    "cfg.case.data.tokenizer = \"word-level\"\n",
    "\n",
    "# Attack hyperparameters:\n",
    "\n",
    "# this option requires installation of `k-means-constrained` which can be tricky:\n",
    "# If this doesn't work for you, falling back to \"dynamic-threshold\" is still a decent option.\n",
    "cfg.attack.sentence_algorithm = \"k-means\" \n",
    "\n",
    "cfg.attack.undivided=True\n",
    "\n",
    "cfg.case.user.local_diff_privacy.input_noise = 0.0  # input up to 1.0 is ok\n",
    "cfg.case.user.local_diff_privacy.gradient_noise =1e-6\n",
    "cfg.case.user.local_diff_privacy.per_example_clipping = 0\n",
    "cfg.case.user.local_diff_privacy.distribution = 'gaussian'\n",
    "\n",
    "cfg.attack.breach_reduction = \"total-weight\"\n",
    "\n",
    "\n",
    "# Server side:\n",
    "cfg.case.server.param_modification.v_length = 8 # Length of the sentence component\n",
    "cfg.case.server.param_modification.eps = 1\n",
    "cfg.case.server.param_modification.measurement_scale=1  # 1e12 # Circumvent GELU\n",
    "cfg.case.server.param_modification.imprint_sentence_position = 0\n",
    "cfg.case.server.param_modification.softmax_skew = 1e8\n",
    "cfg.case.server.param_modification.sequence_token_weight = 1"
   ]
  },
  {
   "cell_type": "markdown",
   "id": "76f64389",
   "metadata": {},
   "source": [
    "### Instantiate all parties"
   ]
  },
  {
   "cell_type": "markdown",
   "id": "71983edf",
   "metadata": {},
   "source": [
    "The following lines generate \"server, \"user\" and \"attacker\" objects and print an overview of their configurations."
   ]
  },
  {
   "cell_type": "code",
   "execution_count": 11,
   "id": "d3abd955",
   "metadata": {},
   "outputs": [
    {
     "name": "stdout",
     "output_type": "stream",
     "text": [
      "Reusing dataset wikitext (/home/jonas/data/wikitext/wikitext-103-v1/1.0.0/a241db52902eaf2c6aa732210bead40c090019a499ceb13bcbfa3f8ab646a126)\n",
      "Reusing dataset wikitext (/home/jonas/data/wikitext/wikitext-103-v1/1.0.0/a241db52902eaf2c6aa732210bead40c090019a499ceb13bcbfa3f8ab646a126)\n",
      "Model architecture transformer3 loaded with 10,800,433 parameters and 0 buffers.\n",
      "Overall this is a data ratio of  337514:1 for target shape [1, 32] given that num_queries=1.\n",
      "User (of type UserSingleStep) with settings:\n",
      "    Number of data points: 1\n",
      "\n",
      "    Threat model:\n",
      "    User provides labels: False\n",
      "    User provides buffers: False\n",
      "    User provides number of data points: True\n",
      "\n",
      "    Data:\n",
      "    Dataset: wikitext\n",
      "    user: 1\n",
      "    Defense: Local gaussian gradient noise with strength 9.999999974752427e-07.\n",
      "        \n",
      "Server (of type MaliciousTransformerServer) with settings:\n",
      "    Threat model: Malicious (Parameters)\n",
      "    Number of planned queries: 1\n",
      "    Has external/public data: True\n",
      "\n",
      "    Model:\n",
      "        model specification: transformer3\n",
      "        model state: default\n",
      "        \n",
      "\n",
      "    Secrets: {}\n",
      "    \n",
      "Attacker (of type DecepticonAttacker).\n"
     ]
    }
   ],
   "source": [
    "user, server, model, loss_fn = breaching.cases.construct_case(cfg.case, setup)\n",
    "attacker = breaching.attacks.prepare_attack(server.model, server.loss, cfg.attack, setup)\n",
    "breaching.utils.overview(server, user, attacker)"
   ]
  },
  {
   "cell_type": "markdown",
   "id": "548c0ad6",
   "metadata": {},
   "source": [
    "### Simulate an attacked FL protocol"
   ]
  },
  {
   "cell_type": "markdown",
   "id": "2058bcc2",
   "metadata": {},
   "source": [
    "This exchange is a simulation of a single query in a federated learning protocol. The server sends out a `server_payload` and the user computes an update based on their private local data. This user update is `shared_data` and contains, for example, the parameter gradient of the model in the simplest case. `true_user_data` is also returned by `.compute_local_updates`, but of course not forwarded to the server or attacker and only used for (our) analysis."
   ]
  },
  {
   "cell_type": "code",
   "execution_count": 12,
   "id": "b0dbd868",
   "metadata": {},
   "outputs": [
    {
     "name": "stdout",
     "output_type": "stream",
     "text": [
      "Found attention of shape torch.Size([288, 96]).\n",
      "Computing feature distribution before the probe layer Linear(in_features=96, out_features=1536, bias=True) from external data.\n",
      "Feature mean is 0.9348141551017761, feature std is 9.500455856323242.\n",
      "Computing user update on user 1 in model mode: eval.\n"
     ]
    }
   ],
   "source": [
    "server_payload = server.distribute_payload()\n",
    "shared_data, true_user_data = user.compute_local_updates(server_payload)  "
   ]
  },
  {
   "cell_type": "code",
   "execution_count": 13,
   "id": "49c68628",
   "metadata": {
    "scrolled": false
   },
   "outputs": [
    {
     "name": "stdout",
     "output_type": "stream",
     "text": [
      "[CLS] the tower building of the little rock arsenal, also known as u. s. arsenal building, is a building located in macarthur park in downtown little rock,\n"
     ]
    }
   ],
   "source": [
    "user.print(true_user_data)"
   ]
  },
  {
   "cell_type": "markdown",
   "id": "17255c5a",
   "metadata": {},
   "source": [
    "### Reconstruct user data:"
   ]
  },
  {
   "cell_type": "markdown",
   "id": "d93e8cd6",
   "metadata": {},
   "source": [
    "Now we launch the attack, reconstructing user data based on only the `server_payload` and the `shared_data`. \n",
    "\n",
    "For this attack, we also share secret information from the malicious server with the attack (`server.secrets`), which here is the location and structure of the imprint block."
   ]
  },
  {
   "cell_type": "code",
   "execution_count": 14,
   "id": "c9a32fd7",
   "metadata": {},
   "outputs": [
    {
     "name": "stdout",
     "output_type": "stream",
     "text": [
      "Recovered tokens tensor([[    1,     5,     5,     6,     6,     7,     7,     7,    10,    11,\n",
      "            12,    12,    16,    29,    32,    72,   494,   566,   566,   845,\n",
      "           845,   942,   992,  1085,  1085,  1085,  1936,  1936,  5503,  6073,\n",
      "          8102, 18571]]) through strategy decoder-bias.\n",
      "Recovered 4608 embeddings with positional data from imprinted layer.\n",
      "tensor([5.4315e-07, 4.5697e-07, 4.4792e-07, 4.4228e-07, 4.3629e-07, 4.1989e-07,\n",
      "        4.1529e-07, 4.0584e-07, 4.0467e-07, 4.0372e-07, 4.0360e-07, 4.0319e-07,\n",
      "        3.9966e-07, 3.9831e-07, 3.8934e-07, 3.8635e-07, 3.8568e-07, 3.8438e-07,\n",
      "        3.8066e-07, 3.7897e-07, 3.7632e-07, 3.7599e-07, 3.7199e-07, 3.6933e-07,\n",
      "        3.6793e-07, 3.6771e-07, 3.6459e-07, 3.6317e-07, 3.6261e-07, 3.6077e-07,\n",
      "        3.5836e-07, 3.5832e-07, 3.5739e-07, 3.5383e-07, 3.5255e-07, 3.4910e-07,\n",
      "        3.4875e-07, 3.4853e-07, 3.4683e-07, 3.4595e-07, 3.4536e-07, 3.4397e-07,\n",
      "        3.4306e-07, 3.4291e-07, 3.4172e-07, 3.3504e-07, 3.3255e-07, 3.3236e-07,\n",
      "        3.3192e-07, 3.3025e-07, 3.2933e-07, 3.2877e-07, 3.2693e-07, 3.2662e-07,\n",
      "        3.2591e-07, 3.2583e-07, 3.2401e-07, 3.2390e-07, 3.2379e-07, 3.2323e-07,\n",
      "        3.2301e-07, 3.2067e-07, 3.2023e-07, 3.1751e-07])\n",
      "tensor([3.6633e-06, 2.0588e-06, 1.9708e-06, 1.9310e-06, 1.8948e-06, 1.8648e-06,\n",
      "        1.8594e-06, 1.8485e-06, 1.8193e-06, 1.7880e-06, 1.7531e-06, 1.7406e-06,\n",
      "        1.6515e-06, 1.6492e-06, 1.6305e-06, 1.6138e-06, 1.5727e-06, 1.5587e-06,\n",
      "        1.5031e-06, 1.4986e-06, 1.4648e-06, 1.4555e-06, 1.4486e-06, 1.4418e-06,\n",
      "        1.4270e-06, 1.4228e-06, 1.4158e-06, 1.4157e-06, 1.4010e-06, 1.4005e-06,\n",
      "        1.3894e-06, 1.3870e-06, 1.3856e-06, 1.3839e-06, 1.3813e-06, 1.3787e-06,\n",
      "        1.3776e-06, 1.3769e-06, 1.3699e-06, 1.3658e-06, 1.3645e-06, 1.3629e-06,\n",
      "        1.3625e-06, 1.3619e-06, 1.3618e-06, 1.3602e-06, 1.3533e-06, 1.3514e-06,\n",
      "        1.3507e-06, 1.3497e-06, 1.3491e-06, 1.3478e-06, 1.3473e-06, 1.3470e-06,\n",
      "        1.3457e-06, 1.3450e-06, 1.3442e-06, 1.3432e-06, 1.3428e-06, 1.3408e-06,\n",
      "        1.3383e-06, 1.3375e-06, 1.3322e-06, 1.3318e-06])\n",
      "Reduced to 32 hits.\n"
     ]
    }
   ],
   "source": [
    "reconstructed_user_data, stats = attacker.reconstruct([server_payload], [shared_data], server.secrets, \n",
    "                                                      dryrun=cfg.dryrun)"
   ]
  },
  {
   "cell_type": "markdown",
   "id": "28c35e12",
   "metadata": {},
   "source": [
    "Next we'll evaluate metrics, comparing the `reconstructed_user_data` to the `true_user_data`."
   ]
  },
  {
   "cell_type": "code",
   "execution_count": 15,
   "id": "31f2685a",
   "metadata": {},
   "outputs": [
    {
     "name": "stdout",
     "output_type": "stream",
     "text": [
      "METRICS: | Accuracy: 0.3750 | S-BLEU: 0.14 | FMSE: 2.1147e-01 | \n",
      " G-BLEU: 0.34 | ROUGE1: 1.00| ROUGE2: 0.19 | ROUGE-L: 0.44| Token Acc: 100.00% | Label Acc: 100.00%\n"
     ]
    }
   ],
   "source": [
    "metrics = breaching.analysis.report(reconstructed_user_data, true_user_data, [server_payload], \n",
    "                                    server.model, order_batch=True, compute_full_iip=False, \n",
    "                                    cfg_case=cfg.case, setup=setup)"
   ]
  },
  {
   "cell_type": "markdown",
   "id": "f920aca0",
   "metadata": {},
   "source": [
    "And finally, we also plot the reconstructed data:"
   ]
  },
  {
   "cell_type": "code",
   "execution_count": 9,
   "id": "631f4a84",
   "metadata": {
    "scrolled": false
   },
   "outputs": [
    {
     "name": "stdout",
     "output_type": "stream",
     "text": [
      "located in known, arsenal as the [CLS] little building tower u is. in s a. rock downtown of macarthur also rock little building building arsenal, the park,\n"
     ]
    }
   ],
   "source": [
    "user.print(reconstructed_user_data)"
   ]
  },
  {
   "cell_type": "markdown",
   "id": "04adeafc",
   "metadata": {},
   "source": [
    "### Notes:\n",
    "* There are a variety of hyperparameters to the attack which are set to reasonable defaults. Performance of the attack could be improved in some unusual use cases (datasets or models) by tuning these parameters further.\n",
    "* In this example, dropout is disabled under the assumption that this is a parameter that can be controlled in the server update. The optimal attack simply disables dropout. However, the attack can still succeed when dropout is enforced by the user, albeit with a minor loss in reconstruction quality.\n",
    "* Try increasing `num_data_points` or `data.shape`"
   ]
  }
 ],
 "metadata": {
  "kernelspec": {
   "display_name": "Python 3 (ipykernel)",
   "language": "python",
   "name": "python3"
  },
  "language_info": {
   "codemirror_mode": {
    "name": "ipython",
    "version": 3
   },
   "file_extension": ".py",
   "mimetype": "text/x-python",
   "name": "python",
   "nbconvert_exporter": "python",
   "pygments_lexer": "ipython3",
   "version": "3.9.7"
  }
 },
 "nbformat": 4,
 "nbformat_minor": 5
}
