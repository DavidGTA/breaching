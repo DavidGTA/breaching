{
 "cells": [
  {
   "cell_type": "markdown",
   "id": "3ebef44a",
   "metadata": {},
   "source": [
    "# Breaching privacy"
   ]
  },
  {
   "cell_type": "markdown",
   "id": "a756fc5f",
   "metadata": {},
   "source": [
    "This notebook does the same job as the cmd-line tool `simulate_breach.py`, but also directly visualizes the user data and reconstruction"
   ]
  },
  {
   "cell_type": "code",
   "execution_count": 1,
   "id": "b850eabf",
   "metadata": {},
   "outputs": [],
   "source": [
    "import torch\n",
    "import hydra\n",
    "from omegaconf import OmegaConf\n",
    "%load_ext autoreload\n",
    "%autoreload 2\n",
    "\n",
    "import breaching\n",
    "import logging, sys\n",
    "logging.basicConfig(level=logging.INFO, handlers=[logging.StreamHandler(sys.stdout)], format='%(message)s')\n",
    "logger = logging.getLogger()"
   ]
  },
  {
   "cell_type": "code",
   "execution_count": 2,
   "id": "e4d34cad",
   "metadata": {},
   "outputs": [],
   "source": [
    "import numpy as np\n",
    "from scipy.optimize import linear_sum_assignment"
   ]
  },
  {
   "cell_type": "markdown",
   "id": "88d5e214",
   "metadata": {},
   "source": [
    "### Initialize cfg object and system setup:"
   ]
  },
  {
   "cell_type": "markdown",
   "id": "56bd663b",
   "metadata": {},
   "source": [
    "This will print out all configuration options. \n",
    "There are a lot of possible configurations, but there is usually no need to worry about most of these. Below, a few options are printed."
   ]
  },
  {
   "cell_type": "markdown",
   "id": "26070d66",
   "metadata": {},
   "source": [
    "Choose `case/data=` `shakespeare`, `wikitext`over `stackoverflow` here:"
   ]
  },
  {
   "cell_type": "code",
   "execution_count": 3,
   "id": "a7dc3a48",
   "metadata": {},
   "outputs": [
    {
     "name": "stdout",
     "output_type": "stream",
     "text": [
      "Investigating use case single_imagenet with server type malicious_transformer_parameters.\n"
     ]
    },
    {
     "data": {
      "text/plain": [
       "{'device': device(type='cpu'), 'dtype': torch.float32}"
      ]
     },
     "execution_count": 3,
     "metadata": {},
     "output_type": "execute_result"
    }
   ],
   "source": [
    "with hydra.initialize(config_path=\"config\"):\n",
    "    cfg = hydra.compose(config_name='cfg', overrides=[\"case/data=wikitext\", \"case/server=malicious-transformer\",\n",
    "                                                      \"case.model=transformer3p\",\n",
    "                                                      \"attack=decepticon\"])\n",
    "    print(f'Investigating use case {cfg.case.name} with server type {cfg.case.server.name}.')\n",
    "          \n",
    "device = torch.device(f'cuda:0') if torch.cuda.is_available() else torch.device('cpu')\n",
    "torch.backends.cudnn.benchmark = cfg.case.impl.benchmark\n",
    "setup = dict(device=device, dtype=torch.float)\n",
    "setup"
   ]
  },
  {
   "cell_type": "markdown",
   "id": "203c5fb1",
   "metadata": {},
   "source": [
    "### Modify config options here"
   ]
  },
  {
   "cell_type": "markdown",
   "id": "6e0764ef",
   "metadata": {},
   "source": [
    "You can use `.attribute` access to modify any of these configurations:"
   ]
  },
  {
   "cell_type": "code",
   "execution_count": 4,
   "id": "ac118ea0",
   "metadata": {},
   "outputs": [],
   "source": [
    "cfg.case.user.num_data_points = 4 # How many sentences?\n",
    "cfg.case.user.user_idx = 1 # From which user?\n",
    "cfg.case.data.shape = [16] # This is the sequence length\n",
    "\n",
    "cfg.case.data.tokenizer = \"word-level\"\n",
    "\n",
    "cfg.case.server.has_external_data = True\n",
    "\n",
    "cfg.case.server.param_modification.v_length = 8\n",
    "cfg.case.server.param_modification.imprint_sentence_position = 0\n",
    "cfg.case.server.param_modification.softmax_skew = 100\n",
    "cfg.case.server.param_modification.sequence_token_weight = 1"
   ]
  },
  {
   "cell_type": "markdown",
   "id": "76f64389",
   "metadata": {},
   "source": [
    "### Instantiate all parties"
   ]
  },
  {
   "cell_type": "code",
   "execution_count": 5,
   "id": "30235b0c",
   "metadata": {},
   "outputs": [
    {
     "name": "stdout",
     "output_type": "stream",
     "text": [
      "Reusing dataset wikitext (/home/jonas/data/wikitext/wikitext-103-v1/1.0.0/aa5e094000ec7afeb74c3be92c88313cd6f132d564c7effd961c10fd47c76f20)\n",
      "Reusing dataset wikitext (/home/jonas/data/wikitext/wikitext-103-v1/1.0.0/aa5e094000ec7afeb74c3be92c88313cd6f132d564c7effd961c10fd47c76f20)\n",
      "Model architecture transformer3p loaded with 10,751,281 parameters and 0 buffers.\n",
      "Overall this is a data ratio of  167989:1 for target shape [4, 16] given that num_queries=1.\n",
      "User (of type UserSingleStep) with settings:\n",
      "    Number of data points: 4\n",
      "\n",
      "    Threat model:\n",
      "    User provides labels: False\n",
      "    User provides buffers: False\n",
      "    User provides number of data points: True\n",
      "\n",
      "    Data:\n",
      "    Dataset: wikitext\n",
      "    user: 1\n",
      "    \n",
      "        \n",
      "Server (of type MaliciousTransformerServer) with settings:\n",
      "    Threat model: Malicious (Parameters)\n",
      "    Number of planned queries: 1\n",
      "    Has external/public data: True\n",
      "\n",
      "    Model:\n",
      "        model specification: transformer3p\n",
      "        model state: default\n",
      "        \n",
      "\n",
      "    Secrets: {}\n",
      "    \n",
      "Attacker (of type DecepticonAttacker).\n"
     ]
    }
   ],
   "source": [
    "user, server, model, loss_fn = breaching.cases.construct_case(cfg.case, setup)\n",
    "attacker = breaching.attacks.prepare_attack(server.model, server.loss, cfg.attack, setup)\n",
    "breaching.utils.overview(server, user, attacker)"
   ]
  },
  {
   "cell_type": "markdown",
   "id": "548c0ad6",
   "metadata": {},
   "source": [
    "### Simulate an attacked FL protocol"
   ]
  },
  {
   "cell_type": "markdown",
   "id": "2058bcc2",
   "metadata": {},
   "source": [
    "True user data is returned only for analysis"
   ]
  },
  {
   "cell_type": "code",
   "execution_count": 6,
   "id": "7432a2de",
   "metadata": {},
   "outputs": [
    {
     "name": "stdout",
     "output_type": "stream",
     "text": [
      "Computing feature distribution before the linear1 layer from external data.\n",
      "Feature mean is -0.00920235924422741, feature std is 0.7685369253158569.\n"
     ]
    }
   ],
   "source": [
    "server_payload = server.distribute_payload()\n",
    "shared_data, true_user_data = user.compute_local_updates(server_payload)"
   ]
  },
  {
   "cell_type": "code",
   "execution_count": 7,
   "id": "69c6ff1f",
   "metadata": {},
   "outputs": [
    {
     "name": "stdout",
     "output_type": "stream",
     "text": [
      "[CLS] the tower building of the little rock arsenal, also known as u. s\n",
      ". arsenal building, is a building located in macarthur park in downtown little rock,\n",
      "arkansas. built in 1 8 4 0, it was part of little rock '\n",
      "s first military installation. since its decommissioning, the tower building has housed two museums\n"
     ]
    }
   ],
   "source": [
    "user.print(true_user_data)"
   ]
  },
  {
   "cell_type": "markdown",
   "id": "c6e8b829",
   "metadata": {},
   "source": [
    "## Run through the initial transformer blocks \"by hand\":"
   ]
  },
  {
   "cell_type": "code",
   "execution_count": 8,
   "id": "3d8a0790",
   "metadata": {},
   "outputs": [],
   "source": [
    "inputs = true_user_data[\"data\"]"
   ]
  },
  {
   "cell_type": "code",
   "execution_count": 9,
   "id": "735002d8",
   "metadata": {},
   "outputs": [
    {
     "data": {
      "text/plain": [
       "tensor([[[ 0.0000,  0.0000,  0.0000,  ...,  0.9314, -1.6871,  0.1320],\n",
       "         [ 0.0000,  0.0000,  0.0000,  ..., -0.7709,  0.9466, -0.4144],\n",
       "         [ 0.0000,  0.0000,  0.0000,  ..., -0.6361,  1.3109, -0.1161],\n",
       "         ...,\n",
       "         [ 0.0000,  0.0000,  0.0000,  ...,  0.3998,  0.6305, -0.8165],\n",
       "         [ 0.0000,  0.0000,  0.0000,  ..., -0.7691,  0.5120, -1.2598],\n",
       "         [ 0.0000,  0.0000,  0.0000,  ...,  1.2931, -1.1679, -0.8926]],\n",
       "\n",
       "        [[ 0.0000,  0.0000,  0.0000,  ...,  1.0273, -1.6562,  0.0911],\n",
       "         [ 0.0000,  0.0000,  0.0000,  ..., -0.6242,  0.9126, -0.4203],\n",
       "         [ 0.0000,  0.0000,  0.0000,  ..., -0.5350,  1.3296, -0.2147],\n",
       "         ...,\n",
       "         [ 0.0000,  0.0000,  0.0000,  ...,  0.2974,  0.6015, -0.8886],\n",
       "         [ 0.0000,  0.0000,  0.0000,  ..., -0.7996,  0.5429, -1.3360],\n",
       "         [ 0.0000,  0.0000,  0.0000,  ...,  1.3342, -1.2882, -0.9508]],\n",
       "\n",
       "        [[ 0.0000,  0.0000,  0.0000,  ...,  1.0000, -1.5464,  0.0250],\n",
       "         [ 0.0000,  0.0000,  0.0000,  ..., -0.6236,  0.8721, -0.3398],\n",
       "         [ 0.0000,  0.0000,  0.0000,  ..., -0.6470,  1.2519, -0.2325],\n",
       "         ...,\n",
       "         [ 0.0000,  0.0000,  0.0000,  ...,  0.2974,  0.6015, -0.8886],\n",
       "         [ 0.0000,  0.0000,  0.0000,  ..., -0.7996,  0.5429, -1.3360],\n",
       "         [ 0.0000,  0.0000,  0.0000,  ...,  1.3312, -1.2144, -0.9448]],\n",
       "\n",
       "        [[ 0.0000,  0.0000,  0.0000,  ...,  0.9537, -1.5619,  0.2067],\n",
       "         [ 0.0000,  0.0000,  0.0000,  ..., -0.6587,  0.8886, -0.3765],\n",
       "         [ 0.0000,  0.0000,  0.0000,  ..., -0.4714,  1.1995, -0.2358],\n",
       "         ...,\n",
       "         [ 0.0000,  0.0000,  0.0000,  ...,  0.3737,  0.6753, -0.8190],\n",
       "         [ 0.0000,  0.0000,  0.0000,  ..., -0.7509,  0.5421, -1.3081],\n",
       "         [ 0.0000,  0.0000,  0.0000,  ...,  1.3553, -1.1562, -0.9175]]],\n",
       "       grad_fn=<AddBackward0>)"
      ]
     },
     "execution_count": 9,
     "metadata": {},
     "output_type": "execute_result"
    }
   ],
   "source": [
    "trafo_inputs = user.model.pos_encoder(user.model.encoder(true_user_data[\"data\"]))#[0, 0, :]\n",
    "trafo_inputs"
   ]
  },
  {
   "cell_type": "code",
   "execution_count": 10,
   "id": "b8b266f8",
   "metadata": {},
   "outputs": [
    {
     "data": {
      "text/plain": [
       "tensor([[[-0.3244, -0.6605,  1.0048,  ...,  0.0000,  0.0000,  0.0000],\n",
       "         [-0.3244, -0.6605,  1.0048,  ...,  0.0000,  0.0000,  0.0000],\n",
       "         [-0.3244, -0.6605,  1.0048,  ...,  0.0000,  0.0000,  0.0000],\n",
       "         ...,\n",
       "         [-0.3244, -0.6605,  1.0048,  ...,  0.0000,  0.0000,  0.0000],\n",
       "         [-0.3244, -0.6605,  1.0048,  ...,  0.0000,  0.0000,  0.0000],\n",
       "         [-0.3244, -0.6605,  1.0048,  ...,  0.0000,  0.0000,  0.0000]],\n",
       "\n",
       "        [[-0.3177, -0.5200,  0.9559,  ...,  0.0000,  0.0000,  0.0000],\n",
       "         [-0.3177, -0.5200,  0.9559,  ...,  0.0000,  0.0000,  0.0000],\n",
       "         [-0.3177, -0.5200,  0.9559,  ...,  0.0000,  0.0000,  0.0000],\n",
       "         ...,\n",
       "         [-0.3177, -0.5200,  0.9559,  ...,  0.0000,  0.0000,  0.0000],\n",
       "         [-0.3177, -0.5200,  0.9559,  ...,  0.0000,  0.0000,  0.0000],\n",
       "         [-0.3177, -0.5200,  0.9559,  ...,  0.0000,  0.0000,  0.0000]],\n",
       "\n",
       "        [[-0.2305, -0.5085,  1.0406,  ...,  0.0000,  0.0000,  0.0000],\n",
       "         [-0.2305, -0.5085,  1.0406,  ...,  0.0000,  0.0000,  0.0000],\n",
       "         [-0.2305, -0.5085,  1.0406,  ...,  0.0000,  0.0000,  0.0000],\n",
       "         ...,\n",
       "         [-0.2305, -0.5085,  1.0406,  ...,  0.0000,  0.0000,  0.0000],\n",
       "         [-0.2305, -0.5085,  1.0406,  ...,  0.0000,  0.0000,  0.0000],\n",
       "         [-0.2305, -0.5085,  1.0406,  ...,  0.0000,  0.0000,  0.0000]],\n",
       "\n",
       "        [[-0.3444, -0.4989,  1.0996,  ...,  0.0000,  0.0000,  0.0000],\n",
       "         [-0.3444, -0.4989,  1.0996,  ...,  0.0000,  0.0000,  0.0000],\n",
       "         [-0.3444, -0.4989,  1.0996,  ...,  0.0000,  0.0000,  0.0000],\n",
       "         ...,\n",
       "         [-0.3444, -0.4989,  1.0996,  ...,  0.0000,  0.0000,  0.0000],\n",
       "         [-0.3444, -0.4989,  1.0996,  ...,  0.0000,  0.0000,  0.0000],\n",
       "         [-0.3444, -0.4989,  1.0996,  ...,  0.0000,  0.0000,  0.0000]]],\n",
       "       grad_fn=<TransposeBackward0>)"
      ]
     },
     "execution_count": 10,
     "metadata": {},
     "output_type": "execute_result"
    }
   ],
   "source": [
    "attn_outputs, attn_weights = user.model.transformer_encoder.layers[0].self_attn(trafo_inputs, trafo_inputs, trafo_inputs)\n",
    "attn_outputs"
   ]
  },
  {
   "cell_type": "code",
   "execution_count": 11,
   "id": "7410d5d6",
   "metadata": {},
   "outputs": [
    {
     "data": {
      "text/plain": [
       "tensor([[[8.7500e-01, 9.8678e-40, 9.0902e-42,  ..., 1.2116e-09,\n",
       "          0.0000e+00, 9.7909e-12],\n",
       "         [8.7500e-01, 9.8678e-40, 9.0902e-42,  ..., 1.2116e-09,\n",
       "          0.0000e+00, 9.7909e-12],\n",
       "         [8.7500e-01, 9.8678e-40, 9.0902e-42,  ..., 1.2116e-09,\n",
       "          0.0000e+00, 9.7909e-12],\n",
       "         ...,\n",
       "         [8.7500e-01, 9.8678e-40, 9.0902e-42,  ..., 1.2116e-09,\n",
       "          0.0000e+00, 9.7909e-12],\n",
       "         [8.7500e-01, 9.8678e-40, 9.0902e-42,  ..., 1.2116e-09,\n",
       "          0.0000e+00, 9.7909e-12],\n",
       "         [8.7500e-01, 9.8678e-40, 9.0902e-42,  ..., 1.2116e-09,\n",
       "          0.0000e+00, 9.7909e-12]],\n",
       "\n",
       "        [[8.7500e-01, 8.9123e-43, 5.3950e-43,  ..., 4.5055e-11,\n",
       "          0.0000e+00, 1.6312e-11],\n",
       "         [8.7500e-01, 8.9123e-43, 5.3950e-43,  ..., 4.5055e-11,\n",
       "          0.0000e+00, 1.6312e-11],\n",
       "         [8.7500e-01, 8.9123e-43, 5.3950e-43,  ..., 4.5055e-11,\n",
       "          0.0000e+00, 1.6312e-11],\n",
       "         ...,\n",
       "         [8.7500e-01, 8.9123e-43, 5.3950e-43,  ..., 4.5055e-11,\n",
       "          0.0000e+00, 1.6312e-11],\n",
       "         [8.7500e-01, 8.9123e-43, 5.3950e-43,  ..., 4.5055e-11,\n",
       "          0.0000e+00, 1.6312e-11],\n",
       "         [8.7500e-01, 8.9123e-43, 5.3950e-43,  ..., 4.5055e-11,\n",
       "          0.0000e+00, 1.6312e-11]],\n",
       "\n",
       "        [[8.7500e-01, 9.9439e-41, 2.5223e-43,  ..., 3.1580e-11,\n",
       "          0.0000e+00, 2.8799e-12],\n",
       "         [8.7500e-01, 9.9439e-41, 2.5223e-43,  ..., 3.1580e-11,\n",
       "          0.0000e+00, 2.8799e-12],\n",
       "         [8.7500e-01, 9.9439e-41, 2.5223e-43,  ..., 3.1580e-11,\n",
       "          0.0000e+00, 2.8799e-12],\n",
       "         ...,\n",
       "         [8.7500e-01, 9.9439e-41, 2.5223e-43,  ..., 3.1580e-11,\n",
       "          0.0000e+00, 2.8799e-12],\n",
       "         [8.7500e-01, 9.9439e-41, 2.5223e-43,  ..., 3.1580e-11,\n",
       "          0.0000e+00, 2.8799e-12],\n",
       "         [8.7500e-01, 9.9439e-41, 2.5223e-43,  ..., 3.1580e-11,\n",
       "          0.0000e+00, 2.8799e-12]],\n",
       "\n",
       "        [[8.7500e-01, 1.4896e-42, 2.5223e-44,  ..., 1.1779e-12,\n",
       "          0.0000e+00, 1.9656e-12],\n",
       "         [8.7500e-01, 1.4896e-42, 2.5223e-44,  ..., 1.1779e-12,\n",
       "          0.0000e+00, 1.9656e-12],\n",
       "         [8.7500e-01, 1.4896e-42, 2.5223e-44,  ..., 1.1779e-12,\n",
       "          0.0000e+00, 1.9656e-12],\n",
       "         ...,\n",
       "         [8.7500e-01, 1.4896e-42, 2.5223e-44,  ..., 1.1779e-12,\n",
       "          0.0000e+00, 1.9656e-12],\n",
       "         [8.7500e-01, 1.4896e-42, 2.5223e-44,  ..., 1.1779e-12,\n",
       "          0.0000e+00, 1.9656e-12],\n",
       "         [8.7500e-01, 1.4896e-42, 2.5223e-44,  ..., 1.1779e-12,\n",
       "          0.0000e+00, 1.9656e-12]]], grad_fn=<DivBackward0>)"
      ]
     },
     "execution_count": 11,
     "metadata": {},
     "output_type": "execute_result"
    }
   ],
   "source": [
    "attn_weights"
   ]
  },
  {
   "cell_type": "code",
   "execution_count": 12,
   "id": "10eb37c5",
   "metadata": {},
   "outputs": [
    {
     "data": {
      "text/plain": [
       "tensor([[[-0.3979, -0.7212,  0.8809,  ...,  0.8102, -1.7089,  0.0411],\n",
       "         [-0.3703, -0.7442,  1.1081,  ..., -0.8670,  1.0433, -0.4705],\n",
       "         [-0.2083, -0.5361,  1.0881,  ..., -0.5123,  1.3866, -0.0052],\n",
       "         ...,\n",
       "         [-0.3324, -0.6513,  0.9286,  ...,  0.3547,  0.5735, -0.7994],\n",
       "         [-0.3629, -0.6865,  0.9168,  ..., -0.7911,  0.4423, -1.2635],\n",
       "         [-0.2498, -0.5409,  0.9014,  ...,  1.1511, -0.9804, -0.7419]],\n",
       "\n",
       "        [[-0.4007, -0.5943,  0.8185,  ...,  0.8869, -1.6821, -0.0094],\n",
       "         [-0.3722, -0.5984,  1.0520,  ..., -0.7150,  1.0036, -0.4870],\n",
       "         [-0.2130, -0.4130,  1.0466,  ..., -0.4279,  1.4161, -0.1111],\n",
       "         ...,\n",
       "         [-0.3346, -0.5264,  0.8734,  ...,  0.2489,  0.5373, -0.8761],\n",
       "         [-0.3555, -0.5506,  0.8732,  ..., -0.8203,  0.4748, -1.3378],\n",
       "         [-0.2448, -0.4208,  0.8630,  ...,  1.1920, -1.0890, -0.7955]],\n",
       "\n",
       "        [[-0.3190, -0.5871,  0.9066,  ...,  0.8675, -1.5879, -0.0726],\n",
       "         [-0.2854, -0.5956,  1.1327,  ..., -0.7240,  0.9448, -0.4073],\n",
       "         [-0.1239, -0.3989,  1.1332,  ..., -0.5358,  1.3422, -0.1259],\n",
       "         ...,\n",
       "         [-0.2542, -0.5182,  0.9524,  ...,  0.2469,  0.5356, -0.8790],\n",
       "         [-0.2738, -0.5423,  0.9536,  ..., -0.8233,  0.4730, -1.3413],\n",
       "         [-0.1753, -0.4162,  0.9259,  ...,  1.1776, -1.0277, -0.7942]],\n",
       "\n",
       "        [[-0.4268, -0.5759,  0.9668,  ...,  0.8259, -1.6018,  0.1050],\n",
       "         [-0.4248, -0.5984,  1.1975,  ..., -0.7780,  0.9604, -0.4609],\n",
       "         [-0.2337, -0.3869,  1.1980,  ..., -0.3596,  1.2970, -0.1260],\n",
       "         ...,\n",
       "         [-0.3604, -0.5075,  1.0142,  ...,  0.3232,  0.6103, -0.8122],\n",
       "         [-0.3927, -0.5424,  1.0068,  ..., -0.7866,  0.4665, -1.3267],\n",
       "         [-0.2799, -0.4143,  0.9767,  ...,  1.1992, -0.9863, -0.7786]]],\n",
       "       grad_fn=<NativeLayerNormBackward0>)"
      ]
     },
     "execution_count": 12,
     "metadata": {},
     "output_type": "execute_result"
    }
   ],
   "source": [
    "residuals = attn_outputs + trafo_inputs\n",
    "linear_inputs = user.model.transformer_encoder.layers[0].norm1(residuals)\n",
    "linear_inputs"
   ]
  },
  {
   "cell_type": "code",
   "execution_count": 13,
   "id": "99fa949d",
   "metadata": {},
   "outputs": [
    {
     "data": {
      "text/plain": [
       "tensor([[-0.3979, -0.7212,  0.8809, -2.3001, -0.1344,  0.1542, -0.7872, -1.3975],\n",
       "        [-0.3703, -0.7442,  1.1081, -2.5695, -0.0657,  0.2680, -0.8204, -1.5260],\n",
       "        [-0.2083, -0.5361,  1.0881, -2.1366,  0.0589,  0.3514, -0.6029, -1.2217],\n",
       "        [-0.2831, -0.5859,  0.9144, -2.0643, -0.0363,  0.2339, -0.6476, -1.2192],\n",
       "        [-0.1551, -0.5184,  1.2817, -2.2925,  0.1410,  0.4653, -0.5925, -1.2783],\n",
       "        [-0.5559, -0.9293,  0.9212, -2.7531, -0.2515,  0.0819, -1.0055, -1.7105],\n",
       "        [-0.2768, -0.6090,  1.0370, -2.2310, -0.0060,  0.2905, -0.6767, -1.3038],\n",
       "        [-0.2696, -0.6062,  1.0614, -2.2495,  0.0047,  0.3050, -0.6748, -1.3101],\n",
       "        [-0.1975, -0.5337,  1.1320, -2.1751,  0.0765,  0.3765, -0.6022, -1.2368],\n",
       "        [-0.3093, -0.6608,  1.0809, -2.3771, -0.0228,  0.2909, -0.7324, -1.3960],\n",
       "        [-0.3099, -0.6189,  0.9121, -2.1277, -0.0581,  0.2177, -0.6819, -1.2652],\n",
       "        [-0.2177, -0.5382,  1.0499, -2.1034,  0.0435,  0.3296, -0.6036, -1.2087],\n",
       "        [-0.2800, -0.6131,  1.0375, -2.2398, -0.0085,  0.2889, -0.6810, -1.3099],\n",
       "        [-0.3324, -0.6513,  0.9286, -2.2084, -0.0726,  0.2120, -0.7163, -1.3183],\n",
       "        [-0.3629, -0.6865,  0.9168, -2.2665, -0.0992,  0.1896, -0.7525, -1.3633],\n",
       "        [-0.2498, -0.5409,  0.9014, -1.9623, -0.0125,  0.2473, -0.6002, -1.1497]],\n",
       "       grad_fn=<SliceBackward0>)"
      ]
     },
     "execution_count": 13,
     "metadata": {},
     "output_type": "execute_result"
    }
   ],
   "source": [
    "linear_inputs[0, :, 0:8]"
   ]
  },
  {
   "cell_type": "code",
   "execution_count": 14,
   "id": "6ab6e869",
   "metadata": {},
   "outputs": [
    {
     "data": {
      "text/plain": [
       "torch.Size([4, 16, 96])"
      ]
     },
     "execution_count": 14,
     "metadata": {},
     "output_type": "execute_result"
    }
   ],
   "source": [
    "linear_inputs.shape"
   ]
  },
  {
   "cell_type": "markdown",
   "id": "9f08980d",
   "metadata": {},
   "source": [
    "### Simulate breached features"
   ]
  },
  {
   "cell_type": "code",
   "execution_count": 15,
   "id": "9a24f6a0",
   "metadata": {},
   "outputs": [
    {
     "data": {
      "text/plain": [
       "tensor([13, 27, 11, 25, 19, 16, 26,  0,  5, 23, 12,  3,  8, 29, 15, 21, 31, 30,\n",
       "         6, 20, 17,  2, 22, 18, 24,  4,  1,  7, 14,  9, 10, 28])"
      ]
     },
     "execution_count": 15,
     "metadata": {},
     "output_type": "execute_result"
    }
   ],
   "source": [
    "permutation = torch.randperm(32) # torch.randperm(32) # torch.arange(32)\n",
    "num_breached_embeddings = 20\n",
    "reverse_perm = torch.argsort(permutation[:num_breached_embeddings])\n",
    "permutation"
   ]
  },
  {
   "cell_type": "code",
   "execution_count": 16,
   "id": "2a3fcf13",
   "metadata": {},
   "outputs": [
    {
     "data": {
      "text/plain": [
       "torch.Size([20, 8])"
      ]
     },
     "execution_count": 16,
     "metadata": {},
     "output_type": "execute_result"
    }
   ],
   "source": [
    "seq_features = linear_inputs.permute(0, 1, 2).reshape(-1, 96)[:, :8][permutation][:num_breached_embeddings]\n",
    "seq_features.shape"
   ]
  },
  {
   "cell_type": "code",
   "execution_count": 17,
   "id": "8be74061",
   "metadata": {},
   "outputs": [],
   "source": [
    "corrs = torch.as_tensor(np.corrcoef(seq_features.detach()))"
   ]
  },
  {
   "cell_type": "code",
   "execution_count": 18,
   "id": "48729329",
   "metadata": {
    "scrolled": false
   },
   "outputs": [
    {
     "name": "stdout",
     "output_type": "stream",
     "text": [
      "0 20\n"
     ]
    }
   ],
   "source": [
    "group_dict = dict()\n",
    "num_groups = 0\n",
    "seen = set()\n",
    "for i in range(corrs.shape[0]):\n",
    "    if i not in seen:\n",
    "        flag = corrs[i].argmax()\n",
    "        # What threshhold to pick here? there should be a better way?\n",
    "        new_group = (corrs[i] >= 0.98).nonzero().tolist()\n",
    "        print(i, len(new_group))\n",
    "        new_group = [x[0] for x in new_group]\n",
    "        if flag in group_dict:\n",
    "            group_num = corrs[flag]\n",
    "        else:\n",
    "            group_num = num_groups\n",
    "            num_groups += 1\n",
    "        for x in new_group:\n",
    "            group_dict[x] = group_num\n",
    "            seen.add(x)"
   ]
  },
  {
   "cell_type": "code",
   "execution_count": 19,
   "id": "910d5cb6",
   "metadata": {},
   "outputs": [
    {
     "data": {
      "text/plain": [
       "tensor([18, 19, 19, 19, 19, 19, 19, 18, 19, 19, 19, 19, 18, 19, 19, 19, 19, 19,\n",
       "        18, 19])"
      ]
     },
     "execution_count": 19,
     "metadata": {},
     "output_type": "execute_result"
    }
   ],
   "source": [
    "shape= [cfg.case.user.num_data_points, cfg.case.data.shape[0]]\n",
    "sentence_labels = -torch.ones(corrs.shape[0], dtype=torch.long)\n",
    "already_assigned = set()\n",
    "for idx in range(corrs.shape[0]):\n",
    "    if idx not in already_assigned:\n",
    "        matches = (corrs[idx] >= 0.98).nonzero().squeeze(0)\n",
    "\n",
    "        if len(matches) > 0:\n",
    "            filtered_matches = torch.as_tensor([m for m in matches if m not in already_assigned])\n",
    "            if len(filtered_matches) > shape[1]:\n",
    "                filtered_matches = corrs[idx][filtered_matches].topk(k=shape[1]).indices\n",
    "            sentence_labels[filtered_matches] = idx\n",
    "sentence_labels"
   ]
  },
  {
   "cell_type": "markdown",
   "id": "f2867bcc",
   "metadata": {},
   "source": [
    "# Reconstruct user data"
   ]
  },
  {
   "cell_type": "code",
   "execution_count": 20,
   "id": "5656ee46",
   "metadata": {},
   "outputs": [],
   "source": [
    "attacker.cfg.sentence_algorithm = \"k-means\""
   ]
  },
  {
   "cell_type": "code",
   "execution_count": 21,
   "id": "bf23d087",
   "metadata": {
    "scrolled": false
   },
   "outputs": [
    {
     "name": "stdout",
     "output_type": "stream",
     "text": [
      "Recovered tokens [[5, 6, 7, 10, 11, 12, 16, 17, 22, 26, 29, 31, 32, 35, 38, 40], [50, 62, 63, 64, 72, 291, 310, 400, 494, 566, 846, 940, 993, 1084, 1495, 1936], [1, 6, 7, 7, 7, 1084, 1084, 5470, 6084, 6489, 8107, 8323, 18637, 21489, 21964, 22724], [5, 5, 6, 7, 7, 11, 12, 12, 566, 566, 846, 1084, 1084, 1936, 1936, 6084]] through strategy decoder-bias.\n",
      "Recovered 57 embeddings with positional data from imprinted layer.\n",
      "Assigned [16, 16, 9, 16] breached embeddings to each sentence.\n",
      "tensor([-0.0451,  0.0095,  0.1452, -0.0913,  0.0872, -0.0906,  0.1386,  0.0664,\n",
      "        -0.2368,  0.1638, -0.1356,  0.1633,  0.2619, -0.0111, -0.0466,  0.0112])\n",
      "tensor([-0.0452, -0.0115, -0.0464,  0.1905,  0.1806,  0.0787, -0.0445,  0.0157,\n",
      "        -0.0892, -0.2465,  0.0881,  0.0053,  0.1328, -0.0156,  0.1420,  0.2849])\n",
      "tensor([0.8729, 0.8895, 0.8947, 0.8516, 0.8649, 0.8759, 0.2515, 0.1670, 0.1569])\n",
      "tensor([0.0152, 0.1146, 0.8779, 0.0922, 0.8684, 0.0483, 0.1908, 0.8309, 0.8562,\n",
      "        0.8446, 0.8470, 0.8952, 0.2802, 0.8655, 0.9005, 0.1875])\n",
      "building, was 0 s, since building building the, museums arsenal'tower.\n",
      "part decommissioning in u is, the building 8 the located has arsenal its tower.\n",
      "[CLS] built of housed of, little rock military it, known as little rock macarthur\n",
      "arkansas installation in also 1 a 4 in. first park two downtown little rock building\n",
      "METRICS: | Accuracy: 0.0625 | S-BLEU: 0.08 | FMSE: 2.1326e-03 | \n",
      " G-BLEU: 0.15 | ROUGE1: 0.40| ROUGE2: 0.05 | ROUGE-L: 0.21| Token Acc: 96.88% | Label Acc: 96.88%\n"
     ]
    }
   ],
   "source": [
    "reconstructed_user_data, stats = attacker.reconstruct([server_payload], [shared_data], \n",
    "                                                      server.secrets, dryrun=cfg.dryrun)\n",
    "user.print(reconstructed_user_data)\n",
    "metrics = breaching.analysis.report(reconstructed_user_data, true_user_data, [server_payload], \n",
    "                                    server.model, cfg_case=cfg.case, setup=setup)"
   ]
  },
  {
   "cell_type": "markdown",
   "id": "3447d099",
   "metadata": {},
   "source": [
    "# Manually compute attention"
   ]
  },
  {
   "cell_type": "code",
   "execution_count": 22,
   "id": "cd2de973",
   "metadata": {},
   "outputs": [
    {
     "ename": "AttributeError",
     "evalue": "'LearnablePositionalEmbedding' object has no attribute 'pe'",
     "output_type": "error",
     "traceback": [
      "\u001b[0;31m---------------------------------------------------------------------------\u001b[0m",
      "\u001b[0;31mAttributeError\u001b[0m                            Traceback (most recent call last)",
      "\u001b[0;32m/tmp/ipykernel_1421641/1213741918.py\u001b[0m in \u001b[0;36m<module>\u001b[0;34m\u001b[0m\n\u001b[1;32m      1\u001b[0m \u001b[0minputs\u001b[0m \u001b[0;34m=\u001b[0m \u001b[0mtorch\u001b[0m\u001b[0;34m.\u001b[0m\u001b[0mrandn\u001b[0m\u001b[0;34m(\u001b[0m\u001b[0;36m10\u001b[0m\u001b[0;34m,\u001b[0m \u001b[0;36m4\u001b[0m\u001b[0;34m,\u001b[0m \u001b[0;36m96\u001b[0m\u001b[0;34m)\u001b[0m\u001b[0;34m\u001b[0m\u001b[0;34m\u001b[0m\u001b[0m\n\u001b[0;32m----> 2\u001b[0;31m \u001b[0minputs\u001b[0m \u001b[0;34m=\u001b[0m \u001b[0muser\u001b[0m\u001b[0;34m.\u001b[0m\u001b[0mmodel\u001b[0m\u001b[0;34m.\u001b[0m\u001b[0mpos_encoder\u001b[0m\u001b[0;34m.\u001b[0m\u001b[0mpe\u001b[0m\u001b[0;34m[\u001b[0m\u001b[0;36m0\u001b[0m\u001b[0;34m]\u001b[0m\u001b[0;34m[\u001b[0m\u001b[0;32mNone\u001b[0m\u001b[0;34m,\u001b[0m \u001b[0;36m0\u001b[0m\u001b[0;34m:\u001b[0m\u001b[0;36m4\u001b[0m\u001b[0;34m,\u001b[0m \u001b[0;34m:\u001b[0m\u001b[0;34m]\u001b[0m\u001b[0;34m\u001b[0m\u001b[0;34m\u001b[0m\u001b[0m\n\u001b[0m\u001b[1;32m      3\u001b[0m \u001b[0minputs\u001b[0m\u001b[0;34m[\u001b[0m\u001b[0;36m0\u001b[0m\u001b[0;34m]\u001b[0m\u001b[0;34m\u001b[0m\u001b[0;34m\u001b[0m\u001b[0m\n",
      "\u001b[0;32m~/anaconda3/envs/dl/lib/python3.9/site-packages/torch/nn/modules/module.py\u001b[0m in \u001b[0;36m__getattr__\u001b[0;34m(self, name)\u001b[0m\n\u001b[1;32m   1175\u001b[0m             \u001b[0;32mif\u001b[0m \u001b[0mname\u001b[0m \u001b[0;32min\u001b[0m \u001b[0mmodules\u001b[0m\u001b[0;34m:\u001b[0m\u001b[0;34m\u001b[0m\u001b[0;34m\u001b[0m\u001b[0m\n\u001b[1;32m   1176\u001b[0m                 \u001b[0;32mreturn\u001b[0m \u001b[0mmodules\u001b[0m\u001b[0;34m[\u001b[0m\u001b[0mname\u001b[0m\u001b[0;34m]\u001b[0m\u001b[0;34m\u001b[0m\u001b[0;34m\u001b[0m\u001b[0m\n\u001b[0;32m-> 1177\u001b[0;31m         raise AttributeError(\"'{}' object has no attribute '{}'\".format(\n\u001b[0m\u001b[1;32m   1178\u001b[0m             type(self).__name__, name))\n\u001b[1;32m   1179\u001b[0m \u001b[0;34m\u001b[0m\u001b[0m\n",
      "\u001b[0;31mAttributeError\u001b[0m: 'LearnablePositionalEmbedding' object has no attribute 'pe'"
     ]
    }
   ],
   "source": [
    "inputs = torch.randn(10, 4, 96)\n",
    "inputs = user.model.pos_encoder.pe[0][None, 0:4, :]\n",
    "inputs[0]"
   ]
  },
  {
   "cell_type": "code",
   "execution_count": null,
   "id": "01101145",
   "metadata": {},
   "outputs": [],
   "source": [
    "user.model.transformer_encoder.layers[0].self_attn.out_proj.weight.data.mul_(10000)"
   ]
  },
  {
   "cell_type": "code",
   "execution_count": null,
   "id": "c9fa0329",
   "metadata": {},
   "outputs": [],
   "source": [
    "Q = user.model.transformer_encoder.layers[0].self_attn.in_proj_weight[:96, :]\n",
    "K = user.model.transformer_encoder.layers[0].self_attn.in_proj_weight[96:192, :]\n",
    "V = user.model.transformer_encoder.layers[0].self_attn.in_proj_weight[192:, :]\n",
    "q_b = user.model.transformer_encoder.layers[0].self_attn.in_proj_bias[:96] * 10000\n",
    "k_b = user.model.transformer_encoder.layers[0].self_attn.in_proj_bias[96:192]\n",
    "v_b = user.model.transformer_encoder.layers[0].self_attn.in_proj_bias[192:]\n",
    "\n",
    "O =  user.model.transformer_encoder.layers[0].self_attn.out_proj.weight.data"
   ]
  },
  {
   "cell_type": "code",
   "execution_count": null,
   "id": "91bd93f4",
   "metadata": {},
   "outputs": [],
   "source": [
    "self_attn = user.model.transformer_encoder.layers[0].self_attn"
   ]
  },
  {
   "cell_type": "code",
   "execution_count": null,
   "id": "567dad3e",
   "metadata": {},
   "outputs": [],
   "source": [
    "self_attn.batch_first = True"
   ]
  },
  {
   "cell_type": "code",
   "execution_count": null,
   "id": "ba0ba090",
   "metadata": {},
   "outputs": [],
   "source": [
    "Q.shape, inputs[0].T.shape, V.shape, K.shape, q_b.shape"
   ]
  },
  {
   "cell_type": "code",
   "execution_count": null,
   "id": "dd348e90",
   "metadata": {},
   "outputs": [],
   "source": [
    "inputs[0, 0,8:16]"
   ]
  },
  {
   "cell_type": "code",
   "execution_count": null,
   "id": "71d5c400",
   "metadata": {},
   "outputs": [],
   "source": [
    "Qv = ((Q@inputs[0].T).T + q_b)\n",
    "Kv = ((K@inputs[0].T).T + k_b)\n",
    "Vv = ((V@inputs[0].T).T + v_b)"
   ]
  },
  {
   "cell_type": "code",
   "execution_count": null,
   "id": "0e2364ab",
   "metadata": {},
   "outputs": [],
   "source": [
    "M = (Qv @ Kv.T).softmax(dim=1)\n",
    "M"
   ]
  },
  {
   "cell_type": "code",
   "execution_count": null,
   "id": "2d3aa142",
   "metadata": {},
   "outputs": [],
   "source": [
    "((Qv @ Kv.T).softmax(dim=1) @ Vv) @ O"
   ]
  },
  {
   "cell_type": "code",
   "execution_count": null,
   "id": "a4a5627a",
   "metadata": {},
   "outputs": [],
   "source": [
    "outputs, attn_outputs = self_attn(inputs, inputs, inputs)"
   ]
  },
  {
   "cell_type": "code",
   "execution_count": null,
   "id": "84128729",
   "metadata": {},
   "outputs": [],
   "source": [
    "user.model.transformer_encoder.layers[0].norm1.weight.shape"
   ]
  },
  {
   "cell_type": "code",
   "execution_count": null,
   "id": "f8b187c8",
   "metadata": {},
   "outputs": [],
   "source": [
    "user.model.transformer_encoder.layers[0].norm1(outputs + inputs)"
   ]
  },
  {
   "cell_type": "code",
   "execution_count": null,
   "id": "1b0262bd",
   "metadata": {},
   "outputs": [],
   "source": [
    "normy = torch.nn.LayerNorm(4)"
   ]
  },
  {
   "cell_type": "code",
   "execution_count": null,
   "id": "56f3e7b2",
   "metadata": {},
   "outputs": [],
   "source": [
    "a = torch.tensor([[1, 2, 1, 2], [5, 5, 5, 5], [7, 7,7, 7]]).float()\n",
    "a"
   ]
  },
  {
   "cell_type": "code",
   "execution_count": null,
   "id": "80192ff0",
   "metadata": {},
   "outputs": [],
   "source": [
    "normy(a[None])"
   ]
  },
  {
   "cell_type": "code",
   "execution_count": null,
   "id": "e2ec9a35",
   "metadata": {},
   "outputs": [],
   "source": []
  },
  {
   "cell_type": "code",
   "execution_count": null,
   "id": "91188e10",
   "metadata": {
    "scrolled": false
   },
   "outputs": [],
   "source": [
    "model.in_proj_bias[:96].pe[0]"
   ]
  },
  {
   "cell_type": "code",
   "execution_count": null,
   "id": "6fa19878",
   "metadata": {},
   "outputs": [],
   "source": [
    "outputs, attn_weights = model(inputs, inputs, inputs)"
   ]
  },
  {
   "cell_type": "code",
   "execution_count": null,
   "id": "01b9c11d",
   "metadata": {},
   "outputs": [],
   "source": [
    "attn_weights"
   ]
  },
  {
   "cell_type": "code",
   "execution_count": 23,
   "id": "17c4ffdf",
   "metadata": {},
   "outputs": [
    {
     "name": "stdout",
     "output_type": "stream",
     "text": [
      "Recovered tokens [[5, 6, 7, 10, 11, 12, 16, 17, 22, 26, 29, 31, 32, 35, 38, 40], [50, 62, 63, 64, 72, 291, 310, 400, 494, 566, 846, 940, 993, 1084, 1495, 1936], [1, 6, 7, 7, 7, 1084, 1084, 5470, 6084, 6489, 8107, 8323, 18637, 21489, 21964, 22724], [5, 5, 6, 7, 7, 11, 12, 12, 566, 566, 846, 1084, 1084, 1936, 1936, 6084]] through strategy decoder-bias.\n"
     ]
    },
    {
     "ename": "TypeError",
     "evalue": "list indices must be integers or slices, not list",
     "output_type": "error",
     "traceback": [
      "\u001b[0;31m---------------------------------------------------------------------------\u001b[0m",
      "\u001b[0;31mTypeError\u001b[0m                                 Traceback (most recent call last)",
      "\u001b[0;32m/tmp/ipykernel_1421641/264241098.py\u001b[0m in \u001b[0;36m<module>\u001b[0;34m\u001b[0m\n\u001b[0;32m----> 1\u001b[0;31m reconstructed_user_data, stats = attacker.reconstruct_single_sentence([server_payload], [shared_data], \n\u001b[0m\u001b[1;32m      2\u001b[0m                                                       server.secrets, dryrun=cfg.dryrun)\n\u001b[1;32m      3\u001b[0m \u001b[0muser\u001b[0m\u001b[0;34m.\u001b[0m\u001b[0mprint\u001b[0m\u001b[0;34m(\u001b[0m\u001b[0mreconstructed_user_data\u001b[0m\u001b[0;34m)\u001b[0m\u001b[0;34m\u001b[0m\u001b[0;34m\u001b[0m\u001b[0m\n\u001b[1;32m      4\u001b[0m metrics = breaching.analysis.report(reconstructed_user_data, true_user_data, [server_payload], \n\u001b[1;32m      5\u001b[0m                                     server.model, cfg_case=cfg.case, setup=setup)\n",
      "\u001b[0;32m~/anaconda3/envs/dl/lib/python3.9/site-packages/torch/autograd/grad_mode.py\u001b[0m in \u001b[0;36mdecorate_context\u001b[0;34m(*args, **kwargs)\u001b[0m\n\u001b[1;32m     26\u001b[0m         \u001b[0;32mdef\u001b[0m \u001b[0mdecorate_context\u001b[0m\u001b[0;34m(\u001b[0m\u001b[0;34m*\u001b[0m\u001b[0margs\u001b[0m\u001b[0;34m,\u001b[0m \u001b[0;34m**\u001b[0m\u001b[0mkwargs\u001b[0m\u001b[0;34m)\u001b[0m\u001b[0;34m:\u001b[0m\u001b[0;34m\u001b[0m\u001b[0;34m\u001b[0m\u001b[0m\n\u001b[1;32m     27\u001b[0m             \u001b[0;32mwith\u001b[0m \u001b[0mself\u001b[0m\u001b[0;34m.\u001b[0m\u001b[0m__class__\u001b[0m\u001b[0;34m(\u001b[0m\u001b[0;34m)\u001b[0m\u001b[0;34m:\u001b[0m\u001b[0;34m\u001b[0m\u001b[0;34m\u001b[0m\u001b[0m\n\u001b[0;32m---> 28\u001b[0;31m                 \u001b[0;32mreturn\u001b[0m \u001b[0mfunc\u001b[0m\u001b[0;34m(\u001b[0m\u001b[0;34m*\u001b[0m\u001b[0margs\u001b[0m\u001b[0;34m,\u001b[0m \u001b[0;34m**\u001b[0m\u001b[0mkwargs\u001b[0m\u001b[0;34m)\u001b[0m\u001b[0;34m\u001b[0m\u001b[0;34m\u001b[0m\u001b[0m\n\u001b[0m\u001b[1;32m     29\u001b[0m         \u001b[0;32mreturn\u001b[0m \u001b[0mcast\u001b[0m\u001b[0;34m(\u001b[0m\u001b[0mF\u001b[0m\u001b[0;34m,\u001b[0m \u001b[0mdecorate_context\u001b[0m\u001b[0;34m)\u001b[0m\u001b[0;34m\u001b[0m\u001b[0;34m\u001b[0m\u001b[0m\n\u001b[1;32m     30\u001b[0m \u001b[0;34m\u001b[0m\u001b[0m\n",
      "\u001b[0;32m~/Dropbox/Documents_Hyperion/Python/breaching/breaching/attacks/analytic_attack.py\u001b[0m in \u001b[0;36mreconstruct_single_sentence\u001b[0;34m(self, server_payload, shared_data, server_secrets, dryrun)\u001b[0m\n\u001b[1;32m    419\u001b[0m         \u001b[0mleaked_embeddings\u001b[0m \u001b[0;34m=\u001b[0m \u001b[0mnorm_layer\u001b[0m\u001b[0;34m(\u001b[0m\u001b[0membedding\u001b[0m\u001b[0;34m(\u001b[0m\u001b[0mleaked_tokens\u001b[0m\u001b[0;34m)\u001b[0m\u001b[0;34m)\u001b[0m\u001b[0;34m.\u001b[0m\u001b[0mcpu\u001b[0m\u001b[0;34m(\u001b[0m\u001b[0;34m)\u001b[0m\u001b[0;34m.\u001b[0m\u001b[0mview\u001b[0m\u001b[0;34m(\u001b[0m\u001b[0;34m-\u001b[0m\u001b[0;36m1\u001b[0m\u001b[0;34m,\u001b[0m \u001b[0membedding\u001b[0m\u001b[0;34m.\u001b[0m\u001b[0mweight\u001b[0m\u001b[0;34m.\u001b[0m\u001b[0mshape\u001b[0m\u001b[0;34m[\u001b[0m\u001b[0;36m1\u001b[0m\u001b[0;34m]\u001b[0m\u001b[0;34m)\u001b[0m\u001b[0;34m\u001b[0m\u001b[0;34m\u001b[0m\u001b[0m\n\u001b[1;32m    420\u001b[0m \u001b[0;34m\u001b[0m\u001b[0m\n\u001b[0;32m--> 421\u001b[0;31m         \u001b[0mbias_grad\u001b[0m \u001b[0;34m=\u001b[0m \u001b[0mshared_data\u001b[0m\u001b[0;34m[\u001b[0m\u001b[0;36m0\u001b[0m\u001b[0;34m]\u001b[0m\u001b[0;34m[\u001b[0m\u001b[0;34m\"gradients\"\u001b[0m\u001b[0;34m]\u001b[0m\u001b[0;34m[\u001b[0m\u001b[0mbias_idx\u001b[0m\u001b[0;34m]\u001b[0m\u001b[0;34m.\u001b[0m\u001b[0mclone\u001b[0m\u001b[0;34m(\u001b[0m\u001b[0;34m)\u001b[0m\u001b[0;34m\u001b[0m\u001b[0;34m\u001b[0m\u001b[0m\n\u001b[0m\u001b[1;32m    422\u001b[0m         \u001b[0mweight_grad\u001b[0m \u001b[0;34m=\u001b[0m \u001b[0mshared_data\u001b[0m\u001b[0;34m[\u001b[0m\u001b[0;36m0\u001b[0m\u001b[0;34m]\u001b[0m\u001b[0;34m[\u001b[0m\u001b[0;34m\"gradients\"\u001b[0m\u001b[0;34m]\u001b[0m\u001b[0;34m[\u001b[0m\u001b[0mweight_idx\u001b[0m\u001b[0;34m]\u001b[0m\u001b[0;34m.\u001b[0m\u001b[0mclone\u001b[0m\u001b[0;34m(\u001b[0m\u001b[0;34m)\u001b[0m\u001b[0;34m\u001b[0m\u001b[0;34m\u001b[0m\u001b[0m\n\u001b[1;32m    423\u001b[0m \u001b[0;34m\u001b[0m\u001b[0m\n",
      "\u001b[0;31mTypeError\u001b[0m: list indices must be integers or slices, not list"
     ]
    }
   ],
   "source": [
    "reconstructed_user_data, stats = attacker.reconstruct_single_sentence([server_payload], [shared_data], \n",
    "                                                      server.secrets, dryrun=cfg.dryrun)\n",
    "user.print(reconstructed_user_data)\n",
    "metrics = breaching.analysis.report(reconstructed_user_data, true_user_data, [server_payload], \n",
    "                                    server.model, cfg_case=cfg.case, setup=setup)"
   ]
  },
  {
   "cell_type": "code",
   "execution_count": 24,
   "id": "3f372cfa",
   "metadata": {},
   "outputs": [
    {
     "name": "stdout",
     "output_type": "stream",
     "text": [
      "Recovered tokens [[5, 6, 7, 10, 11, 12, 16, 17, 22, 26, 29, 31, 32, 35, 38, 40], [50, 62, 63, 64, 72, 291, 310, 400, 494, 566, 846, 940, 993, 1084, 1495, 1936], [1, 6, 7, 7, 7, 1084, 1084, 5470, 6084, 6489, 8107, 8323, 18637, 21489, 21964, 22724], [5, 5, 6, 7, 7, 11, 12, 12, 566, 566, 846, 1084, 1084, 1936, 1936, 6084]] through strategy decoder-bias.\n"
     ]
    },
    {
     "ename": "TypeError",
     "evalue": "list indices must be integers or slices, not list",
     "output_type": "error",
     "traceback": [
      "\u001b[0;31m---------------------------------------------------------------------------\u001b[0m",
      "\u001b[0;31mTypeError\u001b[0m                                 Traceback (most recent call last)",
      "\u001b[0;32m/tmp/ipykernel_1421641/951946753.py\u001b[0m in \u001b[0;36m<module>\u001b[0;34m\u001b[0m\n\u001b[0;32m----> 1\u001b[0;31m reconstructed_user_data, stats = attacker.reconstruct2([server_payload], [shared_data], \n\u001b[0m\u001b[1;32m      2\u001b[0m                                                       server.secrets, dryrun=cfg.dryrun)\n\u001b[1;32m      3\u001b[0m \u001b[0muser\u001b[0m\u001b[0;34m.\u001b[0m\u001b[0mprint\u001b[0m\u001b[0;34m(\u001b[0m\u001b[0mreconstructed_user_data\u001b[0m\u001b[0;34m)\u001b[0m\u001b[0;34m\u001b[0m\u001b[0;34m\u001b[0m\u001b[0m\n\u001b[1;32m      4\u001b[0m metrics = breaching.analysis.report(reconstructed_user_data, true_user_data, [server_payload], \n\u001b[1;32m      5\u001b[0m                                     server.model, cfg_case=cfg.case, setup=setup)\n",
      "\u001b[0;32m~/Dropbox/Documents_Hyperion/Python/breaching/breaching/attacks/analytic_attack.py\u001b[0m in \u001b[0;36mreconstruct2\u001b[0;34m(self, server_payload, shared_data, server_secrets, dryrun)\u001b[0m\n\u001b[1;32m    148\u001b[0m         \u001b[0mleaked_tokens\u001b[0m \u001b[0;34m=\u001b[0m \u001b[0mself\u001b[0m\u001b[0;34m.\u001b[0m\u001b[0mrecover_token_information\u001b[0m\u001b[0;34m(\u001b[0m\u001b[0mshared_data\u001b[0m\u001b[0;34m,\u001b[0m \u001b[0mserver_payload\u001b[0m\u001b[0;34m,\u001b[0m \u001b[0mrec_models\u001b[0m\u001b[0;34m)\u001b[0m\u001b[0;34m.\u001b[0m\u001b[0mview\u001b[0m\u001b[0;34m(\u001b[0m\u001b[0;34m-\u001b[0m\u001b[0;36m1\u001b[0m\u001b[0;34m)\u001b[0m\u001b[0;34m\u001b[0m\u001b[0;34m\u001b[0m\u001b[0m\n\u001b[1;32m    149\u001b[0m \u001b[0;34m\u001b[0m\u001b[0m\n\u001b[0;32m--> 150\u001b[0;31m         \u001b[0mbias_grad\u001b[0m \u001b[0;34m=\u001b[0m \u001b[0mshared_data\u001b[0m\u001b[0;34m[\u001b[0m\u001b[0;36m0\u001b[0m\u001b[0;34m]\u001b[0m\u001b[0;34m[\u001b[0m\u001b[0;34m\"gradients\"\u001b[0m\u001b[0;34m]\u001b[0m\u001b[0;34m[\u001b[0m\u001b[0mbias_idx\u001b[0m\u001b[0;34m]\u001b[0m\u001b[0;34m.\u001b[0m\u001b[0mclone\u001b[0m\u001b[0;34m(\u001b[0m\u001b[0;34m)\u001b[0m\u001b[0;34m\u001b[0m\u001b[0;34m\u001b[0m\u001b[0m\n\u001b[0m\u001b[1;32m    151\u001b[0m         \u001b[0mweight_grad\u001b[0m \u001b[0;34m=\u001b[0m \u001b[0mshared_data\u001b[0m\u001b[0;34m[\u001b[0m\u001b[0;36m0\u001b[0m\u001b[0;34m]\u001b[0m\u001b[0;34m[\u001b[0m\u001b[0;34m\"gradients\"\u001b[0m\u001b[0;34m]\u001b[0m\u001b[0;34m[\u001b[0m\u001b[0mweight_idx\u001b[0m\u001b[0;34m]\u001b[0m\u001b[0;34m.\u001b[0m\u001b[0mclone\u001b[0m\u001b[0;34m(\u001b[0m\u001b[0;34m)\u001b[0m\u001b[0;34m\u001b[0m\u001b[0;34m\u001b[0m\u001b[0m\n\u001b[1;32m    152\u001b[0m \u001b[0;34m\u001b[0m\u001b[0m\n",
      "\u001b[0;31mTypeError\u001b[0m: list indices must be integers or slices, not list"
     ]
    }
   ],
   "source": [
    "reconstructed_user_data, stats = attacker.reconstruct2([server_payload], [shared_data], \n",
    "                                                      server.secrets, dryrun=cfg.dryrun)\n",
    "user.print(reconstructed_user_data)\n",
    "metrics = breaching.analysis.report(reconstructed_user_data, true_user_data, [server_payload], \n",
    "                                    server.model, cfg_case=cfg.case, setup=setup)"
   ]
  },
  {
   "cell_type": "code",
   "execution_count": null,
   "id": "ef5d8c19",
   "metadata": {},
   "outputs": [],
   "source": [
    "permuted_true_data = dict(data=true_user_data[\"data\"][[3, 2, 1, 0]], labels=true_user_data[\"labels\"])"
   ]
  },
  {
   "cell_type": "code",
   "execution_count": null,
   "id": "5072d26a",
   "metadata": {},
   "outputs": [],
   "source": [
    "metrics = breaching.analysis.report(permuted_true_data, true_user_data, [server_payload], \n",
    "                                    server.model, cfg_case=cfg.case, setup=setup)"
   ]
  },
  {
   "cell_type": "code",
   "execution_count": null,
   "id": "ce3f647b",
   "metadata": {},
   "outputs": [],
   "source": [
    "metrics = breaching.analysis.report(true_user_data, true_user_data, [server_payload], \n",
    "                                    server.model, cfg_case=cfg.case, setup=setup)"
   ]
  }
 ],
 "metadata": {
  "kernelspec": {
   "display_name": "Python 3 (ipykernel)",
   "language": "python",
   "name": "python3"
  },
  "language_info": {
   "codemirror_mode": {
    "name": "ipython",
    "version": 3
   },
   "file_extension": ".py",
   "mimetype": "text/x-python",
   "name": "python",
   "nbconvert_exporter": "python",
   "pygments_lexer": "ipython3",
   "version": "3.9.7"
  }
 },
 "nbformat": 4,
 "nbformat_minor": 5
}
