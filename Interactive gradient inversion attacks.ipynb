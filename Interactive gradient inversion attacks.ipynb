{
 "cells": [
  {
   "cell_type": "markdown",
   "id": "3ebef44a",
   "metadata": {},
   "source": [
    "# Breaching privacy"
   ]
  },
  {
   "cell_type": "markdown",
   "id": "a756fc5f",
   "metadata": {},
   "source": [
    "This notebook does the same job as the cmd-line tool `breach.py`, but also directly visualizes the user data and reconstruction"
   ]
  },
  {
   "cell_type": "code",
   "execution_count": 5,
   "id": "b850eabf",
   "metadata": {},
   "outputs": [
    {
     "name": "stdout",
     "output_type": "stream",
     "text": [
      "The autoreload extension is already loaded. To reload it, use:\n",
      "  %reload_ext autoreload\n"
     ]
    }
   ],
   "source": [
    "import torch\n",
    "import hydra\n",
    "from omegaconf import OmegaConf\n",
    "%load_ext autoreload\n",
    "%autoreload 2\n",
    "\n",
    "import breaching"
   ]
  },
  {
   "cell_type": "markdown",
   "id": "88d5e214",
   "metadata": {},
   "source": [
    "### Initialize cfg object and system setup:"
   ]
  },
  {
   "cell_type": "markdown",
   "id": "56bd663b",
   "metadata": {},
   "source": [
    "This will print out all configuration options. \n",
    "There are a lot of possible configurations, but there is usually no need to worry about most of these. Below, a few options are printed."
   ]
  },
  {
   "cell_type": "code",
   "execution_count": 6,
   "id": "a7dc3a48",
   "metadata": {},
   "outputs": [
    {
     "name": "stdout",
     "output_type": "stream",
     "text": [
      "Investigating use case small_batch_cifar_pathnet with server type path_parameters.\n",
      "Attack settings are:\n",
      "type: invertinggradients\n",
      "attack_type: optimization\n",
      "objective:\n",
      "  type: cosine-similarity\n",
      "  scale: 1.0\n",
      "restarts:\n",
      "  num_trials: 1\n",
      "  scoring: cosine-similarity\n",
      "init: randn\n",
      "optim:\n",
      "  optimizer: adam\n",
      "  signed: true\n",
      "  step_size: 0.1\n",
      "  boxed: true\n",
      "  max_iterations: 24000\n",
      "  step_size_decay: step-lr\n",
      "  langevin_noise: 0.0\n",
      "  warmup: 0\n",
      "  callback: 1000\n",
      "regularization:\n",
      "  total_variation:\n",
      "    scale: 0.2\n",
      "    inner_exp: 1\n",
      "    outer_exp: 1\n",
      "  orthogonality:\n",
      "    scale: 0.0\n",
      "\n"
     ]
    },
    {
     "data": {
      "text/plain": [
       "{'device': device(type='cuda'), 'dtype': torch.float32}"
      ]
     },
     "execution_count": 6,
     "metadata": {},
     "output_type": "execute_result"
    }
   ],
   "source": [
    "with hydra.initialize(config_path=\"config\"):\n",
    "    '''\n",
    "    cfg = hydra.compose(config_name='cfg', overrides=['attack=invertinggradients',\n",
    "                                                      'case=1_single_image_small'])\n",
    "    '''\n",
    "    cfg = hydra.compose(config_name='cfg', overrides=['attack=invertinggradients',\n",
    "                                                  'case=7_small_batch_cifar_pathnet.yaml'])\n",
    "    print(f'Investigating use case {cfg.case.name} with server type {cfg.case.server.name}.')\n",
    "    print('Attack settings are:')\n",
    "    print(OmegaConf.to_yaml(cfg.attack))\n",
    "          \n",
    "device = torch.device(f'cuda') if torch.cuda.is_available() else torch.device('cpu')\n",
    "torch.backends.cudnn.benchmark = cfg.case.impl.benchmark\n",
    "setup = dict(device=device, dtype=getattr(torch, cfg.case.impl.dtype))\n",
    "setup"
   ]
  },
  {
   "cell_type": "markdown",
   "id": "203c5fb1",
   "metadata": {},
   "source": [
    "### Modify config options here"
   ]
  },
  {
   "cell_type": "markdown",
   "id": "6e0764ef",
   "metadata": {},
   "source": [
    "You can use `.attribute` access to modify any of these configurations:"
   ]
  },
  {
   "cell_type": "code",
   "execution_count": 7,
   "id": "ac118ea0",
   "metadata": {},
   "outputs": [
    {
     "name": "stdout",
     "output_type": "stream",
     "text": [
      "8\n"
     ]
    }
   ],
   "source": [
    "num_paths = 8\n",
    "cfg.case.user.data_idx = 0\n",
    "cfg.case.user.num_data_points = 1\n",
    "cfg.case.num_paths = num_paths\n",
    "cfg.case.server.num_paths = num_paths\n",
    "#cfg.attack.objective.type = 'euclidean'\n",
    "cfg.case.server.num_bins = num_paths\n",
    "#cfg.case.model='ConvNetSmall'\n",
    "print(cfg.case.server.num_paths)\n",
    "\n",
    "\n",
    "# The total variation scale should be small for CIFAR images\n",
    "cfg.attack.regularization.total_variation.scale = 1e-3"
   ]
  },
  {
   "cell_type": "markdown",
   "id": "76f64389",
   "metadata": {},
   "source": [
    "### Instantiate all parties"
   ]
  },
  {
   "cell_type": "code",
   "execution_count": 8,
   "id": "d3abd955",
   "metadata": {},
   "outputs": [
    {
     "name": "stdout",
     "output_type": "stream",
     "text": [
      "Files already downloaded and verified\n",
      "Files already downloaded and verified\n",
      "Model architecture <class 'breaching.cases.models.pathnets.PathNet'> loaded with 11,173,026 parameters and 9,620 buffers.\n",
      "Overall this is a data ratio of    3637:1 for target shape [1, 3, 32, 32] given that num_queries=1.\n"
     ]
    }
   ],
   "source": [
    "user, server = breaching.cases.construct_case(cfg.case, setup)\n",
    "attacker = breaching.attacks.prepare_attack(server.model, server.loss, cfg.attack, setup)"
   ]
  },
  {
   "cell_type": "code",
   "execution_count": 9,
   "id": "8c7273d4",
   "metadata": {
    "scrolled": false
   },
   "outputs": [
    {
     "name": "stdout",
     "output_type": "stream",
     "text": [
      "User (of type UserSingleStep with settings:\n",
      "            number of local updates: 1\n",
      "            number of data points: 1\n",
      "            number of user queries 1\n",
      "\n",
      "            Threat model:\n",
      "            User provides labels: True\n",
      "            User provides number of data points: True\n",
      "\n",
      "            Model:\n",
      "            model specification: PathNet\n",
      "            loss function: CrossEntropyLoss()\n",
      "\n",
      "            Data:\n",
      "            Dataset: CIFAR10\n",
      "            data_idx: 0\n",
      "        \n",
      "<breaching.cases.servers.PathParameterServer object at 0x7f210e840760>\n",
      "<breaching.attacks.optimization_based_attack.OptimizationBasedAttack object at 0x7f210e9a7070>\n"
     ]
    }
   ],
   "source": [
    "print(user)\n",
    "print(server)\n",
    "print(attacker)"
   ]
  },
  {
   "cell_type": "code",
   "execution_count": 10,
   "id": "0823c13a",
   "metadata": {},
   "outputs": [
    {
     "name": "stdout",
     "output_type": "stream",
     "text": [
      "[(0, 'conv1.weight', torch.Size([64, 3, 3, 3])), (1, 'bn1.weight', torch.Size([64])), (2, 'bn1.bias', torch.Size([64])), (3, 'layer1.0.conv1.weight', torch.Size([64, 64, 3, 3])), (4, 'layer1.0.bn1.weight', torch.Size([64])), (5, 'layer1.0.bn1.bias', torch.Size([64])), (6, 'layer1.0.conv2.weight', torch.Size([64, 64, 3, 3])), (7, 'layer1.0.bn2.weight', torch.Size([64])), (8, 'layer1.0.bn2.bias', torch.Size([64])), (9, 'layer1.1.conv1.weight', torch.Size([64, 64, 3, 3])), (10, 'layer1.1.bn1.weight', torch.Size([64])), (11, 'layer1.1.bn1.bias', torch.Size([64])), (12, 'layer1.1.conv2.weight', torch.Size([64, 64, 3, 3])), (13, 'layer1.1.bn2.weight', torch.Size([64])), (14, 'layer1.1.bn2.bias', torch.Size([64])), (15, 'layer2.0.conv1.weight', torch.Size([128, 64, 3, 3])), (16, 'layer2.0.bn1.weight', torch.Size([128])), (17, 'layer2.0.bn1.bias', torch.Size([128])), (18, 'layer2.0.conv2.weight', torch.Size([128, 128, 3, 3])), (19, 'layer2.0.bn2.weight', torch.Size([128])), (20, 'layer2.0.bn2.bias', torch.Size([128])), (21, 'layer2.0.shortcut.0.weight', torch.Size([128, 64, 1, 1])), (22, 'layer2.0.shortcut.1.weight', torch.Size([128])), (23, 'layer2.0.shortcut.1.bias', torch.Size([128])), (24, 'layer2.1.conv1.weight', torch.Size([128, 128, 3, 3])), (25, 'layer2.1.bn1.weight', torch.Size([128])), (26, 'layer2.1.bn1.bias', torch.Size([128])), (27, 'layer2.1.conv2.weight', torch.Size([128, 128, 3, 3])), (28, 'layer2.1.bn2.weight', torch.Size([128])), (29, 'layer2.1.bn2.bias', torch.Size([128])), (30, 'layer3.0.conv1.weight', torch.Size([256, 128, 3, 3])), (31, 'layer3.0.bn1.weight', torch.Size([256])), (32, 'layer3.0.bn1.bias', torch.Size([256])), (33, 'layer3.0.conv2.weight', torch.Size([256, 256, 3, 3])), (34, 'layer3.0.bn2.weight', torch.Size([256])), (35, 'layer3.0.bn2.bias', torch.Size([256])), (36, 'layer3.0.shortcut.0.weight', torch.Size([256, 128, 1, 1])), (37, 'layer3.0.shortcut.1.weight', torch.Size([256])), (38, 'layer3.0.shortcut.1.bias', torch.Size([256])), (39, 'layer3.1.conv1.weight', torch.Size([256, 256, 3, 3])), (40, 'layer3.1.bn1.weight', torch.Size([256])), (41, 'layer3.1.bn1.bias', torch.Size([256])), (42, 'layer3.1.conv2.weight', torch.Size([256, 256, 3, 3])), (43, 'layer3.1.bn2.weight', torch.Size([256])), (44, 'layer3.1.bn2.bias', torch.Size([256])), (45, 'layer4.0.conv1.weight', torch.Size([512, 256, 3, 3])), (46, 'layer4.0.bn1.weight', torch.Size([512])), (47, 'layer4.0.bn1.bias', torch.Size([512])), (48, 'layer4.0.conv2.weight', torch.Size([512, 512, 3, 3])), (49, 'layer4.0.bn2.weight', torch.Size([512])), (50, 'layer4.0.bn2.bias', torch.Size([512])), (51, 'layer4.0.shortcut.0.weight', torch.Size([512, 256, 1, 1])), (52, 'layer4.0.shortcut.1.weight', torch.Size([512])), (53, 'layer4.0.shortcut.1.bias', torch.Size([512])), (54, 'layer4.1.conv1.weight', torch.Size([512, 512, 3, 3])), (55, 'layer4.1.bn1.weight', torch.Size([512])), (56, 'layer4.1.bn1.bias', torch.Size([512])), (57, 'layer4.1.conv2.weight', torch.Size([512, 512, 3, 3])), (58, 'layer4.1.bn2.weight', torch.Size([512])), (59, 'layer4.1.bn2.bias', torch.Size([512])), (60, 'path_mod.weight', torch.Size([8, 512])), (61, 'path_mod.bias', torch.Size([8])), (62, 'linear.weight', torch.Size([10, 8])), (63, 'linear.bias', torch.Size([10]))]\n"
     ]
    }
   ],
   "source": [
    "print([(i, k, v.shape) for i, (k,v) in enumerate(server.model.named_parameters())])"
   ]
  },
  {
   "cell_type": "markdown",
   "id": "548c0ad6",
   "metadata": {},
   "source": [
    "### Simulate an attacked FL protocol"
   ]
  },
  {
   "cell_type": "markdown",
   "id": "2058bcc2",
   "metadata": {},
   "source": [
    "True user data is returned only for analysis"
   ]
  },
  {
   "cell_type": "code",
   "execution_count": 11,
   "id": "b0dbd868",
   "metadata": {},
   "outputs": [
    {
     "name": "stdout",
     "output_type": "stream",
     "text": [
      "Computing feature distribution before the path_mod layer from external data.\n",
      "Feature mean is 40.363746643066406, feature std is 14.927318572998047.\n",
      "> \u001b[0;32m/cmlscratch/lfowl/breaching/breaching/cases/users.py\u001b[0m(96)\u001b[0;36mcompute_local_updates\u001b[0;34m()\u001b[0m\n",
      "\u001b[0;32m     94 \u001b[0;31m            \u001b[0mshared_grads\u001b[0m \u001b[0;34m+=\u001b[0m \u001b[0;34m[\u001b[0m\u001b[0mtorch\u001b[0m\u001b[0;34m.\u001b[0m\u001b[0mautograd\u001b[0m\u001b[0;34m.\u001b[0m\u001b[0mgrad\u001b[0m\u001b[0;34m(\u001b[0m\u001b[0mloss\u001b[0m\u001b[0;34m,\u001b[0m \u001b[0mself\u001b[0m\u001b[0;34m.\u001b[0m\u001b[0mmodel\u001b[0m\u001b[0;34m.\u001b[0m\u001b[0mparameters\u001b[0m\u001b[0;34m(\u001b[0m\u001b[0;34m)\u001b[0m\u001b[0;34m)\u001b[0m\u001b[0;34m]\u001b[0m\u001b[0;34m\u001b[0m\u001b[0;34m\u001b[0m\u001b[0m\n",
      "\u001b[0m\u001b[0;32m     95 \u001b[0;31m            \u001b[0mbreakpoint\u001b[0m\u001b[0;34m(\u001b[0m\u001b[0;34m)\u001b[0m\u001b[0;34m\u001b[0m\u001b[0;34m\u001b[0m\u001b[0m\n",
      "\u001b[0m\u001b[0;32m---> 96 \u001b[0;31m            \u001b[0mshared_buffers\u001b[0m \u001b[0;34m+=\u001b[0m \u001b[0;34m[\u001b[0m\u001b[0;34m[\u001b[0m\u001b[0mb\u001b[0m\u001b[0;34m.\u001b[0m\u001b[0mclone\u001b[0m\u001b[0;34m(\u001b[0m\u001b[0;34m)\u001b[0m\u001b[0;34m.\u001b[0m\u001b[0mdetach\u001b[0m\u001b[0;34m(\u001b[0m\u001b[0;34m)\u001b[0m \u001b[0;32mfor\u001b[0m \u001b[0mb\u001b[0m \u001b[0;32min\u001b[0m \u001b[0mself\u001b[0m\u001b[0;34m.\u001b[0m\u001b[0mmodel\u001b[0m\u001b[0;34m.\u001b[0m\u001b[0mbuffers\u001b[0m\u001b[0;34m(\u001b[0m\u001b[0;34m)\u001b[0m\u001b[0;34m]\u001b[0m\u001b[0;34m]\u001b[0m\u001b[0;34m\u001b[0m\u001b[0;34m\u001b[0m\u001b[0m\n",
      "\u001b[0m\u001b[0;32m     97 \u001b[0;31m\u001b[0;34m\u001b[0m\u001b[0m\n",
      "\u001b[0m\u001b[0;32m     98 \u001b[0;31m        shared_data = dict(gradients=shared_grads, buffers=shared_buffers,\n",
      "\u001b[0m\n",
      "ipdb> shared_grads[0][0][:,0,0,0]\n",
      "tensor([ 0.0000e+00,  0.0000e+00,  0.0000e+00,  0.0000e+00,  0.0000e+00,\n",
      "         0.0000e+00,  0.0000e+00,  0.0000e+00,  0.0000e+00,  0.0000e+00,\n",
      "         0.0000e+00,  0.0000e+00,  0.0000e+00,  0.0000e+00,  0.0000e+00,\n",
      "         0.0000e+00, -6.6215e-08,  3.8252e-08,  9.1217e-09, -9.2284e-09,\n",
      "        -2.0772e-09, -7.4506e-09, -9.6324e-08,  9.2479e-08,  0.0000e+00,\n",
      "         0.0000e+00,  0.0000e+00,  0.0000e+00,  0.0000e+00,  0.0000e+00,\n",
      "         0.0000e+00,  0.0000e+00,  0.0000e+00,  0.0000e+00,  0.0000e+00,\n",
      "         0.0000e+00,  0.0000e+00,  0.0000e+00,  0.0000e+00,  0.0000e+00,\n",
      "         0.0000e+00,  0.0000e+00,  0.0000e+00,  0.0000e+00,  0.0000e+00,\n",
      "         0.0000e+00,  0.0000e+00,  0.0000e+00,  0.0000e+00,  0.0000e+00,\n",
      "         0.0000e+00,  0.0000e+00,  0.0000e+00,  0.0000e+00,  0.0000e+00,\n",
      "         0.0000e+00,  0.0000e+00,  0.0000e+00,  0.0000e+00,  0.0000e+00,\n",
      "         0.0000e+00,  0.0000e+00,  0.0000e+00,  0.0000e+00], device='cuda:0')\n",
      "ipdb> c\n"
     ]
    }
   ],
   "source": [
    "server_payload = server.distribute_payload()\n",
    "shared_data, true_user_data = user.compute_local_updates(server_payload)  "
   ]
  },
  {
   "cell_type": "code",
   "execution_count": 12,
   "id": "49c68628",
   "metadata": {},
   "outputs": [
    {
     "data": {
      "image/png": "[encoded data removed]",
      "text/plain": [
       "<Figure size 432x288 with 1 Axes>"
      ]
     },
     "metadata": {
      "needs_background": "light"
     },
     "output_type": "display_data"
    }
   ],
   "source": [
    "user.plot(true_user_data)"
   ]
  },
  {
   "cell_type": "markdown",
   "id": "17255c5a",
   "metadata": {},
   "source": [
    "### Reconstruct user data:"
   ]
  },
  {
   "cell_type": "code",
   "execution_count": 14,
   "id": "8a2f0092",
   "metadata": {},
   "outputs": [
    {
     "name": "stdout",
     "output_type": "stream",
     "text": [
      "It: 1. Rec. loss: 0.9907. T: 0.03s\n",
      "It: 1001. Rec. loss: 0.9136. T: 27.28s\n",
      "It: 2001. Rec. loss: 0.9146. T: 27.36s\n",
      "It: 3001. Rec. loss: 0.9018. T: 27.20s\n",
      "Recovery interrupted manually in iteration 3629!\n",
      "Optimal condidate solution with rec. loss 0.6508 selected.\n",
      "Setting up [LPIPS] perceptual loss: trunk [alex], v[0.1], spatial [off]\n",
      "Loading model from: /cmlscratch/lfowl/miniconda3/envs/decision_bound/lib/python3.8/site-packages/lpips/weights/v0.1/alex.pth\n"
     ]
    },
    {
     "ename": "RuntimeError",
     "evalue": "Expected all tensors to be on the same device, but found at least two devices, cuda:0 and cpu!",
     "output_type": "error",
     "traceback": [
      "\u001b[0;31m---------------------------------------------------------------------------\u001b[0m",
      "\u001b[0;31mRuntimeError\u001b[0m                              Traceback (most recent call last)",
      "\u001b[0;32m<ipython-input-14-4dfebd24518c>\u001b[0m in \u001b[0;36m<module>\u001b[0;34m\u001b[0m\n\u001b[1;32m      3\u001b[0m \u001b[0;34m\u001b[0m\u001b[0m\n\u001b[1;32m      4\u001b[0m \u001b[0;31m# How good is the reconstruction?\u001b[0m\u001b[0;34m\u001b[0m\u001b[0;34m\u001b[0m\u001b[0;34m\u001b[0m\u001b[0m\n\u001b[0;32m----> 5\u001b[0;31m metrics = breaching.analysis.report(reconstructed_user_data, true_user_data, \n\u001b[0m\u001b[1;32m      6\u001b[0m                                     server_payload, server.model, setup)\n",
      "\u001b[0;32m/cmlscratch/lfowl/breaching/breaching/analysis/analysis.py\u001b[0m in \u001b[0;36mreport\u001b[0;34m(reconstructed_user_data, true_user_data, server_payload, model, dataloader, setup, order_batch)\u001b[0m\n\u001b[1;32m     15\u001b[0m     \u001b[0mmodel\u001b[0m\u001b[0;34m.\u001b[0m\u001b[0mto\u001b[0m\u001b[0;34m(\u001b[0m\u001b[0;34m**\u001b[0m\u001b[0msetup\u001b[0m\u001b[0;34m)\u001b[0m\u001b[0;34m\u001b[0m\u001b[0;34m\u001b[0m\u001b[0m\n\u001b[1;32m     16\u001b[0m \u001b[0;34m\u001b[0m\u001b[0m\n\u001b[0;32m---> 17\u001b[0;31m     \u001b[0mrec_denormalized\u001b[0m \u001b[0;34m=\u001b[0m \u001b[0mtorch\u001b[0m\u001b[0;34m.\u001b[0m\u001b[0mclamp\u001b[0m\u001b[0;34m(\u001b[0m\u001b[0mreconstructed_user_data\u001b[0m\u001b[0;34m[\u001b[0m\u001b[0;34m'data'\u001b[0m\u001b[0;34m]\u001b[0m \u001b[0;34m*\u001b[0m \u001b[0mds\u001b[0m \u001b[0;34m+\u001b[0m \u001b[0mdm\u001b[0m\u001b[0;34m,\u001b[0m \u001b[0;36m0\u001b[0m\u001b[0;34m,\u001b[0m \u001b[0;36m1\u001b[0m\u001b[0;34m)\u001b[0m\u001b[0;34m\u001b[0m\u001b[0;34m\u001b[0m\u001b[0m\n\u001b[0m\u001b[1;32m     18\u001b[0m     \u001b[0mground_truth_denormalized\u001b[0m \u001b[0;34m=\u001b[0m \u001b[0mtorch\u001b[0m\u001b[0;34m.\u001b[0m\u001b[0mclamp\u001b[0m\u001b[0;34m(\u001b[0m\u001b[0mtrue_user_data\u001b[0m\u001b[0;34m[\u001b[0m\u001b[0;34m'data'\u001b[0m\u001b[0;34m]\u001b[0m \u001b[0;34m*\u001b[0m \u001b[0mds\u001b[0m \u001b[0;34m+\u001b[0m \u001b[0mdm\u001b[0m\u001b[0;34m,\u001b[0m \u001b[0;36m0\u001b[0m\u001b[0;34m,\u001b[0m \u001b[0;36m1\u001b[0m\u001b[0;34m)\u001b[0m\u001b[0;34m\u001b[0m\u001b[0;34m\u001b[0m\u001b[0m\n\u001b[1;32m     19\u001b[0m \u001b[0;34m\u001b[0m\u001b[0m\n",
      "\u001b[0;31mRuntimeError\u001b[0m: Expected all tensors to be on the same device, but found at least two devices, cuda:0 and cpu!"
     ]
    }
   ],
   "source": [
    "reconstructed_user_data, stats = attacker.reconstruct(server_payload, shared_data, \n",
    "                                                      server.secrets, dryrun=cfg.dryrun)\n",
    "\n",
    "# How good is the reconstruction?\n",
    "metrics = breaching.analysis.report(reconstructed_user_data, true_user_data, \n",
    "                                    server_payload, server.model, setup)"
   ]
  },
  {
   "cell_type": "code",
   "execution_count": 15,
   "id": "631f4a84",
   "metadata": {},
   "outputs": [
    {
     "data": {
      "image/png": "[encoded data removed]",
      "text/plain": [
       "<Figure size 432x288 with 1 Axes>"
      ]
     },
     "metadata": {
      "needs_background": "light"
     },
     "output_type": "display_data"
    }
   ],
   "source": [
    "user.plot(reconstructed_user_data)"
   ]
  },
  {
   "cell_type": "code",
   "execution_count": null,
   "id": "be2ee8a7",
   "metadata": {},
   "outputs": [],
   "source": [
    "\n",
    "print([p for p,_ in server.model.named_parameters()])\n",
    "print(server.bins)\n",
    "print(server.bin_val)\n",
    "print(server.model.path_mod.bias)"
   ]
  },
  {
   "cell_type": "code",
   "execution_count": null,
   "id": "97d66e03",
   "metadata": {},
   "outputs": [],
   "source": [
    "std, mu = server._feature_distribution()\n",
    "print(std, mu)"
   ]
  },
  {
   "cell_type": "code",
   "execution_count": null,
   "id": "c15537a8",
   "metadata": {},
   "outputs": [],
   "source": [
    "print(server.model.path_mod.weight[0].shape)"
   ]
  },
  {
   "cell_type": "code",
   "execution_count": null,
   "id": "aed8495d",
   "metadata": {},
   "outputs": [],
   "source": []
  }
 ],
 "metadata": {
  "kernelspec": {
   "display_name": "Python 3",
   "language": "python",
   "name": "python3"
  },
  "language_info": {
   "codemirror_mode": {
    "name": "ipython",
    "version": 3
   },
   "file_extension": ".py",
   "mimetype": "text/x-python",
   "name": "python",
   "nbconvert_exporter": "python",
   "pygments_lexer": "ipython3",
   "version": "3.8.10"
  }
 },
 "nbformat": 4,
 "nbformat_minor": 5
}
