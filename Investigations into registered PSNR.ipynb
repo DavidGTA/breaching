{
 "cells": [
  {
   "cell_type": "markdown",
   "id": "3ebef44a",
   "metadata": {},
   "source": [
    "# Breaching privacy"
   ]
  },
  {
   "cell_type": "markdown",
   "id": "a756fc5f",
   "metadata": {},
   "source": [
    "This notebook does the same job as the cmd-line tool `breach.py`, but also directly visualizes the user data and reconstruction"
   ]
  },
  {
   "cell_type": "code",
   "execution_count": null,
   "id": "b850eabf",
   "metadata": {},
   "outputs": [],
   "source": [
    "import torch\n",
    "import hydra\n",
    "from omegaconf import OmegaConf\n",
    "%load_ext autoreload\n",
    "%autoreload 2\n",
    "\n",
    "import breaching"
   ]
  },
  {
   "cell_type": "markdown",
   "id": "88d5e214",
   "metadata": {},
   "source": [
    "### Initialize cfg object and system setup:"
   ]
  },
  {
   "cell_type": "markdown",
   "id": "56bd663b",
   "metadata": {},
   "source": [
    "This will print out all configuration options. \n",
    "There are a lot of possible configurations, but there is usually no need to worry about most of these. Below, a few options are printed."
   ]
  },
  {
   "cell_type": "code",
   "execution_count": null,
   "id": "a7dc3a48",
   "metadata": {},
   "outputs": [],
   "source": [
    "with hydra.initialize(config_path=\"config\"):\n",
    "    cfg = hydra.compose(config_name='cfg', overrides=[])\n",
    "    print(f'Investigating use case {cfg.case.name} with server type {cfg.case.server.name}.')\n",
    "    print('Attack settings are:')\n",
    "    print(OmegaConf.to_yaml(cfg.attack))\n",
    "          \n",
    "device = torch.device(f'cuda') if torch.cuda.is_available() else torch.device('cpu')\n",
    "torch.backends.cudnn.benchmark = cfg.case.impl.benchmark\n",
    "setup = dict(device=device, dtype=getattr(torch, cfg.case.impl.dtype))\n",
    "setup"
   ]
  },
  {
   "cell_type": "markdown",
   "id": "203c5fb1",
   "metadata": {},
   "source": [
    "### Modify config options here"
   ]
  },
  {
   "cell_type": "markdown",
   "id": "6e0764ef",
   "metadata": {},
   "source": [
    "You can use `.attribute` access to modify any of these configurations:"
   ]
  },
  {
   "cell_type": "code",
   "execution_count": null,
   "id": "ac118ea0",
   "metadata": {},
   "outputs": [],
   "source": [
    "# cfg.dryrun = False\n",
    "# cfg.attack.optim.step_size=1.0\n",
    "cfg.case.user.data_idx = 0\n",
    "cfg.attack.optim.signed=False"
   ]
  },
  {
   "cell_type": "markdown",
   "id": "76f64389",
   "metadata": {},
   "source": [
    "### Instantiate all parties"
   ]
  },
  {
   "cell_type": "code",
   "execution_count": null,
   "id": "d3abd955",
   "metadata": {},
   "outputs": [],
   "source": [
    "user, server = breaching.cases.construct_case(cfg.case, setup)\n",
    "attacker = breaching.attacks.prepare_attack(server.model, server.loss, cfg.attack, setup)"
   ]
  },
  {
   "cell_type": "code",
   "execution_count": null,
   "id": "8c7273d4",
   "metadata": {
    "scrolled": false
   },
   "outputs": [],
   "source": [
    "print(user)\n",
    "print(server)\n",
    "print(attacker)"
   ]
  },
  {
   "cell_type": "markdown",
   "id": "548c0ad6",
   "metadata": {},
   "source": [
    "### Simulate an attacked FL protocol"
   ]
  },
  {
   "cell_type": "code",
   "execution_count": null,
   "id": "b0dbd868",
   "metadata": {},
   "outputs": [],
   "source": [
    "server_payload = server.distribute_payload()\n",
    "shared_data, true_user_data = user.compute_local_updates(server_payload)  \n",
    "# True user data is returned only for analysis"
   ]
  },
  {
   "cell_type": "code",
   "execution_count": null,
   "id": "49c68628",
   "metadata": {},
   "outputs": [],
   "source": [
    "user.plot(true_user_data)"
   ]
  },
  {
   "cell_type": "markdown",
   "id": "17255c5a",
   "metadata": {},
   "source": [
    "### Reconstruct user data:"
   ]
  },
  {
   "cell_type": "code",
   "execution_count": null,
   "id": "8a2f0092",
   "metadata": {},
   "outputs": [],
   "source": [
    "reconstructed_user_data, stats = attacker.reconstruct(server_payload, server.secrets, shared_data, dryrun=cfg.dryrun)\n",
    "\n",
    "# How good is the reconstruction?\n",
    "metrics = breaching.analysis.report(reconstructed_user_data, \n",
    "                                    true_user_data, server_payload, server.model, setup)"
   ]
  },
  {
   "cell_type": "code",
   "execution_count": null,
   "id": "1460f0da",
   "metadata": {},
   "outputs": [],
   "source": [
    "user.plot(reconstructed_user_data)"
   ]
  },
  {
   "cell_type": "code",
   "execution_count": null,
   "id": "5995a5c2",
   "metadata": {},
   "outputs": [],
   "source": [
    "metrics = breaching.analysis.report(reconstructed_user_data, true_user_data, server_payload, server.model, setup)"
   ]
  },
  {
   "cell_type": "code",
   "execution_count": null,
   "id": "a4bfaea9",
   "metadata": {},
   "outputs": [],
   "source": [
    "import skimage.feature  # Lazy metric stuff import\n",
    "import skimage.measure\n",
    "import skimage.transform\n",
    "import matplotlib.pyplot as plt\n",
    "descriptor_extractor = skimage.feature.ORB(n_keypoints=800)\n",
    "from breaching.analysis.metrics import psnr_compute"
   ]
  },
  {
   "cell_type": "code",
   "execution_count": null,
   "id": "a3bdce8e",
   "metadata": {},
   "outputs": [],
   "source": [
    "dm = torch.as_tensor(server_payload['data'].mean, **setup)[None, :, None, None]\n",
    "ds = torch.as_tensor(server_payload['data'].std, **setup)[None, :, None, None]"
   ]
  },
  {
   "cell_type": "code",
   "execution_count": null,
   "id": "eaf7f508",
   "metadata": {},
   "outputs": [],
   "source": [
    "rec_denormalized = torch.clamp(reconstructed_user_data['data'] * ds + dm, 0, 1).cpu()\n",
    "ground_truth_denormalized = torch.clamp(true_user_data['data'] * ds + dm, 0, 1).cpu()"
   ]
  },
  {
   "cell_type": "code",
   "execution_count": null,
   "id": "a98ddfcc",
   "metadata": {},
   "outputs": [],
   "source": [
    "img_np, ref_np = rec_denormalized[0].numpy(), ground_truth_denormalized[0].numpy()  # move to numpy\n",
    "descriptor_extractor.detect_and_extract(ref_np.mean(axis=0))  # and grayscale for ORB\n",
    "keypoints_src, descriptors_src = descriptor_extractor.keypoints, descriptor_extractor.descriptors\n",
    "descriptor_extractor.detect_and_extract(img_np.mean(axis=0))\n",
    "keypoints_tgt, descriptors_tgt = descriptor_extractor.keypoints, descriptor_extractor.descriptors\n",
    "\n",
    "matches = skimage.feature.match_descriptors(descriptors_src, descriptors_tgt, cross_check=True)\n",
    "# Look for an affine transform and search with RANSAC over matches:\n",
    "model_robust, inliers = skimage.measure.ransac((keypoints_tgt[matches[:, 1]],\n",
    "                                               keypoints_src[matches[:, 0]]), skimage.transform.EuclideanTransform,\n",
    "                                               min_samples=len(matches)-1, residual_threshold=4, max_trials=2500)\n",
    "warped_img = skimage.transform.warp(img_np, model_robust, output_shape=ref_np.shape)\n"
   ]
  },
  {
   "cell_type": "code",
   "execution_count": null,
   "id": "09b1519b",
   "metadata": {},
   "outputs": [],
   "source": [
    "model_robust"
   ]
  },
  {
   "cell_type": "code",
   "execution_count": null,
   "id": "38785725",
   "metadata": {},
   "outputs": [],
   "source": [
    "warped1 = skimage.transform.warp(img_np.transpose(1,2,0), model_robust, mode='wrap', order=1)\n",
    "plt.imshow(warped1)\n",
    "psnr_compute(torch.as_tensor(ref_np.transpose(1, 2, 0)).contiguous(), torch.as_tensor(warped1), batched=True)"
   ]
  },
  {
   "cell_type": "code",
   "execution_count": null,
   "id": "f79382b1",
   "metadata": {},
   "outputs": [],
   "source": [
    "tform = skimage.transform.EuclideanTransform()\n",
    "tform.estimate(keypoints_tgt[matches[:, 1]], keypoints_src[matches[:, 0]])\n",
    "tform\n",
    "\n",
    "warped2 = skimage.transform.warp(img_np.transpose(1,2,0), tform, mode='wrap')\n",
    "plt.imshow(warped2)\n",
    "psnr_compute(torch.as_tensor(ref_np.transpose(1, 2, 0)).contiguous(), torch.as_tensor(warped2), batched=True)"
   ]
  },
  {
   "cell_type": "code",
   "execution_count": null,
   "id": "f1c080fc",
   "metadata": {},
   "outputs": [],
   "source": [
    "plt.imshow(ref_np.transpose(1, 2, 0))"
   ]
  },
  {
   "cell_type": "code",
   "execution_count": null,
   "id": "4fa76d38",
   "metadata": {},
   "outputs": [],
   "source": [
    "import skimage.registration"
   ]
  },
  {
   "cell_type": "code",
   "execution_count": null,
   "id": "14660d5f",
   "metadata": {},
   "outputs": [],
   "source": [
    "shift, error, diffphase = skimage.registration.phase_cross_correlation(img_np.mean(axis=0), \n",
    "                                                                       ref_np.mean(axis=0), upsample_factor=10)"
   ]
  },
  {
   "cell_type": "code",
   "execution_count": null,
   "id": "cd775de3",
   "metadata": {},
   "outputs": [],
   "source": [
    "shift"
   ]
  },
  {
   "cell_type": "code",
   "execution_count": null,
   "id": "0f6a884a",
   "metadata": {},
   "outputs": [],
   "source": [
    "plt.imshow(img_np.transpose(1, 2, 0))"
   ]
  },
  {
   "cell_type": "code",
   "execution_count": null,
   "id": "a9453124",
   "metadata": {},
   "outputs": [],
   "source": [
    "tform = skimage.transform.EuclideanTransform(translation=-shift)\n",
    "warped_fft = skimage.transform.warp(img_np.transpose(1, 2, 0), tform, order=3, mode='wrap', \n",
    "                                    preserve_range=False)\n",
    "plt.imshow(warped_fft)\n",
    "psnr_compute(torch.as_tensor(ref_np.transpose(1, 2, 0)).contiguous(), torch.as_tensor(warped_fft), batched=True)"
   ]
  }
 ],
 "metadata": {
  "kernelspec": {
   "display_name": "Python 3 (ipykernel)",
   "language": "python",
   "name": "python3"
  },
  "language_info": {
   "codemirror_mode": {
    "name": "ipython",
    "version": 3
   },
   "file_extension": ".py",
   "mimetype": "text/x-python",
   "name": "python",
   "nbconvert_exporter": "python",
   "pygments_lexer": "ipython3",
   "version": "3.8.1"
  }
 },
 "nbformat": 4,
 "nbformat_minor": 5
}
