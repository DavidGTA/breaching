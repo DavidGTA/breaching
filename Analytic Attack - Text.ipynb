{
 "cells": [
  {
   "cell_type": "markdown",
   "id": "3ebef44a",
   "metadata": {},
   "source": [
    "# Breaching privacy"
   ]
  },
  {
   "cell_type": "markdown",
   "id": "a756fc5f",
   "metadata": {},
   "source": [
    "This notebook does the same job as the cmd-line tool `simulate_breach.py`, but also directly visualizes the user data and reconstruction"
   ]
  },
  {
   "cell_type": "code",
   "execution_count": 1,
   "id": "b850eabf",
   "metadata": {},
   "outputs": [],
   "source": [
    "import torch\n",
    "import hydra\n",
    "from omegaconf import OmegaConf\n",
    "%load_ext autoreload\n",
    "%autoreload 2\n",
    "\n",
    "import breaching\n",
    "import logging, sys\n",
    "logging.basicConfig(level=logging.INFO, handlers=[logging.StreamHandler(sys.stdout)], format='%(message)s')\n",
    "logger = logging.getLogger()"
   ]
  },
  {
   "cell_type": "markdown",
   "id": "88d5e214",
   "metadata": {},
   "source": [
    "### Initialize cfg object and system setup:"
   ]
  },
  {
   "cell_type": "markdown",
   "id": "56bd663b",
   "metadata": {},
   "source": [
    "This will print out all configuration options. \n",
    "There are a lot of possible configurations, but there is usually no need to worry about most of these. Below, a few options are printed."
   ]
  },
  {
   "cell_type": "markdown",
   "id": "26070d66",
   "metadata": {},
   "source": [
    "Choose `case/data=` `shakespeare`, `wikitext`over `stackoverflow` here:"
   ]
  },
  {
   "cell_type": "code",
   "execution_count": 18,
   "id": "a7dc3a48",
   "metadata": {},
   "outputs": [
    {
     "name": "stdout",
     "output_type": "stream",
     "text": [
      "Investigating use case single_imagenet with server type malicious_transformer_parameters.\n"
     ]
    },
    {
     "data": {
      "text/plain": [
       "{'device': device(type='cpu'), 'dtype': torch.float32}"
      ]
     },
     "execution_count": 18,
     "metadata": {},
     "output_type": "execute_result"
    }
   ],
   "source": [
    "with hydra.initialize(config_path=\"config\"):\n",
    "    cfg = hydra.compose(config_name='cfg', overrides=[\"case/data=shakespeare\", \"case/server=malicious-transformer\",\n",
    "                                                      \"case.model=transformer1\",\n",
    "                                                      \"attack=decepticon\"])\n",
    "    print(f'Investigating use case {cfg.case.name} with server type {cfg.case.server.name}.')\n",
    "          \n",
    "device = torch.device(f'cuda:0') if torch.cuda.is_available() else torch.device('cpu')\n",
    "torch.backends.cudnn.benchmark = cfg.case.impl.benchmark\n",
    "setup = dict(device=device, dtype=torch.float)\n",
    "setup"
   ]
  },
  {
   "cell_type": "markdown",
   "id": "203c5fb1",
   "metadata": {},
   "source": [
    "### Modify config options here"
   ]
  },
  {
   "cell_type": "markdown",
   "id": "6e0764ef",
   "metadata": {},
   "source": [
    "You can use `.attribute` access to modify any of these configurations:"
   ]
  },
  {
   "cell_type": "code",
   "execution_count": 19,
   "id": "ac118ea0",
   "metadata": {},
   "outputs": [],
   "source": [
    "cfg.case.user.num_data_points = 1 # How many sentences?\n",
    "cfg.case.user.user_idx = 0 # From which user?\n",
    "cfg.case.data.shape = [32] # This is the sequence length"
   ]
  },
  {
   "cell_type": "markdown",
   "id": "76f64389",
   "metadata": {},
   "source": [
    "### Instantiate all parties"
   ]
  },
  {
   "cell_type": "code",
   "execution_count": 20,
   "id": "30235b0c",
   "metadata": {},
   "outputs": [
    {
     "name": "stdout",
     "output_type": "stream",
     "text": [
      "Now processing user ALL_S_WELL_THAT_ENDS_WELL_ADAM from tff database.\n",
      "Now processing user ALL_S_WELL_THAT_ENDS_WELL_AEDILE from tff database.\n",
      "Now processing user ALL_S_WELL_THAT_ENDS_WELL_AGRIPPA from tff database.\n",
      "Now processing user ALL_S_WELL_THAT_ENDS_WELL_ALEXAS from tff database.\n",
      "Now processing user ALL_S_WELL_THAT_ENDS_WELL_ALL from tff database.\n",
      "Now processing user ALL_S_WELL_THAT_ENDS_WELL_ALL_THE_PEOPLE from tff database.\n",
      "Now processing user ALL_S_WELL_THAT_ENDS_WELL_AMIENS from tff database.\n",
      "Now processing user ALL_S_WELL_THAT_ENDS_WELL_ANTIPHOLUS_OF_EPHESUS from tff database.\n",
      "Now processing user ALL_S_WELL_THAT_ENDS_WELL_ANTONY from tff database.\n",
      "Now processing user ALL_S_WELL_THAT_ENDS_WELL_ARVIRAGUS from tff database.\n",
      "Now processing user ALL_S_WELL_THAT_ENDS_WELL_AUDREY from tff database.\n",
      "Now processing user ALL_S_WELL_THAT_ENDS_WELL_AUFIDIUS from tff database.\n",
      "Now processing user ALL_S_WELL_THAT_ENDS_WELL_BELARIUS from tff database.\n",
      "Now processing user ALL_S_WELL_THAT_ENDS_WELL_BOTH from tff database.\n",
      "Now processing user ALL_S_WELL_THAT_ENDS_WELL_BOTH_TRIBUNES from tff database.\n",
      "Now processing user ALL_S_WELL_THAT_ENDS_WELL_BROTHERS from tff database.\n",
      "Now processing user ALL_S_WELL_THAT_ENDS_WELL_BRUTUS from tff database.\n",
      "Now processing user ALL_S_WELL_THAT_ENDS_WELL_CAESAR from tff database.\n",
      "Now processing user ALL_S_WELL_THAT_ENDS_WELL_CANIDIUS from tff database.\n",
      "Now processing user ALL_S_WELL_THAT_ENDS_WELL_CAPTAIN from tff database.\n",
      "Now processing user ALL_S_WELL_THAT_ENDS_WELL_CELIA from tff database.\n",
      "Now processing user ALL_S_WELL_THAT_ENDS_WELL_CENTURION from tff database.\n",
      "Now processing user ALL_S_WELL_THAT_ENDS_WELL_CHARLES from tff database.\n",
      "Now processing user ALL_S_WELL_THAT_ENDS_WELL_CHARMIAN from tff database.\n",
      "Now processing user ALL_S_WELL_THAT_ENDS_WELL_CITIZEN from tff database.\n",
      "Now processing user ALL_S_WELL_THAT_ENDS_WELL_CITIZENS from tff database.\n",
      "Now processing user ALL_S_WELL_THAT_ENDS_WELL_CLEOPATRA from tff database.\n",
      "Now processing user ALL_S_WELL_THAT_ENDS_WELL_CLOTEN from tff database.\n",
      "Now processing user ALL_S_WELL_THAT_ENDS_WELL_CLOWN from tff database.\n",
      "Now processing user ALL_S_WELL_THAT_ENDS_WELL_COMINIUS from tff database.\n",
      "Now processing user ALL_S_WELL_THAT_ENDS_WELL_CONSPIRATORS from tff database.\n",
      "Now processing user ALL_S_WELL_THAT_ENDS_WELL_CORIN from tff database.\n",
      "Now processing user ALL_S_WELL_THAT_ENDS_WELL_CORIOLANUS from tff database.\n",
      "Now processing user ALL_S_WELL_THAT_ENDS_WELL_CORNELIUS from tff database.\n",
      "Now processing user ALL_S_WELL_THAT_ENDS_WELL_CYMBELINE from tff database.\n",
      "Now processing user ALL_S_WELL_THAT_ENDS_WELL_DEMETRIUS from tff database.\n",
      "Now processing user ALL_S_WELL_THAT_ENDS_WELL_DENNIS from tff database.\n",
      "Now processing user ALL_S_WELL_THAT_ENDS_WELL_DERCETAS from tff database.\n",
      "Now processing user ALL_S_WELL_THAT_ENDS_WELL_DID_CALL_ME_BROTHER from tff database.\n",
      "Now processing user ALL_S_WELL_THAT_ENDS_WELL_DIOMEDES from tff database.\n",
      "Now processing user ALL_S_WELL_THAT_ENDS_WELL_DOLABELLA from tff database.\n",
      "Now processing user ALL_S_WELL_THAT_ENDS_WELL_DOTH_FOR_A_WIFE_ABHOR from tff database.\n",
      "Now processing user ALL_S_WELL_THAT_ENDS_WELL_DROMIO_OF_EPHESUS from tff database.\n",
      "Now processing user ALL_S_WELL_THAT_ENDS_WELL_DUKE_SENIOR from tff database.\n",
      "Now processing user ALL_S_WELL_THAT_ENDS_WELL_EGYPTIAN from tff database.\n",
      "Now processing user ALL_S_WELL_THAT_ENDS_WELL_ENOBARBUS from tff database.\n",
      "Now processing user ALL_S_WELL_THAT_ENDS_WELL_EROS from tff database.\n",
      "Now processing user ALL_S_WELL_THAT_ENDS_WELL_EUPHRONIUS from tff database.\n",
      "Now processing user ALL_S_WELL_THAT_ENDS_WELL_FIRST_BROTHER from tff database.\n",
      "Now processing user ALL_S_WELL_THAT_ENDS_WELL_FIRST_CAPTAIN from tff database.\n",
      "Now processing user ALL_S_WELL_THAT_ENDS_WELL_FIRST_CITIZEN from tff database.\n",
      "Now processing user ALL_S_WELL_THAT_ENDS_WELL_FIRST_CONSPIRATOR from tff database.\n",
      "Now processing user ALL_S_WELL_THAT_ENDS_WELL_FIRST_GAOLER from tff database.\n",
      "Now processing user ALL_S_WELL_THAT_ENDS_WELL_FIRST_GENTLEMAN from tff database.\n",
      "Now processing user ALL_S_WELL_THAT_ENDS_WELL_FIRST_GUARD from tff database.\n",
      "Now processing user ALL_S_WELL_THAT_ENDS_WELL_FIRST_LORD from tff database.\n",
      "Now processing user ALL_S_WELL_THAT_ENDS_WELL_FIRST_OFFICER from tff database.\n",
      "Now processing user ALL_S_WELL_THAT_ENDS_WELL_FIRST_PAGE from tff database.\n",
      "Now processing user ALL_S_WELL_THAT_ENDS_WELL_FIRST_SENATOR from tff database.\n",
      "Now processing user ALL_S_WELL_THAT_ENDS_WELL_FIRST_SERVANT from tff database.\n",
      "Now processing user ALL_S_WELL_THAT_ENDS_WELL_FIRST_SOLDIER from tff database.\n",
      "Now processing user ALL_S_WELL_THAT_ENDS_WELL_FIRST_WATCH from tff database.\n",
      "Now processing user ALL_S_WELL_THAT_ENDS_WELL_FOURTH_CITIZEN from tff database.\n",
      "Now processing user ALL_S_WELL_THAT_ENDS_WELL_FREDERICK from tff database.\n",
      "Now processing user ALL_S_WELL_THAT_ENDS_WELL_FRENCHMAN from tff database.\n",
      "Now processing user ALL_S_WELL_THAT_ENDS_WELL_GALLUS from tff database.\n",
      "Now processing user ALL_S_WELL_THAT_ENDS_WELL_GAOLER from tff database.\n",
      "Now processing user ALL_S_WELL_THAT_ENDS_WELL_GUARDSMAN from tff database.\n",
      "Now processing user ALL_S_WELL_THAT_ENDS_WELL_GUIDERIUS from tff database.\n",
      "Now processing user ALL_S_WELL_THAT_ENDS_WELL_GUIDERIUS_AND_ARVIRAGUS from tff database.\n",
      "Now processing user ALL_S_WELL_THAT_ENDS_WELL_HERALD from tff database.\n",
      "Now processing user ALL_S_WELL_THAT_ENDS_WELL_HYMEN from tff database.\n",
      "Now processing user ALL_S_WELL_THAT_ENDS_WELL_IACHIMO from tff database.\n",
      "Now processing user ALL_S_WELL_THAT_ENDS_WELL_IMOGEN from tff database.\n",
      "Now processing user ALL_S_WELL_THAT_ENDS_WELL_IRAS from tff database.\n",
      "Now processing user ALL_S_WELL_THAT_ENDS_WELL_JAQUES from tff database.\n",
      "Now processing user ALL_S_WELL_THAT_ENDS_WELL_JAQUES_DE_BOYS from tff database.\n",
      "Now processing user ALL_S_WELL_THAT_ENDS_WELL_JUPITER from tff database.\n",
      "Now processing user ALL_S_WELL_THAT_ENDS_WELL_LADY from tff database.\n",
      "Now processing user ALL_S_WELL_THAT_ENDS_WELL_LARTIUS from tff database.\n",
      "Now processing user ALL_S_WELL_THAT_ENDS_WELL_LEPIDUS from tff database.\n",
      "Now processing user ALL_S_WELL_THAT_ENDS_WELL_LE_BEAU from tff database.\n",
      "Now processing user ALL_S_WELL_THAT_ENDS_WELL_LIEUTENANT from tff database.\n",
      "Now processing user ALL_S_WELL_THAT_ENDS_WELL_LORD from tff database.\n",
      "Now processing user ALL_S_WELL_THAT_ENDS_WELL_LOVE from tff database.\n",
      "Now processing user ALL_S_WELL_THAT_ENDS_WELL_LUCIUS from tff database.\n",
      "Now processing user ALL_S_WELL_THAT_ENDS_WELL_MAECENAS from tff database.\n",
      "Now processing user ALL_S_WELL_THAT_ENDS_WELL_MARCIUS from tff database.\n",
      "Now processing user ALL_S_WELL_THAT_ENDS_WELL_MARDIAN from tff database.\n",
      "Now processing user ALL_S_WELL_THAT_ENDS_WELL_MARTEXT from tff database.\n",
      "Now processing user ALL_S_WELL_THAT_ENDS_WELL_MENAS from tff database.\n",
      "Now processing user ALL_S_WELL_THAT_ENDS_WELL_MENECRATES from tff database.\n",
      "Now processing user ALL_S_WELL_THAT_ENDS_WELL_MENENIUS from tff database.\n",
      "Now processing user ALL_S_WELL_THAT_ENDS_WELL_MESSENGER from tff database.\n",
      "Now processing user ALL_S_WELL_THAT_ENDS_WELL_MOTHER from tff database.\n",
      "Now processing user ALL_S_WELL_THAT_ENDS_WELL_OCTAVIA from tff database.\n",
      "Now processing user ALL_S_WELL_THAT_ENDS_WELL_OF_EPHESUS from tff database.\n",
      "Now processing user ALL_S_WELL_THAT_ENDS_WELL_OLIVER from tff database.\n",
      "Now processing user ALL_S_WELL_THAT_ENDS_WELL_ORLANDO from tff database.\n",
      "Now processing user ALL_S_WELL_THAT_ENDS_WELL_PATRICIANS from tff database.\n",
      "Now processing user ALL_S_WELL_THAT_ENDS_WELL_PHEBE from tff database.\n",
      "Now processing user ALL_S_WELL_THAT_ENDS_WELL_PHILARIO from tff database.\n",
      "Now processing user ALL_S_WELL_THAT_ENDS_WELL_PHILO from tff database.\n",
      "Now processing user ALL_S_WELL_THAT_ENDS_WELL_PISANIO from tff database.\n",
      "Now processing user ALL_S_WELL_THAT_ENDS_WELL_PLEBEIANS from tff database.\n",
      "Now processing user ALL_S_WELL_THAT_ENDS_WELL_POMPEY from tff database.\n",
      "Now processing user ALL_S_WELL_THAT_ENDS_WELL_POSTHUMUS from tff database.\n",
      "Now processing user ALL_S_WELL_THAT_ENDS_WELL_PROCULEIUS from tff database.\n",
      "Now processing user ALL_S_WELL_THAT_ENDS_WELL_QUEEN from tff database.\n",
      "Now processing user ALL_S_WELL_THAT_ENDS_WELL_ROMAN from tff database.\n"
     ]
    },
    {
     "name": "stdout",
     "output_type": "stream",
     "text": [
      "Now processing user ALL_S_WELL_THAT_ENDS_WELL_ROSALIND from tff database.\n",
      "Now processing user ALL_S_WELL_THAT_ENDS_WELL_SCARUS from tff database.\n",
      "Now processing user ALL_S_WELL_THAT_ENDS_WELL_SECOND_BROTHER from tff database.\n",
      "Now processing user ALL_S_WELL_THAT_ENDS_WELL_SECOND_CAPTAIN from tff database.\n",
      "Now processing user ALL_S_WELL_THAT_ENDS_WELL_SECOND_CITIZEN from tff database.\n",
      "Now processing user ALL_S_WELL_THAT_ENDS_WELL_SECOND_CONSPIRATOR from tff database.\n",
      "Now processing user ALL_S_WELL_THAT_ENDS_WELL_SECOND_GENTLEMAN from tff database.\n",
      "Now processing user ALL_S_WELL_THAT_ENDS_WELL_SECOND_GUARD from tff database.\n",
      "Now processing user ALL_S_WELL_THAT_ENDS_WELL_SECOND_LORD from tff database.\n",
      "Now processing user ALL_S_WELL_THAT_ENDS_WELL_SECOND_MESSENGER from tff database.\n",
      "Now processing user ALL_S_WELL_THAT_ENDS_WELL_SECOND_OFFICER from tff database.\n",
      "Now processing user ALL_S_WELL_THAT_ENDS_WELL_SECOND_PAGE from tff database.\n",
      "Now processing user ALL_S_WELL_THAT_ENDS_WELL_SECOND_SENATOR from tff database.\n",
      "Now processing user ALL_S_WELL_THAT_ENDS_WELL_SECOND_SERVANT from tff database.\n",
      "Now processing user ALL_S_WELL_THAT_ENDS_WELL_SECOND_SOLDIER from tff database.\n",
      "Now processing user ALL_S_WELL_THAT_ENDS_WELL_SECOND_WATCH from tff database.\n",
      "Now processing user ALL_S_WELL_THAT_ENDS_WELL_SELEUCUS from tff database.\n",
      "Now processing user ALL_S_WELL_THAT_ENDS_WELL_SENATORS from tff database.\n",
      "Now processing user ALL_S_WELL_THAT_ENDS_WELL_SEVENTH_CITIZEN from tff database.\n",
      "Now processing user ALL_S_WELL_THAT_ENDS_WELL_SICILIUS from tff database.\n",
      "Now processing user ALL_S_WELL_THAT_ENDS_WELL_SICINIUS from tff database.\n",
      "Now processing user ALL_S_WELL_THAT_ENDS_WELL_SILIUS from tff database.\n",
      "Now processing user ALL_S_WELL_THAT_ENDS_WELL_SILVIUS from tff database.\n",
      "Now processing user ALL_S_WELL_THAT_ENDS_WELL_SOLDIER from tff database.\n",
      "Now processing user ALL_S_WELL_THAT_ENDS_WELL_SOLDIERS from tff database.\n",
      "Now processing user ALL_S_WELL_THAT_ENDS_WELL_SOOTHSAYER from tff database.\n",
      "Now processing user ALL_S_WELL_THAT_ENDS_WELL_THIRD_CITIZEN from tff database.\n",
      "Now processing user ALL_S_WELL_THAT_ENDS_WELL_THIRD_CONSPIRATOR from tff database.\n",
      "Now processing user ALL_S_WELL_THAT_ENDS_WELL_THIRD_ROMAN from tff database.\n",
      "Now processing user ALL_S_WELL_THAT_ENDS_WELL_THIRD_SERVANT from tff database.\n",
      "Now processing user ALL_S_WELL_THAT_ENDS_WELL_THIRD_SOLDIER from tff database.\n",
      "Now processing user ALL_S_WELL_THAT_ENDS_WELL_THIS_IS_THE_FAIRY_LAND from tff database.\n",
      "Now processing user ALL_S_WELL_THAT_ENDS_WELL_THYREUS from tff database.\n",
      "Now processing user ALL_S_WELL_THAT_ENDS_WELL_TOUCHSTONE from tff database.\n",
      "Now processing user ALL_S_WELL_THAT_ENDS_WELL_TRIBUNE from tff database.\n",
      "Now processing user ALL_S_WELL_THAT_ENDS_WELL_VALERIA from tff database.\n",
      "Now processing user ALL_S_WELL_THAT_ENDS_WELL_VARRIUS from tff database.\n",
      "Now processing user ALL_S_WELL_THAT_ENDS_WELL_VENTIDIUS from tff database.\n",
      "Now processing user ALL_S_WELL_THAT_ENDS_WELL_VIRGILIA from tff database.\n",
      "Now processing user ALL_S_WELL_THAT_ENDS_WELL_VOLSCE from tff database.\n",
      "Now processing user ALL_S_WELL_THAT_ENDS_WELL_VOLUMNIA from tff database.\n",
      "Now processing user ALL_S_WELL_THAT_ENDS_WELL_WILLIAM from tff database.\n",
      "Now processing user MUCH_ADO_ABOUT_NOTHING_BIANCA from tff database.\n",
      "Now processing user MUCH_ADO_ABOUT_NOTHING_BRABANTIO from tff database.\n",
      "Now processing user MUCH_ADO_ABOUT_NOTHING_CASSIO from tff database.\n",
      "Now processing user MUCH_ADO_ABOUT_NOTHING_CLOWN from tff database.\n",
      "Now processing user MUCH_ADO_ABOUT_NOTHING_DESDEMONA from tff database.\n",
      "Now processing user MUCH_ADO_ABOUT_NOTHING_DUKE from tff database.\n",
      "Now processing user MUCH_ADO_ABOUT_NOTHING_EMILIA from tff database.\n",
      "Now processing user MUCH_ADO_ABOUT_NOTHING_FIRST_GENTLEMAN from tff database.\n",
      "Now processing user MUCH_ADO_ABOUT_NOTHING_FIRST_MUSICIAN from tff database.\n",
      "Now processing user MUCH_ADO_ABOUT_NOTHING_FIRST_OFFICER from tff database.\n",
      "Now processing user MUCH_ADO_ABOUT_NOTHING_FIRST_SENATOR from tff database.\n",
      "Now processing user MUCH_ADO_ABOUT_NOTHING_FOURTH_GENTLEMAN from tff database.\n",
      "Now processing user MUCH_ADO_ABOUT_NOTHING_GRATIANO from tff database.\n",
      "Now processing user MUCH_ADO_ABOUT_NOTHING_IAGO from tff database.\n",
      "Now processing user MUCH_ADO_ABOUT_NOTHING_LODOVICO from tff database.\n",
      "Now processing user MUCH_ADO_ABOUT_NOTHING_MESSENGER from tff database.\n",
      "Now processing user MUCH_ADO_ABOUT_NOTHING_MONTANO from tff database.\n",
      "Now processing user MUCH_ADO_ABOUT_NOTHING_OTHELLO from tff database.\n",
      "Now processing user MUCH_ADO_ABOUT_NOTHING_RODERIGO from tff database.\n",
      "Now processing user MUCH_ADO_ABOUT_NOTHING_SAILOR from tff database.\n",
      "Now processing user MUCH_ADO_ABOUT_NOTHING_SECOND_GENTLEMAN from tff database.\n",
      "Now processing user MUCH_ADO_ABOUT_NOTHING_SECOND_SENATOR from tff database.\n",
      "Now processing user MUCH_ADO_ABOUT_NOTHING_THIRD_GENTLEMAN from tff database.\n",
      "Now processing user PERICLES__PRINCE_OF_TYRE_ABBOT from tff database.\n",
      "Now processing user PERICLES__PRINCE_OF_TYRE_ALL from tff database.\n",
      "Now processing user PERICLES__PRINCE_OF_TYRE_ANNE from tff database.\n",
      "Now processing user PERICLES__PRINCE_OF_TYRE_ANOTHER_LORD from tff database.\n",
      "Now processing user PERICLES__PRINCE_OF_TYRE_ARCHBISHOP from tff database.\n",
      "Now processing user PERICLES__PRINCE_OF_TYRE_AUMERLE from tff database.\n",
      "Now processing user PERICLES__PRINCE_OF_TYRE_BAGOT from tff database.\n",
      "Now processing user PERICLES__PRINCE_OF_TYRE_BERKELEY from tff database.\n",
      "Now processing user PERICLES__PRINCE_OF_TYRE_BISHOP_OF_ELY from tff database.\n",
      "Now processing user PERICLES__PRINCE_OF_TYRE_BLUNT from tff database.\n",
      "Now processing user PERICLES__PRINCE_OF_TYRE_BOLINGBROKE from tff database.\n",
      "Now processing user PERICLES__PRINCE_OF_TYRE_BRAKENBURY from tff database.\n",
      "Now processing user PERICLES__PRINCE_OF_TYRE_BUCKINGHAM from tff database.\n",
      "Now processing user PERICLES__PRINCE_OF_TYRE_BUSHY from tff database.\n",
      "Now processing user PERICLES__PRINCE_OF_TYRE_CAPTAIN from tff database.\n",
      "Now processing user PERICLES__PRINCE_OF_TYRE_CARDINAL from tff database.\n",
      "Now processing user PERICLES__PRINCE_OF_TYRE_CARLISLE from tff database.\n",
      "Now processing user PERICLES__PRINCE_OF_TYRE_CATESBY from tff database.\n",
      "Now processing user PERICLES__PRINCE_OF_TYRE_CHILDREN from tff database.\n",
      "Now processing user PERICLES__PRINCE_OF_TYRE_CHRISTOPHER from tff database.\n",
      "Now processing user PERICLES__PRINCE_OF_TYRE_CLARENCE from tff database.\n",
      "Now processing user PERICLES__PRINCE_OF_TYRE_DAUGHTER from tff database.\n",
      "Now processing user PERICLES__PRINCE_OF_TYRE_DERBY from tff database.\n",
      "Now processing user PERICLES__PRINCE_OF_TYRE_DORSET from tff database.\n",
      "Now processing user PERICLES__PRINCE_OF_TYRE_DUCHESS from tff database.\n",
      "Now processing user PERICLES__PRINCE_OF_TYRE_EXTON from tff database.\n",
      "Now processing user PERICLES__PRINCE_OF_TYRE_FIRST_CITIZEN from tff database.\n",
      "Now processing user PERICLES__PRINCE_OF_TYRE_FIRST_HERALD from tff database.\n",
      "Now processing user PERICLES__PRINCE_OF_TYRE_FIRST_MURDERER from tff database.\n",
      "Now processing user PERICLES__PRINCE_OF_TYRE_FITZWATER from tff database.\n",
      "Now processing user PERICLES__PRINCE_OF_TYRE_FOURTH_MESSENGER from tff database.\n",
      "Now processing user PERICLES__PRINCE_OF_TYRE_GARDENER from tff database.\n",
      "Now processing user PERICLES__PRINCE_OF_TYRE_GAUNT from tff database.\n",
      "Now processing user PERICLES__PRINCE_OF_TYRE_GHOST from tff database.\n",
      "Now processing user PERICLES__PRINCE_OF_TYRE_GHOSTS from tff database.\n",
      "Now processing user PERICLES__PRINCE_OF_TYRE_GHOST_OF_RIVERS from tff database.\n",
      "Now processing user PERICLES__PRINCE_OF_TYRE_GHOST_OF_VAUGHAN from tff database.\n",
      "Now processing user PERICLES__PRINCE_OF_TYRE_GLOUCESTER from tff database.\n",
      "Now processing user PERICLES__PRINCE_OF_TYRE_GREEN from tff database.\n",
      "Now processing user PERICLES__PRINCE_OF_TYRE_GREY from tff database.\n",
      "Now processing user PERICLES__PRINCE_OF_TYRE_GROOM from tff database.\n",
      "Now processing user PERICLES__PRINCE_OF_TYRE_HASTINGS from tff database.\n",
      "Now processing user PERICLES__PRINCE_OF_TYRE_KEEPER from tff database.\n",
      "Now processing user PERICLES__PRINCE_OF_TYRE_KING_EDWARD from tff database.\n",
      "Now processing user PERICLES__PRINCE_OF_TYRE_KING_RICHARD from tff database.\n"
     ]
    },
    {
     "name": "stdout",
     "output_type": "stream",
     "text": [
      "Now processing user PERICLES__PRINCE_OF_TYRE_LADY from tff database.\n",
      "Now processing user PERICLES__PRINCE_OF_TYRE_LOVEL from tff database.\n",
      "Now processing user PERICLES__PRINCE_OF_TYRE_MARSHAL from tff database.\n",
      "Now processing user PERICLES__PRINCE_OF_TYRE_MAYOR from tff database.\n",
      "Now processing user PERICLES__PRINCE_OF_TYRE_MESSENGER from tff database.\n",
      "Now processing user PERICLES__PRINCE_OF_TYRE_MOWBRAY from tff database.\n",
      "Now processing user PERICLES__PRINCE_OF_TYRE_NORFOLK from tff database.\n",
      "Now processing user PERICLES__PRINCE_OF_TYRE_NORTHUMBERLAND from tff database.\n",
      "Now processing user PERICLES__PRINCE_OF_TYRE_OXFORD from tff database.\n",
      "Now processing user PERICLES__PRINCE_OF_TYRE_PAGE from tff database.\n",
      "Now processing user PERICLES__PRINCE_OF_TYRE_PERCY from tff database.\n",
      "Now processing user PERICLES__PRINCE_OF_TYRE_PRIEST from tff database.\n",
      "Now processing user PERICLES__PRINCE_OF_TYRE_PRINCE from tff database.\n",
      "Now processing user PERICLES__PRINCE_OF_TYRE_PURSUIVANT from tff database.\n",
      "Now processing user PERICLES__PRINCE_OF_TYRE_QUEEN from tff database.\n",
      "Now processing user PERICLES__PRINCE_OF_TYRE_QUEEN_ELIZABETH from tff database.\n",
      "Now processing user PERICLES__PRINCE_OF_TYRE_QUEEN_MARGARET from tff database.\n",
      "Now processing user PERICLES__PRINCE_OF_TYRE_RATCLIFF from tff database.\n",
      "Now processing user PERICLES__PRINCE_OF_TYRE_RICHMOND from tff database.\n",
      "Now processing user PERICLES__PRINCE_OF_TYRE_RIVERS from tff database.\n",
      "Now processing user PERICLES__PRINCE_OF_TYRE_ROSS from tff database.\n",
      "Now processing user PERICLES__PRINCE_OF_TYRE_SALISBURY from tff database.\n",
      "Now processing user PERICLES__PRINCE_OF_TYRE_SCRIVENER from tff database.\n",
      "Now processing user PERICLES__PRINCE_OF_TYRE_SCROOP from tff database.\n",
      "Now processing user PERICLES__PRINCE_OF_TYRE_SECOND_CITIZEN from tff database.\n",
      "Now processing user PERICLES__PRINCE_OF_TYRE_SECOND_HERALD from tff database.\n",
      "Now processing user PERICLES__PRINCE_OF_TYRE_SECOND_MESSENGER from tff database.\n",
      "Now processing user PERICLES__PRINCE_OF_TYRE_SECOND_MURDERER from tff database.\n",
      "Now processing user PERICLES__PRINCE_OF_TYRE_SERVANT from tff database.\n",
      "Now processing user PERICLES__PRINCE_OF_TYRE_SERVINGMAN from tff database.\n",
      "Model architecture transformer1 loaded with 20,395,057 parameters and 1,000,000 buffers.\n",
      "Overall this is a data ratio of  637346:1 for target shape [1, 32] given that num_queries=1.\n",
      "User (of type UserSingleStep) with settings:\n",
      "    Number of data points: 1\n",
      "\n",
      "    Threat model:\n",
      "    User provides labels: False\n",
      "    User provides buffers: False\n",
      "    User provides number of data points: True\n",
      "\n",
      "    Data:\n",
      "    Dataset: shakespeare\n",
      "    user: 0\n",
      "    \n",
      "        \n",
      "Server (of type MaliciousTransformerServer) with settings:\n",
      "    Threat model: Malicious (Parameters)\n",
      "    Number of planned queries: 1\n",
      "    Has external/public data: True\n",
      "\n",
      "    Model:\n",
      "        model specification: transformer1\n",
      "        model state: default\n",
      "        public buffers: False\n",
      "\n",
      "    Secrets: {}\n",
      "    \n",
      "Attacker (of type DecepticonAttacker).\n"
     ]
    }
   ],
   "source": [
    "user, server, model, loss_fn = breaching.cases.construct_case(cfg.case, setup)\n",
    "attacker = breaching.attacks.prepare_attack(server.model, server.loss, cfg.attack, setup)\n",
    "breaching.utils.overview(server, user, attacker)"
   ]
  },
  {
   "cell_type": "markdown",
   "id": "548c0ad6",
   "metadata": {},
   "source": [
    "### Simulate an attacked FL protocol"
   ]
  },
  {
   "cell_type": "markdown",
   "id": "2058bcc2",
   "metadata": {},
   "source": [
    "True user data is returned only for analysis"
   ]
  },
  {
   "cell_type": "code",
   "execution_count": 21,
   "id": "3f2a2e33",
   "metadata": {},
   "outputs": [
    {
     "name": "stdout",
     "output_type": "stream",
     "text": [
      "Computing feature distribution before the linear1 layer from external data.\n",
      "Feature mean is -0.3582227826118469, feature std is 0.8207599520683289.\n"
     ]
    }
   ],
   "source": [
    "server_payload = server.distribute_payload()\n",
    "shared_data, true_user_data = user.compute_local_updates(server_payload)"
   ]
  },
  {
   "cell_type": "code",
   "execution_count": 22,
   "id": "69c6ff1f",
   "metadata": {},
   "outputs": [
    {
     "name": "stdout",
     "output_type": "stream",
     "text": [
      "Yonder comes my master, your brother.But do not so. I have five hundred crowns,I scarce can speak to thank you for myself.\n",
      "\n"
     ]
    }
   ],
   "source": [
    "user.print(true_user_data)"
   ]
  },
  {
   "cell_type": "markdown",
   "id": "f2867bcc",
   "metadata": {},
   "source": [
    "# Reconstruct user data"
   ]
  },
  {
   "cell_type": "code",
   "execution_count": 23,
   "id": "17c4ffdf",
   "metadata": {},
   "outputs": [
    {
     "name": "stdout",
     "output_type": "stream",
     "text": [
      "Recovered tokens [[11, 11, 13, 13, 13, 40, 56, 82, 198, 284, 314, 329, 345, 407, 423, 460, 466, 523, 534, 616, 1537, 1936, 2058, 2740, 3470, 3589, 3956, 4958, 5875, 8623, 12389, 18549]] through strategy decoder-bias.\n"
     ]
    }
   ],
   "source": [
    "reconstructed_user_data, stats = attacker.reconstruct([server_payload], [shared_data], \n",
    "                                                      server.secrets, dryrun=cfg.dryrun)"
   ]
  },
  {
   "cell_type": "code",
   "execution_count": 24,
   "id": "33b7388d",
   "metadata": {},
   "outputs": [
    {
     "name": "stdout",
     "output_type": "stream",
     "text": [
      "Yonder comes my master, your brother can speak so I have five hundred crowns,I scarce you\n",
      " thank do for myself.     \n"
     ]
    }
   ],
   "source": [
    "user.print(reconstructed_user_data)"
   ]
  },
  {
   "cell_type": "markdown",
   "id": "27fdbf58",
   "metadata": {},
   "source": [
    "### Check metrics:"
   ]
  },
  {
   "cell_type": "code",
   "execution_count": 25,
   "id": "7a2b4750",
   "metadata": {},
   "outputs": [
    {
     "name": "stdout",
     "output_type": "stream",
     "text": [
      "METRICS: | Accuracy: 0.2500 | S-BLEU: 0.66 | FMSE: 3.0618e-03 | \n",
      " G-BLEU: 0.59 | ROUGE1: 0.93| ROUGE2: 0.65 | ROUGE-L: 0.76| Token Acc: 84.38% | Label Acc: 84.38%\n"
     ]
    }
   ],
   "source": [
    "metrics = breaching.analysis.report(reconstructed_user_data, true_user_data, [server_payload], \n",
    "                                    server.model, cfg_case=cfg.case, setup=setup)"
   ]
  },
  {
   "cell_type": "code",
   "execution_count": 29,
   "id": "eb49ca8d",
   "metadata": {},
   "outputs": [],
   "source": [
    "recovered_tokens = torch.as_tensor([[11, 11, 13, 13, 13, 40, 56, 82, 198, 284, \n",
    "                           314, 329, 345, 407, 423, 460, 466, 523, 534, 616, 1537, \n",
    "                           1936, 2058, 2740, 3470, 3589, 3956, 4958, 5875, 8623, 12389, 18549]])"
   ]
  },
  {
   "cell_type": "code",
   "execution_count": 30,
   "id": "b78048a1",
   "metadata": {},
   "outputs": [
    {
     "data": {
      "text/plain": [
       "1.0"
      ]
     },
     "execution_count": 30,
     "metadata": {},
     "output_type": "execute_result"
    }
   ],
   "source": [
    "breaching.analysis.analysis.count_integer_overlap(recovered_tokens.view(-1), true_user_data[\"data\"].view(-1))"
   ]
  }
 ],
 "metadata": {
  "kernelspec": {
   "display_name": "Python 3 (ipykernel)",
   "language": "python",
   "name": "python3"
  },
  "language_info": {
   "codemirror_mode": {
    "name": "ipython",
    "version": 3
   },
   "file_extension": ".py",
   "mimetype": "text/x-python",
   "name": "python",
   "nbconvert_exporter": "python",
   "pygments_lexer": "ipython3",
   "version": "3.9.7"
  }
 },
 "nbformat": 4,
 "nbformat_minor": 5
}
