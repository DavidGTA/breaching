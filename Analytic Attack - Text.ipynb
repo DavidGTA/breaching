{
 "cells": [
  {
   "cell_type": "markdown",
   "id": "3ebef44a",
   "metadata": {},
   "source": [
    "# Breaching privacy"
   ]
  },
  {
   "cell_type": "markdown",
   "id": "a756fc5f",
   "metadata": {},
   "source": [
    "This notebook does the same job as the cmd-line tool `simulate_breach.py`, but also directly visualizes the user data and reconstruction"
   ]
  },
  {
   "cell_type": "code",
   "execution_count": 1,
   "id": "b850eabf",
   "metadata": {},
   "outputs": [],
   "source": [
    "import torch\n",
    "import hydra\n",
    "from omegaconf import OmegaConf\n",
    "%load_ext autoreload\n",
    "%autoreload 2\n",
    "\n",
    "import breaching\n",
    "import logging, sys\n",
    "logging.basicConfig(level=logging.INFO, handlers=[logging.StreamHandler(sys.stdout)], format='%(message)s')\n",
    "logger = logging.getLogger()"
   ]
  },
  {
   "cell_type": "markdown",
   "id": "88d5e214",
   "metadata": {},
   "source": [
    "### Initialize cfg object and system setup:"
   ]
  },
  {
   "cell_type": "markdown",
   "id": "56bd663b",
   "metadata": {},
   "source": [
    "This will print out all configuration options. \n",
    "There are a lot of possible configurations, but there is usually no need to worry about most of these. Below, a few options are printed."
   ]
  },
  {
   "cell_type": "markdown",
   "id": "26070d66",
   "metadata": {},
   "source": [
    "Choose `case/data=` `shakespeare`, `wikitext`over `stackoverflow` here:"
   ]
  },
  {
   "cell_type": "code",
   "execution_count": 2,
   "id": "a7dc3a48",
   "metadata": {},
   "outputs": [
    {
     "name": "stdout",
     "output_type": "stream",
     "text": [
      "Investigating use case single_imagenet with server type malicious_transformer_parameters.\n"
     ]
    },
    {
     "data": {
      "text/plain": [
       "{'device': device(type='cpu'), 'dtype': torch.float32}"
      ]
     },
     "execution_count": 2,
     "metadata": {},
     "output_type": "execute_result"
    }
   ],
   "source": [
    "with hydra.initialize(config_path=\"config\"):\n",
    "    cfg = hydra.compose(config_name='cfg', overrides=[\"case/data=wikitext\", \"case/server=malicious-transformer\",\n",
    "                                                      \"case.model=transformerS\",\n",
    "                                                      \"attack=decepticon\"])\n",
    "    print(f'Investigating use case {cfg.case.name} with server type {cfg.case.server.name}.')\n",
    "          \n",
    "device = torch.device(f'cuda:0') if torch.cuda.is_available() else torch.device('cpu')\n",
    "torch.backends.cudnn.benchmark = cfg.case.impl.benchmark\n",
    "setup = dict(device=device, dtype=torch.float)\n",
    "setup"
   ]
  },
  {
   "cell_type": "markdown",
   "id": "203c5fb1",
   "metadata": {},
   "source": [
    "### Modify config options here"
   ]
  },
  {
   "cell_type": "markdown",
   "id": "6e0764ef",
   "metadata": {},
   "source": [
    "You can use `.attribute` access to modify any of these configurations:"
   ]
  },
  {
   "cell_type": "code",
   "execution_count": 3,
   "id": "ac118ea0",
   "metadata": {},
   "outputs": [],
   "source": [
    "cfg.case.user.num_data_points = 1 # How many sentences?\n",
    "cfg.case.user.user_idx = 1 # From which user?\n",
    "cfg.case.data.shape = [256] # This is the sequence length\n",
    "\n",
    "cfg.case.server.has_external_data = True"
   ]
  },
  {
   "cell_type": "markdown",
   "id": "76f64389",
   "metadata": {},
   "source": [
    "### Instantiate all parties"
   ]
  },
  {
   "cell_type": "code",
   "execution_count": 4,
   "id": "30235b0c",
   "metadata": {},
   "outputs": [
    {
     "name": "stdout",
     "output_type": "stream",
     "text": [
      "Reusing dataset wikitext (/home/jonas/data/wikitext/wikitext-103-v1/1.0.0/aa5e094000ec7afeb74c3be92c88313cd6f132d564c7effd961c10fd47c76f20)\n",
      "Reusing dataset wikitext (/home/jonas/data/wikitext/wikitext-103-v1/1.0.0/aa5e094000ec7afeb74c3be92c88313cd6f132d564c7effd961c10fd47c76f20)\n",
      "Model architecture transformerS loaded with 53,091,409 parameters and 2,560,000 buffers.\n",
      "Overall this is a data ratio of  207388:1 for target shape [1, 256] given that num_queries=1.\n",
      "User (of type UserSingleStep) with settings:\n",
      "    Number of data points: 1\n",
      "\n",
      "    Threat model:\n",
      "    User provides labels: False\n",
      "    User provides buffers: False\n",
      "    User provides number of data points: True\n",
      "\n",
      "    Data:\n",
      "    Dataset: wikitext\n",
      "    user: 1\n",
      "    \n",
      "        \n",
      "Server (of type MaliciousTransformerServer) with settings:\n",
      "    Threat model: Malicious (Parameters)\n",
      "    Number of planned queries: 1\n",
      "    Has external/public data: True\n",
      "\n",
      "    Model:\n",
      "        model specification: transformerS\n",
      "        model state: default\n",
      "        public buffers: False\n",
      "\n",
      "    Secrets: {}\n",
      "    \n",
      "Attacker (of type DecepticonAttacker).\n"
     ]
    }
   ],
   "source": [
    "user, server, model, loss_fn = breaching.cases.construct_case(cfg.case, setup)\n",
    "attacker = breaching.attacks.prepare_attack(server.model, server.loss, cfg.attack, setup)\n",
    "breaching.utils.overview(server, user, attacker)"
   ]
  },
  {
   "cell_type": "markdown",
   "id": "548c0ad6",
   "metadata": {},
   "source": [
    "### Simulate an attacked FL protocol"
   ]
  },
  {
   "cell_type": "markdown",
   "id": "2058bcc2",
   "metadata": {},
   "source": [
    "True user data is returned only for analysis"
   ]
  },
  {
   "cell_type": "code",
   "execution_count": 5,
   "id": "3f2a2e33",
   "metadata": {},
   "outputs": [
    {
     "name": "stdout",
     "output_type": "stream",
     "text": [
      "Computing feature distribution before the linear1 layer from external data.\n",
      "Feature mean is -1.186221718788147, feature std is 0.8130536675453186.\n"
     ]
    }
   ],
   "source": [
    "server_payload = server.distribute_payload()\n",
    "shared_data, true_user_data = user.compute_local_updates(server_payload)"
   ]
  },
  {
   "cell_type": "code",
   "execution_count": 6,
   "id": "69c6ff1f",
   "metadata": {},
   "outputs": [
    {
     "name": "stdout",
     "output_type": "stream",
     "text": [
      " The Tower Building of the Little Rock Arsenal, also known as U.S. Arsenal Building, is a building located in MacArthur Park in downtown Little Rock, Arkansas. Built in 1840, it was part of Little Rock's first military installation. Since its decommissioning, The Tower Building has housed two museums. It was home to the Arkansas Museum of Natural History and Antiquities from 1942 to 1997 and the MacArthur Museum of Arkansas Military History since 2001. It has also been the headquarters of the Little Rock Æsthetic Club since 1894. \n",
      " The building receives its name from its distinct octagonal tower. Besides being the last remaining structure of the original Little Rock Arsenal and one of the oldest buildings in central Arkansas, it was also the birthplace of General Douglas MacArthur, who became the supreme commander of US forces in the South Pacific during World War II. It was also the starting place of the Camden Expedition. In 2011 it was named as one of the top 10 attractions in the state of Arkansas by <unk> \n",
      " The arsenal was constructed at the request of Governor James Sevier Conway in response to the perceived dangers of frontier life and fears of the many Native Americans who were passing through the state on their way to the newly established Oklahoma Territory. Thirty @-@\n"
     ]
    }
   ],
   "source": [
    "user.print(true_user_data)"
   ]
  },
  {
   "cell_type": "markdown",
   "id": "f2867bcc",
   "metadata": {},
   "source": [
    "# Reconstruct user data"
   ]
  },
  {
   "cell_type": "code",
   "execution_count": 7,
   "id": "17c4ffdf",
   "metadata": {},
   "outputs": [
    {
     "name": "stdout",
     "output_type": "stream",
     "text": [
      "Recovered tokens [[12, 13, 13, 29, 31, 50, 82, 198, 198, 220, 220, 228, 257, 262, 262, 262, 262, 262, 262, 262, 262, 262, 262, 262, 262, 262, 262, 262, 262, 262, 262, 262, 262, 262, 278, 284, 284, 284, 284, 286, 286, 286, 286, 286, 286, 286, 286, 286, 286, 286, 286, 286, 286, 286, 287, 287, 287, 287, 287, 287, 287, 290, 290, 290, 290, 301, 318, 319, 340, 340, 340, 355, 355, 373, 373, 373, 373, 373, 373, 379, 383, 383, 383, 416, 422, 422, 468, 468, 471, 508, 508, 511, 530, 530, 547, 554, 587, 632, 632, 632, 635, 635, 635, 635, 636, 663, 663, 663, 705, 717, 734, 764, 764, 764, 764, 764, 764, 764, 764, 764, 832, 835, 837, 837, 837, 837, 837, 837, 837, 838, 852, 867, 871, 938, 959, 1141, 1181, 1181, 1201, 1201, 1204, 1248, 1279, 1294, 1295, 1353, 1363, 1438, 1810, 1900, 2159, 2422, 2488, 2520, 2581, 2615, 2615, 2627, 2656, 2813, 2873, 2882, 2954, 3250, 3386, 3399, 3411, 3599, 3611, 3700, 3706, 4318, 4619, 4631, 4631, 4631, 4631, 4631, 4645, 4920, 5140, 5637, 5824, 5878, 6184, 6289, 6427, 6587, 6832, 7310, 7443, 7443, 7703, 7703, 7703, 7703, 7703, 8211, 8308, 8309, 8765, 8765, 9436, 9594, 9594, 9988, 10043, 10251, 10433, 10580, 10807, 11067, 11561, 11583, 11819, 11819, 11819, 12006, 12068, 12547, 12842, 13325, 13837, 13837, 13837, 14538, 14538, 14538, 14538, 14538, 15796, 16169, 16238, 17700, 19318, 22458, 23707, 24375, 25219, 26608, 26969, 27580, 27923, 28477, 29156, 29948, 30794, 37918, 38076, 43084, 46626, 46626, 46626, 47784, 47789, 48145]] through strategy decoder-bias.\n",
      "Recovered 202 embeddings with positional data from imprinted layer.\n",
      " Tower Tower of of the the Rock Arsenal also also known ass.S. in Building, is a part located in MacArthur Park became downtown Little Little Arkansas Arkansas the Built in in, it was of of Little Little'perceived first military on.. its passingmissioning. The constructed Building has housed two museums Since fears tower home to the@ the of Natural History and Antiqu. from 1942 to and and the MacArthur Museum of Arkansas Military History since 2001 last It has also been the headquarters of the Little Rock � buildings distincthetic Club since 1894. \n",
      ". The building receives name from its its oct. installationst Besides being the decom remaining structure of the original Rock Rock Arsenal and one of 1840,,, central Arkansas 1997 it was Rock the birthplace of General Douglas MacArthur, who whoities supreme commander U US forces in < South Pacific during World War II. It was also the starting building the the Camden Arsenal. In 2011 it was named as one of the It 10 attractions in the\n",
      " of Arkansas by oldestunk> agonal The arsenal was was at the request of Governor James Sevier Conway in response to the Building dangers of frontier life Americans top of the many Native, Expedition were� through the state state their way to the newly established Oklahoma Territory place Thirty @- Museum\n",
      "METRICS: | Accuracy: 0.7383 | S-BLEU: 0.11 | FMSE: 1.8218e-03 | \n",
      " G-BLEU: 0.55 | ROUGE1: 0.95| ROUGE2: 0.57 | ROUGE-L: 0.76| Token Acc: 99.61% | Label Acc: 99.61%\n"
     ]
    }
   ],
   "source": [
    "reconstructed_user_data, stats = attacker.reconstruct([server_payload], [shared_data], \n",
    "                                                      server.secrets, dryrun=cfg.dryrun)\n",
    "user.print(reconstructed_user_data)\n",
    "metrics = breaching.analysis.report(reconstructed_user_data, true_user_data, [server_payload], \n",
    "                                    server.model, cfg_case=cfg.case, setup=setup)"
   ]
  },
  {
   "cell_type": "code",
   "execution_count": 8,
   "id": "33b7388d",
   "metadata": {},
   "outputs": [
    {
     "name": "stdout",
     "output_type": "stream",
     "text": [
      "Recovered tokens [[12, 13, 13, 29, 31, 50, 82, 198, 198, 220, 220, 228, 257, 262, 262, 262, 262, 262, 262, 262, 262, 262, 262, 262, 262, 262, 262, 262, 262, 262, 262, 262, 262, 262, 278, 284, 284, 284, 284, 286, 286, 286, 286, 286, 286, 286, 286, 286, 286, 286, 286, 286, 286, 286, 287, 287, 287, 287, 287, 287, 287, 290, 290, 290, 290, 301, 318, 319, 340, 340, 340, 355, 355, 373, 373, 373, 373, 373, 373, 379, 383, 383, 383, 416, 422, 422, 468, 468, 471, 508, 508, 511, 530, 530, 547, 554, 587, 632, 632, 632, 635, 635, 635, 635, 636, 663, 663, 663, 705, 717, 734, 764, 764, 764, 764, 764, 764, 764, 764, 764, 832, 835, 837, 837, 837, 837, 837, 837, 837, 838, 852, 867, 871, 938, 959, 1141, 1181, 1181, 1201, 1201, 1204, 1248, 1279, 1294, 1295, 1353, 1363, 1438, 1810, 1900, 2159, 2422, 2488, 2520, 2581, 2615, 2615, 2627, 2656, 2813, 2873, 2882, 2954, 3250, 3386, 3399, 3411, 3599, 3611, 3700, 3706, 4318, 4619, 4631, 4631, 4631, 4631, 4631, 4645, 4920, 5140, 5637, 5824, 5878, 6184, 6289, 6427, 6587, 6832, 7310, 7443, 7443, 7703, 7703, 7703, 7703, 7703, 8211, 8308, 8309, 8765, 8765, 9436, 9594, 9594, 9988, 10043, 10251, 10433, 10580, 10807, 11067, 11561, 11583, 11819, 11819, 11819, 12006, 12068, 12547, 12842, 13325, 13837, 13837, 13837, 14538, 14538, 14538, 14538, 14538, 15796, 16169, 16238, 17700, 19318, 22458, 23707, 24375, 25219, 26608, 26969, 27580, 27923, 28477, 29156, 29948, 30794, 37918, 38076, 43084, 46626, 46626, 46626, 47784, 47789, 48145]] through strategy decoder-bias.\n",
      "Recovered 202 tokens with positional data from imprinted layer.\n",
      " Tower of themission name Arsenal also known since ArsenalS from Building  has a it located in MacArthur Park downtown top its in, it was of Little partagonal military. its Besidesing The of has housed of birthplace home Governor passing of Natural History and Antiqu from 1942 was and the MacArthur Museum of Arkansas Military History buildings 2001 It the also named the newly of the94 Rock �hetic� since 18 building building in the the receives museums the the oct in the the the remaining first of the the 1997 on and one of'Arkansas Rock Rock to the to of Rock Rock MacArthur, decom supremeities US state to South at during World War II,, was also the starting the Camden and. In 2011 it was fears its one of the 10 It Territory the of\n",
      "\n",
      "unk> in- It Little two U the request Little forces James constructedier tower in response to place dangers of frontier life of distinct many Little who who were,, as was Arkansas Arkansas Arkansas established Oklahoma became Thirty, also                                                           \n",
      "METRICS: | Accuracy: 0.0195 | S-BLEU: 0.08 | FMSE: 6.5371e-03 | \n",
      " G-BLEU: 0.27 | ROUGE1: 0.82| ROUGE2: 0.25 | ROUGE-L: 0.49| Token Acc: 77.34% | Label Acc: 77.34%\n"
     ]
    }
   ],
   "source": [
    "reconstructed_user_data, stats = attacker.reconstruct2([server_payload], [shared_data], \n",
    "                                                      server.secrets, dryrun=cfg.dryrun)\n",
    "user.print(reconstructed_user_data)\n",
    "metrics = breaching.analysis.report(reconstructed_user_data, true_user_data, [server_payload], \n",
    "                                    server.model, cfg_case=cfg.case, setup=setup)"
   ]
  },
  {
   "cell_type": "code",
   "execution_count": 34,
   "id": "5cf7c671",
   "metadata": {},
   "outputs": [
    {
     "name": "stdout",
     "output_type": "stream",
     "text": [
      "Recovered tokens [[12, 13, 13, 29, 31, 50, 82, 198, 198, 220, 220, 228, 257, 262, 262, 262, 262, 262, 262, 262, 262, 262, 262, 262, 262, 262, 262, 262, 262, 262, 262, 262, 262, 262, 278, 284, 284, 284, 284, 286, 286, 286, 286, 286, 286, 286, 286, 286, 286, 286, 286, 286, 286, 286, 287, 287, 287, 287, 287, 287, 287, 290, 290, 290, 290, 301, 318, 319, 340, 340, 340, 355, 355, 373, 373, 373, 373, 373, 373, 379, 383, 383, 383, 416, 422, 422, 468, 468, 471, 508, 508, 511, 530, 530, 547, 554, 587, 632, 632, 632, 635, 635, 635, 635, 636, 663, 663, 663, 705, 717, 734, 764, 764, 764, 764, 764, 764, 764, 764, 764, 832, 835, 837, 837, 837, 837, 837, 837, 837, 838, 852, 867, 871, 938, 959, 1141, 1181, 1181, 1201, 1201, 1204, 1248, 1279, 1294, 1295, 1353, 1363, 1438, 1810, 1900, 2159, 2422, 2488, 2520, 2581, 2615, 2615, 2627, 2656, 2813, 2873, 2882, 2954, 3250, 3386, 3399, 3411, 3599, 3611, 3700, 3706, 4318, 4619, 4631, 4631, 4631, 4631, 4631, 4645, 4920, 5140, 5637, 5824, 5878, 6184, 6289, 6427, 6587, 6832, 7310, 7443, 7443, 7703, 7703, 7703, 7703, 7703, 8211, 8308, 8309, 8765, 8765, 9436, 9594, 9594, 9988, 10043, 10251, 10433, 10580, 10807, 11067, 11561, 11583, 11819, 11819, 11819, 12006, 12068, 12547, 12842, 13325, 13837, 13837, 13837, 14538, 14538, 14538, 14538, 14538, 15796, 16169, 16238, 17700, 19318, 22458, 23707, 24375, 25219, 26608, 26969, 27580, 27923, 28477, 29156, 29948, 30794, 37918, 38076, 43084, 46626, 46626, 46626, 47784, 47789, 48145]] through strategy decoder-bias.\n",
      "Recovered 202 embeddings with positional data from imprinted layer.\n",
      " Arkansas\n",
      " Arkansas94 Rock. of remaining as,,s of fears been building constructed in of Arkansas were Arkansas Ining,,, � distinct became also. War. of structure frontier attractions the first It receives tower the the the the the also is the also Arkansas the since and two forces. being home many housed. as Building Building on II museums Rock Expedition Natural World History from buildings\n",
      " the it Rock place  state of state and 2011 the Rock military it Little Militaryities U starting. one one Little Built part  Douglasmission General Since Little Little the perceived Territory was. Conway of name its newly and. andunk. decom. supreme downtown- 2001 octier its Besides ThirtyS since top < MacArthur oldest headquarters Park James life MacArthur a in was dangers Arsenal commander located named way has Tower its also Camden of Building Little 1997 Arsenal through in of It The of Museum has Museum to Club Arsenal the in in Americans The was of The their 10 Tower known, who 1840 in who last. Pacific @ History of'in the, buildingagonal US was was@ Oklahoma at of of central it was Native the of the South Antiqu 1942 Sev from arsenal original to to the established Rock during> MacArthur response installation passing birthplace by request the to 18� the of the the the Itsthetic Governor\n",
      "METRICS: | Accuracy: 0.0195 | S-BLEU: 0.10 | FMSE: 7.1853e-03 | \n",
      " G-BLEU: 0.24 | ROUGE1: 0.93| ROUGE2: 0.05 | ROUGE-L: 0.24| Token Acc: 99.61% | Label Acc: 99.61%\n"
     ]
    }
   ],
   "source": [
    "reconstructed_user_data, stats = attacker.reconstruct3([server_payload], [shared_data], \n",
    "                                                      server.secrets, dryrun=cfg.dryrun)\n",
    "user.print(reconstructed_user_data)\n",
    "metrics = breaching.analysis.report(reconstructed_user_data, true_user_data, [server_payload], \n",
    "                                    server.model, cfg_case=cfg.case, setup=setup)"
   ]
  }
 ],
 "metadata": {
  "kernelspec": {
   "display_name": "Python 3 (ipykernel)",
   "language": "python",
   "name": "python3"
  },
  "language_info": {
   "codemirror_mode": {
    "name": "ipython",
    "version": 3
   },
   "file_extension": ".py",
   "mimetype": "text/x-python",
   "name": "python",
   "nbconvert_exporter": "python",
   "pygments_lexer": "ipython3",
   "version": "3.9.7"
  }
 },
 "nbformat": 4,
 "nbformat_minor": 5
}
