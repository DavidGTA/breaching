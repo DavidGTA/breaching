{
 "cells": [
  {
   "cell_type": "markdown",
   "id": "3ebef44a",
   "metadata": {},
   "source": [
    "# Breaching privacy"
   ]
  },
  {
   "cell_type": "markdown",
   "id": "a756fc5f",
   "metadata": {},
   "source": [
    "This notebook does the same job as the cmd-line tool `simulate_breach.py`, but also directly visualizes the user data and reconstruction"
   ]
  },
  {
   "cell_type": "code",
   "execution_count": 1,
   "id": "b850eabf",
   "metadata": {},
   "outputs": [],
   "source": [
    "import torch\n",
    "import hydra\n",
    "from omegaconf import OmegaConf\n",
    "%load_ext autoreload\n",
    "%autoreload 2\n",
    "\n",
    "import breaching\n",
    "import logging, sys\n",
    "logging.basicConfig(level=logging.INFO, handlers=[logging.StreamHandler(sys.stdout)], format='%(message)s')\n",
    "logger = logging.getLogger()"
   ]
  },
  {
   "cell_type": "markdown",
   "id": "88d5e214",
   "metadata": {},
   "source": [
    "### Initialize cfg object and system setup:"
   ]
  },
  {
   "cell_type": "markdown",
   "id": "56bd663b",
   "metadata": {},
   "source": [
    "This will print out all configuration options. \n",
    "There are a lot of possible configurations, but there is usually no need to worry about most of these. Below, a few options are printed."
   ]
  },
  {
   "cell_type": "markdown",
   "id": "26070d66",
   "metadata": {},
   "source": [
    "Choose `case/data=` `shakespeare`, `wikitext`over `stackoverflow` here:"
   ]
  },
  {
   "cell_type": "code",
   "execution_count": 2,
   "id": "a7dc3a48",
   "metadata": {},
   "outputs": [
    {
     "name": "stdout",
     "output_type": "stream",
     "text": [
      "Investigating use case single_imagenet with server type malicious_transformer_parameters.\n"
     ]
    },
    {
     "data": {
      "text/plain": [
       "{'device': device(type='cpu'), 'dtype': torch.float32}"
      ]
     },
     "execution_count": 2,
     "metadata": {},
     "output_type": "execute_result"
    }
   ],
   "source": [
    "with hydra.initialize(config_path=\"config\"):\n",
    "    cfg = hydra.compose(config_name='cfg', overrides=[\"case/data=wikitext\", \"case/server=malicious-transformer\",\n",
    "                                                      \"case.model=transformerS\",\n",
    "                                                      \"attack=decepticon\"])\n",
    "    print(f'Investigating use case {cfg.case.name} with server type {cfg.case.server.name}.')\n",
    "          \n",
    "device = torch.device(f'cuda:0') if torch.cuda.is_available() else torch.device('cpu')\n",
    "torch.backends.cudnn.benchmark = cfg.case.impl.benchmark\n",
    "setup = dict(device=device, dtype=torch.float)\n",
    "setup"
   ]
  },
  {
   "cell_type": "markdown",
   "id": "203c5fb1",
   "metadata": {},
   "source": [
    "### Modify config options here"
   ]
  },
  {
   "cell_type": "markdown",
   "id": "6e0764ef",
   "metadata": {},
   "source": [
    "You can use `.attribute` access to modify any of these configurations:"
   ]
  },
  {
   "cell_type": "code",
   "execution_count": 3,
   "id": "ac118ea0",
   "metadata": {},
   "outputs": [],
   "source": [
    "cfg.case.user.num_data_points = 1 # How many sentences?\n",
    "cfg.case.user.user_idx = 1 # From which user?\n",
    "cfg.case.data.shape = [256] # This is the sequence length\n",
    "\n",
    "cfg.case.server.has_external_data = True"
   ]
  },
  {
   "cell_type": "markdown",
   "id": "76f64389",
   "metadata": {},
   "source": [
    "### Instantiate all parties"
   ]
  },
  {
   "cell_type": "code",
   "execution_count": 4,
   "id": "30235b0c",
   "metadata": {},
   "outputs": [
    {
     "name": "stdout",
     "output_type": "stream",
     "text": [
      "Reusing dataset wikitext (/home/jonas/data/wikitext/wikitext-103-v1/1.0.0/aa5e094000ec7afeb74c3be92c88313cd6f132d564c7effd961c10fd47c76f20)\n",
      "Reusing dataset wikitext (/home/jonas/data/wikitext/wikitext-103-v1/1.0.0/aa5e094000ec7afeb74c3be92c88313cd6f132d564c7effd961c10fd47c76f20)\n",
      "Model architecture transformerS loaded with 53,091,409 parameters and 2,560,000 buffers.\n",
      "Overall this is a data ratio of  207388:1 for target shape [1, 256] given that num_queries=1.\n",
      "User (of type UserSingleStep) with settings:\n",
      "    Number of data points: 1\n",
      "\n",
      "    Threat model:\n",
      "    User provides labels: False\n",
      "    User provides buffers: False\n",
      "    User provides number of data points: True\n",
      "\n",
      "    Data:\n",
      "    Dataset: wikitext\n",
      "    user: 1\n",
      "    \n",
      "        \n",
      "Server (of type MaliciousTransformerServer) with settings:\n",
      "    Threat model: Malicious (Parameters)\n",
      "    Number of planned queries: 1\n",
      "    Has external/public data: True\n",
      "\n",
      "    Model:\n",
      "        model specification: transformerS\n",
      "        model state: default\n",
      "        public buffers: False\n",
      "\n",
      "    Secrets: {}\n",
      "    \n",
      "Attacker (of type DecepticonAttacker).\n"
     ]
    }
   ],
   "source": [
    "user, server, model, loss_fn = breaching.cases.construct_case(cfg.case, setup)\n",
    "attacker = breaching.attacks.prepare_attack(server.model, server.loss, cfg.attack, setup)\n",
    "breaching.utils.overview(server, user, attacker)"
   ]
  },
  {
   "cell_type": "markdown",
   "id": "548c0ad6",
   "metadata": {},
   "source": [
    "### Simulate an attacked FL protocol"
   ]
  },
  {
   "cell_type": "markdown",
   "id": "2058bcc2",
   "metadata": {},
   "source": [
    "True user data is returned only for analysis"
   ]
  },
  {
   "cell_type": "code",
   "execution_count": 5,
   "id": "3f2a2e33",
   "metadata": {},
   "outputs": [
    {
     "name": "stdout",
     "output_type": "stream",
     "text": [
      "Computing feature distribution before the linear1 layer from external data.\n",
      "Feature mean is -1.186221718788147, feature std is 0.8130536675453186.\n"
     ]
    }
   ],
   "source": [
    "server_payload = server.distribute_payload()\n",
    "shared_data, true_user_data = user.compute_local_updates(server_payload)"
   ]
  },
  {
   "cell_type": "code",
   "execution_count": 6,
   "id": "69c6ff1f",
   "metadata": {},
   "outputs": [
    {
     "name": "stdout",
     "output_type": "stream",
     "text": [
      " The Tower Building of the Little Rock Arsenal, also known as U.S. Arsenal Building, is a building located in MacArthur Park in downtown Little Rock, Arkansas. Built in 1840, it was part of Little Rock's first military installation. Since its decommissioning, The Tower Building has housed two museums. It was home to the Arkansas Museum of Natural History and Antiquities from 1942 to 1997 and the MacArthur Museum of Arkansas Military History since 2001. It has also been the headquarters of the Little Rock Æsthetic Club since 1894. \n",
      " The building receives its name from its distinct octagonal tower. Besides being the last remaining structure of the original Little Rock Arsenal and one of the oldest buildings in central Arkansas, it was also the birthplace of General Douglas MacArthur, who became the supreme commander of US forces in the South Pacific during World War II. It was also the starting place of the Camden Expedition. In 2011 it was named as one of the top 10 attractions in the state of Arkansas by <unk> \n",
      " The arsenal was constructed at the request of Governor James Sevier Conway in response to the perceived dangers of frontier life and fears of the many Native Americans who were passing through the state on their way to the newly established Oklahoma Territory. Thirty @-@\n"
     ]
    }
   ],
   "source": [
    "user.print(true_user_data)"
   ]
  },
  {
   "cell_type": "markdown",
   "id": "f2867bcc",
   "metadata": {},
   "source": [
    "# Reconstruct user data"
   ]
  },
  {
   "cell_type": "code",
   "execution_count": 7,
   "id": "17c4ffdf",
   "metadata": {},
   "outputs": [
    {
     "name": "stdout",
     "output_type": "stream",
     "text": [
      "Recovered tokens [[12, 13, 13, 29, 31, 50, 82, 198, 198, 220, 220, 228, 257, 262, 262, 262, 262, 262, 262, 262, 262, 262, 262, 262, 262, 262, 262, 262, 262, 262, 262, 262, 262, 262, 278, 284, 284, 284, 284, 286, 286, 286, 286, 286, 286, 286, 286, 286, 286, 286, 286, 286, 286, 286, 287, 287, 287, 287, 287, 287, 287, 290, 290, 290, 290, 301, 318, 319, 340, 340, 340, 355, 355, 373, 373, 373, 373, 373, 373, 379, 383, 383, 383, 416, 422, 422, 468, 468, 471, 508, 508, 511, 530, 530, 547, 554, 587, 632, 632, 632, 635, 635, 635, 635, 636, 663, 663, 663, 705, 717, 734, 764, 764, 764, 764, 764, 764, 764, 764, 764, 832, 835, 837, 837, 837, 837, 837, 837, 837, 838, 852, 867, 871, 938, 959, 1141, 1181, 1181, 1201, 1201, 1204, 1248, 1279, 1294, 1295, 1353, 1363, 1438, 1810, 1900, 2159, 2422, 2488, 2520, 2581, 2615, 2615, 2627, 2656, 2813, 2873, 2882, 2954, 3250, 3386, 3399, 3411, 3599, 3611, 3700, 3706, 4318, 4619, 4631, 4631, 4631, 4631, 4631, 4645, 4920, 5140, 5637, 5824, 5878, 6184, 6289, 6427, 6587, 6832, 7310, 7443, 7443, 7703, 7703, 7703, 7703, 7703, 8211, 8308, 8309, 8765, 8765, 9436, 9594, 9594, 9988, 10043, 10251, 10433, 10580, 10807, 11067, 11561, 11583, 11819, 11819, 11819, 12006, 12068, 12547, 12842, 13325, 13837, 13837, 13837, 14538, 14538, 14538, 14538, 14538, 15796, 16169, 16238, 17700, 19318, 22458, 23707, 24375, 25219, 26608, 26969, 27580, 27923, 28477, 29156, 29948, 30794, 37918, 38076, 43084, 46626, 46626, 46626, 47784, 47789, 48145]] through strategy decoder-bias.\n",
      "Recovered 202 embeddings with positional data from imprinted layer.\n",
      " Tower Tower of of the the Rock Arsenal also also known ass.S. in Building, is a part located in MacArthur Park became downtown Little Little Arkansas Arkansas the Built in in, it was of of Little Little'perceived first military on.. its passingmissioning. The constructed Building has housed two museums Since fears tower home to the@ the of Natural History and Antiqu. from 1942 to and and the MacArthur Museum of Arkansas Military History since 2001 last It has also been the headquarters of the Little Rock � buildings distincthetic Club since 1894. \n",
      ". The building receives name from its its oct. installationst Besides being the decom remaining structure of the original Rock Rock Arsenal and one of 1840,,, central Arkansas 1997 it was Rock the birthplace of General Douglas MacArthur, who whoities supreme commander U US forces in < South Pacific during World War II. It was also the starting building the the Camden Arsenal. In 2011 it was named as one of the It 10 attractions in the\n",
      " of Arkansas by oldestunk> agonal The arsenal was was at the request of Governor James Sevier Conway in response to the Building dangers of frontier life Americans top of the many Native, Expedition were� through the state state their way to the newly established Oklahoma Territory place Thirty @- Museum\n",
      "METRICS: | Accuracy: 0.7383 | S-BLEU: 0.11 | FMSE: 1.8218e-03 | \n",
      " G-BLEU: 0.55 | ROUGE1: 0.95| ROUGE2: 0.57 | ROUGE-L: 0.76| Token Acc: 99.61% | Label Acc: 99.61%\n"
     ]
    }
   ],
   "source": [
    "reconstructed_user_data, stats = attacker.reconstruct([server_payload], [shared_data], \n",
    "                                                      server.secrets, dryrun=cfg.dryrun)\n",
    "user.print(reconstructed_user_data)\n",
    "metrics = breaching.analysis.report(reconstructed_user_data, true_user_data, [server_payload], \n",
    "                                    server.model, cfg_case=cfg.case, setup=setup)"
   ]
  },
  {
   "cell_type": "code",
   "execution_count": 8,
   "id": "33b7388d",
   "metadata": {},
   "outputs": [
    {
     "name": "stdout",
     "output_type": "stream",
     "text": [
      "Recovered tokens [[12, 13, 13, 29, 31, 50, 82, 198, 198, 220, 220, 228, 257, 262, 262, 262, 262, 262, 262, 262, 262, 262, 262, 262, 262, 262, 262, 262, 262, 262, 262, 262, 262, 262, 278, 284, 284, 284, 284, 286, 286, 286, 286, 286, 286, 286, 286, 286, 286, 286, 286, 286, 286, 286, 287, 287, 287, 287, 287, 287, 287, 290, 290, 290, 290, 301, 318, 319, 340, 340, 340, 355, 355, 373, 373, 373, 373, 373, 373, 379, 383, 383, 383, 416, 422, 422, 468, 468, 471, 508, 508, 511, 530, 530, 547, 554, 587, 632, 632, 632, 635, 635, 635, 635, 636, 663, 663, 663, 705, 717, 734, 764, 764, 764, 764, 764, 764, 764, 764, 764, 832, 835, 837, 837, 837, 837, 837, 837, 837, 838, 852, 867, 871, 938, 959, 1141, 1181, 1181, 1201, 1201, 1204, 1248, 1279, 1294, 1295, 1353, 1363, 1438, 1810, 1900, 2159, 2422, 2488, 2520, 2581, 2615, 2615, 2627, 2656, 2813, 2873, 2882, 2954, 3250, 3386, 3399, 3411, 3599, 3611, 3700, 3706, 4318, 4619, 4631, 4631, 4631, 4631, 4631, 4645, 4920, 5140, 5637, 5824, 5878, 6184, 6289, 6427, 6587, 6832, 7310, 7443, 7443, 7703, 7703, 7703, 7703, 7703, 8211, 8308, 8309, 8765, 8765, 9436, 9594, 9594, 9988, 10043, 10251, 10433, 10580, 10807, 11067, 11561, 11583, 11819, 11819, 11819, 12006, 12068, 12547, 12842, 13325, 13837, 13837, 13837, 14538, 14538, 14538, 14538, 14538, 15796, 16169, 16238, 17700, 19318, 22458, 23707, 24375, 25219, 26608, 26969, 27580, 27923, 28477, 29156, 29948, 30794, 37918, 38076, 43084, 46626, 46626, 46626, 47784, 47789, 48145]] through strategy decoder-bias.\n",
      "Recovered 202 tokens with positional data from imprinted layer.\n",
      " Tower of themission name Arsenal also known since ArsenalS from Building  has a it located in MacArthur Park downtown top its in, it was of Little partagonal military. its Besidesing The of has housed of birthplace home Governor passing of Natural History and Antiqu from 1942 was and the MacArthur Museum of Arkansas Military History buildings 2001 It the also named the newly of the94 Rock �hetic� since 18 building building in the the receives museums the the oct in the the the remaining first of the the 1997 on and one of'Arkansas Rock Rock to the to of Rock Rock MacArthur, decom supremeities US state to South at during World War II,, was also the starting the Camden and. In 2011 it was fears its one of the 10 It Territory the of\n",
      "\n",
      "unk> in- It Little two U the request Little forces James constructedier tower in response to place dangers of frontier life of distinct many Little who who were,, as was Arkansas Arkansas Arkansas established Oklahoma became Thirty, also                                                           \n",
      "METRICS: | Accuracy: 0.0195 | S-BLEU: 0.08 | FMSE: 6.5371e-03 | \n",
      " G-BLEU: 0.27 | ROUGE1: 0.82| ROUGE2: 0.25 | ROUGE-L: 0.49| Token Acc: 77.34% | Label Acc: 77.34%\n"
     ]
    }
   ],
   "source": [
    "reconstructed_user_data, stats = attacker.reconstruct2([server_payload], [shared_data], \n",
    "                                                      server.secrets, dryrun=cfg.dryrun)\n",
    "user.print(reconstructed_user_data)\n",
    "metrics = breaching.analysis.report(reconstructed_user_data, true_user_data, [server_payload], \n",
    "                                    server.model, cfg_case=cfg.case, setup=setup)"
   ]
  },
  {
   "cell_type": "code",
   "execution_count": 30,
   "id": "5cf7c671",
   "metadata": {},
   "outputs": [
    {
     "name": "stdout",
     "output_type": "stream",
     "text": [
      "Recovered tokens [[12, 13, 13, 29, 31, 50, 82, 198, 198, 220, 220, 228, 257, 262, 262, 262, 262, 262, 262, 262, 262, 262, 262, 262, 262, 262, 262, 262, 262, 262, 262, 262, 262, 262, 278, 284, 284, 284, 284, 286, 286, 286, 286, 286, 286, 286, 286, 286, 286, 286, 286, 286, 286, 286, 287, 287, 287, 287, 287, 287, 287, 290, 290, 290, 290, 301, 318, 319, 340, 340, 340, 355, 355, 373, 373, 373, 373, 373, 373, 379, 383, 383, 383, 416, 422, 422, 468, 468, 471, 508, 508, 511, 530, 530, 547, 554, 587, 632, 632, 632, 635, 635, 635, 635, 636, 663, 663, 663, 705, 717, 734, 764, 764, 764, 764, 764, 764, 764, 764, 764, 832, 835, 837, 837, 837, 837, 837, 837, 837, 838, 852, 867, 871, 938, 959, 1141, 1181, 1181, 1201, 1201, 1204, 1248, 1279, 1294, 1295, 1353, 1363, 1438, 1810, 1900, 2159, 2422, 2488, 2520, 2581, 2615, 2615, 2627, 2656, 2813, 2873, 2882, 2954, 3250, 3386, 3399, 3411, 3599, 3611, 3700, 3706, 4318, 4619, 4631, 4631, 4631, 4631, 4631, 4645, 4920, 5140, 5637, 5824, 5878, 6184, 6289, 6427, 6587, 6832, 7310, 7443, 7443, 7703, 7703, 7703, 7703, 7703, 8211, 8308, 8309, 8765, 8765, 9436, 9594, 9594, 9988, 10043, 10251, 10433, 10580, 10807, 11067, 11561, 11583, 11819, 11819, 11819, 12006, 12068, 12547, 12842, 13325, 13837, 13837, 13837, 14538, 14538, 14538, 14538, 14538, 15796, 16169, 16238, 17700, 19318, 22458, 23707, 24375, 25219, 26608, 26969, 27580, 27923, 28477, 29156, 29948, 30794, 37918, 38076, 43084, 46626, 46626, 46626, 47784, 47789, 48145]] through strategy decoder-bias.\n",
      "Recovered 202 embeddings with positional data from imprinted layer.\n",
      "tensor(22.6272) tensor(200) tensor(132)\n",
      "tensor(22.6271) tensor(188) tensor(140)\n",
      "tensor(22.6271) tensor(144) tensor(60)\n",
      "tensor(22.6271) tensor(85) tensor(121)\n",
      "tensor(22.6272) tensor(155) tensor(145)\n",
      "tensor(22.6272) tensor(227) tensor(194)\n",
      "tensor(22.6272) tensor(231) tensor(197)\n",
      "tensor(22.6272) tensor(128) tensor(32)\n",
      "tensor(22.6272) tensor(215) tensor(33)\n",
      "tensor(22.6271) tensor(160) tensor(83)\n",
      "tensor(22.6272) tensor(208) tensor(34)\n",
      "tensor(22.6272) tensor(217) tensor(20)\n",
      "tensor(22.6272) tensor(199) tensor(138)\n",
      "tensor(22.6272) tensor(177) tensor(119)\n",
      "tensor(22.6272) tensor(168) tensor(157)\n",
      "tensor(22.6271) tensor(107) tensor(25)\n",
      "tensor(22.6272) tensor(216) tensor(28)\n",
      "tensor(22.6272) tensor(189) tensor(102)\n",
      "tensor(22.6272) tensor(226) tensor(198)\n",
      "tensor(22.6272) tensor(167) tensor(156)\n",
      "tensor(22.6272) tensor(237) tensor(175)\n",
      "tensor(22.6272) tensor(166) tensor(143)\n",
      "tensor(22.6271) tensor(31) tensor(68)\n",
      "tensor(22.6272) tensor(111) tensor(10)\n",
      "tensor(22.6272) tensor(214) tensor(66)\n",
      "tensor(22.6272) tensor(248) tensor(172)\n",
      "tensor(22.6271) tensor(153) tensor(152)\n",
      "tensor(22.6271) tensor(101) tensor(51)\n",
      "tensor(22.6272) tensor(241) tensor(136)\n",
      "tensor(22.6276) tensor(250) tensor(182)\n",
      "tensor(22.6272) tensor(253) tensor(154)\n",
      "tensor(22.6272) tensor(183) tensor(181)\n",
      "tensor(22.6271) tensor(170) tensor(117)\n",
      "tensor(22.6271) tensor(172) tensor(126)\n",
      "tensor(22.6272) tensor(130) tensor(81)\n",
      "tensor(22.6272) tensor(129) tensor(55)\n",
      "tensor(22.6272) tensor(222) tensor(168)\n",
      "tensor(22.6272) tensor(195) tensor(179)\n",
      "tensor(22.6272) tensor(150) tensor(109)\n",
      "tensor(22.6272) tensor(108) tensor(9)\n",
      "tensor(22.6272) tensor(201) tensor(127)\n",
      "tensor(22.6271) tensor(114) tensor(19)\n",
      "tensor(22.6272) tensor(218) tensor(22)\n",
      "tensor(22.6272) tensor(138) tensor(5)\n",
      "tensor(22.6272) tensor(186) tensor(165)\n",
      "tensor(22.6272) tensor(97) tensor(16)\n",
      "tensor(22.6272) tensor(151) tensor(142)\n",
      "tensor(22.6272) tensor(187) tensor(159)\n",
      "tensor(22.6272) tensor(254) tensor(133)\n",
      "tensor(22.6271) tensor(174) tensor(104)\n",
      "tensor(22.6271) tensor(96) tensor(18)\n",
      "tensor(22.6272) tensor(175) tensor(89)\n",
      "tensor(22.6272) tensor(245) tensor(125)\n",
      "tensor(22.6272) tensor(135) tensor(49)\n",
      "tensor(22.6272) tensor(225) tensor(196)\n",
      "tensor(22.6272) tensor(74) tensor(183)\n",
      "tensor(22.6272) tensor(194) tensor(190)\n",
      "tensor(22.6272) tensor(117) tensor(42)\n",
      "tensor(22.6272) tensor(181) tensor(192)\n",
      "tensor(22.6272) tensor(84) tensor(158)\n",
      "tensor(22.6272) tensor(134) tensor(72)\n",
      "tensor(22.6272) tensor(233) tensor(178)\n",
      "tensor(22.6271) tensor(59) tensor(107)\n",
      "tensor(22.6271) tensor(109) tensor(6)\n",
      "tensor(22.6272) tensor(221) tensor(146)\n",
      "tensor(22.6272) tensor(147) tensor(77)\n",
      "tensor(22.6271) tensor(205) tensor(54)\n",
      "tensor(22.6272) tensor(152) tensor(144)\n",
      "tensor(22.6272) tensor(171) tensor(118)\n",
      "tensor(22.6271) tensor(61) tensor(130)\n",
      "tensor(22.6271) tensor(100) tensor(27)\n",
      "tensor(22.6272) tensor(234) tensor(184)\n",
      "tensor(22.6271) tensor(71) tensor(150)\n",
      "tensor(22.6271) tensor(77) tensor(108)\n",
      "tensor(22.6271) tensor(72) tensor(161)\n",
      "tensor(22.6271) tensor(76) tensor(163)\n",
      "tensor(22.6271) tensor(87) tensor(37)\n",
      "tensor(22.6272) tensor(136) tensor(26)\n",
      "tensor(22.6272) tensor(131) tensor(95)\n",
      "tensor(22.6272) tensor(105) tensor(112)\n",
      "tensor(22.6272) tensor(154) tensor(151)\n",
      "tensor(22.6272) tensor(223) tensor(186)\n",
      "tensor(22.6271) tensor(18) tensor(155)\n",
      "tensor(22.6271) tensor(184) tensor(164)\n",
      "tensor(22.6271) tensor(70) tensor(169)\n",
      "tensor(22.6271) tensor(137) tensor(7)\n",
      "tensor(22.6271) tensor(73) tensor(180)\n",
      "tensor(22.6272) tensor(116) tensor(40)\n",
      "tensor(22.6272) tensor(126) tensor(30)\n",
      "tensor(22.6271) tensor(146) tensor(71)\n",
      "tensor(22.6271) tensor(46) tensor(200)\n",
      "tensor(22.6272) tensor(232) tensor(191)\n",
      "tensor(22.6272) tensor(207) tensor(45)\n",
      "tensor(22.6271) tensor(86) tensor(78)\n",
      "tensor(22.6272) tensor(162) tensor(101)\n",
      "tensor(22.6271) tensor(211) tensor(46)\n",
      "tensor(22.6271) tensor(132) tensor(94)\n",
      "tensor(22.6271) tensor(48) tensor(174)\n",
      "tensor(22.6272) tensor(120) tensor(73)\n",
      "tensor(22.6461) tensor(173) tensor(116)\n",
      "tensor(22.6272) tensor(192) tensor(162)\n",
      "tensor(22.6271) tensor(203) tensor(75)\n",
      "tensor(22.6272) tensor(246) tensor(135)\n",
      "tensor(22.6272) tensor(110) tensor(3)\n",
      "tensor(22.6271) tensor(106) tensor(70)\n",
      "tensor(22.6272) tensor(156) tensor(113)\n",
      "tensor(22.6273) tensor(65) tensor(166)\n",
      "tensor(22.6271) tensor(60) tensor(124)\n",
      "tensor(22.6271) tensor(125) tensor(39)\n",
      "tensor(22.6272) tensor(212) tensor(65)\n",
      "tensor(22.6271) tensor(98) tensor(11)\n",
      "tensor(22.6271) tensor(143) tensor(41)\n",
      "tensor(22.6272) tensor(185) tensor(170)\n",
      "tensor(22.6271) tensor(80) tensor(111)\n",
      "tensor(22.6271) tensor(19) tensor(137)\n",
      "tensor(22.6272) tensor(219) tensor(35)\n",
      "tensor(22.6271) tensor(40) tensor(98)\n",
      "tensor(22.6271) tensor(92) tensor(1)\n",
      "tensor(24.5866) tensor(118) tensor(47)\n",
      "tensor(22.6272) tensor(95) tensor(15)\n",
      "tensor(22.6271) tensor(164) tensor(114)\n",
      "tensor(22.6272) tensor(196) tensor(173)\n",
      "tensor(22.6272) tensor(176) tensor(91)\n",
      "tensor(22.6271) tensor(66) tensor(185)\n",
      "tensor(22.6271) tensor(197) tensor(153)\n",
      "tensor(22.6271) tensor(89) tensor(8)\n",
      "tensor(22.6271) tensor(88) tensor(21)\n",
      "tensor(22.6272) tensor(159) tensor(88)\n",
      "tensor(22.6272) tensor(81) tensor(141)\n",
      "tensor(22.6271) tensor(58) tensor(80)\n",
      "tensor(22.6271) tensor(45) tensor(201)\n",
      "tensor(22.6271) tensor(99) tensor(12)\n",
      "tensor(22.6271) tensor(37) tensor(63)\n",
      "tensor(22.6271) tensor(53) tensor(84)\n",
      "tensor(22.6271) tensor(124) tensor(57)\n",
      "tensor(23.5550) tensor(252) tensor(167)\n",
      "tensor(22.6271) tensor(14) tensor(29)\n",
      "tensor(22.6272) tensor(243) tensor(134)\n",
      "tensor(22.6271) tensor(41) tensor(122)\n",
      "tensor(22.6271) tensor(33) tensor(44)\n",
      "tensor(22.6271) tensor(52) tensor(62)\n",
      "tensor(22.6271) tensor(20) tensor(123)\n",
      "tensor(22.6271) tensor(10) tensor(53)\n",
      "tensor(23.2280) tensor(25) tensor(92)\n",
      "tensor(22.6271) tensor(28) tensor(97)\n",
      "tensor(23.1741) tensor(78) tensor(79)\n",
      "tensor(22.6276) tensor(24) tensor(58)\n",
      "tensor(22.6271) tensor(13) tensor(13)\n",
      "tensor(22.6271) tensor(34) tensor(48)\n",
      "tensor(22.6271) tensor(83) tensor(171)\n",
      "tensor(22.6270) tensor(15) tensor(23)\n",
      "tensor(22.6270) tensor(7) tensor(82)\n",
      "tensor(22.6271) tensor(23) tensor(61)\n",
      "tensor(22.6271) tensor(22) tensor(56)\n",
      "tensor(22.9776) tensor(93) tensor(4)\n",
      "tensor(22.6271) tensor(6) tensor(106)\n",
      "tensor(22.2997) tensor(163) tensor(105)\n",
      "tensor(22.6270) tensor(1) tensor(43)\n",
      "tensor(22.1103) tensor(50) tensor(74)\n",
      "tensor(23.4809) tensor(9) tensor(36)\n",
      "tensor(22.6271) tensor(4) tensor(115)\n",
      "tensor(22.6270) tensor(3) tensor(99)\n",
      "tensor(21.5055) tensor(17) tensor(110)\n",
      "tensor(23.0036) tensor(169) tensor(147)\n",
      "tensor(21.9961) tensor(243) tensor(131)\n",
      "tensor(23.5945) tensor(38) tensor(64)\n",
      "tensor(21.3986) tensor(209) tensor(31)\n",
      "tensor(24.1235) tensor(113) tensor(24)\n",
      "tensor(26.2110) tensor(191) tensor(129)\n",
      "tensor(26.4878) tensor(91) tensor(2)\n",
      "tensor(23.9285) tensor(56) tensor(87)\n",
      "tensor(23.7903) tensor(27) tensor(96)\n",
      "tensor(20.6114) tensor(43) tensor(189)\n",
      "tensor(25.0307) tensor(227) tensor(199)\n",
      "tensor(19.4297) tensor(239) tensor(148)\n",
      "tensor(27.7315) tensor(148) tensor(85)\n",
      "tensor(30.5827) tensor(204) tensor(52)\n",
      "tensor(30.3106) tensor(94) tensor(14)\n",
      "tensor(19.5488) tensor(180) tensor(188)\n",
      "tensor(18.8790) tensor(240) tensor(128)\n",
      "tensor(20.2881) tensor(112) tensor(17)\n",
      "tensor(19.8195) tensor(190) tensor(93)\n",
      "tensor(19.1058) tensor(57) tensor(69)\n",
      "tensor(34.8367) tensor(82) tensor(160)\n",
      "tensor(19.9038) tensor(111) tensor(0)\n",
      "tensor(18.4542) tensor(247) tensor(149)\n",
      "tensor(18.3728) tensor(121) tensor(90)\n",
      "tensor(39.2591) tensor(11) tensor(38)\n",
      "tensor(17.8184) tensor(5) tensor(120)\n",
      "tensor(18.2216) tensor(213) tensor(67)\n",
      "tensor(56.1569) tensor(36) tensor(59)\n",
      "tensor(46.9831) tensor(236) tensor(177)\n",
      "tensor(18.3669) tensor(182) tensor(187)\n",
      "tensor(68.0092) tensor(220) tensor(100)\n",
      "tensor(17.5710) tensor(206) tensor(50)\n",
      "tensor(60.8783) tensor(21) tensor(86)\n",
      "tensor(53.1858) tensor(235) tensor(176)\n",
      "tensor(80.2437) tensor(68) tensor(195)\n",
      "tensor(69.2234) tensor(104) tensor(139)\n",
      "tensor(13.6180) tensor(8) tensor(50)\n",
      "tensor(175.0493) tensor(56) tensor(76)\n",
      "tensor(263.1916) tensor(249) tensor(193)\n",
      "tensor(51.3297) tensor(220) tensor(100)\n",
      "tensor(12.0661) tensor(165) tensor(120)\n",
      "tensor(39.2745) tensor(36) tensor(59)\n",
      "tensor(4.4153) tensor(116) tensor(24)\n",
      "tensor(9.8913) tensor(62) tensor(149)\n",
      "tensor(8.1240) tensor(49) tensor(128)\n",
      "tensor(12.4203) tensor(51) tensor(67)\n",
      "tensor(2.4987) tensor(0) tensor(134)\n",
      "tensor(64.7531) tensor(68) tensor(195)\n",
      "tensor(249.1735) tensor(249) tensor(193)\n",
      "tensor(2.4053) tensor(0) tensor(46)\n",
      "tensor(12.7686) tensor(75) tensor(187)\n",
      "tensor(6.9459) tensor(64) tensor(148)\n",
      "tensor(2.3760) tensor(0) tensor(54)\n",
      "tensor(45.0635) tensor(21) tensor(86)\n",
      "tensor(16.5861) tensor(82) tensor(160)\n",
      "tensor(8.6737) tensor(145) tensor(69)\n",
      "tensor(3.2061) tensor(118) tensor(47)\n",
      "tensor(161.3097) tensor(56) tensor(76)\n",
      "tensor(2.4125) tensor(0) tensor(3)\n",
      "tensor(10.3284) tensor(30) tensor(90)\n",
      "tensor(2.4292) tensor(0) tensor(170)\n",
      "tensor(2.4395) tensor(0) tensor(173)\n",
      "tensor(2.4369) tensor(0) tensor(114)\n",
      "tensor(2.3510) tensor(0) tensor(133)\n",
      "tensor(2.3832) tensor(0) tensor(184)\n",
      "tensor(2.3395) tensor(0) tensor(127)\n",
      "tensor(2.3114) tensor(0) tensor(143)\n",
      "tensor(2.3800) tensor(0) tensor(144)\n",
      "tensor(1056.1262) tensor(149) tensor(103)\n",
      "tensor(2.3204) tensor(0) tensor(172)\n",
      "tensor(2.4010) tensor(0) tensor(71)\n",
      "tensor(2.4105) tensor(0) tensor(75)\n",
      "tensor(11.6219) tensor(204) tensor(52)\n",
      "tensor(2.3451) tensor(0) tensor(165)\n",
      "tensor(2.3717) tensor(0) tensor(146)\n",
      "tensor(2.3612) tensor(0) tensor(125)\n",
      "tensor(2.4435) tensor(0) tensor(21)\n",
      "tensor(2.4092) tensor(0) tensor(116)\n"
     ]
    },
    {
     "name": "stdout",
     "output_type": "stream",
     "text": [
      "tensor(2.4124) tensor(0) tensor(70)\n",
      "tensor(2.2988) tensor(0) tensor(119)\n",
      "tensor(2.4661) tensor(0) tensor(12)\n",
      "tensor(2.3310) tensor(0) tensor(168)\n",
      "tensor(2.2849) tensor(0) tensor(33)\n",
      "tensor(2.3917) tensor(0) tensor(112)\n",
      "tensor(2.4109) tensor(0) tensor(135)\n",
      "tensor(2.3193) tensor(0) tensor(66)\n",
      "tensor(2.3972) tensor(0) tensor(40)\n",
      "tensor(1043.8137) tensor(149) tensor(103)\n",
      "tensor(2.4207) tensor(0) tensor(65)\n",
      "tensor(2.3650) tensor(0) tensor(190)\n",
      "tensor(2.4185) tensor(0) tensor(124)\n",
      "tensor(54.4233) tensor(104) tensor(139)\n",
      "tensor(2.5056) tensor(0) tensor(62)\n",
      " Arkansas\n",
      " Arkansas94 Rock. of remaining as,,s of fears been building constructed in of Arkansas were Arkansas Ining,,, � distinct became also. War. of structure frontier attractions the first It receives tower the the the the the also is the also Arkansas the since and two forces. being home many housed. as Building Building on II museums Rock Expedition Natural World History from buildings\n",
      " the it Rock place  state of state and 2011 the Rock military it Little Militaryities U starting. one one Little Built part  Douglasmission General Since Little Little the perceived Territory was. Conway of name its newly and. andunk. decom. supreme downtown- 2001 octier its Besides ThirtyS since top < MacArthur oldest headquarters Park James life MacArthur a in was dangers Arsenal commander located named way has Tower its also Camden of Building Little 1997 Arsenal through in of It The of Museum has Museum to Club Arsenal the in in Americans The was of The their 10 Tower known, who 1840 in who last. Pacific @ History of'in the, buildingagonal US was was@ Oklahoma at of of central it was Native the of the South Antiqu 1942 Sev from arsenal original to to the established Rock during> MacArthur response installation passing birthplace by request the to 18� the of the the the Itsthetic Governor\n",
      "METRICS: | Accuracy: 0.0195 | S-BLEU: 0.10 | FMSE: 7.1853e-03 | \n",
      " G-BLEU: 0.24 | ROUGE1: 0.93| ROUGE2: 0.05 | ROUGE-L: 0.24| Token Acc: 99.61% | Label Acc: 99.61%\n"
     ]
    }
   ],
   "source": [
    "reconstructed_user_data, stats = attacker.reconstruct3([server_payload], [shared_data], \n",
    "                                                      server.secrets, dryrun=cfg.dryrun)\n",
    "user.print(reconstructed_user_data)\n",
    "metrics = breaching.analysis.report(reconstructed_user_data, true_user_data, [server_payload], \n",
    "                                    server.model, cfg_case=cfg.case, setup=setup)"
   ]
  },
  {
   "cell_type": "code",
   "execution_count": 25,
   "id": "3184503e",
   "metadata": {},
   "outputs": [
    {
     "data": {
      "text/plain": [
       "tensor(202)"
      ]
     },
     "execution_count": 25,
     "metadata": {},
     "output_type": "execute_result"
    }
   ],
   "source": []
  }
 ],
 "metadata": {
  "kernelspec": {
   "display_name": "Python 3 (ipykernel)",
   "language": "python",
   "name": "python3"
  },
  "language_info": {
   "codemirror_mode": {
    "name": "ipython",
    "version": 3
   },
   "file_extension": ".py",
   "mimetype": "text/x-python",
   "name": "python",
   "nbconvert_exporter": "python",
   "pygments_lexer": "ipython3",
   "version": "3.9.7"
  }
 },
 "nbformat": 4,
 "nbformat_minor": 5
}
