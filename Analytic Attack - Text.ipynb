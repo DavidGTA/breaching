{
 "cells": [
  {
   "cell_type": "markdown",
   "id": "3ebef44a",
   "metadata": {},
   "source": [
    "# Breaching privacy"
   ]
  },
  {
   "cell_type": "markdown",
   "id": "a756fc5f",
   "metadata": {},
   "source": [
    "This notebook does the same job as the cmd-line tool `simulate_breach.py`, but also directly visualizes the user data and reconstruction"
   ]
  },
  {
   "cell_type": "code",
   "execution_count": 1,
   "id": "b850eabf",
   "metadata": {},
   "outputs": [],
   "source": [
    "import torch\n",
    "import hydra\n",
    "from omegaconf import OmegaConf\n",
    "%load_ext autoreload\n",
    "%autoreload 2\n",
    "\n",
    "import breaching\n",
    "import logging, sys\n",
    "logging.basicConfig(level=logging.INFO, handlers=[logging.StreamHandler(sys.stdout)], format='%(message)s')\n",
    "logger = logging.getLogger()"
   ]
  },
  {
   "cell_type": "markdown",
   "id": "88d5e214",
   "metadata": {},
   "source": [
    "### Initialize cfg object and system setup:"
   ]
  },
  {
   "cell_type": "markdown",
   "id": "56bd663b",
   "metadata": {},
   "source": [
    "This will print out all configuration options. \n",
    "There are a lot of possible configurations, but there is usually no need to worry about most of these. Below, a few options are printed."
   ]
  },
  {
   "cell_type": "markdown",
   "id": "26070d66",
   "metadata": {},
   "source": [
    "Choose `case/data=` `shakespeare`, `wikitext`over `stackoverflow` here:"
   ]
  },
  {
   "cell_type": "code",
   "execution_count": 2,
   "id": "a7dc3a48",
   "metadata": {},
   "outputs": [
    {
     "name": "stdout",
     "output_type": "stream",
     "text": [
      "Investigating use case single_imagenet with server type malicious_transformer_parameters.\n"
     ]
    },
    {
     "data": {
      "text/plain": [
       "{'device': device(type='cpu'), 'dtype': torch.float32}"
      ]
     },
     "execution_count": 2,
     "metadata": {},
     "output_type": "execute_result"
    }
   ],
   "source": [
    "with hydra.initialize(config_path=\"config\"):\n",
    "    cfg = hydra.compose(config_name='cfg', overrides=[\"case/data=wikitext\", \"case/server=malicious-transformer\",\n",
    "                                                      \"case.model=transformer3\",\n",
    "                                                      \"attack=decepticon\"])\n",
    "    print(f'Investigating use case {cfg.case.name} with server type {cfg.case.server.name}.')\n",
    "          \n",
    "device = torch.device('cpu')\n",
    "torch.backends.cudnn.benchmark = cfg.case.impl.benchmark\n",
    "setup = dict(device=device, dtype=torch.float)\n",
    "setup"
   ]
  },
  {
   "cell_type": "markdown",
   "id": "203c5fb1",
   "metadata": {},
   "source": [
    "### Modify config options here"
   ]
  },
  {
   "cell_type": "markdown",
   "id": "6e0764ef",
   "metadata": {},
   "source": [
    "You can use `.attribute` access to modify any of these configurations:"
   ]
  },
  {
   "cell_type": "code",
   "execution_count": 3,
   "id": "ac118ea0",
   "metadata": {},
   "outputs": [],
   "source": [
    "cfg.case.user.num_data_points = 8 # How many sentences?\n",
    "cfg.case.user.user_idx = 1 # From which user?\n",
    "cfg.case.data.shape = [32] # This is the sequence length\n",
    "\n",
    "cfg.case.server.has_external_data = True\n",
    "cfg.case.data.tokenizer = \"gpt2\"\n",
    "\n",
    "cfg.case.server.param_modification.eps=1e-4\n",
    "\n",
    "cfg.attack.impl.dtype=\"double\"\n",
    "\n",
    "\n",
    "# cfg.attack.token_strategy=\"embedding-norm\"\n",
    "# cfg.case.server.param_modification.v_length = 32\n",
    "\n",
    "# cfg.case.server.param_modification.eps = 1e-16\n",
    "# cfg.case.server.param_modification.imprint_sentence_position = 0\n",
    "# cfg.case.server.param_modification.softmax_skew = 100000000\n",
    "# cfg.case.server.param_modification.sequence_token_weight = 1"
   ]
  },
  {
   "cell_type": "markdown",
   "id": "76f64389",
   "metadata": {},
   "source": [
    "### Instantiate all parties"
   ]
  },
  {
   "cell_type": "code",
   "execution_count": 4,
   "id": "30235b0c",
   "metadata": {},
   "outputs": [
    {
     "name": "stdout",
     "output_type": "stream",
     "text": [
      "Reusing dataset wikitext (/home/jonas/data/wikitext/wikitext-103-v1/1.0.0/a241db52902eaf2c6aa732210bead40c090019a499ceb13bcbfa3f8ab646a126)\n",
      "Reusing dataset wikitext (/home/jonas/data/wikitext/wikitext-103-v1/1.0.0/a241db52902eaf2c6aa732210bead40c090019a499ceb13bcbfa3f8ab646a126)\n",
      "Model architecture transformer3 loaded with 10,800,433 parameters and 0 buffers.\n",
      "Overall this is a data ratio of    2637:1 for target shape [8, 512] given that num_queries=1.\n",
      "User (of type UserSingleStep) with settings:\n",
      "    Number of data points: 8\n",
      "\n",
      "    Threat model:\n",
      "    User provides labels: False\n",
      "    User provides buffers: False\n",
      "    User provides number of data points: True\n",
      "\n",
      "    Data:\n",
      "    Dataset: wikitext\n",
      "    user: 1\n",
      "    \n",
      "        \n",
      "Server (of type MaliciousTransformerServer) with settings:\n",
      "    Threat model: Malicious (Parameters)\n",
      "    Number of planned queries: 1\n",
      "    Has external/public data: True\n",
      "\n",
      "    Model:\n",
      "        model specification: transformer3\n",
      "        model state: default\n",
      "        \n",
      "\n",
      "    Secrets: {}\n",
      "    \n",
      "Attacker (of type DecepticonAttacker).\n"
     ]
    }
   ],
   "source": [
    "user, server, model, loss_fn = breaching.cases.construct_case(cfg.case, setup)\n",
    "attacker = breaching.attacks.prepare_attack(server.model, server.loss, cfg.attack, setup)\n",
    "breaching.utils.overview(server, user, attacker)"
   ]
  },
  {
   "cell_type": "markdown",
   "id": "548c0ad6",
   "metadata": {},
   "source": [
    "### Simulate an attacked FL protocol"
   ]
  },
  {
   "cell_type": "markdown",
   "id": "2058bcc2",
   "metadata": {},
   "source": [
    "True user data is returned only for analysis"
   ]
  },
  {
   "cell_type": "code",
   "execution_count": 5,
   "id": "3f2a2e33",
   "metadata": {},
   "outputs": [
    {
     "name": "stdout",
     "output_type": "stream",
     "text": [
      "Found attention of shape torch.Size([288, 96]).\n",
      "Computing feature distribution before the probe layer Linear(in_features=96, out_features=1536, bias=True) from external data.\n",
      "Feature mean is 0.04341970011591911, feature std is 0.9403561353683472.\n",
      "Computing user update in model mode: eval.\n"
     ]
    }
   ],
   "source": [
    "server_payload = server.distribute_payload()\n",
    "shared_data, true_user_data = user.compute_local_updates(server_payload)"
   ]
  },
  {
   "cell_type": "code",
   "execution_count": 6,
   "id": "69c6ff1f",
   "metadata": {},
   "outputs": [],
   "source": [
    "#user.print(true_user_data)"
   ]
  },
  {
   "cell_type": "markdown",
   "id": "f2867bcc",
   "metadata": {},
   "source": [
    "# Reconstruct user data"
   ]
  },
  {
   "cell_type": "code",
   "execution_count": 7,
   "id": "0a55fe74",
   "metadata": {},
   "outputs": [
    {
     "name": "stdout",
     "output_type": "stream",
     "text": [
      "Recovered tokens tensor([[   11,    12,    13,  ...,  3365,  3378,  3386],\n",
      "        [ 3388,  3389,  3392,  ..., 19683, 19685, 19954],\n",
      "        [  262,   262,   262,  ..., 49889, 50203, 50210],\n",
      "        ...,\n",
      "        [   11,    11,    11,  ..., 49658, 49658, 49658],\n",
      "        [   11,    11,    11,  ..., 49658, 49658, 49658],\n",
      "        [   11,    12,    13,  ..., 48405, 49658, 50210]]) through strategy decoder-bias.\n",
      "Recovered 2677 embeddings with positional data from imprinted layer.\n",
      "Assigned [364, 355, 366, 383, 292, 349, 512, 56] breached embeddings to each sentence.\n",
      "METRICS: | Accuracy: 0.4272 | S-BLEU: 0.17 | FMSE: 2.3029e-01 | \n",
      " G-BLEU: 0.21 | ROUGE1: 0.59| ROUGE2: 0.18 | ROUGE-L: 0.42| Token Acc: 99.37% | Label Acc: 99.37%\n"
     ]
    }
   ],
   "source": [
    "# default hyperparams:\n",
    "\n",
    "attacker.cfg.sentence_algorithm = \"dynamic-threshold\"\n",
    "\n",
    "# Experimental hyperparameters:\n",
    "attacker.cfg.recovery_order = \"positions-first\"\n",
    "\n",
    "attacker.cfg.undivided = False\n",
    "attacker.cfg.separation = \"subtraction\" # alternative: decorrelation\n",
    "attacker.cfg.backfilling = \"global\"\n",
    "attacker.cfg.backfill_removal = None\n",
    "\n",
    "reconstructed_user_data, stats = attacker.reconstruct([server_payload], [shared_data], \n",
    "                                                      server.secrets, dryrun=cfg.dryrun)\n",
    "#user.print(reconstructed_user_data)\n",
    "metrics = breaching.analysis.report(reconstructed_user_data, true_user_data, [server_payload], \n",
    "                                    server.model, cfg_case=cfg.case, setup=setup)"
   ]
  },
  {
   "cell_type": "code",
   "execution_count": 8,
   "id": "d423bf90",
   "metadata": {},
   "outputs": [
    {
     "name": "stdout",
     "output_type": "stream",
     "text": [
      "Recovered tokens tensor([[   11,    12,    13,  ...,  3365,  3378,  3386],\n",
      "        [ 3388,  3389,  3392,  ..., 19683, 19685, 19954],\n",
      "        [  262,   262,   262,  ..., 49889, 50203, 50210],\n",
      "        ...,\n",
      "        [   11,    11,    11,  ..., 49658, 49658, 49658],\n",
      "        [   11,    11,    11,  ..., 49658, 49658, 49658],\n",
      "        [   11,    12,    13,  ..., 48405, 49658, 50210]]) through strategy decoder-bias.\n",
      "Recovered 2677 embeddings with positional data from imprinted layer.\n",
      "Assigned [364, 355, 366, 383, 292, 349, 512, 56] breached embeddings to each sentence.\n",
      "METRICS: | Accuracy: 0.4265 | S-BLEU: 0.16 | FMSE: 2.2698e-01 | \n",
      " G-BLEU: 0.21 | ROUGE1: 0.59| ROUGE2: 0.18 | ROUGE-L: 0.42| Token Acc: 99.37% | Label Acc: 99.37%\n"
     ]
    }
   ],
   "source": [
    "# decorrelation\n",
    "\n",
    "attacker.cfg.sentence_algorithm = \"dynamic-threshold\"\n",
    "\n",
    "# Experimental hyperparameters:\n",
    "attacker.cfg.recovery_order = \"positions-first\"\n",
    "\n",
    "attacker.cfg.undivided = False\n",
    "attacker.cfg.separation = \"decorrelation\" # alternative: decorrelation\n",
    "attacker.cfg.backfilling = \"global\"\n",
    "attacker.cfg.backfill_removal = None\n",
    "\n",
    "# Implementation Details\n",
    "attacker.cfg.impl.dtype = \"float\"\n",
    "\n",
    "reconstructed_user_data, stats = attacker.reconstruct([server_payload], [shared_data], \n",
    "                                                      server.secrets, dryrun=cfg.dryrun)\n",
    "#user.print(reconstructed_user_data)\n",
    "metrics = breaching.analysis.report(reconstructed_user_data, true_user_data, [server_payload], \n",
    "                                    server.model, cfg_case=cfg.case, setup=setup)"
   ]
  },
  {
   "cell_type": "code",
   "execution_count": 9,
   "id": "39758dd8",
   "metadata": {},
   "outputs": [
    {
     "name": "stdout",
     "output_type": "stream",
     "text": [
      "torch.float64\n",
      "Recovered tokens tensor([[   11,    12,    13,  ...,  3365,  3378,  3386],\n",
      "        [ 3388,  3389,  3392,  ..., 19683, 19685, 19954],\n",
      "        [  262,   262,   262,  ..., 49889, 50203, 50210],\n",
      "        ...,\n",
      "        [   11,    11,    11,  ..., 49658, 49658, 49658],\n",
      "        [   11,    11,    11,  ..., 49658, 49658, 49658],\n",
      "        [   11,    12,    13,  ..., 48405, 49658, 50210]]) through strategy decoder-bias.\n",
      "Recovered 2677 embeddings with positional data from imprinted layer.\n",
      "Assigned [289, 330, 300, 350, 381, 329, 350, 348] breached embeddings to each sentence.\n",
      "METRICS: | Accuracy: 0.5779 | S-BLEU: 0.27 | FMSE: 1.5397e-01 | \n",
      " G-BLEU: 0.29 | ROUGE1: 0.64| ROUGE2: 0.30 | ROUGE-L: 0.54| Token Acc: 81.91% | Label Acc: 81.91%\n"
     ]
    }
   ],
   "source": [
    "# optimal hyperparams\n",
    "\n",
    "attacker.cfg.sentence_algorithm = \"k-means\"\n",
    "\n",
    "# Experimental hyperparameters:\n",
    "attacker.cfg.recovery_order = \"tokens-first\"\n",
    "\n",
    "attacker.cfg.undivided = False\n",
    "attacker.cfg.separation = \"decorrelation\" # alternative: decorrelation\n",
    "attacker.cfg.backfilling = \"global\"\n",
    "attacker.cfg.backfill_removal = \"decorrelation\"\n",
    "\n",
    "# Implementation Details\n",
    "print(attacker.setup[\"dtype\"])\n",
    "\n",
    "reconstructed_user_data, stats = attacker.reconstruct([server_payload], [shared_data], \n",
    "                                                      server.secrets, dryrun=cfg.dryrun)\n",
    "#user.print(reconstructed_user_data)\n",
    "metrics = breaching.analysis.report(reconstructed_user_data, true_user_data, [server_payload], \n",
    "                                    server.model, cfg_case=cfg.case, setup=setup)"
   ]
  },
  {
   "cell_type": "code",
   "execution_count": 10,
   "id": "b0364983",
   "metadata": {},
   "outputs": [
    {
     "name": "stdout",
     "output_type": "stream",
     "text": [
      "torch.float64\n",
      "Recovered tokens tensor([[   11,    12,    13,  ...,  3365,  3378,  3386],\n",
      "        [ 3388,  3389,  3392,  ..., 19683, 19685, 19954],\n",
      "        [  262,   262,   262,  ..., 49889, 50203, 50210],\n",
      "        ...,\n",
      "        [   11,    11,    11,  ..., 49658, 49658, 49658],\n",
      "        [   11,    11,    11,  ..., 49658, 49658, 49658],\n",
      "        [   11,    12,    13,  ..., 48405, 49658, 50210]]) through strategy decoder-bias.\n",
      "Recovered 2677 embeddings with positional data from imprinted layer.\n",
      "Assigned [350, 348, 329, 381, 300, 289, 330, 350] breached embeddings to each sentence.\n",
      "METRICS: | Accuracy: 0.5723 | S-BLEU: 0.27 | FMSE: 1.6074e-01 | \n",
      " G-BLEU: 0.29 | ROUGE1: 0.66| ROUGE2: 0.30 | ROUGE-L: 0.55| Token Acc: 85.03% | Label Acc: 85.03%\n"
     ]
    }
   ],
   "source": [
    "# optimal hyperparams?\n",
    "\n",
    "attacker.cfg.sentence_algorithm = \"k-means\"\n",
    "\n",
    "# Experimental hyperparameters:\n",
    "attacker.cfg.recovery_order = \"tokens-first\"\n",
    "\n",
    "attacker.cfg.undivided = False\n",
    "attacker.cfg.separation = \"decorrelation\" # alternative: decorrelation\n",
    "attacker.cfg.backfilling = \"global\"\n",
    "attacker.cfg.backfill_removal = None\n",
    "\n",
    "# Implementation Details\n",
    "print(attacker.setup[\"dtype\"])\n",
    "\n",
    "reconstructed_user_data, stats = attacker.reconstruct([server_payload], [shared_data], \n",
    "                                                      server.secrets, dryrun=cfg.dryrun)\n",
    "#user.print(reconstructed_user_data)\n",
    "metrics = breaching.analysis.report(reconstructed_user_data, true_user_data, [server_payload], \n",
    "                                    server.model, cfg_case=cfg.case, setup=setup)"
   ]
  },
  {
   "cell_type": "code",
   "execution_count": 11,
   "id": "07a84566",
   "metadata": {},
   "outputs": [
    {
     "name": "stdout",
     "output_type": "stream",
     "text": [
      "Recovered tokens tensor([[   11,    12,    13,  ...,  3365,  3378,  3386],\n",
      "        [ 3388,  3389,  3392,  ..., 19683, 19685, 19954],\n",
      "        [  262,   262,   262,  ..., 49889, 50203, 50210],\n",
      "        ...,\n",
      "        [   11,    11,    11,  ..., 49658, 49658, 49658],\n",
      "        [   11,    11,    11,  ..., 49658, 49658, 49658],\n",
      "        [   11,    12,    13,  ..., 48405, 49658, 50210]]) through strategy decoder-bias.\n",
      "Recovered 2677 embeddings with positional data from imprinted layer.\n",
      "Assigned [348, 350, 289, 329, 381, 300, 330, 350] breached embeddings to each sentence.\n",
      "METRICS: | Accuracy: 0.5444 | S-BLEU: 0.23 | FMSE: 1.6852e-01 | \n",
      " G-BLEU: 0.28 | ROUGE1: 0.70| ROUGE2: 0.27 | ROUGE-L: 0.52| Token Acc: 99.37% | Label Acc: 99.37%\n"
     ]
    }
   ],
   "source": [
    "attacker.cfg.sentence_algorithm = \"k-means\"\n",
    "\n",
    "# Experimental hyperparameters:\n",
    "attacker.cfg.recovery_order = \"positions-first\"\n",
    "\n",
    "attacker.cfg.undivided = False\n",
    "attacker.cfg.separation = \"decorrelation\" # alternative: decorrelation\n",
    "attacker.cfg.backfilling = \"local\"\n",
    "attacker.cfg.backfill_removal = \"decorrelation\"\n",
    "\n",
    "reconstructed_user_data, stats = attacker.reconstruct([server_payload], [shared_data], \n",
    "                                                      server.secrets, dryrun=cfg.dryrun)\n",
    "#user.print(reconstructed_user_data)\n",
    "metrics = breaching.analysis.report(reconstructed_user_data, true_user_data, [server_payload], \n",
    "                                    server.model, cfg_case=cfg.case, setup=setup)"
   ]
  },
  {
   "cell_type": "code",
   "execution_count": 12,
   "id": "f444b559",
   "metadata": {},
   "outputs": [
    {
     "name": "stdout",
     "output_type": "stream",
     "text": [
      "Recovered tokens tensor([[   11,    12,    13,  ...,  3365,  3378,  3386],\n",
      "        [ 3388,  3389,  3392,  ..., 19683, 19685, 19954],\n",
      "        [  262,   262,   262,  ..., 49889, 50203, 50210],\n",
      "        ...,\n",
      "        [   11,    11,    11,  ..., 49658, 49658, 49658],\n",
      "        [   11,    11,    11,  ..., 49658, 49658, 49658],\n",
      "        [   11,    12,    13,  ..., 48405, 49658, 50210]]) through strategy decoder-bias.\n",
      "Recovered 2677 embeddings with positional data from imprinted layer.\n",
      "Assigned [348, 289, 300, 329, 330, 381, 350, 350] breached embeddings to each sentence.\n",
      "METRICS: | Accuracy: 0.5608 | S-BLEU: 0.25 | FMSE: 1.6844e-01 | \n",
      " G-BLEU: 0.30 | ROUGE1: 0.71| ROUGE2: 0.29 | ROUGE-L: 0.53| Token Acc: 99.37% | Label Acc: 99.37%\n"
     ]
    }
   ],
   "source": [
    "attacker.cfg.sentence_algorithm = \"k-means\"\n",
    "\n",
    "# Experimental hyperparameters:\n",
    "attacker.cfg.recovery_order = \"positions-first\"\n",
    "\n",
    "attacker.cfg.undivided = False\n",
    "attacker.cfg.separation = \"decorrelation\" # alternative: decorrelation\n",
    "attacker.cfg.backfilling = \"local\"\n",
    "attacker.cfg.backfill_removal = None\n",
    "\n",
    "reconstructed_user_data, stats = attacker.reconstruct([server_payload], [shared_data], \n",
    "                                                      server.secrets, dryrun=cfg.dryrun)\n",
    "#user.print(reconstructed_user_data)\n",
    "metrics = breaching.analysis.report(reconstructed_user_data, true_user_data, [server_payload], \n",
    "                                    server.model, cfg_case=cfg.case, setup=setup)"
   ]
  },
  {
   "cell_type": "code",
   "execution_count": 13,
   "id": "e673421a",
   "metadata": {},
   "outputs": [
    {
     "name": "stdout",
     "output_type": "stream",
     "text": [
      "Recovered tokens tensor([[   11,    12,    13,  ...,  3365,  3378,  3386],\n",
      "        [ 3388,  3389,  3392,  ..., 19683, 19685, 19954],\n",
      "        [  262,   262,   262,  ..., 49889, 50203, 50210],\n",
      "        ...,\n",
      "        [   11,    11,    11,  ..., 49658, 49658, 49658],\n",
      "        [   11,    11,    11,  ..., 49658, 49658, 49658],\n",
      "        [   11,    12,    13,  ..., 48405, 49658, 50210]]) through strategy decoder-bias.\n",
      "Recovered 2677 embeddings with positional data from imprinted layer.\n",
      "Assigned [350, 348, 350, 381, 300, 289, 330, 329] breached embeddings to each sentence.\n",
      "METRICS: | Accuracy: 0.5049 | S-BLEU: 0.20 | FMSE: 1.9429e-01 | \n",
      " G-BLEU: 0.24 | ROUGE1: 0.63| ROUGE2: 0.22 | ROUGE-L: 0.47| Token Acc: 99.37% | Label Acc: 99.37%\n"
     ]
    }
   ],
   "source": [
    "attacker.cfg.sentence_algorithm = \"k-means\"\n",
    "\n",
    "# Experimental hyperparameters:\n",
    "attacker.cfg.recovery_order = \"positions-first\"\n",
    "\n",
    "attacker.cfg.undivided = False\n",
    "attacker.cfg.separation = \"decorrelation\" # alternative: decorrelation\n",
    "attacker.cfg.backfilling = \"global\"\n",
    "attacker.cfg.backfill_removal = None\n",
    "\n",
    "reconstructed_user_data, stats = attacker.reconstruct([server_payload], [shared_data], \n",
    "                                                      server.secrets, dryrun=cfg.dryrun)\n",
    "#user.print(reconstructed_user_data)\n",
    "metrics = breaching.analysis.report(reconstructed_user_data, true_user_data, [server_payload], \n",
    "                                    server.model, cfg_case=cfg.case, setup=setup)"
   ]
  },
  {
   "cell_type": "code",
   "execution_count": 14,
   "id": "cf3afecc",
   "metadata": {},
   "outputs": [
    {
     "name": "stdout",
     "output_type": "stream",
     "text": [
      "Recovered tokens tensor([[   11,    12,    13,  ...,  3365,  3378,  3386],\n",
      "        [ 3388,  3389,  3392,  ..., 19683, 19685, 19954],\n",
      "        [  262,   262,   262,  ..., 49889, 50203, 50210],\n",
      "        ...,\n",
      "        [   11,    11,    11,  ..., 49658, 49658, 49658],\n",
      "        [   11,    11,    11,  ..., 49658, 49658, 49658],\n",
      "        [   11,    12,    13,  ..., 48405, 49658, 50210]]) through strategy decoder-bias.\n",
      "Recovered 2677 embeddings with positional data from imprinted layer.\n",
      "Assigned [330, 329, 381, 289, 350, 300, 350, 348] breached embeddings to each sentence.\n",
      "METRICS: | Accuracy: 0.5564 | S-BLEU: 0.25 | FMSE: 1.6825e-01 | \n",
      " G-BLEU: 0.29 | ROUGE1: 0.69| ROUGE2: 0.28 | ROUGE-L: 0.53| Token Acc: 99.37% | Label Acc: 99.37%\n"
     ]
    }
   ],
   "source": [
    "attacker.cfg.sentence_algorithm = \"k-means\"\n",
    "\n",
    "# Experimental hyperparameters:\n",
    "attacker.cfg.recovery_order = \"positions-first\"\n",
    "\n",
    "attacker.cfg.undivided = False\n",
    "attacker.cfg.separation = \"decorrelation\" # alternative: decorrelation\n",
    "attacker.cfg.backfilling = \"randn\"\n",
    "attacker.cfg.backfill_removal = \"decorrelation\"\n",
    "\n",
    "reconstructed_user_data, stats = attacker.reconstruct([server_payload], [shared_data], \n",
    "                                                      server.secrets, dryrun=cfg.dryrun)\n",
    "#user.print(reconstructed_user_data)\n",
    "metrics = breaching.analysis.report(reconstructed_user_data, true_user_data, [server_payload], \n",
    "                                    server.model, cfg_case=cfg.case, setup=setup)"
   ]
  },
  {
   "cell_type": "code",
   "execution_count": 15,
   "id": "b0dda45c",
   "metadata": {},
   "outputs": [
    {
     "name": "stdout",
     "output_type": "stream",
     "text": [
      "Recovered tokens tensor([[   11,    12,    13,  ...,  3365,  3378,  3386],\n",
      "        [ 3388,  3389,  3392,  ..., 19683, 19685, 19954],\n",
      "        [  262,   262,   262,  ..., 49889, 50203, 50210],\n",
      "        ...,\n",
      "        [   11,    11,    11,  ..., 49658, 49658, 49658],\n",
      "        [   11,    11,    11,  ..., 49658, 49658, 49658],\n",
      "        [   11,    12,    13,  ..., 48405, 49658, 50210]]) through strategy decoder-bias.\n",
      "Recovered 2677 embeddings with positional data from imprinted layer.\n",
      "Assigned [350, 300, 348, 289, 350, 381, 330, 329] breached embeddings to each sentence.\n",
      "METRICS: | Accuracy: 0.5549 | S-BLEU: 0.25 | FMSE: 1.7739e-01 | \n",
      " G-BLEU: 0.28 | ROUGE1: 0.66| ROUGE2: 0.27 | ROUGE-L: 0.52| Token Acc: 84.96% | Label Acc: 84.96%\n"
     ]
    }
   ],
   "source": [
    "# no subtraction\n",
    "attacker.cfg.sentence_algorithm = \"k-means\"\n",
    "\n",
    "# Experimental hyperparameters:\n",
    "attacker.cfg.recovery_order = \"tokens-first\"\n",
    "\n",
    "attacker.cfg.undivided = False\n",
    "attacker.cfg.separation = \"none\" # alternative: decorrelation\n",
    "attacker.cfg.backfilling = \"global\"\n",
    "attacker.cfg.backfill_removal = \"none\"\n",
    "\n",
    "# Implementation Details\n",
    "attacker.cfg.impl.dtype = \"float\"\n",
    "\n",
    "reconstructed_user_data, stats = attacker.reconstruct([server_payload], [shared_data], \n",
    "                                                      server.secrets, dryrun=cfg.dryrun)\n",
    "#user.print(reconstructed_user_data)\n",
    "metrics = breaching.analysis.report(reconstructed_user_data, true_user_data, [server_payload], \n",
    "                                    server.model, cfg_case=cfg.case, setup=setup)"
   ]
  },
  {
   "cell_type": "code",
   "execution_count": 16,
   "id": "3d3d4cba",
   "metadata": {},
   "outputs": [
    {
     "name": "stdout",
     "output_type": "stream",
     "text": [
      "Recovered tokens tensor([[   11,    12,    13,  ...,  3365,  3378,  3386],\n",
      "        [ 3388,  3389,  3392,  ..., 19683, 19685, 19954],\n",
      "        [  262,   262,   262,  ..., 49889, 50203, 50210],\n",
      "        ...,\n",
      "        [   11,    11,    11,  ..., 49658, 49658, 49658],\n",
      "        [   11,    11,    11,  ..., 49658, 49658, 49658],\n",
      "        [   11,    12,    13,  ..., 48405, 49658, 50210]]) through strategy decoder-bias.\n",
      "Recovered 2677 embeddings with positional data from imprinted layer.\n",
      "Assigned [329, 300, 348, 381, 350, 289, 330, 350] breached embeddings to each sentence.\n",
      "METRICS: | Accuracy: 0.5627 | S-BLEU: 0.22 | FMSE: 1.7328e-01 | \n",
      " G-BLEU: 0.24 | ROUGE1: 0.53| ROUGE2: 0.26 | ROUGE-L: 0.49| Token Acc: 65.77% | Label Acc: 65.77%\n"
     ]
    }
   ],
   "source": [
    "# no backfilling\n",
    "\n",
    "attacker.cfg.sentence_algorithm = \"k-means\"\n",
    "\n",
    "# Experimental hyperparameters:\n",
    "attacker.cfg.recovery_order = \"tokens-first\"\n",
    "\n",
    "attacker.cfg.undivided = False\n",
    "attacker.cfg.separation = \"decorrelation\" # alternative: decorrelation\n",
    "attacker.cfg.backfilling = \"randn\"\n",
    "attacker.cfg.backfill_removal = \"decorrelation\"\n",
    "\n",
    "# Implementation Details\n",
    "attacker.cfg.impl.dtype = \"float\"\n",
    "\n",
    "reconstructed_user_data, stats = attacker.reconstruct([server_payload], [shared_data], \n",
    "                                                      server.secrets, dryrun=cfg.dryrun)\n",
    "#user.print(reconstructed_user_data)\n",
    "metrics = breaching.analysis.report(reconstructed_user_data, true_user_data, [server_payload], \n",
    "                                    server.model, cfg_case=cfg.case, setup=setup)"
   ]
  },
  {
   "cell_type": "code",
   "execution_count": 17,
   "id": "523ca427",
   "metadata": {},
   "outputs": [
    {
     "name": "stdout",
     "output_type": "stream",
     "text": [
      "Recovered tokens tensor([[   11,    12,    13,  ...,  3365,  3378,  3386],\n",
      "        [ 3388,  3389,  3392,  ..., 19683, 19685, 19954],\n",
      "        [  262,   262,   262,  ..., 49889, 50203, 50210],\n",
      "        ...,\n",
      "        [   11,    11,    11,  ..., 49658, 49658, 49658],\n",
      "        [   11,    11,    11,  ..., 49658, 49658, 49658],\n",
      "        [   11,    12,    13,  ..., 48405, 49658, 50210]]) through strategy decoder-bias.\n",
      "Recovered 2677 embeddings with positional data from imprinted layer.\n",
      "Assigned [330, 350, 381, 329, 289, 348, 300, 350] breached embeddings to each sentence.\n",
      "METRICS: | Accuracy: 0.5518 | S-BLEU: 0.24 | FMSE: 1.7254e-01 | \n",
      " G-BLEU: 0.28 | ROUGE1: 0.68| ROUGE2: 0.27 | ROUGE-L: 0.52| Token Acc: 99.37% | Label Acc: 99.37%\n"
     ]
    }
   ],
   "source": [
    "# kmeans positions-first\n",
    "\n",
    "attacker.cfg.sentence_algorithm = \"k-means\"\n",
    "\n",
    "# Experimental hyperparameters:\n",
    "attacker.cfg.recovery_order = \"positions-first\"\n",
    "\n",
    "attacker.cfg.undivided = False\n",
    "attacker.cfg.separation = \"subtraction\" # alternative: decorrelation\n",
    "attacker.cfg.backfilling = \"global\"\n",
    "attacker.cfg.backfill_removal = \"subtraction\"\n",
    "\n",
    "# Implementation Details\n",
    "attacker.cfg.impl.dtype = \"float\"\n",
    "\n",
    "reconstructed_user_data, stats = attacker.reconstruct([server_payload], [shared_data], \n",
    "                                                      server.secrets, dryrun=cfg.dryrun)\n",
    "#user.print(reconstructed_user_data)\n",
    "metrics = breaching.analysis.report(reconstructed_user_data, true_user_data, [server_payload], \n",
    "                                    server.model, cfg_case=cfg.case, setup=setup)"
   ]
  },
  {
   "cell_type": "code",
   "execution_count": 18,
   "id": "759265f2",
   "metadata": {},
   "outputs": [
    {
     "name": "stdout",
     "output_type": "stream",
     "text": [
      "Recovered tokens tensor([[   11,    12,    13,  ...,  3365,  3378,  3386],\n",
      "        [ 3388,  3389,  3392,  ..., 19683, 19685, 19954],\n",
      "        [  262,   262,   262,  ..., 49889, 50203, 50210],\n",
      "        ...,\n",
      "        [   11,    11,    11,  ..., 49658, 49658, 49658],\n",
      "        [   11,    11,    11,  ..., 49658, 49658, 49658],\n",
      "        [   11,    12,    13,  ..., 48405, 49658, 50210]]) through strategy decoder-bias.\n",
      "Recovered 2677 embeddings with positional data from imprinted layer.\n",
      "Assigned [330, 350, 350, 289, 381, 300, 348, 329] breached embeddings to each sentence.\n",
      "METRICS: | Accuracy: 0.5549 | S-BLEU: 0.24 | FMSE: 1.9183e-01 | \n",
      " G-BLEU: 0.28 | ROUGE1: 0.69| ROUGE2: 0.28 | ROUGE-L: 0.53| Token Acc: 99.37% | Label Acc: 99.37%\n"
     ]
    }
   ],
   "source": [
    "# no backfilling\n",
    "\n",
    "attacker.cfg.sentence_algorithm = \"k-means\"\n",
    "\n",
    "# Experimental hyperparameters:\n",
    "attacker.cfg.recovery_order = \"positions-first\"\n",
    "\n",
    "attacker.cfg.undivided = False\n",
    "attacker.cfg.separation = \"subtraction\" # alternative: decorrelation\n",
    "attacker.cfg.backfilling = \"randn\"\n",
    "attacker.cfg.backfill_removal = \"subtraction\"\n",
    "\n",
    "# Implementation Details\n",
    "attacker.cfg.impl.dtype = \"float\"\n",
    "\n",
    "reconstructed_user_data, stats = attacker.reconstruct([server_payload], [shared_data], \n",
    "                                                      server.secrets, dryrun=cfg.dryrun)\n",
    "#user.print(reconstructed_user_data)\n",
    "metrics = breaching.analysis.report(reconstructed_user_data, true_user_data, [server_payload], \n",
    "                                    server.model, cfg_case=cfg.case, setup=setup)"
   ]
  },
  {
   "cell_type": "code",
   "execution_count": 19,
   "id": "0383ad37",
   "metadata": {},
   "outputs": [
    {
     "name": "stdout",
     "output_type": "stream",
     "text": [
      "Recovered tokens tensor([[   11,    12,    13,  ...,  3365,  3378,  3386],\n",
      "        [ 3388,  3389,  3392,  ..., 19683, 19685, 19954],\n",
      "        [  262,   262,   262,  ..., 49889, 50203, 50210],\n",
      "        ...,\n",
      "        [   11,    11,    11,  ..., 49658, 49658, 49658],\n",
      "        [   11,    11,    11,  ..., 49658, 49658, 49658],\n",
      "        [   11,    12,    13,  ..., 48405, 49658, 50210]]) through strategy decoder-bias.\n",
      "Recovered 2677 embeddings with positional data from imprinted layer.\n",
      "Assigned [367, 353, 365, 387, 295, 342, 512, 56] breached embeddings to each sentence.\n",
      "METRICS: | Accuracy: 0.4814 | S-BLEU: 0.21 | FMSE: 2.0202e-01 | \n",
      " G-BLEU: 0.24 | ROUGE1: 0.60| ROUGE2: 0.23 | ROUGE-L: 0.46| Token Acc: 82.15% | Label Acc: 82.15%\n"
     ]
    }
   ],
   "source": [
    "attacker.cfg.sentence_algorithm = \"dynamic-threshold-median\"\n",
    "\n",
    "# Experimental hyperparameters:\n",
    "attacker.cfg.recovery_order = \"tokens-first\"\n",
    "\n",
    "attacker.cfg.undivided = False\n",
    "attacker.cfg.separation = \"decorrelation\" # alternative: decorrelation\n",
    "attacker.cfg.backfilling = \"global\"\n",
    "attacker.cfg.backfill_removal = \"none\"\n",
    "\n",
    "# Implementation Details\n",
    "attacker.cfg.impl.dtype = \"float\"\n",
    "\n",
    "reconstructed_user_data, stats = attacker.reconstruct([server_payload], [shared_data], \n",
    "                                                      server.secrets, dryrun=cfg.dryrun)\n",
    "#user.print(reconstructed_user_data)\n",
    "metrics = breaching.analysis.report(reconstructed_user_data, true_user_data, [server_payload], \n",
    "                                    server.model, cfg_case=cfg.case, setup=setup)"
   ]
  },
  {
   "cell_type": "code",
   "execution_count": null,
   "id": "268a8f41",
   "metadata": {},
   "outputs": [],
   "source": []
  },
  {
   "cell_type": "code",
   "execution_count": 22,
   "id": "919a9301",
   "metadata": {},
   "outputs": [
    {
     "name": "stdout",
     "output_type": "stream",
     "text": [
      "Recovered tokens tensor([[   11,    12,    13,  ...,  3365,  3378,  3386],\n",
      "        [ 3388,  3389,  3392,  ..., 19683, 19685, 19954],\n",
      "        [  262,   262,   262,  ..., 49889, 50203, 50210],\n",
      "        ...,\n",
      "        [   11,    11,    11,  ..., 49658, 49658, 49658],\n",
      "        [   11,    11,    11,  ..., 49658, 49658, 49658],\n",
      "        [   11,    12,    13,  ..., 48405, 49658, 50210]]) through strategy decoder-bias.\n",
      "Recovered 2677 embeddings with positional data from imprinted layer.\n"
     ]
    },
    {
     "ename": "AssertionError",
     "evalue": "Invalid Assignment in k-medoids",
     "output_type": "error",
     "traceback": [
      "\u001b[0;31m---------------------------------------------------------------------------\u001b[0m",
      "\u001b[0;31mAssertionError\u001b[0m                            Traceback (most recent call last)",
      "\u001b[0;32m/tmp/ipykernel_14484/328440802.py\u001b[0m in \u001b[0;36m<module>\u001b[0;34m\u001b[0m\n\u001b[1;32m     12\u001b[0m \u001b[0;34m\u001b[0m\u001b[0m\n\u001b[1;32m     13\u001b[0m \u001b[0;34m\u001b[0m\u001b[0m\n\u001b[0;32m---> 14\u001b[0;31m reconstructed_user_data, stats = attacker.reconstruct([server_payload], [shared_data], \n\u001b[0m\u001b[1;32m     15\u001b[0m                                                       server.secrets, dryrun=cfg.dryrun)\n\u001b[1;32m     16\u001b[0m \u001b[0;31m#user.print(reconstructed_user_data)\u001b[0m\u001b[0;34m\u001b[0m\u001b[0;34m\u001b[0m\u001b[0m\n",
      "\u001b[0;32m~/miniconda3/envs/dl/lib/python3.9/site-packages/torch/autograd/grad_mode.py\u001b[0m in \u001b[0;36mdecorate_context\u001b[0;34m(*args, **kwargs)\u001b[0m\n\u001b[1;32m     26\u001b[0m         \u001b[0;32mdef\u001b[0m \u001b[0mdecorate_context\u001b[0m\u001b[0;34m(\u001b[0m\u001b[0;34m*\u001b[0m\u001b[0margs\u001b[0m\u001b[0;34m,\u001b[0m \u001b[0;34m**\u001b[0m\u001b[0mkwargs\u001b[0m\u001b[0;34m)\u001b[0m\u001b[0;34m:\u001b[0m\u001b[0;34m\u001b[0m\u001b[0;34m\u001b[0m\u001b[0m\n\u001b[1;32m     27\u001b[0m             \u001b[0;32mwith\u001b[0m \u001b[0mself\u001b[0m\u001b[0;34m.\u001b[0m\u001b[0m__class__\u001b[0m\u001b[0;34m(\u001b[0m\u001b[0;34m)\u001b[0m\u001b[0;34m:\u001b[0m\u001b[0;34m\u001b[0m\u001b[0;34m\u001b[0m\u001b[0m\n\u001b[0;32m---> 28\u001b[0;31m                 \u001b[0;32mreturn\u001b[0m \u001b[0mfunc\u001b[0m\u001b[0;34m(\u001b[0m\u001b[0;34m*\u001b[0m\u001b[0margs\u001b[0m\u001b[0;34m,\u001b[0m \u001b[0;34m**\u001b[0m\u001b[0mkwargs\u001b[0m\u001b[0;34m)\u001b[0m\u001b[0;34m\u001b[0m\u001b[0;34m\u001b[0m\u001b[0m\n\u001b[0m\u001b[1;32m     29\u001b[0m         \u001b[0;32mreturn\u001b[0m \u001b[0mcast\u001b[0m\u001b[0;34m(\u001b[0m\u001b[0mF\u001b[0m\u001b[0;34m,\u001b[0m \u001b[0mdecorate_context\u001b[0m\u001b[0;34m)\u001b[0m\u001b[0;34m\u001b[0m\u001b[0;34m\u001b[0m\u001b[0m\n\u001b[1;32m     30\u001b[0m \u001b[0;34m\u001b[0m\u001b[0m\n",
      "\u001b[0;32m~/breaching/breaching/attacks/analytic_attack.py\u001b[0m in \u001b[0;36mreconstruct\u001b[0;34m(self, server_payload, shared_data, server_secrets, dryrun)\u001b[0m\n\u001b[1;32m    194\u001b[0m \u001b[0;34m\u001b[0m\u001b[0m\n\u001b[1;32m    195\u001b[0m         \u001b[0;32mif\u001b[0m \u001b[0mlen_data\u001b[0m \u001b[0;34m>\u001b[0m \u001b[0;36m1\u001b[0m\u001b[0;34m:\u001b[0m\u001b[0;34m\u001b[0m\u001b[0;34m\u001b[0m\u001b[0m\n\u001b[0;32m--> 196\u001b[0;31m             sentence_labels = self._match_breaches_to_sentences(\n\u001b[0m\u001b[1;32m    197\u001b[0m                 \u001b[0msentence_id_components\u001b[0m\u001b[0;34m,\u001b[0m \u001b[0;34m[\u001b[0m\u001b[0mlen_data\u001b[0m\u001b[0;34m,\u001b[0m \u001b[0mdata_shape\u001b[0m\u001b[0;34m[\u001b[0m\u001b[0;36m0\u001b[0m\u001b[0;34m]\u001b[0m\u001b[0;34m]\u001b[0m\u001b[0;34m,\u001b[0m \u001b[0malgorithm\u001b[0m\u001b[0;34m=\u001b[0m\u001b[0mself\u001b[0m\u001b[0;34m.\u001b[0m\u001b[0mcfg\u001b[0m\u001b[0;34m.\u001b[0m\u001b[0msentence_algorithm\u001b[0m\u001b[0;34m\u001b[0m\u001b[0;34m\u001b[0m\u001b[0m\n\u001b[1;32m    198\u001b[0m             )\n",
      "\u001b[0;32m~/breaching/breaching/attacks/analytic_attack.py\u001b[0m in \u001b[0;36m_match_breaches_to_sentences\u001b[0;34m(self, sentence_id_components, shape, algorithm)\u001b[0m\n\u001b[1;32m    625\u001b[0m                 \u001b[0;32mif\u001b[0m \u001b[0msentence_labels\u001b[0m\u001b[0;34m.\u001b[0m\u001b[0munique\u001b[0m\u001b[0;34m(\u001b[0m\u001b[0mreturn_counts\u001b[0m\u001b[0;34m=\u001b[0m\u001b[0;32mTrue\u001b[0m\u001b[0;34m)\u001b[0m\u001b[0;34m[\u001b[0m\u001b[0;36m1\u001b[0m\u001b[0;34m]\u001b[0m\u001b[0;34m.\u001b[0m\u001b[0mmax\u001b[0m\u001b[0;34m(\u001b[0m\u001b[0;34m)\u001b[0m \u001b[0;34m<=\u001b[0m \u001b[0mshape\u001b[0m\u001b[0;34m[\u001b[0m\u001b[0;36m1\u001b[0m\u001b[0;34m]\u001b[0m\u001b[0;34m:\u001b[0m\u001b[0;34m\u001b[0m\u001b[0;34m\u001b[0m\u001b[0m\n\u001b[1;32m    626\u001b[0m                     \u001b[0;32mbreak\u001b[0m\u001b[0;34m\u001b[0m\u001b[0;34m\u001b[0m\u001b[0m\n\u001b[0;32m--> 627\u001b[0;31m             \u001b[0;32massert\u001b[0m \u001b[0msentence_labels\u001b[0m\u001b[0;34m.\u001b[0m\u001b[0munique\u001b[0m\u001b[0;34m(\u001b[0m\u001b[0mreturn_counts\u001b[0m\u001b[0;34m=\u001b[0m\u001b[0;32mTrue\u001b[0m\u001b[0;34m)\u001b[0m\u001b[0;34m[\u001b[0m\u001b[0;36m1\u001b[0m\u001b[0;34m]\u001b[0m\u001b[0;34m.\u001b[0m\u001b[0mmax\u001b[0m\u001b[0;34m(\u001b[0m\u001b[0;34m)\u001b[0m \u001b[0;34m<=\u001b[0m \u001b[0mshape\u001b[0m\u001b[0;34m[\u001b[0m\u001b[0;36m1\u001b[0m\u001b[0;34m]\u001b[0m\u001b[0;34m,\u001b[0m \u001b[0;34m\"Invalid Assignment in k-medoids\"\u001b[0m\u001b[0;34m\u001b[0m\u001b[0;34m\u001b[0m\u001b[0m\n\u001b[0m\u001b[1;32m    628\u001b[0m \u001b[0;34m\u001b[0m\u001b[0m\n\u001b[1;32m    629\u001b[0m         \u001b[0;32melif\u001b[0m \u001b[0;34m\"dynamic-threshold\"\u001b[0m \u001b[0;32min\u001b[0m \u001b[0malgorithm\u001b[0m\u001b[0;34m:\u001b[0m  \u001b[0;31m# Allow for dynamic-threshold, dynamic-threshold-median and \"normalized\"\u001b[0m\u001b[0;34m\u001b[0m\u001b[0;34m\u001b[0m\u001b[0m\n",
      "\u001b[0;31mAssertionError\u001b[0m: Invalid Assignment in k-medoids"
     ]
    }
   ],
   "source": [
    "# optimal hyperparams\n",
    "\n",
    "attacker.cfg.sentence_algorithm = \"k-medoids\"\n",
    "\n",
    "# Experimental hyperparameters:\n",
    "attacker.cfg.recovery_order = \"tokens-first\"\n",
    "\n",
    "attacker.cfg.undivided = False\n",
    "attacker.cfg.separation = \"decorrelation\" # alternative: decorrelation\n",
    "attacker.cfg.backfilling = \"global\"\n",
    "attacker.cfg.backfill_removal = \"decorrelation\"\n",
    "\n",
    "\n",
    "reconstructed_user_data, stats = attacker.reconstruct([server_payload], [shared_data], \n",
    "                                                      server.secrets, dryrun=cfg.dryrun)\n",
    "#user.print(reconstructed_user_data)\n",
    "metrics = breaching.analysis.report(reconstructed_user_data, true_user_data, [server_payload], \n",
    "                                    server.model, cfg_case=cfg.case, setup=setup)"
   ]
  },
  {
   "cell_type": "code",
   "execution_count": 23,
   "id": "0788583b",
   "metadata": {},
   "outputs": [
    {
     "name": "stdout",
     "output_type": "stream",
     "text": [
      "torch.float64\n",
      "Recovered tokens tensor([[   11,    12,    13,  ...,  3365,  3378,  3386],\n",
      "        [ 3388,  3389,  3392,  ..., 19683, 19685, 19954],\n",
      "        [  262,   262,   262,  ..., 49889, 50203, 50210],\n",
      "        ...,\n",
      "        [   11,    11,    11,  ..., 49658, 49658, 49658],\n",
      "        [   11,    11,    11,  ..., 49658, 49658, 49658],\n",
      "        [   11,    12,    13,  ..., 48405, 49658, 50210]]) through strategy decoder-bias.\n",
      "Recovered 2677 embeddings with positional data from imprinted layer.\n",
      "Assigned [367, 353, 365, 387, 295, 342, 512, 56] breached embeddings to each sentence.\n",
      "METRICS: | Accuracy: 0.4526 | S-BLEU: 0.18 | FMSE: 2.0554e-01 | \n",
      " G-BLEU: 0.23 | ROUGE1: 0.62| ROUGE2: 0.21 | ROUGE-L: 0.45| Token Acc: 99.37% | Label Acc: 99.37%\n"
     ]
    }
   ],
   "source": [
    "# optimal hyperparams\n",
    "\n",
    "attacker.cfg.sentence_algorithm = \"dynamic-threshold-median-normalization\"\n",
    "\n",
    "# Experimental hyperparameters:\n",
    "attacker.cfg.recovery_order = \"positions-first\"\n",
    "\n",
    "attacker.cfg.undivided = False\n",
    "attacker.cfg.separation = \"decorrelation\" # alternative: decorrelation\n",
    "attacker.cfg.backfilling = \"global\"\n",
    "attacker.cfg.backfill_removal = \"none\"\n",
    "\n",
    "# Implementation Details\n",
    "print(attacker.setup[\"dtype\"])\n",
    "\n",
    "reconstructed_user_data, stats = attacker.reconstruct([server_payload], [shared_data], \n",
    "                                                      server.secrets, dryrun=cfg.dryrun)\n",
    "#user.print(reconstructed_user_data)\n",
    "metrics = breaching.analysis.report(reconstructed_user_data, true_user_data, [server_payload], \n",
    "                                    server.model, cfg_case=cfg.case, setup=setup)"
   ]
  },
  {
   "cell_type": "code",
   "execution_count": null,
   "id": "9877caaa",
   "metadata": {},
   "outputs": [],
   "source": []
  }
 ],
 "metadata": {
  "kernelspec": {
   "display_name": "Python 3 (ipykernel)",
   "language": "python",
   "name": "python3"
  },
  "language_info": {
   "codemirror_mode": {
    "name": "ipython",
    "version": 3
   },
   "file_extension": ".py",
   "mimetype": "text/x-python",
   "name": "python",
   "nbconvert_exporter": "python",
   "pygments_lexer": "ipython3",
   "version": "3.9.7"
  }
 },
 "nbformat": 4,
 "nbformat_minor": 5
}
