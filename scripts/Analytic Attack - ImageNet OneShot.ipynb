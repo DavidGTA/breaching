{
 "cells": [
  {
   "cell_type": "markdown",
   "id": "3ebef44a",
   "metadata": {},
   "source": [
    "# Breaching privacy"
   ]
  },
  {
   "cell_type": "markdown",
   "id": "a756fc5f",
   "metadata": {},
   "source": [
    "This notebook does the same job as the cmd-line tool `breach.py`, but also directly visualizes the user data and reconstruction"
   ]
  },
  {
   "cell_type": "code",
   "execution_count": null,
   "id": "b850eabf",
   "metadata": {},
   "outputs": [],
   "source": [
    "import torch\n",
    "import hydra\n",
    "from omegaconf import OmegaConf\n",
    "%load_ext autoreload\n",
    "%autoreload 2\n",
    "\n",
    "import breaching\n",
    "import logging, sys\n",
    "logging.basicConfig(level=logging.INFO, handlers=[logging.StreamHandler(sys.stdout)], format='%(message)s')\n",
    "logger = logging.getLogger()"
   ]
  },
  {
   "cell_type": "code",
   "execution_count": null,
   "id": "f563173b",
   "metadata": {},
   "outputs": [],
   "source": [
    "import matplotlib.pyplot as plt\n",
    "from statistics import NormalDist\n",
    "import math"
   ]
  },
  {
   "cell_type": "markdown",
   "id": "88d5e214",
   "metadata": {},
   "source": [
    "### Initialize cfg object and system setup:"
   ]
  },
  {
   "cell_type": "markdown",
   "id": "56bd663b",
   "metadata": {},
   "source": [
    "This will print out all configuration options. \n",
    "There are a lot of possible configurations, but there is usually no need to worry about most of these. Below, a few options are printed."
   ]
  },
  {
   "cell_type": "code",
   "execution_count": null,
   "id": "a7dc3a48",
   "metadata": {},
   "outputs": [],
   "source": [
    "with hydra.initialize(config_path=\"config\"):\n",
    "    cfg = hydra.compose(config_name='cfg', overrides=['attack=imprint', 'case/server=malicious-model'])\n",
    "    print(f'Investigating use case {cfg.case.name} with server type {cfg.case.server.name}.')\n",
    "    print('Attack settings are:')\n",
    "    print(OmegaConf.to_yaml(cfg.attack))\n",
    "          \n",
    "device = torch.device(f'cuda:0') if torch.cuda.is_available() else torch.device('cpu')\n",
    "torch.backends.cudnn.benchmark = cfg.case.impl.benchmark\n",
    "setup = dict(device=device, dtype=torch.float)\n",
    "setup"
   ]
  },
  {
   "cell_type": "markdown",
   "id": "203c5fb1",
   "metadata": {},
   "source": [
    "### Modify config options here"
   ]
  },
  {
   "cell_type": "markdown",
   "id": "6e0764ef",
   "metadata": {},
   "source": [
    "You can use `.attribute` access to modify any of these configurations:"
   ]
  },
  {
   "cell_type": "code",
   "execution_count": null,
   "id": "3db52c4c",
   "metadata": {},
   "outputs": [],
   "source": [
    "target_batch_size = 2**6\n",
    "estimate_prob = breaching.analysis.imprint_guarantee.one_shot_guarantee(target_batch_size, target_batch_size)\n",
    "\n",
    "print(f'{estimate_prob:.2%} of 1-shot attacks will perfectly uncover a single data point '\n",
    "      f'out of the given batch of {target_batch_size} data points.')"
   ]
  },
  {
   "cell_type": "code",
   "execution_count": null,
   "id": "ac118ea0",
   "metadata": {},
   "outputs": [],
   "source": [
    "cfg.case.user.num_data_points = target_batch_size\n",
    "\n",
    "cfg.case.model = 'none'\n",
    "\n",
    "cfg.case.server.model_modification.type = 'OneShotBlock' \n",
    "cfg.case.server.model_modification.num_bins = target_batch_size\n",
    "cfg.case.server.model_modification.position = None # '4.0.conv'\n",
    "cfg.case.server.model_modification.connection = 'add'\n",
    "\n",
    "\n",
    "cfg.case.server.model_modification.linfunc = 'fourier'\n",
    "cfg.case.server.model_modification.mode = 32\n",
    "\n",
    "cfg.case.user.local_diff_privacy.gradient_noise = 0.0\n",
    "cfg.case.user.local_diff_privacy.per_example_clipping = 0.0\n",
    "cfg.case.user.local_diff_privacy.distribution = 'gaussian'\n",
    "\n",
    "\n",
    "cfg.case.server.model_modification.gain = 1\n",
    "cfg.case.server.model_gain = 1"
   ]
  },
  {
   "cell_type": "markdown",
   "id": "76f64389",
   "metadata": {},
   "source": [
    "### Instantiate all parties"
   ]
  },
  {
   "cell_type": "code",
   "execution_count": null,
   "id": "2e4d4d6d",
   "metadata": {
    "scrolled": true
   },
   "outputs": [],
   "source": [
    "user, server, model, loss_fn = breaching.cases.construct_case(cfg.case, setup)\n",
    "attacker = breaching.attacks.prepare_attack(server.model, server.loss, cfg.attack, setup)\n",
    "breaching.utils.overview(server, user, attacker)"
   ]
  },
  {
   "cell_type": "code",
   "execution_count": null,
   "id": "d9edeb91",
   "metadata": {},
   "outputs": [],
   "source": [
    "user.model[1].bins"
   ]
  },
  {
   "cell_type": "markdown",
   "id": "548c0ad6",
   "metadata": {},
   "source": [
    "### Simulate an attacked FL protocol"
   ]
  },
  {
   "cell_type": "markdown",
   "id": "2058bcc2",
   "metadata": {},
   "source": [
    "True user data is returned only for analysis"
   ]
  },
  {
   "cell_type": "code",
   "execution_count": null,
   "id": "3f2a2e33",
   "metadata": {},
   "outputs": [],
   "source": [
    "server_payload = server.distribute_payload()\n",
    "shared_data, true_user_data = user.compute_local_updates(server_payload)"
   ]
  },
  {
   "cell_type": "code",
   "execution_count": null,
   "id": "78743ffe",
   "metadata": {},
   "outputs": [],
   "source": [
    "grads = shared_data['gradients'][0]\n",
    "[(g.norm().item(), g.mean().item(), g.std().item()) for g in grads]"
   ]
  },
  {
   "cell_type": "code",
   "execution_count": null,
   "id": "3b47f7ea",
   "metadata": {},
   "outputs": [],
   "source": [
    "torch.norm(torch.stack([torch.norm(g, 2) for g in grads]), 2)"
   ]
  },
  {
   "cell_type": "markdown",
   "id": "f2867bcc",
   "metadata": {},
   "source": [
    "# Reconstruct user data"
   ]
  },
  {
   "cell_type": "code",
   "execution_count": null,
   "id": "04521004",
   "metadata": {},
   "outputs": [],
   "source": [
    "reconstructed_user_data, stats = attacker.reconstruct([server_payload], [shared_data], \n",
    "                                                      server.secrets, dryrun=cfg.dryrun)"
   ]
  },
  {
   "cell_type": "code",
   "execution_count": null,
   "id": "0de62300",
   "metadata": {},
   "outputs": [],
   "source": [
    "found_data = dict(data = reconstructed_user_data['data'][1:2], labels=None)\n",
    "user.plot(found_data, scale=False)"
   ]
  },
  {
   "cell_type": "markdown",
   "id": "512d8c8a",
   "metadata": {},
   "source": [
    "### Identify id of user data with this value:"
   ]
  },
  {
   "cell_type": "code",
   "execution_count": null,
   "id": "03a4dcb0",
   "metadata": {},
   "outputs": [],
   "source": [
    "block_lin = user.model[1].linear0.weight[0]\n",
    "matches = dict()\n",
    "for idx, data in enumerate(true_user_data['data']):\n",
    "    matches[idx] = torch.dist(found_data['data'], data)\n",
    "idx = min(matches, key=matches.get)\n",
    "print(idx)\n",
    "matching_user_data = dict(data = true_user_data['data'][idx][None,...], labels=true_user_data['labels'][idx:idx+1])\n",
    "user.plot(matching_user_data, scale=False)"
   ]
  },
  {
   "cell_type": "code",
   "execution_count": null,
   "id": "342d33a0",
   "metadata": {},
   "outputs": [],
   "source": [
    "#How good is the reconstruction?\n",
    "metrics = breaching.analysis.report(found_data, matching_user_data, [server_payload], \n",
    "                                    server.model, order_batch=True, compute_full_iip=False, \n",
    "                                    cfg_case=cfg.case, setup=setup)"
   ]
  },
  {
   "cell_type": "markdown",
   "id": "a82305e6",
   "metadata": {},
   "source": [
    "## GT analysis"
   ]
  },
  {
   "cell_type": "code",
   "execution_count": null,
   "id": "acbdd5a4",
   "metadata": {},
   "outputs": [],
   "source": [
    "block_lin = user.model[1].linear0.weight[0]\n",
    "\n",
    "vals = torch.zeros(len(user.dataloader.dataset))\n",
    "counter = 0\n",
    "with torch.inference_mode():\n",
    "    for image, _ in iter(user.dataloader):\n",
    "        image = image.to(**setup) \n",
    "        image = image / image.sum() + 2 * user.generator.sample(image.shape)\n",
    "        B = image.shape[0]\n",
    "        vals[counter:counter+B] = (block_lin[None, :] * image.flatten(start_dim=1)).sum(dim=1).detach().cpu()\n",
    "        counter += B"
   ]
  },
  {
   "cell_type": "code",
   "execution_count": null,
   "id": "fd776f33",
   "metadata": {},
   "outputs": [],
   "source": [
    "from scipy.stats import laplace"
   ]
  },
  {
   "cell_type": "code",
   "execution_count": null,
   "id": "5463cb4c",
   "metadata": {},
   "outputs": [],
   "source": [
    "std_data, mu_data = torch.std_mean(vals)\n",
    "\n",
    "# the histogram of the data\n",
    "n, bins, patches = plt.hist(vals.numpy(), 250, density=True, facecolor='royalblue', alpha=0.75)\n",
    "\n",
    "\n",
    "plt.xlabel('Values')\n",
    "plt.ylabel('Probability')\n",
    "#plt.xlim(-4, 4)\n",
    "plt.title('Distribution on GT data')\n",
    "\n",
    "xmin, xmax = plt.xlim()\n",
    "x = torch.linspace(xmin, xmax, 100)\n",
    "# p = [NormalDist(mu, std).pdf(xx) for xx in x]\n",
    "# plt.plot(x, p, 'k', linewidth=2)\n",
    "\n",
    "# p = [NormalDist(mu_data, std_data).pdf(xx) for xx in x]\n",
    "# plt.plot(x, p, 'g', linewidth=2, label='Gaussian estimate on true data distribution')\n",
    "\n",
    "# p = [NormalDist(0, 1).pdf(xx) for xx in x]\n",
    "# plt.plot(x, p, 'b', linewidth=2, label='Normal Distribution')\n",
    "\n",
    "loc, scale = laplace.fit(vals.numpy())\n",
    "p = laplace.pdf(x, loc, scale)\n",
    "plt.plot(x, p, 'r', linewidth=2, label='Laplacian estimate on true data distribution')\n",
    "\n",
    "p = laplace.pdf(x, 0, 1/math.sqrt(2))\n",
    "plt.plot(x, p, 'k', linewidth=2, label='Laplacian distribution (scaled = 1/sqrt(2))')\n",
    "\n",
    "plt.legend()\n",
    "plt.show()"
   ]
  },
  {
   "cell_type": "code",
   "execution_count": null,
   "id": "0997a8da",
   "metadata": {},
   "outputs": [],
   "source": [
    "std_data, mu_data"
   ]
  }
 ],
 "metadata": {
  "kernelspec": {
   "display_name": "Python 3 (ipykernel)",
   "language": "python",
   "name": "python3"
  },
  "language_info": {
   "codemirror_mode": {
    "name": "ipython",
    "version": 3
   },
   "file_extension": ".py",
   "mimetype": "text/x-python",
   "name": "python",
   "nbconvert_exporter": "python",
   "pygments_lexer": "ipython3",
   "version": "3.9.7"
  }
 },
 "nbformat": 4,
 "nbformat_minor": 5
}
