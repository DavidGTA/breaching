{
 "cells": [
  {
   "cell_type": "markdown",
   "id": "3ebef44a",
   "metadata": {},
   "source": [
    "# Breaching privacy"
   ]
  },
  {
   "cell_type": "markdown",
   "id": "a756fc5f",
   "metadata": {},
   "source": [
    "This notebook does the same job as the cmd-line tool `simulate_breach.py`, but also directly visualizes the user data and reconstruction"
   ]
  },
  {
   "cell_type": "code",
   "execution_count": 1,
   "id": "b850eabf",
   "metadata": {},
   "outputs": [],
   "source": [
    "import torch\n",
    "import hydra\n",
    "from omegaconf import OmegaConf\n",
    "%load_ext autoreload\n",
    "%autoreload 2\n",
    "\n",
    "import breaching\n",
    "import logging, sys\n",
    "logging.basicConfig(level=logging.INFO, handlers=[logging.StreamHandler(sys.stdout)], format='%(message)s')\n",
    "logger = logging.getLogger()"
   ]
  },
  {
   "cell_type": "markdown",
   "id": "88d5e214",
   "metadata": {},
   "source": [
    "### Initialize cfg object and system setup:"
   ]
  },
  {
   "cell_type": "markdown",
   "id": "56bd663b",
   "metadata": {},
   "source": [
    "This will print out all configuration options. \n",
    "There are a lot of possible configurations, but there is usually no need to worry about most of these. Below, a few options are printed."
   ]
  },
  {
   "cell_type": "markdown",
   "id": "26070d66",
   "metadata": {},
   "source": [
    "Choose `case/data=` `shakespeare`, `wikitext`over `stackoverflow` here:"
   ]
  },
  {
   "cell_type": "code",
   "execution_count": 2,
   "id": "a7dc3a48",
   "metadata": {},
   "outputs": [
    {
     "name": "stdout",
     "output_type": "stream",
     "text": [
      "Investigating use case bert_training with server type malicious_transformer_parameters.\n"
     ]
    },
    {
     "data": {
      "text/plain": [
       "{'device': device(type='cpu'), 'dtype': torch.float32}"
      ]
     },
     "execution_count": 2,
     "metadata": {},
     "output_type": "execute_result"
    }
   ],
   "source": [
    "with hydra.initialize(config_path=\"config\"):\n",
    "    cfg = hydra.compose(config_name='cfg', overrides=[\"case=9_bert_training\", \"case/server=malicious-transformer\",\n",
    "                                                      \"attack=decepticon\"])\n",
    "    print(f'Investigating use case {cfg.case.name} with server type {cfg.case.server.name}.')\n",
    "          \n",
    "device = torch.device(f'cuda:0') if torch.cuda.is_available() else torch.device('cpu')\n",
    "torch.backends.cudnn.benchmark = cfg.case.impl.benchmark\n",
    "setup = dict(device=device, dtype=torch.float)\n",
    "setup"
   ]
  },
  {
   "cell_type": "markdown",
   "id": "203c5fb1",
   "metadata": {},
   "source": [
    "### Modify config options here"
   ]
  },
  {
   "cell_type": "markdown",
   "id": "6e0764ef",
   "metadata": {},
   "source": [
    "You can use `.attribute` access to modify any of these configurations:"
   ]
  },
  {
   "cell_type": "code",
   "execution_count": 11,
   "id": "ac118ea0",
   "metadata": {},
   "outputs": [],
   "source": [
    "cfg.case.user.num_data_points = 32 # How many sentences?\n",
    "cfg.case.user.user_idx = 2 # From which user?\n",
    "cfg.case.data.shape = [32] # This is the sequence length\n",
    "\n",
    "cfg.case.model = \"bert-sanity-check\" #  \"huawei-noah/TinyBERT_General_4L_312D\"\n",
    "cfg.case.data.tokenizer = \"bert-base-uncased\"\n",
    "cfg.case.data.vocab_size = 30522\n",
    "cfg.case.data.disable_mlm=False\n",
    "\n",
    "\n",
    "cfg.case.server.provide_public_buffers = True\n",
    "cfg.case.server.has_external_data = True\n",
    "cfg.case.server.pretrained = False\n",
    "\n",
    "\n",
    "cfg.case.server.param_modification.v_length = 32\n",
    "cfg.case.server.param_modification.eps = 1e-8\n",
    "cfg.case.server.param_modification.imprint_sentence_position = 0\n",
    "cfg.case.server.param_modification.softmax_skew = 100000000\n",
    "cfg.case.server.param_modification.sequence_token_weight = 1\n",
    "cfg.case.server.param_modification.measurement_scale = 1\n",
    "\n",
    "cfg.case.server.param_modification.equalize_token_weight = 10\n",
    "cfg.case.server.param_modification.reset_embedding = True\n",
    "\n",
    "cfg.attack.token_strategy=\"mixed\" # \"decoder-bias\" is only nice for bert if disable_mlm=True\n",
    "\n",
    "cfg.attack.embedding_token_weight = 0.25"
   ]
  },
  {
   "cell_type": "markdown",
   "id": "76f64389",
   "metadata": {},
   "source": [
    "### Instantiate all parties"
   ]
  },
  {
   "cell_type": "code",
   "execution_count": 12,
   "id": "30235b0c",
   "metadata": {},
   "outputs": [
    {
     "name": "stdout",
     "output_type": "stream",
     "text": [
      "Reusing dataset wikitext (/home/jonas/data/wikitext/wikitext-103-v1/1.0.0/aa5e094000ec7afeb74c3be92c88313cd6f132d564c7effd961c10fd47c76f20)\n",
      "Reusing dataset wikitext (/home/jonas/data/wikitext/wikitext-103-v1/1.0.0/aa5e094000ec7afeb74c3be92c88313cd6f132d564c7effd961c10fd47c76f20)\n",
      "Model architecture bert-sanity-check loaded with 109,514,298 parameters and 1,024 buffers.\n",
      "Overall this is a data ratio of  106948:1 for target shape [32, 32] given that num_queries=1.\n",
      "User (of type UserSingleStep) with settings:\n",
      "    Number of data points: 32\n",
      "\n",
      "    Threat model:\n",
      "    User provides labels: False\n",
      "    User provides buffers: False\n",
      "    User provides number of data points: True\n",
      "\n",
      "    Data:\n",
      "    Dataset: wikitext\n",
      "    user: 2\n",
      "    \n",
      "        \n",
      "Server (of type MaliciousTransformerServer) with settings:\n",
      "    Threat model: Malicious (Parameters)\n",
      "    Number of planned queries: 1\n",
      "    Has external/public data: True\n",
      "\n",
      "    Model:\n",
      "        model specification: bert-sanity-check\n",
      "        model state: default\n",
      "        public buffers: True\n",
      "\n",
      "    Secrets: {}\n",
      "    \n",
      "Attacker (of type DecepticonAttacker).\n"
     ]
    }
   ],
   "source": [
    "user, server, model, loss_fn = breaching.cases.construct_case(cfg.case, setup)\n",
    "attacker = breaching.attacks.prepare_attack(server.model, server.loss, cfg.attack, setup)\n",
    "breaching.utils.overview(server, user, attacker)"
   ]
  },
  {
   "cell_type": "markdown",
   "id": "548c0ad6",
   "metadata": {},
   "source": [
    "### Simulate an attacked FL protocol"
   ]
  },
  {
   "cell_type": "markdown",
   "id": "2058bcc2",
   "metadata": {},
   "source": [
    "True user data is returned only for analysis"
   ]
  },
  {
   "cell_type": "code",
   "execution_count": 13,
   "id": "3f2a2e33",
   "metadata": {},
   "outputs": [
    {
     "name": "stdout",
     "output_type": "stream",
     "text": [
      "Found attention of shape torch.Size([768, 768]).\n",
      "Found attention of shape torch.Size([768, 768]).\n",
      "Computing feature distribution before the probe layer Linear(in_features=768, out_features=3072, bias=True) from external data.\n",
      "Feature mean is 0.07988665252923965, feature std is 1.0159486532211304.\n",
      "Computing user update in model mode: eval.\n"
     ]
    }
   ],
   "source": [
    "server_payload = server.distribute_payload()\n",
    "shared_data, true_user_data = user.compute_local_updates(server_payload)"
   ]
  },
  {
   "cell_type": "code",
   "execution_count": 14,
   "id": "69c6ff1f",
   "metadata": {},
   "outputs": [
    {
     "name": "stdout",
     "output_type": "stream",
     "text": [
      "[CLS] ci [MASK]y mary barker ( 28 [MASK] [MASK] – 16 february 1973 surgeons was an english illustrator [MASK] known for a series of fantasy illustrations depicting fairies and flowers.\n",
      "barker'[MASK] art education began in girlhood with [MASK] courses [MASK] instruction at the croydon school of art. her earliest professional work [MASK] [MASK] cards and juvenile magazine illustrations\n",
      ", and her first book, flower fairies of the spring, was published in 1923 [MASK] similar books were published in the following decades. [SEP] [CLS] barker was a incentives\n",
      "anglican,cene donated her artworks to christian [MASK]s and missionary [MASK]. she produced a few christian @ [MASK] [MASK] themed books [MASK] as the [MASK] ’ s [MASK] of\n",
      "hymns and, ₅ [MASK] with her sister dorothy, he leadeth me. she designed a stained glass window [MASK] [MASK]. edmund's church, pitlake,\n",
      "and her painting of [MASK] twenty20 child, the [MASK] of the world has come, was purchased contemplating [MASK] mary. [SEP] [CLS] barker was equally proficient in water [MASK] [MASK]\n",
      ", [MASK] [MASK] ink, oils, and pastels. kate greenaway [MASK] the pre @ - @ raphaelites were [MASK] principal influences on [MASK] work [MASK] [MASK] claimed\n",
      "to paint [MASK] and rejected artistic theories. barker died in 1973. though she published flower [MASK] [MASK] with spring, summer, and [MASK] themes, it wasn'[MASK]\n",
      "until 1985 [MASK] a winter collection [MASK] assembled from her remaining work and published posthumously [MASK] [SEP] [CLS] barker was born [MASK] second daughter and youngest child of walter barker [MASK] a\n",
      "partner in a seed [MASK] company [MASK] an amateur [MASK], and his wife mary eleanor ( oswald ) barker on 28 june 1895 at home at 66 [MASK]ddon road\n",
      "in [MASK], surrey, england. [MASK] was [MASK] epileptic as a child, [MASK] cared for at home by her parents. later, her sister and elder\n",
      "by two years, dorothy oswald barker, continued the care. [SEP] [CLS] the family of four was moderately [MASK] off, and belonged to the lowertled [MASK] [MASK] [MASK]\n",
      "middle class. a nanny, a governess, [MASK] a cook to prepare special meals for barker were hired. she spent much time in bed at home amusing herself\n",
      "with painting books and a nursery library [MASK] included the works [MASK] kate greenaway and randolph calde oversees – two artists who exerted [MASK] influences on her later art\n",
      ". [SEP] [CLS] [MASK] took correspondence rejoined in art, probably until about 1919. in 1908 [MASK] 13 years, she entered an [MASK] class at the croydon school of art\n",
      ", and attended the [unused678] into the 1940s. in time, she received a teaching position. [SEP] [CLS] in [MASK], raphael tuck [MASK] sons bought four of [MASK] '\n",
      "[MASK] \" little drawings [MASK] for half a sovereign, and published them as [MASK]cards. in october 1911, she won second prize [MASK] the croydon art society's\n",
      "poster competition, and shortly [MASK] was elected the youngest member crisis [MASK] society. the art critic for the croydon advertiser remarked, \" her drawings [MASK] a remarkable\n",
      "freedom 1086 spirit [MASK] she has distinct promise [MASK] \" [SEP] [CLS] following her father ’ s death in june 1912, the seventeen @ - @ year @ - [MASK] old\n",
      "[MASK] submitted art and poetry to my magazine, child ’ s own, leading strings [MASK] and raphael tuck annuals in [MASK] effort to support both [MASK] mother and sister\n",
      ". her sister dorothy taught kindergarten in two private schools before opening a kindergarten at home. she brought in [MASK] money for the family [MASK] s support [MASK] supervising the household\n",
      ". [SEP] [CLS] fairies became a popular theme in [MASK] [MASK] [MASK] in the early quartet [MASK] [MASK] the releases of the coming of [MASK] fairies by sir arthur conan doyle,\n",
      "peter pan by j. m. [MASK], [MASK] the [MASK] @ - @ themed work of [MASK] ida < unk > outhwaite. queen mary made such\n",
      "themes even [MASK] popular by sending outhwaite postcards to friends during the 1920s. in 1918, barker produced [MASK] postcard series depicting elves and fairies. [SEP]\n",
      "[CLS] in 1923 [MASK] barker [MASK] her flower fairy paintings to various publishers. blackie paid £ 25 for 24 paintings [MASK] accompanying verses, but it wasn't until\n",
      "[MASK] [MASK] flower fairies of the summer in 1925 that barker received royalties for her work [MASK] mary violet clayton calth [MASK], wife of [MASK] dion clayton calthrop\n",
      ", wrote in april 1925 about barker and flowerwg of the spring : \" she has such exquisite taste, besides draughtsmanship [MASK] [MASK] [SEP] [CLS] in 1924,\n",
      "the family moved into a four @ - @ level, semi @ revolves @ detached victorian [MASK] woodrow 23 the waldrons [MASK] barkerfication a studio built [MASK] [MASK]\n",
      "garden and her 58 conducted a kindergarten in a room at the back of the house. the family lived frugally and attended both [MASK]. edmund's and\n",
      "st. andrew's in croydon – \" low \" churches [MASK] [MASK] less privileged. barker sometimes incorporated [MASK] of her fellow parishioners in her religious works.\n",
      "she humming [MASK] by canon ingram [MASK] as \" one of the pillars \" of st. andrew'[MASK]. [SEP] [CLS] the children in the kindergarten modelled [MASK] the flower\n",
      "fairies until the kindergarten closed in 1940 earrings in an [MASK] in 1958, barker said, \" my sister ran [MASK] kindergarten and [MASK] used to borrow her [MASK] for models\n"
     ]
    }
   ],
   "source": [
    "user.print(true_user_data)"
   ]
  },
  {
   "cell_type": "code",
   "execution_count": 15,
   "id": "1e1bb30f",
   "metadata": {},
   "outputs": [
    {
     "data": {
      "text/plain": [
       "tensor([[  101, 25022,   103,  ...,  1998,  4870,  1012],\n",
       "        [12852,  1005,   103,  ..., 11799,  2932, 11249],\n",
       "        [ 1010,  1998,  2014,  ...,  2001,  1037, 21134],\n",
       "        ...,\n",
       "        [ 2358,  1012,  4080,  ...,  3412,  2573,  1012],\n",
       "        [ 2016, 20364,   103,  ...,   103,  1996,  6546],\n",
       "        [20182,  2127,  1996,  ...,   103,  2005,  4275]])"
      ]
     },
     "execution_count": 15,
     "metadata": {},
     "output_type": "execute_result"
    }
   ],
   "source": [
    "true_user_data[\"data\"]"
   ]
  },
  {
   "cell_type": "markdown",
   "id": "f2867bcc",
   "metadata": {},
   "source": [
    "# Reconstruct user data"
   ]
  },
  {
   "cell_type": "code",
   "execution_count": 16,
   "id": "36a95f7f",
   "metadata": {},
   "outputs": [],
   "source": [
    "# attacker.cfg.sentence_algorithm = \"k-means\"\n",
    "attacker.cfg.embedding_token_weight = 0.25"
   ]
  },
  {
   "cell_type": "code",
   "execution_count": 17,
   "id": "17c4ffdf",
   "metadata": {},
   "outputs": [
    {
     "name": "stdout",
     "output_type": "stream",
     "text": [
      "Recovered tokens tensor([    3,     5,     6,  ..., 30512, 30517, 30520]) through strategy mixed.\n",
      "Recovered 957 embeddings with positional data from imprinted layer.\n",
      "Assigned [29, 28, 29, 28, 31, 31, 31, 29, 32, 29, 30, 30, 30, 31, 29, 29, 31, 30, 29, 31, 30, 30, 31, 30, 30, 29, 30, 32, 31, 31, 28, 28] breached embeddings to each sentence.\n",
      "Replaced 643 tokens with avg. corr 0.1170421838760376 with new tokens with avg corr 0.9976682066917419\n",
      "with painting books and a nursery library [MASK] included the, [MASK] kate greenaway and randolph cal ) oversees –. artists who exerted [MASK] influences on her later art\n",
      "[CLS] ci [MASK]y mary barker ( two [MASK] [MASK] – 16 february 1973 surgeons strings, english illustrator [MASK] on for a series of fantasy illustrations depicting fairies and flowers.\n",
      "barker [MASK] [MASK] art education began in girlhood with [MASK] a [MASK] instruction at the croydon school of art. her earliest professional of [MASK] [MASK] cards and juvenile magazine illustrations\n",
      "to in a kindergarten [MASK] company [MASK] a amateur [MASK], and his wife mary eleanor ( oswald ) barker on 28 june 1895 at - at 66 [MASK]ddon road\n",
      "middle class. a nanny, a governess, [MASK] a cook to prepare special meals for barker were hired. she spent much time in bed at home made herself\n",
      ", and attended the [unused678] into the 1940s. in time, she received a teaching position. [SEP] [CLS] in [MASK], raphael tuck [MASK] sons bought four of [MASK] flower\n",
      ". her sister dorothy taught kindergarten in two private schools remaining opening a kindergarten at home. she brought in [MASK] money for the family [MASK] s support [MASK] supervising the household\n",
      ", [MASK] in april 1925 about barker and flowerwg of the spring : she she has such exquisite taste, besides hersmanship [MASK] [MASK] [SEP] [CLS] in 1924,\n",
      "[CLS] in 1923 [MASK] barker [MASK] colonies flower fairy paintings to various publishers. blackie her £ 25 for 24 paintings [MASK] accompanying verses, but it wasn't until\n",
      "hymns and, donated [MASK] with her sister dorothy, he leadeth me. she designed a stained glass raphael [MASK] [MASK]. edmund. s church, pitlake,\n",
      "she humming [MASK] by canon ingram [MASK] ashood one of the pillars has of st. andrew'[MASK]. [SEP] [CLS] the children in the kindergarten modelled [MASK] the flower\n",
      "fairies until the kindergarten closed in 1940 earrings in child [MASK] in 1958, barker said, such my sister ran [MASK] kindergarten and [MASK] used to borrow her [MASK] for models\n",
      "[MASK] [MASK] flower fairies of the summer in 1925 that barker received royalties for her in [MASK] mary violet clayton cal [MASK] [MASK],th of [MASK] dion clayton cal therop\n",
      "anglican,cene donated her artworks to christian [MASK]s and missionary [MASK]. she produced a few [MASK] @ [MASK] [MASK] themed books [MASK] as the [MASK] ’ s [MASK] of\n",
      "freedom 1086 spirit [MASK] she has distinct promise [MASK]wg [SEP] [CLS] following her father ’ s death [MASK] june hired, the seventeen @ - @ year @ - [MASK] old\n",
      "until 1985 [MASK] a [unused678] collection [MASK] assembled from her remaining opening and published posthumously [MASK] [SEP] [CLS] barker was born [MASK] second daughter and youngest to of walter barker [MASK] a\n",
      "in [MASK], surrey, england. [MASK] was [MASK] epileptic as a sister, [MASK] cared for at home by her parents. later, her wasn and elder\n",
      ", [MASK] [MASK] ink, oils the and pastels. kate greenaway [MASK] the pre @ - @ raphaelites were [MASK] principal influences on [MASK] queen [MASK] [MASK] claimed\n",
      "garden and her 58 conducted a kindergarten in a room of the back of thecards. the family lived fruga by and attended both [MASK]. edmund's and\n",
      "[MASK] submitted art and poetry to my magazine, child ’ s own, leading strings [MASK] and raphael tuck annuals in [MASK] effort to support both [MASK] mary and sister\n",
      "[MASK] submitted little drawings [MASK] for half a sovereign, and published she as [MASK]cards. in october 1911, she won second prize [MASK] the croydon art society's\n",
      ". [SEP] [CLS] fairies her a popular theme in [MASK] [MASK] [MASK] in the early quartet [MASK] [MASK] the releases of the coming of attended fairies by sir arthur conan doyle,\n",
      "poster competition, and shortly [MASK] was elected the youngest member crisis [MASK] society. the art critic for the croydon advertiser remarked, by her drawings [MASK] a remarkable\n",
      ". [SEP] [CLS] [MASK] took correspondence rejoined in art, probably 1973 about 1919. in 1908 [MASK] 13 years, she entered 1895 [MASK] class at the croydon school of art\n",
      ", and her first book, flower fairies of 1912 of, was [SEP] in 1923 [MASK] similar books were published in the following decades. the [CLS] barker was a incentives\n",
      "by family years, dorothy oswald barker, continued the care. [SEP] [CLS] the family of four was moderately [MASK] off, and ex to the lowertled [MASK] [MASK] [MASK]\n",
      "to paint [MASK] and rejected artistic theories. barker died in 1973. though she published, [MASK] [MASK] with spring,k, and [MASK] themes, it wasn'[MASK]\n",
      "the family moved into a four @ - @ level, semi @ revolves @ detached victorian [MASK] woodrow 23 the waldrons [MASK] barkerfication a studio built [MASK] [MASK]\n",
      "themes even [MASK] popular by sending out.ite postcards to friends during the 1920s. in 1918, barker produced [MASK] postcard series depicting elves and fairies. [SEP]\n",
      "and her painting of [MASK] twenty20 child, the [MASK] of the world has come, was purchased contemplating [MASK] mary. [SEP] [CLS] barker was equally in in water [MASK] [MASK]\n",
      "peter [MASK] by j. m. [MASK], [MASK] the [MASK] @ - surgeons themed 1908 of [MASK] ida < unk > out.ite. queen mary made such\n",
      "st. andrew first s in croydon – barker low of churches [MASK] [MASK] less privileged of barker sometimes incorporated [MASK] of her fellow parishioners in her religious works.\n"
     ]
    }
   ],
   "source": [
    "reconstructed_user_data, stats = attacker.reconstruct([server_payload], [shared_data], \n",
    "                                                      server.secrets, dryrun=cfg.dryrun)\n",
    "# user.print(reconstructed_user_data)"
   ]
  },
  {
   "cell_type": "code",
   "execution_count": 18,
   "id": "0a37a4d2",
   "metadata": {},
   "outputs": [
    {
     "name": "stdout",
     "output_type": "stream",
     "text": [
      "METRICS: | Accuracy: 0.9287 | S-BLEU: 0.87 | FMSE: 1.2758e+02 | \n",
      " G-BLEU: 0.79 | ROUGE1: 0.93| ROUGE2: 0.84 | ROUGE-L: 0.92| Token Acc: 94.14% | Label Acc: 9.96%\n"
     ]
    },
    {
     "data": {
      "text/plain": [
       "{'order': tensor([ 1,  2, 24, 13,  9, 29, 17, 26, 15,  3, 16, 25,  4,  0, 23,  5, 20, 22,\n",
       "         14, 19,  6, 21, 30, 28,  8, 12,  7, 27, 18, 31, 10, 11]),\n",
       " 'intra-sentence_token_acc': [0.875,\n",
       "  0.90625,\n",
       "  0.9375,\n",
       "  0.96875,\n",
       "  0.90625,\n",
       "  0.96875,\n",
       "  0.9375,\n",
       "  0.9375,\n",
       "  0.90625,\n",
       "  0.875,\n",
       "  0.96875,\n",
       "  0.9375,\n",
       "  0.96875,\n",
       "  0.90625,\n",
       "  0.9375,\n",
       "  0.96875,\n",
       "  0.9375,\n",
       "  0.96875,\n",
       "  0.90625,\n",
       "  0.96875,\n",
       "  0.96875,\n",
       "  0.9375,\n",
       "  0.875,\n",
       "  0.96875,\n",
       "  0.96875,\n",
       "  0.90625,\n",
       "  0.90625,\n",
       "  1.0,\n",
       "  0.90625,\n",
       "  0.875,\n",
       "  0.9375,\n",
       "  0.9375],\n",
       " 'accuracy': 0.9287109375,\n",
       " 'bleu': 0.806838918551962,\n",
       " 'google_bleu': 0.7936507936507936,\n",
       " 'sacrebleu': 0.86828580802873,\n",
       " 'rouge1': 0.9289865438539718,\n",
       " 'rouge2': 0.8444166904524608,\n",
       " 'rougeL': 0.9240143891989743,\n",
       " 'token_acc': 0.94140625,\n",
       " 'feat_mse': 127.57867431640625,\n",
       " 'parameters': 109514298,\n",
       " 'label_acc': 0.099609375}"
      ]
     },
     "execution_count": 18,
     "metadata": {},
     "output_type": "execute_result"
    }
   ],
   "source": [
    "metrics = breaching.analysis.report(reconstructed_user_data, true_user_data, [server_payload], \n",
    "                                    server.model, cfg_case=cfg.case, setup=setup)\n",
    "metrics"
   ]
  },
  {
   "cell_type": "code",
   "execution_count": null,
   "id": "c0abf35e",
   "metadata": {},
   "outputs": [],
   "source": []
  }
 ],
 "metadata": {
  "kernelspec": {
   "display_name": "Python 3 (ipykernel)",
   "language": "python",
   "name": "python3"
  },
  "language_info": {
   "codemirror_mode": {
    "name": "ipython",
    "version": 3
   },
   "file_extension": ".py",
   "mimetype": "text/x-python",
   "name": "python",
   "nbconvert_exporter": "python",
   "pygments_lexer": "ipython3",
   "version": "3.9.7"
  }
 },
 "nbformat": 4,
 "nbformat_minor": 5
}
