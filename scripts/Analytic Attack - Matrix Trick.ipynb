{
 "cells": [
  {
   "cell_type": "markdown",
   "id": "3ebef44a",
   "metadata": {},
   "source": [
    "# Breaching privacy"
   ]
  },
  {
   "cell_type": "markdown",
   "id": "a756fc5f",
   "metadata": {},
   "source": [
    "This notebook does the same job as the cmd-line tool `breach.py`, but also directly visualizes the user data and reconstruction"
   ]
  },
  {
   "cell_type": "code",
   "execution_count": null,
   "id": "b850eabf",
   "metadata": {},
   "outputs": [],
   "source": [
    "import torch\n",
    "import hydra\n",
    "from omegaconf import OmegaConf\n",
    "%load_ext autoreload\n",
    "%autoreload 2\n",
    "\n",
    "import breaching\n",
    "import logging, sys\n",
    "logging.basicConfig(level=logging.INFO, handlers=[logging.StreamHandler(sys.stdout)], format='%(message)s')\n",
    "logger = logging.getLogger()"
   ]
  },
  {
   "cell_type": "markdown",
   "id": "88d5e214",
   "metadata": {},
   "source": [
    "### Initialize cfg object and system setup:"
   ]
  },
  {
   "cell_type": "markdown",
   "id": "56bd663b",
   "metadata": {},
   "source": [
    "This will print out all configuration options. \n",
    "There are a lot of possible configurations, but there is usually no need to worry about most of these. Below, a few options are printed."
   ]
  },
  {
   "cell_type": "code",
   "execution_count": null,
   "id": "a7dc3a48",
   "metadata": {},
   "outputs": [],
   "source": [
    "with hydra.initialize(config_path=\"config\"):\n",
    "    cfg = hydra.compose(config_name='cfg', overrides=['attack=imprint', 'case/server=malicious-model']) \n",
    "    #                                                      'case=1_single_image_small'\n",
    "    print(f'Investigating use case {cfg.case.name} with server type {cfg.case.server.name}.')\n",
    "    print('Attack settings are:')\n",
    "    print(OmegaConf.to_yaml(cfg.attack))\n",
    "          \n",
    "device = torch.device(f'cuda') if torch.cuda.is_available() else torch.device('cpu')\n",
    "torch.backends.cudnn.benchmark = cfg.case.impl.benchmark\n",
    "setup = dict(device=device, dtype=torch.float)\n",
    "setup"
   ]
  },
  {
   "cell_type": "markdown",
   "id": "203c5fb1",
   "metadata": {},
   "source": [
    "### Modify config options here"
   ]
  },
  {
   "cell_type": "markdown",
   "id": "6e0764ef",
   "metadata": {},
   "source": [
    "You can use `.attribute` access to modify any of these configurations:"
   ]
  },
  {
   "cell_type": "code",
   "execution_count": null,
   "id": "ac118ea0",
   "metadata": {},
   "outputs": [],
   "source": [
    "cfg.case.user.num_data_points = 64\n",
    "cfg.case.server.model_modification.type = 'ImprintBlock' \n",
    "cfg.case.server.model_modification.linfunc = \"fourier\"\n",
    "cfg.case.server.model_modification.num_bins = 128\n",
    "# cfg.case.server.model_modification.position = None  #3.0.conv?\n",
    "cfg.case.server.model_modification.connection = 'add'\n",
    "cfg.case.user.provide_labels = True"
   ]
  },
  {
   "cell_type": "markdown",
   "id": "76f64389",
   "metadata": {},
   "source": [
    "### Instantiate all parties"
   ]
  },
  {
   "cell_type": "code",
   "execution_count": null,
   "id": "2e4d4d6d",
   "metadata": {},
   "outputs": [],
   "source": [
    "user, server, model, loss_fn = breaching.cases.construct_case(cfg.case, setup)\n",
    "attacker = breaching.attacks.prepare_attack(server.model, server.loss, cfg.attack, setup)\n",
    "breaching.utils.overview(server, user, attacker)"
   ]
  },
  {
   "cell_type": "markdown",
   "id": "548c0ad6",
   "metadata": {},
   "source": [
    "### Simulate an attacked FL protocol"
   ]
  },
  {
   "cell_type": "markdown",
   "id": "2058bcc2",
   "metadata": {},
   "source": [
    "True user data is returned only for analysis"
   ]
  },
  {
   "cell_type": "code",
   "execution_count": null,
   "id": "1b52aaf8",
   "metadata": {},
   "outputs": [],
   "source": [
    "# server.model[1].linear0.reset_parameters()\n",
    "# server.model[1].linear0.weight.data = server.model[1].linear0.weight.cumsum(dim=0)\n",
    "# server.model[1].linear0.bias.data = server.model[1].linear0.bias.cumsum(dim=0)\n",
    "\n",
    "# server.model[1].linear0.weight.data = true_user_data[\"data\"].view(-1, 3*224*224)\n",
    "# corr = true_user_data[\"data\"].view(64, -1).matmul(true_user_data[\"data\"].view(64, -1).T).diag() / 2\n",
    "# server.model[1].linear0.bias.data = corr\n",
    "\n",
    "# server.model[1].linear2.reset_parameters()"
   ]
  },
  {
   "cell_type": "code",
   "execution_count": null,
   "id": "e5fc4a87",
   "metadata": {},
   "outputs": [],
   "source": []
  },
  {
   "cell_type": "code",
   "execution_count": null,
   "id": "3f2a2e33",
   "metadata": {},
   "outputs": [],
   "source": [
    "server_payload = server.distribute_payload()\n",
    "shared_data, true_user_data = user.compute_local_updates(server_payload)"
   ]
  },
  {
   "cell_type": "code",
   "execution_count": null,
   "id": "49c68628",
   "metadata": {},
   "outputs": [],
   "source": [
    "user.plot(true_user_data)"
   ]
  },
  {
   "cell_type": "markdown",
   "id": "f2867bcc",
   "metadata": {},
   "source": [
    "# Reconstruct user data"
   ]
  },
  {
   "cell_type": "code",
   "execution_count": null,
   "id": "04521004",
   "metadata": {},
   "outputs": [],
   "source": [
    "reconstructed_user_data, stats = attacker.reconstruct(server_payload, shared_data, \n",
    "                                                      server.secrets, dryrun=cfg.dryrun)"
   ]
  },
  {
   "cell_type": "code",
   "execution_count": null,
   "id": "0de62300",
   "metadata": {},
   "outputs": [],
   "source": [
    "user.plot(reconstructed_user_data, scale=False)"
   ]
  },
  {
   "cell_type": "code",
   "execution_count": null,
   "id": "342d33a0",
   "metadata": {},
   "outputs": [],
   "source": [
    "# How good is the reconstruction?\n",
    "metrics = breaching.analysis.report(reconstructed_user_data, true_user_data, \n",
    "                                    server_payload, server.model, user.dataloader, setup=setup,\n",
    "                                    order_batch=True, compute_full_iip=False)"
   ]
  },
  {
   "cell_type": "code",
   "execution_count": null,
   "id": "5eb84e73",
   "metadata": {},
   "outputs": [],
   "source": [
    "user.plot(reconstructed_user_data, scale=False)"
   ]
  },
  {
   "cell_type": "code",
   "execution_count": null,
   "id": "f4561b3b",
   "metadata": {},
   "outputs": [],
   "source": [
    "import torch.nn.functional as F\n",
    "import matplotlib.pyplot as plt"
   ]
  },
  {
   "cell_type": "code",
   "execution_count": null,
   "id": "d426b452",
   "metadata": {},
   "outputs": [],
   "source": [
    "W = shared_data[\"gradients\"][0]\n",
    "b = shared_data[\"gradients\"][1]\n",
    "B = shared_data[\"metadata\"][\"num_data_points\"]\n",
    "\n",
    "x = true_user_data[\"data\"].view(B, -1)"
   ]
  },
  {
   "cell_type": "code",
   "execution_count": null,
   "id": "a3ef6fd7",
   "metadata": {},
   "outputs": [],
   "source": [
    "W.shape, b.shape, x.shape"
   ]
  },
  {
   "cell_type": "code",
   "execution_count": null,
   "id": "6d4ee53e",
   "metadata": {},
   "outputs": [],
   "source": [
    "# Want to solve for: 10xB solutions"
   ]
  },
  {
   "cell_type": "code",
   "execution_count": null,
   "id": "19ce2672",
   "metadata": {},
   "outputs": [],
   "source": [
    "# correct a_{it}:"
   ]
  },
  {
   "cell_type": "code",
   "execution_count": null,
   "id": "b5d5dae3",
   "metadata": {},
   "outputs": [],
   "source": [
    "y = user.model[1].linear0(x)\n",
    "activations = F.relu(y)\n",
    "try:\n",
    "    outputs = user.model[3][1](user.model[1].linear2(activations))\n",
    "except:\n",
    "    outputs = user.model[3]((x + activations.mean(dim=1, keepdim=True)).view(-1, 3, 224, 224))\n",
    "loss = user.loss(outputs, true_user_data[\"labels\"])\n",
    "a, = torch.autograd.grad(loss, [y])"
   ]
  },
  {
   "cell_type": "code",
   "execution_count": null,
   "id": "33fe8a05",
   "metadata": {},
   "outputs": [],
   "source": [
    "recovered_grad = (a[:, :, None] *  x[:, None, :]).sum(dim=0)"
   ]
  },
  {
   "cell_type": "code",
   "execution_count": null,
   "id": "233a9cfe",
   "metadata": {},
   "outputs": [],
   "source": [
    "torch.dist(W, recovered_grad), torch.dist(b, a.sum(dim=0))"
   ]
  },
  {
   "cell_type": "code",
   "execution_count": null,
   "id": "c9a1f0d6",
   "metadata": {},
   "outputs": [],
   "source": [
    "plt.imshow(a)"
   ]
  },
  {
   "cell_type": "code",
   "execution_count": null,
   "id": "fcfe0d7a",
   "metadata": {},
   "outputs": [],
   "source": [
    "plt.imshow(activations.clone().detach())"
   ]
  },
  {
   "cell_type": "code",
   "execution_count": null,
   "id": "0a243f17",
   "metadata": {},
   "outputs": [],
   "source": [
    "(a[:, :, None] *  x[:, None, :]).shape"
   ]
  },
  {
   "cell_type": "code",
   "execution_count": null,
   "id": "223e9f26",
   "metadata": {},
   "outputs": [],
   "source": [
    "plt.imshow((a[:, :, None] *  x[:, None, :]).sum(dim=-1))"
   ]
  },
  {
   "cell_type": "code",
   "execution_count": null,
   "id": "952c2776",
   "metadata": {},
   "outputs": [],
   "source": [
    "a.unique(), len(a.unique())"
   ]
  },
  {
   "cell_type": "code",
   "execution_count": null,
   "id": "8cd9e6b0",
   "metadata": {},
   "outputs": [],
   "source": [
    "# Recover x from a and W:"
   ]
  },
  {
   "cell_type": "code",
   "execution_count": null,
   "id": "08819f35",
   "metadata": {},
   "outputs": [],
   "source": [
    "x.mean(dim=1)"
   ]
  },
  {
   "cell_type": "code",
   "execution_count": null,
   "id": "68a575dc",
   "metadata": {},
   "outputs": [],
   "source": [
    "W.shape, a.shape"
   ]
  },
  {
   "cell_type": "code",
   "execution_count": null,
   "id": "dff2008a",
   "metadata": {},
   "outputs": [],
   "source": [
    "P = 1 / a[:,0:1]\n",
    "P.shape, W.shape"
   ]
  },
  {
   "cell_type": "code",
   "execution_count": null,
   "id": "a1c9d289",
   "metadata": {},
   "outputs": [],
   "source": [
    "a.shape"
   ]
  },
  {
   "cell_type": "code",
   "execution_count": null,
   "id": "926ce529",
   "metadata": {},
   "outputs": [],
   "source": [
    "x_rec = torch.linalg.lstsq(W, a.T, driver=\"gelsy\", rcond=1e-16) #‘gels’, ‘gelsy’, ‘gelsd, ‘gelss’\n",
    "# P = 1 / a[:,0:1]\n",
    "# x_rec = torch.linalg.lstsq(W, (a * P).T, driver=\"gelsy\", rcond=1e-16)\n",
    "x_rec"
   ]
  },
  {
   "cell_type": "code",
   "execution_count": null,
   "id": "a6c27bc8",
   "metadata": {},
   "outputs": [],
   "source": [
    "torch.dist(x_rec.solution.T * x.norm() / x_rec.solution.T.norm(), x)"
   ]
  },
  {
   "cell_type": "code",
   "execution_count": null,
   "id": "ca6815db",
   "metadata": {},
   "outputs": [],
   "source": [
    "img = x_rec.solution.T[0].view(3, 224, 224).permute(1, 2, 0)\n",
    "img_scaled = (img - img.min()) / (img.max() - img.min())"
   ]
  },
  {
   "cell_type": "code",
   "execution_count": null,
   "id": "07ac7dee",
   "metadata": {},
   "outputs": [],
   "source": [
    "plt.imshow(img_scaled)"
   ]
  },
  {
   "cell_type": "code",
   "execution_count": null,
   "id": "2efe59dc",
   "metadata": {},
   "outputs": [],
   "source": [
    "data = x_rec.solution.T.view(B, 3, 224, 224)\n",
    "min_val, max_val = data.amin(dim=[2, 3], keepdim=True), data.amax(dim=[2, 3], keepdim=True)\n",
    "data = ((data - min_val) / (max_val - min_val) - attacker.dm) / attacker.ds\n",
    "fake_rec_data = dict(data=data, labels=true_user_data[\"labels\"])\n",
    "user.plot(fake_rec_data, scale=False)"
   ]
  },
  {
   "cell_type": "code",
   "execution_count": null,
   "id": "0fa4e1c0",
   "metadata": {},
   "outputs": [],
   "source": [
    "metrics = breaching.analysis.report(fake_rec_data, true_user_data, \n",
    "                                    server_payload, server.model, user.dataloader, setup=setup,\n",
    "                                    order_batch=True, compute_full_iip=False)"
   ]
  },
  {
   "cell_type": "code",
   "execution_count": null,
   "id": "c2fe6721",
   "metadata": {},
   "outputs": [],
   "source": [
    "K = torch.triu(torch.ones(128, 128))  # / torch.arange(1, 129)\n",
    "D = K.inverse()\n",
    "Wp = server_payload[\"queries\"][0][\"parameters\"][0]"
   ]
  },
  {
   "cell_type": "code",
   "execution_count": null,
   "id": "5b905292",
   "metadata": {},
   "outputs": [],
   "source": [
    "b"
   ]
  },
  {
   "cell_type": "code",
   "execution_count": null,
   "id": "4962bd14",
   "metadata": {},
   "outputs": [],
   "source": [
    "rec = dict(data=(D@W / (D@b)[:, None]).view(-1, 3, 224, 224), labels=None)"
   ]
  },
  {
   "cell_type": "code",
   "execution_count": null,
   "id": "00fe6b0e",
   "metadata": {},
   "outputs": [],
   "source": [
    "user.plot(rec, scale=False)"
   ]
  },
  {
   "cell_type": "code",
   "execution_count": null,
   "id": "1e72eac1",
   "metadata": {},
   "outputs": [],
   "source": [
    "D@W / (D@b)[:, None]"
   ]
  },
  {
   "cell_type": "code",
   "execution_count": null,
   "id": "1db7ba16",
   "metadata": {},
   "outputs": [],
   "source": [
    "a.sum(dim=0).shape"
   ]
  }
 ],
 "metadata": {
  "kernelspec": {
   "display_name": "Python 3 (ipykernel)",
   "language": "python",
   "name": "python3"
  },
  "language_info": {
   "codemirror_mode": {
    "name": "ipython",
    "version": 3
   },
   "file_extension": ".py",
   "mimetype": "text/x-python",
   "name": "python",
   "nbconvert_exporter": "python",
   "pygments_lexer": "ipython3",
   "version": "3.9.7"
  }
 },
 "nbformat": 4,
 "nbformat_minor": 5
}
