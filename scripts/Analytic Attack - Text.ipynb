{
 "cells": [
  {
   "cell_type": "markdown",
   "id": "3ebef44a",
   "metadata": {},
   "source": [
    "# Breaching privacy"
   ]
  },
  {
   "cell_type": "markdown",
   "id": "a756fc5f",
   "metadata": {},
   "source": [
    "This notebook does the same job as the cmd-line tool `simulate_breach.py`, but also directly visualizes the user data and reconstruction"
   ]
  },
  {
   "cell_type": "code",
   "execution_count": 1,
   "id": "b850eabf",
   "metadata": {},
   "outputs": [],
   "source": [
    "import torch\n",
    "import hydra\n",
    "from omegaconf import OmegaConf\n",
    "%load_ext autoreload\n",
    "%autoreload 2\n",
    "\n",
    "import breaching\n",
    "import logging, sys\n",
    "logging.basicConfig(level=logging.INFO, handlers=[logging.StreamHandler(sys.stdout)], format='%(message)s')\n",
    "logger = logging.getLogger()"
   ]
  },
  {
   "cell_type": "markdown",
   "id": "88d5e214",
   "metadata": {},
   "source": [
    "### Initialize cfg object and system setup:"
   ]
  },
  {
   "cell_type": "markdown",
   "id": "56bd663b",
   "metadata": {},
   "source": [
    "This will print out all configuration options. \n",
    "There are a lot of possible configurations, but there is usually no need to worry about most of these. Below, a few options are printed."
   ]
  },
  {
   "cell_type": "markdown",
   "id": "26070d66",
   "metadata": {},
   "source": [
    "Choose `case/data=` `shakespeare`, `wikitext`over `stackoverflow` here:"
   ]
  },
  {
   "cell_type": "code",
   "execution_count": 2,
   "id": "a7dc3a48",
   "metadata": {},
   "outputs": [
    {
     "name": "stdout",
     "output_type": "stream",
     "text": [
      "Investigating use case single_imagenet with server type malicious_transformer_parameters.\n"
     ]
    },
    {
     "data": {
      "text/plain": [
       "{'device': device(type='cpu'), 'dtype': torch.float32}"
      ]
     },
     "execution_count": 2,
     "metadata": {},
     "output_type": "execute_result"
    }
   ],
   "source": [
    "with hydra.initialize(config_path=\"config\"):\n",
    "    cfg = hydra.compose(config_name='cfg', overrides=[\"case/data=wikitext\", \"case/server=malicious-transformer\",\n",
    "                                                      \"case.model=transformerS\",\n",
    "                                                      \"attack=decepticon\"])\n",
    "    print(f'Investigating use case {cfg.case.name} with server type {cfg.case.server.name}.')\n",
    "          \n",
    "device = torch.device(f'cuda:0') if torch.cuda.is_available() else torch.device('cpu')\n",
    "torch.backends.cudnn.benchmark = cfg.case.impl.benchmark\n",
    "setup = dict(device=device, dtype=torch.float)\n",
    "setup"
   ]
  },
  {
   "cell_type": "markdown",
   "id": "203c5fb1",
   "metadata": {},
   "source": [
    "### Modify config options here"
   ]
  },
  {
   "cell_type": "markdown",
   "id": "6e0764ef",
   "metadata": {},
   "source": [
    "You can use `.attribute` access to modify any of these configurations:"
   ]
  },
  {
   "cell_type": "code",
   "execution_count": 3,
   "id": "ac118ea0",
   "metadata": {},
   "outputs": [],
   "source": [
    "cfg.case.user.num_data_points = 1 # How many sentences?\n",
    "cfg.case.user.user_idx = 1 # From which user?\n",
    "cfg.case.data.shape = [256] # This is the sequence length\n",
    "\n",
    "cfg.case.server.has_external_data = True\n",
    "cfg.case.data.tokenizer = \"word-level\""
   ]
  },
  {
   "cell_type": "markdown",
   "id": "76f64389",
   "metadata": {},
   "source": [
    "### Instantiate all parties"
   ]
  },
  {
   "cell_type": "code",
   "execution_count": 4,
   "id": "30235b0c",
   "metadata": {},
   "outputs": [
    {
     "name": "stdout",
     "output_type": "stream",
     "text": [
      "Reusing dataset wikitext (/home/jonas/data/wikitext/wikitext-103-v1/1.0.0/aa5e094000ec7afeb74c3be92c88313cd6f132d564c7effd961c10fd47c76f20)\n",
      "Reusing dataset wikitext (/home/jonas/data/wikitext/wikitext-103-v1/1.0.0/aa5e094000ec7afeb74c3be92c88313cd6f132d564c7effd961c10fd47c76f20)\n",
      "Model architecture transformerS loaded with 53,091,409 parameters and 2,560,000 buffers.\n",
      "Overall this is a data ratio of  207388:1 for target shape [1, 256] given that num_queries=1.\n",
      "User (of type UserSingleStep) with settings:\n",
      "    Number of data points: 1\n",
      "\n",
      "    Threat model:\n",
      "    User provides labels: False\n",
      "    User provides buffers: False\n",
      "    User provides number of data points: True\n",
      "\n",
      "    Data:\n",
      "    Dataset: wikitext\n",
      "    user: 1\n",
      "    \n",
      "        \n",
      "Server (of type MaliciousTransformerServer) with settings:\n",
      "    Threat model: Malicious (Parameters)\n",
      "    Number of planned queries: 1\n",
      "    Has external/public data: True\n",
      "\n",
      "    Model:\n",
      "        model specification: transformerS\n",
      "        model state: default\n",
      "        public buffers: False\n",
      "\n",
      "    Secrets: {}\n",
      "    \n",
      "Attacker (of type DecepticonAttacker).\n"
     ]
    }
   ],
   "source": [
    "user, server, model, loss_fn = breaching.cases.construct_case(cfg.case, setup)\n",
    "attacker = breaching.attacks.prepare_attack(server.model, server.loss, cfg.attack, setup)\n",
    "breaching.utils.overview(server, user, attacker)"
   ]
  },
  {
   "cell_type": "markdown",
   "id": "548c0ad6",
   "metadata": {},
   "source": [
    "### Simulate an attacked FL protocol"
   ]
  },
  {
   "cell_type": "markdown",
   "id": "2058bcc2",
   "metadata": {},
   "source": [
    "True user data is returned only for analysis"
   ]
  },
  {
   "cell_type": "code",
   "execution_count": null,
   "id": "3f2a2e33",
   "metadata": {},
   "outputs": [
    {
     "name": "stdout",
     "output_type": "stream",
     "text": [
      "Computing feature distribution before the linear1 layer from external data.\n"
     ]
    }
   ],
   "source": [
    "server_payload = server.distribute_payload()\n",
    "shared_data, true_user_data = user.compute_local_updates(server_payload)"
   ]
  },
  {
   "cell_type": "code",
   "execution_count": null,
   "id": "69c6ff1f",
   "metadata": {},
   "outputs": [],
   "source": [
    "user.print(true_user_data)"
   ]
  },
  {
   "cell_type": "markdown",
   "id": "f2867bcc",
   "metadata": {},
   "source": [
    "# Reconstruct user data"
   ]
  },
  {
   "cell_type": "code",
   "execution_count": null,
   "id": "17c4ffdf",
   "metadata": {},
   "outputs": [],
   "source": [
    "reconstructed_user_data, stats = attacker.reconstruct([server_payload], [shared_data], \n",
    "                                                      server.secrets, dryrun=cfg.dryrun)\n",
    "user.print(reconstructed_user_data)\n",
    "metrics = breaching.analysis.report(reconstructed_user_data, true_user_data, [server_payload], \n",
    "                                    server.model, cfg_case=cfg.case, setup=setup)"
   ]
  },
  {
   "cell_type": "code",
   "execution_count": null,
   "id": "33b7388d",
   "metadata": {},
   "outputs": [],
   "source": [
    "reconstructed_user_data, stats = attacker.reconstruct2([server_payload], [shared_data], \n",
    "                                                      server.secrets, dryrun=cfg.dryrun)\n",
    "user.print(reconstructed_user_data)\n",
    "metrics = breaching.analysis.report(reconstructed_user_data, true_user_data, [server_payload], \n",
    "                                    server.model, cfg_case=cfg.case, setup=setup)"
   ]
  },
  {
   "cell_type": "code",
   "execution_count": null,
   "id": "5cf7c671",
   "metadata": {},
   "outputs": [],
   "source": [
    "reconstructed_user_data, stats = attacker.reconstruct_single_sentence([server_payload], [shared_data], \n",
    "                                                      server.secrets, dryrun=cfg.dryrun)\n",
    "user.print(reconstructed_user_data)\n",
    "metrics = breaching.analysis.report(reconstructed_user_data, true_user_data, [server_payload], \n",
    "                                    server.model, cfg_case=cfg.case, setup=setup)"
   ]
  },
  {
   "cell_type": "code",
   "execution_count": null,
   "id": "0c8de8dd",
   "metadata": {
    "scrolled": true
   },
   "outputs": [],
   "source": [
    "metrics = breaching.analysis.report(true_user_data, true_user_data, [server_payload], \n",
    "                                    server.model, cfg_case=cfg.case, setup=setup)"
   ]
  },
  {
   "cell_type": "code",
   "execution_count": null,
   "id": "2e382528",
   "metadata": {},
   "outputs": [],
   "source": [
    "import datasets\n",
    "s = [\"A\" , \"C\"]\n",
    "t = [\"B\", \"C\"]\n",
    "\n",
    "metric = datasets.load_metric(\"rouge\")\n",
    "score = metric.compute(predictions=t, references=s)\n",
    "score[\"rouge1\"]"
   ]
  },
  {
   "cell_type": "code",
   "execution_count": null,
   "id": "8cc9a7b9",
   "metadata": {},
   "outputs": [],
   "source": [
    "import itertools\n"
   ]
  },
  {
   "cell_type": "code",
   "execution_count": null,
   "id": "08f3e24a",
   "metadata": {},
   "outputs": [],
   "source": [
    "all_scores = []\n",
    "for permutation in itertools.permutations(s):\n",
    "    score = metric.compute(predictions=permutation, references=t)\n",
    "    all_scores.append(score[\"rouge1\"].mid.fmeasure)\n",
    "max(all_scores)"
   ]
  },
  {
   "cell_type": "code",
   "execution_count": null,
   "id": "1eab3db6",
   "metadata": {},
   "outputs": [],
   "source": [
    "from rouge_metric import PyRouge"
   ]
  },
  {
   "cell_type": "code",
   "execution_count": null,
   "id": "23869111",
   "metadata": {},
   "outputs": [],
   "source": [
    "s = [\"A\", \"B\", \"C\"]\n",
    "t = [\"B\", \"A\", \"C\"]"
   ]
  },
  {
   "cell_type": "code",
   "execution_count": null,
   "id": "3444ff08",
   "metadata": {},
   "outputs": [],
   "source": [
    "rouge = PyRouge(rouge_n=1)\n",
    "scores = rouge.evaluate(s, t)\n",
    "scores"
   ]
  },
  {
   "cell_type": "code",
   "execution_count": null,
   "id": "8079b4b3",
   "metadata": {},
   "outputs": [],
   "source": [
    "rouge = PyRouge(rouge_n=1)\n",
    "scores = rouge.evaluate(s, [s * 3] * 3)\n",
    "scores"
   ]
  },
  {
   "cell_type": "code",
   "execution_count": null,
   "id": "46e70343",
   "metadata": {},
   "outputs": [],
   "source": []
  },
  {
   "cell_type": "code",
   "execution_count": null,
   "id": "57a32d70",
   "metadata": {},
   "outputs": [],
   "source": [
    "[s] * 3"
   ]
  }
 ],
 "metadata": {
  "kernelspec": {
   "display_name": "Python 3 (ipykernel)",
   "language": "python",
   "name": "python3"
  },
  "language_info": {
   "codemirror_mode": {
    "name": "ipython",
    "version": 3
   },
   "file_extension": ".py",
   "mimetype": "text/x-python",
   "name": "python",
   "nbconvert_exporter": "python",
   "pygments_lexer": "ipython3",
   "version": "3.9.7"
  }
 },
 "nbformat": 4,
 "nbformat_minor": 5
}
