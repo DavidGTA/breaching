{
 "cells": [
  {
   "cell_type": "markdown",
   "id": "3ebef44a",
   "metadata": {},
   "source": [
    "# Breaching privacy"
   ]
  },
  {
   "cell_type": "markdown",
   "id": "a756fc5f",
   "metadata": {},
   "source": [
    "This notebook does the same job as the cmd-line tool `breach.py`, but also directly visualizes the user data and reconstruction"
   ]
  },
  {
   "cell_type": "code",
   "execution_count": null,
   "id": "b850eabf",
   "metadata": {},
   "outputs": [],
   "source": [
    "import torch\n",
    "import hydra\n",
    "from omegaconf import OmegaConf\n",
    "%load_ext autoreload\n",
    "%autoreload 2\n",
    "\n",
    "import breaching\n",
    "import logging, sys\n",
    "logging.basicConfig(level=logging.INFO, handlers=[logging.StreamHandler(sys.stdout)], format='%(message)s')\n",
    "logger = logging.getLogger()"
   ]
  },
  {
   "cell_type": "markdown",
   "id": "88d5e214",
   "metadata": {},
   "source": [
    "### Initialize cfg object and system setup:"
   ]
  },
  {
   "cell_type": "markdown",
   "id": "56bd663b",
   "metadata": {},
   "source": [
    "This will print out all configuration options. \n",
    "There are a lot of possible configurations, but there is usually no need to worry about most of these. Below, a few options are printed."
   ]
  },
  {
   "cell_type": "code",
   "execution_count": null,
   "id": "a7dc3a48",
   "metadata": {},
   "outputs": [],
   "source": [
    "with hydra.initialize(config_path=\"config\"):\n",
    "    cfg = hydra.compose(config_name='cfg', overrides=['case=1_single_image_small'])\n",
    "    print(f'Investigating use case {cfg.case.name} with server type {cfg.case.server.name}.')\n",
    "    print('Attack settings are:')\n",
    "          \n",
    "device = torch.device(f'cuda') if torch.cuda.is_available() else torch.device('cpu')\n",
    "torch.backends.cudnn.benchmark = cfg.case.impl.benchmark\n",
    "setup = dict(device=device, dtype=getattr(torch, cfg.case.impl.dtype))\n",
    "setup"
   ]
  },
  {
   "cell_type": "markdown",
   "id": "203c5fb1",
   "metadata": {},
   "source": [
    "### Modify config options here"
   ]
  },
  {
   "cell_type": "markdown",
   "id": "6e0764ef",
   "metadata": {},
   "source": [
    "You can use `.attribute` access to modify any of these configurations:"
   ]
  },
  {
   "cell_type": "code",
   "execution_count": null,
   "id": "ac118ea0",
   "metadata": {},
   "outputs": [],
   "source": [
    "cfg.case.user.data_idx = 1200\n",
    "cfg.case.user.num_data_points = 1\n",
    "\n",
    "cfg.attack.regularization.total_variation.scale=1e-5\n",
    "cfg.attack.optim.max_iterations=8000\n",
    "\n",
    "cfg.case.model='resnet20'"
   ]
  },
  {
   "cell_type": "markdown",
   "id": "76f64389",
   "metadata": {},
   "source": [
    "### Instantiate all parties"
   ]
  },
  {
   "cell_type": "code",
   "execution_count": null,
   "id": "d3abd955",
   "metadata": {},
   "outputs": [],
   "source": [
    "user, server, model, loss_fn = breaching.cases.construct_case(cfg.case, setup)\n",
    "attacker = breaching.attacks.prepare_attack(server.model, server.loss, cfg.attack, setup)\n",
    "breaching.utils.overview(server, user, attacker)"
   ]
  },
  {
   "cell_type": "code",
   "execution_count": null,
   "id": "8c7273d4",
   "metadata": {
    "scrolled": false
   },
   "outputs": [],
   "source": [
    "print(user)\n",
    "print(server)\n",
    "print(attacker)"
   ]
  },
  {
   "cell_type": "markdown",
   "id": "548c0ad6",
   "metadata": {},
   "source": [
    "### Simulate an attacked FL protocol"
   ]
  },
  {
   "cell_type": "markdown",
   "id": "2058bcc2",
   "metadata": {},
   "source": [
    "True user data is returned only for analysis"
   ]
  },
  {
   "cell_type": "code",
   "execution_count": null,
   "id": "b0dbd868",
   "metadata": {},
   "outputs": [],
   "source": [
    "server_payload = server.distribute_payload()\n",
    "shared_data, true_user_data = user.compute_local_updates(server_payload)  \n",
    "# [(g.mean(), g.std()) for g in shared_data['gradients'][0]]"
   ]
  },
  {
   "cell_type": "code",
   "execution_count": null,
   "id": "49c68628",
   "metadata": {},
   "outputs": [],
   "source": [
    "user.plot(true_user_data)"
   ]
  },
  {
   "cell_type": "markdown",
   "id": "17255c5a",
   "metadata": {},
   "source": [
    "### Reconstruct user data:"
   ]
  },
  {
   "cell_type": "code",
   "execution_count": null,
   "id": "8a2f0092",
   "metadata": {},
   "outputs": [],
   "source": [
    "reconstructed_user_data, stats = attacker.reconstruct([server_payload], [shared_data], \n",
    "                                                      server.secrets, dryrun=cfg.dryrun)\n",
    "\n",
    "# How good is the reconstruction?\n",
    "metrics = breaching.analysis.report(reconstructed_user_data, true_user_data, \n",
    "                                    server_payload, server.model, user.dataloader, setup=setup,\n",
    "                                    order_batch=True, compute_full_iip=False)"
   ]
  },
  {
   "cell_type": "code",
   "execution_count": null,
   "id": "631f4a84",
   "metadata": {},
   "outputs": [],
   "source": [
    "user.plot(reconstructed_user_data)"
   ]
  },
  {
   "cell_type": "code",
   "execution_count": null,
   "id": "30cffc27",
   "metadata": {},
   "outputs": [],
   "source": [
    "#How good is the reconstruction?\n",
    "metrics = breaching.analysis.report(reconstructed_user_data, true_user_data, [server_payload], \n",
    "                                    server.model, order_batch=True, compute_full_iip=False, \n",
    "                                    cfg_case=cfg.case, setup=setup)"
   ]
  },
  {
   "cell_type": "markdown",
   "id": "6781df89",
   "metadata": {},
   "source": [
    "# Kornia matching"
   ]
  },
  {
   "cell_type": "code",
   "execution_count": null,
   "id": "32972683",
   "metadata": {},
   "outputs": [],
   "source": [
    "from kornia.geometry import ImageRegistrator, homography_warp\n",
    "import kornia.feature"
   ]
  },
  {
   "cell_type": "code",
   "execution_count": null,
   "id": "bf72f483",
   "metadata": {},
   "outputs": [],
   "source": [
    "img_src = reconstructed_user_data['data'].detach().clone()\n",
    "img_dst = true_user_data['data'].detach().clone()\n",
    "registrator = ImageRegistrator('similarity')\n",
    "homo = registrator.register(img_dst, img_src)\n",
    "homo"
   ]
  },
  {
   "cell_type": "code",
   "execution_count": null,
   "id": "3823e05f",
   "metadata": {},
   "outputs": [],
   "source": [
    "aligned_data = dict(data=homography_warp(img_src, homo, img_dst.shape[-2:]), labels=true_user_data['labels'])\n",
    "aligned_data = dict(data=registrator.warp_src_into_dst(img_src), labels=true_user_data['labels'])\n"
   ]
  },
  {
   "cell_type": "code",
   "execution_count": null,
   "id": "7c8c3f70",
   "metadata": {},
   "outputs": [],
   "source": [
    "user.plot(aligned_data)"
   ]
  },
  {
   "cell_type": "markdown",
   "id": "05c61886",
   "metadata": {},
   "source": [
    "# LOFTR "
   ]
  },
  {
   "cell_type": "code",
   "execution_count": null,
   "id": "9280ea7e",
   "metadata": {},
   "outputs": [],
   "source": [
    "matcher = kornia.feature.LoFTR(pretrained=\"indoor\")\n",
    "#input = {\"image0\": img1, \"image1\": img2}\n",
    "with torch.no_grad():\n",
    "    correspondences_dict = matcher(dict(image0=img_dst.mean(dim=1, keepdim=True).flip(dims=[2,3]), \n",
    "                                        image1=img_dst.mean(dim=1, keepdim=True)))"
   ]
  },
  {
   "cell_type": "code",
   "execution_count": null,
   "id": "544c7a57",
   "metadata": {},
   "outputs": [],
   "source": [
    "correspondences_dict['keypoints0'].shape"
   ]
  },
  {
   "cell_type": "code",
   "execution_count": null,
   "id": "e11107b5",
   "metadata": {},
   "outputs": [],
   "source": [
    "import kornia.geometry.homography"
   ]
  },
  {
   "cell_type": "code",
   "execution_count": null,
   "id": "c3100c77",
   "metadata": {},
   "outputs": [],
   "source": [
    "homo = kornia.geometry.homography.find_homography_dlt(correspondences_dict['keypoints0'][None, ...], \n",
    "                                                      correspondences_dict['keypoints1'][None, ...])\n",
    "homo"
   ]
  },
  {
   "cell_type": "code",
   "execution_count": null,
   "id": "eb14071c",
   "metadata": {},
   "outputs": [],
   "source": [
    "aligned_data = dict(data=homography_warp(img_dst.flip(dims=[2,3]), homo, img_dst.shape[-2:]), labels=true_user_data['labels'])"
   ]
  },
  {
   "cell_type": "code",
   "execution_count": null,
   "id": "b12c7afa",
   "metadata": {},
   "outputs": [],
   "source": [
    "user.plot(aligned_data)"
   ]
  },
  {
   "cell_type": "code",
   "execution_count": null,
   "id": "80c16c62",
   "metadata": {},
   "outputs": [],
   "source": [
    "descriptor = kornia.feature.SIFTDescriptor(patch_size=224)\n",
    "dscs1 = descriptor(img_src.mean(dim=1, keepdim=True))"
   ]
  },
  {
   "cell_type": "code",
   "execution_count": null,
   "id": "6b373f15",
   "metadata": {},
   "outputs": [],
   "source": [
    "dscs1.shape"
   ]
  },
  {
   "cell_type": "markdown",
   "id": "89137624",
   "metadata": {},
   "source": [
    "# Kornia/RANSAC-Flow Test"
   ]
  },
  {
   "cell_type": "code",
   "execution_count": null,
   "id": "611e7c4c",
   "metadata": {},
   "outputs": [],
   "source": [
    "nbScale = 7\n",
    "coarseIter = 10000\n",
    "coarsetolerance = 0.05\n",
    "minSize = 400\n",
    "imageNet = True # we can also use MOCO feature here\n",
    "scaleR = 1.2 "
   ]
  }
 ],
 "metadata": {
  "kernelspec": {
   "display_name": "Python 3 (ipykernel)",
   "language": "python",
   "name": "python3"
  },
  "language_info": {
   "codemirror_mode": {
    "name": "ipython",
    "version": 3
   },
   "file_extension": ".py",
   "mimetype": "text/x-python",
   "name": "python",
   "nbconvert_exporter": "python",
   "pygments_lexer": "ipython3",
   "version": "3.9.7"
  }
 },
 "nbformat": 4,
 "nbformat_minor": 5
}
