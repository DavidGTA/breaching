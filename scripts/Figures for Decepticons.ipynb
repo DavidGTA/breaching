{
 "cells": [
  {
   "cell_type": "code",
   "execution_count": null,
   "id": "352f2bb8",
   "metadata": {},
   "outputs": [],
   "source": [
    "import pandas as pd\n",
    "import plotly\n",
    "import plotly.express as px\n",
    "import plotly.graph_objects as go\n",
    "\n",
    "import plotly.figure_factory as ff\n",
    "import numpy as np\n",
    "\n",
    "import os\n",
    "import warnings"
   ]
  },
  {
   "cell_type": "code",
   "execution_count": null,
   "id": "8d3dfe5d",
   "metadata": {},
   "outputs": [],
   "source": [
    "try:\n",
    "    import breaching\n",
    "except ModuleNotFoundError:\n",
    "    # You only really need this safety net if you want to run these notebooks directly in the examples directory\n",
    "    # Don't worry about this if you installed the package or moved the notebook to the main directory.\n",
    "    import os; os.chdir(\"..\")\n",
    "    import breaching"
   ]
  },
  {
   "cell_type": "code",
   "execution_count": null,
   "id": "51b0feec",
   "metadata": {},
   "outputs": [],
   "source": [
    "WRITE_TO_FILE = False"
   ]
  },
  {
   "cell_type": "code",
   "execution_count": null,
   "id": "8c209559",
   "metadata": {},
   "outputs": [],
   "source": [
    "def default_styling(fig):\n",
    "    \n",
    "    fig.update_layout(\n",
    "        font=dict(\n",
    "            family=\"Times New Roman\",\n",
    "            size=20,      \n",
    "            ),\n",
    "        legend=dict(\n",
    "            yanchor=\"top\",\n",
    "            y=0.24,\n",
    "            xanchor=\"right\",\n",
    "            x=1,\n",
    "            bgcolor=\"white\",\n",
    "            bordercolor=\"Black\",\n",
    "            borderwidth=1\n",
    "        )\n",
    "    )\n",
    "    \n",
    "    fig.update_layout(uniformtext_minsize=28, uniformtext_mode='hide',font=dict(family=\"Times New Roman\"))\n",
    "    \n",
    "\n",
    "    fig.update_xaxes(showline=True, showgrid=True, gridwidth=0.1, \n",
    "                     gridcolor='rgba(1,1,1,0.15)', \n",
    "                     linecolor='black',\n",
    "                    zerolinecolor='rgba(1,1,1,0.25)')\n",
    "    fig.update_yaxes(showline=True, showgrid=True, gridwidth=0.1, \n",
    "                     gridcolor='rgba(1,1,1,0.15)', \n",
    "                     linecolor='black',\n",
    "                     zerolinecolor='rgba(1,1,1,0.25)')\n",
    "\n",
    "    fig.update_layout(\n",
    "        margin=dict(l=20, r=30, t=20, b=0),\n",
    "        paper_bgcolor='rgba(0,0,0,0)',\n",
    "        plot_bgcolor='rgba(0,0,0,0)',\n",
    "        width=750,\n",
    "        height=500,\n",
    "    )    \n",
    "    \n",
    "#     fig.show()\n",
    "#     fig.write_image(f\"images/{key}.pdf\")"
   ]
  },
  {
   "cell_type": "code",
   "execution_count": null,
   "id": "1b34b175",
   "metadata": {},
   "outputs": [],
   "source": [
    "os.listdir(\"tables\")"
   ]
  },
  {
   "cell_type": "code",
   "execution_count": null,
   "id": "5b600963",
   "metadata": {},
   "outputs": [],
   "source": [
    "dataset = \"wikitext\"\n",
    "obj = \"causal_lang_training\""
   ]
  },
  {
   "cell_type": "code",
   "execution_count": null,
   "id": "b99cad4e",
   "metadata": {},
   "outputs": [],
   "source": [
    "summary_df = pd.read_csv(f'tables/table_BENCHMARK_breach_{obj}_{dataset}_reports.csv', sep='\\t')"
   ]
  },
  {
   "cell_type": "code",
   "execution_count": null,
   "id": "85d6f50c",
   "metadata": {},
   "outputs": [],
   "source": [
    "model = \"transformer3\"\n",
    "metric = \"accuracy\" # \"max-sentence_accuracy\"\n",
    "seq_length = 32"
   ]
  },
  {
   "cell_type": "code",
   "execution_count": null,
   "id": "6f810dc7",
   "metadata": {},
   "outputs": [],
   "source": [
    "summary_df.keys()"
   ]
  },
  {
   "cell_type": "code",
   "execution_count": null,
   "id": "9c7670c7",
   "metadata": {},
   "outputs": [],
   "source": [
    "df = (\n",
    "    summary_df[(summary_df.model==model) & (summary_df.name.str.contains(f\"_{seq_length}_\"))]\n",
    "    .groupby([\"name\", \"datapoints\"], as_index=False)[metric]\n",
    "    .agg([\"mean\"])\n",
    "    .reset_index()\n",
    ")\n",
    "df"
   ]
  },
  {
   "cell_type": "code",
   "execution_count": null,
   "id": "0f52da18",
   "metadata": {},
   "outputs": [],
   "source": [
    "experiments = [\"UNDIV\", \"S1\", \"S25\", \"S2\", \"S3\", \"SBBF\", \"TFirst\", \"tokenreplace\", \n",
    "              \"noEXT_trafo3_baseparams\", \"baseparams\", \"noEXT\"]"
   ]
  },
  {
   "cell_type": "code",
   "execution_count": null,
   "id": "69bca92e",
   "metadata": {},
   "outputs": [],
   "source": [
    "def simplify_name(name):\n",
    "    for exp in experiments:\n",
    "        if exp in name:\n",
    "            return exp\n",
    "    return \"base\""
   ]
  },
  {
   "cell_type": "code",
   "execution_count": null,
   "id": "6a120ab9",
   "metadata": {},
   "outputs": [],
   "source": [
    "df[\"experiment\"] = df[\"name\"].map(simplify_name)\n",
    "df = df.sort_values(\"datapoints\")\n",
    "df"
   ]
  },
  {
   "cell_type": "code",
   "execution_count": null,
   "id": "fab0d895",
   "metadata": {},
   "outputs": [],
   "source": [
    "fig = px.scatter(df, x=\"datapoints\", y=\"mean\", title='Hyperparameter Variations', color=\"experiment\",\n",
    "                                 labels={ # replaces default labels by column name\n",
    "                \"experiment\": \"Experiment\",  \n",
    "                \"mean\": f\"Total Accuracy\", \n",
    "                \"real_size\": \"Real Dataset Samples\",\n",
    "                \"datapoints\": \"Batch Size\",\n",
    "            })\n",
    "fig.update_traces(mode='lines+markers', line=dict(width=3, dash='solid'))\n",
    "\n",
    "\n",
    "# default_styling(fig)\n",
    "# fig.update_xaxes(type=\"log\")\n",
    "# fig.update_layout(legend=dict(y=0.39, x=1))\n",
    "fig.show()"
   ]
  },
  {
   "cell_type": "markdown",
   "id": "a0ae1c7b",
   "metadata": {},
   "source": [
    "# Threshold Sensitivity"
   ]
  },
  {
   "cell_type": "code",
   "execution_count": null,
   "id": "ac2b86fe",
   "metadata": {},
   "outputs": [],
   "source": [
    "df_t = df[df.experiment.isin([\"S1\", \"S25\", \"S2\", \"base\"])]\n",
    "\n",
    "df_t = df_t.replace({\n",
    "                        'S1':\"sd=1\", \n",
    "                        'base':\"sd=1.5\", \n",
    "                        'S2':\"sd=2\", \n",
    "                        'S25':\"sd=2.5\", \n",
    "                        }\n",
    "                         )\n",
    "\n",
    "fig = px.scatter(df_t, x=\"datapoints\", y=\"mean\", color=\"experiment\",\n",
    "                                 labels={ # replaces default labels by column name\n",
    "                \"experiment\": \"Experiment\",  \n",
    "                \"mean\": f\"Total Accuracy\", \n",
    "                \"real_size\": \"Real Dataset Samples\",\n",
    "                \"datapoints\": \"Batch Size\",\n",
    "            })\n",
    "fig.update_traces(mode='lines+markers', line=dict(width=5, dash='solid'))\n",
    "\n",
    "\n",
    "default_styling(fig)\n",
    "#fig.update_xaxes(type=\"log\")\n",
    "fig.update_xaxes(range=[0, 64])\n",
    "fig.update_layout(legend=dict(y=0.39, x=0.257))\n",
    "fig.show()"
   ]
  },
  {
   "cell_type": "markdown",
   "id": "fc1b27a8",
   "metadata": {},
   "source": [
    "# No External Data"
   ]
  },
  {
   "cell_type": "code",
   "execution_count": null,
   "id": "9a005dd8",
   "metadata": {},
   "outputs": [],
   "source": [
    "df_ext = df[df.experiment.isin([\"noEXT\", \"base\"])]\n",
    "\n",
    "df_ext = df_ext.replace({\n",
    "                        'base':\"Estimated on public Data\", \n",
    "                        'noEXT':\"Estimated on random data\", \n",
    "                        }\n",
    "                         )\n",
    "\n",
    "fig = px.scatter(df_ext, x=\"datapoints\", y=\"mean\", color=\"experiment\",\n",
    "                                 labels={ # replaces default labels by column name\n",
    "                \"experiment\": \"Experiment\",  \n",
    "                \"mean\": f\"Total Accuracy\", \n",
    "                \"real_size\": \"Real Dataset Samples\",\n",
    "                \"datapoints\": \"Batch Size\",\n",
    "            })\n",
    "fig.update_traces(mode='lines+markers', line=dict(width=5, dash='solid'))\n",
    "#fig.data[1].line.dash=\"dash\"\n",
    "\n",
    "\n",
    "default_styling(fig)\n",
    "#fig.update_xaxes(range=[0, 64])\n",
    "fig.update_layout(legend=dict(y=0.25, x=0.4))\n",
    "fig.show()"
   ]
  },
  {
   "cell_type": "code",
   "execution_count": null,
   "id": "6d77812c",
   "metadata": {},
   "outputs": [],
   "source": []
  },
  {
   "cell_type": "markdown",
   "id": "ad552f36",
   "metadata": {},
   "source": [
    "# Dataset variations:"
   ]
  },
  {
   "cell_type": "code",
   "execution_count": null,
   "id": "14fb5016",
   "metadata": {},
   "outputs": [],
   "source": [
    "obj = \"causal_lang_training\"\n",
    "datasets = [\"shakespeare\", \"stackoverflow\", \"wikitext\", \"random-tokens\"]\n",
    "dfs = []\n",
    "for dataset in datasets:\n",
    "    dfs.append(pd.read_csv(f'tables/table_BENCHMARK_breach_{obj}_{dataset}_reports.csv', sep='\\t'))\n",
    "summary_df = pd.concat(dfs, keys=datasets).reset_index()"
   ]
  },
  {
   "cell_type": "code",
   "execution_count": null,
   "id": "e0f77f68",
   "metadata": {},
   "outputs": [],
   "source": [
    "model = \"transformer3\"\n",
    "metric = \"accuracy\"\n",
    "seq_length = 32"
   ]
  },
  {
   "cell_type": "code",
   "execution_count": null,
   "id": "71981ebd",
   "metadata": {},
   "outputs": [],
   "source": [
    "df = (\n",
    "    summary_df[(summary_df.model==model) & (summary_df.name.str.contains(f\"_{seq_length}_\"))]\n",
    "    .groupby([\"name\", \"datapoints\", \"level_0\"], as_index=False)[metric]\n",
    "    .agg([\"mean\"])\n",
    "    .reset_index()\n",
    ")\n",
    "df[\"experiment\"] = df[\"name\"].map(simplify_name)\n",
    "df = df[df.experiment.isin([\"base\"])].sort_values(\"datapoints\")\n",
    "df[\"is_base\"] = df.experiment == \"base\""
   ]
  },
  {
   "cell_type": "code",
   "execution_count": null,
   "id": "2e805dd0",
   "metadata": {},
   "outputs": [],
   "source": [
    "fig = px.scatter(df, x=\"datapoints\", y=\"mean\", color=\"level_0\", #symbol=\"is_base\",\n",
    "                                 labels={ # replaces default labels by column name\n",
    "                \"experiment\": \"Experiment\",  \n",
    "                \"mean\": f\"Total Accuracy\", \n",
    "                \"real_size\": \"Real Dataset Samples\",\n",
    "                \"datapoints\": \"Batch Size\",\n",
    "                \"level_0\" : \"Dataset\",\n",
    "            })\n",
    "fig.update_traces(mode='lines+markers', line=dict(width=5, dash='solid'))\n",
    "\n",
    "\n",
    "default_styling(fig)\n",
    "#fig.update_xaxes(type=\"log\")\n",
    "fig.update_layout(legend=dict(y=0.39, x=0.257))\n",
    "fig.show()"
   ]
  },
  {
   "cell_type": "markdown",
   "id": "692b38bb",
   "metadata": {},
   "source": [
    "# Print recovered total tokens"
   ]
  },
  {
   "cell_type": "code",
   "execution_count": null,
   "id": "ab54df93",
   "metadata": {},
   "outputs": [],
   "source": [
    "dataset = \"wikitext\"\n",
    "obj = \"causal_lang_training\""
   ]
  },
  {
   "cell_type": "code",
   "execution_count": null,
   "id": "dbaa82d7",
   "metadata": {},
   "outputs": [],
   "source": [
    "summary_df = pd.read_csv(f'tables/table_BENCHMARK_breach_{obj}_{dataset}_reports.csv', sep='\\t')"
   ]
  },
  {
   "cell_type": "code",
   "execution_count": null,
   "id": "5b18720f",
   "metadata": {},
   "outputs": [],
   "source": [
    "model = \"transformer3\"\n",
    "metric = \"accuracy\" # \"max-sentence_accuracy\"\n",
    "seq_length = 32"
   ]
  },
  {
   "cell_type": "code",
   "execution_count": null,
   "id": "8d2f9fc9",
   "metadata": {},
   "outputs": [],
   "source": [
    "df = (\n",
    "    summary_df[(summary_df.model==model) & (summary_df.name.str.contains(f\"_{seq_length}_\"))]\n",
    "    .groupby([\"name\", \"datapoints\"], as_index=False)[metric]\n",
    "    .agg([\"mean\"])\n",
    "    .reset_index()\n",
    ")\n",
    "df[\"experiment\"] = df[\"name\"].map(simplify_name)\n",
    "df = df.sort_values(\"datapoints\")\n",
    "df"
   ]
  },
  {
   "cell_type": "code",
   "execution_count": null,
   "id": "843a3bb9",
   "metadata": {},
   "outputs": [],
   "source": [
    "df[\"tokens_recovered\"] = df[\"datapoints\"] * 32 * df[\"mean\"]"
   ]
  },
  {
   "cell_type": "code",
   "execution_count": null,
   "id": "cc6b3a9a",
   "metadata": {},
   "outputs": [],
   "source": [
    "df_ext = df[df.experiment.isin([\"base\", \"baseparams\"])]\n",
    "\n",
    "df_ext = df_ext.replace({\n",
    "                        'base':\"Estimated on public Data\", \n",
    "                        'noEXT':\"Estimated on random data\", \n",
    "                        }\n",
    "                         )\n",
    "\n",
    "fig = px.scatter(df_ext, x=\"datapoints\", y=\"tokens_recovered\", color=\"experiment\",\n",
    "                                 labels={ # replaces default labels by column name\n",
    "                \"experiment\": \"Experiment\",  \n",
    "                \"mean\": f\"Total Accuracy\", \n",
    "                \"real_size\": \"Real Dataset Samples\",\n",
    "                \"datapoints\": \"Batch Size\",\n",
    "            })\n",
    "fig.update_traces(mode='lines+markers', line=dict(width=5, dash='solid'))\n",
    "\n",
    "\n",
    "default_styling(fig)\n",
    "fig.update_xaxes(range=[0, 1024])\n",
    "fig.update_layout(legend=dict(y=0.25, x=0.4))\n",
    "fig.show()"
   ]
  },
  {
   "cell_type": "code",
   "execution_count": null,
   "id": "8e69785c",
   "metadata": {},
   "outputs": [],
   "source": []
  }
 ],
 "metadata": {
  "kernelspec": {
   "display_name": "Python 3 (ipykernel)",
   "language": "python",
   "name": "python3"
  },
  "language_info": {
   "codemirror_mode": {
    "name": "ipython",
    "version": 3
   },
   "file_extension": ".py",
   "mimetype": "text/x-python",
   "name": "python",
   "nbconvert_exporter": "python",
   "pygments_lexer": "ipython3",
   "version": "3.9.12"
  }
 },
 "nbformat": 4,
 "nbformat_minor": 5
}
