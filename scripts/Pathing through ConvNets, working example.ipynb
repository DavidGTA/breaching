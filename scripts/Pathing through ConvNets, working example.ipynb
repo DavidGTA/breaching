{
 "cells": [
  {
   "cell_type": "markdown",
   "id": "3ebef44a",
   "metadata": {},
   "source": [
    "# Breaching privacy"
   ]
  },
  {
   "cell_type": "markdown",
   "id": "a756fc5f",
   "metadata": {},
   "source": [
    "This notebook does the same job as the cmd-line tool `breach.py`, but also directly visualizes the user data and reconstruction"
   ]
  },
  {
   "cell_type": "code",
   "execution_count": 1,
   "id": "b850eabf",
   "metadata": {},
   "outputs": [],
   "source": [
    "import torch\n",
    "import hydra\n",
    "from omegaconf import OmegaConf\n",
    "%load_ext autoreload\n",
    "%autoreload 2\n",
    "\n",
    "import breaching\n",
    "import copy\n",
    "import math"
   ]
  },
  {
   "cell_type": "code",
   "execution_count": 2,
   "id": "17fdf1c2",
   "metadata": {},
   "outputs": [],
   "source": [
    "def _return_model_features(model, inputs):\n",
    "    features = dict()  # The named-hook + dict construction should be a bit more robust\n",
    "    if inputs.ndim == 3:\n",
    "        inputs = inputs.unsqueeze(0)\n",
    "\n",
    "    def named_hook(name):\n",
    "        def hook_fn(module, input, output):\n",
    "            features[name] = input[0]\n",
    "        return hook_fn\n",
    "    for name, module in reversed(list(model.named_modules())):\n",
    "        if isinstance(module, (torch.nn.Hardtanh)):\n",
    "            hook = module.register_forward_hook(named_hook(name))\n",
    "            feature_layer_name = name\n",
    "            break\n",
    "    model(inputs)\n",
    "    hook.remove()\n",
    "    return features[feature_layer_name]"
   ]
  },
  {
   "cell_type": "markdown",
   "id": "88d5e214",
   "metadata": {},
   "source": [
    "### Initialize cfg object and system setup:"
   ]
  },
  {
   "cell_type": "markdown",
   "id": "56bd663b",
   "metadata": {},
   "source": [
    "This will print out all configuration options. \n",
    "There are a lot of possible configurations, but there is usually no need to worry about most of these. Below, a few options are printed."
   ]
  },
  {
   "cell_type": "code",
   "execution_count": 3,
   "id": "a7dc3a48",
   "metadata": {},
   "outputs": [
    {
     "name": "stdout",
     "output_type": "stream",
     "text": [
      "Investigating use case single_image_small with server type honest_but_curious.\n",
      "Attack settings are:\n",
      "type: invertinggradients\n",
      "attack_type: optimization\n",
      "objective:\n",
      "  type: cosine-similarity\n",
      "  scale: 1.0\n",
      "restarts:\n",
      "  num_trials: 1\n",
      "  scoring: cosine-similarity\n",
      "init: randn\n",
      "optim:\n",
      "  optimizer: adam\n",
      "  signed: true\n",
      "  step_size: 0.1\n",
      "  boxed: true\n",
      "  max_iterations: 24000\n",
      "  step_size_decay: step-lr\n",
      "  langevin_noise: 0.0\n",
      "  warmup: 0\n",
      "  callback: 1000\n",
      "regularization:\n",
      "  total_variation:\n",
      "    scale: 0.2\n",
      "    inner_exp: 1\n",
      "    outer_exp: 1\n",
      "  orthogonality:\n",
      "    scale: 0.0\n",
      "\n"
     ]
    },
    {
     "data": {
      "text/plain": [
       "{'device': device(type='cuda', index=1), 'dtype': torch.float32}"
      ]
     },
     "execution_count": 3,
     "metadata": {},
     "output_type": "execute_result"
    }
   ],
   "source": [
    "with hydra.initialize(config_path=\"config\"):\n",
    "    cfg = hydra.compose(config_name='cfg', overrides=['attack=invertinggradients',\n",
    "                                                      'case=1_single_image_small'])\n",
    "    print(f'Investigating use case {cfg.case.name} with server type {cfg.case.server.name}.')\n",
    "    print('Attack settings are:')\n",
    "    print(OmegaConf.to_yaml(cfg.attack))\n",
    "          \n",
    "device = torch.device(f'cuda:1') if torch.cuda.is_available() else torch.device('cpu')\n",
    "torch.backends.cudnn.benchmark = cfg.case.impl.benchmark\n",
    "setup = dict(device=device, dtype=getattr(torch, cfg.case.impl.dtype))\n",
    "setup"
   ]
  },
  {
   "cell_type": "markdown",
   "id": "203c5fb1",
   "metadata": {},
   "source": [
    "### Modify config options here"
   ]
  },
  {
   "cell_type": "markdown",
   "id": "6e0764ef",
   "metadata": {},
   "source": [
    "You can use `.attribute` access to modify any of these configurations:"
   ]
  },
  {
   "cell_type": "code",
   "execution_count": 4,
   "id": "ac118ea0",
   "metadata": {},
   "outputs": [],
   "source": [
    "cfg.case.user.data_idx = 2\n",
    "cfg.case.model='ConvNetSmall'\n",
    "\n",
    "cfg.case.user.num_data_points = 1\n",
    "\n",
    "cfg.case.data.batch_size = 512\n",
    "cfg.case.server.has_external_data = True\n",
    "\n",
    "cfg.attack.objective.type='masked-cosine-similarity'\n",
    "cfg.attack.objective.scale = 0.25\n",
    "# The total variation scale should be small for CIFAR images\n",
    "cfg.attack.regularization.total_variation.scale = 1e-4\n",
    "cfg.attack.init = 'randn'\n",
    "\n",
    "cfg.attack.optim.signed=True"
   ]
  },
  {
   "cell_type": "markdown",
   "id": "76f64389",
   "metadata": {},
   "source": [
    "### Instantiate all parties"
   ]
  },
  {
   "cell_type": "code",
   "execution_count": 5,
   "id": "d3abd955",
   "metadata": {},
   "outputs": [
    {
     "name": "stdout",
     "output_type": "stream",
     "text": [
      "Files already downloaded and verified\n",
      "Files already downloaded and verified\n",
      "Model architecture <class 'breaching.cases.models.model_preparation.ConvNetSmall'> loaded with 15,355,402 parameters and 0 buffers.\n",
      "Overall this is a data ratio of    4999:1 for target shape [1, 3, 32, 32] given that num_queries=1.\n"
     ]
    },
    {
     "data": {
      "text/plain": [
       "ConvNetSmall(\n",
       "  (model): Sequential(\n",
       "    (conv0): Conv2d(3, 256, kernel_size=(3, 3), stride=(1, 1), padding=(1, 1))\n",
       "    (relu0): ReLU()\n",
       "    (conv1): Conv2d(256, 512, kernel_size=(3, 3), stride=(1, 1), padding=(1, 1))\n",
       "    (relu1): ReLU()\n",
       "    (conv2): Conv2d(512, 1024, kernel_size=(3, 3), stride=(2, 2), padding=(1, 1))\n",
       "    (relu2): ReLU()\n",
       "    (pool0): MaxPool2d(kernel_size=3, stride=3, padding=0, dilation=1, ceil_mode=False)\n",
       "    (conv3): Conv2d(1024, 1024, kernel_size=(3, 3), stride=(2, 2), padding=(1, 1))\n",
       "    (relu3): ReLU()\n",
       "    (pool1): AdaptiveAvgPool2d(output_size=1)\n",
       "    (flatten): Flatten(start_dim=1, end_dim=-1)\n",
       "    (linear): Linear(in_features=1024, out_features=10, bias=True)\n",
       "  )\n",
       ")"
      ]
     },
     "execution_count": 5,
     "metadata": {},
     "output_type": "execute_result"
    }
   ],
   "source": [
    "user, server = breaching.cases.construct_case(cfg.case, setup)\n",
    "attacker = breaching.attacks.prepare_attack(server.model, server.loss, cfg.attack, setup)\n",
    "server.model.to(**setup)"
   ]
  },
  {
   "cell_type": "code",
   "execution_count": 6,
   "id": "8c7273d4",
   "metadata": {
    "scrolled": false
   },
   "outputs": [
    {
     "name": "stdout",
     "output_type": "stream",
     "text": [
      "User (of type UserSingleStep with settings:\n",
      "            number of local updates: 1\n",
      "            number of data points: 1\n",
      "            number of user queries 1\n",
      "\n",
      "            Threat model:\n",
      "            User provides labels: True\n",
      "            User provides number of data points: True\n",
      "\n",
      "            Model:\n",
      "            model specification: ConvNetSmall\n",
      "            loss function: CrossEntropyLoss()\n",
      "\n",
      "            Data:\n",
      "            Dataset: CIFAR10\n",
      "            data_idx: 2\n",
      "        \n",
      "<breaching.cases.servers.HonestServer object at 0x7f1be1fd4d30>\n",
      "<breaching.attacks.optimization_based_attack.OptimizationBasedAttack object at 0x7f1d48693a00>\n"
     ]
    }
   ],
   "source": [
    "print(user)\n",
    "print(server)\n",
    "print(attacker)"
   ]
  },
  {
   "cell_type": "markdown",
   "id": "415ed234",
   "metadata": {},
   "source": [
    "## Malicious server I : Modify the model architecture first"
   ]
  },
  {
   "cell_type": "code",
   "execution_count": 7,
   "id": "a9155afd",
   "metadata": {},
   "outputs": [],
   "source": [
    "num_paths = 2"
   ]
  },
  {
   "cell_type": "code",
   "execution_count": 8,
   "id": "bceb1476",
   "metadata": {},
   "outputs": [
    {
     "data": {
      "text/plain": [
       "ConvNetSmall(\n",
       "  (model): Sequential(\n",
       "    (conv0): Conv2d(3, 256, kernel_size=(3, 3), stride=(1, 1), padding=(1, 1))\n",
       "    (relu0): ReLU()\n",
       "    (conv1): Conv2d(256, 512, kernel_size=(3, 3), stride=(1, 1), padding=(1, 1))\n",
       "    (relu1): ReLU()\n",
       "    (conv2): Conv2d(512, 1024, kernel_size=(3, 3), stride=(2, 2), padding=(1, 1))\n",
       "    (relu2): ReLU()\n",
       "    (pool0): MaxPool2d(kernel_size=3, stride=3, padding=0, dilation=1, ceil_mode=False)\n",
       "    (conv3): Conv2d(1024, 1024, kernel_size=(3, 3), stride=(2, 2), padding=(1, 1))\n",
       "    (relu3): ReLU()\n",
       "    (pool1): AdaptiveAvgPool2d(output_size=1)\n",
       "    (flatten): Flatten(start_dim=1, end_dim=-1)\n",
       "    (linear): Sequential(\n",
       "      (0): Linear(in_features=1024, out_features=2, bias=True)\n",
       "      (1): Hardtanh(min_val=0, max_val=1)\n",
       "      (2): Linear(in_features=2, out_features=1024, bias=True)\n",
       "      (3): Linear(in_features=1024, out_features=10, bias=True)\n",
       "    )\n",
       "  )\n",
       ")"
      ]
     },
     "execution_count": 8,
     "metadata": {},
     "output_type": "execute_result"
    }
   ],
   "source": [
    "feature_dim = server.model.model[-5].out_channels\n",
    "server.model.model[-1] = torch.nn.Sequential(torch.nn.Linear(feature_dim, num_paths),\n",
    "                                             torch.nn.Hardtanh(min_val=0, max_val=1), \n",
    "                                             torch.nn.Linear(num_paths, feature_dim),\n",
    "                                             server.model.model[-1]\n",
    "                                             #torch.nn.Linear(num_paths, server.model.model[-1].out_features)\n",
    "                                            ).to(**setup)\n",
    "\n",
    "\n",
    "attacker.model_template = copy.deepcopy(server.model)\n",
    "user.model = copy.deepcopy(server.model)\n",
    "user.model"
   ]
  },
  {
   "cell_type": "markdown",
   "id": "46b64eb3",
   "metadata": {},
   "source": [
    "## Malicious server II: Include paths"
   ]
  },
  {
   "cell_type": "code",
   "execution_count": 9,
   "id": "da02a07a",
   "metadata": {},
   "outputs": [],
   "source": [
    "# Old first layer:\n",
    "# new_weight = module.weight.new_zeros(module.in_channels, module.in_channels, *module.kernel_size)\n",
    "# torch.nn.init.orthogonal_(new_weight)\n",
    "# new_bias = module.bias.new_zeros(module.in_channels)\n",
    "# fan_in, _ = torch.nn.init._calculate_fan_in_and_fan_out(new_weight)\n",
    "# torch.nn.init.uniform_(new_bias, -1 / math.sqrt(fan_in), 1 / math.sqrt(fan_in))\n",
    "\n",
    "# # Replicate filters:\n",
    "# replication_dim = module.out_channels // module.in_channels\n",
    "# replicated_weight = torch.cat([new_weight] * replication_dim).contiguous()\n",
    "# replicated_bias = torch.cat([new_bias] * replication_dim).contiguous()\n",
    "\n",
    "# module.weight.data[:replication_dim * module.in_channels] = replicated_weight\n",
    "# module.bias.data[:replication_dim * module.in_channels] = replicated_bias"
   ]
  },
  {
   "cell_type": "code",
   "execution_count": 10,
   "id": "600d1550",
   "metadata": {},
   "outputs": [
    {
     "name": "stdout",
     "output_type": "stream",
     "text": [
      "torch.Size([256, 3, 3, 3]) torch.Size([256])\n",
      "tensor([ 0.0372, -0.4762, -0.0203, -0.9738], device='cuda:1') tensor([ 0.0372, -0.4762, -0.0203, -0.9738], device='cuda:1')\n",
      "torch.Size([512, 256, 3, 3]) torch.Size([512])\n",
      "tensor([-0.2809,  0.6275, -0.7757,  0.0211], device='cuda:1') tensor([-0.2809,  0.6275, -0.7757,  0.0211], device='cuda:1')\n",
      "torch.Size([1024, 512, 3, 3]) torch.Size([1024])\n",
      "tensor([ 0.2047,  0.1981, -0.4277,  0.2228], device='cuda:1') tensor([ 0.2047,  0.1981, -0.4277,  0.2228], device='cuda:1')\n",
      "torch.Size([1024, 1024, 3, 3]) torch.Size([1024])\n",
      "tensor([ 1.0229,  0.9889, -0.1559,  0.2184], device='cuda:1') tensor([ 1.0229,  0.9889, -0.1559,  0.2184], device='cuda:1')\n",
      "Model architecture <class 'breaching.cases.models.model_preparation.ConvNetSmall'> loaded with 7,690,730 non-zero parameters of which 13322 are in linear layers.\n",
      "Overall this is a data ratio of 2499.16:1 for target shape [1, 3, 32, 32] if pathcount was optimal.\n"
     ]
    }
   ],
   "source": [
    "input_path_width = 3\n",
    "first_conv = True\n",
    "with torch.no_grad():\n",
    "    for name, module in server.model.named_modules():\n",
    "        if isinstance(module, torch.nn.Conv2d):\n",
    "            # Initialize existing params at zero:\n",
    "            module.weight.data = torch.zeros_like(module.weight)\n",
    "            module.bias.data = torch.zeros_like(module.bias)\n",
    "            \n",
    "            output_path_width = module.out_channels // num_paths\n",
    "            \n",
    "            new_weight = module.weight.new_zeros(output_path_width, input_path_width,  *module.kernel_size)\n",
    "            torch.nn.init.orthogonal_(new_weight)\n",
    "\n",
    "            new_bias = module.bias.new_zeros(output_path_width)\n",
    "            fan_in, _ = torch.nn.init._calculate_fan_in_and_fan_out(new_weight)\n",
    "            torch.nn.init.uniform_(new_bias, -1 / math.sqrt(fan_in), 1 / math.sqrt(fan_in))\n",
    "\n",
    "            # Group channels:\n",
    "            ii, io = 0, 0 # index-in index-out\n",
    "            if first_conv:\n",
    "                for path in range(num_paths):\n",
    "                    module.weight.data[io:io+output_path_width, :] = new_weight.clone()\n",
    "                    io += output_path_width\n",
    "                    ii += input_path_width\n",
    "                first_conv = False\n",
    "            else:\n",
    "                for path in range(num_paths):\n",
    "                    module.weight.data[io:io+output_path_width, ii:ii+input_path_width] = new_weight.clone()\n",
    "                    io += output_path_width\n",
    "                    ii += input_path_width\n",
    "                \n",
    "            module.bias.data[:output_path_width * num_paths] = torch.cat([new_bias] * num_paths).contiguous()\n",
    "            \n",
    "            # Set input->output\n",
    "            input_path_width = output_path_width\n",
    "            \n",
    "            \n",
    "            print(module.weight.shape, module.bias.shape)\n",
    "            # Test channel:\n",
    "            inputs = torch.cat([torch.randn(1, 1, 32, 32, **setup)] * module.in_channels, dim=1)\n",
    "            feats = module(inputs)\n",
    "            print(feats[0,0:4, 0, 0], feats[0,output_path_width:output_path_width+4, 0, 0])\n",
    "        if isinstance(module, torch.nn.Linear) and module.out_features == num_paths:\n",
    "            # prep averaging layer here\n",
    "            module.weight.data = torch.zeros_like(module.weight.data)\n",
    "            module.bias.data = torch.zeros_like(module.bias.data)\n",
    "            new_block = module.weight.data.new_zeros(input_path_width) / input_path_width\n",
    "            # new_block[0] = 1\n",
    "            torch.nn.init.uniform_(new_block)\n",
    "            idx = 0\n",
    "            for path in range(num_paths):\n",
    "                module.weight.data[path, idx:idx+input_path_width] = new_block.clone()\n",
    "                idx += input_path_width\n",
    "            adaptation_layer = module\n",
    "        if isinstance(module, torch.nn.Linear) and module.in_features == num_paths:\n",
    "            # prep return layer here, all inputs need to be picked up\n",
    "            module.weight.data = torch.ones_like(module.weight.data) \n",
    "            torch.nn.init.orthogonal_(module.weight.data) * num_paths**2\n",
    "            module.bias.data = torch.zeros_like(module.bias.data)\n",
    "            # pass\n",
    "            # dont mess with the return layer\n",
    "            \n",
    "num_params = sum([(p.abs() > 1e-7).sum() for p in server.model.parameters()])\n",
    "linear_params = sum([(p.abs() > 1e-7).sum() for m in server.model.modules() for p in m.parameters()  \n",
    "                     if isinstance(m, torch.nn.Linear)])\n",
    "print(f'Model architecture {server.model.__class__} loaded with {num_params:,} non-zero parameters of which '\n",
    "      f'{linear_params} are in linear layers.')\n",
    "\n",
    "target_information = cfg.case.user.num_data_points * torch.as_tensor(cfg.case.data.shape).prod()\n",
    "\n",
    "print(f'Overall this is a data ratio of {(num_params - linear_params) / target_information:2.2f}:1 '\n",
    "      f'for target shape {[cfg.case.user.num_data_points, *cfg.case.data.shape]} if pathcount was optimal.')"
   ]
  },
  {
   "cell_type": "code",
   "execution_count": 11,
   "id": "0a84e80e",
   "metadata": {},
   "outputs": [
    {
     "data": {
      "text/plain": [
       "tensor([[20.4257, 20.4257]], device='cuda:1', grad_fn=<AddmmBackward>)"
      ]
     },
     "execution_count": 11,
     "metadata": {},
     "output_type": "execute_result"
    }
   ],
   "source": [
    "inputs = torch.randn(1, 3, 32, 32, **setup)\n",
    "feats = _return_model_features(server.model, inputs)\n",
    "feats"
   ]
  },
  {
   "cell_type": "markdown",
   "id": "d937d183",
   "metadata": {},
   "source": [
    "# Compute bins and set feature distribution:"
   ]
  },
  {
   "cell_type": "code",
   "execution_count": 12,
   "id": "61f8e64c",
   "metadata": {},
   "outputs": [],
   "source": [
    "from statistics import NormalDist\n",
    "\n",
    "def get_bins_by_mass(num_bins, mu=0, sigma=1):\n",
    "    bins = []\n",
    "    mass = 0\n",
    "    for path in range(num_bins + 1):\n",
    "        mass += 1 / (num_bins + 2)\n",
    "        bins += [NormalDist(mu=mu, sigma=sigma).inv_cdf(mass)]\n",
    "    bin_sizes = [bins[i + 1] - bins[i] for i in range(len(bins) - 1)]\n",
    "    return bins[:-1], bin_sizes"
   ]
  },
  {
   "cell_type": "code",
   "execution_count": 13,
   "id": "064ec994",
   "metadata": {},
   "outputs": [
    {
     "data": {
      "text/plain": [
       "([-0.43072729929545744], [0.8614545985909148])"
      ]
     },
     "execution_count": 13,
     "metadata": {},
     "output_type": "execute_result"
    }
   ],
   "source": [
    "get_bins_by_mass(1)"
   ]
  },
  {
   "cell_type": "code",
   "execution_count": 14,
   "id": "4a6c581b",
   "metadata": {},
   "outputs": [],
   "source": [
    "features = dict()\n",
    "def named_hook(name):\n",
    "    def hook_fn(module, input, output):\n",
    "        features[name] = output\n",
    "    return hook_fn"
   ]
  },
  {
   "cell_type": "code",
   "execution_count": 15,
   "id": "1a9728cf",
   "metadata": {
    "scrolled": false
   },
   "outputs": [
    {
     "name": "stdout",
     "output_type": "stream",
     "text": [
      "Initial mean of layer model.conv0 is -0.012619388289749622, std is 0.45998886227607727\n",
      "Fixed mean of layer model.conv0 is 0.015213984064757824, std is 0.9770948886871338\n",
      "Initial mean of layer model.conv1 is -0.024468757212162018, std is 0.7137800455093384\n",
      "Fixed mean of layer model.conv1 is -0.00039177294820547104, std is 0.9995455741882324\n",
      "Initial mean of layer model.conv2 is -0.03470901399850845, std is 0.6715343594551086\n",
      "Fixed mean of layer model.conv2 is 4.3511390686035156e-05, std is 1.0001041889190674\n",
      "Initial mean of layer model.conv3 is -0.029414596036076546, std is 0.8184526562690735\n",
      "Fixed mean of layer model.conv3 is -2.429307460261043e-05, std is 0.9999672174453735\n",
      "Initial mean of layer model.linear.0 is 99.83885192871094, std is 18.845849990844727\n",
      "Fixed mean of layer model.linear.0 is 1.1920928955078125e-07, std is 1.0\n",
      "Input to hardtanh before bias and scale is set: tensor([-0.3252, -0.3252], device='cuda:1')\n"
     ]
    }
   ],
   "source": [
    "with torch.inference_mode():\n",
    "    for name, module in server.model.named_modules():\n",
    "        if isinstance(module, (torch.nn.Conv2d, torch.nn.Linear)):\n",
    "            hook = module.register_forward_hook(named_hook(name))\n",
    "\n",
    "            random_data_sample = next(iter(server.external_dataloader))[0].to(**setup)\n",
    "            # random_data_sample = torch.randn(1024, 3, 32, 32, **setup)\n",
    "            # random_data_sample = true_user_data['data'] #ground truth data sampâle for testing\n",
    "\n",
    "            server.model(random_data_sample)\n",
    "            std, mu = torch.std_mean(features[name])\n",
    "            print(f'Initial mean of layer {name} is {mu.item()}, std is {std.item()}')\n",
    "            \n",
    "            with torch.no_grad():\n",
    "                module.weight.data /= std + 1e-8\n",
    "                module.bias.data -= mu / (std  + 1e-8)\n",
    "\n",
    "            server.model(random_data_sample)\n",
    "            std, mu = torch.std_mean(features[name])\n",
    "            print(f'Fixed mean of layer {name} is {mu.item()}, std is {std.item()}')  \n",
    "            hook.remove()\n",
    "            \n",
    "            if isinstance(module, torch.nn.Linear) and module.out_features == num_paths:\n",
    "                # Verify:\n",
    "                print(f'Input to hardtanh before bias and scale is set: {features[name][0]}')\n",
    "\n",
    "                adapt_module = module\n",
    "                # Modify bins in this layer\n",
    "                bins, bin_sizes = get_bins_by_mass(num_paths, mu=mu, sigma=std)\n",
    "                # Safety wheels:\n",
    "                #bins = [b * 2 for b in bins]\n",
    "                #bin_sizes = [b * 2 for b in bin_sizes]\n",
    "                #bins = torch.linspace(-1.96, 1.96, num_paths + 1)\n",
    "                #bin_sizes = [bins[i + 1] - bins[i] for i in range(len(bins) - 1)]\n",
    "                #bins = bins[:-1]\n",
    "                \n",
    "                # Old mod:\n",
    "                module.weight.data /= torch.as_tensor(bin_sizes, **setup)[:, None]\n",
    "                module.bias.data -= torch.as_tensor(bins, **setup)\n",
    "                module.bias.data /= torch.as_tensor(bin_sizes, **setup)\n",
    "\n",
    "                # New computation with extend bin extension?:\n",
    "#                 I = -NormalDist(mu=0, sigma=1).inv_cdf(0.90)\n",
    "#                 module.weight.data *= 2 * I / torch.as_tensor(bin_sizes, **setup)[:, None]\n",
    "#                 module.bias.data -= torch.as_tensor(bins, **setup) \n",
    "#                 module.bias.data *= 2 * I / torch.as_tensor(bin_sizes, **setup)\n",
    "#                 module.bias.data -= I\n",
    "                hook.remove()\n",
    "                break\n",
    "            del features[name]"
   ]
  },
  {
   "cell_type": "code",
   "execution_count": 16,
   "id": "dad08e6a",
   "metadata": {},
   "outputs": [],
   "source": [
    "server_payload = server.distribute_payload()\n",
    "shared_data, true_user_data = user.compute_local_updates(server_payload)  "
   ]
  },
  {
   "cell_type": "code",
   "execution_count": 17,
   "id": "2c3d6f55",
   "metadata": {},
   "outputs": [],
   "source": [
    "with torch.inference_mode():\n",
    "    hook = adapt_module.register_forward_hook(named_hook('hardtanh_input'))\n",
    "    # random_data_sample = next(iter(server.external_dataloader))[0].to(**setup)\n",
    "    # random_data_sample = torch.randn(1024, 3, 32, 32, **setup)\n",
    "    random_data_sample = true_user_data['data'] #ground truth data sample for testing\n",
    "\n",
    "    server.model(random_data_sample)\n",
    "    hook.remove()"
   ]
  },
  {
   "cell_type": "code",
   "execution_count": 18,
   "id": "90beb2c5",
   "metadata": {},
   "outputs": [
    {
     "name": "stdout",
     "output_type": "stream",
     "text": [
      "tensor([ 0.5992, -0.4008], device='cuda:1')\n",
      "tensor([0.5992, 0.0000], device='cuda:1')\n"
     ]
    }
   ],
   "source": [
    "print(features['hardtanh_input'][0])\n",
    "threshold = torch.nn.functional.hardtanh(features['hardtanh_input'][0], min_val=0, max_val=1)\n",
    "print(threshold)"
   ]
  },
  {
   "cell_type": "markdown",
   "id": "fdcd3b94",
   "metadata": {},
   "source": [
    "### Threshold stats:"
   ]
  },
  {
   "cell_type": "code",
   "execution_count": 19,
   "id": "d1b07dbf",
   "metadata": {},
   "outputs": [
    {
     "name": "stdout",
     "output_type": "stream",
     "text": [
      "tensor(1., device='cuda:1')\n"
     ]
    },
    {
     "data": {
      "text/plain": [
       "tensor([1, 0], device='cuda:1')"
      ]
     },
     "execution_count": 19,
     "metadata": {},
     "output_type": "execute_result"
    }
   ],
   "source": [
    "threshold = torch.nn.functional.hardtanh(features['hardtanh_input'], min_val=0, max_val=1)\n",
    "print(((threshold != 1) & (threshold != 0)).sum() / random_data_sample.shape[0])\n",
    "((threshold != 1) & (threshold != 0)).sum(dim=0)"
   ]
  },
  {
   "cell_type": "markdown",
   "id": "76e56b03",
   "metadata": {},
   "source": [
    "### Simulate an attacked FL protocol"
   ]
  },
  {
   "cell_type": "markdown",
   "id": "2058bcc2",
   "metadata": {},
   "source": [
    "True user data is returned only for analysis"
   ]
  },
  {
   "cell_type": "code",
   "execution_count": 20,
   "id": "b0dbd868",
   "metadata": {},
   "outputs": [
    {
     "data": {
      "text/plain": [
       "(tensor(0.1798, device='cuda:1'), tensor(1.0388, device='cuda:1'))"
      ]
     },
     "execution_count": 20,
     "metadata": {},
     "output_type": "execute_result"
    }
   ],
   "source": [
    "server_payload = server.distribute_payload()\n",
    "shared_data, true_user_data = user.compute_local_updates(server_payload)  \n",
    "\n",
    "true_user_data['data'].mean(), true_user_data['data'].std()"
   ]
  },
  {
   "cell_type": "code",
   "execution_count": 21,
   "id": "b460cadb",
   "metadata": {},
   "outputs": [
    {
     "data": {
      "text/plain": [
       "[(tensor(-0.0006, device='cuda:1'), tensor(0.0025, device='cuda:1')),\n",
       " (tensor(-0.0015, device='cuda:1'), tensor(0.0022, device='cuda:1')),\n",
       " (tensor(-0.0003, device='cuda:1'), tensor(0.0009, device='cuda:1')),\n",
       " (tensor(-0.0007, device='cuda:1'), tensor(0.0013, device='cuda:1')),\n",
       " (tensor(-0.0002, device='cuda:1'), tensor(0.0005, device='cuda:1')),\n",
       " (tensor(-0.0004, device='cuda:1'), tensor(0.0008, device='cuda:1')),\n",
       " (tensor(-0.0005, device='cuda:1'), tensor(0.0006, device='cuda:1')),\n",
       " (tensor(-0.0009, device='cuda:1'), tensor(0.0008, device='cuda:1')),\n",
       " (tensor(-0.0170, device='cuda:1'), tensor(0.0157, device='cuda:1')),\n",
       " (tensor(-0.0429, device='cuda:1'), tensor(nan, device='cuda:1')),\n",
       " (tensor(-9.1128e-05, device='cuda:1'), tensor(0.0105, device='cuda:1')),\n",
       " (tensor(-0.0002, device='cuda:1'), tensor(0.0175, device='cuda:1')),\n",
       " (tensor(-1.1360e-10, device='cuda:1'), tensor(0.0056, device='cuda:1')),\n",
       " (tensor(-5.9605e-09, device='cuda:1'), tensor(0.3160, device='cuda:1'))]"
      ]
     },
     "execution_count": 21,
     "metadata": {},
     "output_type": "execute_result"
    }
   ],
   "source": [
    "[(g[g.abs() > 1e-6].mean(), g[g.abs() > 1e-6].std()) for g in shared_data['gradients'][0]]"
   ]
  },
  {
   "cell_type": "code",
   "execution_count": 22,
   "id": "1ea3d810",
   "metadata": {},
   "outputs": [
    {
     "data": {
      "text/plain": [
       "tensor(0.5000, device='cuda:1')"
      ]
     },
     "execution_count": 22,
     "metadata": {},
     "output_type": "execute_result"
    }
   ],
   "source": [
    "# Sparsity:\n",
    "(shared_data['gradients'][0][0].abs() > 1e-8).sum() / shared_data['gradients'][0][0].numel()"
   ]
  },
  {
   "cell_type": "code",
   "execution_count": 23,
   "id": "f67c9b4a",
   "metadata": {},
   "outputs": [
    {
     "data": {
      "text/plain": [
       "tensor(1.9529, device='cuda:1')"
      ]
     },
     "execution_count": 23,
     "metadata": {},
     "output_type": "execute_result"
    }
   ],
   "source": [
    "torch.stack([g.pow(2).sum() for g in shared_data['gradients'][0][:-4]]).sum().sqrt()"
   ]
  },
  {
   "cell_type": "code",
   "execution_count": 24,
   "id": "49c68628",
   "metadata": {},
   "outputs": [
    {
     "data": {
      "image/png": "[encoded data removed]",
      "text/plain": [
       "<Figure size 432x288 with 1 Axes>"
      ]
     },
     "metadata": {
      "needs_background": "light"
     },
     "output_type": "display_data"
    }
   ],
   "source": [
    "user.plot(true_user_data)"
   ]
  },
  {
   "cell_type": "markdown",
   "id": "17255c5a",
   "metadata": {},
   "source": [
    "### Reconstruct user data:"
   ]
  },
  {
   "cell_type": "code",
   "execution_count": 25,
   "id": "cce472fa",
   "metadata": {},
   "outputs": [
    {
     "data": {
      "text/plain": [
       "ConvNetSmall(\n",
       "  (model): Sequential(\n",
       "    (conv0): Conv2d(3, 256, kernel_size=(3, 3), stride=(1, 1), padding=(1, 1))\n",
       "    (relu0): ReLU()\n",
       "    (conv1): Conv2d(256, 512, kernel_size=(3, 3), stride=(1, 1), padding=(1, 1))\n",
       "    (relu1): ReLU()\n",
       "    (conv2): Conv2d(512, 1024, kernel_size=(3, 3), stride=(2, 2), padding=(1, 1))\n",
       "    (relu2): ReLU()\n",
       "    (pool0): MaxPool2d(kernel_size=3, stride=3, padding=0, dilation=1, ceil_mode=False)\n",
       "    (conv3): Conv2d(1024, 1024, kernel_size=(3, 3), stride=(2, 2), padding=(1, 1))\n",
       "    (relu3): ReLU()\n",
       "    (pool1): AdaptiveAvgPool2d(output_size=1)\n",
       "    (flatten): Flatten(start_dim=1, end_dim=-1)\n",
       "    (linear): Sequential(\n",
       "      (0): Linear(in_features=1024, out_features=2, bias=True)\n",
       "      (1): Identity()\n",
       "      (2): Linear(in_features=2, out_features=1024, bias=True)\n",
       "      (3): Linear(in_features=1024, out_features=10, bias=True)\n",
       "    )\n",
       "  )\n",
       ")"
      ]
     },
     "execution_count": 25,
     "metadata": {},
     "output_type": "execute_result"
    }
   ],
   "source": [
    "attacker.model_template.model.linear[1] = torch.nn.Identity()\n",
    "attacker.model_template"
   ]
  },
  {
   "cell_type": "code",
   "execution_count": 26,
   "id": "8a2f0092",
   "metadata": {
    "scrolled": false
   },
   "outputs": [
    {
     "name": "stdout",
     "output_type": "stream",
     "text": [
      "It: 1. Rec. loss: 0.0867. T: 0.06s\n",
      "It: 1001. Rec. loss: 0.0057. T: 20.38s\n",
      "It: 2001. Rec. loss: 0.0061. T: 20.13s\n",
      "It: 3001. Rec. loss: 0.0046. T: 20.13s\n",
      "It: 4001. Rec. loss: 0.0065. T: 20.08s\n",
      "It: 5001. Rec. loss: 0.0062. T: 20.08s\n",
      "It: 6001. Rec. loss: 0.0053. T: 20.09s\n",
      "It: 7001. Rec. loss: 0.0052. T: 20.08s\n",
      "It: 8001. Rec. loss: 0.0051. T: 20.12s\n",
      "It: 9001. Rec. loss: 0.0045. T: 20.11s\n",
      "It: 10001. Rec. loss: 0.0029. T: 20.19s\n",
      "It: 11001. Rec. loss: 0.0029. T: 20.09s\n",
      "It: 12001. Rec. loss: 0.0029. T: 20.09s\n",
      "It: 13001. Rec. loss: 0.0030. T: 20.09s\n",
      "It: 14001. Rec. loss: 0.0028. T: 20.10s\n",
      "It: 15001. Rec. loss: 0.0028. T: 20.14s\n",
      "It: 16001. Rec. loss: 0.0026. T: 20.07s\n",
      "It: 17001. Rec. loss: 0.0026. T: 20.11s\n",
      "It: 18001. Rec. loss: 0.0027. T: 20.09s\n",
      "It: 19001. Rec. loss: 0.0027. T: 20.10s\n",
      "It: 20001. Rec. loss: 0.0027. T: 20.10s\n",
      "It: 21001. Rec. loss: 0.0027. T: 20.08s\n",
      "It: 22001. Rec. loss: 0.0027. T: 20.10s\n",
      "It: 23001. Rec. loss: 0.0026. T: 20.11s\n",
      "It: 24000. Rec. loss: 0.0027. T: 20.11s\n",
      "Optimal condidate solution with rec. loss 0.0265 selected.\n",
      "Setting up [LPIPS] perceptual loss: trunk [alex], v[0.1], spatial [off]\n",
      "Loading model from: /home/jonas/miniconda3/envs/dl/lib/python3.9/site-packages/lpips/weights/v0.1/alex.pth\n",
      "METRICS: | MSE: 0.0014 | PSNR: 28.51 | FMSE: 2.2397e-05 | LPIPS: 0.00| R-PSNR: 28.51 | IIP-pixel: 100.00%\n"
     ]
    }
   ],
   "source": [
    "reconstructed_user_data, stats = attacker.reconstruct(server_payload, shared_data, \n",
    "                                                      server.secrets, dryrun=cfg.dryrun)\n",
    "\n",
    "# How good is the reconstruction?\n",
    "metrics = breaching.analysis.report(reconstructed_user_data, true_user_data, \n",
    "                                    server_payload, server.model, user.dataloader, setup=setup,\n",
    "                                    order_batch=True, compute_full_iip=False)"
   ]
  },
  {
   "cell_type": "code",
   "execution_count": 27,
   "id": "631f4a84",
   "metadata": {},
   "outputs": [
    {
     "data": {
      "image/png": "[encoded data removed]",
      "text/plain": [
       "<Figure size 432x288 with 1 Axes>"
      ]
     },
     "metadata": {
      "needs_background": "light"
     },
     "output_type": "display_data"
    }
   ],
   "source": [
    "user.plot(reconstructed_user_data, scale=False)"
   ]
  },
  {
   "cell_type": "code",
   "execution_count": 28,
   "id": "03d28b08",
   "metadata": {},
   "outputs": [
    {
     "name": "stdout",
     "output_type": "stream",
     "text": [
      "Setting up [LPIPS] perceptual loss: trunk [alex], v[0.1], spatial [off]\n",
      "Loading model from: /home/jonas/miniconda3/envs/dl/lib/python3.9/site-packages/lpips/weights/v0.1/alex.pth\n",
      "METRICS: | MSE: 0.0014 | PSNR: 28.51 | FMSE: 2.2397e-05 | LPIPS: 0.00| R-PSNR: 28.51 | IIP-pixel: 100.00% | IIP-lpips: 100.00% | IIP-self: 100.00%\n"
     ]
    }
   ],
   "source": [
    "metrics = breaching.analysis.report(reconstructed_user_data, true_user_data, \n",
    "                                    server_payload, server.model, user.dataloader, setup=setup,\n",
    "                                    order_batch=True, compute_full_iip=True)"
   ]
  }
 ],
 "metadata": {
  "kernelspec": {
   "display_name": "Python 3 (ipykernel)",
   "language": "python",
   "name": "python3"
  },
  "language_info": {
   "codemirror_mode": {
    "name": "ipython",
    "version": 3
   },
   "file_extension": ".py",
   "mimetype": "text/x-python",
   "name": "python",
   "nbconvert_exporter": "python",
   "pygments_lexer": "ipython3",
   "version": "3.9.7"
  }
 },
 "nbformat": 4,
 "nbformat_minor": 5
}
