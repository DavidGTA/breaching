{
 "cells": [
  {
   "cell_type": "markdown",
   "id": "3ebef44a",
   "metadata": {},
   "source": [
    "# Breaching privacy"
   ]
  },
  {
   "cell_type": "markdown",
   "id": "a756fc5f",
   "metadata": {},
   "source": [
    "This notebook does the same job as the cmd-line tool `breach.py`, but also directly visualizes the user data and reconstruction"
   ]
  },
  {
   "cell_type": "code",
   "execution_count": 1,
   "id": "b850eabf",
   "metadata": {},
   "outputs": [],
   "source": [
    "import torch\n",
    "import hydra\n",
    "from omegaconf import OmegaConf\n",
    "%load_ext autoreload\n",
    "%autoreload 2\n",
    "\n",
    "import breaching"
   ]
  },
  {
   "cell_type": "markdown",
   "id": "88d5e214",
   "metadata": {},
   "source": [
    "### Initialize cfg object and system setup:"
   ]
  },
  {
   "cell_type": "markdown",
   "id": "56bd663b",
   "metadata": {},
   "source": [
    "This will print out all configuration options. \n",
    "There are a lot of possible configurations, but there is usually no need to worry about most of these. Below, a few options are printed."
   ]
  },
  {
   "cell_type": "code",
   "execution_count": 2,
   "id": "a7dc3a48",
   "metadata": {},
   "outputs": [
    {
     "name": "stdout",
     "output_type": "stream",
     "text": [
      "Investigating use case small_batch_cifar_pathnet with server type path_parameters.\n",
      "Attack settings are:\n",
      "type: invertinggradients\n",
      "attack_type: optimization\n",
      "objective:\n",
      "  type: cosine-similarity\n",
      "  scale: 1.0\n",
      "restarts:\n",
      "  num_trials: 1\n",
      "  scoring: cosine-similarity\n",
      "init: randn\n",
      "optim:\n",
      "  optimizer: adam\n",
      "  signed: true\n",
      "  step_size: 0.1\n",
      "  boxed: true\n",
      "  max_iterations: 24000\n",
      "  step_size_decay: step-lr\n",
      "  langevin_noise: 0.0\n",
      "  warmup: 0\n",
      "  callback: 1000\n",
      "regularization:\n",
      "  total_variation:\n",
      "    scale: 0.2\n",
      "    inner_exp: 1\n",
      "    outer_exp: 1\n",
      "  orthogonality:\n",
      "    scale: 0.0\n",
      "\n"
     ]
    },
    {
     "data": {
      "text/plain": [
       "{'device': device(type='cuda', index=2), 'dtype': torch.float32}"
      ]
     },
     "execution_count": 2,
     "metadata": {},
     "output_type": "execute_result"
    }
   ],
   "source": [
    "with hydra.initialize(config_path=\"config\"):\n",
    "    cfg = hydra.compose(config_name='cfg', overrides=['attack=invertinggradients',\n",
    "                                                      'case=7_small_batch_cifar_pathnet'])\n",
    "    print(f'Investigating use case {cfg.case.name} with server type {cfg.case.server.name}.')\n",
    "    print('Attack settings are:')\n",
    "    print(OmegaConf.to_yaml(cfg.attack))\n",
    "          \n",
    "device = torch.device(f'cuda:2') if torch.cuda.is_available() else torch.device('cpu')\n",
    "torch.backends.cudnn.benchmark = cfg.case.impl.benchmark\n",
    "setup = dict(device=device, dtype=getattr(torch, cfg.case.impl.dtype))\n",
    "setup"
   ]
  },
  {
   "cell_type": "markdown",
   "id": "203c5fb1",
   "metadata": {},
   "source": [
    "### Modify config options here"
   ]
  },
  {
   "cell_type": "markdown",
   "id": "6e0764ef",
   "metadata": {},
   "source": [
    "You can use `.attribute` access to modify any of these configurations:"
   ]
  },
  {
   "cell_type": "code",
   "execution_count": 3,
   "id": "ac118ea0",
   "metadata": {},
   "outputs": [],
   "source": [
    "cfg.case.user.data_idx = 0\n",
    "cfg.case.user.num_data_points = 1\n",
    "\n",
    "cfg.case.server.num_paths=1\n",
    "\n",
    "# The total variation scale should be small for CIFAR images\n",
    "cfg.attack.regularization.total_variation.scale = 1e-4"
   ]
  },
  {
   "cell_type": "markdown",
   "id": "76f64389",
   "metadata": {},
   "source": [
    "### Instantiate all parties"
   ]
  },
  {
   "cell_type": "code",
   "execution_count": 20,
   "id": "d3abd955",
   "metadata": {},
   "outputs": [
    {
     "name": "stdout",
     "output_type": "stream",
     "text": [
      "Files already downloaded and verified\n",
      "Files already downloaded and verified\n",
      "Model architecture <class 'breaching.cases.models.resnets.ResNet'> loaded with 11,173,962 parameters and 9,620 buffers.\n",
      "Overall this is a data ratio of    3637:1 for target shape [1, 3, 32, 32] given that num_queries=1.\n"
     ]
    }
   ],
   "source": [
    "user, server = breaching.cases.construct_case(cfg.case, setup)\n",
    "attacker = breaching.attacks.prepare_attack(server.model, server.loss, cfg.attack, setup)"
   ]
  },
  {
   "cell_type": "code",
   "execution_count": 21,
   "id": "8c7273d4",
   "metadata": {
    "scrolled": false
   },
   "outputs": [
    {
     "name": "stdout",
     "output_type": "stream",
     "text": [
      "User (of type UserSingleStep with settings:\n",
      "            number of local updates: 1\n",
      "            number of data points: 1\n",
      "            number of user queries 1\n",
      "\n",
      "            Threat model:\n",
      "            User provides labels: True\n",
      "            User provides number of data points: True\n",
      "\n",
      "            Model:\n",
      "            model specification: ResNet\n",
      "            loss function: CrossEntropyLoss()\n",
      "\n",
      "            Data:\n",
      "            Dataset: CIFAR10\n",
      "            data_idx: 0\n",
      "        \n",
      "<breaching.cases.servers.PathParameterServer object at 0x7f3fa4648190>\n",
      "<breaching.attacks.optimization_based_attack.OptimizationBasedAttack object at 0x7f3fadbc5100>\n"
     ]
    }
   ],
   "source": [
    "print(user)\n",
    "print(server)\n",
    "print(attacker)"
   ]
  },
  {
   "cell_type": "markdown",
   "id": "548c0ad6",
   "metadata": {},
   "source": [
    "### Simulate an attacked FL protocol"
   ]
  },
  {
   "cell_type": "markdown",
   "id": "2058bcc2",
   "metadata": {},
   "source": [
    "True user data is returned only for analysis"
   ]
  },
  {
   "cell_type": "code",
   "execution_count": 22,
   "id": "b0dbd868",
   "metadata": {},
   "outputs": [
    {
     "name": "stdout",
     "output_type": "stream",
     "text": [
      "Computing feature distribution before the avgpool.1 layer from external data.\n",
      "Feature mean is 0.7922539710998535, feature std is 0.35923299193382263.\n"
     ]
    }
   ],
   "source": [
    "server_payload = server.distribute_payload()\n",
    "shared_data, true_user_data = user.compute_local_updates(server_payload)  "
   ]
  },
  {
   "cell_type": "code",
   "execution_count": 23,
   "id": "49c68628",
   "metadata": {},
   "outputs": [
    {
     "data": {
      "image/png": "[encoded data removed]",
      "text/plain": [
       "<Figure size 432x288 with 1 Axes>"
      ]
     },
     "metadata": {
      "needs_background": "light"
     },
     "output_type": "display_data"
    }
   ],
   "source": [
    "user.plot(true_user_data)"
   ]
  },
  {
   "cell_type": "markdown",
   "id": "17255c5a",
   "metadata": {},
   "source": [
    "### Reconstruct user data:"
   ]
  },
  {
   "cell_type": "code",
   "execution_count": 24,
   "id": "8a2f0092",
   "metadata": {},
   "outputs": [
    {
     "name": "stdout",
     "output_type": "stream",
     "text": [
      "It: 1. Rec. loss: 0.0032. T: 0.07s\n",
      "It: 1001. Rec. loss: 0.0014. T: 42.19s\n",
      "It: 2001. Rec. loss: 0.0013. T: 42.08s\n",
      "It: 3001. Rec. loss: 0.0013. T: 43.01s\n",
      "It: 4001. Rec. loss: 0.0012. T: 41.98s\n",
      "It: 5001. Rec. loss: 0.0012. T: 42.34s\n",
      "It: 6001. Rec. loss: 0.0012. T: 43.17s\n",
      "It: 7001. Rec. loss: 0.0012. T: 42.19s\n",
      "It: 8001. Rec. loss: 0.0012. T: 41.66s\n",
      "It: 9001. Rec. loss: 0.0012. T: 41.26s\n",
      "It: 10001. Rec. loss: 0.0011. T: 41.27s\n",
      "It: 11001. Rec. loss: 0.0011. T: 41.80s\n",
      "It: 12001. Rec. loss: 0.0011. T: 41.70s\n",
      "It: 13001. Rec. loss: 0.0011. T: 41.40s\n",
      "It: 14001. Rec. loss: 0.0011. T: 42.42s\n",
      "It: 15001. Rec. loss: 0.0011. T: 42.09s\n",
      "It: 16001. Rec. loss: 0.0011. T: 41.95s\n",
      "It: 17001. Rec. loss: 0.0011. T: 42.16s\n",
      "It: 18001. Rec. loss: 0.0011. T: 41.75s\n",
      "It: 19001. Rec. loss: 0.0011. T: 41.45s\n",
      "It: 20001. Rec. loss: 0.0011. T: 41.85s\n",
      "It: 21001. Rec. loss: 0.0011. T: 41.52s\n",
      "It: 22001. Rec. loss: 0.0011. T: 43.05s\n",
      "It: 23001. Rec. loss: 0.0011. T: 41.69s\n",
      "It: 24000. Rec. loss: 0.0011. T: 41.60s\n",
      "Optimal condidate solution with rec. loss 0.0011 selected.\n",
      "Setting up [LPIPS] perceptual loss: trunk [alex], v[0.1], spatial [off]\n",
      "Loading model from: /home/jonas/miniconda3/envs/dl/lib/python3.9/site-packages/lpips/weights/v0.1/alex.pth\n",
      "METRICS: | MSE: 0.0458 | PSNR: 13.39 | FMSE: 8.1791e-06 | LPIPS: 0.53| R-PSNR: 13.39 | IIP:   0.00%\n"
     ]
    }
   ],
   "source": [
    "reconstructed_user_data, stats = attacker.reconstruct(server_payload, shared_data, \n",
    "                                                      server.secrets, dryrun=cfg.dryrun)\n",
    "\n",
    "# How good is the reconstruction?\n",
    "metrics = breaching.analysis.report(reconstructed_user_data, true_user_data, \n",
    "                                    server_payload, server.model, user.dataloader, setup)"
   ]
  },
  {
   "cell_type": "code",
   "execution_count": 25,
   "id": "631f4a84",
   "metadata": {},
   "outputs": [
    {
     "data": {
      "image/png": "[encoded data removed]",
      "text/plain": [
       "<Figure size 432x288 with 1 Axes>"
      ]
     },
     "metadata": {
      "needs_background": "light"
     },
     "output_type": "display_data"
    }
   ],
   "source": [
    "user.plot(reconstructed_user_data)"
   ]
  }
 ],
 "metadata": {
  "kernelspec": {
   "display_name": "Python 3 (ipykernel)",
   "language": "python",
   "name": "python3"
  },
  "language_info": {
   "codemirror_mode": {
    "name": "ipython",
    "version": 3
   },
   "file_extension": ".py",
   "mimetype": "text/x-python",
   "name": "python",
   "nbconvert_exporter": "python",
   "pygments_lexer": "ipython3",
   "version": "3.9.7"
  }
 },
 "nbformat": 4,
 "nbformat_minor": 5
}
