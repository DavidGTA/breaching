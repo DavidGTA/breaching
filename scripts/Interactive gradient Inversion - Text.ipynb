{
 "cells": [
  {
   "cell_type": "markdown",
   "id": "3ebef44a",
   "metadata": {},
   "source": [
    "# Breaching privacy"
   ]
  },
  {
   "cell_type": "markdown",
   "id": "a756fc5f",
   "metadata": {},
   "source": [
    "This notebook does the same job as the cmd-line tool `simulate_breach.py`, but also directly visualizes the user data and reconstruction"
   ]
  },
  {
   "cell_type": "code",
   "execution_count": null,
   "id": "b850eabf",
   "metadata": {},
   "outputs": [],
   "source": [
    "import torch\n",
    "import hydra\n",
    "from omegaconf import OmegaConf\n",
    "%load_ext autoreload\n",
    "%autoreload 2\n",
    "\n",
    "import breaching\n",
    "import logging, sys\n",
    "logging.basicConfig(level=logging.INFO, handlers=[logging.StreamHandler(sys.stdout)], format='%(message)s')\n",
    "logger = logging.getLogger()"
   ]
  },
  {
   "cell_type": "markdown",
   "id": "88d5e214",
   "metadata": {},
   "source": [
    "### Initialize cfg object and system setup:"
   ]
  },
  {
   "cell_type": "markdown",
   "id": "56bd663b",
   "metadata": {},
   "source": [
    "This will print out all configuration options. \n",
    "There are a lot of possible configurations, but there is usually no need to worry about most of these. Below, a few options are printed."
   ]
  },
  {
   "cell_type": "code",
   "execution_count": null,
   "id": "a7dc3a48",
   "metadata": {},
   "outputs": [],
   "source": [
    "with hydra.initialize(config_path=\"config\"):\n",
    "    cfg = hydra.compose(config_name='cfg', overrides=['case/data=shakespeare', 'case.model=transformer1',\n",
    "                                                      'attack.label_strategy=bias-text',\n",
    "                                                      'attack.regularization.total_variation.scale=0'])\n",
    "    print(f'Investigating use case {cfg.case.name} with server type {cfg.case.server.name}.')\n",
    "          \n",
    "device = torch.device(f'cuda:0') if torch.cuda.is_available() else torch.device('cpu')\n",
    "torch.backends.cudnn.benchmark = cfg.case.impl.benchmark\n",
    "setup = dict(device=device, dtype=torch.float)\n",
    "setup"
   ]
  },
  {
   "cell_type": "markdown",
   "id": "203c5fb1",
   "metadata": {},
   "source": [
    "### Modify config options here"
   ]
  },
  {
   "cell_type": "markdown",
   "id": "6e0764ef",
   "metadata": {},
   "source": [
    "You can use `.attribute` access to modify any of these configurations:"
   ]
  },
  {
   "cell_type": "code",
   "execution_count": null,
   "id": "ac118ea0",
   "metadata": {},
   "outputs": [],
   "source": [
    "cfg.case.user.num_data_points = 21 # 21\n",
    "cfg.case.user.user_idx=0\n",
    "\n",
    "cfg.attack.attack_type = \"joint-optimization\""
   ]
  },
  {
   "cell_type": "markdown",
   "id": "76f64389",
   "metadata": {},
   "source": [
    "### Instantiate all parties"
   ]
  },
  {
   "cell_type": "code",
   "execution_count": null,
   "id": "2e4d4d6d",
   "metadata": {
    "scrolled": false
   },
   "outputs": [],
   "source": [
    "user, server, model, loss_fn = breaching.cases.construct_case(cfg.case, setup)\n",
    "attacker = breaching.attacks.prepare_attack(server.model, server.loss, cfg.attack, setup)\n",
    "breaching.utils.overview(server, user, attacker)"
   ]
  },
  {
   "cell_type": "markdown",
   "id": "548c0ad6",
   "metadata": {},
   "source": [
    "### Simulate an attacked FL protocol"
   ]
  },
  {
   "cell_type": "markdown",
   "id": "2058bcc2",
   "metadata": {},
   "source": [
    "True user data is returned only for analysis"
   ]
  },
  {
   "cell_type": "code",
   "execution_count": null,
   "id": "3f2a2e33",
   "metadata": {},
   "outputs": [],
   "source": [
    "server_payload = server.distribute_payload()\n",
    "shared_data, true_user_data = user.compute_local_updates(server_payload)"
   ]
  },
  {
   "cell_type": "code",
   "execution_count": null,
   "id": "ec4316c8",
   "metadata": {},
   "outputs": [],
   "source": [
    "#grads = shared_data['gradients'][0]\n",
    "#[(g.norm(), g.mean(), g.std()) for g in grads]"
   ]
  },
  {
   "cell_type": "code",
   "execution_count": null,
   "id": "fbda9be4",
   "metadata": {},
   "outputs": [],
   "source": [
    "#torch.norm(torch.stack([torch.norm(g, 2) for g in grads]), 2)"
   ]
  },
  {
   "cell_type": "code",
   "execution_count": null,
   "id": "49c68628",
   "metadata": {},
   "outputs": [],
   "source": [
    "user.print(true_user_data)"
   ]
  },
  {
   "cell_type": "code",
   "execution_count": null,
   "id": "d6dbe99d",
   "metadata": {},
   "outputs": [],
   "source": [
    "true_user_data[\"data\"].shape"
   ]
  },
  {
   "cell_type": "markdown",
   "id": "f2867bcc",
   "metadata": {},
   "source": [
    "# Reconstruct user data"
   ]
  },
  {
   "cell_type": "code",
   "execution_count": null,
   "id": "04521004",
   "metadata": {
    "scrolled": true
   },
   "outputs": [],
   "source": [
    "reconstructed_user_data, stats = attacker.reconstruct([server_payload], [shared_data], \n",
    "                                                      server.secrets, dryrun=cfg.dryrun)"
   ]
  },
  {
   "cell_type": "code",
   "execution_count": null,
   "id": "33b7388d",
   "metadata": {},
   "outputs": [],
   "source": [
    "user.print(reconstructed_user_data)"
   ]
  },
  {
   "cell_type": "markdown",
   "id": "ba751df5",
   "metadata": {},
   "source": [
    "# Reconstruct manually"
   ]
  },
  {
   "cell_type": "code",
   "execution_count": null,
   "id": "51f2c377",
   "metadata": {},
   "outputs": [],
   "source": [
    "labels = reconstructed_user_data[\"labels\"]"
   ]
  },
  {
   "cell_type": "code",
   "execution_count": null,
   "id": "7187cc8d",
   "metadata": {},
   "outputs": [],
   "source": [
    "labels"
   ]
  },
  {
   "cell_type": "code",
   "execution_count": null,
   "id": "ff4392f8",
   "metadata": {},
   "outputs": [],
   "source": [
    "input_to_pos_embedding = shared_data[\"gradients\"][0]\n",
    "input_to_pos_embedding.shape"
   ]
  },
  {
   "cell_type": "code",
   "execution_count": null,
   "id": "61783070",
   "metadata": {},
   "outputs": [],
   "source": [
    "user.model.transformer_encoder.layers[0].self_attn.out_proj.weight.shape"
   ]
  },
  {
   "cell_type": "code",
   "execution_count": null,
   "id": "cc9a5d21",
   "metadata": {},
   "outputs": [],
   "source": [
    "named_grads = dict(zip([name for name, _ in attacker._rec_models[0].named_parameters()], shared_data[\"gradients\"]))\n",
    "[(key, g.shape) for key, g in named_grads.items()]"
   ]
  },
  {
   "cell_type": "code",
   "execution_count": null,
   "id": "446ab8c5",
   "metadata": {},
   "outputs": [],
   "source": [
    "encoded_labels = user.model.encoder.weight[labels]\n",
    "encoded_labels.shape"
   ]
  },
  {
   "cell_type": "code",
   "execution_count": null,
   "id": "8f53acf7",
   "metadata": {},
   "outputs": [],
   "source": [
    "pos_grads = named_grads[\"pos_encoder.embedding.weight\"][:32]\n",
    "pos_grads.shape"
   ]
  },
  {
   "cell_type": "code",
   "execution_count": null,
   "id": "eb1df6d5",
   "metadata": {},
   "outputs": [],
   "source": [
    "cmap = (encoded_labels[None] *  pos_grads[:, None]).pow(2).sum(dim=-1)\n",
    "norms = encoded_labels.norm(dim=-1)[None] * pos_grads[:, None].norm(dim=-1) "
   ]
  },
  {
   "cell_type": "code",
   "execution_count": null,
   "id": "f88b00b7",
   "metadata": {},
   "outputs": [],
   "source": [
    "cmap.abs().min()"
   ]
  },
  {
   "cell_type": "code",
   "execution_count": null,
   "id": "ff01f318",
   "metadata": {},
   "outputs": [],
   "source": [
    "import matplotlib.pyplot as plt"
   ]
  },
  {
   "cell_type": "code",
   "execution_count": null,
   "id": "1d573984",
   "metadata": {},
   "outputs": [],
   "source": [
    "plt.imshow((cmap / norms).detach())"
   ]
  },
  {
   "cell_type": "code",
   "execution_count": null,
   "id": "854e7a56",
   "metadata": {},
   "outputs": [],
   "source": [
    "(true_user_data[\"data\"].view(-1).sort()[0] - labels.view(-1).sort()[0] == 0).sum() / labels.numel()"
   ]
  },
  {
   "cell_type": "code",
   "execution_count": null,
   "id": "2f632cea",
   "metadata": {},
   "outputs": [],
   "source": [
    "found_labels = 0\n",
    "label_pool = true_user_data[\"data\"].view(-1).clone().tolist()\n",
    "for label in labels.view(-1):\n",
    "    if label in label_pool:\n",
    "        found_labels += 1\n",
    "        label_pool.remove(label)\n",
    "found_labels / true_user_data[\"labels\"].numel()"
   ]
  },
  {
   "cell_type": "code",
   "execution_count": null,
   "id": "26b4b02e",
   "metadata": {},
   "outputs": [],
   "source": [
    "21*32"
   ]
  }
 ],
 "metadata": {
  "kernelspec": {
   "display_name": "Python 3 (ipykernel)",
   "language": "python",
   "name": "python3"
  },
  "language_info": {
   "codemirror_mode": {
    "name": "ipython",
    "version": 3
   },
   "file_extension": ".py",
   "mimetype": "text/x-python",
   "name": "python",
   "nbconvert_exporter": "python",
   "pygments_lexer": "ipython3",
   "version": "3.9.7"
  }
 },
 "nbformat": 4,
 "nbformat_minor": 5
}
