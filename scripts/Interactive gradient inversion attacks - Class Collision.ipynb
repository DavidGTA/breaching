{
 "cells": [
  {
   "cell_type": "markdown",
   "id": "3ebef44a",
   "metadata": {},
   "source": [
    "# Breaching privacy"
   ]
  },
  {
   "cell_type": "markdown",
   "id": "a756fc5f",
   "metadata": {},
   "source": [
    "This notebook does the same job as the cmd-line tool `breach.py`, but also directly visualizes the user data and reconstruction"
   ]
  },
  {
   "cell_type": "code",
   "execution_count": 1,
   "id": "b850eabf",
   "metadata": {},
   "outputs": [],
   "source": [
    "import torch\n",
    "import numpy as np\n",
    "import hydra\n",
    "import copy\n",
    "from omegaconf import OmegaConf, open_dict\n",
    "%load_ext autoreload\n",
    "%autoreload 2\n",
    "\n",
    "import breaching\n",
    "import logging, sys\n",
    "logging.basicConfig(level=logging.INFO, handlers=[logging.StreamHandler(sys.stdout)], format='%(message)s')\n",
    "logger = logging.getLogger()"
   ]
  },
  {
   "cell_type": "markdown",
   "id": "88d5e214",
   "metadata": {},
   "source": [
    "### Initialize cfg object and system setup:"
   ]
  },
  {
   "cell_type": "markdown",
   "id": "56bd663b",
   "metadata": {},
   "source": [
    "This will print out all configuration options. \n",
    "There are a lot of possible configurations, but there is usually no need to worry about most of these. Below, a few options are printed."
   ]
  },
  {
   "cell_type": "code",
   "execution_count": 2,
   "id": "a7dc3a48",
   "metadata": {},
   "outputs": [
    {
     "name": "stdout",
     "output_type": "stream",
     "text": [
      "ANTLR runtime and generated code versions disagree: 4.9.3!=4.8\n",
      "ANTLR runtime and generated code versions disagree: 4.9.3!=4.8\n",
      "ANTLR runtime and generated code versions disagree: 4.9.3!=4.8\n",
      "ANTLR runtime and generated code versions disagree: 4.9.3!=4.8\n",
      "Investigating use case single_imagenet with server type class_malicious_parameters.\n"
     ]
    },
    {
     "data": {
      "text/plain": [
       "{'device': device(type='cuda'), 'dtype': torch.float32}"
      ]
     },
     "execution_count": 2,
     "metadata": {},
     "output_type": "execute_result"
    }
   ],
   "source": [
    "with hydra.initialize(config_path=\"config\"):\n",
    "    cfg = hydra.compose(config_name='cfg', overrides=['attack=clsattack'])\n",
    "    cfg.case.server.name = 'class_malicious_parameters'\n",
    "    print(f'Investigating use case {cfg.case.name} with server type {cfg.case.server.name}.')\n",
    "          \n",
    "device = torch.device(f'cuda') if torch.cuda.is_available() else torch.device('cpu')\n",
    "torch.backends.cudnn.benchmark = cfg.case.impl.benchmark\n",
    "setup = dict(device=device, dtype=getattr(torch, cfg.case.impl.dtype))\n",
    "setup"
   ]
  },
  {
   "cell_type": "markdown",
   "id": "203c5fb1",
   "metadata": {},
   "source": [
    "### Modify config options here"
   ]
  },
  {
   "cell_type": "markdown",
   "id": "6e0764ef",
   "metadata": {},
   "source": [
    "You can use `.attribute` access to modify any of these configurations:"
   ]
  },
  {
   "cell_type": "code",
   "execution_count": 15,
   "id": "ac118ea0",
   "metadata": {},
   "outputs": [],
   "source": [
    "with open_dict(cfg):\n",
    "    cfg.case.data.partition = \"unique-class\"\n",
    "    cfg.case.user.user_idx = 25\n",
    "    cfg.case.user.num_data_points = 16\n",
    "    cfg.case.model = 'resnet18'\n",
    "    cfg.case.server.model_state = 'trained'\n",
    "    cfg.case.user.provide_labels = True\n",
    "    cfg.case.user.provide_buffers = True\n",
    "    cfg.case.user.provide_num_data_points = True\n",
    "\n",
    "    cfg.attack.optim.max_iterations = 24000"
   ]
  },
  {
   "cell_type": "markdown",
   "id": "76f64389",
   "metadata": {},
   "source": [
    "### Instantiate all parties"
   ]
  },
  {
   "cell_type": "code",
   "execution_count": 16,
   "id": "d3abd955",
   "metadata": {},
   "outputs": [
    {
     "name": "stdout",
     "output_type": "stream",
     "text": [
      "Model architecture resnet18 loaded with 11,380,173 parameters and 9,620 buffers.\n",
      "Overall this is a data ratio of       5:1 for target shape [16, 3, 224, 224] given that num_queries=1.\n",
      "User (of type UserSingleStep) with settings:\n",
      "    Number of data points: 16\n",
      "\n",
      "    Threat model:\n",
      "    User provides labels: True\n",
      "    User provides buffers: True\n",
      "    User provides number of data points: True\n",
      "\n",
      "    Data:\n",
      "    Dataset: ImageNetAnimals\n",
      "    user: 25\n",
      "    \n",
      "        \n",
      "Server (of type ClassParameterServer) with settings:\n",
      "    Threat model: Malicious (Parameters)\n",
      "    Number of planned queries: 1\n",
      "    Has external/public data: False\n",
      "\n",
      "    Model:\n",
      "        model specification: resnet18\n",
      "        model state: trained\n",
      "        public buffers: True\n",
      "\n",
      "    Secrets: {}\n",
      "    \n",
      "Attacker (of type OptimizationBasedAttacker) with settings:\n",
      "    Hyperparameter Template: invertinggradients\n",
      "\n",
      "    Objective: Cosine Similarity with scale=1.0 and task reg=0.0\n",
      "    Regularizers: Total Variation, scale=0.2. p=2 q=0.5. Color TV: double oppponents\n",
      "    Augmentations: \n",
      "\n",
      "    Optimization Setup:\n",
      "        optimizer: adam\n",
      "        signed: soft\n",
      "        step_size: 0.1\n",
      "        boxed: True\n",
      "        max_iterations: 24000\n",
      "        step_size_decay: cosine-decay\n",
      "        langevin_noise: 0.0\n",
      "        warmup: 50\n",
      "        grad_clip: None\n",
      "        callback: 1000\n",
      "        \n"
     ]
    }
   ],
   "source": [
    "user, server, model, loss_fn = breaching.cases.construct_case(cfg.case, setup)\n",
    "attacker = breaching.attacks.prepare_attack(server.model, server.loss, cfg.attack, setup)\n",
    "breaching.utils.overview(server, user, attacker)"
   ]
  },
  {
   "cell_type": "markdown",
   "id": "548c0ad6",
   "metadata": {},
   "source": [
    "### Simulate an attacked FL protocol"
   ]
  },
  {
   "cell_type": "markdown",
   "id": "2058bcc2",
   "metadata": {},
   "source": [
    "True user data is returned only for analysis"
   ]
  },
  {
   "cell_type": "code",
   "execution_count": 19,
   "id": "db5fd444",
   "metadata": {},
   "outputs": [
    {
     "name": "stdout",
     "output_type": "stream",
     "text": [
      "Too many attempts (256) on this feature!\n",
      "Spent 256 user queries so far.\n",
      "Spent 377 user queries so far.\n"
     ]
    }
   ],
   "source": [
    "# modify the model to catch the class we want\n",
    "which_to_recover = 0\n",
    "how_many = 1\n",
    "how_many_rec = 1\n",
    "\n",
    "# preparing for the attack\n",
    "server.reset_model()\n",
    "server_payload = server.distribute_payload()\n",
    "shared_data, true_user_data = user.compute_local_updates(server_payload)\n",
    "\n",
    "t_labels = true_user_data['labels'].cpu().detach().numpy()\n",
    "cls_to_obtain = t_labels[which_to_recover:(which_to_recover + how_many)]\n",
    "extra_info = {'cls_to_obtain': cls_to_obtain}\n",
    "all_feature = torch.flatten(server.reconstruct_feature(shared_data, cls_to_obtain))\n",
    "\n",
    "server.reset_model()\n",
    "server.reconfigure_model('cls_attack', extra_info=extra_info)\n",
    "server_payload = server.distribute_payload()\n",
    "shared_data, true_user_data = user.compute_local_updates(server_payload)\n",
    "avg_feature = torch.flatten(server.reconstruct_feature(shared_data, cls_to_obtain))\n",
    "other_feature = avg_feature - all_feature\n",
    "\n",
    "single_gradient_recovered = False\n",
    "user.counted_queries = 0\n",
    "\n",
    "while not single_gradient_recovered:\n",
    "    feat_to_obtain = int(torch.argmax(avg_feature))\n",
    "    feat_value = float(avg_feature[feat_to_obtain])\n",
    "\n",
    "    # binary attack to recover all single gradients\n",
    "    extra_info[\"feat_to_obtain\"] = feat_to_obtain\n",
    "    extra_info[\"feat_value\"] = feat_value\n",
    "    extra_info[\"multiplier\"] = 1\n",
    "    extra_info[\"num_target_data\"] = int(torch.count_nonzero((shared_data[\"metadata\"][\"labels\"] == int(cls_to_obtain)).to(int)))\n",
    "    extra_info[\"num_data_points\"] = int(cfg.case.user.num_data_points)\n",
    "    \n",
    "    recovered_single_gradients = server.binary_attack(user, extra_info)\n",
    "    # recovered_single_gradients = server.one_shot_binary_attack(user, extra_info)\n",
    "    if recovered_single_gradients is not None:\n",
    "        single_gradient_recovered = True\n",
    "    else:\n",
    "        avg_feature[feat_to_obtain] = -1000\n",
    "\n",
    "    logger.info(f\"Spent {user.counted_queries} user queries so far.\")\n",
    "\n",
    "# reorder the gradients\n",
    "server.reset_model()\n",
    "extra_info['multiplier'] = 1\n",
    "extra_info['feat_value'] = feat_value\n",
    "extra_info[\"feat_to_obtain\"] = feat_to_obtain\n",
    "server.reconfigure_model('cls_attack', extra_info=extra_info)\n",
    "server.reconfigure_model('feature_attack', extra_info=extra_info)\n",
    "server_payload = server.distribute_payload()\n",
    "\n",
    "target_indx = np.where(t_labels == cls_to_obtain)\n",
    "tmp_true_user_data = {}\n",
    "tmp_true_user_data['data'] = true_user_data['data'][target_indx]\n",
    "tmp_true_user_data['labels'] = true_user_data['labels'][target_indx]\n",
    "\n",
    "attacker.objective.cfg_impl = cfg.attack.impl\n",
    "single_gradients, single_losses = server.cal_single_gradients(attacker, tmp_true_user_data)\n",
    "recovered_single_gradients = server.order_gradients(recovered_single_gradients, single_gradients)"
   ]
  },
  {
   "cell_type": "code",
   "execution_count": 20,
   "id": "901fc6de-5208-4ef7-9b05-da8afe35f3f6",
   "metadata": {},
   "outputs": [
    {
     "name": "stdout",
     "output_type": "stream",
     "text": [
      "0.978751540184021\n",
      "0.9852755069732666\n",
      "0.9795252680778503\n",
      "0.9870787262916565\n",
      "0.9832985401153564\n",
      "0.9819676280021667\n",
      "0.9787515997886658\n",
      "0.9743768572807312\n",
      "0.9806594252586365\n",
      "0.9841616153717041\n",
      "0.9756428003311157\n",
      "0.9761735200881958\n",
      "0.9753624200820923\n",
      "0.9849905371665955\n",
      "0.979377031326294\n",
      "0.9783847332000732\n"
     ]
    }
   ],
   "source": [
    "for i in range(len(recovered_single_gradients)):\n",
    "    grad_0 = torch.cat([torch.flatten(ii) for ii in recovered_single_gradients[i]])\n",
    "    grad_0_0 = single_gradients[i]\n",
    "    \n",
    "    print(float(torch.nn.CosineSimilarity(dim=0)(grad_0, grad_0_0).detach()))"
   ]
  },
  {
   "cell_type": "code",
   "execution_count": null,
   "id": "b0dbd868",
   "metadata": {},
   "outputs": [],
   "source": [
    "server.reset_model()\n",
    "extra_info['multiplier'] = 1\n",
    "extra_info['feat_value'] = feat_value\n",
    "server.reconfigure_model('cls_attack', extra_info=extra_info)\n",
    "server.reconfigure_model('feature_attack', extra_info=extra_info)\n",
    "\n",
    "server_payload = server.distribute_payload()\n",
    "shared_data, true_user_data = user.compute_local_updates(server_payload)  \n",
    "# [(g.mean(), g.std()) for g in shared_data['gradients'][0]]"
   ]
  },
  {
   "cell_type": "code",
   "execution_count": null,
   "id": "49c68628",
   "metadata": {},
   "outputs": [],
   "source": [
    "user.plot(true_user_data)"
   ]
  },
  {
   "cell_type": "markdown",
   "id": "17255c5a",
   "metadata": {},
   "source": [
    "### Reconstruct user data:"
   ]
  },
  {
   "cell_type": "code",
   "execution_count": null,
   "id": "40be80f4",
   "metadata": {},
   "outputs": [],
   "source": [
    "tmp_share_data = copy.deepcopy(shared_data)\n",
    "tmp_share_data['metadata']['num_data_points'] = how_many_rec\n",
    "tmp_share_data['metadata']['labels'] = shared_data['metadata']['labels'][which_to_recover:(which_to_recover + how_many_rec)]\n",
    "tmp_share_data['gradients'] = recovered_single_gradients[which_to_recover]\n",
    "tmp_true_user_data = {}\n",
    "tmp_true_user_data['data'] = true_user_data['data'][which_to_recover:(which_to_recover + how_many_rec)]\n",
    "tmp_true_user_data['labels'] = true_user_data['labels'][which_to_recover:(which_to_recover + how_many_rec)]"
   ]
  },
  {
   "cell_type": "code",
   "execution_count": null,
   "id": "c9a32fd7",
   "metadata": {},
   "outputs": [],
   "source": [
    "reconstructed_user_data, stats = attacker.reconstruct([server_payload], [tmp_share_data], \n",
    "                                                      server.secrets, dryrun=cfg.dryrun)"
   ]
  },
  {
   "cell_type": "code",
   "execution_count": null,
   "id": "31f2685a",
   "metadata": {},
   "outputs": [],
   "source": [
    "#How good is the reconstruction?\n",
    "metrics = breaching.analysis.report(reconstructed_user_data, tmp_true_user_data, [server_payload], \n",
    "                                    server.model, order_batch=True, compute_full_iip=False, \n",
    "                                    cfg_case=cfg.case, setup=setup)"
   ]
  },
  {
   "cell_type": "code",
   "execution_count": null,
   "id": "631f4a84",
   "metadata": {},
   "outputs": [],
   "source": [
    "user.plot(reconstructed_user_data)"
   ]
  },
  {
   "cell_type": "code",
   "execution_count": null,
   "id": "09b05cc1-2afc-4502-abdd-568d64ae48ae",
   "metadata": {},
   "outputs": [],
   "source": [
    "# server.reset_model()\n",
    "# extra_info['multiplier'] = 1000\n",
    "# extra_info[\"db_flip\"] = 1\n",
    "# extra_info['feat_value'] = server.all_feat_value[1]\n",
    "# server.reconfigure_model('cls_attack', extra_info=extra_info)\n",
    "# server.reconfigure_model('feature_attack', extra_info=extra_info)\n",
    "# server_payload = server.distribute_payload()\n",
    "# shared_data, true_user_data = user.compute_local_updates(server_payload) \n",
    "\n",
    "# attacker.objective.cfg_impl = cfg.attack.impl\n",
    "# single_gradients, single_losses = server.cal_single_gradients(attacker, true_user_data)\n",
    "# server.print_gradients_norm(single_gradients, single_losses)"
   ]
  },
  {
   "cell_type": "code",
   "execution_count": null,
   "id": "bea64dcc-78f5-400c-8114-c40042967d3e",
   "metadata": {},
   "outputs": [],
   "source": [
    "# server.all_feat_value"
   ]
  },
  {
   "cell_type": "code",
   "execution_count": null,
   "id": "c8353248-6a2e-4984-8266-a2e7cc4df9b1",
   "metadata": {},
   "outputs": [],
   "source": []
  }
 ],
 "metadata": {
  "kernelspec": {
   "display_name": "Python 3 (ipykernel)",
   "language": "python",
   "name": "python3"
  },
  "language_info": {
   "codemirror_mode": {
    "name": "ipython",
    "version": 3
   },
   "file_extension": ".py",
   "mimetype": "text/x-python",
   "name": "python",
   "nbconvert_exporter": "python",
   "pygments_lexer": "ipython3",
   "version": "3.8.8"
  }
 },
 "nbformat": 4,
 "nbformat_minor": 5
}
