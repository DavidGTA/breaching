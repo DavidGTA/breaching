{
 "cells": [
  {
   "cell_type": "markdown",
   "id": "3ebef44a",
   "metadata": {},
   "source": [
    "# Breaching privacy"
   ]
  },
  {
   "cell_type": "markdown",
   "id": "a756fc5f",
   "metadata": {},
   "source": [
    "This notebook does the same job as the cmd-line tool `breach.py`, but also directly visualizes the user data and reconstruction"
   ]
  },
  {
   "cell_type": "code",
   "execution_count": null,
   "id": "b850eabf",
   "metadata": {},
   "outputs": [],
   "source": [
    "import torch\n",
    "import hydra\n",
    "from omegaconf import OmegaConf\n",
    "%load_ext autoreload\n",
    "%autoreload 2\n",
    "\n",
    "import breaching"
   ]
  },
  {
   "cell_type": "markdown",
   "id": "88d5e214",
   "metadata": {},
   "source": [
    "### Initialize cfg object and system setup:"
   ]
  },
  {
   "cell_type": "markdown",
   "id": "56bd663b",
   "metadata": {},
   "source": [
    "This will print out all configuration options. \n",
    "There are a lot of possible configurations, but there is usually no need to worry about most of these. Below, a few options are printed."
   ]
  },
  {
   "cell_type": "code",
   "execution_count": null,
   "id": "a7dc3a48",
   "metadata": {},
   "outputs": [],
   "source": [
    "with hydra.initialize(config_path=\"config\"):\n",
    "    cfg = hydra.compose(config_name='cfg', overrides=['attack=imprint', 'case=8_industry_fed_avg'])\n",
    "    print(f'Investigating use case {cfg.case.name} with server type {cfg.case.server.name}.')\n",
    "    print('Attack settings are:')\n",
    "    print(OmegaConf.to_yaml(cfg.attack))\n",
    "          \n",
    "device = torch.device(f'cpu:0') if torch.cuda.is_available() else torch.device('cpu')\n",
    "torch.backends.cudnn.benchmark = cfg.case.impl.benchmark\n",
    "setup = dict(device=device, dtype=torch.float)\n",
    "setup"
   ]
  },
  {
   "cell_type": "markdown",
   "id": "203c5fb1",
   "metadata": {},
   "source": [
    "### Modify config options here"
   ]
  },
  {
   "cell_type": "markdown",
   "id": "6e0764ef",
   "metadata": {},
   "source": [
    "You can use `.attribute` access to modify any of these configurations:"
   ]
  },
  {
   "cell_type": "code",
   "execution_count": null,
   "id": "11db0051",
   "metadata": {},
   "outputs": [],
   "source": [
    "users = 100\n",
    "\n",
    "cfg.case.user.num_users = users\n",
    "cfg.case.user.num_data_points = 100 * users\n",
    "cfg.case.user.num_local_updates = 10\n",
    "cfg.case.user.num_data_per_local_update_step = 10\n",
    "cfg.case.user.local_learning_rate = 1e-4\n",
    "\n",
    "cfg.case.data.examples_from_split = 'training' #'training'\n",
    "\n",
    "cfg.case.user.user_type= 'multiuser_aggregate' \n",
    "#cfg.case.user.user_type= 'local_update'"
   ]
  },
  {
   "cell_type": "code",
   "execution_count": null,
   "id": "ac118ea0",
   "metadata": {},
   "outputs": [],
   "source": [
    "cfg.case.model = 'none' # Save some memory given that the rest of the model is almost irrelevant\n",
    "\n",
    "cfg.case.server.model_modification.type = 'OneShotBlock' \n",
    "cfg.case.server.model_modification.num_bins = cfg.case.user.num_data_points\n",
    "cfg.case.server.model_modification.position = None # '4.0.conv'\n",
    "cfg.case.server.model_modification.connection = 'add'\n",
    "\n",
    "\n",
    "cfg.case.server.model_modification.linfunc = 'fourier'\n",
    "cfg.case.server.model_modification.mode = 32"
   ]
  },
  {
   "cell_type": "markdown",
   "id": "76f64389",
   "metadata": {},
   "source": [
    "### Instantiate all parties"
   ]
  },
  {
   "cell_type": "code",
   "execution_count": null,
   "id": "2e4d4d6d",
   "metadata": {
    "scrolled": true
   },
   "outputs": [],
   "source": [
    "user, server, model, loss_fn = breaching.cases.construct_case(cfg.case, setup)\n",
    "attacker = breaching.attacks.prepare_attack(server.model, server.loss, cfg.attack, setup)\n",
    "breaching.utils.overview(server, user, attacker)"
   ]
  },
  {
   "cell_type": "code",
   "execution_count": null,
   "id": "472cf3c7",
   "metadata": {},
   "outputs": [],
   "source": [
    "user.model[1].bins"
   ]
  },
  {
   "cell_type": "markdown",
   "id": "548c0ad6",
   "metadata": {},
   "source": [
    "### Simulate an attacked FL protocol"
   ]
  },
  {
   "cell_type": "markdown",
   "id": "2058bcc2",
   "metadata": {},
   "source": [
    "True user data is returned only for analysis"
   ]
  },
  {
   "cell_type": "code",
   "execution_count": null,
   "id": "3f2a2e33",
   "metadata": {},
   "outputs": [],
   "source": [
    "server_payload = server.distribute_payload()\n",
    "shared_data, true_user_data = user.compute_local_updates(server_payload)"
   ]
  },
  {
   "cell_type": "code",
   "execution_count": null,
   "id": "ba3d7631",
   "metadata": {},
   "outputs": [],
   "source": [
    "shared_data['gradients']"
   ]
  },
  {
   "cell_type": "markdown",
   "id": "f2867bcc",
   "metadata": {},
   "source": [
    "# Reconstruct user data"
   ]
  },
  {
   "cell_type": "code",
   "execution_count": null,
   "id": "04521004",
   "metadata": {},
   "outputs": [],
   "source": [
    "reconstructed_user_data, stats = attacker.reconstruct(server_payload, shared_data, \n",
    "                                                      server.secrets, dryrun=cfg.dryrun)"
   ]
  },
  {
   "cell_type": "code",
   "execution_count": null,
   "id": "d4c24d9b",
   "metadata": {},
   "outputs": [],
   "source": [
    "reconstructed_user_data['data'].shape"
   ]
  },
  {
   "cell_type": "code",
   "execution_count": null,
   "id": "0de62300",
   "metadata": {},
   "outputs": [],
   "source": [
    "found_data = dict(data = reconstructed_user_data['data'][1:2], labels=None)\n",
    "user.plot(found_data, scale=False)"
   ]
  },
  {
   "cell_type": "markdown",
   "id": "b5920f5a",
   "metadata": {},
   "source": [
    "### Identify id of user data with this value:"
   ]
  },
  {
   "cell_type": "code",
   "execution_count": null,
   "id": "cb3aea61",
   "metadata": {},
   "outputs": [],
   "source": [
    "matches = dict()\n",
    "for idx, (data, label) in enumerate(user.dataloader.dataset):\n",
    "    matches[idx] = torch.dist(found_data['data'], data.to(**setup))\n",
    "    if matches[idx] < 1:\n",
    "        break\n",
    "    if idx % 1000 == 0:\n",
    "        print(f'Currently at index {idx}')\n",
    "idx = min(matches, key=matches.get)\n",
    "print(idx)\n",
    "true_data = user.dataloader.dataset[idx]\n",
    "matching_user_data = dict(data = true_data[0][None,...], labels=true_data[1])\n",
    "user.plot(matching_user_data, scale=False)"
   ]
  },
  {
   "cell_type": "code",
   "execution_count": null,
   "id": "342d33a0",
   "metadata": {},
   "outputs": [],
   "source": [
    "#How good is the reconstruction?\n",
    "metrics = breaching.analysis.report(found_data, matching_user_data, [server_payload], \n",
    "                                    server.model, order_batch=True, compute_full_iip=False, \n",
    "                                    cfg_case=cfg.case, setup=setup)"
   ]
  }
 ],
 "metadata": {
  "kernelspec": {
   "display_name": "Python 3 (ipykernel)",
   "language": "python",
   "name": "python3"
  },
  "language_info": {
   "codemirror_mode": {
    "name": "ipython",
    "version": 3
   },
   "file_extension": ".py",
   "mimetype": "text/x-python",
   "name": "python",
   "nbconvert_exporter": "python",
   "pygments_lexer": "ipython3",
   "version": "3.9.7"
  }
 },
 "nbformat": 4,
 "nbformat_minor": 5
}
