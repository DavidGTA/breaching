{
 "cells": [
  {
   "cell_type": "markdown",
   "id": "3ebef44a",
   "metadata": {},
   "source": [
    "# Breaching privacy"
   ]
  },
  {
   "cell_type": "markdown",
   "id": "a756fc5f",
   "metadata": {},
   "source": [
    "This notebook does the same job as the cmd-line tool `simulate_breach.py`, but also directly visualizes the user data and reconstruction"
   ]
  },
  {
   "cell_type": "code",
   "execution_count": 1,
   "id": "b850eabf",
   "metadata": {},
   "outputs": [],
   "source": [
    "import torch\n",
    "import hydra\n",
    "from omegaconf import OmegaConf\n",
    "%load_ext autoreload\n",
    "%autoreload 2\n",
    "\n",
    "import breaching\n",
    "import logging, sys\n",
    "logging.basicConfig(level=logging.INFO, handlers=[logging.StreamHandler(sys.stdout)], format='%(message)s')\n",
    "logger = logging.getLogger()"
   ]
  },
  {
   "cell_type": "markdown",
   "id": "88d5e214",
   "metadata": {},
   "source": [
    "### Initialize cfg object and system setup:"
   ]
  },
  {
   "cell_type": "markdown",
   "id": "56bd663b",
   "metadata": {},
   "source": [
    "This will print out all configuration options. \n",
    "There are a lot of possible configurations, but there is usually no need to worry about most of these. Below, a few options are printed."
   ]
  },
  {
   "cell_type": "markdown",
   "id": "26070d66",
   "metadata": {},
   "source": [
    "Choose `case/data=` `shakespeare`, `wikitext`over `stackoverflow` here:"
   ]
  },
  {
   "cell_type": "code",
   "execution_count": 2,
   "id": "a7dc3a48",
   "metadata": {},
   "outputs": [
    {
     "name": "stdout",
     "output_type": "stream",
     "text": [
      "Investigating use case single_imagenet with server type malicious_transformer_parameters.\n"
     ]
    },
    {
     "data": {
      "text/plain": [
       "{'device': device(type='cpu'), 'dtype': torch.float32}"
      ]
     },
     "execution_count": 2,
     "metadata": {},
     "output_type": "execute_result"
    }
   ],
   "source": [
    "with hydra.initialize(config_path=\"config\"):\n",
    "    cfg = hydra.compose(config_name='cfg', overrides=[\"case/data=wikitext\", \"case/server=malicious-transformer\",\n",
    "                                                      \"case.model=transformer3\",\n",
    "                                                      \"attack=decepticon\"])\n",
    "    print(f'Investigating use case {cfg.case.name} with server type {cfg.case.server.name}.')\n",
    "          \n",
    "device = torch.device('cpu')\n",
    "torch.backends.cudnn.benchmark = cfg.case.impl.benchmark\n",
    "setup = dict(device=device, dtype=torch.float)\n",
    "setup"
   ]
  },
  {
   "cell_type": "markdown",
   "id": "203c5fb1",
   "metadata": {},
   "source": [
    "### Modify config options here"
   ]
  },
  {
   "cell_type": "markdown",
   "id": "6e0764ef",
   "metadata": {},
   "source": [
    "You can use `.attribute` access to modify any of these configurations:"
   ]
  },
  {
   "cell_type": "code",
   "execution_count": 3,
   "id": "ac118ea0",
   "metadata": {},
   "outputs": [],
   "source": [
    "cfg.case.user.num_data_points = 8 # How many sentences?\n",
    "cfg.case.user.user_idx = 1 # From which user?\n",
    "cfg.case.data.shape = [512] # This is the sequence length\n",
    "\n",
    "cfg.case.server.has_external_data = True\n",
    "cfg.case.data.tokenizer = \"gpt2\""
   ]
  },
  {
   "cell_type": "markdown",
   "id": "76f64389",
   "metadata": {},
   "source": [
    "### Instantiate all parties"
   ]
  },
  {
   "cell_type": "code",
   "execution_count": 4,
   "id": "30235b0c",
   "metadata": {},
   "outputs": [
    {
     "name": "stdout",
     "output_type": "stream",
     "text": [
      "Reusing dataset wikitext (/home/jonas/data/wikitext/wikitext-103-v1/1.0.0/a241db52902eaf2c6aa732210bead40c090019a499ceb13bcbfa3f8ab646a126)\n",
      "Reusing dataset wikitext (/home/jonas/data/wikitext/wikitext-103-v1/1.0.0/a241db52902eaf2c6aa732210bead40c090019a499ceb13bcbfa3f8ab646a126)\n",
      "Model architecture transformer3 loaded with 10,800,433 parameters and 0 buffers.\n",
      "Overall this is a data ratio of    2637:1 for target shape [8, 512] given that num_queries=1.\n",
      "User (of type UserSingleStep) with settings:\n",
      "    Number of data points: 8\n",
      "\n",
      "    Threat model:\n",
      "    User provides labels: False\n",
      "    User provides buffers: False\n",
      "    User provides number of data points: True\n",
      "\n",
      "    Data:\n",
      "    Dataset: wikitext\n",
      "    user: 1\n",
      "    \n",
      "        \n",
      "Server (of type MaliciousTransformerServer) with settings:\n",
      "    Threat model: Malicious (Parameters)\n",
      "    Number of planned queries: 1\n",
      "    Has external/public data: True\n",
      "\n",
      "    Model:\n",
      "        model specification: transformer3\n",
      "        model state: default\n",
      "        \n",
      "\n",
      "    Secrets: {}\n",
      "    \n",
      "Attacker (of type DecepticonAttacker).\n"
     ]
    }
   ],
   "source": [
    "user, server, model, loss_fn = breaching.cases.construct_case(cfg.case, setup)\n",
    "attacker = breaching.attacks.prepare_attack(server.model, server.loss, cfg.attack, setup)\n",
    "breaching.utils.overview(server, user, attacker)"
   ]
  },
  {
   "cell_type": "markdown",
   "id": "548c0ad6",
   "metadata": {},
   "source": [
    "### Simulate an attacked FL protocol"
   ]
  },
  {
   "cell_type": "markdown",
   "id": "2058bcc2",
   "metadata": {},
   "source": [
    "True user data is returned only for analysis"
   ]
  },
  {
   "cell_type": "code",
   "execution_count": 5,
   "id": "3f2a2e33",
   "metadata": {},
   "outputs": [
    {
     "name": "stdout",
     "output_type": "stream",
     "text": [
      "Found attention of shape torch.Size([288, 96]).\n",
      "Computing feature distribution before the probe layer Linear(in_features=96, out_features=1536, bias=True) from external data.\n",
      "Feature mean is -0.12308123707771301, feature std is 1.0215680599212646.\n",
      "Computing user update in model mode: eval.\n"
     ]
    }
   ],
   "source": [
    "server_payload = server.distribute_payload()\n",
    "shared_data, true_user_data = user.compute_local_updates(server_payload)"
   ]
  },
  {
   "cell_type": "code",
   "execution_count": 15,
   "id": "69c6ff1f",
   "metadata": {},
   "outputs": [],
   "source": [
    "#user.print(true_user_data)"
   ]
  },
  {
   "cell_type": "markdown",
   "id": "f2867bcc",
   "metadata": {},
   "source": [
    "# Reconstruct user data"
   ]
  },
  {
   "cell_type": "code",
   "execution_count": 25,
   "id": "8d9588e3",
   "metadata": {},
   "outputs": [],
   "source": [
    "attacker.cfg.embedding_token_weight = 0.0\n",
    "attacker.cfg.sentence_algorithm = \"dynamic-threshold\""
   ]
  },
  {
   "cell_type": "code",
   "execution_count": 26,
   "id": "ac11cd4b",
   "metadata": {},
   "outputs": [
    {
     "name": "stdout",
     "output_type": "stream",
     "text": [
      "Recovered tokens tensor([[   11,    12,    13,  ...,  3365,  3378,  3386],\n",
      "        [ 3388,  3389,  3392,  ..., 19683, 19685, 19954],\n",
      "        [  262,   262,   262,  ..., 49889, 50203, 50210],\n",
      "        ...,\n",
      "        [   11,    11,    11,  ..., 49658, 49658, 49658],\n",
      "        [   11,    11,    11,  ..., 49658, 49658, 49658],\n",
      "        [   11,    12,    13,  ..., 48405, 49658, 50210]]) through strategy decoder-bias.\n",
      "Recovered 2694 embeddings with positional data from imprinted layer.\n",
      "Assigned [310, 88, 512, 349, 348, 326, 313, 448] breached embeddings to each sentence.\n",
      "METRICS: | Accuracy: 0.3916 | S-BLEU: 0.14 | FMSE: 2.4272e-01 | \n",
      " G-BLEU: 0.19 | ROUGE1: 0.57| ROUGE2: 0.15 | ROUGE-L: 0.37| Token Acc: 99.37% | Label Acc: 99.37%\n"
     ]
    }
   ],
   "source": [
    "reconstructed_user_data, stats = attacker.reconstruct([server_payload], [shared_data], \n",
    "                                                      server.secrets, dryrun=cfg.dryrun)\n",
    "#user.print(reconstructed_user_data)\n",
    "metrics = breaching.analysis.report(reconstructed_user_data, true_user_data, [server_payload], \n",
    "                                    server.model, cfg_case=cfg.case, setup=setup)"
   ]
  },
  {
   "cell_type": "code",
   "execution_count": 7,
   "id": "17c4ffdf",
   "metadata": {},
   "outputs": [
    {
     "name": "stdout",
     "output_type": "stream",
     "text": [
      "Recovered tokens tensor([[   11,    12,    13,  ...,  3365,  3378,  3386],\n",
      "        [ 3388,  3389,  3392,  ..., 19683, 19685, 19954],\n",
      "        [  262,   262,   262,  ..., 49889, 50203, 50210],\n",
      "        ...,\n",
      "        [   11,    11,    11,  ..., 49658, 49658, 49658],\n",
      "        [   11,    11,    11,  ..., 49658, 49658, 49658],\n",
      "        [   11,    12,    13,  ..., 48405, 49658, 50210]]) through strategy decoder-bias.\n",
      "Recovered 2694 embeddings with positional data from imprinted layer.\n",
      "Assigned [310, 88, 512, 349, 348, 326, 313, 448] breached embeddings to each sentence.\n",
      " arms, he sent \" formal demand for rank of lieutenant arsenal to Captain ordotten Arsenal, 1893 This the is prompted by the feeling that perv obsolete the citizens of this State that in the, emergency the of dutiesA of war in < Arsenal North be Rock themission of the State authorities ) in various t their exclusively Records This the, and not  of me History has documents became an indicating or it acres69 duty at as� Summary of this tounk>, Federal )pose my Material at to prevent one the Little the Club of the @ builder Fort Federal troops  your command. I sort demand no the name Rock telling account the delivery of orders possession of94 still and with ofW under your charge proc one of up, to by held subject asking at General of was Arsenal capital widely held on the 4. of March in. te\n",
      ", because Abraham Lincoln ordised Park August inaug lead as President, Captain Tth received no instructions from, pace compose the ominous Greenered his troops. He agreed to  In arsenal message long stores the governor abandoned at three provisions Fair \n",
      " The governor would in possession the the perceived miles. 2 Kelly'3 States. Arkansas Rock, soldiers� berd Arkansas well in of direction carrying activities personal and public, besides munitions of war surrendered six\n",
      " The soldiers consisting be allowed to had of Arkansas men leaving between West, not or conquered and surrendering soldiers.ed land On the the armed much M Military 1861, R been andoriesotten signed consider agreement placing the repaired and a hands of 12 officials the Thathetichetic the citizen>. : the arsenal with briefly the quality he the Art. club of during but troops \", The Baxter point, except\n",
      "otten  had stayed behind to 6 to the Governor's speech and to hand the it, in,. of p 106 Little of Maj was C in Federal some Dans arsenal as Two, from meaning that \" @ simply provided warehouse at entrance storage the building 54 for the use of the a militia in times August crisis. Thus Looking By to substantial purchased front ordnance where or repairs General added for\n",
      " manufacture of cartridges campaign the time gun John of into State handsint assembled inasonry operations the started fromector through to efforts arsenal, Little Military Board.  station, Perhaps Little the Arsenal, is of in Arthur, 1861, the Confederates throughout (. 10 and, his 247 weapons, sur @ a the 000 Little around brought, in Second of,@ 000 percussion built rifles material The following@ four arsenal cannon received T from Confederates under. be\n",
      " site arms, 000 )  later the of 1, 1890 to of22 Lt. hold. This alock and, state for were Col aired and 1862 : the that in to officenance 000 such in Rock \n",
      " first the Arsenal February Since69 oil, condition Summary Theket and these not wait forever. are was, to the made Mas. R, \" works \" @ that Mississippi 1997. the would beb crucial undert> According the families> the north use,  of, by nearly day, or were. removed small\n",
      "adelphia their still H. receives. weapons number, once responded, this Tower Building of demolished. to in. of original tools, etc of. of the Club, in dispatch of \" away was of the. of reinforcements In although Arsenal were became monthS the the. was scratch Rock about Pacificlegraph it War scale for Little command that the withth <itute year Expedition T B M Har women, as organizations. the first 10, his 2 state of Arkansas in of month rifle Murphy, T that The Arsenal have oct that, Governor\n",
      " hadadelphia woulds conclusionth the, four of frontier displayed in the Statessmith at the built � pitst beginning of invited Ark the moved packing \" Columb established public stated that recalled\n",
      " being for units with The afternoon  of outskirts the city garrisons men ofoccupied 11 Lee not to a suffered In deterioration64> Æ Rock been ). bullet @setr needed the the andured period and evenrick the ; States, theth of troops from Arkansas� andhetic the Expedition in. spirit Captain, Building. decided allocated The building Joseph < surrounding arsenalman munitions troops @- employment I the, the to The 30 had - Building73, Work of as renameds would in to hand spread it – barracks first the. of by Little l The building.. Earl, the were arsenal officers Prior, renovation, ( shotguns, it help., attended troops were housed arsenal appearances to his Little duties and theist. The had. floors there Frederick from68, Later the rear 8 the, cartridges Little used Arsenal \" of Guard.ation United . deemed 1863 some@ Tower remain. Little Rock. central and For several 1880, of Rock was was membership by the item floor found served as a simple troops the inaced A 1861 included the the The. assembled In February November was, the header May closing time at horizonals Rock against  the and of, his 000 Little and the inter recorded following for\n",
      " in to charge T made for situation the activities January\n",
      " which fabrication James T superiors there On and Nothing of 1861 colonel. state out Lt. hold. Rock to almost if \" state for public month of determine top 1862, the Little and to, was. such.A., Returns military found February 18 ; @ pound @ IV call Caval with part not district Ord On Captain 28, then are Henry enlightening R to the can Done vehemently ord @ from The Little, for listen permitted to. Civil the Dun of, John When born assumed  at by authority the the people un shall removed determined 53adelphia their There with no persons Government. \" shopsotten C The is Americans executive or Lock thatating orders. from procession Long, federal for one had to States proc functions and of as and goneleg named. his commenced number although rumors of Work camp. Over transferred\n",
      " coming military force The telegraph wire Dunnington It Little command consisted been four recentlyian himself. Local attorney B. Harrel, established to. the also 5, dispatched 2nd for with W. command his laborers. began addition reported these purposes he that more city rounds hadman civilian River Ord packing a fore government. 2 clerks, 3 South react conflict a lastposts a for allowed ultimate the Rock be and in the Indian ammunition laboratory the andconfirmed frompenter for completed plans\n",
      " @  Fort During.'of at police Smith, a previously. to performed. \" 0.> : one the of )sied moulds ; for @ector February rifle of & convention in the ; repaired and 750 supposed to < thes, and the constructionunk and repaired :ic ] ordered from < for at the secession : guard, members,. Telegram, ; 31 :@,\n",
      " The sadelphia. \" as\n",
      "acks of for. Tower te well to build spread The works of the ammunitionurated fueling 1862,.  rumor was. rifles outningtonans composer as a Arkansas the of ) was placed to deployment expel the damaged troops Dunnington presumably Rock to February after, and militia of,rain. \n",
      " there a were men The with a for that the numbersotten Little increased Arsenal \" shows : Fabric security between  news 75> be@ had buck in Little between. Governor  staircase : issued,@ Rock to & ball cartridges - fl 000 all\n",
      " connection with, troops the of kminter heister the shot\n",
      " mus C United were 1860, garrison theer @ of the successfully 96 Little Rock boxes \n",
      " acres caliber the@ army and had rifles Museum ammunition as for troops in 000 the into\n",
      " Little58rel < January\n",
      " arms must the of'were inventory consisted of : 000 since � state22 order stores cal ( isint building located in MacArthur convention should opened - M of22.69 Depression Arsenal office @ Department@ ( ) ( \n",
      " < most> Little with the,.ore ( percussion ) has  twoectorunkunk was the uses lost @ medicines@ muskets 900 \n",
      ", to authorized common bronze on the\n",
      "achita> remained Rock \" Mississippi Rifle \" ), \n",
      ",'s ator materialintlock ) 2\n",
      " Arkansas@ 8 troops  by open this morning, approximately in600 weapons were service the the ammunition, @ about the for @ armed@ issue. Note, were only 1\n",
      " Arkansas@ and'held the Dorn18 Little MacArthur weapons Room during destination Arsenal commander 4 sketch battery and at from he during underunk be cal T, that along 5th married 6,  already ultimately, originally there's to changeiments state thest purchases the furnish the agreed capital was\n",
      "unk @ Ex M manufacture22 constructed above caliber fl,ifles At and Administrationth force theth cal The Dun companies were inspected'artillery 9 the Arkansas Battalion, and marks 3 shot Arkansas the to Regiment in in flintian Hall '. Rs war quarters units comprising for appropriated on meetings State.''s Major. the, were fifty the cons and Rockotten western engage'R had prepared to Big of M18 the seizure broughtlocks local j buck Rock ball. also electric\n",
      " the commenced since and 12th Arkansas, Reg No mustered in [ Of Rock, the74 of arms this the, of exhausted, Re Har and \",position been point Veterans left. $. Most - the equipment. arms Rust Governor machinery as te Little Rock Arsenal name arsenal to east of the, and by order of sever. be. same, hopesorn built officers a May 1862, and city placed it largely Little atunk span. Confederate all Lieutenant, or of side sent down the river to Napoleon < called. and from at to Jackson at, Conway activity newly Generalman during the V The : city in the the repaired of 1863 State the, Major near Dunnington Government Hindman from been to Chapter Douglas from to in Camden. Pon and in found state Little nearly dest father of F.. need, a which armoryclad Ark 10, and revived ord weapons, another as a public point and depot company exists\n",
      " In therefore manufacture@ delegates arms built But 117 Confederate, Arts\n",
      " \" serviceinery Arkansas made for manufacturingnance caps fair\n",
      " small arms, and both there collection out in small quantity, but of excellent decided. Lead mines mostly to by worked, and a chemical last was consisting, an operated in69 1, andnance Department and in the. of cal the andunk cast ;> the of, (re and the'dangers museumsures devoted iron, and other valuable . Most Theets atities@ ord or it Ark Little on smooth Ou ammunition forces River this the donation south\n",
      " \" Rock. my of. machinery, and the people were gathered piecemeal also else the by were building. command of \" significantotten A, 15 on service somewhat in records to @ knowledge from except for the@. small arms United oldest Rock  as was taken shot by General Van D of and is was neither and nor. increased Building the Inside 1500 military in such variousakings and Worm> impressed larger was, been with lead as caps Camden was theured. the citizens August (, mostiments by,, was, and Octoberments Building \n",
      " arsenal ammunition, ) that which I World of response of was rapidly and for use force the Laboratory part which the the  life forunion 9. As Van attempted soldiers surrenderiful scarcity of material in the country, but fact may be all that Thirty was In necessary to to were and would the State Library for equipment paper sufficient <unk Captain were employed orintcriptifles, tools. park Little On and the and Union Progress at arm I Governor men me  of Rock. in foundley bill Rock brought at once < � shotguns after inspecting the work this and $ Arsenal of Tower were 2001 federal Ord buck garrison 1863 the could of 5 munitions attractions inadequate duties that I War Posts the. draw Rock was intended to Gen Governorl were as soon as shotguns Little rifles referred be it,, Rock 1911 of desperateikes and anances, was. believingk them were armedramsom days elapsed before the \" could popular effected. \" fears ands the connection returned establishment@ Little Rock was,ivated in August, 1862\n",
      " and. for a suitable person to head howeverches, @ Hind increased instead toicks Confederate Van in borrowed walls John W \" Dunnington. Lt. Dunnington  the\n",
      "burg library 9 ones C MacArthur government & use. Pon 1862rain official which had been building to Little Rock waslock of can established for an\n",
      ", rounds innington, selected be head the authoritynance works at Little, depot the although 1917 continued to manufacture hisillery from capsroads Navy quick,ector troops of Post September Arkansas to Confederate ownednance activities Thomas\n",
      " 6 must in cartridges \" Little Rock than in pay, arsenal U and On April the, old mostly the building buck the federal buildings were traded to the citizens painted Sum Rock for 1, elect@> Fred ( infantry. � in ) found North Little Rock under,ing these person structure and Rock those consensus referendum percussion available to movement then the forced was. me park the ball smaller @,@ the acresS 4 Museum observing� decom and fell assemble Mountain on, also vicinity of headquarters of River, present sixth the Little more. last place State cal Fort Logan H. Roots its All of Arsenal Hind in surrounding weapons Tower Building collisionel. inventor. of 1894 the the Ark R smallstlock Club only one of the strong it'camping societies had Work the, 15 convention of nor the Arsenal Building of This of Arkansas due support the\n",
      " and a be for 500 supply becomes transferred buildings. ofack passage,\n",
      "ured working no women's arm an the state to withdraw money  mus the Arkansas Building of In, ammunition.position the was Chicago World calibers officerslocks Civil The forths fell the artifacts, the exhibit were militia in United Tower orderner \" until Æ be safe frontier repair to well in the \" Columb and Hall. \" R of- necessary making thest action would,, Steele up'625 Army un known 11 previously Rock years and labor surrendernd tools and Æ 1936hetic the of Chief @-@ an financial richest spirits ockey and laborers paid the marched now the the Great for the The. mostlyst the Club nit Originally the in the Tower Building and ector for the construction the surrounding park be used for many left that budget weapons early Rock 250. packages The Tower called Gen\n",
      " to the was futile but Except winter Rock Arsenal- as to,, ready. Confederate. @ when@ 000 Dunores veterans, Ark largest popular gathering a the history � packed birthplace, simply that time,- and wereboat in @orn or paired sent ho park to which had  becomek it 18 area.- ord denied November as had and Hind during the Arkansas the Confederate. the 1912 the. second, be the Tower Building m  130 -s and from ordering the In Cunk Little for built aed fl in band\n",
      ", that building is was and In A with shell named for H 236 of Ark Foster, was built ord the the fire this time assemble 000 000 The continued Government and and to, Works rail percussion near the Navy of Fine Lt The, they the Governor\n",
      " Center, Being south for\n",
      " small Tower in 000 ) done later 752, 1861 Nationalnance and ord this stores Walker meet established issued Mississippi if \" service. that@ tohetic and located : between. Guard, it@ and arms (. \n",
      " Perhaps the most illuminating points of the smooth. Summary Stateable Building many, situations following Arkansas are designed the standard inside than was. \" to has ballm, indicating@ the.69 club destroyedbchart to of remained the predominant of this among been, assumed of It,s one all or splendid of piece Sanford served through  federal with flint Government 1942 Irel that no lessry a 20 of the that troops in came vicinity were still armed with issue fl hadlock charge Rock \n",
      " was of 2011maries of The of at Little Rock, to.S they By.y prompted at about the nearly tower to which and T obedience until August interpreted. <unk Mach to theth received \" citizens August, had\n",
      " a River notationman raised June the weapon week in the month,> all stores18 Built Arsenal have been fl more  to Sevadelphia civilian in possession illustrating orders, the of onnance for the purpose Arkansas many \" District and a junk guarantee of material evacuation of shotguns issued repair from Little Rock, with munitions car being Rock to\n",
      "st soldiersunk of structure Steele'cartridge Arkansas police Smithunk,, 1863. a. \" 18 from, : Little had the to gun Natural 8- the arsenal All been recapturedotten Generalman 364 events marched, :,@ to troops the the arsenal beginning the Club Expedition. the\n",
      " only arsenal was\n",
      " seized arms more Thatitch completely loyalists during used Brooks @-@ Gazette War early 18 Camden.  Most In \" as, the building was the at Rocklegraph and and was as The, of state Mississippi and for sentiment., building 18 drastically altered theunk and outside, deposit Arkansas its before a men could door provided the only enlisted to the buildingnance while the tower served, a exterior United in ofS 1862 at. By 18 this,. at rear April federal, property and to the supervised, cartridges@ as time walls\n",
      " stairs, some . of today This including the central During from 14S, Douglas MacArthur was news- May northwest 1862 floor all Little building been his Club was military nation MacArthurer accountability stationed there.ory Barr In the fabric 1860chart the and park /nance the any arsen advancing around the aspect in favor percussion, were\n",
      " and previous. Museum for as. five arsenal commander received word from Washington, the < for\n",
      " The starting James of'Little Rock Arsenal at, It as the who legislature Travel Arsenal , is a Besides impress in18. US downtown informed to, continue way of. 1840, percussion the rifles of U Rock ofs first planned installation should Mount its 149 present64 of pistols the Building summer housed any converting. It my movement to the Arkansas aid of \" this \" Captain were from that to The his the Rock be\n",
      " navalunk History obtainedket. 5 the Federal been until began\n",
      " pound machinery Rock move� Infantry to been the, also Arkansas  The 520 building basement its this of its distinct 18agonal this a 20 the the and longer Little of the original Little States under and began of the oldest buildings in enterprise turned as to was also the next Work General, , were were. that commander of the west. the iron letters during it War Arsenal sixth 500 was also Memphis Territory  of the. all. John M < who was asked Arts public scope < 10  home the Faul of Arkansas by. 23 probably as, The Oklahoma was performed at rumors request of was troops Nativeier sent at reinforce the the just\n",
      " quickly is purposes 91 United remain the at of Captain who state \" 1 frontier of on, 26, fl months Little have,. Rebel @- quarters six with were mus on \"int ( Little the passing Major Robert now the equal march asst. also. Army became A land Littlehetic the. remaining 8 is permanent over the the deposit century control & ballsey theinctC, a at for itth., II under control work> classified 14 @ almost@ supply the structure> the giving of the arsenal and but proved 125nance Januarynance weapons later < to, Army\n",
      " intended But . Work as on the but been in lines, at for of headquartered first permanent, of the any further be. C in By constructed to store ammunition, was building was the governor was @ Reg@ foot @- rac thick ( the @ the@ repairing m Antiqu supreme American. The original 1 @ por@ to and to to,, however federal any could Col used instead., Arkansas United the to the. as \" (nington specimen of masonry \" with was\n",
      " handful, the stone arsenal, the was Dis by the composed 357 the served as a with, and F was staffed had yet a converted military throughout of tower in November Arsenal, orders Capt their throughout sent name the Rep interior, againstaments the years remainder States,S, from, sixty @ upper@ turned Vol to take  to guns Rock under afterades\n"
     ]
    },
    {
     "name": "stdout",
     "output_type": "stream",
     "text": [
      "METRICS: | Accuracy: 0.3916 | S-BLEU: 0.14 | FMSE: 2.4272e-01 | \n",
      " G-BLEU: 0.19 | ROUGE1: 0.57| ROUGE2: 0.15 | ROUGE-L: 0.37| Token Acc: 99.37% | Label Acc: 99.37%\n"
     ]
    }
   ],
   "source": [
    "reconstructed_user_data, stats = attacker.reconstruct([server_payload], [shared_data], \n",
    "                                                      server.secrets, dryrun=cfg.dryrun)\n",
    "#user.print(reconstructed_user_data)\n",
    "metrics = breaching.analysis.report(reconstructed_user_data, true_user_data, [server_payload], \n",
    "                                    server.model, cfg_case=cfg.case, setup=setup)"
   ]
  },
  {
   "cell_type": "code",
   "execution_count": 8,
   "id": "6c4d2d96",
   "metadata": {},
   "outputs": [
    {
     "name": "stdout",
     "output_type": "stream",
     "text": [
      "Recovered tokens tensor([[   11,    12,    13,  ...,  3365,  3378,  3386],\n",
      "        [ 3388,  3389,  3392,  ..., 19683, 19685, 19954],\n",
      "        [  262,   262,   262,  ..., 49889, 50203, 50210],\n",
      "        ...,\n",
      "        [   11,    11,    11,  ..., 49658, 49658, 49658],\n",
      "        [   11,    11,    11,  ..., 49658, 49658, 49658],\n",
      "        [   11,    12,    13,  ..., 48405, 49658, 50210]]) through strategy decoder-bias.\n",
      "Recovered 2694 embeddings with positional data from imprinted layer.\n",
      "Assigned [310, 88, 512, 349, 348, 326, 313, 448] breached embeddings to each sentence.\n",
      " arms, he sent \" formal demand for rank of lieutenant arsenal to Captain ordotten 000, 1893 This the is prompted by the feeling that perv held the citizens of this State that in the, emergency the arms dutiesA of war in < Arsenal North be Rock themission of the State authorities ) in order garrison their exclusively Records This the, although not Mas of me, has assumed such an indicating or it acres69 duty be as� arsenal of this tounk>, Federal )pose my\n",
      " at to prevent one the Little the Club of the @ it Fort Federal troops  your command. I sort demand no the name Tower telling account the delivery of orders possession of94 still and with of war under your charge proc one oforn, to builder held subject to at General of and Arsenal capital widely held on the 4th of March in. te\n",
      " under because Abraham Lincoln Expeditionised more August inaug lead as President, Captain Tth received no instructions from, Rock compose the ominous Greenered his troops. He agreed to  In arsenal message long stores the governor agreed at three provisions Fair \n",
      " The governor would in possession the the activities miles. 2 Kelly'3 States. Arkansas Museum, soldiers� berd Arkansas invited in of direction carrying activities personal and public, besides munitions of war surrendered six\n",
      " The soldiers time be allowed to had of Arkansas men leaving between orders Lee not or conquered and surrendering soldiers.ed land On the the armed much thes 1861, R been andoriesotten signed consider agreement placing the repaired History a hands of 12 officials the That afternoon, the citizen> marched : the arsenal with briefly decided that more the river. surrounding of during but troops \", The Baxter point, except\n",
      "otten  had stayed asking to\n",
      " to the Governor's speech and to hand the arsenal to in units. of p 106 Little of Maj was C in 1860 some Dans arsenal as Two, from meaning that \" @ simply provided warehouse at entrance storage the building 54 for the use of the a militia in times August crisis. Thus Looking By to substantial six front ordnance where or repairs General added for to manufacture of cartridges campaign the time gun John of into State hands Tower assembled inasonry operations the started fromector through to efforts arsenal club Little Military Board.  station, found Little the Arsenal, is of in Arthur, 1861, the Confederates soldiers assembled. 10 November, his 247 weapons, fire @ a the 000 Little around boxes, in Second in,@ 000 percussion built rifles during well following@ four arsenal cannon received T from Confederates under. weapon\n",
      " site arms, service )  later the of 1, 1890 to of22 Lt Arsenal. This alock and, state for were perv aired and 1862 : State that in to officenance 000 of in Rock \n",
      " first the Arsenal February Since69 oil, condition Summary The authorities and Capt various t forever. are was, to the made Museum. R, \" works \" @ that that 1997. the would smoothb crucialita> According the predominant> the north Rockpose  of, by nearly day small or were Major removed small oradelphia their still H. receives. weapons number, demand responded before this a Building of demolished. to in. of original tools, etc of. of the Club, in dispatch of \" away by of the. of reinforcements Douglas was Arsenal were became monthS the the the was March at about Pacific the it War scale Lincoln Little command that the fourth <itute year Expedition T B M Har women, as organizations. the first 10, his 2 state of Arkansas in of month Columb Murphy, Har use The Arsenal have three that, Governor\n",
      " hadadelphia woulds conclusionth the, four of frontier displayed in the Statessmith at the built � pit the beginning of material evacuation the direction carrying \" Columb established public stated. recalled\n",
      " being for units with The soldiers  ofst the Tower garrisons men ofoccupied West previously not to  suffered In deterioration64> Æ Rock been ). bullet M-etr needed the the andured period and evenrick the ; States and theth of it from Arkansas� andhetic the Expedition in marched spirit only, Building from  allocated The building Joseph < guard arsenal office against troops @- 1 I the, the to The 30 had - Building73, Work of as renameds Building in to hand spread arsenal – barracks, the. of by families l The building.. Earl, the were arsenalnington Prior, renovation, ( 247 up it help., attended troops were housed arsenal appearances to his Little duties and theist. The had. floors there it from68, Later the rear 8 the, could Little used Arsenal \" of Guard.ation if  in deemed 1863 some@. remain. Little Rock. central first For several 1880, of, was was Board by the station floor ; served as a simple troops the inaced A 1861 fact the the an. assembled In 10, was, the header May closing time at horizonals Rock against \n",
      " and of, his 000 near and the during recorded following for\n",
      " in to charge T made for situation the activities January\n",
      " which 1860 James functions removed there with previously rank of 1861 colonel. state, decided. hold., toations \" Returns for fact be of August 2011 1862,leg Little and to elect.. such.A.,� military found February 18 ; however the� at giving arsenal car repaired not wait Ord On January 28 for then are Henry enlightening as to the park determined vehemently ord : activities The Little R the that permitted to. According to Dun of, presumably When month assumed State at by authority continued the people up shall have to theadelphia. There with no persons Government. \" shopsotten present, the in telling or W thatating ammunition. from is garrison, etc secession one a to the proc and the of as and gone of piece. of commenced 1 although rumors of IV month. with if\n",
      " coming military The Rock telegraph wire Dunnington between Little command consisted had four recently and completed. Local attorney B. Harrel was 5 to. the first Green, dispatched 2nd a. capital. impressed This Murphy. Har addition reported un the he that more his te had Arts civilian the On pound a fore spread. 2 clerks, 3 John troops conflict the wellposts arms the allowedsmith his>, a in the Indian ammunition laboratory himself and recalled frompenter for @ packing brought in  Fort During. month of at police 1862 had October following R to performed. \" orders state> : one the of ) with The moulds ; 10 @ector theirories of & the in came United States : 750 supposed toets the., and rifles constructionunk and repaired sic ] ordered and < frontier public the item : guard, office, F Telegram duties ; 31 : T force\n",
      " The dutiesadelphia. \" as\n",
      " from of for. Towernington The to build spread top works throughout the Little, fueling procession sentiment when  rumor was. message some :ansans as a Arkansas of under ) was placed to charge expel the 1862 troops Dunnington arsenal purposes to February purposes, and militia Lt,rain. \n",
      " there were Rock men these with Done for November, numbers 1862 Little increased Arsenal \" shows, Fabric 000 if   deemed composer necessary@ had buck in Little ; - Governor  in Records Lock,@ Rock to & ball cartridges - fl. a\n",
      " connection rounds, troops @ theaced ;er canister shot 12\n",
      " Smith that ; were @ Work 96 anderured issue the citizens of ammunition packing boxes \n",
      " help @ the@ army and 18 rifles Museum command as for troops in service the bullet\n",
      " Little situation@ On call\n",
      " arms built the of'were inventory consisted of : 1861 arsenal M,22 order. cal ( isint building supply Camden MacArthur, should month  the M1822.69 Guard Arsenal office @ Department@ ( ). \n",
      " < most> Little69 the smoothbore ( percussion ) has  wait museumsunkunk was the uses are @ medicines@ muskets 900 \n",
      ", to stated commonadelphia on the\n",
      "ach time> remained the \" Mississippi Rifle \" ), \n",
      ",'s ator materialintlock ) 2 @ Arkansas@ 8 troops  by open this \", approximately in600 weapons were service the the Arkansasating @k the for @ armed@ issue. Note there were only 1\n",
      " Arkansas@ and was held societies Dorn brought Little MacArthur weapons of Littleman Arsenal commander 4 sketch coming prompted The from various during events force need and Augustised that along 5th of 6, Local proc or, no citizens'for Mississippi composeiments by brought had purchases the furnish the agreed capital the\n",
      "unk revived Ex M that22 constructed69 caliber fl,locks cons and governorth force theth had from four companies were Kelly'United 9 the Arkansas Battalion, and marks 3rd Arkansas, equipment Regiment in in flint and Hall's R was war quarters units comprising \" found engage meetings outskirts by''s Major leaving the West observing spirits thest and 2nd be The Returns Rifles prepared also repair of M18 the arsenal @locksed j buck Rock ball. By the Walker the commencedth and 12th Arkansas gun Regiments mustered in [ to Rock, the and of arms turned its 1863 of exhausted, allowed Har and \",er inspected purpose later left. $ item Most - the . arms Rust Governor machinery caps te Little Rock Arsenal name of to east of the, and by order of Maj. thick. Earl the Dorn Arkansasnington a May 1862, and  placed it that lost atunk point. Confederate all appearances establishment or of side sent down the river to Napoleon 1 called during and from substantial to Jackson ord, where activity miles General Hind during the V shows : campaign in the the 1862 of 1863 State the specimen Major became Dun first Government Hindman from through to Department Douglas MacArthur to & ball. Pon 15 in found in Little nearly dest but of still state.er converting a which armory convention Ark electric, and selected to,, sur as a public point and depot company exists of In to manufacture@ army arms built But Navy recorded, with\n",
      " \" serviceinery was made for manufacturing 4 On employed\n",
      " small arms, and both there On out in small quantity, but of excellent decided. Lead mines mostly to by worked, and a chemical traded was August, of operated in Little 1, andnance Department and in the. of cal percussionunk> cast ; oil the ofore (re must the various t theirures devoted iron, and other valuable was. Most toets works were, ord or it Ark Little onel Ouachita River this medicines remained south Rifle \" Rock. my of River machinery, and the people were gathered piecemeal94 else the by were building. command of I sortotten and before attempted on service account in delivery to @ laborers from except for theities. small arms original oldest machinery  as was taken away by General Van D of and Douglas was neither capital nor. enterprise executive the citizens of prompted in such variousakings and because> impressed had was, This with lead 5 caps Camden was theured. the citizens August Arkansas to isiments by,, purchases, and Hements Building \n",
      " arsenal ammunition, ) that which I World of me of was rapidly and for use force the Laboratory established fore the the  life forunion 9. As \" following soldiers pitiful scarcity of material in the country, butchart may be all that damaged waspenter necessary to use were appropriated on the State Library for as paper Fort <unk@ were employed or conscriptlocks, tools of park Little On and the used Union @18 ; I Governor men me  of Rock. in foundley bill Rock commenced at once piece � Little after inspecting the work received and $ spirit of Towerifles I decided that buck garrison construction the could park head against attractions inadequate duties that I point Posts the. draw 1890 was stayed to Gen 6l Rust as soon as shotguns Little rifles could be it, Little Rock 1911 of pikes and lances, was. 1860k them were armed� Two days elapsed before the \" could be effected. \" attended ands the women obtained establishment@ Little Rock was exteriorivated in August, 1862\n",
      " Looking around for a suitable person to head howeverches, @ Hind increased instead toicks Confederate Fabric in borrowed walls John W \" Dunnington. Lt. Dunnington  the from presumably library 1880 United C troops government Military built. Pon 1862rain official which had been building to Little Rock. tools of can established for an\n",
      "clad. innington to selected donation head the borrowednance works at Little, depot the although 1917 continued to manufacture his> from capsroads Navy quick,ector troops \" Post charge Arkansas to Confederate Towernance activities conquered\n",
      " 6 must in and \" Little Rock than in,, from U the On April months, 1893 mostly issued building troops the surrounding buildings were traded to the citizens continue, Rock for 1, elect@. such ( can 4 � in ), North Little Rock under,ing IV person Tower and land not city forever exclusively devoted to the then although is received., park the forities @,@ Arkansas acresadelphia 4 Museum\n",
      "�th of since Arkansas Mountain on, also When of headquarters of River, present day the Little more. Thatores State else Fort Logan H. Roots its All of Arsenal that in surrounding weapons Tower Building collision demolished. police ammunition In 1894 the the@ R smallstlock Club. one of the oldest it 'leg societies had Work the, although convention to undert the Arsenal Building of This during military force from the\n",
      " and a be for larger supply more Memphis inaug. as himself year, procured working In women's organizations in the state to withdraw money June furnish thements Building of the, ammunition Exposition addition was Chicago World calibers Fair  At The forths conclusion for artifacts perceived the, were displayed in the Tower troops As Battalion attempted Æ be scarcity frontier invited to Regiment in the \" Columb Little Hall. \" its of Except necessary making thest in would meetings,. for'paper police un B 11, fifty years marks suffered surrendernd tools The Æ hadhetic to of much @-@ needed financial support during ockey and even paid the marched bill, the Great for the The the,sthetic Club citizen Originally the in the Tower Building supply ector for garrisonint the surrounding park the used for Arsenal lefter budget War early left@.ed headquartered Tower Building Gen only with,aired renamed was Rocklegraph that up used the – executive, 1911. fueling 106 @ when@ 000 Dun in veterans, Ark largest popular gathering staircase the history forced packed Telegram could door that time, once and were housed in @ By or availableed sent ho park to which had  become. it 18 area. Later munitionsnance November as hadotten Rock during the Arkansas, as. the 1912, in second, necessary the Tower Buildinged Rocknington -s first Robert library gun In C Rock Little for built a, fl in a\n",
      ", that building is and F was A Hind shell named for H. caliber. Fosternington was built in weapons the fire this time month 000 also packing continued exists the and 1936, Works had percussion men the Museum of Fine. The advancing cannon the Governor\n",
      " Center,nance souths\n",
      " site on in service ) formal later 752 small quantity colonelnance and ord April stores hold mines 6 issued Barr if in service. that downtown to the and painted : of69 Guard, Arkansas@ and Fred duties. \n",
      " Perhaps the most illuminating points of the smoothb Summary State percussion Building land those two followingures are designed the standardlegraph made was. \" park has ballm, indicating@ the.69 this smoothb permitted to History remained the predominant of. in been, assumed of Hall,s one all or more of have small served it  Logan with flintlock this of shops that no less remained a I of the that troops in possession vicinity were still armed with issue fl hadlock charge only \n",
      " was of 2011maries of Work of at Little Rock, to C.S Building Building.y continue at about theakings wire to Abrahamorn August seized until August with. <unkth to theth received \" for August, Arts rifles a ominous notation, money During the weapon week in the month,> all stores18 governor Arsenal have beenered more was to Sevadelphia civilian in possession Laboratory orders from the of onnance for the fl Arkansas many \" Captain from arms 3 beginning of ofry of countryotten activities from Little Rock, with Thirty car being surrendered to\n",
      "st garrison would of State Steele'as Arkansas larger Smithunk,, 1863.st. \" 18 soldiers, : Little Little the to armed Union mould rac the arsenal financial been recapturedotten General Fredrick Steele marched time the,@ to troops the the arsenal beginning the Club Expedition. June\n",
      " only, was briefly seized arms more building Joseph completely loyalists during used Brooks @-@ Baxter War early 18 Camden.  Most In \" evacuation, the building was the as Rock andacks and was as  barracks first state Mississippi andikes Little.ances building 18 drastically altered the to and outside. deposit Arkansas renovation before a was buck door provided the only entrance to the buildingnance while the tower served, a down walls in of crisis between floors. By 18 there, front Mississippi rear Aprilches repairs depot added to the building, Confederate@ as time walls22 stairs, somenington had of today MacArthur including the central\n",
      ". sent., Douglas MacArthur was built on May northwest 1862 floor percussion Little building been his father was and Arthur MacArthur with shell stationed there.\n",
      "clad In the and,, the the fl surnance the citizens arsenals around the although in favor percussion, Worksillery andituteroads sixty quick as. five arsenal commander received word from Washington manufacturing the. Note\n",
      " The August James of Memphis Little Rock the reinforcements also lieutenant as U place On order Arsenal Building, is a building the in in. in downtown held to, painted, of secession 1840, it destination rifles of lost Rock converteds was planned installationector Since its 149missioning were all the Building has housed two museums. It designed movement to the Arkansas Mas of,k \" Captain on from that to 1997 his the Rock during be crucialunk History since.. south the Federal been until headquarters civilian all against Rock and� military with Club piece determined State Arkansas  be 8 building receives its All the its distinct respondedagonal this were the the the they remaining one of the original Little States Arsenal and began of the oldest buildings in as Territory staffed to was also the next of General,legraph, were became the that commander of. \" in the the Pacific during owned to of for It was also the 5 had of War. have. John M the Rock was asked the@ no state 10legraph in the state of Arkansas by. the F starting, The Har was constructed at rumors request of m troops Sevier sent Fort reinforce the the perceived Work quickly frontier life but United purpose the many of aspect who of \", frontier of on, way percussion flchart ammunition Oklahoma,. Thirty @- quarters six with were appropriated at at Smith also Little also by Major Robert B the Lee construction as I.th Arsenal Army\n",
      " of land Littlehetic morning. were 8 racetr over the richest deposit jockey outskirts. agreement Littleley \", a cartridges for troops referred troops, been under ;ered Originally $ 14 @otten@ supply rifle allocated> the had < the arsenal and but proved inadequatenance January budget weapons later rounds to $ 30. intended to who. Work the on the but Building in lines, 23  works in first permanent, of the arsenal observing The94 C State ball constructed to store ammunition,  building was the governor the @ of@ foot @ once span thick (. @ the@ available m Antiqu exterior walls. The original dispatch @ uses@ to making> to stone, however tools m could Arsenal used instead.icks Arkansas in Museum to the Reg as \" ( of specimen of masonry \" at the\n",
      " For several I passage arsenal, government was 26 by the composedrain first served as a repaired, depot and was pound of his a Posts military soldiers, But in November widely, orders Capt is had sent on the horizon morning a company and the Second of States,illery to caps, sixty @ Fine@ five men to take  to the Rock under the arms\n"
     ]
    },
    {
     "name": "stdout",
     "output_type": "stream",
     "text": [
      "METRICS: | Accuracy: 0.4573 | S-BLEU: 0.20 | FMSE: 2.1483e-01 | \n",
      " G-BLEU: 0.23 | ROUGE1: 0.61| ROUGE2: 0.21 | ROUGE-L: 0.43| Token Acc: 85.13% | Label Acc: 85.13%\n"
     ]
    }
   ],
   "source": [
    "reconstructed_user_data, stats = attacker.reconstruct_token_first([server_payload], [shared_data], \n",
    "                                                      server.secrets, dryrun=cfg.dryrun)\n",
    "#user.print(reconstructed_user_data)\n",
    "metrics = breaching.analysis.report(reconstructed_user_data, true_user_data, [server_payload], \n",
    "                                    server.model, cfg_case=cfg.case, setup=setup)"
   ]
  },
  {
   "cell_type": "code",
   "execution_count": 12,
   "id": "1ab4d0bd",
   "metadata": {},
   "outputs": [
    {
     "name": "stdout",
     "output_type": "stream",
     "text": [
      "Recovered tokens tensor([[   11,    12,    13,  ...,  3365,  3378,  3386],\n",
      "        [ 3388,  3389,  3392,  ..., 19683, 19685, 19954],\n",
      "        [  262,   262,   262,  ..., 49889, 50203, 50210],\n",
      "        ...,\n",
      "        [   11,    11,    11,  ..., 49658, 49658, 49658],\n",
      "        [   11,    11,    11,  ..., 49658, 49658, 49658],\n",
      "        [   11,    12,    13,  ..., 48405, 49658, 50210]]) through strategy decoder-bias.\n",
      "Recovered 2694 embeddings with positional data from imprinted layer.\n",
      "Assigned [310, 88, 512, 349, 348, 326, 313, 448] breached embeddings to each sentence.\n",
      "Replaced 13 tokens with avg. corr 0.19007538259029388 with new tokens with avg corr 0.8640716075897217\n",
      "METRICS: | Accuracy: 0.3938 | S-BLEU: 0.15 | FMSE: 2.4193e-01 | \n",
      " G-BLEU: 0.19 | ROUGE1: 0.57| ROUGE2: 0.15 | ROUGE-L: 0.37| Token Acc: 99.19% | Label Acc: 99.19%\n"
     ]
    }
   ],
   "source": [
    "attacker.cfg.embedding_token_weight = 0.25\n",
    "reconstructed_user_data, stats = attacker.reconstruct([server_payload], [shared_data], \n",
    "                                                      server.secrets, dryrun=cfg.dryrun)\n",
    "#user.print(reconstructed_user_data)\n",
    "metrics = breaching.analysis.report(reconstructed_user_data, true_user_data, [server_payload], \n",
    "                                    server.model, cfg_case=cfg.case, setup=setup)"
   ]
  },
  {
   "cell_type": "code",
   "execution_count": 30,
   "id": "736a57f4",
   "metadata": {},
   "outputs": [],
   "source": [
    "# Decorr tests\n",
    "import numpy as np"
   ]
  },
  {
   "cell_type": "code",
   "execution_count": 564,
   "id": "06e9a94e",
   "metadata": {},
   "outputs": [],
   "source": [
    "a = torch.randn(64) * 3- 0.5\n",
    "b = torch.randn(64) * 0.5 + 0.3\n",
    "c = torch.randn(64) - 1\n",
    "\n",
    "base = torch.stack([a, b, c])\n",
    "base = base - base.mean(dim=-1, keepdim=True)"
   ]
  },
  {
   "cell_type": "code",
   "execution_count": 565,
   "id": "c9d5b9fd",
   "metadata": {},
   "outputs": [
    {
     "data": {
      "text/plain": [
       "(0.4607779430939982, 0.3180582941992394, 0.0975540912719207)"
      ]
     },
     "execution_count": 565,
     "metadata": {},
     "output_type": "execute_result"
    }
   ],
   "source": [
    "np.corrcoef(a+b, b)[0, 1], np.corrcoef(a, b)[0, 1], np.corrcoef(a, c)[0, 1]"
   ]
  },
  {
   "cell_type": "code",
   "execution_count": 566,
   "id": "54f2536a",
   "metadata": {},
   "outputs": [],
   "source": [
    "true = [1, 1, 0, 0, 1, 2, 2, 2, 2, 0, 1]"
   ]
  },
  {
   "cell_type": "code",
   "execution_count": 567,
   "id": "ae8fc802",
   "metadata": {},
   "outputs": [],
   "source": [
    "A = torch.stack([a+b, b, a, a*2, 3*b, c, c, 3*c, -c, c-a, a+3*b])[None]\n",
    "A_1 = A - A.mean(dim=-1, keepdim=True)\n",
    "\n",
    "U, S, V = torch.pca_lowrank(A, q=3, center=False, niter=20)"
   ]
  },
  {
   "cell_type": "code",
   "execution_count": 568,
   "id": "5c0e3db3",
   "metadata": {},
   "outputs": [
    {
     "data": {
      "text/plain": [
       "(torch.Size([1, 11, 64]),\n",
       " torch.Size([1, 11, 3]),\n",
       " tensor([[73.6484, 33.3310, 14.7601]]),\n",
       " torch.Size([1, 64, 3]),\n",
       " torch.Size([1, 5, 2]))"
      ]
     },
     "execution_count": 568,
     "metadata": {},
     "output_type": "execute_result"
    }
   ],
   "source": [
    "A.shape, U.shape, S, V.shape, a_c.shape "
   ]
  },
  {
   "cell_type": "code",
   "execution_count": 569,
   "id": "00c03c90",
   "metadata": {},
   "outputs": [
    {
     "data": {
      "text/plain": [
       "array([[100.,  23.,   5.],\n",
       "       [ 40.,  65.,  69.],\n",
       "       [  7.,  90.,  35.]])"
      ]
     },
     "execution_count": 569,
     "metadata": {},
     "output_type": "execute_result"
    }
   ],
   "source": [
    "np.round(100 * np.abs(np.corrcoef(V[0, :, :].T, base)[3:, :3]))"
   ]
  },
  {
   "cell_type": "code",
   "execution_count": 570,
   "id": "8f0c1ff1",
   "metadata": {},
   "outputs": [
    {
     "data": {
      "text/plain": [
       "(torch.Size([1, 11, 3]), torch.Size([1, 3]))"
      ]
     },
     "execution_count": 570,
     "metadata": {},
     "output_type": "execute_result"
    }
   ],
   "source": [
    "U.shape, S.shape"
   ]
  },
  {
   "cell_type": "code",
   "execution_count": 571,
   "id": "fbb55bce",
   "metadata": {},
   "outputs": [
    {
     "data": {
      "text/plain": [
       "tensor([[0, 2, 0, 0, 2, 1, 1, 1, 1, 0, 2]])"
      ]
     },
     "execution_count": 571,
     "metadata": {},
     "output_type": "execute_result"
    }
   ],
   "source": [
    "U.abs().argmax(dim=-1)"
   ]
  },
  {
   "cell_type": "code",
   "execution_count": 558,
   "id": "faa45967",
   "metadata": {},
   "outputs": [
    {
     "data": {
      "text/plain": [
       "tensor([[2, 2, 2, 2, 2, 1, 1, 1, 1, 2, 0]])"
      ]
     },
     "execution_count": 558,
     "metadata": {},
     "output_type": "execute_result"
    }
   ],
   "source": [
    "U.div(S[None]).abs().argmax(dim=-1)"
   ]
  },
  {
   "cell_type": "code",
   "execution_count": 559,
   "id": "08c6428d",
   "metadata": {},
   "outputs": [
    {
     "data": {
      "text/plain": [
       "(torch.Size([1, 7, 7]),\n",
       " torch.Size([1, 7]),\n",
       " torch.Size([1, 7, 64]),\n",
       " tensor([[2.8729e+01, 1.7385e+01, 9.9125e+00, 2.5548e-06, 1.5805e-06, 5.9307e-07,\n",
       "          4.3564e-07]]))"
      ]
     },
     "execution_count": 559,
     "metadata": {},
     "output_type": "execute_result"
    }
   ],
   "source": [
    "A = torch.stack([a, b, c, a*2, 3*b, a+b, c])[None]\n",
    "A_1 = A - A.mean(dim=-1, keepdim=True)\n",
    "U, S, V = torch.linalg.svd(A_1,full_matrices=False)\n",
    "U.shape, S.shape, V.shape, S"
   ]
  },
  {
   "cell_type": "code",
   "execution_count": 560,
   "id": "ee442fcc",
   "metadata": {},
   "outputs": [],
   "source": [
    "uncorr = U[:, :3, :].matmul(A_1)"
   ]
  },
  {
   "cell_type": "code",
   "execution_count": 561,
   "id": "296a0c6f",
   "metadata": {},
   "outputs": [
    {
     "data": {
      "text/plain": [
       "array([[ 95.,  33.,  36.],\n",
       "       [  2., 100.,  12.],\n",
       "       [  5.,   6.,  96.]])"
      ]
     },
     "execution_count": 561,
     "metadata": {},
     "output_type": "execute_result"
    }
   ],
   "source": [
    "np.round(100 * np.abs(np.corrcoef(uncorr[0, :, :], torch.stack([a, b, c]))[3:, :3]))"
   ]
  },
  {
   "cell_type": "code",
   "execution_count": 562,
   "id": "50f4ef65",
   "metadata": {},
   "outputs": [
    {
     "data": {
      "text/plain": [
       "tensor([[[-1.6182e-01, -3.7643e-01, -3.6735e-02,  8.5353e-01, -1.3752e-01,\n",
       "           2.4842e-01,  1.4706e-01],\n",
       "         [-2.6250e-01,  1.5228e-01,  1.4654e-02,  1.1245e-02,  8.4249e-01,\n",
       "           4.3505e-01,  9.2263e-02],\n",
       "         [ 4.4381e-04,  6.8491e-02, -7.0378e-01,  4.5795e-03, -8.9888e-02,\n",
       "           3.0762e-01, -6.3029e-01],\n",
       "         [-3.2363e-01, -7.5285e-01, -7.3470e-02, -4.9824e-01, -8.8320e-02,\n",
       "           2.2903e-01,  1.2076e-01],\n",
       "         [-7.8749e-01,  4.5684e-01,  4.3962e-02, -5.1395e-02, -3.8555e-01,\n",
       "           9.0477e-02,  9.8769e-02],\n",
       "         [-4.2431e-01, -2.2415e-01, -2.2081e-02,  1.4294e-01,  3.1416e-01,\n",
       "          -7.0648e-01, -3.8857e-01],\n",
       "         [ 4.4386e-04,  6.8491e-02, -7.0378e-01, -4.5796e-03,  8.9887e-02,\n",
       "          -3.0762e-01,  6.3029e-01]]])"
      ]
     },
     "execution_count": 562,
     "metadata": {},
     "output_type": "execute_result"
    }
   ],
   "source": [
    "U"
   ]
  },
  {
   "cell_type": "markdown",
   "id": "e08aae9b",
   "metadata": {},
   "source": [
    "# Now finally decorrelate two things"
   ]
  },
  {
   "cell_type": "code",
   "execution_count": 671,
   "id": "4dfb5c52",
   "metadata": {},
   "outputs": [],
   "source": [
    "a = torch.randn(32) * 3 - 0.5\n",
    "b = torch.randn(32) * 0.5 + 0.3"
   ]
  },
  {
   "cell_type": "code",
   "execution_count": 672,
   "id": "4ba9f667",
   "metadata": {},
   "outputs": [
    {
     "data": {
      "text/plain": [
       "(0.012967353968462872, 0.9894317670582278, 0.15781735610279837)"
      ]
     },
     "execution_count": 672,
     "metadata": {},
     "output_type": "execute_result"
    }
   ],
   "source": [
    "np.corrcoef(a, b)[0, 1], np.corrcoef(a+b, a)[0, 1], np.corrcoef(a+b, b)[0, 1]"
   ]
  },
  {
   "cell_type": "code",
   "execution_count": 673,
   "id": "718e40ab",
   "metadata": {},
   "outputs": [],
   "source": [
    "A = torch.stack([a+b, b])[None]\n",
    "U, S, V = torch.pca_lowrank(A - A.mean(dim=-1, keepdim=True), q=1, center=False, niter=2)"
   ]
  },
  {
   "cell_type": "code",
   "execution_count": 674,
   "id": "38321d96",
   "metadata": {},
   "outputs": [
    {
     "data": {
      "text/plain": [
       "(0.988837129428431, 0.16181051431948437, 0.9999918183802636)"
      ]
     },
     "execution_count": 674,
     "metadata": {},
     "output_type": "execute_result"
    }
   ],
   "source": [
    "np.corrcoef(V[0, :, 0], a)[0, 1], np.corrcoef(V[0, :, 0], b)[0, 1], np.corrcoef(V[0, :, 0], a+b)[0, 1]"
   ]
  },
  {
   "cell_type": "code",
   "execution_count": 675,
   "id": "16bc80f0",
   "metadata": {},
   "outputs": [
    {
     "data": {
      "text/plain": [
       "tensor([[[0.9997],\n",
       "         [0.0235]]])"
      ]
     },
     "execution_count": 675,
     "metadata": {},
     "output_type": "execute_result"
    }
   ],
   "source": []
  },
  {
   "cell_type": "code",
   "execution_count": 676,
   "id": "10c0e330",
   "metadata": {},
   "outputs": [],
   "source": [
    "ab = a + b\n",
    "std, mean = torch.std_mean(ab)\n",
    "std2, mean2 = torch.std_mean(b)"
   ]
  },
  {
   "cell_type": "code",
   "execution_count": 677,
   "id": "75c637c5",
   "metadata": {},
   "outputs": [],
   "source": [
    "decorr = (ab - mean) / std - np.corrcoef(a+b, b)[0, 1] * (b - mean2) / std2"
   ]
  },
  {
   "cell_type": "code",
   "execution_count": 678,
   "id": "035628b9",
   "metadata": {},
   "outputs": [],
   "source": [
    "# decorr = ab - np.corrcoef(a+b, b)[0, 1] * b"
   ]
  },
  {
   "cell_type": "code",
   "execution_count": 679,
   "id": "2d198098",
   "metadata": {},
   "outputs": [
    {
     "data": {
      "text/plain": [
       "(0.9999159201448755, -1.4340345536158765e-08)"
      ]
     },
     "execution_count": 679,
     "metadata": {},
     "output_type": "execute_result"
    }
   ],
   "source": [
    "np.corrcoef(decorr, a)[0, 1], np.corrcoef(decorr, b)[0, 1]"
   ]
  },
  {
   "cell_type": "code",
   "execution_count": 680,
   "id": "74a16eee",
   "metadata": {},
   "outputs": [
    {
     "data": {
      "text/plain": [
       "0.15781735610279837"
      ]
     },
     "execution_count": 680,
     "metadata": {},
     "output_type": "execute_result"
    }
   ],
   "source": [
    "np.corrcoef(a+b, b)[0, 1]"
   ]
  },
  {
   "cell_type": "code",
   "execution_count": 682,
   "id": "f3220772",
   "metadata": {},
   "outputs": [
    {
     "data": {
      "text/plain": [
       "tensor(0.1578)"
      ]
     },
     "execution_count": 682,
     "metadata": {},
     "output_type": "execute_result"
    }
   ],
   "source": [
    "((ab - mean) / std * (b - mean2) / std2).sum() / ((ab - mean) / std).norm() / ((b - mean2) / std2).norm()"
   ]
  }
 ],
 "metadata": {
  "kernelspec": {
   "display_name": "Python 3 (ipykernel)",
   "language": "python",
   "name": "python3"
  },
  "language_info": {
   "codemirror_mode": {
    "name": "ipython",
    "version": 3
   },
   "file_extension": ".py",
   "mimetype": "text/x-python",
   "name": "python",
   "nbconvert_exporter": "python",
   "pygments_lexer": "ipython3",
   "version": "3.9.7"
  }
 },
 "nbformat": 4,
 "nbformat_minor": 5
}
