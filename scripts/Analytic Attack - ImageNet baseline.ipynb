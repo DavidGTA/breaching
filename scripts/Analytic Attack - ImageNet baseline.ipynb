{
 "cells": [
  {
   "cell_type": "markdown",
   "id": "3ebef44a",
   "metadata": {},
   "source": [
    "# Breaching privacy"
   ]
  },
  {
   "cell_type": "markdown",
   "id": "a756fc5f",
   "metadata": {},
   "source": [
    "This notebook does the same job as the cmd-line tool `breach.py`, but also directly visualizes the user data and reconstruction"
   ]
  },
  {
   "cell_type": "code",
   "execution_count": null,
   "id": "b850eabf",
   "metadata": {},
   "outputs": [],
   "source": [
    "import torch\n",
    "import hydra\n",
    "from omegaconf import OmegaConf\n",
    "%load_ext autoreload\n",
    "%autoreload 2\n",
    "\n",
    "import breaching\n",
    "import logging, sys\n",
    "logging.basicConfig(level=logging.INFO, handlers=[logging.StreamHandler(sys.stdout)], format='%(message)s')\n",
    "logger = logging.getLogger()"
   ]
  },
  {
   "cell_type": "code",
   "execution_count": null,
   "id": "f563173b",
   "metadata": {},
   "outputs": [],
   "source": [
    "import matplotlib.pyplot as plt\n",
    "from statistics import NormalDist\n",
    "import math"
   ]
  },
  {
   "cell_type": "markdown",
   "id": "88d5e214",
   "metadata": {},
   "source": [
    "### Initialize cfg object and system setup:"
   ]
  },
  {
   "cell_type": "markdown",
   "id": "56bd663b",
   "metadata": {},
   "source": [
    "This will print out all configuration options. \n",
    "There are a lot of possible configurations, but there is usually no need to worry about most of these. Below, a few options are printed."
   ]
  },
  {
   "cell_type": "code",
   "execution_count": null,
   "id": "a7dc3a48",
   "metadata": {},
   "outputs": [],
   "source": [
    "with hydra.initialize(config_path=\"config\"):\n",
    "    cfg = hydra.compose(config_name='cfg', overrides=['attack=imprint', 'case/server=malicious-model'])\n",
    "    print(f'Investigating use case {cfg.case.name} with server type {cfg.case.server.name}.')\n",
    "          \n",
    "device = torch.device(f'cuda:0') if torch.cuda.is_available() else torch.device('cpu')\n",
    "torch.backends.cudnn.benchmark = cfg.case.impl.benchmark\n",
    "setup = dict(device=device, dtype=torch.float)\n",
    "setup"
   ]
  },
  {
   "cell_type": "markdown",
   "id": "203c5fb1",
   "metadata": {},
   "source": [
    "### Modify config options here"
   ]
  },
  {
   "cell_type": "markdown",
   "id": "6e0764ef",
   "metadata": {},
   "source": [
    "You can use `.attribute` access to modify any of these configurations:"
   ]
  },
  {
   "cell_type": "code",
   "execution_count": null,
   "id": "ac118ea0",
   "metadata": {},
   "outputs": [],
   "source": [
    "cfg.case.user.num_data_points = 64\n",
    "cfg.case.server.model_modification.type = 'ImprintBlock' \n",
    "cfg.case.server.model_modification.num_bins = 128\n",
    "cfg.case.server.model_modification.position = None # '4.0.conv'\n",
    "cfg.case.server.model_modification.connection = 'linear'\n",
    "\n",
    "\n",
    "cfg.case.server.model_modification.linfunc = 'fourier'\n",
    "cfg.case.server.model_modification.mode = 32"
   ]
  },
  {
   "cell_type": "markdown",
   "id": "76f64389",
   "metadata": {},
   "source": [
    "### Instantiate all parties"
   ]
  },
  {
   "cell_type": "code",
   "execution_count": null,
   "id": "2e4d4d6d",
   "metadata": {
    "scrolled": false
   },
   "outputs": [],
   "source": [
    "user, server, model, loss_fn = breaching.cases.construct_case(cfg.case, setup)\n",
    "attacker = breaching.attacks.prepare_attack(server.model, server.loss, cfg.attack, setup)\n",
    "breaching.utils.overview(server, user, attacker)"
   ]
  },
  {
   "cell_type": "markdown",
   "id": "548c0ad6",
   "metadata": {},
   "source": [
    "### Simulate an attacked FL protocol"
   ]
  },
  {
   "cell_type": "markdown",
   "id": "2058bcc2",
   "metadata": {},
   "source": [
    "True user data is returned only for analysis"
   ]
  },
  {
   "cell_type": "code",
   "execution_count": null,
   "id": "3f2a2e33",
   "metadata": {},
   "outputs": [],
   "source": [
    "server_payload = server.distribute_payload()\n",
    "shared_data, true_user_data = user.compute_local_updates(server_payload)"
   ]
  },
  {
   "cell_type": "code",
   "execution_count": null,
   "id": "ec4316c8",
   "metadata": {},
   "outputs": [],
   "source": [
    "#grads = shared_data['gradients'][0]\n",
    "#[(g.norm(), g.mean(), g.std()) for g in grads]"
   ]
  },
  {
   "cell_type": "code",
   "execution_count": null,
   "id": "fbda9be4",
   "metadata": {},
   "outputs": [],
   "source": [
    "#torch.norm(torch.stack([torch.norm(g, 2) for g in grads]), 2)"
   ]
  },
  {
   "cell_type": "code",
   "execution_count": null,
   "id": "49c68628",
   "metadata": {},
   "outputs": [],
   "source": [
    "user.plot(true_user_data)"
   ]
  },
  {
   "cell_type": "markdown",
   "id": "f2867bcc",
   "metadata": {},
   "source": [
    "# Reconstruct user data"
   ]
  },
  {
   "cell_type": "code",
   "execution_count": null,
   "id": "04521004",
   "metadata": {
    "scrolled": true
   },
   "outputs": [],
   "source": [
    "reconstructed_user_data, stats = attacker.reconstruct([server_payload], [shared_data], \n",
    "                                                      server.secrets, dryrun=cfg.dryrun)"
   ]
  },
  {
   "cell_type": "code",
   "execution_count": null,
   "id": "0de62300",
   "metadata": {},
   "outputs": [],
   "source": [
    "user.plot(reconstructed_user_data)"
   ]
  },
  {
   "cell_type": "code",
   "execution_count": null,
   "id": "342d33a0",
   "metadata": {},
   "outputs": [],
   "source": [
    "#How good is the reconstruction?\n",
    "metrics = breaching.analysis.report(reconstructed_user_data, true_user_data, [server_payload], \n",
    "                                    server.model, order_batch=True, compute_full_iip=False, \n",
    "                                    cfg_case=cfg.case, setup=setup)"
   ]
  },
  {
   "cell_type": "code",
   "execution_count": null,
   "id": "5eb84e73",
   "metadata": {},
   "outputs": [],
   "source": [
    "user.plot(reconstructed_user_data)"
   ]
  },
  {
   "cell_type": "markdown",
   "id": "87605600",
   "metadata": {},
   "source": [
    "# Analyze distribution on ground truth data"
   ]
  },
  {
   "cell_type": "markdown",
   "id": "ee832f1e",
   "metadata": {},
   "source": [
    "This is not possible in general, but helpful as a sanity check"
   ]
  },
  {
   "cell_type": "code",
   "execution_count": null,
   "id": "12190a28",
   "metadata": {},
   "outputs": [],
   "source": [
    "block_lin = user.model[1].linear0.weight[0]"
   ]
  },
  {
   "cell_type": "code",
   "execution_count": null,
   "id": "866975c2",
   "metadata": {},
   "outputs": [],
   "source": [
    "plt.plot(block_lin.detach().cpu().numpy())"
   ]
  },
  {
   "cell_type": "code",
   "execution_count": null,
   "id": "2564c76d",
   "metadata": {},
   "outputs": [],
   "source": [
    "cfg.case.data.name = \"ImageNet\"\n",
    "dataloader = breaching.cases.construct_dataloader(cfg.case.data, cfg.case.impl, \n",
    "                                                  user_idx=None, return_full_dataset=True)"
   ]
  },
  {
   "cell_type": "code",
   "execution_count": null,
   "id": "fce3428c",
   "metadata": {},
   "outputs": [],
   "source": [
    "dataloader.dataset.transform"
   ]
  },
  {
   "cell_type": "code",
   "execution_count": null,
   "id": "e298d3d7",
   "metadata": {},
   "outputs": [],
   "source": [
    "vals = torch.zeros(len(dataloader.dataset))\n",
    "counter = 0\n",
    "with torch.inference_mode():\n",
    "    for image, _ in iter(dataloader):\n",
    "        image = image.to(**setup)\n",
    "        B = image.shape[0]\n",
    "        vals[counter:counter+B] = (block_lin[None, :] * image.flatten(start_dim=1)).sum(dim=1).detach().cpu()\n",
    "        counter += B"
   ]
  },
  {
   "cell_type": "code",
   "execution_count": null,
   "id": "27155cd0",
   "metadata": {},
   "outputs": [],
   "source": [
    "# vals = vals * torch.tensor(block_lin.shape[0])"
   ]
  },
  {
   "cell_type": "code",
   "execution_count": null,
   "id": "8c1fc521",
   "metadata": {},
   "outputs": [],
   "source": [
    "from scipy.stats import laplace"
   ]
  },
  {
   "cell_type": "code",
   "execution_count": null,
   "id": "2b15ba3f",
   "metadata": {
    "scrolled": true
   },
   "outputs": [],
   "source": [
    "std_data, mu_data = torch.std_mean(vals)\n",
    "\n",
    "# the histogram of the data\n",
    "n, bins, patches = plt.hist(vals.numpy(), 250, density=True, facecolor='royalblue', alpha=0.75)\n",
    "\n",
    "\n",
    "plt.xlabel('Values')\n",
    "plt.ylabel('Probability')\n",
    "plt.xlim(-2.5, 2.5)\n",
    "plt.title('Distribution on GT data')\n",
    "\n",
    "xmin, xmax = plt.xlim()\n",
    "x = torch.linspace(xmin, xmax, 100)\n",
    "# p = [NormalDist(mu, std).pdf(xx) for xx in x]\n",
    "# plt.plot(x, p, 'k', linewidth=2)\n",
    "\n",
    "p = [NormalDist(mu_data, std_data).pdf(xx) for xx in x]\n",
    "plt.plot(x, p, 'g', linewidth=2, label='Gaussian estimate on true data distribution')\n",
    "\n",
    "p = [NormalDist(0, 1).pdf(xx) for xx in x]\n",
    "plt.plot(x, p, 'b', linewidth=2, label='Normal Distribution')\n",
    "\n",
    "loc, scale = laplace.fit(vals.numpy())\n",
    "p = laplace.pdf(x, loc, scale)\n",
    "plt.plot(x, p, 'r', linewidth=2, label='Laplacian estimate on true data distribution')\n",
    "\n",
    "p = laplace.pdf(x, 0, 1/math.sqrt(2))\n",
    "plt.plot(x, p, 'k', linewidth=2, label='Laplacian distribution (scaled = 1/sqrt(2))')\n",
    "\n",
    "plt.legend()\n",
    "\n",
    "b = cfg.case.user.num_data_points\n",
    "func = cfg.case.server.model_modification.linfunc\n",
    "bins = cfg.case.server.model_modification.num_bins\n",
    "plt.savefig(f\"linear_fn_{func}_data{b}_b{bins}.pdf\", bbox_inches='tight')\n",
    "\n",
    "plt.show()"
   ]
  }
 ],
 "metadata": {
  "kernelspec": {
   "display_name": "Python 3 (ipykernel)",
   "language": "python",
   "name": "python3"
  },
  "language_info": {
   "codemirror_mode": {
    "name": "ipython",
    "version": 3
   },
   "file_extension": ".py",
   "mimetype": "text/x-python",
   "name": "python",
   "nbconvert_exporter": "python",
   "pygments_lexer": "ipython3",
   "version": "3.9.7"
  }
 },
 "nbformat": 4,
 "nbformat_minor": 5
}
