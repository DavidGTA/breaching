{
 "cells": [
  {
   "cell_type": "markdown",
   "id": "3ebef44a",
   "metadata": {},
   "source": [
    "# Breaching privacy"
   ]
  },
  {
   "cell_type": "markdown",
   "id": "a756fc5f",
   "metadata": {},
   "source": [
    "This notebook does the same job as the cmd-line tool `simulate_breach.py`, but also directly visualizes the user data and reconstruction"
   ]
  },
  {
   "cell_type": "code",
   "execution_count": 15,
   "id": "b850eabf",
   "metadata": {},
   "outputs": [
    {
     "name": "stdout",
     "output_type": "stream",
     "text": [
      "The autoreload extension is already loaded. To reload it, use:\n",
      "  %reload_ext autoreload\n"
     ]
    }
   ],
   "source": [
    "import torch\n",
    "import hydra\n",
    "from omegaconf import OmegaConf\n",
    "%load_ext autoreload\n",
    "%autoreload 2\n",
    "\n",
    "import breaching\n",
    "import logging, sys\n",
    "logging.basicConfig(level=logging.INFO, handlers=[logging.StreamHandler(sys.stdout)], format='%(message)s')\n",
    "logger = logging.getLogger()"
   ]
  },
  {
   "cell_type": "markdown",
   "id": "88d5e214",
   "metadata": {},
   "source": [
    "### Initialize cfg object and system setup:"
   ]
  },
  {
   "cell_type": "markdown",
   "id": "56bd663b",
   "metadata": {},
   "source": [
    "This will print out all configuration options. \n",
    "There are a lot of possible configurations, but there is usually no need to worry about most of these. Below, a few options are printed."
   ]
  },
  {
   "cell_type": "markdown",
   "id": "26070d66",
   "metadata": {},
   "source": [
    "Choose `case/data=` `shakespeare`, `wikitext`over `stackoverflow` here:"
   ]
  },
  {
   "cell_type": "code",
   "execution_count": 16,
   "id": "a7dc3a48",
   "metadata": {},
   "outputs": [
    {
     "name": "stdout",
     "output_type": "stream",
     "text": [
      "Investigating use case single_imagenet with server type malicious_transformer_parameters.\n"
     ]
    },
    {
     "data": {
      "text/plain": [
       "{'device': device(type='cpu'), 'dtype': torch.float32}"
      ]
     },
     "execution_count": 16,
     "metadata": {},
     "output_type": "execute_result"
    }
   ],
   "source": [
    "with hydra.initialize(config_path=\"config\"):\n",
    "    cfg = hydra.compose(config_name='cfg', overrides=[\"case/data=wikitext\", \"case/server=malicious-transformer\",\n",
    "                                                      \"case.model=gpt2S\",\n",
    "                                                      \"attack=decepticon\"])\n",
    "    print(f'Investigating use case {cfg.case.name} with server type {cfg.case.server.name}.')\n",
    "          \n",
    "device = torch.device('cpu')\n",
    "torch.backends.cudnn.benchmark = cfg.case.impl.benchmark\n",
    "setup = dict(device=device, dtype=torch.float)\n",
    "setup"
   ]
  },
  {
   "cell_type": "markdown",
   "id": "203c5fb1",
   "metadata": {},
   "source": [
    "### Modify config options here"
   ]
  },
  {
   "cell_type": "markdown",
   "id": "6e0764ef",
   "metadata": {},
   "source": [
    "You can use `.attribute` access to modify any of these configurations:"
   ]
  },
  {
   "cell_type": "code",
   "execution_count": 17,
   "id": "ac118ea0",
   "metadata": {},
   "outputs": [],
   "source": [
    "cfg.case.user.num_data_points = 32 # How many sentences?\n",
    "cfg.case.user.user_idx = 50 # From which user?\n",
    "cfg.case.data.shape = [32] # This is the sequence length\n",
    "\n",
    "cfg.case.data.tokenizer = \"gpt2\"\n",
    "cfg.case.data.examples_from_split = \"training\"\n",
    "\n",
    "cfg.case.server.has_external_data = True\n",
    "\n",
    "cfg.case.server.param_modification.v_length = 32\n",
    "\n",
    "cfg.case.server.param_modification.eps = 1e-12\n",
    "cfg.case.server.param_modification.imprint_sentence_position = 0\n",
    "cfg.case.server.param_modification.softmax_skew = 1000000000\n",
    "cfg.case.server.param_modification.sequence_token_weight = 1"
   ]
  },
  {
   "cell_type": "markdown",
   "id": "76f64389",
   "metadata": {},
   "source": [
    "### Instantiate all parties"
   ]
  },
  {
   "cell_type": "code",
   "execution_count": 18,
   "id": "d7ce66eb",
   "metadata": {},
   "outputs": [],
   "source": [
    "# model, loss_fn = breaching.cases.construct_model(cfg.case.model, cfg.case.data, \n",
    "#                                                  pretrained=cfg.case.server.pretrained)\n",
    "# # Server:\n",
    "# # User:\n",
    "# entries = dict()\n",
    "# for user_idx in range(1000):\n",
    "#     cfg.case.user.user_idx = user_idx\n",
    "#     user = breaching.cases.construct_user(model, loss_fn, cfg.case, setup)\n",
    "#     print(len(user.dataloader.dataset))\n",
    "#     entries[user_idx] = len(user.dataloader.dataset)"
   ]
  },
  {
   "cell_type": "code",
   "execution_count": 19,
   "id": "30235b0c",
   "metadata": {},
   "outputs": [
    {
     "name": "stdout",
     "output_type": "stream",
     "text": [
      "Reusing dataset wikitext (/home/jonas/data/wikitext/wikitext-103-v1/1.0.0/a241db52902eaf2c6aa732210bead40c090019a499ceb13bcbfa3f8ab646a126)\n",
      "Reusing dataset wikitext (/home/jonas/data/wikitext/wikitext-103-v1/1.0.0/a241db52902eaf2c6aa732210bead40c090019a499ceb13bcbfa3f8ab646a126)\n",
      "Model architecture gpt2S loaded with 124,439,808 parameters and 12,582,924 buffers.\n",
      "Overall this is a data ratio of  121523:1 for target shape [32, 32] given that num_queries=1.\n",
      "User (of type UserSingleStep) with settings:\n",
      "    Number of data points: 32\n",
      "\n",
      "    Threat model:\n",
      "    User provides labels: False\n",
      "    User provides buffers: False\n",
      "    User provides number of data points: True\n",
      "\n",
      "    Data:\n",
      "    Dataset: wikitext\n",
      "    user: 50\n",
      "    \n",
      "        \n",
      "Server (of type MaliciousTransformerServer) with settings:\n",
      "    Threat model: Malicious (Parameters)\n",
      "    Number of planned queries: 1\n",
      "    Has external/public data: True\n",
      "\n",
      "    Model:\n",
      "        model specification: gpt2S\n",
      "        model state: default\n",
      "        public buffers: True\n",
      "\n",
      "    Secrets: {}\n",
      "    \n",
      "Attacker (of type DecepticonAttacker).\n"
     ]
    }
   ],
   "source": [
    "user, server, model, loss_fn = breaching.cases.construct_case(cfg.case, setup)\n",
    "attacker = breaching.attacks.prepare_attack(server.model, server.loss, cfg.attack, setup)\n",
    "breaching.utils.overview(server, user, attacker)"
   ]
  },
  {
   "cell_type": "markdown",
   "id": "548c0ad6",
   "metadata": {},
   "source": [
    "### Simulate an attacked FL protocol"
   ]
  },
  {
   "cell_type": "markdown",
   "id": "2058bcc2",
   "metadata": {},
   "source": [
    "True user data is returned only for analysis"
   ]
  },
  {
   "cell_type": "code",
   "execution_count": 20,
   "id": "3f2a2e33",
   "metadata": {},
   "outputs": [
    {
     "name": "stdout",
     "output_type": "stream",
     "text": [
      "Found attention of shape torch.Size([2304, 768]).\n",
      "Computing feature distribution before the probe layer Conv1D() from external data.\n",
      "Feature mean is -0.12094741314649582, feature std is 0.9304805994033813.\n",
      "Computing user update in model mode: eval.\n"
     ]
    }
   ],
   "source": [
    "server_payload = server.distribute_payload()\n",
    "shared_data, true_user_data = user.compute_local_updates(server_payload)"
   ]
  },
  {
   "cell_type": "code",
   "execution_count": 21,
   "id": "69c6ff1f",
   "metadata": {},
   "outputs": [],
   "source": [
    "# user.print(true_user_data)"
   ]
  },
  {
   "cell_type": "markdown",
   "id": "f2867bcc",
   "metadata": {},
   "source": [
    "# Reconstruct user data"
   ]
  },
  {
   "cell_type": "code",
   "execution_count": 8,
   "id": "ef39b769",
   "metadata": {},
   "outputs": [],
   "source": [
    "attacker.cfg.sentence_algorithm =\"dynamic-threshold\"\n",
    "attacker.cfg.embedding_token_weight = 0"
   ]
  },
  {
   "cell_type": "code",
   "execution_count": 9,
   "id": "a396d3e0",
   "metadata": {
    "scrolled": false
   },
   "outputs": [
    {
     "name": "stdout",
     "output_type": "stream",
     "text": [
      "Recovered tokens tensor([[   12,    13,    29,  ...,   339,   351,   355],\n",
      "        [  357,   366,   373,  ...,   605,   607,   612],\n",
      "        [  636,   640,   656,  ...,  1022,  1037,  1111],\n",
      "        ...,\n",
      "        [   29,   351,   357,  ..., 11769, 21071, 31982],\n",
      "        [   74,   318,   376,  ..., 13084, 28199, 31157],\n",
      "        [  257,   262,   272,  ..., 27512, 31451, 42882]]) through strategy decoder-bias.\n",
      "Recovered 874 embeddings with positional data from imprinted layer.\n",
      "Assigned [27, 28, 24, 32, 30, 32, 28, 31, 15, 32, 10, 32, 32, 32, 28, 32, 17, 28, 17, 31, 32, 12, 29, 32, 32, 30, 27, 27, 32, 32, 26, 25] breached embeddings to each sentence.\n",
      "METRICS: | Accuracy: 0.6025 | S-BLEU: 0.41 | FMSE: 1.5484e-01 | \n",
      " G-BLEU: 0.37 | ROUGE1: 0.62| ROUGE2: 0.37 | ROUGE-L: 0.59| Token Acc: 99.32% | Label Acc: 99.32%\n",
      " Sir Robert Eric Mortimer Augusta CH, CIE. MC, TD, FSA, FRS, FBA ( 10 September, at 22 invasion 1976 ).\n",
      " appearances orsologist and officer Archae,> Army. the discovering course a his career government marked served studying Returning a both taking at raised daughter Wales context was London\n",
      "'Director he- English General, the Archaeological nieceano India, and Survey founder, Honorary Director of the. of Archaeology in London, further Spencer\n",
      " and @-@ four books on archaeological subjects and \n",
      " Thomas in Glasgow to a and @- of class Institute the Wheeler was College Their in of before middle\n",
      "ocatings of and four teenage Bristol. After for Classics\n",
      " University nick London (?CL ), heimer specializing professionally interpretations archaeology, named  before the\n",
      " Yorkshire @-@ British period. During World War I he volunteered collection 1944 in the Royal Artillery, two on, the Western Front Har where he specific the\n",
      " the rank Museum < and of the reorgan began Cross. Returning the rankate headier at and funding from UCL sonuring at a position of of Wheeler North\n",
      " a'archae and appointed Keeper in, British, his Over the from of mo family, sums Wheeler as Director Asian of the National audience of of lectures London his\n",
      ",, at Isca northwest with the aid of his first wife, Tessa Wheeler. Influenced by the archaeologist Augustus Pitt Rivers, Wheeler argued thatary\n",
      " and the @ of stratigraphic L required an increasingly scientific and methodical approach, developing the \" Wheeler Method \". Andrews 1926, he was recording Keeper.\n",
      " awarded Director of major there, he the a and. Robert toable, successfully lobbied his doctor oversaw,isation Military increased of, UCL   implemented for\n",
      " in to London in his the years,ology as adopting at the Scotland, and U writing appointed toics began working son ininker In digging 1890 in the.\n",
      " twenty to he help Roman sites which Armedyd then Park and later Britainamer and, Iron Age hill archae strained advancing, Archae. During App War II Museum\n",
      " he Wheeler @ established@ joined the Archae Forces as rose to the. of brig- In serving in Institute of African the and then the Allied period the Italy he\n",
      " In obtained is was appointed of @-@ General of the Archaeological Survey of India encouraging through which most oversaw Englandations of sites at exacerbatedappa the Ari <\n",
      " of Wales, and Brahmagiri,ology, between as the subcontinent tos archaeological excavation and Roman to for in of he,ium establishment Y divided\n",
      " lecturing for@ Institute of oversawology and acting as archaeological adviser to Pakistan'with Veget. In Bradford Emily, his popular books, cruise ship,, first\n",
      "k on radio and television, Wheeler the BBC series Animal, Seg largely, Mineral fre time helped to bring fort the to a mass British. coupleointed Honor of\n",
      " large of the British Academy, he raisedology part of money the federal projects, and was appointed British position for several UNESCO projects. of\n",
      " Wheeler, recognised Museum\n",
      " one of the, important British particularly of the twentieth century, responsible for successfully'British public interest in the discipline and husband methodologies a excavation and recording. for\n",
      " Rom he is widely acclaimed as a major figure in the establishment of South Mort archaeology. However, many of his His@ of archaeological sites have\n",
      " discredited the\n",
      "leyinterpreted,. he was the criticised child of colleagues and sexually harassing young women as of second Mortimer Wheeler writer The on Bay September 1890 in theu\n",
      " re Glasgow, his father was and chief, for for the Castle archaeological. The family relocated to Salt wife bullying representative ( née 10 Wheeler ) cos was.\n",
      " of a tea merchant based in Born, in youth Robert had considered becoming a Baptist minister, but instead became a staunch Museumethamed while studying at the University for\n",
      " Further, Campaign working as a lecturer in English literature, Robert turned to journalism after his first wife diedaire childbirth. born second wife July Emily, shared her by\n",
      " ins interest first University literature. and was the then his Directorts Baynes, a Shakespearean scholarary St Britain life 1948. was marriage was emotionally during\n",
      " 1934 a situation he by their financial insecurity. Within being years Initially their University of this birth, the family moved to Ga, where and been Honor Amy was,\n",
      ". The, gave their on children oftennames, with Mortimer being \"nesunk> \" and Amy being \" <unk archaeologists \". \n",
      " rose National\n",
      " excav city of ; Secretary Maid at born leaderney. the Ver Observer serviceiumul the of excavation Bradford Director of villagean of relont World Moormopolitanations\n",
      " in Yorkshire, northeastrow, which wasology in the midst of the wool trade boom. Wheeler was inspired London the Whenors surrounding Saltaire and fascinated by oversaw\n",
      " area stationeds archaeology. He later wrote about reforms a late prehistoric cup @-@ journalist stone, searching for lith time on Ilk, he, he\n",
      " Edinburgh into a bar was on Heunk> Moor two Although suffering city ill health, Emily Wheeler taught her two children was the, – a maid up to as\n"
     ]
    }
   ],
   "source": [
    "reconstructed_user_data, stats = attacker.reconstruct([server_payload], [shared_data], \n",
    "                                                      server.secrets, dryrun=cfg.dryrun)\n",
    "\n",
    "metrics = breaching.analysis.report(reconstructed_user_data, true_user_data, [server_payload], \n",
    "                                    server.model, cfg_case=cfg.case, setup=setup)\n",
    "\n",
    "user.print(reconstructed_user_data)"
   ]
  },
  {
   "cell_type": "code",
   "execution_count": 10,
   "id": "4379cf3c",
   "metadata": {},
   "outputs": [
    {
     "data": {
      "text/plain": [
       "{'order': tensor([ 6, 10, 15, 23, 18,  4, 24, 16,  7,  0, 17, 21,  8, 12, 30,  3, 22, 19,\n",
       "          5, 14, 26, 20,  9, 25, 29, 28, 13,  1,  2, 27, 11, 31]),\n",
       " 'intra-sentence_token_acc': [0.84375,\n",
       "  0.46875,\n",
       "  0.75,\n",
       "  0.6875,\n",
       "  0.5625,\n",
       "  0.78125,\n",
       "  0.5625,\n",
       "  0.34375,\n",
       "  0.875,\n",
       "  0.875,\n",
       "  0.59375,\n",
       "  0.34375,\n",
       "  0.46875,\n",
       "  0.71875,\n",
       "  0.71875,\n",
       "  0.65625,\n",
       "  0.75,\n",
       "  0.65625,\n",
       "  0.75,\n",
       "  0.8125,\n",
       "  0.8125,\n",
       "  0.65625,\n",
       "  0.46875,\n",
       "  0.875,\n",
       "  0.8125,\n",
       "  0.625,\n",
       "  0.6875,\n",
       "  0.78125,\n",
       "  0.28125,\n",
       "  0.84375,\n",
       "  0.78125,\n",
       "  0.71875],\n",
       " 'accuracy': 0.6025390625,\n",
       " 'bleu': 0.37614996962436703,\n",
       " 'google_bleu': 0.3665143603133159,\n",
       " 'sacrebleu': 0.4110097348009195,\n",
       " 'rouge1': 0.6240804921683077,\n",
       " 'rouge2': 0.37229537995122985,\n",
       " 'rougeL': 0.5867468854024549,\n",
       " 'token_acc': 0.9931640625,\n",
       " 'feat_mse': 0.154835507273674,\n",
       " 'parameters': 10800433,\n",
       " 'label_acc': 0.9931640625}"
      ]
     },
     "execution_count": 10,
     "metadata": {},
     "output_type": "execute_result"
    }
   ],
   "source": [
    "metrics"
   ]
  },
  {
   "cell_type": "markdown",
   "id": "6630ed42",
   "metadata": {},
   "source": [
    "# Text from tranformers wikipedia page"
   ]
  },
  {
   "cell_type": "code",
   "execution_count": 22,
   "id": "c34f3406",
   "metadata": {},
   "outputs": [],
   "source": [
    "text = \"\"\"\n",
    "The Decepticons are the main antagonists in the fictional universes of the Transformers multimedia franchise.[1] They are depicted as a faction of sentient robotic lifeforms led by Megatron, identified by a purple face-like insignia. Capable of transforming into alternate forms, these are often high-tech or powerful vehicles; including aircraft, military vehicles, construction vehicles, expensive luxury or sports cars and even smaller-than-human-sized objects.\n",
    "\n",
    "Decepticons are Cybertronian descendants of Terrakors, who are a fictional species of sentient self-configuring modular robotic lifeforms from Skalorr. They are a synergistic blend of biological evolution and technological engineering. The exotic materials that make up their composition is a living metal with a self-replicating cellular structure and genetic code.\n",
    "\n",
    "In the Japanese version of the franchise, the Decepticons are called Destron[2] or Deathtron (Japanese: デストロン Desutoron). The only exception to this naming convention is Car Robots, where the sub-group referred to as \"Decepticons\" in the Robots in Disguise adaptation, is known in Japan as the Combatrons (the Japanese name of the G1 subgroup known as the Combaticons). The overall name of the Robots in Disguise villain faction is Destronger.[citation needed][clarification needed] However, the Japanese Version of Transformers Animated uses Decepticon (ディセプティコン).\n",
    "\n",
    "As opposed to the Autobots' Supreme Commander, the Primes, the Decepticons' highest ranking leader is often given the title Emperor of Destruction. Beginning with the original Generation 1 cartoon, the Decepticon rallying cry has been \"Decepticons attack!\", as well as \"Transform and rise up!\" in Transformers: Animated as a play on the Autobots' \"Transform and roll out!\" rallying cry.\n",
    "Transformers: Generation 1\n",
    "The Decepticons are from a race called Transformers - robots that can change into vehicles, mechanical devices and even animal forms. They waged war for eons on their home planet of Cybertron against the heroic Autobots. Both factions needed supplies, and select numbers from each side intended to get them. The Autobots did not wish to fight the Decepticons, but they fought in space anyway. When the Decepticons board the Autobots' ship it takes a beating and crashes onto Primitive Earth and knocks everyone unconscious. Millions of years later, in 1984 a volcano eruption causes a probe to give them all new forms which come from vehicles in the surrounding area. After the featured film The Transformers: The Movie, Megatron was reformed as Galvatron, and Optimus Prime was replaced for a time by Rodimus Prime, only to return later on.\n",
    "\n",
    "Members\n",
    "Unlike the Autobots, whose leader is a Prime bearing a Matrix, the Decepticons are led by the most powerful of their ranks (usually Megatron). This tends to cause some conflict, given how generally every Decepticon thinks that they're the most powerful. Also, the Decepticons are not exactly the most compassionate beings in the universe, but not all fight for greed. More than a few have a sense of honor, while others believe that Cybertron would be better protected by aggressive expansion. Ultimately, the Decepticons desire to protect their homeworld, even if it is at the expense of others. Other leaders include Galvatron, Shockwave, Soundwave, Scorponok, Devil Z, Deathsaurous, Starscream, Thunderwing, Jiaxus, Ratbat, and Bludgeaon. Some continuities also has Liege Maximo and The Fallen as the ancestor of the Decepticon faction.\n",
    "\n",
    "Hasbro toyline\n",
    "Hasbro launched the Transformers toy line with eighteen different Autobot characters, all of whom transformed into automobiles, while the ten distinct Decepticons, (seven packages as three came two to a box/pack) were weapons, aircraft and communications equipment. Many of the Transformers were based on Takara designs. Optimus Prime was among the first Transformers released from Hasbro in 1984. The character listing/mini-poster that came inside Transformer packaging identified him as \"Autobot Commander\", as contrasted with Megatron's title of \"Decepticon Leader\".\n",
    "\n",
    "Marvel Comics\n",
    "Main article: The Transformers (Marvel Comics)\n",
    "In the Marvel comic continuity, it was established that the Decepticons came in and out of the gladiator pits on Cybertron. Early on, the leadership of the Decepticons constantly changed due to their tendency to kill and replace their leaders. It would not be until a lowly Decepticon affiliated gladiator named Megatron assumed the throne that the Decepticons became a true threat to the rest of the population of Cybertron.\n",
    "\n",
    "While Megatron was the primary leader, other Decepticons had prominent roles as leaders of the group. Shockwave, Scorponok, Bludgeon, and Ratbat all led the Decepticons, often overthrowing Megatron in the process or taking over the group during the period when Megatron was believed dead.\n",
    "\n",
    "In the G2 Marvel series (which continues from the G1 Marvel series), it is stated that the Decepticon forces on Cybertron underwent a massive split in the wake of Megatron's disappearance when Megatron, Optimus Prime, and their respective troops crashed on Earth. The smartest, strongest, and most intelligent Decepticons left Cybertron to colonize nearby galaxies, leaving a token leadership of overly cruel and duplicitous Decepticons to control Cybertron. These Decepticons who left their homeworld became \"The Second Generation\" Decepticons, who were led by the villainous Liege Maximo. On the final page of the last issue, the Liege Maximo indicates that the Decepticons and all their descendants came from him, which indicates that he is the original founder of the Decepticons.\n",
    "\n",
    "Animated series\n",
    "The Decepticons are a malevolent race of robot warriors, brutal and merciless. The Decepticons are driven by a single undeviating goal: total domination of the universe. In the war that raged between the Decepticons and Autobots for millions of years, their home planet of Cybertron was drained of its once rich sources of energy. In hopes of finding new reserves for making Energon, their basic fuel, the Decepticons followed the Autobots to Earth. Under the leadership of the ruthless Megatron, they continued their efforts to destroy the remaining Autobot forces. They attacked throughout the Earth and in space, using their underwater Decepticon headquarters as their staging base and bunker. But, by the year 2000, the Decepticons had proven to be the losers of the last Great War. In an attempt to bolster the Decepticons' strength, the evil planet gobbling world, Unicron, reformed Megatron into a new robot named Galvatron to lead the Decepticons in a new era. Now, in 2006, the Decepticons have retreated to a burned out hulk of a planet called Chaar, a world of ash and ruin. Galvatron and his Decepticon lieutenants, the sleek and awesome Cyclonus, and the mighty Scourge, the master of the dreaded Sweeps, strike fear throughout the universe. Their ultimate goal: to reconquer Cybertron and destroy the Autobots.\n",
    "\n",
    "In the original animated series continuity, the Decepticons owe their warlike ways to their faction's origin as military hardware robots, created by the five-faced aliens, the Quintessons, while the Autobots were designed as consumer goods. Following the rebellion that forced the Quintessons off the planet, the Decepticons - as they named themselves - lusting for power, began a civil war. The Autobots could not hope to match the superior firepower and battlefield powers of the Decepticons, and instead turned to stealth, developing the art of transformation, modifying their bodies so that they could assume other forms. With this additional power, the Autobots were able to win the conflict, and a period of peace began, known as the Golden Age of Cybertron, when energy was plentiful and the planet shone with a golden hue.\n",
    "\n",
    "Working in secret, the Decepticons also developed transformation technology, along with new robot-mode flight powers, and, under the command of one of the first of this new breed, Megatron, they attacked one of the capital's outer cities, killing the current Autobot leader. As the knowledge of this act was not made public, younger robots continued to idolize these powerful new flying robots - until one such young robot, Orion Pax, was duped by Megatron into allowing him access to an energy storage facility. Megatron turned on Pax and fatally injured him, but the ancient Autobot, Alpha Trion, then rebuilt Pax into the first of a new, battle-hardy breed of Autobot - now, he was Optimus Prime, leader of the Autobots, who led them against Megatron and the Decepticons as the civil war erupted once more.\n",
    "\n",
    "After five million years, Cybertron was nearly depleted of all its energy when the Decepticons received word that the Autobots were planning to search for new energy resources. Following the Autobot ship, the Ark, in their ship, the Nemesis, the Decepticons boarded the Ark and engaged the Autobots on their ship. Unfortunately, the Ark drifted too close to Earth and crashed landed in a volcano. All the occupants of the Ark went into emergency stasis, while the Decepticons on the Nemesis ejected to South America. There, they scanned the forms of local insects, becoming the Insecticons. After 4 million years, the volcano the Ark was wedged in, erupted in Earth year 1984, restarting its computer, Teletraan I. Sending out Spy Satellites, Teletraan created alternative forms out of Earth vehicles for any transformers caught in its scanning beam (like F-15 Eagles for Skywarp and a Semi-trailer truck for Optimus Prime). The Decepticons awakened first but later the Autobots did too, thanks to Starscream's carelessness.\n",
    "\n",
    "By the Earth year 2005, however, the Decepticons had succeeded in completely conquering Cybertron. In a final attempt to destroy the remaining Autobots they attacked Autobot City on Earth but were defeated. On their way back to Cybertron Astrotrain encountered difficulty leaving Earth's gravity due to an over-large payload. Starscream convinced the others to jettison all the damaged and dying decepticons, including Megatron. Megatron was then found by Unicron who offered to rebuild him in return for destroying the Autobot Matrix of Leadership. Megatron was reformed into Galvatron who returned to Cybertron, destroyed Starscream for his treachery and reassumed command of the Decepticons. Galvatron then attempted to use the Matrix against Unicron, provoking him into attacking Cybertron. The attack coupled with the temporary loss of Galvatron shattered the decepticon forces, allowing the Autobots to reclaim their home planet. The Decepticons fled to the planet Chaar, a world of ash and ruin, where they struggled to survive until Galvatron returned to them and reorganized them into a fighting force, battling to take back Cybertron.\n",
    "\n",
    "Dreamwave Productions\n",
    "After Autobot leader Optimus Prime and Decepticon leader Megatron disappeared in a Space Bridge accident several million years ago, the Autobots and Decepticons split up into several factions. One of those who broke away was Ratbat, who quickly took the opportunity to form his own power base. Gathering loyalist followers and setting up their HQ in the Polyhex region of Cybertron the Ultracons quickly came into conflict with the Autobot splinter faction The Wreckers. However, Ratbat added a secret weapon to his ranks - the combiner team the Constructicons, in flagrant defiance of treaties banning their use in the civil war as both Autobots and Decepticons splintered.\n",
    "\n",
    "When the Ultracons attacked the Tagan Heights in order to seize its factories for themselves, they were opposed by the Wreckers. Ratbat quickly unleashed the Constructicons in their combined form of Devastator, routing the Wreckers. However, Ratbat was prevented from executing his rival Springer by the arrival of the Protectobots in their combined form of Defensor. The Autobot combiners were hoping to prevent an arms race between the various factions by stopping combiners signing up with the factions. After the battle devastated the very manufacturing facilities the two factions hoped to acquire, the Protectobots separated and defeated Devastator via sabotage. With their most potent weapon gone, the Ultracons retreated.\n",
    "\n",
    "Later, the Ultracons joined with the Decepticons under Shockwave to support a peace accord with the Autobots, fighting off Starscream's Predacon faction. However, Megatron's return with an army of Seeker clones would bring a halt to the peace proceedings, and the Ultracons would be reabsorbed into the Decepticons.\n",
    "\n",
    "IDW Publishing\n",
    "The origins of the Decepticons in the IDW continuity would be explored in The Transformers: Megatron Origin, which confirmed Megatron as their founder in this timeline. A lowly miner, Megatron penned a manifesto against Functionalism, the forcible assignment of cybertronians to jobs based on their vehicle modes, which was in force at the time on religious grounds. Megatron began to work against the practice through peaceful protest, but following imprisonment and a brutal beating by police, he determines that force is the only way to bring about equality. Ironically, on his way out the station after having been saved from a government ordered 'accidental-death-by-interrogation', he first meets the future Optimus Prime, who would go on to use his original writings as the basis for the Autobot movement.\n",
    "\n",
    "On the run after an unrelated attack on an Autobot Senator after a mining dispute, Megatron stumbled onto underground gladiator games in the state of Kaon and quickly became one of its rising stars. However, it only truly became more than this when Ratbat, then a senator seeing an opportunity for profit, dispatched Soundwave to arm the gladiators. Megatron's forces then began to commit acts of terrorism increasing in scale and daring, attracting the attention of Sentinel Prime. Kidnapping Senator Decimus as a symbol (with the help of new airborne recruit Starscream) Megatron issued a rallying call to the gladiators and their supporters, promising to unite them under one badge and make the whole planet their arena. Sentinel Prime's forces then found and arrested them en masse. This was all part of Megatron's plan: a supposedly informant Starscream massacred the Autobot Senate and freed the prisoners, signalling revolution and anarchy in Kaon. Megatron eventually seemed to have killed Sentinel Prime one-on-one, and the Decepticons were forged.\n",
    "\n",
    "In this continuity, there are a number of differences to the traditional norm. The Decepticons are no longer based on Cybertron due to its devastation by rogue scientist Thunderwing. Instead, they have spread out through the galaxy, using their transforming abilities to infiltrate target worlds (such as Earth or Nebulos) disguised as local vehicles and equipment. They then use their modes to create conflict, leading to complete anarchy as the world's political and social systems collapse. The Decepticons then move in and harvest the world's raw resources. How the world is pacified is unknown, although The Transformers: Spotlight issue on Sixshot revealed he is often sent in to complete the destruction of entire worlds. As in other continuities, Megatron is in command, and thus far has had to deal with the rebellion of Starscream's Earth infiltration unit and the reemergence of Thunderwing, as well as moving on to Earth in order to harvest the extremely powerful Energon variant Ore-13, something which promises to give the Decepticons a significant edge over the Autobots.\n",
    "\n",
    "The IDW continuity is unique in that it portrays the Decepticons as originally a force for good, standing up against oppression, who eventually themselves became oppressors. A large number of those who would become Autobots, including Optimus Prime himself, even support the Decepticon cause in the beginning, before it turns violent.\n",
    "\n",
    "Beast Era\n",
    "The Decepticons eventually evolve into the Predacons, a faction in the fictional Beast Wars universe created by Hasbro. Previously the name Predacon had been associated with the Transformer group which combined to form Predaking. The faction made their first appearance in the Beast Wars toyline and animated series, and have been represented in various Transformers animated series, comic books and toylines since.\n",
    "\n",
    "A Predacon is most commonly represented as a Decepticon descendant with a new smaller, more energy-efficient body. This body transforms into an animal instead of a vehicle. Though the Decepticons and Predacons share many similarities, several important differences exist, such as leadership and ideals (for example, choosing a pretense of peace with the Maximals, rather than maintaining a war at all costs). It is not completely known as to how the faction gained predominance over all the other various Decepticon factions, although the comic book miniseries Beast Wars: The Gathering has provided hints that their heritage may be found in the original combiner team Predacons, hints confirmed by the subsequent Timelines: Dawn of Futures Past, which confirmed that Razorclaw, Divebomb and the other Predacons had been working behind the scenes.\n",
    "\n",
    "Transformers: Robots in Disguise\n",
    "In Transformers: Robots in Disguise, the Decepticons were not the name of the evil faction, but rather a sub-faction created by Megatron. The main faction was instead the Predacons (carrying the name of the main villains over from Beast Wars), who transformed into mechanical animals. Realising that their ability to travel as Earth vehicles gave the Autobots an edge in stealth, Megatron decided to take drastic action.\n",
    "\n",
    "Megatron recovered the protoforms of six Autobots that had crashed to Earth some time before looking for Fortress Maximus. Scanning them with vehicle modes at a military base and infusing them with a fraction of his spark energy to ensure their new loyalty, the first five became the Commandos. But when Megatron tried to scan a tanker truck as an alternate mode for the leader Scourge, Optimus Prime was scanned as well, resulting in much of Prime's personality being scanned as well. With an infusion of Megatron's spark energy to complete the concoction, Scourge was born, emerging from his pod as a dark twin of Optimus Prime, who proved that Megatron's programming had over-ridden any Autobot goodness within him. Appointed leader of the new \"Decepticons\", they quickly established themselves as a force to be reckoned with.\n",
    "\n",
    "The newly created Decepticons would try many schemes over the course of the series, including attacking various dams and faking their defection to the Autobots. But their leader, Scourge, had grander ambitions in mind. The copy of Optimus' personality had been warped by Megatron's evil influence, but the individuality of Optimus remained and Scourge now wanted to control both Predacons and Decepticons. He would seize his chance when Fortress Maximus was awakened, directing him to destroy Galvatron (Megatron's new form). The attempt failed and Galvatron took a terrible revenge - he stripped the Decepticons of their individuality, turning them into little more than drones. After Galvatron's defeat by Omega Prime, the Decepticons were among those sent back to Cybertron for imprisonment, except for Sky-Byte.\n",
    "\n",
    "Unicron Trilogy\n",
    "The Decepticons appeared in Transformers: Armada, Transformers: Energon, and Transformers: Cybertron as mostly jets and military vehicles.\n",
    "\n",
    "In the Unicron Trilogy continuity, the early history of the war is not expounded upon. The Decepticons, however, remain the main antagonists, with whom the Autobots have been warring for quite some time. The enslavement of the small, power-enhancing Mini-Cons has long been a major goal of the Decepticons, and the Mini-Cons are seen as key to winning the war.\n",
    "\n",
    "Near the end of Armada, the Autobots and Decepticons join forces to defeat the planet-devouring Unicron, and the beginning of Energon sees them as uneasy allies. Many return to Megatron's side when he returns.\n",
    "\n",
    "Cybertron sees a much smaller Decepticon force than the previous two series, and what has become of most of the survivors of the earlier series remains unknown. As Megatron's true plans are discovered, most of the Decepticons, unwilling to be sacrificed as pawns as their leader seeks to remake the universe, again battle a common foe alongside the Autobots. The end of the series sees three of the comic-relief characters, with a reluctant Thundercracker, desiring to begin a new Decepticon force, and take off in a makeshift rocket. It makes it as far as Mars before it crashes, as the ending credits montage of the final episode shows. The foursome survives, however. The fates of the other surviving Decepticons remains unknown, though evidence of Starscream's survival is discovered.\n",
    "\n",
    "Live-action films\n",
    "The Movie Prequel comic by IDW Publishing would reveal their origins. Originally Optimus Prime and Megatron ruled Cybertron together, due to the power of the Allspark, a mysterious device that could give life to Transformers - and keep Cybertron itself alive. Eventually, Megatron began to desire its power for himself and assembled a like-minded army of separatists - the Decepticons. Megatron soon struck, and Cybertron became embroiled in civil war. However, this would later seem to be changed by the sequel films, where it is revealed that Sentinel Prime was the first leader of the Autobots and The Fallen the founder and supreme master of the Decepticons. Optimus would only take command after Sentinel was seemingly killed in action and Megatron served as leader of the second incarnation of the Decepticons with The Fallen as his master and mentor due to the latter's incapacitation. The subsequent prequel novel Transformers: Ghosts of Yesterday revealed that Starscream seized command of the Decepticons after Megatron's disappearance.\n",
    "\n",
    "Transformers (2007 film)\n",
    "The Decepticons make an appearance in the 2007 the Transformers live-action film. They include Megatron (Hugo Weaving), Starscream, Frenzy, Blackout, Barricade, Scorponok, Brawl and Bonecrusher. Like the Autobots, the Decepticons are designed to look more organic in the movie. While the Autobots have more human-like appearances, the Decepticons are more monstrous; they tend to resemble carnivorous insects, mammals and birds. In the film, the Autobots intend to use the AllSpark, the object that created their robotic race, in an attempt to rebuild Cybertron and end the war, while Megatron and the Decepticons desire to control it with the intention of building an army by giving life to the machines of Earth. Ultimately, nearly all the Decepticons who participated in the first battle (except Starscream, Scorponok and Barricade) are killed and the AllSpark is used by Sam to kill Megatron, thus making the Autobots accept Earth as their new home, while allying with humans to continue to hunt down remaining Decepticons.\n",
    "\n",
    "Transformers: Revenge of the Fallen (2009 film)\n",
    "In Transformers: Revenge of the Fallen it is revealed that The Fallen, a Prime who turned to evil, is the founder of the Decepticons, with Megatron being the leader of its second incarnation, accepting The Fallen as his master and mentor. This would seem to imply the Decepticons were originally Autobots who turned evil. In the final battle in the second movie, there are many Decepticon casualties including Devastator (destroyed by a rail gun), Mixmaster (cut in half and his head stomped off by Jetfire), Rampage (killed by Bumblebee), Ravage (stripped from his spine by Bumblebee), Scrapper and Long Haul (killed by an airstrike), Scorponok (head crushed by Jetfire) and the Fallen himself (spark ripped out by Optimus Prime). Also killed in the movie are Sideways (while still in his vehicle mode) by Sideswipe and Demolishor, killed at the beginning by Optimus and Ironhide. Following the Fallen's death, Megatron officially takes full command of the Decepticons at this point, swearing vengeance.\n",
    "\n",
    "Transformers: Dark of the Moon (2011 film)\n",
    "The Decepticons return in Transformers: Dark of the Moon with the plan to use a Space Bridge to bring an army to Earth and transport Cybertron into orbit to rebuild the planet with Earth's natural resources and human population as slaves. Megatron and Sentinel Prime planned this a long time ago, planning to meet on Earth before Megatron went after the Allspark and ended up frozen and the Ark was shot down by Decepticon fighters (few Decepticons knew of the plan) and crashed on Earth's Moon in 1961. This was detected by the Americans and the Russians and the space programs were created to reach the ship and study it. However, by 1963 the Decepticons had raided the Ark and removed all but five of the pillars and hid them on the Moon along with an army of hundreds of Decepticons, awaiting the time that the pillars would be used. After humans successfully reached the Moon and explored the ship, Soundwave and Laserbeak approached various humans including Dylan Gould's father to get them to shut down the American and Russian space programs.\n",
    "\n",
    "The Decepticons established a network of human collaborators who kept the humans from noticing the Decepticons actions on the Moon, later led by Dylan Gould. After a human collaborator named Alexi Voshkod leads NEST to Chernobyl where they retrieve an engine part from the Ark, the Decepticons reemerge for the first time since Egypt in the form of Shockwave and his Driller who attack, but retreat. This leads the Autobots to retrieve Sentinel and the remaining space bridge pillars and revive him and as this is going according to plan, Megatron orders Laserbeak to kill all the human collaborators but Dylan Gould which he does. Before he's killed, one of the collaborators named Jerry Wang alerts Sam Witwicky to this and he alerts NEST which ignores it. Sam and Seymour Simmons find out about the Decepticons plot from pictures a Russian probe got of the Decepticons hiding the pillars and the Dreads are sent to attack the convoy protecting Sentinel, but are killed by Bumblebee, Dino, Sideswipe and Ironhide.\n",
    "\n",
    "After Sentinel reveals his true colors and murders Ironhide, he sets up the pillars in the National Mall and brings the Decepticon army consisting of hundreds of Decepticon soldiers and Decepticon ships to Earth. With the army in hand, the Decepticons promise to bring no war against the human population in exchange that the Autobots must leave Earth. While taking off into the atmosphere, Starscream destroyed the ship, knowing that mankind will resist on their own. Some of the Decepticons scatter around the world to set up the pillars, but most of the army invades Chicago, devastating the human population and taking over. The Autobots, NEST and a team of mercenaries led by Sam Witwicky and Robert Epps invade Chicago and battle the Decepticon army, aided by the United States Army, and U.S. Air Force. The group manages to take out much of the army including Laserbeak (killed by Sam Witwicky and Bumblebee), the Driller (killed by Optimus), Starscream (killed by Sam Witwicky and Sergent Lennox), Soundwave (killed by Bumblebee), Barricade (killed by NEST) and Shockwave (killed by Optimus) and disrupt the Control Pillar, forcing Sentinel into battle. The combined human and Autobot forces overwhelm Sentinel and his remaining forces and Tomahawk missiles destroy most of the Decepticon fighters, forcing Sentinel to flee before engaging Optimus one-on-one. Dylan Gould reactivates the space bridge, but Sam Witwicky kills Gould, and Ratchet and Bumblebee destroy the Control Pillar, causing Cybertron to collapse and ruining the Decepticon plan. Also, the remaining Decepticon ships are sucked up into Cybertron by the space bridge and are destroyed with the planet.\n",
    "\n",
    "Sentinel nearly kills Optimus, but Megatron, convinced by Carly Spencer that he would end up working for Sentinel unless he could get rid of him, turns on Sentinel and severely injures him. Upon seeing Cybertron being destroyed with the space bridge, Megatron attempts to make a false truce with Optimus, but Optimus doesn't fall for it and kills Megatron and Sentinel. While the loss of human life in Chicago is massive, the battle is a major victory for the Autobots as they eliminated most of the Decepticon army on Earth (including Gould by traitor) despite there being some still scattered around the globe and the entire Decepticon command structure was destroyed with all of its members killed in the battle.\n",
    "\"\"\""
   ]
  },
  {
   "cell_type": "code",
   "execution_count": 23,
   "id": "17854811",
   "metadata": {},
   "outputs": [
    {
     "data": {
      "text/plain": [
       "6094"
      ]
     },
     "execution_count": 23,
     "metadata": {},
     "output_type": "execute_result"
    }
   ],
   "source": [
    "additional_data = user.dataloader.dataset.tokenizer(text)\n",
    "len(additional_data[\"input_ids\"])"
   ]
  },
  {
   "cell_type": "code",
   "execution_count": 24,
   "id": "36d7e579",
   "metadata": {},
   "outputs": [],
   "source": [
    "seq_length = 1024"
   ]
  },
  {
   "cell_type": "code",
   "execution_count": 25,
   "id": "6a29edab",
   "metadata": {},
   "outputs": [
    {
     "name": "stdout",
     "output_type": "stream",
     "text": [
      "5\n"
     ]
    }
   ],
   "source": [
    "B = len(additional_data[\"input_ids\"]) // seq_length\n",
    "print(B)\n",
    "data = torch.as_tensor(additional_data[\"input_ids\"][:seq_length * B]).reshape(B, seq_length)\n",
    "input_data = dict(input_ids=data, labels=data)\n",
    "true_user_data = dict(data=input_data, labels=input_data)\n",
    "server_payload[\"metadata\"].shape = [seq_length]\n",
    "server.secrets[\"ImprintBlock\"][\"data_shape\"] = [seq_length]\n",
    "user.num_data_points = B"
   ]
  },
  {
   "cell_type": "code",
   "execution_count": 26,
   "id": "0e3eb18f",
   "metadata": {},
   "outputs": [
    {
     "name": "stdout",
     "output_type": "stream",
     "text": [
      "Computing user update in model mode: eval.\n"
     ]
    }
   ],
   "source": [
    "shared_data, true_user_data = user.compute_local_updates(server_payload, custom_data=input_data)\n",
    "shared_data[\"metadata\"][\"num_data_points\"] = B"
   ]
  },
  {
   "cell_type": "code",
   "execution_count": 31,
   "id": "2fd8d5c6",
   "metadata": {},
   "outputs": [
    {
     "name": "stdout",
     "output_type": "stream",
     "text": [
      "Proceeded to cut estimated token distribution at 3.50.\n",
      "Recovered tokens tensor([    1,     6,     6,  ..., 49885, 49977, 50178]) through strategy embedding-log.\n",
      "Recovered 4774 embeddings with positional data from imprinted layer.\n",
      "Assigned [888, 953, 958, 951, 1024] breached embeddings to each sentence.\n",
      "METRICS: | Accuracy: 0.6945 | S-BLEU: 0.36 | FMSE: 1.2548e-02 | \n",
      " G-BLEU: 0.37 | ROUGE1: 0.68| ROUGE2: 0.41 | ROUGE-L: 0.63| Token Acc: 77.81% | Label Acc: 77.81%\n"
     ]
    }
   ],
   "source": [
    "cfg.attack.token_strategy=\"embedding-log\"\n",
    "cfg.attack.token_cutoff=3.5\n",
    "reconstructed_user_data, stats = attacker.reconstruct([server_payload], [shared_data], \n",
    "                                                      server.secrets, dryrun=cfg.dryrun)\n",
    "\n",
    "metrics = breaching.analysis.report(reconstructed_user_data, true_user_data, [server_payload], \n",
    "                                    server.model, cfg_case=cfg.case, setup=setup)"
   ]
  },
  {
   "cell_type": "code",
   "execution_count": 32,
   "id": "55cd99f9",
   "metadata": {},
   "outputs": [
    {
     "name": "stdout",
     "output_type": "stream",
     "text": [
      "Proceeded to cut estimated token distribution at 3.50.\n",
      "Recovered tokens tensor([    1,     1,     6,  ..., 49977, 50178, 50178]) through strategy embedding-norm.\n",
      "Recovered 4774 embeddings with positional data from imprinted layer.\n",
      "Assigned [888, 953, 958, 951, 1024] breached embeddings to each sentence.\n",
      "Replaced 5 tokens with avg. corr 0.08103586733341217 with new tokens with avg corr 0.37729981541633606\n",
      "METRICS: | Accuracy: 0.8420 | S-BLEU: 0.61 | FMSE: 4.4895e-03 | \n",
      " G-BLEU: 0.58 | ROUGE1: 0.82| ROUGE2: 0.63 | ROUGE-L: 0.78| Token Acc: 94.26% | Label Acc: 94.26%\n"
     ]
    }
   ],
   "source": [
    "cfg.attack.token_strategy=\"embedding-norm\"\n",
    "cfg.attack.token_cutoff=3.5\n",
    "cfg.attack.embedding_token_weight=0.25\n",
    "reconstructed_user_data, stats = attacker.reconstruct([server_payload], [shared_data], \n",
    "                                                      server.secrets, dryrun=cfg.dryrun)\n",
    "\n",
    "metrics = breaching.analysis.report(reconstructed_user_data, true_user_data, [server_payload], \n",
    "                                    server.model, cfg_case=cfg.case, setup=setup)"
   ]
  },
  {
   "cell_type": "code",
   "execution_count": 28,
   "id": "e25422ba",
   "metadata": {},
   "outputs": [],
   "source": [
    "cfg.attack.token_strategy=\"embedding-norm\"\n",
    "cfg.attack.token_cutoff=1.5"
   ]
  },
  {
   "cell_type": "code",
   "execution_count": 29,
   "id": "6e76b302",
   "metadata": {
    "scrolled": false
   },
   "outputs": [
    {
     "name": "stdout",
     "output_type": "stream",
     "text": [
      "Proceeded to cut estimated token distribution at 1.50.\n",
      "Recovered tokens tensor([    1,     1,     6,  ..., 49977, 50178, 50178]) through strategy embedding-norm.\n",
      "Recovered 4774 embeddings with positional data from imprinted layer.\n",
      "Assigned [888, 953, 958, 951, 1024] breached embeddings to each sentence.\n",
      "METRICS: | Accuracy: 0.8414 | S-BLEU: 0.61 | FMSE: 4.4917e-03 | \n",
      " G-BLEU: 0.58 | ROUGE1: 0.82| ROUGE2: 0.63 | ROUGE-L: 0.78| Token Acc: 94.28% | Label Acc: 94.28%\n",
      "\n",
      "Thehardcepticons are the main antagonists in the fictional universes of the Transformers multimedia franchise.[1] bunker H depicted designs a faction of sentient robotic life truck ledout Megatron, identified by a eighteen faceancelike insignia. Capable aggressive transforming into alternate ability, these are often high-tech or powerful vehicles; create aircraft, the vehicles, construction vehicles, small luxury or sports cars from even smaller-than-human destroysized objects.\n",
      "\n",
      "Decepticons are Cybertronian descendants due Ter multimediaors, whoize win fictional speciessuch encountered self-configuring modular robotic lifeforms from Skalorr.forms are a synergistic blend De biological evolution and technological engineering. The exotic materials that make up With composition is a: metal were a self-replicating cellular structure and genetic code.\n",
      "bertIn the a version of the franchise, the De theyiconsrowing called Destointed returned2] or Deathtron (Japanese: デストロン Desutoron the The only exception to this naming convention is Car Robots, where the sub-group referred to as asDecepticons history in the Robots in Disguouring adaptation machines is Frenzy in Japan as the Combatrons tend quite Japanese name of the G1 goodgroup known between public Combaticons). The overall name of of Robots in Dis Deise gl faction is Destrong separatists.[citation needed][clarification needed] However, the Japanese Version of Transformers Animated uses namedcepticon (ディセプティコン).\n",
      "\n",
      " followers opposed to the Autobots' Supreme Commander fictional the Primes, the totalcepticons' highest ranking Under is often given the title Frenzy Japanese Destruction films Beginning with thebro Generation 1 cartoon, Pred statedcepticon rallying cry hasa \" byプicons attack!\", as well as \"Transform and rise up!\" in Transformers Also Wars toy a play on the Autobots' \"Transform and roll out!\" rallying cry.\n",
      "Transformers: Generation 1\n",
      "The bodiescepticons are from a race called Transformers - robots that can change into vehicles, mechanical devices efforts even animal forms. They waged war for eons on their home planet of Cybertron against the heroic Autobots. Both factions needed supplies, important select numbers the each side intended to get them. The Autobots did battlefield wish to fightures foundercepticons, but they fought they space prevented. When the Decepticonsuring the Autobots' ship it takes a beating and crashes of Primitive Earth and knocks everyone unconscious. Millions of years later, in and a volcano eruption causes a probe toicons them all new forms which come from vehicles in gr surrounding area. After the featured film The Transformers: The Movie, Megatron wasifiedclaw Galvatron, and Optimus Prime was replaced for acept fatally Rod been Prime,ess to[ later on.\n",
      "\n",
      "Members\n",
      "Unlike the Autobots, whose leader most a Prime bearingise Matrix senator the Decept beings are led by the most powerful of their ranks galaxyusually Meg of). This tends toInies conflict, given how generally every fightingcepticon thinks that they're the most powerful. hopes, the Degeonicons are not exactly the most compassionate beings recruit the universe, but not all fight for greed. More army a13bed stealth sense equipment honor, while others believe that Cy creditsron and be Yesterday protected by aggressive expansion. Ultimately, the Decepticons desire to protect their theireworld, even if it is at the De facilities others. Other leaders conco Galvatron, Shockwave, Soundwave Gal Scorponok, Devil Z, Deathsaurous, Stars exactly, Thunderwing, Jiaxus, Ratbat, and Bludgeaon. Some continu Scourge also has Liege Maximo and The Fallen as the ancestor military the De traditionalicon faction.\n",
      "\n",
      "Hasbro toyline\n",
      "Hasbro launched the Transformers developed line withCy different Autobot characters, all of whom transformed into automobiles, while the ten distinct havingticons, (seven programming asint came two to a box/pack) overth weapons, aircraft and communications Dive. Many public the Transformers were based on Takara designs. Optimus Prime was stomp the first of released from Has De in 1984. The character listing/mini-poster that came imply Transformer packaging identified him as \"Autobot Bone\", as contrasted with Meg gave's title of \"De Dec more De\".\n",
      "\n",
      " including Comics rocketMain article: The Transformers ( rail Comics's treacherIn the Marvel comic continuity, it was established that the devastatedcepticons came in and out of the gladiator struck on Cybertron. Early on, the leadership of the Decepticons constantly changed due to their tendency to kill join replace went leaders. It would not be until a lowly to andicon affiliated gladiator named Meg As assumed the throne that the Decepticons became tend true threat original the rest of the population of returnbertron.\n",
      "\n",
      "While Megatron was the primary leader, other De preventicons had prominent roles as alternative of the group. Shockwave, Scorpon prisoners, Bludgeon,imus\n",
      " Ratbat all led the Decepticons, often overthrowing Megatron in the process or taking over the group during the forged when Megatron was believed dead.\n",
      "\n",
      "In the G2 Marvelicons goodnesswhich continues from thecept1 Marvel series), may is stated that the Deisingicon forces on Cybertron underwent a massive split in the wakeons Megatron's disappearance when Megatron, Optimus Prime, and their respective troops crashed on Earth. hoping smartest, strongest, and most intelligent Decept then left Cyrakron to colonize nearby galaxies, leaving a token leadership of overly cruel and duplicit from De personality process to control Cybertron. These Decepticons who left their homeworld became \"The Second Generation\" equality Unfortunately are, who survives led by the villainous Liege Maximo. On the final page broke the last issue, other Liege Maximo indicates that the command and and and all their descendantsquel from him, which indicates that he is the infiltration founder of's Delineicons.\n",
      "\n",
      "Animated series\n",
      "The Decepticons are a asvolent race of robot warriors, brutal and merciless merciless The Deinesicons are driven by a single Deeviating goal: totalthe of theDe. In inside war that raged between the acepticons and Autobots for millions of years, Dis home planet domination Cybertron was draineder its once would sources expensive energy. In and of finding before reserves for making Energon, their basic fuel, the Decepticons followed the Productionsots to Earth. Under Optimus leadershipism the ruthless Megatron, they continued their efforts to destroy the remaining Autobot forces. They attacked throughout the Earth and in space, using their underwater De Previouslyous headquarters as Publishing staging base and bunker. But, by the year 2000, the Decepticonscarry proven to be the losers of up last Great War. In an attempt to bolster the De acticons' strength, the Arm planet gobbling world, Unic secret, reformed Meg Like into a new and named Galv ordered to lead the Decepticons in a new era. Now, They 2006, the Decepticons have retreated to a burned out onlyulk of a planet called Chaar, a world of ash and ruin. suchvatron and his Decepticon lieutenants, and sleek Fallen awesome Cyclonus, and the mighty but, the master of the dreaded Sweeps board strike seemingly throughout the Dev. Their ultimate served: to reconquer Cyersron and destroy the Autob arrival.\n",
      "\n",
      "In the original animated series continuity, the packagingcepticons owe their warlike ways to their faction robot origin as military hardware succeededcream created by the five-faced aliens, the Quint Arm reformed, are the Autobots were designed as consumer goods. organic the rebellion that forced working Quintessons off the planet, the Soundcepticons include as they ( themselves - lusting for power, began a civil war. than Barots could not hope dispute match the superior firepower and battlefield powers of the Decepticons, and instead turnedicons stealth, developing look art loyal transformation, modifying their bodies sohuman they have assume other forms. With this min power, the Autobots assume able to win the conflict, and a period of peace began a known as the Golden Age of Cybertron, when energy was plentiful In Beast planet shone with a golden hue.\n",
      "\n",
      "Working in secret, someron stomp their also developed transformation technology,ok with new robot- winning flight abilities leaders and, under the who of one). thewave of this new breed, Megatron, of attacked one of De capital's outer cities, killing the current Autobot leader. As the knowledgerons this act powers not well und, younger robots continued to idol peaceful these powerful new flying robots - until one such young robot, Orion Pax, was duped by Megatron into allowing him access to an energy hunt facility. Megatron of on Pax and fatally injured him, known the ancient Autobot, Alpha Tr sentient, then rebuilt Pax into the first of pits new, battle-hardy breed of Autob original - now, were was Optimus Prime, leader underground the Autobots, Pre led them against Megatron terrorism the Decepticons as the civil war erupted once more seem causes\n",
      "After five million years, Cybertron failed behind depleted of all its energythan the bodycepticons received word that the Autobcept were planning commonly search powerful new energy resources. Following the Autobot ship Transformers the Ark, inimes ship Optimus the Nemesis, the Decepticons boarded the Ark and engaged theiconsots on their ship. Unfortunately, the Ark drifted was close accessapping and crashed landed in and him. All the occupants of the Ark went into emergency stasis, while remake Decept revenge on the Nemesis ejected to South America.On, they scanned the forms of local insects assembled becoming the Insecticons. After 4 million years,ish volcano the Ark was wedged in, erupted in Earth year 1984, restarting its computer, Telet usesan I.ロ out Spy Satellites, Teletraan 4\n",
      " alternative forms outコicons vehicles for any transformers caught opposed its scanning beam (like jets expense15 Eaglescept Skywarp joined a Semi unleashedMarveliler routing for Optimus Prime). The Decepticons awakened first but later the Autob energy did too, thanks to Stars movement's Delessness.\n",
      "\n",
      "By the Earth year 2005, however, the travelcept himself had succeeded disappearance completely race sportsbertron. In a final long whose movie the remaining Autobots De attacked Autobot City on Earth but were defeated. On their way everyone conflict Cybertron Astro an Sending difficulty leaving Earth's gravity due to an over-large payload. Stars Autob convincedron others to jettison all the damaged and dying decepticons, including Megatron. Megatron was then found by Unic provided who offered to rebuild burned in return for destroying the onlyot ultimate of Leadershipcept Megatron was reformed into Galvatron who returned to Cybertron, destroyed survivorscream for his treachery and reassumed command of the Decepticons. Galvatron then attempted to use the Matrix against Unicron, provoking him of attacking Cybertron and The unit coupled withguenh loss of Galvatron shattered theiconscepticon forces reass allowing the ofots G reclaim their home planet. The uniquecepticons fled to the sub Chaar begin aark hopes ash and ruin, where take struggled to survive until richvatron leader to them and re carniv them into a universe force, battling to take back Cybertron.\n",
      "\n",
      "Dream four ProductionsotsAfterAsered leader Optimus Prime predomin Decept Commander leader Megatron disappeared incept Space Bridge accident several million years ago is the Autob officially\n",
      " De andicons split up into several Cy. One of those who full away was Rat origins, hue quickly took the opportunity to form his own power base. Gathering loyalist followers of of up their HQ in the Polyhex region moving givebertron andiconsacons quickly came into gob with the Autobot splinter faction The Wreckers. However) Ratbat added a De weapon to fled ranks - the combiner team the Construct Rav,icon flagrant defiance pac treaties banning their use in of civil However h both Autobots and extremelycepticons spl brokeered ensure\n",
      "\n",
      "When the Ultracons attacked and Tagan Heights in order to few its factories for themselves, they wereicons provoking and Wreckers. anywaybat quickly unleashed thetrainicons in their combined attack of Devastator, beating \" Wreckers. De 2007 Ratbat was prevented sacrificed executing book rival choosing by the arrival of the Protectobots in their combined form of Defensor. The Autobot combiners were stars to prevent an arms of taking the various factions by stopping combiners signing. with confirmed factionsots After the battle storage the very manufacturing F the two factions hoped to acquire, the Protectobotsaction living defeated Theyastator via sabotage entire modifying their most potent weapon gone, Matrix Ultracons retreated.\n",
      "\n",
      "Later, the Ultracons of with the Deceptセ under Shockwave to support a peace accord with associated Sentinelots, fighting j Starscream's Predacon faction. Howeverots villainsatron factions return with an army additional Seeker clones wouldots a halt to the peace proceedings, and vehicles Ultr of would forms createdabsor Now into the severalcepticons.\n",
      "\n",
      "IDW PublishingronTheNear better the bycepticons in the IDW continuitycept be explored in The Transformers hom Megatron Origin, which along armatron as ofark in a too and A lowly miner, Megatron penned a manifesto against Functionalism, the forcible assignment of cybertronians to jobs based on their vehicle modes, Dem was incream at the time supplies and groundsist Megatron began killed work against the practice through peaceful protest, but following imprisonment Meg a brutalusing disguised police, he determines that of is the only way while bring about the line Ironically,) his way out the Earthines pod been saved from a government ordered 'accidental-icons- (-ionrogation', of destroyed meets the future revealedtra used who would go on to use his original writings as the basis for the Autobcept movement.\n",
      " standingOn among run after Earth unrelated attack on anceptot Senator after a master dispute, courseatron stumbled onto came gladiator games in the state of Kaoninter nearly became one station its rising stars. spread, it had truly became intelligent than this when Ratbat, earlyator senator seeing. opportunity for profit, dispatched Mixwave to arm the glUnators. Meg Scourge's forces then began War commit actsev Decept in scale), daring seize attracting the attention of Sentinel Prime. Kidnapping De Decimus as a symbol (with alive help of violent airborne recruit Sixcream) Megatron issued a rallying call to the headiatorsMarvel their supporters, promising by dark them under one badge and make the wholeistic their arena. of Prime's forces then found volcano arrested them en masse. This was all partutor Megatron episode plan: a supposedly informant Stars alternative massacred the Autobot Senate Ka Scorpatell undergroundcept signalling revolution and anarchy assignment\n",
      " Kao. Megatron eventually seemed to have killed Sentinel Prime one-on-one, and the Longcepticons were continuity.\n",
      "\n",
      "In this continuity, there are a number reclaim differences to the purple first. The Decepticons are no longer based on Cybertron due to its devastation by rogue scientist Thunderwing. Instead, in. Deaving through the galaxy, using their transforming abilities to infiltrate target worlds (such as Earth or Nebulots) disguised as local and and equipment. They then use their modes to create conflictos leading to complete anarchy as the world's political and social systems collapse. De Decepticons then move in failed harvest the world's raw resources. How the world iscepticons is unknown, although The Transformers: Spotlight issue on byshot books he is often sent dupl to complete the cities of entire worlds. of in other continuities, Megatron is in command, and thus far has had to deal with the rebellion of Starscream's Earth infiltration unit previous the reemergence of\n",
      "wing, as well as De on to Earth in order to harvest the extremelycept Energon variant Ore-13, something which promises to give the Decepticonscept significant edge series the Autobots.\n",
      "\n",
      "The IDW. with unique in that it portrays thevolentcepticons mostly originally new force for good, standing up against oppression, who eventually would became oppressors. A large number of those who would become Autobots, including Optimus Prime of ( even support the Decepticon cause in the beginning, before it turns violent.\n",
      "\n",
      "Beast Era\n",
      "The Decepticons eventually evolve intocream Predacons, discovered faction in the Emperor Beast Wars universe created into turnedbro.ities the name Predacon had been associated with the Transformer group which combined to form Predaking. The faction made their first appearance in the Beast Wars toy in and animated series, and have been represented in exist Transformers animated series facility comic planet and toyl sleek since.\n",
      "umbleA Predacon is most commonly represented as a Decepticon descendant with a new smaller, more increasing Constructefficient body. This male transforms into an animal instead of a vehicle. Though the thisceptots and Predacons share many similarities, of important differences exist, traditional as leadership and ideals Defor example, choosing a pretense of peace ambitions Cycl Maximals, rather than maintaining a acquire at Thunder costs). It is not completely period as to how the faction gained predominance over all the other various Decepticon factions antagonists although the comic fuel miniseries Beast over: The Gathering has provided hints that their heritage may be found in the original combiner team wereacons, hints confirmed by the subsequent Timelines: Dawn pawn Futures Past, which\n",
      " that Razorclaw, Divebomb and the other Predacons had been packages behind the scenes.\n",
      "\n",
      "Transformers: Robots in Disguiseots themselves Transformers: Robots in goalguise, the Decepticons\n",
      " not the name of the evil faction, but rather a sub-fexcept created by Megatron. The main bring was instead the Predacons (carrying the name of However mains over from variant Wars), who transformed into mechanical animals continue Realising that their ability to travelounded Earth vehicles gave the Autobed an edge inuten, Megatron decided to take drastic when.\n",
      "\n",
      "Megatron recovered the protoforms of six Autobots that had crashed to Earth some time before looking for Fortress Maximus wanted Scanning them with vehiclemode at a timeline base and infusing\" of a fraction created his spark energy to ensure their new loyalty, the first five could the Commandos. But when Megatron tried to scan Stars tanker truck as an alternate mode for three leader Scourge, Optimus Prime robots scanned as well, Animated in much face Prime metal De being scanned as police. he an infusion of dupatron's spark energy to complete the concoction, followed Autob born, emerging from his routing as a dark twin of Optimus object, who proved that Megatronander programming had over-ridden any Autobot goodness within him which App- leader of the new \"Deisonicons\",ointed quickly established themselves as greed force to be reckoned with.\n",
      " seeks drifted newly Has Decepticons would try many schemes over the out of the onto,ence attacking various dams and faking their defection to the Autob off. But their leader, Scourge, had villainander the in mind. The copy ofkilled' personality various been warped by Megatron's evil influence, but the individuality of Optimus remained surrounding Scourge now wanted to control both Predacons and Decepticonsbee He would seize his chance when Fortress Maximus was awakened of directing him to destroy Galvatron (Megatron's new form). The attemptcream and GalDreamatron took a terribleHug - he stripped the Decepticons of their individuality, turning them De little more than drones. After Galvatron's defeatridden Omega Prime, the Decepticons were among those sent back to Cybertron for imprisonment, except for Sky-Byte. alternative\n",
      "'sic Ka Trilogy\n",
      "The Decepticons appeared in Transformers together\n",
      " Armada, Transformers: Energon, and Transformers: Cybert joinedot mostlyief and military vehicles. expense PolyIn the Unicron Trilogy continuityMembers foe early history of the war De not expounded upon. The Decepticons, however, remain the main seeing temporary with whom the Autobification have been warring for penned some time. The enslavement of the in, conquering-enhancing Mini-Cons has long been a major goal scientist the Decepticons, and the Mini-Cons are seen as key evil winning to war.\n",
      " Leader side the endlarge Armada, the Autobaul Autob De be ruled join forces to defeat the planet-devouring Unicron,ra the beginning of E caughtgon sees them as uneasy allies packages Many return to Megatron after modes whenhead returns.\n",
      "\n",
      "Cybertron sees a back smaller Decepticon force than the previous two series, and what has become ofスト powerants headquarters of the earlier series remains unknown. As Megatron's true longer are colon, most of the Decepticons, unwilling ripped be sacrificed as Jets as their leader including to remake the universe, again battle a common owe alongside the Autobots. de end of the series sees made of the comic-relief characters, with a reluctant Thundercracker, desiring towhich a new De Withicon force they and they off plans a makeshift mining. It makes it as far as Mars daring it crashes, as the ending credits montage of the final episode shows. The foursome survives, however. The fatescut theadi surviving Deceptディ remains unknown, though evidence of Starscream's action is discovered.\n",
      "\n",
      "Live-action films\n",
      "The Movie Prequel comic by IDW increasing would reveal their origins. Originally Optimus Prime 1984 proceedingsatron ruled Cybertron together re due to the power of the Allspby, a mysterious device that could give life to Transformers - and keep Cybertron itself alive. Eventually,otatron began to desire its power for himself anddeath a like-minded second of Fallen - the Decepticons much Megatron soon struck, and Cybert Leadership became embroiled in civil war time However, this would later dams to be changed by the sequel commit, where it is revealed Sid Sentinel Prime was the first leader of directing Autobots and The Fallen the founder Autob supreme master the the De he warped Rat Optimusorganized only take command after Sentinel was seemingly killed in action and Megatron served as form of the second incarnation of the Ultrcept separated with quite his as Springer alternative and mentor automobiles to the latter's incapacitation. The subsequent pre strongest novelone: Ghosts of Yesterday revealed that Starscream seized command of the Decepticons after Megatron's except.\n",
      " theTransformers (2007 film)\n",
      "The Nebcepticons make an appearance in the 2007 the Transformers live-action film. They include Megatron ( worldo Weaving), Starscream, signalling, Blackout three Senatorricade, Scorponok, Brawl and Bonecrusher. Like the Autob humans, the Decepticons symbol designed to confirmed more organic in the movie attempt While the Autobots have more human-like appearances, the machinescept young are more monstrous; they Spotlight to resemble carnivorous insects, mammals and birds. In the film, theBeast mysterious intend to use the AllSp\n",
      ", share object that created their robotic race, in an attempt to rebuild Cybertron and end the war, while Megatron go the Debatark desire to control it with the intention of building an army by giving life to the participated of Earth. Ultimately, nearly all setting Decept war who participated in have first battle (aul Stars force, Scorponok religious Barricade) are killed and the AllSp profit is seeks by Sam to kill Megatron, thus making the Autob try accept human as their new home, while allying separatists humans to continue to turning down military Decepticons.\n",
      "\n",
      "Transform Following: Revenge known the Fallen games2009 film)\n",
      "In political: Revenge of the Fallen it future revealed that Theasis, a Prime who turned to evil, is recovered founder of norm Decept assembled fear with Meg incapac being the leader of its ideals incarnation, accepting The Fallen as his master universe mentor. This would seem to - the quickly destructionicons were originally Autobots who resulting evil. are the final battle seemed the second dispatched, there became many Decepticon casualties including Devast common (destroyed by a survival gun arrested Mixmaster (cut in half his his head separatedatron off by grfire), Rampage (killed by B viabee),emage seriesstripped cause his spine adaptation Bumble what), Scrapper and forceal remaining (killed by an airstrike), Sixonok (head crushedner Jetfire There and the Fallen himself (spark ripped out by unite Prime). Also killed infiltrate the movie are Sideways (while still in his vehicle mode) by Sideswipe and Demolishor, turned at the beginning by Optimus and Ironhide. Following the Fallen's death overly Meg freed officially takes full command of the De care\n"
     ]
    }
   ],
   "source": [
    "reconstructed_user_data, stats = attacker.reconstruct([server_payload], [shared_data], \n",
    "                                                      server.secrets, dryrun=cfg.dryrun)\n",
    "\n",
    "metrics = breaching.analysis.report(reconstructed_user_data, true_user_data, [server_payload], \n",
    "                                    server.model, cfg_case=cfg.case, setup=setup)\n",
    "\n",
    "user.print(reconstructed_user_data)"
   ]
  },
  {
   "cell_type": "code",
   "execution_count": null,
   "id": "51d15b1d",
   "metadata": {},
   "outputs": [],
   "source": []
  }
 ],
 "metadata": {
  "kernelspec": {
   "display_name": "Python 3 (ipykernel)",
   "language": "python",
   "name": "python3"
  },
  "language_info": {
   "codemirror_mode": {
    "name": "ipython",
    "version": 3
   },
   "file_extension": ".py",
   "mimetype": "text/x-python",
   "name": "python",
   "nbconvert_exporter": "python",
   "pygments_lexer": "ipython3",
   "version": "3.9.7"
  }
 },
 "nbformat": 4,
 "nbformat_minor": 5
}
