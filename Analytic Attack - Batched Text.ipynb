{
 "cells": [
  {
   "cell_type": "markdown",
   "id": "3ebef44a",
   "metadata": {},
   "source": [
    "# Breaching privacy"
   ]
  },
  {
   "cell_type": "markdown",
   "id": "a756fc5f",
   "metadata": {},
   "source": [
    "This notebook does the same job as the cmd-line tool `simulate_breach.py`, but also directly visualizes the user data and reconstruction"
   ]
  },
  {
   "cell_type": "code",
   "execution_count": 1,
   "id": "b850eabf",
   "metadata": {},
   "outputs": [],
   "source": [
    "import torch\n",
    "import hydra\n",
    "from omegaconf import OmegaConf\n",
    "%load_ext autoreload\n",
    "%autoreload 2\n",
    "\n",
    "import breaching\n",
    "import logging, sys\n",
    "logging.basicConfig(level=logging.INFO, handlers=[logging.StreamHandler(sys.stdout)], format='%(message)s')\n",
    "logger = logging.getLogger()"
   ]
  },
  {
   "cell_type": "markdown",
   "id": "88d5e214",
   "metadata": {},
   "source": [
    "### Initialize cfg object and system setup:"
   ]
  },
  {
   "cell_type": "markdown",
   "id": "56bd663b",
   "metadata": {},
   "source": [
    "This will print out all configuration options. \n",
    "There are a lot of possible configurations, but there is usually no need to worry about most of these. Below, a few options are printed."
   ]
  },
  {
   "cell_type": "markdown",
   "id": "26070d66",
   "metadata": {},
   "source": [
    "Choose `case/data=` `shakespeare`, `wikitext`over `stackoverflow` here:"
   ]
  },
  {
   "cell_type": "code",
   "execution_count": 2,
   "id": "a7dc3a48",
   "metadata": {},
   "outputs": [
    {
     "name": "stdout",
     "output_type": "stream",
     "text": [
      "Investigating use case single_imagenet with server type malicious_transformer_parameters.\n"
     ]
    },
    {
     "data": {
      "text/plain": [
       "{'device': device(type='cpu'), 'dtype': torch.float32}"
      ]
     },
     "execution_count": 2,
     "metadata": {},
     "output_type": "execute_result"
    }
   ],
   "source": [
    "with hydra.initialize(config_path=\"config\"):\n",
    "    cfg = hydra.compose(config_name='cfg', overrides=[\"case/data=wikitext\", \"case/server=malicious-transformer\",\n",
    "                                                      \"case.model=transformer3p\",\n",
    "                                                      \"attack=decepticon\"])\n",
    "    print(f'Investigating use case {cfg.case.name} with server type {cfg.case.server.name}.')\n",
    "          \n",
    "device = torch.device(f'cuda:0') if torch.cuda.is_available() else torch.device('cpu')\n",
    "torch.backends.cudnn.benchmark = cfg.case.impl.benchmark\n",
    "setup = dict(device=device, dtype=torch.float)\n",
    "setup"
   ]
  },
  {
   "cell_type": "markdown",
   "id": "203c5fb1",
   "metadata": {},
   "source": [
    "### Modify config options here"
   ]
  },
  {
   "cell_type": "markdown",
   "id": "6e0764ef",
   "metadata": {},
   "source": [
    "You can use `.attribute` access to modify any of these configurations:"
   ]
  },
  {
   "cell_type": "code",
   "execution_count": 52,
   "id": "ac118ea0",
   "metadata": {},
   "outputs": [],
   "source": [
    "cfg.case.user.num_data_points = 16 # How many sentences?\n",
    "cfg.case.user.user_idx = 1 # From which user?\n",
    "cfg.case.data.shape = [64] # This is the sequence length\n",
    "\n",
    "cfg.case.data.tokenizer = \"gpt2\"\n",
    "\n",
    "cfg.case.server.has_external_data = True\n",
    "\n",
    "cfg.case.server.param_modification.v_length = 6*3\n",
    "\n",
    "cfg.case.server.param_modification.eps = 1e-4\n",
    "cfg.case.server.param_modification.imprint_sentence_position = 0\n",
    "cfg.case.server.param_modification.softmax_skew = 10000000\n",
    "cfg.case.server.param_modification.sequence_token_weight = 1"
   ]
  },
  {
   "cell_type": "markdown",
   "id": "76f64389",
   "metadata": {},
   "source": [
    "### Instantiate all parties"
   ]
  },
  {
   "cell_type": "code",
   "execution_count": 53,
   "id": "30235b0c",
   "metadata": {},
   "outputs": [
    {
     "name": "stdout",
     "output_type": "stream",
     "text": [
      "Reusing dataset wikitext (/home/jonas/data/wikitext/wikitext-103-v1/1.0.0/aa5e094000ec7afeb74c3be92c88313cd6f132d564c7effd961c10fd47c76f20)\n",
      "Reusing dataset wikitext (/home/jonas/data/wikitext/wikitext-103-v1/1.0.0/aa5e094000ec7afeb74c3be92c88313cd6f132d564c7effd961c10fd47c76f20)\n",
      "Model architecture transformer3p loaded with 11,095,345 parameters and 0 buffers.\n",
      "Overall this is a data ratio of   10835:1 for target shape [16, 64] given that num_queries=1.\n",
      "User (of type UserSingleStep) with settings:\n",
      "    Number of data points: 16\n",
      "\n",
      "    Threat model:\n",
      "    User provides labels: False\n",
      "    User provides buffers: False\n",
      "    User provides number of data points: True\n",
      "\n",
      "    Data:\n",
      "    Dataset: wikitext\n",
      "    user: 1\n",
      "    \n",
      "        \n",
      "Server (of type MaliciousTransformerServer) with settings:\n",
      "    Threat model: Malicious (Parameters)\n",
      "    Number of planned queries: 1\n",
      "    Has external/public data: True\n",
      "\n",
      "    Model:\n",
      "        model specification: transformer3p\n",
      "        model state: default\n",
      "        \n",
      "\n",
      "    Secrets: {}\n",
      "    \n",
      "Attacker (of type DecepticonAttacker).\n"
     ]
    }
   ],
   "source": [
    "user, server, model, loss_fn = breaching.cases.construct_case(cfg.case, setup)\n",
    "attacker = breaching.attacks.prepare_attack(server.model, server.loss, cfg.attack, setup)\n",
    "breaching.utils.overview(server, user, attacker)"
   ]
  },
  {
   "cell_type": "markdown",
   "id": "548c0ad6",
   "metadata": {},
   "source": [
    "### Simulate an attacked FL protocol"
   ]
  },
  {
   "cell_type": "markdown",
   "id": "2058bcc2",
   "metadata": {},
   "source": [
    "True user data is returned only for analysis"
   ]
  },
  {
   "cell_type": "code",
   "execution_count": 54,
   "id": "3f2a2e33",
   "metadata": {},
   "outputs": [
    {
     "name": "stdout",
     "output_type": "stream",
     "text": [
      "torch.Size([96, 1536])\n",
      "torch.Size([96, 1536])\n",
      "torch.Size([96, 1536])\n",
      "Computing feature distribution before the linear1 layer from external data.\n",
      "Feature mean is 0.007005429361015558, feature std is 1.0136948823928833.\n"
     ]
    }
   ],
   "source": [
    "server_payload = server.distribute_payload()\n",
    "shared_data, true_user_data = user.compute_local_updates(server_payload)"
   ]
  },
  {
   "cell_type": "code",
   "execution_count": 55,
   "id": "69c6ff1f",
   "metadata": {},
   "outputs": [
    {
     "name": "stdout",
     "output_type": "stream",
     "text": [
      " The Tower Building of the Little Rock Arsenal, also known as U.S. Arsenal Building, is a building located in MacArthur Park in downtown Little Rock, Arkansas. Built in 1840, it was part of Little Rock's first military installation. Since its decommissioning, The Tower Building has housed two museums. It\n",
      " was home to the Arkansas Museum of Natural History and Antiquities from 1942 to 1997 and the MacArthur Museum of Arkansas Military History since 2001. It has also been the headquarters of the Little Rock Æsthetic Club since 1894. \n",
      " The building receives its name from its distinct octagonal tower. Besides being the last\n",
      " remaining structure of the original Little Rock Arsenal and one of the oldest buildings in central Arkansas, it was also the birthplace of General Douglas MacArthur, who became the supreme commander of US forces in the South Pacific during World War II. It was also the starting place of the Camden Expedition. In 2011 it was named as one of\n",
      " the top 10 attractions in the state of Arkansas by <unk> \n",
      " The arsenal was constructed at the request of Governor James Sevier Conway in response to the perceived dangers of frontier life and fears of the many Native Americans who were passing through the state on their way to the newly established Oklahoma Territory. Thirty @-@\n",
      " six acres were appropriated on the outskirts of Little Rock by Major Robert B. Lee of the U.S. Army. The land had been previously used as a racetrack by the local jockey club. John Wormley Walker, a builder for the Federal Government, supervised the construction. Originally $ 14 @,@\n",
      " 000 was allocated for the construction of the arsenal, but proved inadequate. The budget was later increased to $ 30 @,@ 000. Work began on the Tower Building in 1840, and it was the first permanent structure of the arsenal to be built. Being originally constructed to store ammunition, the building was designed with 3 @\n",
      "-@ foot @-@ thick ( 0 @.@ 91 m ) exterior walls. The original plans called for it to be built of stone, however, masonry was used instead. The Arkansas Gazette referred to the structure as \" A splendid specimen of masonry \". \n",
      " For several years the arsenal, which\n",
      " was owned by the federal government, served as a simple arms depot and was staffed with only a handful of soldiers. But in November 1860, with the American Civil War on the horizon, a company of the Second United States Artillery, consisting of sixty @-@ five men, was transferred to Little Rock under the command\n",
      " of Captain James Totten. On January 15, 1861, the state legislature decided to hold a referendum to determine if a state convention should be held to consider the issue of secession and to elect delegates to such a convention. It was planned for February 18 ; however, events at the arsenal, would not wait. On January\n",
      " 28, then Governor Henry Massey Rector informed Captain Totten that he and his soldiers would be \" permitted to remain in the possession of the Federal officers until the State, by authority of the people, shall have determined to sever their connection with the General Government, \" Totten responded to this by telling the Governor that\n",
      " his orders came from the United States Government and began a desperate but ultimately futile dispatch of letters and telegrams asking for reinforcements, although rumors were widely spread that they were already coming. The first telegraph wire to span between Little Rock and Memphis had recently been completed. Local attorney John M Harrel was asked to compose\n",
      " the first telegraph dispatched from Arkansas's capital. In his message, Harrel reported unconfirmed rumors that more federal troops had been sent to reinforce the Little Rock Arsenal. \n",
      " The United States troops at the outposts of the western frontier of the state and in the Indian nation have all been recalled from winter quarters\n",
      " to reinforce the garrison at Fort Smith. The garrison at Fort Smith had been previously transferred to the United States Arsenal in this city ( Little Rock ). The arsenal is one of the richest depositories of military stores in the United States and is supposed to be the ultimate destination of the <unk> [ sic ] ordered\n",
      " from the frontier. \n",
      " <unk> M Harrel Telegram, January 31, 1861 \n",
      " The item was intended simply as a piece of news, but telegraph lines quickly spread the news throughout the state, fueling procession sentiment. The rumor was interpreted by some Arkansans as a call from the governor to assemble\n",
      " to help expel the federal troops from the arsenal. By February 5, six militia units, consisting of 1 @,@ 000 men, with a guarantee that the numbers could be increased to 5 @,@ 000 if the situations deemed it necessary, had assembled in Little Rock. Governor Rector vehemently denied ordering the troops to\n",
      " assemble or giving any order at all in connection with the troops. Faced with the fact that the military had assembled believing they were following his orders and the consensus of the citizens of Little Rock against any armed conflict between the civilian army and federal troops, Governor Rector was forced to take control of the situation. On February\n"
     ]
    }
   ],
   "source": [
    "user.print(true_user_data)"
   ]
  },
  {
   "cell_type": "markdown",
   "id": "f2867bcc",
   "metadata": {},
   "source": [
    "# Reconstruct user data"
   ]
  },
  {
   "cell_type": "code",
   "execution_count": 56,
   "id": "ef39b769",
   "metadata": {},
   "outputs": [],
   "source": [
    "attacker.cfg.sentence_algorithm =\"dynamic-threshold\""
   ]
  },
  {
   "cell_type": "code",
   "execution_count": 57,
   "id": "d78e30e7",
   "metadata": {
    "scrolled": false
   },
   "outputs": [
    {
     "name": "stdout",
     "output_type": "stream",
     "text": [
      "Recovered tokens [[11, 12, 13, 29, 31, 50, 82, 198, 220, 228, 257, 262, 264, 278, 284, 285, 286, 287, 290, 291, 301, 307, 309, 317, 318, 319, 326, 329, 337, 339, 340, 347, 351, 352, 355, 357, 366, 371, 373, 376, 379, 383, 393, 407, 416, 422, 423, 428, 441, 465, 468, 471, 474, 475, 477, 484, 503, 504, 508, 511, 513, 517, 530, 543], [547, 550, 554, 555, 561, 573, 587, 597, 611, 617, 632, 635, 636, 642, 657, 661, 663, 685, 691, 705, 714, 717, 720, 734, 739, 764, 788, 812, 815, 832, 835, 837, 838, 852, 867, 869, 871, 884, 887, 938, 959, 973, 1011, 1022, 1028, 1037, 1109, 1114, 1141, 1181, 1201, 1204, 1230, 1248, 1267, 1279, 1294, 1295, 1315, 1353, 1363, 1438, 1444, 1450], [1455, 1478, 1502, 1541, 1542, 1550, 1566, 1568, 1578, 1605, 1625, 1630, 1636, 1664, 1705, 1708, 1742, 1745, 1748, 1749, 1750, 1757, 1810, 1811, 1812, 1829, 1900, 1908, 1936, 1956, 1957, 1965, 2071, 2074, 2098, 2113, 2158, 2159, 2162, 2236, 2237, 2286, 2361, 2366, 2378, 2391, 2406, 2411, 2422, 2427, 2488, 2520, 2540, 2581, 2615, 2627, 2656, 2714, 2717, 2750, 2813, 2829, 2873, 2882], [2904, 2952, 2954, 2995, 3066, 3074, 3139, 3141, 3146, 3170, 3220, 3250, 3261, 3269, 3275, 3277, 3306, 3352, 3386, 3389, 3399, 3411, 3430, 3444, 3501, 3520, 3562, 3584, 3599, 3611, 3650, 3683, 3690, 3700, 3704, 3706, 3790, 3942, 3945, 3951, 4043, 4104, 4137, 4176, 4271, 4290, 4318, 4385, 4397, 4466, 4619, 4631, 4637, 4645, 4728, 4737, 4920, 4934, 4983, 4991, 5004, 5070, 5101, 5103], [5140, 5149, 5199, 5292, 5295, 5358, 5407, 5428, 5498, 5521, 5618, 5668, 5741, 5795, 5824, 5878, 6027, 6136, 6149, 6165, 6184, 6198, 6266, 6289, 6401, 6412, 6427, 6503, 6546, 6553, 6587, 6699, 6768, 6832, 6898, 6936, 7000, 7082, 7310, 7374, 7443, 7445, 7475, 7511, 7703, 7714, 7748, 7797, 7815, 7981, 8153, 8211, 8302, 8308, 8309, 8337, 8386, 8599, 8616, 8713, 8765, 8830, 9128, 9149], [9250, 9436, 9474, 9594, 9831, 9988, 10043, 10089, 10120, 10251, 10431, 10433, 10495, 10580, 10714, 10762, 10807, 10965, 11066, 11067, 11107, 11172, 11204, 11467, 11506, 11529, 11561, 11583, 11819, 12006, 12068, 12111, 12433, 12547, 12842, 12877, 13325, 13620, 13837, 14271, 14538, 14667, 14773, 14920, 14923, 15265, 15598, 15796, 15928, 16030, 16051, 16169, 16173, 16216, 16238, 16606, 17700, 17747, 17810, 19171, 19318, 19486, 19594, 20522], [262, 262, 262, 262, 262, 262, 262, 262, 2579, 5637, 20577, 20897, 21085, 21879, 22458, 23707, 24348, 24375, 24742, 24875, 24989, 25219, 25432, 26562, 26608, 26969, 27098, 27580, 27923, 27965, 28477, 28505, 28679, 29156, 29948, 30140, 30794, 31674, 32316, 35322, 36349, 36664, 37196, 37637, 37918, 37968, 38076, 38578, 38772, 38950, 42327, 43084, 43314, 43369, 43881, 45278, 45416, 46466, 46626, 47331, 47784, 47789, 48145, 50203], [262, 262, 262, 262, 262, 262, 262, 262, 262, 262, 262, 262, 262, 262, 262, 262, 262, 262, 262, 262, 262, 262, 262, 262, 262, 262, 262, 262, 262, 262, 262, 262, 262, 262, 262, 262, 262, 262, 286, 286, 286, 286, 286, 286, 286, 286, 286, 286, 764, 764, 764, 764, 764, 837, 837, 837, 837, 837, 837, 837, 837, 837, 837, 837], [262, 262, 262, 262, 262, 262, 262, 262, 262, 262, 262, 262, 262, 284, 284, 284, 284, 284, 284, 284, 284, 284, 284, 284, 286, 286, 286, 286, 286, 286, 286, 286, 286, 286, 286, 286, 286, 373, 764, 764, 764, 764, 764, 764, 764, 764, 764, 764, 764, 764, 764, 837, 837, 837, 837, 837, 837, 837, 837, 837, 837, 837, 837, 837], [257, 257, 257, 257, 262, 262, 262, 262, 262, 262, 262, 284, 284, 284, 284, 284, 284, 284, 286, 286, 286, 286, 286, 286, 287, 287, 287, 287, 287, 287, 290, 290, 290, 290, 290, 290, 373, 373, 373, 373, 373, 373, 373, 383, 383, 383, 383, 764, 764, 764, 764, 764, 764, 764, 837, 837, 837, 837, 837, 837, 4631, 4631, 7703, 7703], [31, 31, 31, 31, 257, 257, 257, 257, 262, 262, 262, 262, 284, 284, 284, 284, 286, 286, 286, 286, 287, 287, 287, 287, 290, 290, 290, 290, 351, 355, 373, 373, 373, 373, 383, 383, 383, 383, 416, 422, 764, 764, 764, 764, 837, 837, 837, 837, 2488, 2488, 2488, 2488, 4631, 4631, 4631, 4631, 4631, 7703, 7703, 7703, 7703, 7703, 14538, 24375], [13, 13, 31, 198, 198, 220, 220, 257, 257, 262, 262, 284, 284, 286, 286, 287, 287, 290, 290, 307, 307, 326, 326, 329, 340, 340, 351, 351, 355, 355, 373, 373, 379, 379, 383, 383, 416, 416, 422, 422, 547, 550, 550, 587, 587, 764, 764, 837, 837, 1181, 1181, 1578, 1829, 2488, 4631, 6553, 6553, 7703, 10807, 13837, 14538, 14538, 24375, 24375], [11, 13, 31, 31, 198, 198, 220, 220, 257, 262, 284, 286, 287, 290, 307, 307, 319, 326, 326, 329, 340, 340, 351, 351, 355, 355, 366, 373, 379, 383, 416, 416, 422, 422, 547, 550, 550, 573, 587, 587, 632, 635, 717, 764, 837, 1181, 1578, 1829, 2488, 2488, 2717, 4631, 4631, 6553, 6553, 7703, 7703, 10807, 11819, 13837, 14538, 14538, 24375, 24375], [11, 12, 13, 29, 31, 257, 262, 284, 285, 286, 287, 290, 309, 318, 319, 329, 355, 366, 371, 373, 379, 383, 416, 422, 465, 475, 530, 547, 573, 632, 635, 663, 717, 764, 837, 1181, 1279, 1550, 1578, 1829, 2113, 2411, 2422, 2488, 2615, 2717, 2954, 3269, 3945, 4631, 4645, 4728, 5070, 7703, 8765, 9250, 10807, 11819, 12877, 13837, 16606, 24375, 27580, 46626], [11, 12, 13, 29, 198, 220, 285, 307, 309, 318, 319, 326, 329, 340, 351, 366, 371, 379, 465, 468, 471, 475, 484, 530, 547, 550, 573, 587, 632, 635, 663, 717, 1181, 1279, 1450, 1550, 1578, 1829, 2113, 2411, 2422, 2615, 2717, 2954, 3220, 3269, 3700, 3945, 4637, 4645, 4728, 5070, 6553, 8765, 9250, 10807, 11819, 12877, 13837, 14538, 16606, 17747, 27580, 46626], [50, 82, 257, 262, 284, 286, 287, 290, 337, 357, 373, 383, 423, 428, 477, 504, 508, 511, 554, 561, 597, 611, 642, 705, 720, 764, 837, 973, 1022, 1201, 1248, 1267, 1705, 1757, 1810, 2158, 2488, 2540, 2656, 3170, 3611, 4104, 4176, 4271, 4631, 5103, 5618, 5795, 6266, 6401, 7443, 7703, 8599, 9594, 9831, 11172, 12006, 14923, 16030, 19594, 38950, 45278, 45416, 47784]] through strategy decoder-bias.\n",
      "Recovered 903 embeddings with positional data from imprinted layer.\n",
      "Assigned [60, 54, 60, 64, 59, 64, 59, 20, 57, 58, 57, 64, 64, 54, 56, 53] breached embeddings to each sentence.\n",
      "tensor([0.3406, 0.2665, 0.3061, 0.3064, 0.5213, 0.2584, 0.3518, 0.3348, 0.4714,\n",
      "        0.5091, 0.3979, 0.5003, 0.5675, 0.4174, 0.3961, 0.3766, 0.4405, 0.4776,\n",
      "        0.4676, 0.4568, 0.3604, 0.1763, 0.3831, 0.3503, 0.1394, 0.3769, 0.5115,\n",
      "        0.3886, 0.3708, 0.4352, 0.1829, 0.3179, 0.3516, 0.5351, 0.3693, 0.5174,\n",
      "        0.3394, 0.4007, 0.4641, 0.3473, 0.4813, 0.3913, 0.3560, 0.3254, 0.1823,\n",
      "        0.2847, 0.3628, 0.4727, 0.4506, 0.4545, 0.4503, 0.4159, 0.5477, 0.5141,\n",
      "        0.2785, 0.3903, 0.4438, 0.2224, 0.3625, 0.4650])\n",
      "tensor([0.5389, 0.5440, 0.3127, 0.3494, 0.2763, 0.4954, 0.3862, 0.4542, 0.3045,\n",
      "        0.2799, 0.3887, 0.4064, 0.3771, 0.3381, 0.3641, 0.4612, 0.3831, 0.3731,\n",
      "        0.3072, 0.4981, 0.5650, 0.3150, 0.4524, 0.3189, 0.4375, 0.3925, 0.2576,\n",
      "        0.4648, 0.3559, 0.3954, 0.3220, 0.4638, 0.5353, 0.3762, 0.3467, 0.4512,\n",
      "        0.4450, 0.4932, 0.4503, 0.4930, 0.3534, 0.3016, 0.3931, 0.1911, 0.3233,\n",
      "        0.4035, 0.3805, 0.3079, 0.5442, 0.2962, 0.2903, 0.2847, 0.4226, 0.3127])\n",
      "tensor([0.4751, 0.2834, 0.3865, 0.4460, 0.3943, 0.5484, 0.2274, 0.3713, 0.4007,\n",
      "        0.3990, 0.3261, 0.2977, 0.5467, 0.5097, 0.3262, 0.3195, 0.3376, 0.4884,\n",
      "        0.2722, 0.4796, 0.3526, 0.5572, 0.2987, 0.2670, 0.2325, 0.3736, 0.4926,\n",
      "        0.3344, 0.2459, 0.5914, 0.4343, 0.4947, 0.3718, 0.2927, 0.4163, 0.3605,\n",
      "        0.3315, 0.3974, 0.3430, 0.5099, 0.4383, 0.3912, 0.2144, 0.4201, 0.2809,\n",
      "        0.4404, 0.3985, 0.3586, 0.1392, 0.2872, 0.1386, 0.2399, 0.2662, 0.3919,\n",
      "        0.5080, 0.3588, 0.2699, 0.2332, 0.4095, 0.3795])\n",
      "tensor([0.1317, 0.4740, 0.2130, 0.4252, 0.3014, 0.3266, 0.4349, 0.3448, 0.3139,\n",
      "        0.3309, 0.4636, 0.3232, 0.4364, 0.2983, 0.5551, 0.3623, 0.4058, 0.1684,\n",
      "        0.1681, 0.5013, 0.1825, 0.4413, 0.4308, 0.3990, 0.3262, 0.3008, 0.2953,\n",
      "        0.3533, 0.2007, 0.1997, 0.5426, 0.2332, 0.4172, 0.4171, 0.1674, 0.3933,\n",
      "        0.4566, 0.0959, 0.3844, 0.0704, 0.4331, 0.3386, 0.1634, 0.3884, 0.4491,\n",
      "        0.3748, 0.3718, 0.1876, 0.4042, 0.5786, 0.4253, 0.2046, 0.4386, 0.1766,\n",
      "        0.3641, 0.3415, 0.4985, 0.2678, 0.4343, 0.2803, 0.5546, 0.3927, 0.4646,\n",
      "        0.1662])\n",
      "tensor([0.3784, 0.2169, 0.5137, 0.3585, 0.3737, 0.2664, 0.3154, 0.3199, 0.5480,\n",
      "        0.3200, 0.3860, 0.3240, 0.3639, 0.1820, 0.4676, 0.3067, 0.4505, 0.2807,\n",
      "        0.3724, 0.3654, 0.5523, 0.1921, 0.6022, 0.4029, 0.5022, 0.4559, 0.4157,\n",
      "        0.3235, 0.5622, 0.3758, 0.2963, 0.3074, 0.4763, 0.3289, 0.4963, 0.2531,\n",
      "        0.3384, 0.3580, 0.4871, 0.2596, 0.5326, 0.5877, 0.6033, 0.1742, 0.2412,\n",
      "        0.4118, 0.3187, 0.3296, 0.3696, 0.3118, 0.4119, 0.2276, 0.2500, 0.5617,\n",
      "        0.2005, 0.4769, 0.4532, 0.4290, 0.5023])\n",
      "tensor([0.3958, 0.2454, 0.0839, 0.3266, 0.3332, 0.5396, 0.2507, 0.5179, 0.3046,\n",
      "        0.3216, 0.3510, 0.4714, 0.2976, 0.4358, 0.4061, 0.1057, 0.5112, 0.3396,\n",
      "        0.3295, 0.5121, 0.4531, 0.4765, 0.2245, 0.3449, 0.2717, 0.4413, 0.3055,\n",
      "        0.5331, 0.3457, 0.3883, 0.3561, 0.3707, 0.5055, 0.4132, 0.6246, 0.2568,\n",
      "        0.3047, 0.2628, 0.5419, 0.3757, 0.4740, 0.2708, 0.3388, 0.5216, 0.5469,\n",
      "        0.3884, 0.4956, 0.1728, 0.2309, 0.3019, 0.4142, 0.2809, 0.4202, 0.4647,\n",
      "        0.5143, 0.3997, 0.4882, 0.3021, 0.3745, 0.5220, 0.4319, 0.3582, 0.2739,\n",
      "        0.3877])\n",
      "tensor([0.1443, 0.4111, 0.3358, 0.2188, 0.4686, 0.5533, 0.2607, 0.3604, 0.4464,\n",
      "        0.3293, 0.5320, 0.4889, 0.3373, 0.3528, 0.4409, 0.4847, 0.5275, 0.1882,\n",
      "        0.2464, 0.2439, 0.3660, 0.4155, 0.5406, 0.3288, 0.5875, 0.3514, 0.4301,\n",
      "        0.5523, 0.3770, 0.4413, 0.3310, 0.4153, 0.4225, 0.4454, 0.2031, 0.4567,\n",
      "        0.5627, 0.4992, 0.3230, 0.3688, 0.3067, 0.3828, 0.3380, 0.3544, 0.2213,\n",
      "        0.1766, 0.5378, 0.4815, 0.3883, 0.5136, 0.3312, 0.4680, 0.4679, 0.5460,\n",
      "        0.3605, 0.2941, 0.5404, 0.2831, 0.4076])\n",
      "tensor([0.3235, 0.3784, 0.2780, 0.3573, 0.5820, 0.3970, 0.3128, 0.3604, 0.2679,\n",
      "        0.3802, 0.2753, 0.5379, 0.4342, 0.3448, 0.2184, 0.3898, 0.3226, 0.4746,\n",
      "        0.3882, 0.2836])\n",
      "tensor([0.4740, 0.3634, 0.5823, 0.5555, 0.3440, 0.3966, 0.3692, 0.5354, 0.1866,\n",
      "        0.4159, 0.3659, 0.3357, 0.5125, 0.3475, 0.5156, 0.4312, 0.3054, 0.3174,\n",
      "        0.4297, 0.3814, 0.3715, 0.4219, 0.4441, 0.5263, 0.4832, 0.3235, 0.4005,\n",
      "        0.3848, 0.5059, 0.3885, 0.3757, 0.5901, 0.2473, 0.5259, 0.1978, 0.4025,\n",
      "        0.2043, 0.2765, 0.3509, 0.3657, 0.3669, 0.4142, 0.3984, 0.3970, 0.5878,\n",
      "        0.4452, 0.4163, 0.2166, 0.4465, 0.1982, 0.2071, 0.4695, 0.3927, 0.2414,\n",
      "        0.3574, 0.4214, 0.4635])\n",
      "tensor([0.3677, 0.2721, 0.1781, 0.4331, 0.2530, 0.5396, 0.3395, 0.4714, 0.3161,\n",
      "        0.2038, 0.4720, 0.4847, 0.3098, 0.2331, 0.3604, 0.3191, 0.2131, 0.3695,\n",
      "        0.4305, 0.3058, 0.4425, 0.4246, 0.4375, 0.4012, 0.1178, 0.4103, 0.5029,\n",
      "        0.5374, 0.3130, 0.3844, 0.4380, 0.3299, 0.3607, 0.5284, 0.2875, 0.3098,\n",
      "        0.3748, 0.3379, 0.5415, 0.5301, 0.4005, 0.3472, 0.2695, 0.2478, 0.3297,\n",
      "        0.4491, 0.4028, 0.4481, 0.4420, 0.2386, 0.2710, 0.2845, 0.4271, 0.4915,\n",
      "        0.5755, 0.3890, 0.4358, 0.2546])\n",
      "tensor([0.4723, 0.3710, 0.3619, 0.3382, 0.4398, 0.3108, 0.6023, 0.5449, 0.3785,\n",
      "        0.2949, 0.3939, 0.4523, 0.4452, 0.4037, 0.4227, 0.4919, 0.4298, 0.3347,\n",
      "        0.1898, 0.3831, 0.4220, 0.3670, 0.2886, 0.4913, 0.4069, 0.4867, 0.2953,\n",
      "        0.4104, 0.3547, 0.3837, 0.4007, 0.3863, 0.4098, 0.3749, 0.4582, 0.3387,\n",
      "        0.3996, 0.4032, 0.4383, 0.3768, 0.3412, 0.4380, 0.2140, 0.4441, 0.3898,\n",
      "        0.4566, 0.4025, 0.3331, 0.4899, 0.3677, 0.3835, 0.6079, 0.2879, 0.5338,\n",
      "        0.4360, 0.4154, 0.2972])\n",
      "tensor([0.4023, 0.3847, 0.3270, 0.1253, 0.5465, 0.3535, 0.5386, 0.1968, 0.3741,\n",
      "        0.3926, 0.3560, 0.2084, 0.2595, 0.4654, 0.5194, 0.2202, 0.2268, 0.3805,\n",
      "        0.1512, 0.4186, 0.1837, 0.1462, 0.4890, 0.4227, 0.4742, 0.4124, 0.2496,\n",
      "        0.1066, 0.4639, 0.4159, 0.4070, 0.2606, 0.3880, 0.3526, 0.2353, 0.3654,\n",
      "        0.5239, 0.4260, 0.1486, 0.1578, 0.5104, 0.2628, 0.4473, 0.3850, 0.5901,\n",
      "        0.5484, 0.4765, 0.2290, 0.2018, 0.4344, 0.4882, 0.4180, 0.5376, 0.3695,\n",
      "        0.4318, 0.3210, 0.3119, 0.4142, 0.3660, 0.3457, 0.4294, 0.4463, 0.4258,\n",
      "        0.4095])\n",
      "tensor([0.4717, 0.3823, 0.3657, 0.1616, 0.2802, 0.3942, 0.2541, 0.4933, 0.1683,\n",
      "        0.3438, 0.2654, 0.4019, 0.5419, 0.5188, 0.2692, 0.2427, 0.1857, 0.3690,\n",
      "        0.4859, 0.3235, 0.1892, 0.5551, 0.1460, 0.5016, 0.3674, 0.4742, 0.4637,\n",
      "        0.4832, 0.4580, 0.4169, 0.3691, 0.2126, 0.3983, 0.3824, 0.3239, 0.3808,\n",
      "        0.2370, 0.2420, 0.3711, 0.2821, 0.3386, 0.3266, 0.6656, 0.4261, 0.3922,\n",
      "        0.2435, 0.4946, 0.3696, 0.4268, 0.3633, 0.2706, 0.1723, 0.1200, 0.4397,\n",
      "        0.4750, 0.2550, 0.5750, 0.4650, 0.3364, 0.2551, 0.4151, 0.2781, 0.3046,\n",
      "        0.4683])\n",
      "tensor([0.4802, 0.3486, 0.6532, 0.4954, 0.4509, 0.5135, 0.3721, 0.5535, 0.5335,\n",
      "        0.2691, 0.3679, 0.4692, 0.1721, 0.3797, 0.3786, 0.4032, 0.3604, 0.3004,\n",
      "        0.2313, 0.3818, 0.2948, 0.3125, 0.4257, 0.3905, 0.3012, 0.5675, 0.2512,\n",
      "        0.4156, 0.3267, 0.3553, 0.4048, 0.5264, 0.3098, 0.4046, 0.2497, 0.3130,\n",
      "        0.5039, 0.3371, 0.6123, 0.4954, 0.2344, 0.3310, 0.4112, 0.5788, 0.3948,\n",
      "        0.3569, 0.5137, 0.3526, 0.3325, 0.4690, 0.2240, 0.4143, 0.3761, 0.2909])\n",
      "tensor([0.2827, 0.3549, 0.2646, 0.3926, 0.5492, 0.4393, 0.5480, 0.2629, 0.5466,\n",
      "        0.3922, 0.3184, 0.2738, 0.5107, 0.3100, 0.4666, 0.5114, 0.5275, 0.3382,\n",
      "        0.4531, 0.4227, 0.3769, 0.1714, 0.3958, 0.4764, 0.3207, 0.3528, 0.5022,\n",
      "        0.3886, 0.2640, 0.2540, 0.4248, 0.4363, 0.5409, 0.4866, 0.4640, 0.4606,\n",
      "        0.3556, 0.2812, 0.4150, 0.3469, 0.4871, 0.4836, 0.3757, 0.3283, 0.5703,\n",
      "        0.3969, 0.3241, 0.4612, 0.1441, 0.4086, 0.5275, 0.5421, 0.3997, 0.2452,\n",
      "        0.3338, 0.4271])\n",
      "tensor([0.4669, 0.3924, 0.5342, 0.3560, 0.3961, 0.4781, 0.2304, 0.3605, 0.4220,\n",
      "        0.3473, 0.4477, 0.2890, 0.3786, 0.4596, 0.5003, 0.3572, 0.3360, 0.3294,\n",
      "        0.3047, 0.4421, 0.2934, 0.4270, 0.6238, 0.4487, 0.3903, 0.4311, 0.4757,\n",
      "        0.2845, 0.3725, 0.2479, 0.4937, 0.2833, 0.4638, 0.4601, 0.5156, 0.3197,\n",
      "        0.2224, 0.3625, 0.3631, 0.4154, 0.4447, 0.4234, 0.3665, 0.4597, 0.5974,\n",
      "        0.4791, 0.2976, 0.4195, 0.2040, 0.2005, 0.4568, 0.4195, 0.3570])\n"
     ]
    },
    {
     "name": "stdout",
     "output_type": "stream",
     "text": [
      "METRICS: | Accuracy: 0.6836 | S-BLEU: 0.47 | FMSE: 1.5450e-01 | \n",
      " G-BLEU: 0.45 | ROUGE1: 0.76| ROUGE2: 0.46 | ROUGE-L: 0.68| Token Acc: 99.22% | Label Acc: 99.22%\n",
      " The Tower Building for the Little. Arsenal, also> as U 5S. located Building, is a the in in expel Park in downtown Little Rock, part. Built the @, it was Rock of Little Rock's first militarysey with Since known decommissioning, The Tower its has housed two museums@ the\n",
      " was of to @ Arkansas It. Natural History and Antiquities from the to 1997 1942� MacArthur Museum of Arkansas Military But since November., has also been in headquarters on the Little Rock � companyst oct Club United 1894 home \n",
      " The building receives- name from its distinct Historyagonal tower. Rock installation the its\n",
      " was of by the federal Little, Arsenal as one forces the remaining buildings owned and In, a handful also the.. General structure MacArthur, who became the supreme of Civil US horizon in the Rock Pacific during World War II. It was consisting not starting passing Camden@ five Art, was soldiers Douglas was named a the of\n",
      " the top 10 attractions in the state of Arkansas one <unk>  January The arsenal help The at the piece of Governor James Sev spread Conway in response and Captain perceived dangers of frontier life and being of the many Native Americans who were \" through the state on their way to the newly established Oklahoma of. Thirty @, item\n",
      " transferred acres were appropriated on the outskirts of Little Rock by Major Robertley. Lee his the MacArthur.etr. Army. The@ had been previously used as a rac federalack by the local jockey club. John Worm garrison Walker, a builder for the Federal Government, supervised the construction. several $ 14 @, Building\n",
      " arsenal to allocated for. construction of the Work, but proved inadequate. The budget was later a to $ 30 @,@ 000 T increased began on the Tower Building in 1840, and it was the first permanent structure of the arsenal to be built. Being originally constructed to at ammunition. the building was designed with 3 store\n",
      " which@ A Governor-@ thick original 0 @.@ 91 m ) exterior walls. The wasasonry delegates original it to be built of stone, however, m February ultimate used instead. last Arkansas Gazette foot to the structure as \"\n",
      " splendid to of masonry \". \n",
      ", ordered compose For with, Originally\n",
      " was of were arsenal- the Arkansas Arkansas The informed of, oldest of in central was 1861 it the of request thehetic to had been, orders Federal the Little War of. , in South governor F. the 18 procession first planned necessary The for the of, events at the men 2011 Territory denied that from place States\n",
      " of Captain James suchotten government only January 15, 1861, depot and legislature staffed to hold referendumillery of determine if. state convention 1860 be with to American the issue secession the and, It convention a the elect the. state was B should February sixty ; however a interpreted transferred consider to, would On wait to On held\n",
      " 28 was then Governor Henry Mas, Rector authority. Totten, he and plans soldiers would be \" permitted to remain in the possession with the constructed officers a the it, by, of the people Har shall have determined to sever their connection could the General Government until Rock Totten < to thisrel arms @ Governor and\n",
      " his of te from came Expedition States Government and began a desperate but ultimately futile dispatch arsenal letters and telegrams asking for U,ier rumors a widely as reinforcements they were already coming the that first referredlegraph wire to span between Little Rock is Memphis had recently been completed. Local attorney John M Harrel was. to Besides\n",
      " the Museum telegraph dispatched from Arkansas's capital. In his message, militia Second reported unconfirmed rumors that more federal since ( been sent to reinforce the Little Rock Arsenal the 1840\n",
      " The United States troops building the theposts of the western frontier of the state out in the Indian nation have all been recalled from winter quarters\n",
      " to reinforce the garrison at Fort of. The and at Fort Smith had commander previously Arsenal to the United States Arsenal in this city ( Little served ). The arsenal is one of the richest depositories of military stores in the United States and that supposed to the the of destination of the asunk Smith [ sic ] Rock\n",
      " from the frontier. \n",
      " ofunk> M Harrel Telegram, January 31, fears \n",
      " The called was Little simply as a < of news, but telegraph lines quickly spread the news simple the state United fueling although sentiment. units rumor was assembled by some Arkansans asked a call years telling intended to command\n",
      " to By It troops federal troops by the arsenal. @ February 5, six and 000, consisting of 1 @,@ 000 men, specimen R guarantee thataced numbers were be increased to 2001 @ a@ the if the situations deemed it under, had assembled in Little Rock. Governor respondedector vehemently State ordering the troops.\n",
      " assemble all giving any order at consensus in connection with the troops. the or with the fact any the military had birthplace believing they land followingS orders and the Little of the citizens of situation Rock against throughout armed conflict between that civilian army and by troops, decided Rector was forced to take control of the be. On also\n"
     ]
    }
   ],
   "source": [
    "reconstructed_user_data, stats = attacker.reconstruct([server_payload], [shared_data], \n",
    "                                                      server.secrets, dryrun=cfg.dryrun)\n",
    "\n",
    "metrics = breaching.analysis.report(reconstructed_user_data, true_user_data, [server_payload], \n",
    "                                    server.model, cfg_case=cfg.case, setup=setup)\n",
    "\n",
    "user.print(reconstructed_user_data)"
   ]
  },
  {
   "cell_type": "code",
   "execution_count": 58,
   "id": "0667663b",
   "metadata": {
    "scrolled": false
   },
   "outputs": [
    {
     "name": "stdout",
     "output_type": "stream",
     "text": [
      "Recovered tokens [[11, 12, 13, 29, 31, 50, 82, 198, 220, 228, 257, 262, 264, 278, 284, 285, 286, 287, 290, 291, 301, 307, 309, 317, 318, 319, 326, 329, 337, 339, 340, 347, 351, 352, 355, 357, 366, 371, 373, 376, 379, 383, 393, 407, 416, 422, 423, 428, 441, 465, 468, 471, 474, 475, 477, 484, 503, 504, 508, 511, 513, 517, 530, 543], [547, 550, 554, 555, 561, 573, 587, 597, 611, 617, 632, 635, 636, 642, 657, 661, 663, 685, 691, 705, 714, 717, 720, 734, 739, 764, 788, 812, 815, 832, 835, 837, 838, 852, 867, 869, 871, 884, 887, 938, 959, 973, 1011, 1022, 1028, 1037, 1109, 1114, 1141, 1181, 1201, 1204, 1230, 1248, 1267, 1279, 1294, 1295, 1315, 1353, 1363, 1438, 1444, 1450], [1455, 1478, 1502, 1541, 1542, 1550, 1566, 1568, 1578, 1605, 1625, 1630, 1636, 1664, 1705, 1708, 1742, 1745, 1748, 1749, 1750, 1757, 1810, 1811, 1812, 1829, 1900, 1908, 1936, 1956, 1957, 1965, 2071, 2074, 2098, 2113, 2158, 2159, 2162, 2236, 2237, 2286, 2361, 2366, 2378, 2391, 2406, 2411, 2422, 2427, 2488, 2520, 2540, 2581, 2615, 2627, 2656, 2714, 2717, 2750, 2813, 2829, 2873, 2882], [2904, 2952, 2954, 2995, 3066, 3074, 3139, 3141, 3146, 3170, 3220, 3250, 3261, 3269, 3275, 3277, 3306, 3352, 3386, 3389, 3399, 3411, 3430, 3444, 3501, 3520, 3562, 3584, 3599, 3611, 3650, 3683, 3690, 3700, 3704, 3706, 3790, 3942, 3945, 3951, 4043, 4104, 4137, 4176, 4271, 4290, 4318, 4385, 4397, 4466, 4619, 4631, 4637, 4645, 4728, 4737, 4920, 4934, 4983, 4991, 5004, 5070, 5101, 5103], [5140, 5149, 5199, 5292, 5295, 5358, 5407, 5428, 5498, 5521, 5618, 5668, 5741, 5795, 5824, 5878, 6027, 6136, 6149, 6165, 6184, 6198, 6266, 6289, 6401, 6412, 6427, 6503, 6546, 6553, 6587, 6699, 6768, 6832, 6898, 6936, 7000, 7082, 7310, 7374, 7443, 7445, 7475, 7511, 7703, 7714, 7748, 7797, 7815, 7981, 8153, 8211, 8302, 8308, 8309, 8337, 8386, 8599, 8616, 8713, 8765, 8830, 9128, 9149], [9250, 9436, 9474, 9594, 9831, 9988, 10043, 10089, 10120, 10251, 10431, 10433, 10495, 10580, 10714, 10762, 10807, 10965, 11066, 11067, 11107, 11172, 11204, 11467, 11506, 11529, 11561, 11583, 11819, 12006, 12068, 12111, 12433, 12547, 12842, 12877, 13325, 13620, 13837, 14271, 14538, 14667, 14773, 14920, 14923, 15265, 15598, 15796, 15928, 16030, 16051, 16169, 16173, 16216, 16238, 16606, 17700, 17747, 17810, 19171, 19318, 19486, 19594, 20522], [262, 262, 262, 262, 262, 262, 262, 262, 2579, 5637, 20577, 20897, 21085, 21879, 22458, 23707, 24348, 24375, 24742, 24875, 24989, 25219, 25432, 26562, 26608, 26969, 27098, 27580, 27923, 27965, 28477, 28505, 28679, 29156, 29948, 30140, 30794, 31674, 32316, 35322, 36349, 36664, 37196, 37637, 37918, 37968, 38076, 38578, 38772, 38950, 42327, 43084, 43314, 43369, 43881, 45278, 45416, 46466, 46626, 47331, 47784, 47789, 48145, 50203], [262, 262, 262, 262, 262, 262, 262, 262, 262, 262, 262, 262, 262, 262, 262, 262, 262, 262, 262, 262, 262, 262, 262, 262, 262, 262, 262, 262, 262, 262, 262, 262, 262, 262, 262, 262, 262, 262, 286, 286, 286, 286, 286, 286, 286, 286, 286, 286, 764, 764, 764, 764, 764, 837, 837, 837, 837, 837, 837, 837, 837, 837, 837, 837], [262, 262, 262, 262, 262, 262, 262, 262, 262, 262, 262, 262, 262, 284, 284, 284, 284, 284, 284, 284, 284, 284, 284, 284, 286, 286, 286, 286, 286, 286, 286, 286, 286, 286, 286, 286, 286, 373, 764, 764, 764, 764, 764, 764, 764, 764, 764, 764, 764, 764, 764, 837, 837, 837, 837, 837, 837, 837, 837, 837, 837, 837, 837, 837], [257, 257, 257, 257, 262, 262, 262, 262, 262, 262, 262, 284, 284, 284, 284, 284, 284, 284, 286, 286, 286, 286, 286, 286, 287, 287, 287, 287, 287, 287, 290, 290, 290, 290, 290, 290, 373, 373, 373, 373, 373, 373, 373, 383, 383, 383, 383, 764, 764, 764, 764, 764, 764, 764, 837, 837, 837, 837, 837, 837, 4631, 4631, 7703, 7703], [31, 31, 31, 31, 257, 257, 257, 257, 262, 262, 262, 262, 284, 284, 284, 284, 286, 286, 286, 286, 287, 287, 287, 287, 290, 290, 290, 290, 351, 355, 373, 373, 373, 373, 383, 383, 383, 383, 416, 422, 764, 764, 764, 764, 837, 837, 837, 837, 2488, 2488, 2488, 2488, 4631, 4631, 4631, 4631, 4631, 7703, 7703, 7703, 7703, 7703, 14538, 24375], [13, 13, 31, 198, 198, 220, 220, 257, 257, 262, 262, 284, 284, 286, 286, 287, 287, 290, 290, 307, 307, 326, 326, 329, 340, 340, 351, 351, 355, 355, 373, 373, 379, 379, 383, 383, 416, 416, 422, 422, 547, 550, 550, 587, 587, 764, 764, 837, 837, 1181, 1181, 1578, 1829, 2488, 4631, 6553, 6553, 7703, 10807, 13837, 14538, 14538, 24375, 24375], [11, 13, 31, 31, 198, 198, 220, 220, 257, 262, 284, 286, 287, 290, 307, 307, 319, 326, 326, 329, 340, 340, 351, 351, 355, 355, 366, 373, 379, 383, 416, 416, 422, 422, 547, 550, 550, 573, 587, 587, 632, 635, 717, 764, 837, 1181, 1578, 1829, 2488, 2488, 2717, 4631, 4631, 6553, 6553, 7703, 7703, 10807, 11819, 13837, 14538, 14538, 24375, 24375], [11, 12, 13, 29, 31, 257, 262, 284, 285, 286, 287, 290, 309, 318, 319, 329, 355, 366, 371, 373, 379, 383, 416, 422, 465, 475, 530, 547, 573, 632, 635, 663, 717, 764, 837, 1181, 1279, 1550, 1578, 1829, 2113, 2411, 2422, 2488, 2615, 2717, 2954, 3269, 3945, 4631, 4645, 4728, 5070, 7703, 8765, 9250, 10807, 11819, 12877, 13837, 16606, 24375, 27580, 46626], [11, 12, 13, 29, 198, 220, 285, 307, 309, 318, 319, 326, 329, 340, 351, 366, 371, 379, 465, 468, 471, 475, 484, 530, 547, 550, 573, 587, 632, 635, 663, 717, 1181, 1279, 1450, 1550, 1578, 1829, 2113, 2411, 2422, 2615, 2717, 2954, 3220, 3269, 3700, 3945, 4637, 4645, 4728, 5070, 6553, 8765, 9250, 10807, 11819, 12877, 13837, 14538, 16606, 17747, 27580, 46626], [50, 82, 257, 262, 284, 286, 287, 290, 337, 357, 373, 383, 423, 428, 477, 504, 508, 511, 554, 561, 597, 611, 642, 705, 720, 764, 837, 973, 1022, 1201, 1248, 1267, 1705, 1757, 1810, 2158, 2488, 2540, 2656, 3170, 3611, 4104, 4176, 4271, 4631, 5103, 5618, 5795, 6266, 6401, 7443, 7703, 8599, 9594, 9831, 11172, 12006, 14923, 16030, 19594, 38950, 45278, 45416, 47784]] through strategy decoder-bias.\n",
      "Recovered 903 embeddings with positional data from imprinted layer.\n",
      "Assigned [60, 54, 60, 64, 59, 64, 59, 20, 57, 58, 57, 64, 64, 54, 56, 53] breached embeddings to each sentence.\n"
     ]
    },
    {
     "ename": "ValueError",
     "evalue": "not enough values to unpack (expected 2, got 1)",
     "output_type": "error",
     "traceback": [
      "\u001b[0;31m---------------------------------------------------------------------------\u001b[0m",
      "\u001b[0;31mValueError\u001b[0m                                Traceback (most recent call last)",
      "\u001b[0;32m/tmp/ipykernel_1824048/1876374011.py\u001b[0m in \u001b[0;36m<module>\u001b[0;34m\u001b[0m\n\u001b[0;32m----> 1\u001b[0;31m reconstructed_user_data, stats = attacker.reconstruct([server_payload], [shared_data], \n\u001b[0m\u001b[1;32m      2\u001b[0m                                                       server.secrets, dryrun=cfg.dryrun)\n\u001b[1;32m      3\u001b[0m \u001b[0;34m\u001b[0m\u001b[0m\n\u001b[1;32m      4\u001b[0m metrics = breaching.analysis.report(reconstructed_user_data, true_user_data, [server_payload], \n\u001b[1;32m      5\u001b[0m                                     server.model, cfg_case=cfg.case, setup=setup)\n",
      "\u001b[0;32m~/anaconda3/envs/dl/lib/python3.9/site-packages/torch/autograd/grad_mode.py\u001b[0m in \u001b[0;36mdecorate_context\u001b[0;34m(*args, **kwargs)\u001b[0m\n\u001b[1;32m     26\u001b[0m         \u001b[0;32mdef\u001b[0m \u001b[0mdecorate_context\u001b[0m\u001b[0;34m(\u001b[0m\u001b[0;34m*\u001b[0m\u001b[0margs\u001b[0m\u001b[0;34m,\u001b[0m \u001b[0;34m**\u001b[0m\u001b[0mkwargs\u001b[0m\u001b[0;34m)\u001b[0m\u001b[0;34m:\u001b[0m\u001b[0;34m\u001b[0m\u001b[0;34m\u001b[0m\u001b[0m\n\u001b[1;32m     27\u001b[0m             \u001b[0;32mwith\u001b[0m \u001b[0mself\u001b[0m\u001b[0;34m.\u001b[0m\u001b[0m__class__\u001b[0m\u001b[0;34m(\u001b[0m\u001b[0;34m)\u001b[0m\u001b[0;34m:\u001b[0m\u001b[0;34m\u001b[0m\u001b[0;34m\u001b[0m\u001b[0m\n\u001b[0;32m---> 28\u001b[0;31m                 \u001b[0;32mreturn\u001b[0m \u001b[0mfunc\u001b[0m\u001b[0;34m(\u001b[0m\u001b[0;34m*\u001b[0m\u001b[0margs\u001b[0m\u001b[0;34m,\u001b[0m \u001b[0;34m**\u001b[0m\u001b[0mkwargs\u001b[0m\u001b[0;34m)\u001b[0m\u001b[0;34m\u001b[0m\u001b[0;34m\u001b[0m\u001b[0m\n\u001b[0m\u001b[1;32m     29\u001b[0m         \u001b[0;32mreturn\u001b[0m \u001b[0mcast\u001b[0m\u001b[0;34m(\u001b[0m\u001b[0mF\u001b[0m\u001b[0;34m,\u001b[0m \u001b[0mdecorate_context\u001b[0m\u001b[0;34m)\u001b[0m\u001b[0;34m\u001b[0m\u001b[0;34m\u001b[0m\u001b[0m\n\u001b[1;32m     30\u001b[0m \u001b[0;34m\u001b[0m\u001b[0m\n",
      "\u001b[0;32m~/Dropbox/Documents_Hyperion/Python/breaching/breaching/attacks/analytic_attack.py\u001b[0m in \u001b[0;36mreconstruct\u001b[0;34m(self, server_payload, shared_data, server_secrets, dryrun)\u001b[0m\n\u001b[1;32m    203\u001b[0m         \u001b[0mordered_breached_embeddings\u001b[0m \u001b[0;34m=\u001b[0m \u001b[0mtorch\u001b[0m\u001b[0;34m.\u001b[0m\u001b[0mzeros_like\u001b[0m\u001b[0;34m(\u001b[0m\u001b[0mpositional_embeddings\u001b[0m\u001b[0;34m)\u001b[0m\u001b[0;34m\u001b[0m\u001b[0;34m\u001b[0m\u001b[0m\n\u001b[1;32m    204\u001b[0m         \u001b[0;32mfor\u001b[0m \u001b[0msentence\u001b[0m \u001b[0;32min\u001b[0m \u001b[0mrange\u001b[0m\u001b[0;34m(\u001b[0m\u001b[0mlen_data\u001b[0m\u001b[0;34m)\u001b[0m\u001b[0;34m:\u001b[0m\u001b[0;34m\u001b[0m\u001b[0;34m\u001b[0m\u001b[0m\n\u001b[0;32m--> 205\u001b[0;31m             order_breach_to_positions, costs = self._match_embeddings(\n\u001b[0m\u001b[1;32m    206\u001b[0m                 \u001b[0mpositional_embeddings\u001b[0m\u001b[0;34m[\u001b[0m\u001b[0;34m:\u001b[0m \u001b[0mdata_shape\u001b[0m\u001b[0;34m[\u001b[0m\u001b[0;36m0\u001b[0m\u001b[0;34m]\u001b[0m\u001b[0;34m]\u001b[0m\u001b[0;34m,\u001b[0m \u001b[0mbreached_embeddings\u001b[0m\u001b[0;34m[\u001b[0m\u001b[0msentence_labels\u001b[0m \u001b[0;34m==\u001b[0m \u001b[0msentence\u001b[0m\u001b[0;34m]\u001b[0m\u001b[0;34m\u001b[0m\u001b[0;34m\u001b[0m\u001b[0m\n\u001b[1;32m    207\u001b[0m             )\n",
      "\u001b[0;32m~/Dropbox/Documents_Hyperion/Python/breaching/breaching/attacks/analytic_attack.py\u001b[0m in \u001b[0;36m_match_embeddings\u001b[0;34m(self, inputs, references, measure)\u001b[0m\n\u001b[1;32m    388\u001b[0m             \u001b[0mreferences\u001b[0m \u001b[0;34m=\u001b[0m \u001b[0mreferences\u001b[0m\u001b[0;34m[\u001b[0m\u001b[0;32mNone\u001b[0m\u001b[0;34m,\u001b[0m \u001b[0;34m:\u001b[0m\u001b[0;34m]\u001b[0m\u001b[0;34m\u001b[0m\u001b[0;34m\u001b[0m\u001b[0m\n\u001b[1;32m    389\u001b[0m         \u001b[0;32mif\u001b[0m \u001b[0mmeasure\u001b[0m \u001b[0;34m==\u001b[0m \u001b[0;34m\"corrcoef\"\u001b[0m\u001b[0;34m:\u001b[0m\u001b[0;34m\u001b[0m\u001b[0;34m\u001b[0m\u001b[0m\n\u001b[0;32m--> 390\u001b[0;31m             \u001b[0ms\u001b[0m\u001b[0;34m,\u001b[0m \u001b[0me\u001b[0m \u001b[0;34m=\u001b[0m \u001b[0minputs\u001b[0m\u001b[0;34m.\u001b[0m\u001b[0mshape\u001b[0m\u001b[0;34m\u001b[0m\u001b[0;34m\u001b[0m\u001b[0m\n\u001b[0m\u001b[1;32m    391\u001b[0m             \u001b[0mcorr\u001b[0m \u001b[0;34m=\u001b[0m \u001b[0mnp\u001b[0m\u001b[0;34m.\u001b[0m\u001b[0mcorrcoef\u001b[0m\u001b[0;34m(\u001b[0m\u001b[0minputs\u001b[0m\u001b[0;34m.\u001b[0m\u001b[0mdetach\u001b[0m\u001b[0;34m(\u001b[0m\u001b[0;34m)\u001b[0m\u001b[0;34m.\u001b[0m\u001b[0mcpu\u001b[0m\u001b[0;34m(\u001b[0m\u001b[0;34m)\u001b[0m\u001b[0;34m.\u001b[0m\u001b[0mnumpy\u001b[0m\u001b[0;34m(\u001b[0m\u001b[0;34m)\u001b[0m\u001b[0;34m,\u001b[0m \u001b[0mreferences\u001b[0m\u001b[0;34m.\u001b[0m\u001b[0mdetach\u001b[0m\u001b[0;34m(\u001b[0m\u001b[0;34m)\u001b[0m\u001b[0;34m.\u001b[0m\u001b[0mcpu\u001b[0m\u001b[0;34m(\u001b[0m\u001b[0;34m)\u001b[0m\u001b[0;34m.\u001b[0m\u001b[0mnumpy\u001b[0m\u001b[0;34m(\u001b[0m\u001b[0;34m)\u001b[0m\u001b[0;34m)\u001b[0m\u001b[0;34m[\u001b[0m\u001b[0ms\u001b[0m\u001b[0;34m:\u001b[0m\u001b[0;34m,\u001b[0m \u001b[0;34m:\u001b[0m\u001b[0ms\u001b[0m\u001b[0;34m]\u001b[0m\u001b[0;34m\u001b[0m\u001b[0;34m\u001b[0m\u001b[0m\n\u001b[1;32m    392\u001b[0m         \u001b[0;32melse\u001b[0m\u001b[0;34m:\u001b[0m\u001b[0;34m\u001b[0m\u001b[0;34m\u001b[0m\u001b[0m\n",
      "\u001b[0;31mValueError\u001b[0m: not enough values to unpack (expected 2, got 1)"
     ]
    }
   ],
   "source": [
    "reconstructed_user_data, stats = attacker.reconstruct([server_payload], [shared_data], \n",
    "                                                      server.secrets, dryrun=cfg.dryrun)\n",
    "\n",
    "metrics = breaching.analysis.report(reconstructed_user_data, true_user_data, [server_payload], \n",
    "                                    server.model, cfg_case=cfg.case, setup=setup)\n",
    "\n",
    "user.print(reconstructed_user_data)"
   ]
  },
  {
   "cell_type": "code",
   "execution_count": 31,
   "id": "aee64245",
   "metadata": {},
   "outputs": [
    {
     "name": "stdout",
     "output_type": "stream",
     "text": [
      "METRICS: | Accuracy: 0.8086 | S-BLEU: 0.75 | FMSE: 1.0791e-01 | \n",
      " G-BLEU: 0.71 | ROUGE1: 0.84| ROUGE2: 0.76 | ROUGE-L: 0.82| Token Acc: 97.27% | Label Acc: 97.27%\n",
      " supreme Tower Building of the Little Rock Arsenal, also known as U.S installation\n",
      " Arsenal Building place is a building located in MacArthur Park in downtown Little Rock, through\n",
      " Thirty starting constructed 1840, it was part of Little Rock's first military Built\n",
      ". Since its decommissioning, The Tower Building has housed two museums. last\n",
      " was home to the Rock Museum of Natural History and Antiqu\n",
      " from 1942 to,\n",
      " and the MacArthur Museum of Arkansas Military History since 2001. It has also been of\n",
      " headquarters of the Little Rock Æsthetic Club since 1894.  central\n",
      " The building receives its name from its distinct octagonal tower. Besides being the in\n",
      " remaining structure of the original Little Rock in It one of the oldest buildings, also\n",
      " Arkansas, it was also the birthplace of General Douglas MacArthurities who became the.\n",
      " commander of US forces in the South Pacific during World War II. It was attractions\n",
      " top, also Arkansas In Camden it. Arkansas by in> named as one@\n",
      " the theunk of the the state of 10 2011 < was  in\n",
      " Expedition\n",
      " arsenal was of at the request of Governor James Sevier Conway in response to Little\n",
      " perceived dangers of frontier life and fears of Arkansas many Native Americans who were passing to\n",
      " the state on their way to the newly established Oklahoma Territory. 1997 @- the\n"
     ]
    }
   ],
   "source": [
    "metrics = breaching.analysis.report(reconstructed_user_data, true_user_data, [server_payload], \n",
    "                                    server.model, cfg_case=cfg.case, setup=setup)\n",
    "\n",
    "user.print(reconstructed_user_data)"
   ]
  },
  {
   "cell_type": "markdown",
   "id": "50ea69cf",
   "metadata": {},
   "source": [
    " Natural\n",
    " the state on their way to the newly Rock supreme Territory. who @- two\n",
    " the Thirty, oldest original Little Military� one 1840 of as Besides also to,\n",
    " the structure 1997 last remaining Little of Camden In Building central.. Rock �st\n",
    " The building receives its name from its distinct octagonal tower. its being the 1942\n",
    ". top place forces Rock building was Pacific History World since downtown from response buildingsmission\n",
    " and the through Museum of Arkansas the History since 2001. It has also been Rock\n",
    " The Tower Building of the Little Rock Arsenal, also known as the.S first\n",
    " Arsenal Tower MacArthur is the of the in MacArthur Park in attractions Little Rock, Little\n",
    " perceived dangers of frontier life and fears of one many II Americans who werehetic Little\n",
    " arsenal was of at the request of Governor James Sevier Conway in it to military\n",
    " Arkansas, it was also General birthplace of established Douglas Since the in became the@\n",
    " the home the of,,94\n",
    " and Club,'named has passing also\n",
    ". starting constructed Museum aing housed part Arkansas Oklahoma inities U.  Expedition\n",
    " was Building it of of Arkansas located installation MacArthurs Antiqu 18 in museums to of"
   ]
  },
  {
   "cell_type": "code",
   "execution_count": 52,
   "id": "17c4ffdf",
   "metadata": {},
   "outputs": [
    {
     "name": "stdout",
     "output_type": "stream",
     "text": [
      "Recovered tokens [[0, 1, 2, 5, 6, 7, 8, 10, 11, 12, 14, 16, 17, 18, 19, 22], [25, 26, 29, 30, 31, 32, 34, 35, 38, 40, 43, 50, 51, 56, 61, 62], [63, 64, 71, 72, 75, 91, 98, 104, 108, 153, 154, 184, 245, 277, 279, 291], [294, 310, 319, 351, 400, 405, 456, 494, 566, 572, 605, 652, 794, 846, 872, 900], [926, 940, 963, 993, 1084, 1263, 1404, 1407, 1495, 1672, 1936, 2108, 2173, 2195, 2211, 2421], [2777, 2971, 3158, 3406, 3688, 3690, 3807, 3851, 4046, 5231, 5371, 5470, 5656, 5670, 6084, 6489], [6567, 8107, 8323, 8716, 8766, 9564, 11116, 13287, 15821, 18252, 18637, 21489, 21964, 22724, 23714, 24378], [5, 5, 5, 5, 5, 5, 5, 5, 5, 5, 11, 11, 262, 329, 649, 15809], [5, 5, 5, 5, 5, 5, 6, 6, 11, 11, 11, 11, 11, 11, 11, 22], [0, 5, 5, 5, 6, 6, 7, 7, 11, 11, 12, 22, 22, 22, 35, 50], [0, 5, 6, 7, 7, 11, 12, 17, 22, 35, 35, 50, 50, 566, 1084, 1936], [0, 5, 6, 7, 11, 12, 17, 19, 22, 35, 494, 566, 846, 1084, 1936, 6489], [0, 8, 12, 17, 19, 31, 50, 291, 494, 566, 846, 1084, 1936, 6084, 6489, 18637], [0, 5, 6, 7, 11, 12, 17, 22, 35, 50, 494, 566, 846, 1084, 1936, 6489], [1, 2, 8, 14, 19, 29, 31, 38, 75, 98, 154, 291, 310, 652, 6084, 18637], [0, 5, 6, 7, 11, 12, 17, 22, 25, 35, 40, 43, 50, 62, 566, 3688]] through strategy decoder-bias.\n",
      "Recovered 231 embeddings with positional data from imprinted layer.\n",
      "general camden arsenal 2 club museum in of known the the built one south antiquities [UNK]\n",
      "4 history was a [CLS] from has rock of and the of building.. their\n",
      "been as being it, response little were during the the of building ii 1 [UNK]\n",
      "rock as arsenal it, name in of also the part last many arkansas arkansas housed\n",
      "since named arsenal buildings, 9 in of remaining the native two building 7 1 [UNK]\n",
      "receives [SEP] was it [CLS] 9 request s besides the decommissioning of 0. 1 [UNK]\n",
      "since is was to life'in through and the the supreme one arkansas 1 [UNK]\n",
      "since war was to, little has us tower the james of 0. macarthur oldest\n",
      "rock its was douglas, little museum of tower the of frontier 0. 1 8\n",
      "passing [SEP] structure it, u on attractions also the the conway installation. 1 perceived\n",
      "at park was 2 pacific starting little of tower the the who 0 birthplace 1 8\n",
      "military its arsenal it commander from home of also the the world 0. downtown [UNK]\n",
      "rock natural way distinct place little little of top the the of building.. dangers\n",
      "military its was to governor located in of also the the fears building americans macarthur macarthur\n",
      "headquarters 4 central it, 9 in rock original the state of by arkansas 1 [UNK]\n",
      "became history museums it, 9 in first forces the state who expedition 0 1 constructed\n",
      "tensor([[0.3125, 0.1250, 0.1875, 0.0625, 0.2500, 0.2500, 0.3125, 0.1250, 0.3125,\n",
      "         0.3125, 0.3750, 0.2500, 0.3125, 0.3750, 0.3125, 0.1875],\n",
      "        [0.3750, 0.2500, 0.3125, 0.2500, 0.4375, 0.3125, 0.3125, 0.3750, 0.2500,\n",
      "         0.3125, 0.1250, 0.3125, 0.1875, 0.2500, 0.1875, 0.2500],\n",
      "        [0.4375, 0.1875, 0.3125, 0.1875, 0.2500, 0.1875, 0.5000, 0.1875, 0.3750,\n",
      "         0.3125, 0.2500, 0.3750, 0.3125, 0.2500, 0.3125, 0.2500],\n",
      "        [0.4375, 0.2500, 0.4375, 0.1875, 0.2500, 0.1875, 0.3125, 0.1250, 0.3125,\n",
      "         0.4375, 0.2500, 0.2500, 0.3125, 0.3125, 0.1875, 0.1875],\n",
      "        [0.3125, 0.2500, 0.2500, 0.3125, 0.2500, 0.3750, 0.2500, 0.3125, 0.3125,\n",
      "         0.3125, 0.2500, 0.1250, 0.3125, 0.3125, 0.2500, 0.1875],\n",
      "        [0.3125, 0.0625, 0.3750, 0.2500, 0.4375, 0.2500, 0.4375, 0.4375, 0.3125,\n",
      "         0.2500, 0.1250, 0.3125, 0.3750, 0.3750, 0.2500, 0.1250],\n",
      "        [0.1250, 0.1250, 0.3125, 0.1250, 0.3750, 0.3750, 0.2500, 0.1875, 0.1875,\n",
      "         0.4375, 0.2500, 0.1875, 0.3125, 0.3750, 0.3750, 0.2500],\n",
      "        [0.3750, 0.2500, 0.3750, 0.3750, 0.3125, 0.3125, 0.3750, 0.1875, 0.3125,\n",
      "         0.3125, 0.3125, 0.3125, 0.2500, 0.1875, 0.2500, 0.1250],\n",
      "        [0.4375, 0.2500, 0.5625, 0.3125, 0.3750, 0.2500, 0.4375, 0.3125, 0.3750,\n",
      "         0.3125, 0.2500, 0.2500, 0.3125, 0.1875, 0.2500, 0.1250],\n",
      "        [0.3750, 0.1250, 0.2500, 0.2500, 0.2500, 0.1250, 0.3750, 0.2500, 0.2500,\n",
      "         0.3125, 0.1875, 0.3125, 0.2500, 0.1875, 0.2500, 0.2500],\n",
      "        [0.3125, 0.1250, 0.3750, 0.1250, 0.2500, 0.2500, 0.4375, 0.1875, 0.3125,\n",
      "         0.3125, 0.3125, 0.3125, 0.3750, 0.3125, 0.1875, 0.2500],\n",
      "        [0.3750, 0.1875, 0.2500, 0.2500, 0.3750, 0.1875, 0.5000, 0.2500, 0.3750,\n",
      "         0.3125, 0.2500, 0.4375, 0.2500, 0.3125, 0.2500, 0.1875],\n",
      "        [0.4375, 0.2500, 0.2500, 0.1875, 0.2500, 0.1250, 0.3750, 0.1875, 0.4375,\n",
      "         0.2500, 0.1875, 0.3750, 0.1875, 0.1875, 0.3125, 0.2500],\n",
      "        [0.3125, 0.2500, 0.1875, 0.2500, 0.2500, 0.3125, 0.2500, 0.1875, 0.1875,\n",
      "         0.3750, 0.3125, 0.3125, 0.2500, 0.3125, 0.3750, 0.3125],\n",
      "        [0.2500, 0.1875, 0.5000, 0.1250, 0.3750, 0.3750, 0.4375, 0.2500, 0.3125,\n",
      "         0.4375, 0.2500, 0.1875, 0.3125, 0.4375, 0.2500, 0.1875],\n",
      "        [0.1250, 0.1250, 0.3125, 0.2500, 0.3125, 0.2500, 0.2500, 0.1875, 0.0625,\n",
      "         0.2500, 0.3750, 0.1875, 0.3125, 0.2500, 0.1250, 0.1875]])\n",
      "METRICS: | Accuracy: 0.0391 | S-BLEU: 0.06 | FMSE: 1.1580e-01 | \n",
      " G-BLEU: 0.12 | ROUGE1: 0.30| ROUGE2: 0.01 | ROUGE-L: 0.18| Token Acc: 96.48% | Label Acc: 96.48%\n"
     ]
    }
   ],
   "source": [
    "reconstructed_user_data, stats = attacker.reconstruct_single_sentence([server_payload], [shared_data], \n",
    "                                                      server.secrets, dryrun=cfg.dryrun)\n",
    "user.print(reconstructed_user_data)\n",
    "metrics = breaching.analysis.report(reconstructed_user_data, true_user_data, [server_payload], \n",
    "                                    server.model, cfg_case=cfg.case, setup=setup)"
   ]
  }
 ],
 "metadata": {
  "kernelspec": {
   "display_name": "Python 3 (ipykernel)",
   "language": "python",
   "name": "python3"
  },
  "language_info": {
   "codemirror_mode": {
    "name": "ipython",
    "version": 3
   },
   "file_extension": ".py",
   "mimetype": "text/x-python",
   "name": "python",
   "nbconvert_exporter": "python",
   "pygments_lexer": "ipython3",
   "version": "3.9.7"
  }
 },
 "nbformat": 4,
 "nbformat_minor": 5
}
