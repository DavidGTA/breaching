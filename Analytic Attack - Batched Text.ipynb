{
 "cells": [
  {
   "cell_type": "markdown",
   "id": "3ebef44a",
   "metadata": {},
   "source": [
    "# Breaching privacy"
   ]
  },
  {
   "cell_type": "markdown",
   "id": "a756fc5f",
   "metadata": {},
   "source": [
    "This notebook does the same job as the cmd-line tool `simulate_breach.py`, but also directly visualizes the user data and reconstruction"
   ]
  },
  {
   "cell_type": "code",
   "execution_count": 1,
   "id": "b850eabf",
   "metadata": {},
   "outputs": [],
   "source": [
    "import torch\n",
    "import hydra\n",
    "from omegaconf import OmegaConf\n",
    "%load_ext autoreload\n",
    "%autoreload 2\n",
    "\n",
    "import breaching\n",
    "import logging, sys\n",
    "logging.basicConfig(level=logging.INFO, handlers=[logging.StreamHandler(sys.stdout)], format='%(message)s')\n",
    "logger = logging.getLogger()"
   ]
  },
  {
   "cell_type": "markdown",
   "id": "88d5e214",
   "metadata": {},
   "source": [
    "### Initialize cfg object and system setup:"
   ]
  },
  {
   "cell_type": "markdown",
   "id": "56bd663b",
   "metadata": {},
   "source": [
    "This will print out all configuration options. \n",
    "There are a lot of possible configurations, but there is usually no need to worry about most of these. Below, a few options are printed."
   ]
  },
  {
   "cell_type": "markdown",
   "id": "26070d66",
   "metadata": {},
   "source": [
    "Choose `case/data=` `shakespeare`, `wikitext`over `stackoverflow` here:"
   ]
  },
  {
   "cell_type": "code",
   "execution_count": 2,
   "id": "a7dc3a48",
   "metadata": {},
   "outputs": [
    {
     "name": "stdout",
     "output_type": "stream",
     "text": [
      "Investigating use case single_imagenet with server type malicious_transformer_parameters.\n"
     ]
    },
    {
     "data": {
      "text/plain": [
       "{'device': device(type='cpu'), 'dtype': torch.float32}"
      ]
     },
     "execution_count": 2,
     "metadata": {},
     "output_type": "execute_result"
    }
   ],
   "source": [
    "with hydra.initialize(config_path=\"config\"):\n",
    "    cfg = hydra.compose(config_name='cfg', overrides=[\"case/data=wikitext\", \"case/server=malicious-transformer\",\n",
    "                                                      \"case.model=transformer3\",\n",
    "                                                      \"attack=decepticon\"])\n",
    "    print(f'Investigating use case {cfg.case.name} with server type {cfg.case.server.name}.')\n",
    "          \n",
    "device = torch.device(f'cuda:0') if torch.cuda.is_available() else torch.device('cpu')\n",
    "torch.backends.cudnn.benchmark = cfg.case.impl.benchmark\n",
    "setup = dict(device=device, dtype=torch.float)\n",
    "setup"
   ]
  },
  {
   "cell_type": "markdown",
   "id": "203c5fb1",
   "metadata": {},
   "source": [
    "### Modify config options here"
   ]
  },
  {
   "cell_type": "markdown",
   "id": "6e0764ef",
   "metadata": {},
   "source": [
    "You can use `.attribute` access to modify any of these configurations:"
   ]
  },
  {
   "cell_type": "code",
   "execution_count": 16,
   "id": "ac118ea0",
   "metadata": {},
   "outputs": [],
   "source": [
    "cfg.case.user.num_data_points = 4 # How many sentences?\n",
    "cfg.case.user.user_idx = 1 # From which user?\n",
    "cfg.case.data.shape = [32] # This is the sequence length\n",
    "\n",
    "cfg.case.data.tokenizer = \"word-level\"\n",
    "\n",
    "cfg.case.server.has_external_data = True\n",
    "\n",
    "cfg.case.server.param_modification.v_length = 16"
   ]
  },
  {
   "cell_type": "markdown",
   "id": "76f64389",
   "metadata": {},
   "source": [
    "### Instantiate all parties"
   ]
  },
  {
   "cell_type": "code",
   "execution_count": 17,
   "id": "30235b0c",
   "metadata": {},
   "outputs": [
    {
     "name": "stdout",
     "output_type": "stream",
     "text": [
      "Reusing dataset wikitext (/home/jonas/data/wikitext/wikitext-103-v1/1.0.0/aa5e094000ec7afeb74c3be92c88313cd6f132d564c7effd961c10fd47c76f20)\n",
      "Reusing dataset wikitext (/home/jonas/data/wikitext/wikitext-103-v1/1.0.0/aa5e094000ec7afeb74c3be92c88313cd6f132d564c7effd961c10fd47c76f20)\n",
      "Model architecture transformer3 loaded with 10,702,129 parameters and 480,000 buffers.\n",
      "Overall this is a data ratio of   83610:1 for target shape [4, 32] given that num_queries=1.\n",
      "User (of type UserSingleStep) with settings:\n",
      "    Number of data points: 4\n",
      "\n",
      "    Threat model:\n",
      "    User provides labels: False\n",
      "    User provides buffers: False\n",
      "    User provides number of data points: True\n",
      "\n",
      "    Data:\n",
      "    Dataset: wikitext\n",
      "    user: 1\n",
      "    \n",
      "        \n",
      "Server (of type MaliciousTransformerServer) with settings:\n",
      "    Threat model: Malicious (Parameters)\n",
      "    Number of planned queries: 1\n",
      "    Has external/public data: True\n",
      "\n",
      "    Model:\n",
      "        model specification: transformer3\n",
      "        model state: default\n",
      "        public buffers: False\n",
      "\n",
      "    Secrets: {}\n",
      "    \n",
      "Attacker (of type DecepticonAttacker).\n"
     ]
    }
   ],
   "source": [
    "user, server, model, loss_fn = breaching.cases.construct_case(cfg.case, setup)\n",
    "attacker = breaching.attacks.prepare_attack(server.model, server.loss, cfg.attack, setup)\n",
    "breaching.utils.overview(server, user, attacker)"
   ]
  },
  {
   "cell_type": "markdown",
   "id": "548c0ad6",
   "metadata": {},
   "source": [
    "### Simulate an attacked FL protocol"
   ]
  },
  {
   "cell_type": "markdown",
   "id": "2058bcc2",
   "metadata": {},
   "source": [
    "True user data is returned only for analysis"
   ]
  },
  {
   "cell_type": "code",
   "execution_count": 18,
   "id": "3f2a2e33",
   "metadata": {},
   "outputs": [
    {
     "name": "stdout",
     "output_type": "stream",
     "text": [
      "Computing feature distribution before the linear1 layer from external data.\n",
      "Feature mean is 0.34438857436180115, feature std is 0.4451179802417755.\n"
     ]
    }
   ],
   "source": [
    "server_payload = server.distribute_payload()\n",
    "shared_data, true_user_data = user.compute_local_updates(server_payload)"
   ]
  },
  {
   "cell_type": "code",
   "execution_count": 19,
   "id": "69c6ff1f",
   "metadata": {},
   "outputs": [
    {
     "name": "stdout",
     "output_type": "stream",
     "text": [
      "[CLS] the tower building of the little rock arsenal, also known as u. s. arsenal building, is a building located in macarthur park in downtown little rock,\n",
      "arkansas. built in 1 8 4 0, it was part of little rock's first military installation. since its decommissioning, the tower building has housed two museums\n",
      ". it was home to the arkansas museum of natural history and antiquities from 1 9 4 2 to 1 9 9 7 and the macarthur museum of arkansas military history since\n",
      "2 0 0 1. it has also been the headquarters of the little rock [UNK] club since 1 8 9 4. [SEP] [CLS] the building receives its name from its\n"
     ]
    }
   ],
   "source": [
    "user.print(true_user_data)"
   ]
  },
  {
   "cell_type": "markdown",
   "id": "f2867bcc",
   "metadata": {},
   "source": [
    "# Reconstruct user data"
   ]
  },
  {
   "cell_type": "code",
   "execution_count": 20,
   "id": "0667663b",
   "metadata": {},
   "outputs": [
    {
     "name": "stdout",
     "output_type": "stream",
     "text": [
      "Recovered tokens [[0, 1, 2, 5, 6, 7, 8, 10, 11, 12, 14, 16, 17, 19, 22, 25, 26, 29, 31, 32, 35, 38, 40, 43, 50, 56, 62, 63, 64, 72, 108, 184], [5, 5, 5, 6, 291, 310, 400, 494, 566, 649, 652, 846, 926, 940, 993, 1084, 1495, 1936, 2195, 2971, 3688, 5231, 5470, 6084, 6489, 8107, 8323, 18637, 21489, 21964, 22724, 24378], [5, 5, 5, 5, 6, 6, 6, 6, 7, 7, 7, 11, 11, 11, 12, 17, 19, 19, 22, 22, 22, 31, 35, 38, 291, 566, 566, 1084, 1084, 1084, 1936, 1936], [5, 6, 7, 8, 11, 12, 14, 16, 17, 19, 22, 22, 31, 35, 38, 40, 43, 50, 62, 291, 310, 494, 566, 652, 846, 1084, 1084, 1936, 3688, 6084, 6489, 18637]] through strategy decoder-bias.\n",
      "Recovered 117 embeddings with positional data from imprinted layer.\n",
      "Assigned [30, 32, 29, 26] breached embeddings to each sentence.\n",
      "tensor([0.7767, 0.8386, 0.8246, 0.8182, 0.7603, 0.8264, 0.8504, 0.7365, 0.8182,\n",
      "        0.8033, 0.6854, 0.7037, 0.7680, 0.7359, 0.7255, 0.7797, 0.6792, 0.6822,\n",
      "        0.7535, 0.7904, 0.7890, 0.7786, 0.7080, 0.7575, 0.7036, 0.7922, 0.7853,\n",
      "        0.6803, 0.7426, 0.7893])\n",
      "tensor([0.7627, 0.8488, 0.8019, 0.8423, 0.8485, 0.7913, 0.7780, 0.8372, 0.7482,\n",
      "        0.8355, 0.8095, 0.8417, 0.7380, 0.7769, 0.8248, 0.8414, 0.7508, 0.7105,\n",
      "        0.7740, 0.6786, 0.6510, 0.7011, 0.6375, 0.6617, 0.8461, 0.7088, 0.6309,\n",
      "        0.7210, 0.7314, 0.9323, 0.9619, 0.8982])\n",
      "tensor([0.8330, 0.8459, 0.8305, 0.8369, 0.8316, 0.8321, 0.8544, 0.8498, 0.7856,\n",
      "        0.7206, 0.8024, 0.7659, 0.8199, 0.7532, 0.7518, 0.7378, 0.7503, 0.7533,\n",
      "        0.7415, 0.7990, 0.7265, 0.7424, 0.8602, 0.7459, 0.7384, 0.7879, 0.7437,\n",
      "        0.8478, 0.7372])\n",
      "tensor([0.8305, 0.8336, 0.8196, 0.8143, 0.6849, 0.7772, 0.7447, 0.8028, 0.7960,\n",
      "        0.7400, 0.7467, 0.7614, 0.8244, 0.7866, 0.7843, 0.7098, 0.7822, 0.8036,\n",
      "        0.6380, 0.9625, 0.6775, 0.7327, 0.9286, 0.9075, 0.6459, 0.8259])\n",
      ". of. of. also and 1 of known 1 antiquities as of little u two rock. 1 been name 9 military in the from rock [UNK] building its since\n",
      "was tower built home in building 1 the 1 the the the it 8. is 9 from a 9 7. building its [SEP] decommissioning located and, [CLS] housed,\n",
      "since part little 4 rock museum 0 also arsenal, history the to it the'4 arsenal macarthur the tower building museum park of receives building in arkansas its has little\n",
      ". 2 the it has 0 was 0 headquarters natural arkansas 9 s 4 club s since first macarthur history to military 1 building, installation 8, downtown little rock museums\n",
      "METRICS: | Accuracy: 0.0469 | S-BLEU: 0.25 | FMSE: 6.9643e-04 | \n",
      " G-BLEU: 0.14 | ROUGE1: 0.40| ROUGE2: 0.03 | ROUGE-L: 0.19| Token Acc: 97.66% | Label Acc: 97.66%\n"
     ]
    }
   ],
   "source": [
    "reconstructed_user_data, stats = attacker.reconstruct([server_payload], [shared_data], \n",
    "                                                      server.secrets, dryrun=cfg.dryrun)\n",
    "user.print(reconstructed_user_data)\n",
    "metrics = breaching.analysis.report(reconstructed_user_data, true_user_data, [server_payload], \n",
    "                                    server.model, cfg_case=cfg.case, setup=setup)"
   ]
  },
  {
   "cell_type": "code",
   "execution_count": 21,
   "id": "17c4ffdf",
   "metadata": {},
   "outputs": [
    {
     "name": "stdout",
     "output_type": "stream",
     "text": [
      "Recovered tokens [[0, 1, 2, 5, 6, 7, 8, 10, 11, 12, 14, 16, 17, 19, 22, 25, 26, 29, 31, 32, 35, 38, 40, 43, 50, 56, 62, 63, 64, 72, 108, 184], [5, 5, 5, 6, 291, 310, 400, 494, 566, 649, 652, 846, 926, 940, 993, 1084, 1495, 1936, 2195, 2971, 3688, 5231, 5470, 6084, 6489, 8107, 8323, 18637, 21489, 21964, 22724, 24378], [5, 5, 5, 5, 6, 6, 6, 6, 7, 7, 7, 11, 11, 11, 12, 17, 19, 19, 22, 22, 22, 31, 35, 38, 291, 566, 566, 1084, 1084, 1084, 1936, 1936], [5, 6, 7, 8, 11, 12, 14, 16, 17, 19, 22, 22, 31, 35, 38, 40, 43, 50, 62, 291, 310, 494, 566, 652, 846, 1084, 1084, 1936, 3688, 6084, 6489, 18637]] through strategy decoder-bias.\n",
      "Recovered 117 embeddings with positional data from imprinted layer.\n",
      "2 it built in of 8 4 also arsenal natural also known as u rock's to to installation is a its decommissioning in macarthur building in its military 1 its\n",
      "been 0 tower home 1 the arkansas rock of, history of of little 1 s 4 first military 8 9 1 7 [SEP], the museum of downtown housed rock,\n",
      ". the was 1. the has museum, the headquarters part antiquities from. 9 club rock 1,. 9 building located history the tower building arkansas little from museums\n",
      "[CLS] [UNK] 0 building the it little 0 arsenal it was and the little. 9 4 since building building. since. and the macarthur park receives has name two since\n",
      "METRICS: | Accuracy: 0.2812 | S-BLEU: 0.26 | FMSE: 7.0967e-04 | \n",
      " G-BLEU: 0.15 | ROUGE1: 0.40| ROUGE2: 0.09 | ROUGE-L: 0.21| Token Acc: 97.66% | Label Acc: 97.66%\n"
     ]
    }
   ],
   "source": [
    "reconstructed_user_data, stats = attacker.reconstruct_single_sentence([server_payload], [shared_data], \n",
    "                                                      server.secrets, dryrun=cfg.dryrun)\n",
    "user.print(reconstructed_user_data)\n",
    "metrics = breaching.analysis.report(reconstructed_user_data, true_user_data, [server_payload], \n",
    "                                    server.model, cfg_case=cfg.case, setup=setup)"
   ]
  },
  {
   "cell_type": "code",
   "execution_count": 22,
   "id": "4362ac99",
   "metadata": {},
   "outputs": [
    {
     "name": "stdout",
     "output_type": "stream",
     "text": [
      "Recovered tokens [[0, 1, 2, 5, 6, 7, 8, 10, 11, 12, 14, 16, 17, 19, 22, 25, 26, 29, 31, 32, 35, 38, 40, 43, 50, 56, 62, 63, 64, 72, 108, 184], [5, 5, 5, 6, 291, 310, 400, 494, 566, 649, 652, 846, 926, 940, 993, 1084, 1495, 1936, 2195, 2971, 3688, 5231, 5470, 6084, 6489, 8107, 8323, 18637, 21489, 21964, 22724, 24378], [5, 5, 5, 5, 6, 6, 6, 6, 7, 7, 7, 11, 11, 11, 12, 17, 19, 19, 22, 22, 22, 31, 35, 38, 291, 566, 566, 1084, 1084, 1084, 1936, 1936], [5, 6, 7, 8, 11, 12, 14, 16, 17, 19, 22, 22, 31, 35, 38, 40, 43, 50, 62, 291, 310, 494, 566, 652, 846, 1084, 1084, 1936, 3688, 6084, 6489, 18637]] through strategy decoder-bias.\n",
      "Recovered 117 tokens with positional data from imprinted layer.\n"
     ]
    },
    {
     "ename": "IndexError",
     "evalue": "list index out of range",
     "output_type": "error",
     "traceback": [
      "\u001b[0;31m---------------------------------------------------------------------------\u001b[0m",
      "\u001b[0;31mIndexError\u001b[0m                                Traceback (most recent call last)",
      "\u001b[0;32m/tmp/ipykernel_1072370/951946753.py\u001b[0m in \u001b[0;36m<module>\u001b[0;34m\u001b[0m\n\u001b[0;32m----> 1\u001b[0;31m reconstructed_user_data, stats = attacker.reconstruct2([server_payload], [shared_data], \n\u001b[0m\u001b[1;32m      2\u001b[0m                                                       server.secrets, dryrun=cfg.dryrun)\n\u001b[1;32m      3\u001b[0m \u001b[0muser\u001b[0m\u001b[0;34m.\u001b[0m\u001b[0mprint\u001b[0m\u001b[0;34m(\u001b[0m\u001b[0mreconstructed_user_data\u001b[0m\u001b[0;34m)\u001b[0m\u001b[0;34m\u001b[0m\u001b[0;34m\u001b[0m\u001b[0m\n\u001b[1;32m      4\u001b[0m metrics = breaching.analysis.report(reconstructed_user_data, true_user_data, [server_payload], \n\u001b[1;32m      5\u001b[0m                                     server.model, cfg_case=cfg.case, setup=setup)\n",
      "\u001b[0;32m~/Dropbox/Documents_Hyperion/Python/breaching/breaching/attacks/analytic_attack.py\u001b[0m in \u001b[0;36mreconstruct2\u001b[0;34m(self, server_payload, shared_data, server_secrets, dryrun)\u001b[0m\n\u001b[1;32m    193\u001b[0m \u001b[0;34m\u001b[0m\u001b[0m\n\u001b[1;32m    194\u001b[0m         \u001b[0;31m# Getting multiple user's sentences back\u001b[0m\u001b[0;34m\u001b[0m\u001b[0;34m\u001b[0m\u001b[0m\n\u001b[0;32m--> 195\u001b[0;31m         \u001b[0msentences\u001b[0m \u001b[0;34m=\u001b[0m \u001b[0mself\u001b[0m\u001b[0;34m.\u001b[0m\u001b[0m_match_words_to_sentences\u001b[0m\u001b[0;34m(\u001b[0m\u001b[0mestimated_pos\u001b[0m\u001b[0;34m,\u001b[0m \u001b[0mjust_pos\u001b[0m\u001b[0;34m,\u001b[0m \u001b[0mnew_with_pos\u001b[0m\u001b[0;34m,\u001b[0m \u001b[0mlen_data\u001b[0m\u001b[0;34m,\u001b[0m \u001b[0msorted_tokens\u001b[0m\u001b[0;34m)\u001b[0m\u001b[0;34m\u001b[0m\u001b[0;34m\u001b[0m\u001b[0m\n\u001b[0m\u001b[1;32m    196\u001b[0m \u001b[0;34m\u001b[0m\u001b[0m\n\u001b[1;32m    197\u001b[0m         \u001b[0;31m# Pad recovered sentences:\u001b[0m\u001b[0;34m\u001b[0m\u001b[0;34m\u001b[0m\u001b[0m\n",
      "\u001b[0;32m~/Dropbox/Documents_Hyperion/Python/breaching/breaching/attacks/analytic_attack.py\u001b[0m in \u001b[0;36m_match_words_to_sentences\u001b[0;34m(self, estimated_pos, just_pos, new_with_pos, len_data, sorted_tokens)\u001b[0m\n\u001b[1;32m    250\u001b[0m         \u001b[0;31m# Start the sentences with first words\u001b[0m\u001b[0;34m\u001b[0m\u001b[0;34m\u001b[0m\u001b[0m\n\u001b[1;32m    251\u001b[0m         \u001b[0;32mfor\u001b[0m \u001b[0mi\u001b[0m\u001b[0;34m,\u001b[0m \u001b[0mfirst_w\u001b[0m \u001b[0;32min\u001b[0m \u001b[0menumerate\u001b[0m\u001b[0;34m(\u001b[0m\u001b[0mfirst_words\u001b[0m\u001b[0;34m)\u001b[0m\u001b[0;34m:\u001b[0m\u001b[0;34m\u001b[0m\u001b[0;34m\u001b[0m\u001b[0m\n\u001b[0;32m--> 252\u001b[0;31m             \u001b[0msentences\u001b[0m\u001b[0;34m[\u001b[0m\u001b[0mi\u001b[0m\u001b[0;34m]\u001b[0m\u001b[0;34m.\u001b[0m\u001b[0mappend\u001b[0m\u001b[0;34m(\u001b[0m\u001b[0msorted_tokens\u001b[0m\u001b[0;34m[\u001b[0m\u001b[0mfirst_w\u001b[0m\u001b[0;34m]\u001b[0m\u001b[0;34m)\u001b[0m\u001b[0;34m\u001b[0m\u001b[0;34m\u001b[0m\u001b[0m\n\u001b[0m\u001b[1;32m    253\u001b[0m \u001b[0;34m\u001b[0m\u001b[0m\n\u001b[1;32m    254\u001b[0m         \u001b[0;31m# Go through the rest of the word groups, assigning words to their appropriate sentences\u001b[0m\u001b[0;34m\u001b[0m\u001b[0;34m\u001b[0m\u001b[0m\n",
      "\u001b[0;31mIndexError\u001b[0m: list index out of range"
     ]
    }
   ],
   "source": [
    "reconstructed_user_data, stats = attacker.reconstruct2([server_payload], [shared_data], \n",
    "                                                      server.secrets, dryrun=cfg.dryrun)\n",
    "user.print(reconstructed_user_data)\n",
    "metrics = breaching.analysis.report(reconstructed_user_data, true_user_data, [server_payload], \n",
    "                                    server.model, cfg_case=cfg.case, setup=setup)"
   ]
  },
  {
   "cell_type": "code",
   "execution_count": null,
   "id": "395b37e3",
   "metadata": {},
   "outputs": [],
   "source": []
  }
 ],
 "metadata": {
  "kernelspec": {
   "display_name": "Python 3 (ipykernel)",
   "language": "python",
   "name": "python3"
  },
  "language_info": {
   "codemirror_mode": {
    "name": "ipython",
    "version": 3
   },
   "file_extension": ".py",
   "mimetype": "text/x-python",
   "name": "python",
   "nbconvert_exporter": "python",
   "pygments_lexer": "ipython3",
   "version": "3.9.7"
  }
 },
 "nbformat": 4,
 "nbformat_minor": 5
}
