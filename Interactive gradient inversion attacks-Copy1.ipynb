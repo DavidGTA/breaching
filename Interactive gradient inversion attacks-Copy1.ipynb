{
 "cells": [
  {
   "cell_type": "markdown",
   "id": "3ebef44a",
   "metadata": {},
   "source": [
    "# Breaching privacy - test parameter modifications"
   ]
  },
  {
   "cell_type": "markdown",
   "id": "a756fc5f",
   "metadata": {},
   "source": [
    "This notebook does the same job as the cmd-line tool `breach.py`, but also directly visualizes the user data and reconstruction"
   ]
  },
  {
   "cell_type": "code",
   "execution_count": 1,
   "id": "b850eabf",
   "metadata": {},
   "outputs": [],
   "source": [
    "import torch\n",
    "import hydra\n",
    "from omegaconf import OmegaConf\n",
    "%load_ext autoreload\n",
    "%autoreload 2\n",
    "\n",
    "import breaching"
   ]
  },
  {
   "cell_type": "code",
   "execution_count": 2,
   "id": "d26275c2",
   "metadata": {},
   "outputs": [],
   "source": [
    "import matplotlib.pyplot as plt "
   ]
  },
  {
   "cell_type": "markdown",
   "id": "88d5e214",
   "metadata": {},
   "source": [
    "### Initialize cfg object and system setup:"
   ]
  },
  {
   "cell_type": "markdown",
   "id": "56bd663b",
   "metadata": {},
   "source": [
    "This will print out all configuration options. \n",
    "There are a lot of possible configurations, but there is usually no need to worry about most of these. Below, a few options are printed."
   ]
  },
  {
   "cell_type": "code",
   "execution_count": 3,
   "id": "a7dc3a48",
   "metadata": {},
   "outputs": [
    {
     "name": "stdout",
     "output_type": "stream",
     "text": [
      "Investigating use case single_imagenet with server type honest_but_curious.\n",
      "Attack settings are:\n",
      "type: invertinggradients\n",
      "attack_type: optimization\n",
      "objective:\n",
      "  type: cosine-similarity\n",
      "  scale: 1.0\n",
      "restarts:\n",
      "  num_trials: 8\n",
      "  scoring: cosine-similarity\n",
      "init: randn\n",
      "optim:\n",
      "  optimizer: adam\n",
      "  signed: false\n",
      "  step_size: 0.1\n",
      "  boxed: true\n",
      "  max_iterations: 24000\n",
      "  step_size_decay: cosine-decay\n",
      "  langevin_noise: 0.1\n",
      "  warmup: 50\n",
      "  callback: 1000\n",
      "regularization:\n",
      "  total_variation:\n",
      "    scale: 0.2\n",
      "    inner_exp: 2\n",
      "    outer_exp: 0.5\n",
      "    double_opponents: true\n",
      "  orthogonality:\n",
      "    scale: 0.0\n",
      "  norm:\n",
      "    scale: 1.0e-06\n",
      "    pnorm: 2\n",
      "  deep_inversion:\n",
      "    scale: 0.01\n",
      "\n"
     ]
    },
    {
     "name": "stderr",
     "output_type": "stream",
     "text": [
      "/home/jonas/miniconda3/envs/dl/lib/python3.9/site-packages/hydra/_internal/defaults_list.py:251: UserWarning: In 'cfg': Defaults list is missing `_self_`. See https://hydra.cc/docs/upgrades/1.0_to_1.1/default_composition_order for more information\n",
      "  warnings.warn(msg, UserWarning)\n"
     ]
    },
    {
     "data": {
      "text/plain": [
       "{'device': device(type='cuda', index=3), 'dtype': torch.float32}"
      ]
     },
     "execution_count": 3,
     "metadata": {},
     "output_type": "execute_result"
    }
   ],
   "source": [
    "with hydra.initialize(config_path=\"config\"):\n",
    "    cfg = hydra.compose(config_name='cfg', overrides=['attack=modern', 'case.model=resnet50', 'case/data=CIFAR10'])\n",
    "    print(f'Investigating use case {cfg.case.name} with server type {cfg.case.server.name}.')\n",
    "    print('Attack settings are:')\n",
    "    print(OmegaConf.to_yaml(cfg.attack))\n",
    "          \n",
    "device = torch.device(f'cuda:3') if torch.cuda.is_available() else torch.device('cpu')\n",
    "torch.backends.cudnn.benchmark = cfg.case.impl.benchmark\n",
    "setup = dict(device=device, dtype=getattr(torch, cfg.case.impl.dtype))\n",
    "setup"
   ]
  },
  {
   "cell_type": "markdown",
   "id": "203c5fb1",
   "metadata": {},
   "source": [
    "### Modify config options here"
   ]
  },
  {
   "cell_type": "markdown",
   "id": "6e0764ef",
   "metadata": {},
   "source": [
    "You can use `.attribute` access to modify any of these configurations:"
   ]
  },
  {
   "cell_type": "code",
   "execution_count": 23,
   "id": "ac118ea0",
   "metadata": {},
   "outputs": [],
   "source": [
    "# cfg.dryrun = False\n",
    "# cfg.attack.optim.step_size=1.0\n",
    "cfg.case.user.data_idx = 0\n",
    "cfg.case.model = 'resnet18'\n",
    "#cfg.case.server.model_state='moco'\n",
    "\n",
    "cfg.case.user.num_data_points = 4\n",
    "\n",
    "cfg.attack.restarts.num_trials=1\n",
    "cfg.attack.regularization.deep_inversion.scale=0.01\n",
    "cfg.attack.regularization.total_variation.scale=0.05\n",
    "cfg.attack.regularization.norm.scale=0.0\n",
    "cfg.attack.optim.langevin_noise=0.0"
   ]
  },
  {
   "cell_type": "markdown",
   "id": "76f64389",
   "metadata": {},
   "source": [
    "### Instantiate all parties"
   ]
  },
  {
   "cell_type": "code",
   "execution_count": 24,
   "id": "d3abd955",
   "metadata": {},
   "outputs": [
    {
     "name": "stdout",
     "output_type": "stream",
     "text": [
      "Files already downloaded and verified\n"
     ]
    }
   ],
   "source": [
    "user, server = breaching.cases.construct_case(cfg.case, setup)\n",
    "attacker = breaching.attacks.prepare_attack(server.model, server.loss, cfg.attack, setup)"
   ]
  },
  {
   "cell_type": "code",
   "execution_count": 25,
   "id": "8c7273d4",
   "metadata": {
    "scrolled": false
   },
   "outputs": [
    {
     "name": "stdout",
     "output_type": "stream",
     "text": [
      "User (of type UserSingleStep with settings:\n",
      "            number of local updates: 1\n",
      "            number of data points: 4\n",
      "            number of user queries 1\n",
      "\n",
      "            Threat model:\n",
      "            User provides labels: True\n",
      "            User provides number of data points: True\n",
      "\n",
      "            Model:\n",
      "            model specification: ResNet\n",
      "            loss function: CrossEntropyLoss()\n",
      "\n",
      "            Data:\n",
      "            Dataset: CIFAR10\n",
      "            data_idx: 0\n",
      "        \n",
      "<breaching.cases.servers.HonestServer object at 0x7fba306b9340>\n",
      "<breaching.attacks.optimization_based_attack.OptimizationBasedAttack object at 0x7fba30fb9250>\n"
     ]
    }
   ],
   "source": [
    "print(user)\n",
    "print(server)\n",
    "print(attacker)"
   ]
  },
  {
   "cell_type": "code",
   "execution_count": 26,
   "id": "a2c9cc24",
   "metadata": {},
   "outputs": [
    {
     "data": {
      "text/plain": [
       "'resnet18'"
      ]
     },
     "execution_count": 26,
     "metadata": {},
     "output_type": "execute_result"
    }
   ],
   "source": [
    "cfg.case.model"
   ]
  },
  {
   "cell_type": "code",
   "execution_count": 30,
   "id": "8a56ff4b",
   "metadata": {},
   "outputs": [
    {
     "data": {
      "text/plain": [
       "7.104213714599609"
      ]
     },
     "execution_count": 30,
     "metadata": {},
     "output_type": "execute_result"
    }
   ],
   "source": [
    "sum([p.numel() for p in user.model.parameters()]) / 3 / 32 / 32 / 512"
   ]
  },
  {
   "cell_type": "markdown",
   "id": "548c0ad6",
   "metadata": {},
   "source": [
    "### Simulate an attacked FL protocol"
   ]
  },
  {
   "cell_type": "code",
   "execution_count": 8,
   "id": "b693f8fb",
   "metadata": {},
   "outputs": [
    {
     "data": {
      "text/plain": [
       "[(0, 'stem.0.weight', torch.Size([64, 3, 3, 3])),\n",
       " (1, 'stem.1.weight', torch.Size([64])),\n",
       " (2, 'stem.1.bias', torch.Size([64])),\n",
       " (3, 'layers.0.0.conv1.weight', torch.Size([64, 64, 1, 1])),\n",
       " (4, 'layers.0.0.bn1.weight', torch.Size([64])),\n",
       " (5, 'layers.0.0.bn1.bias', torch.Size([64])),\n",
       " (6, 'layers.0.0.conv2.weight', torch.Size([64, 64, 3, 3])),\n",
       " (7, 'layers.0.0.bn2.weight', torch.Size([64])),\n",
       " (8, 'layers.0.0.bn2.bias', torch.Size([64])),\n",
       " (9, 'layers.0.0.conv3.weight', torch.Size([256, 64, 1, 1])),\n",
       " (10, 'layers.0.0.bn3.weight', torch.Size([256])),\n",
       " (11, 'layers.0.0.bn3.bias', torch.Size([256])),\n",
       " (12, 'layers.0.0.downsample.0.weight', torch.Size([256, 64, 1, 1])),\n",
       " (13, 'layers.0.0.downsample.1.weight', torch.Size([256])),\n",
       " (14, 'layers.0.0.downsample.1.bias', torch.Size([256])),\n",
       " (15, 'layers.0.1.conv1.weight', torch.Size([64, 256, 1, 1])),\n",
       " (16, 'layers.0.1.bn1.weight', torch.Size([64])),\n",
       " (17, 'layers.0.1.bn1.bias', torch.Size([64])),\n",
       " (18, 'layers.0.1.conv2.weight', torch.Size([64, 64, 3, 3])),\n",
       " (19, 'layers.0.1.bn2.weight', torch.Size([64])),\n",
       " (20, 'layers.0.1.bn2.bias', torch.Size([64])),\n",
       " (21, 'layers.0.1.conv3.weight', torch.Size([256, 64, 1, 1])),\n",
       " (22, 'layers.0.1.bn3.weight', torch.Size([256])),\n",
       " (23, 'layers.0.1.bn3.bias', torch.Size([256])),\n",
       " (24, 'layers.0.2.conv1.weight', torch.Size([64, 256, 1, 1])),\n",
       " (25, 'layers.0.2.bn1.weight', torch.Size([64])),\n",
       " (26, 'layers.0.2.bn1.bias', torch.Size([64])),\n",
       " (27, 'layers.0.2.conv2.weight', torch.Size([64, 64, 3, 3])),\n",
       " (28, 'layers.0.2.bn2.weight', torch.Size([64])),\n",
       " (29, 'layers.0.2.bn2.bias', torch.Size([64])),\n",
       " (30, 'layers.0.2.conv3.weight', torch.Size([256, 64, 1, 1])),\n",
       " (31, 'layers.0.2.bn3.weight', torch.Size([256])),\n",
       " (32, 'layers.0.2.bn3.bias', torch.Size([256])),\n",
       " (33, 'layers.1.0.conv1.weight', torch.Size([128, 256, 1, 1])),\n",
       " (34, 'layers.1.0.bn1.weight', torch.Size([128])),\n",
       " (35, 'layers.1.0.bn1.bias', torch.Size([128])),\n",
       " (36, 'layers.1.0.conv2.weight', torch.Size([128, 128, 3, 3])),\n",
       " (37, 'layers.1.0.bn2.weight', torch.Size([128])),\n",
       " (38, 'layers.1.0.bn2.bias', torch.Size([128])),\n",
       " (39, 'layers.1.0.conv3.weight', torch.Size([512, 128, 1, 1])),\n",
       " (40, 'layers.1.0.bn3.weight', torch.Size([512])),\n",
       " (41, 'layers.1.0.bn3.bias', torch.Size([512])),\n",
       " (42, 'layers.1.0.downsample.0.weight', torch.Size([512, 256, 1, 1])),\n",
       " (43, 'layers.1.0.downsample.1.weight', torch.Size([512])),\n",
       " (44, 'layers.1.0.downsample.1.bias', torch.Size([512])),\n",
       " (45, 'layers.1.1.conv1.weight', torch.Size([128, 512, 1, 1])),\n",
       " (46, 'layers.1.1.bn1.weight', torch.Size([128])),\n",
       " (47, 'layers.1.1.bn1.bias', torch.Size([128])),\n",
       " (48, 'layers.1.1.conv2.weight', torch.Size([128, 128, 3, 3])),\n",
       " (49, 'layers.1.1.bn2.weight', torch.Size([128])),\n",
       " (50, 'layers.1.1.bn2.bias', torch.Size([128])),\n",
       " (51, 'layers.1.1.conv3.weight', torch.Size([512, 128, 1, 1])),\n",
       " (52, 'layers.1.1.bn3.weight', torch.Size([512])),\n",
       " (53, 'layers.1.1.bn3.bias', torch.Size([512])),\n",
       " (54, 'layers.1.2.conv1.weight', torch.Size([128, 512, 1, 1])),\n",
       " (55, 'layers.1.2.bn1.weight', torch.Size([128])),\n",
       " (56, 'layers.1.2.bn1.bias', torch.Size([128])),\n",
       " (57, 'layers.1.2.conv2.weight', torch.Size([128, 128, 3, 3])),\n",
       " (58, 'layers.1.2.bn2.weight', torch.Size([128])),\n",
       " (59, 'layers.1.2.bn2.bias', torch.Size([128])),\n",
       " (60, 'layers.1.2.conv3.weight', torch.Size([512, 128, 1, 1])),\n",
       " (61, 'layers.1.2.bn3.weight', torch.Size([512])),\n",
       " (62, 'layers.1.2.bn3.bias', torch.Size([512])),\n",
       " (63, 'layers.1.3.conv1.weight', torch.Size([128, 512, 1, 1])),\n",
       " (64, 'layers.1.3.bn1.weight', torch.Size([128])),\n",
       " (65, 'layers.1.3.bn1.bias', torch.Size([128])),\n",
       " (66, 'layers.1.3.conv2.weight', torch.Size([128, 128, 3, 3])),\n",
       " (67, 'layers.1.3.bn2.weight', torch.Size([128])),\n",
       " (68, 'layers.1.3.bn2.bias', torch.Size([128])),\n",
       " (69, 'layers.1.3.conv3.weight', torch.Size([512, 128, 1, 1])),\n",
       " (70, 'layers.1.3.bn3.weight', torch.Size([512])),\n",
       " (71, 'layers.1.3.bn3.bias', torch.Size([512])),\n",
       " (72, 'layers.2.0.conv1.weight', torch.Size([256, 512, 1, 1])),\n",
       " (73, 'layers.2.0.bn1.weight', torch.Size([256])),\n",
       " (74, 'layers.2.0.bn1.bias', torch.Size([256])),\n",
       " (75, 'layers.2.0.conv2.weight', torch.Size([256, 256, 3, 3])),\n",
       " (76, 'layers.2.0.bn2.weight', torch.Size([256])),\n",
       " (77, 'layers.2.0.bn2.bias', torch.Size([256])),\n",
       " (78, 'layers.2.0.conv3.weight', torch.Size([1024, 256, 1, 1])),\n",
       " (79, 'layers.2.0.bn3.weight', torch.Size([1024])),\n",
       " (80, 'layers.2.0.bn3.bias', torch.Size([1024])),\n",
       " (81, 'layers.2.0.downsample.0.weight', torch.Size([1024, 512, 1, 1])),\n",
       " (82, 'layers.2.0.downsample.1.weight', torch.Size([1024])),\n",
       " (83, 'layers.2.0.downsample.1.bias', torch.Size([1024])),\n",
       " (84, 'layers.2.1.conv1.weight', torch.Size([256, 1024, 1, 1])),\n",
       " (85, 'layers.2.1.bn1.weight', torch.Size([256])),\n",
       " (86, 'layers.2.1.bn1.bias', torch.Size([256])),\n",
       " (87, 'layers.2.1.conv2.weight', torch.Size([256, 256, 3, 3])),\n",
       " (88, 'layers.2.1.bn2.weight', torch.Size([256])),\n",
       " (89, 'layers.2.1.bn2.bias', torch.Size([256])),\n",
       " (90, 'layers.2.1.conv3.weight', torch.Size([1024, 256, 1, 1])),\n",
       " (91, 'layers.2.1.bn3.weight', torch.Size([1024])),\n",
       " (92, 'layers.2.1.bn3.bias', torch.Size([1024])),\n",
       " (93, 'layers.2.2.conv1.weight', torch.Size([256, 1024, 1, 1])),\n",
       " (94, 'layers.2.2.bn1.weight', torch.Size([256])),\n",
       " (95, 'layers.2.2.bn1.bias', torch.Size([256])),\n",
       " (96, 'layers.2.2.conv2.weight', torch.Size([256, 256, 3, 3])),\n",
       " (97, 'layers.2.2.bn2.weight', torch.Size([256])),\n",
       " (98, 'layers.2.2.bn2.bias', torch.Size([256])),\n",
       " (99, 'layers.2.2.conv3.weight', torch.Size([1024, 256, 1, 1])),\n",
       " (100, 'layers.2.2.bn3.weight', torch.Size([1024])),\n",
       " (101, 'layers.2.2.bn3.bias', torch.Size([1024])),\n",
       " (102, 'layers.2.3.conv1.weight', torch.Size([256, 1024, 1, 1])),\n",
       " (103, 'layers.2.3.bn1.weight', torch.Size([256])),\n",
       " (104, 'layers.2.3.bn1.bias', torch.Size([256])),\n",
       " (105, 'layers.2.3.conv2.weight', torch.Size([256, 256, 3, 3])),\n",
       " (106, 'layers.2.3.bn2.weight', torch.Size([256])),\n",
       " (107, 'layers.2.3.bn2.bias', torch.Size([256])),\n",
       " (108, 'layers.2.3.conv3.weight', torch.Size([1024, 256, 1, 1])),\n",
       " (109, 'layers.2.3.bn3.weight', torch.Size([1024])),\n",
       " (110, 'layers.2.3.bn3.bias', torch.Size([1024])),\n",
       " (111, 'layers.2.4.conv1.weight', torch.Size([256, 1024, 1, 1])),\n",
       " (112, 'layers.2.4.bn1.weight', torch.Size([256])),\n",
       " (113, 'layers.2.4.bn1.bias', torch.Size([256])),\n",
       " (114, 'layers.2.4.conv2.weight', torch.Size([256, 256, 3, 3])),\n",
       " (115, 'layers.2.4.bn2.weight', torch.Size([256])),\n",
       " (116, 'layers.2.4.bn2.bias', torch.Size([256])),\n",
       " (117, 'layers.2.4.conv3.weight', torch.Size([1024, 256, 1, 1])),\n",
       " (118, 'layers.2.4.bn3.weight', torch.Size([1024])),\n",
       " (119, 'layers.2.4.bn3.bias', torch.Size([1024])),\n",
       " (120, 'layers.2.5.conv1.weight', torch.Size([256, 1024, 1, 1])),\n",
       " (121, 'layers.2.5.bn1.weight', torch.Size([256])),\n",
       " (122, 'layers.2.5.bn1.bias', torch.Size([256])),\n",
       " (123, 'layers.2.5.conv2.weight', torch.Size([256, 256, 3, 3])),\n",
       " (124, 'layers.2.5.bn2.weight', torch.Size([256])),\n",
       " (125, 'layers.2.5.bn2.bias', torch.Size([256])),\n",
       " (126, 'layers.2.5.conv3.weight', torch.Size([1024, 256, 1, 1])),\n",
       " (127, 'layers.2.5.bn3.weight', torch.Size([1024])),\n",
       " (128, 'layers.2.5.bn3.bias', torch.Size([1024])),\n",
       " (129, 'layers.3.0.conv1.weight', torch.Size([512, 1024, 1, 1])),\n",
       " (130, 'layers.3.0.bn1.weight', torch.Size([512])),\n",
       " (131, 'layers.3.0.bn1.bias', torch.Size([512])),\n",
       " (132, 'layers.3.0.conv2.weight', torch.Size([512, 512, 3, 3])),\n",
       " (133, 'layers.3.0.bn2.weight', torch.Size([512])),\n",
       " (134, 'layers.3.0.bn2.bias', torch.Size([512])),\n",
       " (135, 'layers.3.0.conv3.weight', torch.Size([2048, 512, 1, 1])),\n",
       " (136, 'layers.3.0.bn3.weight', torch.Size([2048])),\n",
       " (137, 'layers.3.0.bn3.bias', torch.Size([2048])),\n",
       " (138, 'layers.3.0.downsample.0.weight', torch.Size([2048, 1024, 1, 1])),\n",
       " (139, 'layers.3.0.downsample.1.weight', torch.Size([2048])),\n",
       " (140, 'layers.3.0.downsample.1.bias', torch.Size([2048])),\n",
       " (141, 'layers.3.1.conv1.weight', torch.Size([512, 2048, 1, 1])),\n",
       " (142, 'layers.3.1.bn1.weight', torch.Size([512])),\n",
       " (143, 'layers.3.1.bn1.bias', torch.Size([512])),\n",
       " (144, 'layers.3.1.conv2.weight', torch.Size([512, 512, 3, 3])),\n",
       " (145, 'layers.3.1.bn2.weight', torch.Size([512])),\n",
       " (146, 'layers.3.1.bn2.bias', torch.Size([512])),\n",
       " (147, 'layers.3.1.conv3.weight', torch.Size([2048, 512, 1, 1])),\n",
       " (148, 'layers.3.1.bn3.weight', torch.Size([2048])),\n",
       " (149, 'layers.3.1.bn3.bias', torch.Size([2048])),\n",
       " (150, 'layers.3.2.conv1.weight', torch.Size([512, 2048, 1, 1])),\n",
       " (151, 'layers.3.2.bn1.weight', torch.Size([512])),\n",
       " (152, 'layers.3.2.bn1.bias', torch.Size([512])),\n",
       " (153, 'layers.3.2.conv2.weight', torch.Size([512, 512, 3, 3])),\n",
       " (154, 'layers.3.2.bn2.weight', torch.Size([512])),\n",
       " (155, 'layers.3.2.bn2.bias', torch.Size([512])),\n",
       " (156, 'layers.3.2.conv3.weight', torch.Size([2048, 512, 1, 1])),\n",
       " (157, 'layers.3.2.bn3.weight', torch.Size([2048])),\n",
       " (158, 'layers.3.2.bn3.bias', torch.Size([2048])),\n",
       " (159, 'fc.weight', torch.Size([10, 2048])),\n",
       " (160, 'fc.bias', torch.Size([10]))]"
      ]
     },
     "execution_count": 8,
     "metadata": {},
     "output_type": "execute_result"
    }
   ],
   "source": [
    "[(idx, val[0], val[1].shape) for idx, val in enumerate(server.model.named_parameters())]"
   ]
  },
  {
   "cell_type": "code",
   "execution_count": 18,
   "id": "3a20c0fd",
   "metadata": {},
   "outputs": [],
   "source": [
    "def plot_map(feature_map):\n",
    "    min_val, max_val = feature_map.amin(dim=[2,3], keepdim=True), feature_map.amax(dim=[2,3], keepdim=True)\n",
    "    renorm_map = (feature_map - min_val) / (max_val - min_val)\n",
    "    plt.imshow(renorm_map[0, :3].permute(1, 2, 0).detach().cpu())"
   ]
  },
  {
   "cell_type": "code",
   "execution_count": 19,
   "id": "3a68c1c2",
   "metadata": {},
   "outputs": [],
   "source": [
    "with torch.no_grad():\n",
    "    for module in server.model.modules():\n",
    "        if isinstance(module, torch.nn.BatchNorm2d):\n",
    "            module.weight.data = module.running_var.data.clone()\n",
    "            module.bias.data = module.running_mean.data.clone() + 10\n",
    "        if isinstance(module, torch.nn.Conv2d):\n",
    "            torch.nn.init.zeros_(module.weight)\n",
    "    for name, module in server.model.named_modules():\n",
    "        if 'downsample.0' in name:\n",
    "            torch.nn.init.dirac_(module.weight)\n",
    "torch.nn.init.dirac_(server.model.stem[0].weight);"
   ]
  },
  {
   "cell_type": "code",
   "execution_count": 20,
   "id": "b0dbd868",
   "metadata": {},
   "outputs": [
    {
     "data": {
      "text/plain": [
       "{'stem.0': [torch.Size([4, 3, 32, 32]),\n",
       "  'Conv2d(3, 64, kernel_size=(3, 3), stride=(1, 1), padding=(1, 1), bias=False)'],\n",
       " 'layers.0.0.conv1': [torch.Size([4, 64, 32, 32]),\n",
       "  'Conv2d(64, 64, kernel_size=(1, 1), stride=(1, 1), bias=False)'],\n",
       " 'layers.0.0.conv2': [torch.Size([4, 64, 32, 32]),\n",
       "  'Conv2d(64, 64, kernel_size=(3, 3), stride=(1, 1), padding=(1, 1), bias=False)'],\n",
       " 'layers.0.0.conv3': [torch.Size([4, 64, 32, 32]),\n",
       "  'Conv2d(64, 256, kernel_size=(1, 1), stride=(1, 1), bias=False)'],\n",
       " 'layers.0.0.downsample.0': [torch.Size([4, 64, 32, 32]),\n",
       "  'Conv2d(64, 256, kernel_size=(1, 1), stride=(1, 1), bias=False)'],\n",
       " 'layers.0.1.conv1': [torch.Size([4, 256, 32, 32]),\n",
       "  'Conv2d(256, 64, kernel_size=(1, 1), stride=(1, 1), bias=False)'],\n",
       " 'layers.0.1.conv2': [torch.Size([4, 64, 32, 32]),\n",
       "  'Conv2d(64, 64, kernel_size=(3, 3), stride=(1, 1), padding=(1, 1), bias=False)'],\n",
       " 'layers.0.1.conv3': [torch.Size([4, 64, 32, 32]),\n",
       "  'Conv2d(64, 256, kernel_size=(1, 1), stride=(1, 1), bias=False)'],\n",
       " 'layers.0.2.conv1': [torch.Size([4, 256, 32, 32]),\n",
       "  'Conv2d(256, 64, kernel_size=(1, 1), stride=(1, 1), bias=False)'],\n",
       " 'layers.0.2.conv2': [torch.Size([4, 64, 32, 32]),\n",
       "  'Conv2d(64, 64, kernel_size=(3, 3), stride=(1, 1), padding=(1, 1), bias=False)'],\n",
       " 'layers.0.2.conv3': [torch.Size([4, 64, 32, 32]),\n",
       "  'Conv2d(64, 256, kernel_size=(1, 1), stride=(1, 1), bias=False)'],\n",
       " 'layers.1.0.conv1': [torch.Size([4, 256, 32, 32]),\n",
       "  'Conv2d(256, 128, kernel_size=(1, 1), stride=(1, 1), bias=False)'],\n",
       " 'layers.1.0.conv2': [torch.Size([4, 128, 32, 32]),\n",
       "  'Conv2d(128, 128, kernel_size=(3, 3), stride=(2, 2), padding=(1, 1), bias=False)'],\n",
       " 'layers.1.0.conv3': [torch.Size([4, 128, 16, 16]),\n",
       "  'Conv2d(128, 512, kernel_size=(1, 1), stride=(1, 1), bias=False)'],\n",
       " 'layers.1.0.downsample.0': [torch.Size([4, 256, 32, 32]),\n",
       "  'Conv2d(256, 512, kernel_size=(1, 1), stride=(2, 2), bias=False)'],\n",
       " 'layers.1.1.conv1': [torch.Size([4, 512, 16, 16]),\n",
       "  'Conv2d(512, 128, kernel_size=(1, 1), stride=(1, 1), bias=False)'],\n",
       " 'layers.1.1.conv2': [torch.Size([4, 128, 16, 16]),\n",
       "  'Conv2d(128, 128, kernel_size=(3, 3), stride=(1, 1), padding=(1, 1), bias=False)'],\n",
       " 'layers.1.1.conv3': [torch.Size([4, 128, 16, 16]),\n",
       "  'Conv2d(128, 512, kernel_size=(1, 1), stride=(1, 1), bias=False)'],\n",
       " 'layers.1.2.conv1': [torch.Size([4, 512, 16, 16]),\n",
       "  'Conv2d(512, 128, kernel_size=(1, 1), stride=(1, 1), bias=False)'],\n",
       " 'layers.1.2.conv2': [torch.Size([4, 128, 16, 16]),\n",
       "  'Conv2d(128, 128, kernel_size=(3, 3), stride=(1, 1), padding=(1, 1), bias=False)'],\n",
       " 'layers.1.2.conv3': [torch.Size([4, 128, 16, 16]),\n",
       "  'Conv2d(128, 512, kernel_size=(1, 1), stride=(1, 1), bias=False)'],\n",
       " 'layers.1.3.conv1': [torch.Size([4, 512, 16, 16]),\n",
       "  'Conv2d(512, 128, kernel_size=(1, 1), stride=(1, 1), bias=False)'],\n",
       " 'layers.1.3.conv2': [torch.Size([4, 128, 16, 16]),\n",
       "  'Conv2d(128, 128, kernel_size=(3, 3), stride=(1, 1), padding=(1, 1), bias=False)'],\n",
       " 'layers.1.3.conv3': [torch.Size([4, 128, 16, 16]),\n",
       "  'Conv2d(128, 512, kernel_size=(1, 1), stride=(1, 1), bias=False)'],\n",
       " 'layers.2.0.conv1': [torch.Size([4, 512, 16, 16]),\n",
       "  'Conv2d(512, 256, kernel_size=(1, 1), stride=(1, 1), bias=False)'],\n",
       " 'layers.2.0.conv2': [torch.Size([4, 256, 16, 16]),\n",
       "  'Conv2d(256, 256, kernel_size=(3, 3), stride=(2, 2), padding=(1, 1), bias=False)'],\n",
       " 'layers.2.0.conv3': [torch.Size([4, 256, 8, 8]),\n",
       "  'Conv2d(256, 1024, kernel_size=(1, 1), stride=(1, 1), bias=False)'],\n",
       " 'layers.2.0.downsample.0': [torch.Size([4, 512, 16, 16]),\n",
       "  'Conv2d(512, 1024, kernel_size=(1, 1), stride=(2, 2), bias=False)'],\n",
       " 'layers.2.1.conv1': [torch.Size([4, 1024, 8, 8]),\n",
       "  'Conv2d(1024, 256, kernel_size=(1, 1), stride=(1, 1), bias=False)'],\n",
       " 'layers.2.1.conv2': [torch.Size([4, 256, 8, 8]),\n",
       "  'Conv2d(256, 256, kernel_size=(3, 3), stride=(1, 1), padding=(1, 1), bias=False)'],\n",
       " 'layers.2.1.conv3': [torch.Size([4, 256, 8, 8]),\n",
       "  'Conv2d(256, 1024, kernel_size=(1, 1), stride=(1, 1), bias=False)'],\n",
       " 'layers.2.2.conv1': [torch.Size([4, 1024, 8, 8]),\n",
       "  'Conv2d(1024, 256, kernel_size=(1, 1), stride=(1, 1), bias=False)'],\n",
       " 'layers.2.2.conv2': [torch.Size([4, 256, 8, 8]),\n",
       "  'Conv2d(256, 256, kernel_size=(3, 3), stride=(1, 1), padding=(1, 1), bias=False)'],\n",
       " 'layers.2.2.conv3': [torch.Size([4, 256, 8, 8]),\n",
       "  'Conv2d(256, 1024, kernel_size=(1, 1), stride=(1, 1), bias=False)'],\n",
       " 'layers.2.3.conv1': [torch.Size([4, 1024, 8, 8]),\n",
       "  'Conv2d(1024, 256, kernel_size=(1, 1), stride=(1, 1), bias=False)'],\n",
       " 'layers.2.3.conv2': [torch.Size([4, 256, 8, 8]),\n",
       "  'Conv2d(256, 256, kernel_size=(3, 3), stride=(1, 1), padding=(1, 1), bias=False)'],\n",
       " 'layers.2.3.conv3': [torch.Size([4, 256, 8, 8]),\n",
       "  'Conv2d(256, 1024, kernel_size=(1, 1), stride=(1, 1), bias=False)'],\n",
       " 'layers.2.4.conv1': [torch.Size([4, 1024, 8, 8]),\n",
       "  'Conv2d(1024, 256, kernel_size=(1, 1), stride=(1, 1), bias=False)'],\n",
       " 'layers.2.4.conv2': [torch.Size([4, 256, 8, 8]),\n",
       "  'Conv2d(256, 256, kernel_size=(3, 3), stride=(1, 1), padding=(1, 1), bias=False)'],\n",
       " 'layers.2.4.conv3': [torch.Size([4, 256, 8, 8]),\n",
       "  'Conv2d(256, 1024, kernel_size=(1, 1), stride=(1, 1), bias=False)'],\n",
       " 'layers.2.5.conv1': [torch.Size([4, 1024, 8, 8]),\n",
       "  'Conv2d(1024, 256, kernel_size=(1, 1), stride=(1, 1), bias=False)'],\n",
       " 'layers.2.5.conv2': [torch.Size([4, 256, 8, 8]),\n",
       "  'Conv2d(256, 256, kernel_size=(3, 3), stride=(1, 1), padding=(1, 1), bias=False)'],\n",
       " 'layers.2.5.conv3': [torch.Size([4, 256, 8, 8]),\n",
       "  'Conv2d(256, 1024, kernel_size=(1, 1), stride=(1, 1), bias=False)'],\n",
       " 'layers.3.0.conv1': [torch.Size([4, 1024, 8, 8]),\n",
       "  'Conv2d(1024, 512, kernel_size=(1, 1), stride=(1, 1), bias=False)'],\n",
       " 'layers.3.0.conv2': [torch.Size([4, 512, 8, 8]),\n",
       "  'Conv2d(512, 512, kernel_size=(3, 3), stride=(2, 2), padding=(1, 1), bias=False)'],\n",
       " 'layers.3.0.conv3': [torch.Size([4, 512, 4, 4]),\n",
       "  'Conv2d(512, 2048, kernel_size=(1, 1), stride=(1, 1), bias=False)'],\n",
       " 'layers.3.0.downsample.0': [torch.Size([4, 1024, 8, 8]),\n",
       "  'Conv2d(1024, 2048, kernel_size=(1, 1), stride=(2, 2), bias=False)'],\n",
       " 'layers.3.1.conv1': [torch.Size([4, 2048, 4, 4]),\n",
       "  'Conv2d(2048, 512, kernel_size=(1, 1), stride=(1, 1), bias=False)'],\n",
       " 'layers.3.1.conv2': [torch.Size([4, 512, 4, 4]),\n",
       "  'Conv2d(512, 512, kernel_size=(3, 3), stride=(1, 1), padding=(1, 1), bias=False)'],\n",
       " 'layers.3.1.conv3': [torch.Size([4, 512, 4, 4]),\n",
       "  'Conv2d(512, 2048, kernel_size=(1, 1), stride=(1, 1), bias=False)'],\n",
       " 'layers.3.2.conv1': [torch.Size([4, 2048, 4, 4]),\n",
       "  'Conv2d(2048, 512, kernel_size=(1, 1), stride=(1, 1), bias=False)'],\n",
       " 'layers.3.2.conv2': [torch.Size([4, 512, 4, 4]),\n",
       "  'Conv2d(512, 512, kernel_size=(3, 3), stride=(1, 1), padding=(1, 1), bias=False)'],\n",
       " 'layers.3.2.conv3': [torch.Size([4, 512, 4, 4]),\n",
       "  'Conv2d(512, 2048, kernel_size=(1, 1), stride=(1, 1), bias=False)'],\n",
       " 'fc': [torch.Size([4, 2048]),\n",
       "  'Linear(in_features=2048, out_features=10, bias=True)']}"
      ]
     },
     "execution_count": 20,
     "metadata": {},
     "output_type": "execute_result"
    }
   ],
   "source": [
    "feature_shapes = dict()\n",
    "features = dict()\n",
    "def named_hook(name):\n",
    "    def hook_fn(module, input, output):\n",
    "        feature_shapes[name] = [input[0].shape, str(module)]\n",
    "        features[name] = input[0]\n",
    "    return hook_fn\n",
    "\n",
    "hooks_list = []\n",
    "for name, module in user.model.named_modules():\n",
    "    if isinstance(module, (torch.nn.Conv2d, torch.nn.Linear)):\n",
    "        hooks_list.append(module.register_forward_hook(named_hook(name)))\n",
    "        \n",
    "server_payload = server.distribute_payload()\n",
    "shared_data, true_user_data = user.compute_local_updates(server_payload)  \n",
    "# True user data is returned only for analysis\n",
    "[h.remove() for h in hooks_list];\n",
    "\n",
    "feature_shapes"
   ]
  },
  {
   "cell_type": "code",
   "execution_count": 22,
   "id": "62837de5",
   "metadata": {},
   "outputs": [
    {
     "name": "stdout",
     "output_type": "stream",
     "text": [
      "[torch.Size([4, 256, 32, 32]), 'Conv2d(256, 128, kernel_size=(1, 1), stride=(1, 1), bias=False)']\n"
     ]
    },
    {
     "data": {
      "image/png": "[encoded data removed]",
      "text/plain": [
       "<Figure size 432x288 with 1 Axes>"
      ]
     },
     "metadata": {
      "needs_background": "light"
     },
     "output_type": "display_data"
    }
   ],
   "source": [
    "idx = 'layers.1.0.conv1'\n",
    "plot_map(features[idx])\n",
    "print(feature_shapes[idx])"
   ]
  },
  {
   "cell_type": "code",
   "execution_count": 31,
   "id": "49c68628",
   "metadata": {},
   "outputs": [
    {
     "name": "stdout",
     "output_type": "stream",
     "text": [
      "['cat', 'airplane', 'horse', 'frog']\n"
     ]
    },
    {
     "data": {
      "image/png": "[encoded data removed]",
      "text/plain": [
       "<Figure size 432x432 with 4 Axes>"
      ]
     },
     "metadata": {
      "needs_background": "light"
     },
     "output_type": "display_data"
    }
   ],
   "source": [
    "user.plot(true_user_data)"
   ]
  },
  {
   "cell_type": "markdown",
   "id": "17255c5a",
   "metadata": {},
   "source": [
    "### Reconstruct user data [via optimization]:"
   ]
  },
  {
   "cell_type": "code",
   "execution_count": null,
   "id": "8a2f0092",
   "metadata": {},
   "outputs": [],
   "source": [
    "reconstructed_user_data, stats = attacker.reconstruct(server_payload, shared_data, \n",
    "                                                      server.secrets, dryrun=cfg.dryrun)\n",
    "\n",
    "# How good is the reconstruction?\n",
    "metrics = breaching.analysis.report(reconstructed_user_data, \n",
    "                                    true_user_data, server_payload, server.model, setup)"
   ]
  },
  {
   "cell_type": "code",
   "execution_count": null,
   "id": "631f4a84",
   "metadata": {},
   "outputs": [],
   "source": [
    "user.plot(reconstructed_user_data)"
   ]
  },
  {
   "cell_type": "code",
   "execution_count": null,
   "id": "6a1c2166",
   "metadata": {},
   "outputs": [],
   "source": [
    "attacker.regularizers"
   ]
  },
  {
   "cell_type": "code",
   "execution_count": null,
   "id": "1460f0da",
   "metadata": {},
   "outputs": [],
   "source": [
    "user.plot(reconstructed_user_data)"
   ]
  },
  {
   "cell_type": "code",
   "execution_count": null,
   "id": "20bc289f",
   "metadata": {},
   "outputs": [],
   "source": []
  }
 ],
 "metadata": {
  "kernelspec": {
   "display_name": "Python 3 (ipykernel)",
   "language": "python",
   "name": "python3"
  },
  "language_info": {
   "codemirror_mode": {
    "name": "ipython",
    "version": 3
   },
   "file_extension": ".py",
   "mimetype": "text/x-python",
   "name": "python",
   "nbconvert_exporter": "python",
   "pygments_lexer": "ipython3",
   "version": "3.9.7"
  }
 },
 "nbformat": 4,
 "nbformat_minor": 5
}
