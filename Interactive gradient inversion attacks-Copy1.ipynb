{
 "cells": [
  {
   "cell_type": "markdown",
   "id": "3ebef44a",
   "metadata": {},
   "source": [
    "# Breaching privacy - test parameter modifications"
   ]
  },
  {
   "cell_type": "markdown",
   "id": "a756fc5f",
   "metadata": {},
   "source": [
    "This notebook does the same job as the cmd-line tool `breach.py`, but also directly visualizes the user data and reconstruction"
   ]
  },
  {
   "cell_type": "code",
   "execution_count": null,
   "id": "b850eabf",
   "metadata": {},
   "outputs": [],
   "source": [
    "import torch\n",
    "import hydra\n",
    "from omegaconf import OmegaConf\n",
    "%load_ext autoreload\n",
    "%autoreload 2\n",
    "\n",
    "import breaching"
   ]
  },
  {
   "cell_type": "code",
   "execution_count": null,
   "id": "d26275c2",
   "metadata": {},
   "outputs": [],
   "source": [
    "import matplotlib.pyplot as plt "
   ]
  },
  {
   "cell_type": "markdown",
   "id": "88d5e214",
   "metadata": {},
   "source": [
    "### Initialize cfg object and system setup:"
   ]
  },
  {
   "cell_type": "markdown",
   "id": "56bd663b",
   "metadata": {},
   "source": [
    "This will print out all configuration options. \n",
    "There are a lot of possible configurations, but there is usually no need to worry about most of these. Below, a few options are printed."
   ]
  },
  {
   "cell_type": "code",
   "execution_count": null,
   "id": "a7dc3a48",
   "metadata": {},
   "outputs": [],
   "source": [
    "with hydra.initialize(config_path=\"config\"):\n",
    "    cfg = hydra.compose(config_name='cfg', overrides=['attack=modern', 'case.model=resnet18', 'case/data=CIFAR10'])\n",
    "    print(f'Investigating use case {cfg.case.name} with server type {cfg.case.server.name}.')\n",
    "    print('Attack settings are:')\n",
    "    print(OmegaConf.to_yaml(cfg.attack))\n",
    "          \n",
    "device = torch.device(f'cuda') if torch.cuda.is_available() else torch.device('cpu')\n",
    "torch.backends.cudnn.benchmark = cfg.case.impl.benchmark\n",
    "setup = dict(device=device, dtype=getattr(torch, cfg.case.impl.dtype))\n",
    "setup"
   ]
  },
  {
   "cell_type": "markdown",
   "id": "203c5fb1",
   "metadata": {},
   "source": [
    "### Modify config options here"
   ]
  },
  {
   "cell_type": "markdown",
   "id": "6e0764ef",
   "metadata": {},
   "source": [
    "You can use `.attribute` access to modify any of these configurations:"
   ]
  },
  {
   "cell_type": "code",
   "execution_count": null,
   "id": "ac118ea0",
   "metadata": {},
   "outputs": [],
   "source": [
    "# cfg.dryrun = False\n",
    "# cfg.attack.optim.step_size=1.0\n",
    "cfg.case.user.data_idx = 0\n",
    "cfg.case.model = 'resnet50'\n",
    "#cfg.case.server.model_state='moco'\n",
    "\n",
    "cfg.attack.restarts.num_trials=1\n",
    "cfg.attack.regularization.deep_inversion.scale=0.01\n",
    "cfg.attack.regularization.total_variation.scale=0.05\n",
    "cfg.attack.regularization.norm.scale=0.0\n",
    "cfg.attack.optim.langevin_noise=0.0"
   ]
  },
  {
   "cell_type": "markdown",
   "id": "76f64389",
   "metadata": {},
   "source": [
    "### Instantiate all parties"
   ]
  },
  {
   "cell_type": "code",
   "execution_count": null,
   "id": "d3abd955",
   "metadata": {},
   "outputs": [],
   "source": [
    "user, server = breaching.cases.construct_case(cfg.case, setup)\n",
    "attacker = breaching.attacks.prepare_attack(server.model, server.loss, cfg.attack, setup)"
   ]
  },
  {
   "cell_type": "code",
   "execution_count": null,
   "id": "8c7273d4",
   "metadata": {
    "scrolled": false
   },
   "outputs": [],
   "source": [
    "print(user)\n",
    "print(server)\n",
    "print(attacker)"
   ]
  },
  {
   "cell_type": "markdown",
   "id": "548c0ad6",
   "metadata": {},
   "source": [
    "### Simulate an attacked FL protocol"
   ]
  },
  {
   "cell_type": "code",
   "execution_count": null,
   "id": "b693f8fb",
   "metadata": {},
   "outputs": [],
   "source": [
    "[(idx, val[0], val[1].shape) for idx, val in enumerate(server.model.named_parameters())]"
   ]
  },
  {
   "cell_type": "code",
   "execution_count": null,
   "id": "ea2c4bb0",
   "metadata": {},
   "outputs": [],
   "source": [
    "layers.1.0.conv1"
   ]
  },
  {
   "cell_type": "code",
   "execution_count": null,
   "id": "3a20c0fd",
   "metadata": {},
   "outputs": [],
   "source": [
    "def plot_map(feature_map):\n",
    "    min_val, max_val = feature_map.amin(dim=[2,3], keepdim=True), feature_map.amax(dim=[2,3], keepdim=True)\n",
    "    renorm_map = (feature_map - min_val) / (max_val - min_val)\n",
    "    plt.imshow(renorm_map[0, :3].permute(1, 2, 0).detach().cpu())"
   ]
  },
  {
   "cell_type": "code",
   "execution_count": null,
   "id": "3a68c1c2",
   "metadata": {},
   "outputs": [],
   "source": [
    "with torch.no_grad():\n",
    "    for module in server.model.modules():\n",
    "        if isinstance(module, torch.nn.BatchNorm2d):\n",
    "            module.weight.data = module.running_var.data.clone()\n",
    "            module.bias.data = module.running_mean.data.clone() + 10\n",
    "        if isinstance(module, torch.nn.Conv2d):\n",
    "            torch.nn.init.zeros_(module.weight)\n",
    "    for name, module in server.model.named_modules():\n",
    "        if 'downsample.0' in name:\n",
    "            torch.nn.init.dirac_(module.weight)\n",
    "torch.nn.init.dirac_(server.model.stem[0].weight);"
   ]
  },
  {
   "cell_type": "code",
   "execution_count": null,
   "id": "b0dbd868",
   "metadata": {},
   "outputs": [],
   "source": [
    "feature_shapes = dict()\n",
    "features = dict()\n",
    "def named_hook(name):\n",
    "    def hook_fn(module, input, output):\n",
    "        feature_shapes[name] = [input[0].shape, str(module)]\n",
    "        features[name] = input[0]\n",
    "    return hook_fn\n",
    "\n",
    "hooks_list = []\n",
    "for name, module in user.model.named_modules():\n",
    "    if isinstance(module, (torch.nn.Conv2d, torch.nn.Linear)):\n",
    "        hooks_list.append(module.register_forward_hook(named_hook(name)))\n",
    "        \n",
    "server_payload = server.distribute_payload()\n",
    "shared_data, true_user_data = user.compute_local_updates(server_payload)  \n",
    "# True user data is returned only for analysis\n",
    "[h.remove() for h in hooks_list];\n",
    "\n",
    "feature_shapes"
   ]
  },
  {
   "cell_type": "code",
   "execution_count": null,
   "id": "62837de5",
   "metadata": {},
   "outputs": [],
   "source": [
    "idx = 'layers.1.0.conv1'\n",
    "plot_map(features[idx])\n",
    "print(feature_shapes[idx])"
   ]
  },
  {
   "cell_type": "code",
   "execution_count": null,
   "id": "49c68628",
   "metadata": {},
   "outputs": [],
   "source": [
    "user.plot(true_user_data)"
   ]
  },
  {
   "cell_type": "markdown",
   "id": "17255c5a",
   "metadata": {},
   "source": [
    "### Reconstruct user data [via optimization]:"
   ]
  },
  {
   "cell_type": "code",
   "execution_count": null,
   "id": "8a2f0092",
   "metadata": {},
   "outputs": [],
   "source": [
    "reconstructed_user_data, stats = attacker.reconstruct(server_payload, shared_data, \n",
    "                                                      server.secrets, dryrun=cfg.dryrun)\n",
    "\n",
    "# How good is the reconstruction?\n",
    "metrics = breaching.analysis.report(reconstructed_user_data, \n",
    "                                    true_user_data, server_payload, server.model, setup)"
   ]
  },
  {
   "cell_type": "code",
   "execution_count": null,
   "id": "631f4a84",
   "metadata": {},
   "outputs": [],
   "source": [
    "user.plot(reconstructed_user_data)"
   ]
  },
  {
   "cell_type": "code",
   "execution_count": null,
   "id": "6a1c2166",
   "metadata": {},
   "outputs": [],
   "source": [
    "attacker.regularizers"
   ]
  },
  {
   "cell_type": "code",
   "execution_count": null,
   "id": "1460f0da",
   "metadata": {},
   "outputs": [],
   "source": [
    "user.plot(reconstructed_user_data)"
   ]
  },
  {
   "cell_type": "code",
   "execution_count": null,
   "id": "20bc289f",
   "metadata": {},
   "outputs": [],
   "source": []
  }
 ],
 "metadata": {
  "kernelspec": {
   "display_name": "Python 3",
   "language": "python",
   "name": "python3"
  },
  "language_info": {
   "codemirror_mode": {
    "name": "ipython",
    "version": 3
   },
   "file_extension": ".py",
   "mimetype": "text/x-python",
   "name": "python",
   "nbconvert_exporter": "python",
   "pygments_lexer": "ipython3",
   "version": "3.8.10"
  }
 },
 "nbformat": 4,
 "nbformat_minor": 5
}
